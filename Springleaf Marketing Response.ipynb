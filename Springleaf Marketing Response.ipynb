{
 "cells": [
  {
   "cell_type": "code",
   "execution_count": 1,
   "metadata": {},
   "outputs": [],
   "source": [
    "\n",
    "import numpy as np\n",
    "import pandas as pd\n",
    "\n",
    "\n",
    "from sklearn.preprocessing import OneHotEncoder as onehot\n",
    "\n",
    "from sklearn.preprocessing import StandardScaler\n",
    "\n",
    "from sklearn.preprocessing import LabelEncoder\n",
    "\n",
    "from sklearn.model_selection import train_test_split\n",
    "\n",
    "from IPython.core.interactiveshell import InteractiveShell\n",
    "InteractiveShell.ast_node_interactivity = \"all\"\n",
    "\n",
    "import warnings\n",
    "warnings.filterwarnings(\"ignore\")\n",
    "\n",
    "import matplotlib.pyplot as plt\n",
    "import seaborn as sns"
   ]
  },
  {
   "cell_type": "code",
   "execution_count": 2,
   "metadata": {},
   "outputs": [],
   "source": [
    "df_train = pd.read_csv(\"springleaf-marketing-response/train.csv.zip\")"
   ]
  },
  {
   "cell_type": "code",
   "execution_count": 77,
   "metadata": {},
   "outputs": [],
   "source": [
    "df_traincp = df_train.copy()"
   ]
  },
  {
   "cell_type": "code",
   "execution_count": null,
   "metadata": {},
   "outputs": [],
   "source": [
    "df_traincp.shape\n",
    "print()\n",
    "df_traincp.head()\n",
    "print()\n",
    "df_traincp.dtypes.value_counts()\n",
    "print()\n",
    "df_traincp.describe()\n",
    "print()\n",
    "df_traincp.info()"
   ]
  },
  {
   "cell_type": "code",
   "execution_count": 48,
   "metadata": {},
   "outputs": [],
   "source": [
    "df_traincp.drop('ID', axis = 'columns', inplace=True)"
   ]
  },
  {
   "cell_type": "code",
   "execution_count": 67,
   "metadata": {},
   "outputs": [
    {
     "data": {
      "text/plain": [
       "0    111458\n",
       "1     33773\n",
       "Name: target, dtype: int64"
      ]
     },
     "execution_count": 67,
     "metadata": {},
     "output_type": "execute_result"
    }
   ],
   "source": [
    "df_traincp['target'].value_counts()"
   ]
  },
  {
   "cell_type": "code",
   "execution_count": 72,
   "metadata": {},
   "outputs": [
    {
     "data": {
      "text/html": [
       "<div>\n",
       "<style scoped>\n",
       "    .dataframe tbody tr th:only-of-type {\n",
       "        vertical-align: middle;\n",
       "    }\n",
       "\n",
       "    .dataframe tbody tr th {\n",
       "        vertical-align: top;\n",
       "    }\n",
       "\n",
       "    .dataframe thead th {\n",
       "        text-align: right;\n",
       "    }\n",
       "</style>\n",
       "<table border=\"1\" class=\"dataframe\">\n",
       "  <thead>\n",
       "    <tr style=\"text-align: right;\">\n",
       "      <th></th>\n",
       "      <th>ID</th>\n",
       "      <th>VAR_0001</th>\n",
       "      <th>VAR_0002</th>\n",
       "      <th>VAR_0003</th>\n",
       "      <th>VAR_0004</th>\n",
       "      <th>VAR_0005</th>\n",
       "      <th>VAR_0006</th>\n",
       "      <th>VAR_0007</th>\n",
       "      <th>VAR_0008</th>\n",
       "      <th>VAR_0009</th>\n",
       "      <th>...</th>\n",
       "      <th>VAR_1926</th>\n",
       "      <th>VAR_1927</th>\n",
       "      <th>VAR_1928</th>\n",
       "      <th>VAR_1929</th>\n",
       "      <th>VAR_1930</th>\n",
       "      <th>VAR_1931</th>\n",
       "      <th>VAR_1932</th>\n",
       "      <th>VAR_1933</th>\n",
       "      <th>VAR_1934</th>\n",
       "      <th>target</th>\n",
       "    </tr>\n",
       "  </thead>\n",
       "  <tbody>\n",
       "    <tr>\n",
       "      <th>0</th>\n",
       "      <td>2</td>\n",
       "      <td>H</td>\n",
       "      <td>224</td>\n",
       "      <td>0</td>\n",
       "      <td>4300</td>\n",
       "      <td>C</td>\n",
       "      <td>0.0</td>\n",
       "      <td>0.0</td>\n",
       "      <td>False</td>\n",
       "      <td>False</td>\n",
       "      <td>...</td>\n",
       "      <td>98</td>\n",
       "      <td>98</td>\n",
       "      <td>998</td>\n",
       "      <td>999999998</td>\n",
       "      <td>998</td>\n",
       "      <td>998</td>\n",
       "      <td>9998</td>\n",
       "      <td>9998</td>\n",
       "      <td>IAPS</td>\n",
       "      <td>0</td>\n",
       "    </tr>\n",
       "    <tr>\n",
       "      <th>1</th>\n",
       "      <td>4</td>\n",
       "      <td>H</td>\n",
       "      <td>7</td>\n",
       "      <td>53</td>\n",
       "      <td>4448</td>\n",
       "      <td>B</td>\n",
       "      <td>1.0</td>\n",
       "      <td>0.0</td>\n",
       "      <td>False</td>\n",
       "      <td>False</td>\n",
       "      <td>...</td>\n",
       "      <td>98</td>\n",
       "      <td>98</td>\n",
       "      <td>998</td>\n",
       "      <td>999999998</td>\n",
       "      <td>998</td>\n",
       "      <td>998</td>\n",
       "      <td>9998</td>\n",
       "      <td>9998</td>\n",
       "      <td>IAPS</td>\n",
       "      <td>0</td>\n",
       "    </tr>\n",
       "    <tr>\n",
       "      <th>2</th>\n",
       "      <td>5</td>\n",
       "      <td>H</td>\n",
       "      <td>116</td>\n",
       "      <td>3</td>\n",
       "      <td>3464</td>\n",
       "      <td>C</td>\n",
       "      <td>0.0</td>\n",
       "      <td>0.0</td>\n",
       "      <td>False</td>\n",
       "      <td>False</td>\n",
       "      <td>...</td>\n",
       "      <td>98</td>\n",
       "      <td>98</td>\n",
       "      <td>998</td>\n",
       "      <td>999999998</td>\n",
       "      <td>998</td>\n",
       "      <td>998</td>\n",
       "      <td>9998</td>\n",
       "      <td>9998</td>\n",
       "      <td>IAPS</td>\n",
       "      <td>0</td>\n",
       "    </tr>\n",
       "    <tr>\n",
       "      <th>3</th>\n",
       "      <td>7</td>\n",
       "      <td>H</td>\n",
       "      <td>240</td>\n",
       "      <td>300</td>\n",
       "      <td>3200</td>\n",
       "      <td>C</td>\n",
       "      <td>0.0</td>\n",
       "      <td>0.0</td>\n",
       "      <td>False</td>\n",
       "      <td>False</td>\n",
       "      <td>...</td>\n",
       "      <td>98</td>\n",
       "      <td>98</td>\n",
       "      <td>998</td>\n",
       "      <td>999999998</td>\n",
       "      <td>998</td>\n",
       "      <td>998</td>\n",
       "      <td>9998</td>\n",
       "      <td>9998</td>\n",
       "      <td>RCC</td>\n",
       "      <td>0</td>\n",
       "    </tr>\n",
       "    <tr>\n",
       "      <th>4</th>\n",
       "      <td>8</td>\n",
       "      <td>R</td>\n",
       "      <td>72</td>\n",
       "      <td>261</td>\n",
       "      <td>2000</td>\n",
       "      <td>N</td>\n",
       "      <td>0.0</td>\n",
       "      <td>0.0</td>\n",
       "      <td>False</td>\n",
       "      <td>False</td>\n",
       "      <td>...</td>\n",
       "      <td>98</td>\n",
       "      <td>98</td>\n",
       "      <td>998</td>\n",
       "      <td>999999998</td>\n",
       "      <td>998</td>\n",
       "      <td>998</td>\n",
       "      <td>9998</td>\n",
       "      <td>9998</td>\n",
       "      <td>BRANCH</td>\n",
       "      <td>1</td>\n",
       "    </tr>\n",
       "    <tr>\n",
       "      <th>...</th>\n",
       "      <td>...</td>\n",
       "      <td>...</td>\n",
       "      <td>...</td>\n",
       "      <td>...</td>\n",
       "      <td>...</td>\n",
       "      <td>...</td>\n",
       "      <td>...</td>\n",
       "      <td>...</td>\n",
       "      <td>...</td>\n",
       "      <td>...</td>\n",
       "      <td>...</td>\n",
       "      <td>...</td>\n",
       "      <td>...</td>\n",
       "      <td>...</td>\n",
       "      <td>...</td>\n",
       "      <td>...</td>\n",
       "      <td>...</td>\n",
       "      <td>...</td>\n",
       "      <td>...</td>\n",
       "      <td>...</td>\n",
       "      <td>...</td>\n",
       "    </tr>\n",
       "    <tr>\n",
       "      <th>145226</th>\n",
       "      <td>290457</td>\n",
       "      <td>H</td>\n",
       "      <td>276</td>\n",
       "      <td>144</td>\n",
       "      <td>3000</td>\n",
       "      <td>C</td>\n",
       "      <td>2.0</td>\n",
       "      <td>3.0</td>\n",
       "      <td>False</td>\n",
       "      <td>False</td>\n",
       "      <td>...</td>\n",
       "      <td>98</td>\n",
       "      <td>98</td>\n",
       "      <td>998</td>\n",
       "      <td>999999998</td>\n",
       "      <td>998</td>\n",
       "      <td>998</td>\n",
       "      <td>9998</td>\n",
       "      <td>9998</td>\n",
       "      <td>BRANCH</td>\n",
       "      <td>0</td>\n",
       "    </tr>\n",
       "    <tr>\n",
       "      <th>145227</th>\n",
       "      <td>290458</td>\n",
       "      <td>R</td>\n",
       "      <td>39</td>\n",
       "      <td>414</td>\n",
       "      <td>2821</td>\n",
       "      <td>C</td>\n",
       "      <td>3.0</td>\n",
       "      <td>1.0</td>\n",
       "      <td>False</td>\n",
       "      <td>False</td>\n",
       "      <td>...</td>\n",
       "      <td>98</td>\n",
       "      <td>98</td>\n",
       "      <td>998</td>\n",
       "      <td>999999998</td>\n",
       "      <td>998</td>\n",
       "      <td>998</td>\n",
       "      <td>9998</td>\n",
       "      <td>9998</td>\n",
       "      <td>IAPS</td>\n",
       "      <td>0</td>\n",
       "    </tr>\n",
       "    <tr>\n",
       "      <th>145228</th>\n",
       "      <td>290459</td>\n",
       "      <td>R</td>\n",
       "      <td>103</td>\n",
       "      <td>31</td>\n",
       "      <td>2604</td>\n",
       "      <td>B</td>\n",
       "      <td>1.0</td>\n",
       "      <td>1.0</td>\n",
       "      <td>False</td>\n",
       "      <td>False</td>\n",
       "      <td>...</td>\n",
       "      <td>98</td>\n",
       "      <td>98</td>\n",
       "      <td>998</td>\n",
       "      <td>999999998</td>\n",
       "      <td>998</td>\n",
       "      <td>998</td>\n",
       "      <td>9998</td>\n",
       "      <td>9998</td>\n",
       "      <td>BRANCH</td>\n",
       "      <td>0</td>\n",
       "    </tr>\n",
       "    <tr>\n",
       "      <th>145229</th>\n",
       "      <td>290461</td>\n",
       "      <td>H</td>\n",
       "      <td>78</td>\n",
       "      <td>12</td>\n",
       "      <td>4325</td>\n",
       "      <td>C</td>\n",
       "      <td>0.0</td>\n",
       "      <td>0.0</td>\n",
       "      <td>False</td>\n",
       "      <td>False</td>\n",
       "      <td>...</td>\n",
       "      <td>98</td>\n",
       "      <td>98</td>\n",
       "      <td>998</td>\n",
       "      <td>999999998</td>\n",
       "      <td>998</td>\n",
       "      <td>998</td>\n",
       "      <td>9998</td>\n",
       "      <td>9998</td>\n",
       "      <td>IAPS</td>\n",
       "      <td>1</td>\n",
       "    </tr>\n",
       "    <tr>\n",
       "      <th>145230</th>\n",
       "      <td>290463</td>\n",
       "      <td>H</td>\n",
       "      <td>228</td>\n",
       "      <td>120</td>\n",
       "      <td>18500</td>\n",
       "      <td>B</td>\n",
       "      <td>0.0</td>\n",
       "      <td>0.0</td>\n",
       "      <td>False</td>\n",
       "      <td>False</td>\n",
       "      <td>...</td>\n",
       "      <td>98</td>\n",
       "      <td>98</td>\n",
       "      <td>998</td>\n",
       "      <td>999999998</td>\n",
       "      <td>998</td>\n",
       "      <td>998</td>\n",
       "      <td>9998</td>\n",
       "      <td>9998</td>\n",
       "      <td>IAPS</td>\n",
       "      <td>0</td>\n",
       "    </tr>\n",
       "  </tbody>\n",
       "</table>\n",
       "<p>145231 rows × 1934 columns</p>\n",
       "</div>"
      ],
      "text/plain": [
       "            ID VAR_0001  VAR_0002  VAR_0003  VAR_0004 VAR_0005  VAR_0006  \\\n",
       "0            2        H       224         0      4300        C       0.0   \n",
       "1            4        H         7        53      4448        B       1.0   \n",
       "2            5        H       116         3      3464        C       0.0   \n",
       "3            7        H       240       300      3200        C       0.0   \n",
       "4            8        R        72       261      2000        N       0.0   \n",
       "...        ...      ...       ...       ...       ...      ...       ...   \n",
       "145226  290457        H       276       144      3000        C       2.0   \n",
       "145227  290458        R        39       414      2821        C       3.0   \n",
       "145228  290459        R       103        31      2604        B       1.0   \n",
       "145229  290461        H        78        12      4325        C       0.0   \n",
       "145230  290463        H       228       120     18500        B       0.0   \n",
       "\n",
       "        VAR_0007 VAR_0008 VAR_0009  ... VAR_1926 VAR_1927 VAR_1928   VAR_1929  \\\n",
       "0            0.0    False    False  ...       98       98      998  999999998   \n",
       "1            0.0    False    False  ...       98       98      998  999999998   \n",
       "2            0.0    False    False  ...       98       98      998  999999998   \n",
       "3            0.0    False    False  ...       98       98      998  999999998   \n",
       "4            0.0    False    False  ...       98       98      998  999999998   \n",
       "...          ...      ...      ...  ...      ...      ...      ...        ...   \n",
       "145226       3.0    False    False  ...       98       98      998  999999998   \n",
       "145227       1.0    False    False  ...       98       98      998  999999998   \n",
       "145228       1.0    False    False  ...       98       98      998  999999998   \n",
       "145229       0.0    False    False  ...       98       98      998  999999998   \n",
       "145230       0.0    False    False  ...       98       98      998  999999998   \n",
       "\n",
       "        VAR_1930  VAR_1931  VAR_1932  VAR_1933  VAR_1934  target  \n",
       "0            998       998      9998      9998      IAPS       0  \n",
       "1            998       998      9998      9998      IAPS       0  \n",
       "2            998       998      9998      9998      IAPS       0  \n",
       "3            998       998      9998      9998       RCC       0  \n",
       "4            998       998      9998      9998    BRANCH       1  \n",
       "...          ...       ...       ...       ...       ...     ...  \n",
       "145226       998       998      9998      9998    BRANCH       0  \n",
       "145227       998       998      9998      9998      IAPS       0  \n",
       "145228       998       998      9998      9998    BRANCH       0  \n",
       "145229       998       998      9998      9998      IAPS       1  \n",
       "145230       998       998      9998      9998      IAPS       0  \n",
       "\n",
       "[145231 rows x 1934 columns]"
      ]
     },
     "execution_count": 72,
     "metadata": {},
     "output_type": "execute_result"
    }
   ],
   "source": [
    "df_traincp.replace([np.inf, -np.inf], np.nan)"
   ]
  },
  {
   "cell_type": "code",
   "execution_count": 75,
   "metadata": {},
   "outputs": [
    {
     "data": {
      "text/plain": [
       "(145231, 1934)"
      ]
     },
     "execution_count": 75,
     "metadata": {},
     "output_type": "execute_result"
    }
   ],
   "source": [
    "df_train.shape"
   ]
  },
  {
   "cell_type": "code",
   "execution_count": 73,
   "metadata": {},
   "outputs": [
    {
     "name": "stdout",
     "output_type": "stream",
     "text": [
      "--Current memory usage (MB) --\n",
      "\n"
     ]
    },
    {
     "data": {
      "text/plain": [
       "2247.01416"
      ]
     },
     "execution_count": 73,
     "metadata": {},
     "output_type": "execute_result"
    }
   ],
   "source": [
    "print(\"--Current memory usage (MB) --\\n\")\n",
    "df_traincp.memory_usage().sum()/1000000"
   ]
  },
  {
   "cell_type": "code",
   "execution_count": 76,
   "metadata": {},
   "outputs": [
    {
     "name": "stdout",
     "output_type": "stream",
     "text": [
      "int: ID\n",
      "int: VAR_0002\n",
      "int: VAR_0003\n",
      "int: VAR_0004\n",
      "float: VAR_0006\n"
     ]
    },
    {
     "ename": "IntCastingNaNError",
     "evalue": "Cannot convert non-finite values (NA or inf) to integer",
     "output_type": "error",
     "traceback": [
      "\u001b[1;31m---------------------------------------------------------------------------\u001b[0m",
      "\u001b[1;31mIntCastingNaNError\u001b[0m                        Traceback (most recent call last)",
      "\u001b[1;32m<ipython-input-76-03e8a24c54e2>\u001b[0m in \u001b[0;36m<module>\u001b[1;34m\u001b[0m\n\u001b[0;32m      5\u001b[0m     \u001b[1;32melif\u001b[0m \u001b[0mdf_traincp\u001b[0m\u001b[1;33m[\u001b[0m\u001b[0mcolumn\u001b[0m\u001b[1;33m]\u001b[0m\u001b[1;33m.\u001b[0m\u001b[0mdtypes\u001b[0m \u001b[1;33m==\u001b[0m \u001b[1;34m'float64'\u001b[0m\u001b[1;33m:\u001b[0m\u001b[1;33m\u001b[0m\u001b[1;33m\u001b[0m\u001b[0m\n\u001b[0;32m      6\u001b[0m         \u001b[0mprint\u001b[0m\u001b[1;33m(\u001b[0m\u001b[1;34m\"float:\"\u001b[0m\u001b[1;33m,\u001b[0m \u001b[0mcolumn\u001b[0m\u001b[1;33m)\u001b[0m\u001b[1;33m\u001b[0m\u001b[1;33m\u001b[0m\u001b[0m\n\u001b[1;32m----> 7\u001b[1;33m         \u001b[0mdf_traincp\u001b[0m\u001b[1;33m[\u001b[0m\u001b[0mcolumn\u001b[0m\u001b[1;33m]\u001b[0m\u001b[1;33m=\u001b[0m\u001b[0mdf_traincp\u001b[0m\u001b[1;33m[\u001b[0m\u001b[0mcolumn\u001b[0m\u001b[1;33m]\u001b[0m\u001b[1;33m.\u001b[0m\u001b[0mastype\u001b[0m\u001b[1;33m(\u001b[0m\u001b[1;34m'uint8'\u001b[0m\u001b[1;33m)\u001b[0m\u001b[1;33m\u001b[0m\u001b[1;33m\u001b[0m\u001b[0m\n\u001b[0m\u001b[0;32m      8\u001b[0m \u001b[0mdf_traincp\u001b[0m\u001b[1;33m.\u001b[0m\u001b[0mdtypes\u001b[0m\u001b[1;33m.\u001b[0m\u001b[0mvalue_counts\u001b[0m\u001b[1;33m(\u001b[0m\u001b[1;33m)\u001b[0m\u001b[1;33m\u001b[0m\u001b[1;33m\u001b[0m\u001b[0m\n",
      "\u001b[1;32m~\\anaconda3\\lib\\site-packages\\pandas\\core\\generic.py\u001b[0m in \u001b[0;36mastype\u001b[1;34m(self, dtype, copy, errors)\u001b[0m\n\u001b[0;32m   5813\u001b[0m         \u001b[1;32melse\u001b[0m\u001b[1;33m:\u001b[0m\u001b[1;33m\u001b[0m\u001b[1;33m\u001b[0m\u001b[0m\n\u001b[0;32m   5814\u001b[0m             \u001b[1;31m# else, only a single dtype is given\u001b[0m\u001b[1;33m\u001b[0m\u001b[1;33m\u001b[0m\u001b[1;33m\u001b[0m\u001b[0m\n\u001b[1;32m-> 5815\u001b[1;33m             \u001b[0mnew_data\u001b[0m \u001b[1;33m=\u001b[0m \u001b[0mself\u001b[0m\u001b[1;33m.\u001b[0m\u001b[0m_mgr\u001b[0m\u001b[1;33m.\u001b[0m\u001b[0mastype\u001b[0m\u001b[1;33m(\u001b[0m\u001b[0mdtype\u001b[0m\u001b[1;33m=\u001b[0m\u001b[0mdtype\u001b[0m\u001b[1;33m,\u001b[0m \u001b[0mcopy\u001b[0m\u001b[1;33m=\u001b[0m\u001b[0mcopy\u001b[0m\u001b[1;33m,\u001b[0m \u001b[0merrors\u001b[0m\u001b[1;33m=\u001b[0m\u001b[0merrors\u001b[0m\u001b[1;33m)\u001b[0m\u001b[1;33m\u001b[0m\u001b[1;33m\u001b[0m\u001b[0m\n\u001b[0m\u001b[0;32m   5816\u001b[0m             \u001b[1;32mreturn\u001b[0m \u001b[0mself\u001b[0m\u001b[1;33m.\u001b[0m\u001b[0m_constructor\u001b[0m\u001b[1;33m(\u001b[0m\u001b[0mnew_data\u001b[0m\u001b[1;33m)\u001b[0m\u001b[1;33m.\u001b[0m\u001b[0m__finalize__\u001b[0m\u001b[1;33m(\u001b[0m\u001b[0mself\u001b[0m\u001b[1;33m,\u001b[0m \u001b[0mmethod\u001b[0m\u001b[1;33m=\u001b[0m\u001b[1;34m\"astype\"\u001b[0m\u001b[1;33m)\u001b[0m\u001b[1;33m\u001b[0m\u001b[1;33m\u001b[0m\u001b[0m\n\u001b[0;32m   5817\u001b[0m \u001b[1;33m\u001b[0m\u001b[0m\n",
      "\u001b[1;32m~\\anaconda3\\lib\\site-packages\\pandas\\core\\internals\\managers.py\u001b[0m in \u001b[0;36mastype\u001b[1;34m(self, dtype, copy, errors)\u001b[0m\n\u001b[0;32m    416\u001b[0m \u001b[1;33m\u001b[0m\u001b[0m\n\u001b[0;32m    417\u001b[0m     \u001b[1;32mdef\u001b[0m \u001b[0mastype\u001b[0m\u001b[1;33m(\u001b[0m\u001b[0mself\u001b[0m\u001b[1;33m:\u001b[0m \u001b[0mT\u001b[0m\u001b[1;33m,\u001b[0m \u001b[0mdtype\u001b[0m\u001b[1;33m,\u001b[0m \u001b[0mcopy\u001b[0m\u001b[1;33m:\u001b[0m \u001b[0mbool\u001b[0m \u001b[1;33m=\u001b[0m \u001b[1;32mFalse\u001b[0m\u001b[1;33m,\u001b[0m \u001b[0merrors\u001b[0m\u001b[1;33m:\u001b[0m \u001b[0mstr\u001b[0m \u001b[1;33m=\u001b[0m \u001b[1;34m\"raise\"\u001b[0m\u001b[1;33m)\u001b[0m \u001b[1;33m->\u001b[0m \u001b[0mT\u001b[0m\u001b[1;33m:\u001b[0m\u001b[1;33m\u001b[0m\u001b[1;33m\u001b[0m\u001b[0m\n\u001b[1;32m--> 418\u001b[1;33m         \u001b[1;32mreturn\u001b[0m \u001b[0mself\u001b[0m\u001b[1;33m.\u001b[0m\u001b[0mapply\u001b[0m\u001b[1;33m(\u001b[0m\u001b[1;34m\"astype\"\u001b[0m\u001b[1;33m,\u001b[0m \u001b[0mdtype\u001b[0m\u001b[1;33m=\u001b[0m\u001b[0mdtype\u001b[0m\u001b[1;33m,\u001b[0m \u001b[0mcopy\u001b[0m\u001b[1;33m=\u001b[0m\u001b[0mcopy\u001b[0m\u001b[1;33m,\u001b[0m \u001b[0merrors\u001b[0m\u001b[1;33m=\u001b[0m\u001b[0merrors\u001b[0m\u001b[1;33m)\u001b[0m\u001b[1;33m\u001b[0m\u001b[1;33m\u001b[0m\u001b[0m\n\u001b[0m\u001b[0;32m    419\u001b[0m \u001b[1;33m\u001b[0m\u001b[0m\n\u001b[0;32m    420\u001b[0m     def convert(\n",
      "\u001b[1;32m~\\anaconda3\\lib\\site-packages\\pandas\\core\\internals\\managers.py\u001b[0m in \u001b[0;36mapply\u001b[1;34m(self, f, align_keys, ignore_failures, **kwargs)\u001b[0m\n\u001b[0;32m    325\u001b[0m                     \u001b[0mapplied\u001b[0m \u001b[1;33m=\u001b[0m \u001b[0mb\u001b[0m\u001b[1;33m.\u001b[0m\u001b[0mapply\u001b[0m\u001b[1;33m(\u001b[0m\u001b[0mf\u001b[0m\u001b[1;33m,\u001b[0m \u001b[1;33m**\u001b[0m\u001b[0mkwargs\u001b[0m\u001b[1;33m)\u001b[0m\u001b[1;33m\u001b[0m\u001b[1;33m\u001b[0m\u001b[0m\n\u001b[0;32m    326\u001b[0m                 \u001b[1;32melse\u001b[0m\u001b[1;33m:\u001b[0m\u001b[1;33m\u001b[0m\u001b[1;33m\u001b[0m\u001b[0m\n\u001b[1;32m--> 327\u001b[1;33m                     \u001b[0mapplied\u001b[0m \u001b[1;33m=\u001b[0m \u001b[0mgetattr\u001b[0m\u001b[1;33m(\u001b[0m\u001b[0mb\u001b[0m\u001b[1;33m,\u001b[0m \u001b[0mf\u001b[0m\u001b[1;33m)\u001b[0m\u001b[1;33m(\u001b[0m\u001b[1;33m**\u001b[0m\u001b[0mkwargs\u001b[0m\u001b[1;33m)\u001b[0m\u001b[1;33m\u001b[0m\u001b[1;33m\u001b[0m\u001b[0m\n\u001b[0m\u001b[0;32m    328\u001b[0m             \u001b[1;32mexcept\u001b[0m \u001b[1;33m(\u001b[0m\u001b[0mTypeError\u001b[0m\u001b[1;33m,\u001b[0m \u001b[0mNotImplementedError\u001b[0m\u001b[1;33m)\u001b[0m\u001b[1;33m:\u001b[0m\u001b[1;33m\u001b[0m\u001b[1;33m\u001b[0m\u001b[0m\n\u001b[0;32m    329\u001b[0m                 \u001b[1;32mif\u001b[0m \u001b[1;32mnot\u001b[0m \u001b[0mignore_failures\u001b[0m\u001b[1;33m:\u001b[0m\u001b[1;33m\u001b[0m\u001b[1;33m\u001b[0m\u001b[0m\n",
      "\u001b[1;32m~\\anaconda3\\lib\\site-packages\\pandas\\core\\internals\\blocks.py\u001b[0m in \u001b[0;36mastype\u001b[1;34m(self, dtype, copy, errors)\u001b[0m\n\u001b[0;32m    590\u001b[0m         \u001b[0mvalues\u001b[0m \u001b[1;33m=\u001b[0m \u001b[0mself\u001b[0m\u001b[1;33m.\u001b[0m\u001b[0mvalues\u001b[0m\u001b[1;33m\u001b[0m\u001b[1;33m\u001b[0m\u001b[0m\n\u001b[0;32m    591\u001b[0m \u001b[1;33m\u001b[0m\u001b[0m\n\u001b[1;32m--> 592\u001b[1;33m         \u001b[0mnew_values\u001b[0m \u001b[1;33m=\u001b[0m \u001b[0mastype_array_safe\u001b[0m\u001b[1;33m(\u001b[0m\u001b[0mvalues\u001b[0m\u001b[1;33m,\u001b[0m \u001b[0mdtype\u001b[0m\u001b[1;33m,\u001b[0m \u001b[0mcopy\u001b[0m\u001b[1;33m=\u001b[0m\u001b[0mcopy\u001b[0m\u001b[1;33m,\u001b[0m \u001b[0merrors\u001b[0m\u001b[1;33m=\u001b[0m\u001b[0merrors\u001b[0m\u001b[1;33m)\u001b[0m\u001b[1;33m\u001b[0m\u001b[1;33m\u001b[0m\u001b[0m\n\u001b[0m\u001b[0;32m    593\u001b[0m \u001b[1;33m\u001b[0m\u001b[0m\n\u001b[0;32m    594\u001b[0m         \u001b[0mnew_values\u001b[0m \u001b[1;33m=\u001b[0m \u001b[0mmaybe_coerce_values\u001b[0m\u001b[1;33m(\u001b[0m\u001b[0mnew_values\u001b[0m\u001b[1;33m)\u001b[0m\u001b[1;33m\u001b[0m\u001b[1;33m\u001b[0m\u001b[0m\n",
      "\u001b[1;32m~\\anaconda3\\lib\\site-packages\\pandas\\core\\dtypes\\cast.py\u001b[0m in \u001b[0;36mastype_array_safe\u001b[1;34m(values, dtype, copy, errors)\u001b[0m\n\u001b[0;32m   1307\u001b[0m \u001b[1;33m\u001b[0m\u001b[0m\n\u001b[0;32m   1308\u001b[0m     \u001b[1;32mtry\u001b[0m\u001b[1;33m:\u001b[0m\u001b[1;33m\u001b[0m\u001b[1;33m\u001b[0m\u001b[0m\n\u001b[1;32m-> 1309\u001b[1;33m         \u001b[0mnew_values\u001b[0m \u001b[1;33m=\u001b[0m \u001b[0mastype_array\u001b[0m\u001b[1;33m(\u001b[0m\u001b[0mvalues\u001b[0m\u001b[1;33m,\u001b[0m \u001b[0mdtype\u001b[0m\u001b[1;33m,\u001b[0m \u001b[0mcopy\u001b[0m\u001b[1;33m=\u001b[0m\u001b[0mcopy\u001b[0m\u001b[1;33m)\u001b[0m\u001b[1;33m\u001b[0m\u001b[1;33m\u001b[0m\u001b[0m\n\u001b[0m\u001b[0;32m   1310\u001b[0m     \u001b[1;32mexcept\u001b[0m \u001b[1;33m(\u001b[0m\u001b[0mValueError\u001b[0m\u001b[1;33m,\u001b[0m \u001b[0mTypeError\u001b[0m\u001b[1;33m)\u001b[0m\u001b[1;33m:\u001b[0m\u001b[1;33m\u001b[0m\u001b[1;33m\u001b[0m\u001b[0m\n\u001b[0;32m   1311\u001b[0m         \u001b[1;31m# e.g. astype_nansafe can fail on object-dtype of strings\u001b[0m\u001b[1;33m\u001b[0m\u001b[1;33m\u001b[0m\u001b[1;33m\u001b[0m\u001b[0m\n",
      "\u001b[1;32m~\\anaconda3\\lib\\site-packages\\pandas\\core\\dtypes\\cast.py\u001b[0m in \u001b[0;36mastype_array\u001b[1;34m(values, dtype, copy)\u001b[0m\n\u001b[0;32m   1255\u001b[0m \u001b[1;33m\u001b[0m\u001b[0m\n\u001b[0;32m   1256\u001b[0m     \u001b[1;32melse\u001b[0m\u001b[1;33m:\u001b[0m\u001b[1;33m\u001b[0m\u001b[1;33m\u001b[0m\u001b[0m\n\u001b[1;32m-> 1257\u001b[1;33m         \u001b[0mvalues\u001b[0m \u001b[1;33m=\u001b[0m \u001b[0mastype_nansafe\u001b[0m\u001b[1;33m(\u001b[0m\u001b[0mvalues\u001b[0m\u001b[1;33m,\u001b[0m \u001b[0mdtype\u001b[0m\u001b[1;33m,\u001b[0m \u001b[0mcopy\u001b[0m\u001b[1;33m=\u001b[0m\u001b[0mcopy\u001b[0m\u001b[1;33m)\u001b[0m\u001b[1;33m\u001b[0m\u001b[1;33m\u001b[0m\u001b[0m\n\u001b[0m\u001b[0;32m   1258\u001b[0m \u001b[1;33m\u001b[0m\u001b[0m\n\u001b[0;32m   1259\u001b[0m     \u001b[1;31m# in pandas we don't store numpy str dtypes, so convert to object\u001b[0m\u001b[1;33m\u001b[0m\u001b[1;33m\u001b[0m\u001b[1;33m\u001b[0m\u001b[0m\n",
      "\u001b[1;32m~\\anaconda3\\lib\\site-packages\\pandas\\core\\dtypes\\cast.py\u001b[0m in \u001b[0;36mastype_nansafe\u001b[1;34m(arr, dtype, copy, skipna)\u001b[0m\n\u001b[0;32m   1166\u001b[0m \u001b[1;33m\u001b[0m\u001b[0m\n\u001b[0;32m   1167\u001b[0m     \u001b[1;32melif\u001b[0m \u001b[0mnp\u001b[0m\u001b[1;33m.\u001b[0m\u001b[0missubdtype\u001b[0m\u001b[1;33m(\u001b[0m\u001b[0marr\u001b[0m\u001b[1;33m.\u001b[0m\u001b[0mdtype\u001b[0m\u001b[1;33m,\u001b[0m \u001b[0mnp\u001b[0m\u001b[1;33m.\u001b[0m\u001b[0mfloating\u001b[0m\u001b[1;33m)\u001b[0m \u001b[1;32mand\u001b[0m \u001b[0mnp\u001b[0m\u001b[1;33m.\u001b[0m\u001b[0missubdtype\u001b[0m\u001b[1;33m(\u001b[0m\u001b[0mdtype\u001b[0m\u001b[1;33m,\u001b[0m \u001b[0mnp\u001b[0m\u001b[1;33m.\u001b[0m\u001b[0minteger\u001b[0m\u001b[1;33m)\u001b[0m\u001b[1;33m:\u001b[0m\u001b[1;33m\u001b[0m\u001b[1;33m\u001b[0m\u001b[0m\n\u001b[1;32m-> 1168\u001b[1;33m         \u001b[1;32mreturn\u001b[0m \u001b[0mastype_float_to_int_nansafe\u001b[0m\u001b[1;33m(\u001b[0m\u001b[0marr\u001b[0m\u001b[1;33m,\u001b[0m \u001b[0mdtype\u001b[0m\u001b[1;33m,\u001b[0m \u001b[0mcopy\u001b[0m\u001b[1;33m)\u001b[0m\u001b[1;33m\u001b[0m\u001b[1;33m\u001b[0m\u001b[0m\n\u001b[0m\u001b[0;32m   1169\u001b[0m \u001b[1;33m\u001b[0m\u001b[0m\n\u001b[0;32m   1170\u001b[0m     \u001b[1;32melif\u001b[0m \u001b[0mis_object_dtype\u001b[0m\u001b[1;33m(\u001b[0m\u001b[0marr\u001b[0m\u001b[1;33m)\u001b[0m\u001b[1;33m:\u001b[0m\u001b[1;33m\u001b[0m\u001b[1;33m\u001b[0m\u001b[0m\n",
      "\u001b[1;32m~\\anaconda3\\lib\\site-packages\\pandas\\core\\dtypes\\cast.py\u001b[0m in \u001b[0;36mastype_float_to_int_nansafe\u001b[1;34m(values, dtype, copy)\u001b[0m\n\u001b[0;32m   1211\u001b[0m     \"\"\"\n\u001b[0;32m   1212\u001b[0m     \u001b[1;32mif\u001b[0m \u001b[1;32mnot\u001b[0m \u001b[0mnp\u001b[0m\u001b[1;33m.\u001b[0m\u001b[0misfinite\u001b[0m\u001b[1;33m(\u001b[0m\u001b[0mvalues\u001b[0m\u001b[1;33m)\u001b[0m\u001b[1;33m.\u001b[0m\u001b[0mall\u001b[0m\u001b[1;33m(\u001b[0m\u001b[1;33m)\u001b[0m\u001b[1;33m:\u001b[0m\u001b[1;33m\u001b[0m\u001b[1;33m\u001b[0m\u001b[0m\n\u001b[1;32m-> 1213\u001b[1;33m         raise IntCastingNaNError(\n\u001b[0m\u001b[0;32m   1214\u001b[0m             \u001b[1;34m\"Cannot convert non-finite values (NA or inf) to integer\"\u001b[0m\u001b[1;33m\u001b[0m\u001b[1;33m\u001b[0m\u001b[0m\n\u001b[0;32m   1215\u001b[0m         )\n",
      "\u001b[1;31mIntCastingNaNError\u001b[0m: Cannot convert non-finite values (NA or inf) to integer"
     ]
    }
   ],
   "source": [
    "for column in df_traincp:\n",
    "    if df_traincp[column].dtypes == 'int64':\n",
    "        print(\"int:\", column)\n",
    "        df_traincp[column]=df_traincp[column].astype('uint8')\n",
    "    elif df_traincp[column].dtypes == 'float64':\n",
    "        print(\"float:\", column)\n",
    "        df_traincp[column]=df_traincp[column].astype('uint8')\n",
    "df_traincp.dtypes.value_counts()"
   ]
  },
  {
   "cell_type": "code",
   "execution_count": 12,
   "metadata": {},
   "outputs": [
    {
     "name": "stdout",
     "output_type": "stream",
     "text": [
      "--Revised memory usage (MB) --\n",
      "\n"
     ]
    },
    {
     "data": {
      "text/plain": [
       "605.90386"
      ]
     },
     "execution_count": 12,
     "metadata": {},
     "output_type": "execute_result"
    }
   ],
   "source": [
    "print(\"--Revised memory usage (MB) --\\n\")\n",
    "df_traincp.memory_usage().sum()/1000000"
   ]
  },
  {
   "cell_type": "code",
   "execution_count": null,
   "metadata": {},
   "outputs": [],
   "source": [
    "#df1_train=df_train\n",
    "#df1_train"
   ]
  },
  {
   "cell_type": "code",
   "execution_count": 74,
   "metadata": {},
   "outputs": [
    {
     "data": {
      "text/plain": [
       "'ID'"
      ]
     },
     "execution_count": 74,
     "metadata": {},
     "output_type": "execute_result"
    },
    {
     "name": "stdout",
     "output_type": "stream",
     "text": [
      "No. of unique values: 145231\n",
      "No.of Null Values: 0\n"
     ]
    },
    {
     "data": {
      "text/plain": [
       "'VAR_0001'"
      ]
     },
     "execution_count": 74,
     "metadata": {},
     "output_type": "execute_result"
    },
    {
     "name": "stdout",
     "output_type": "stream",
     "text": [
      "No. of unique values: 3\n",
      "No.of Null Values: 0\n"
     ]
    },
    {
     "data": {
      "text/plain": [
       "'VAR_0002'"
      ]
     },
     "execution_count": 74,
     "metadata": {},
     "output_type": "execute_result"
    },
    {
     "name": "stdout",
     "output_type": "stream",
     "text": [
      "No. of unique values: 820\n",
      "No.of Null Values: 0\n"
     ]
    },
    {
     "data": {
      "text/plain": [
       "'VAR_0003'"
      ]
     },
     "execution_count": 74,
     "metadata": {},
     "output_type": "execute_result"
    },
    {
     "name": "stdout",
     "output_type": "stream",
     "text": [
      "No. of unique values: 588\n",
      "No.of Null Values: 0\n"
     ]
    },
    {
     "data": {
      "text/plain": [
       "'VAR_0004'"
      ]
     },
     "execution_count": 74,
     "metadata": {},
     "output_type": "execute_result"
    },
    {
     "name": "stdout",
     "output_type": "stream",
     "text": [
      "No. of unique values: 7935\n",
      "No.of Null Values: 0\n"
     ]
    },
    {
     "data": {
      "text/plain": [
       "'VAR_0005'"
      ]
     },
     "execution_count": 74,
     "metadata": {},
     "output_type": "execute_result"
    },
    {
     "name": "stdout",
     "output_type": "stream",
     "text": [
      "No. of unique values: 4\n",
      "No.of Null Values: 0\n"
     ]
    },
    {
     "data": {
      "text/plain": [
       "'VAR_0006'"
      ]
     },
     "execution_count": 74,
     "metadata": {},
     "output_type": "execute_result"
    },
    {
     "name": "stdout",
     "output_type": "stream",
     "text": [
      "No. of unique values: 37\n",
      "No.of Null Values: 56\n"
     ]
    },
    {
     "data": {
      "text/plain": [
       "'VAR_0007'"
      ]
     },
     "execution_count": 74,
     "metadata": {},
     "output_type": "execute_result"
    },
    {
     "name": "stdout",
     "output_type": "stream",
     "text": [
      "No. of unique values: 35\n",
      "No.of Null Values: 56\n"
     ]
    },
    {
     "data": {
      "text/plain": [
       "'VAR_0008'"
      ]
     },
     "execution_count": 74,
     "metadata": {},
     "output_type": "execute_result"
    },
    {
     "name": "stdout",
     "output_type": "stream",
     "text": [
      "No. of unique values: 1\n",
      "No.of Null Values: 56\n"
     ]
    },
    {
     "data": {
      "text/plain": [
       "'VAR_0009'"
      ]
     },
     "execution_count": 74,
     "metadata": {},
     "output_type": "execute_result"
    },
    {
     "name": "stdout",
     "output_type": "stream",
     "text": [
      "No. of unique values: 1\n",
      "No.of Null Values: 56\n"
     ]
    },
    {
     "data": {
      "text/plain": [
       "'VAR_0010'"
      ]
     },
     "execution_count": 74,
     "metadata": {},
     "output_type": "execute_result"
    },
    {
     "name": "stdout",
     "output_type": "stream",
     "text": [
      "No. of unique values: 1\n",
      "No.of Null Values: 56\n"
     ]
    },
    {
     "data": {
      "text/plain": [
       "'VAR_0011'"
      ]
     },
     "execution_count": 74,
     "metadata": {},
     "output_type": "execute_result"
    },
    {
     "name": "stdout",
     "output_type": "stream",
     "text": [
      "No. of unique values: 1\n",
      "No.of Null Values: 56\n"
     ]
    },
    {
     "data": {
      "text/plain": [
       "'VAR_0012'"
      ]
     },
     "execution_count": 74,
     "metadata": {},
     "output_type": "execute_result"
    },
    {
     "name": "stdout",
     "output_type": "stream",
     "text": [
      "No. of unique values: 1\n",
      "No.of Null Values: 56\n"
     ]
    },
    {
     "data": {
      "text/plain": [
       "'VAR_0013'"
      ]
     },
     "execution_count": 74,
     "metadata": {},
     "output_type": "execute_result"
    },
    {
     "name": "stdout",
     "output_type": "stream",
     "text": [
      "No. of unique values: 37\n",
      "No.of Null Values: 56\n"
     ]
    },
    {
     "data": {
      "text/plain": [
       "'VAR_0014'"
      ]
     },
     "execution_count": 74,
     "metadata": {},
     "output_type": "execute_result"
    },
    {
     "name": "stdout",
     "output_type": "stream",
     "text": [
      "No. of unique values: 37\n",
      "No.of Null Values: 56\n"
     ]
    },
    {
     "data": {
      "text/plain": [
       "'VAR_0015'"
      ]
     },
     "execution_count": 74,
     "metadata": {},
     "output_type": "execute_result"
    },
    {
     "name": "stdout",
     "output_type": "stream",
     "text": [
      "No. of unique values: 26\n",
      "No.of Null Values: 56\n"
     ]
    },
    {
     "data": {
      "text/plain": [
       "'VAR_0016'"
      ]
     },
     "execution_count": 74,
     "metadata": {},
     "output_type": "execute_result"
    },
    {
     "name": "stdout",
     "output_type": "stream",
     "text": [
      "No. of unique values: 29\n",
      "No.of Null Values: 56\n"
     ]
    },
    {
     "data": {
      "text/plain": [
       "'VAR_0017'"
      ]
     },
     "execution_count": 74,
     "metadata": {},
     "output_type": "execute_result"
    },
    {
     "name": "stdout",
     "output_type": "stream",
     "text": [
      "No. of unique values: 25\n",
      "No.of Null Values: 56\n"
     ]
    },
    {
     "data": {
      "text/plain": [
       "'VAR_0018'"
      ]
     },
     "execution_count": 74,
     "metadata": {},
     "output_type": "execute_result"
    },
    {
     "name": "stdout",
     "output_type": "stream",
     "text": [
      "No. of unique values: 1\n",
      "No.of Null Values: 56\n"
     ]
    },
    {
     "data": {
      "text/plain": [
       "'VAR_0019'"
      ]
     },
     "execution_count": 74,
     "metadata": {},
     "output_type": "execute_result"
    },
    {
     "name": "stdout",
     "output_type": "stream",
     "text": [
      "No. of unique values: 1\n",
      "No.of Null Values: 56\n"
     ]
    },
    {
     "data": {
      "text/plain": [
       "'VAR_0020'"
      ]
     },
     "execution_count": 74,
     "metadata": {},
     "output_type": "execute_result"
    },
    {
     "name": "stdout",
     "output_type": "stream",
     "text": [
      "No. of unique values: 1\n",
      "No.of Null Values: 56\n"
     ]
    },
    {
     "data": {
      "text/plain": [
       "'VAR_0021'"
      ]
     },
     "execution_count": 74,
     "metadata": {},
     "output_type": "execute_result"
    },
    {
     "name": "stdout",
     "output_type": "stream",
     "text": [
      "No. of unique values: 1\n",
      "No.of Null Values: 56\n"
     ]
    },
    {
     "data": {
      "text/plain": [
       "'VAR_0022'"
      ]
     },
     "execution_count": 74,
     "metadata": {},
     "output_type": "execute_result"
    },
    {
     "name": "stdout",
     "output_type": "stream",
     "text": [
      "No. of unique values: 1\n",
      "No.of Null Values: 56\n"
     ]
    },
    {
     "data": {
      "text/plain": [
       "'VAR_0023'"
      ]
     },
     "execution_count": 74,
     "metadata": {},
     "output_type": "execute_result"
    },
    {
     "name": "stdout",
     "output_type": "stream",
     "text": [
      "No. of unique values: 1\n",
      "No.of Null Values: 56\n"
     ]
    },
    {
     "data": {
      "text/plain": [
       "'VAR_0024'"
      ]
     },
     "execution_count": 74,
     "metadata": {},
     "output_type": "execute_result"
    },
    {
     "name": "stdout",
     "output_type": "stream",
     "text": [
      "No. of unique values: 1\n",
      "No.of Null Values: 56\n"
     ]
    },
    {
     "data": {
      "text/plain": [
       "'VAR_0025'"
      ]
     },
     "execution_count": 74,
     "metadata": {},
     "output_type": "execute_result"
    },
    {
     "name": "stdout",
     "output_type": "stream",
     "text": [
      "No. of unique values: 1\n",
      "No.of Null Values: 56\n"
     ]
    },
    {
     "data": {
      "text/plain": [
       "'VAR_0026'"
      ]
     },
     "execution_count": 74,
     "metadata": {},
     "output_type": "execute_result"
    },
    {
     "name": "stdout",
     "output_type": "stream",
     "text": [
      "No. of unique values: 1\n",
      "No.of Null Values: 56\n"
     ]
    },
    {
     "data": {
      "text/plain": [
       "'VAR_0027'"
      ]
     },
     "execution_count": 74,
     "metadata": {},
     "output_type": "execute_result"
    },
    {
     "name": "stdout",
     "output_type": "stream",
     "text": [
      "No. of unique values: 1\n",
      "No.of Null Values: 56\n"
     ]
    },
    {
     "data": {
      "text/plain": [
       "'VAR_0028'"
      ]
     },
     "execution_count": 74,
     "metadata": {},
     "output_type": "execute_result"
    },
    {
     "name": "stdout",
     "output_type": "stream",
     "text": [
      "No. of unique values: 1\n",
      "No.of Null Values: 56\n"
     ]
    },
    {
     "data": {
      "text/plain": [
       "'VAR_0029'"
      ]
     },
     "execution_count": 74,
     "metadata": {},
     "output_type": "execute_result"
    },
    {
     "name": "stdout",
     "output_type": "stream",
     "text": [
      "No. of unique values: 1\n",
      "No.of Null Values: 56\n"
     ]
    },
    {
     "data": {
      "text/plain": [
       "'VAR_0030'"
      ]
     },
     "execution_count": 74,
     "metadata": {},
     "output_type": "execute_result"
    },
    {
     "name": "stdout",
     "output_type": "stream",
     "text": [
      "No. of unique values: 1\n",
      "No.of Null Values: 56\n"
     ]
    },
    {
     "data": {
      "text/plain": [
       "'VAR_0031'"
      ]
     },
     "execution_count": 74,
     "metadata": {},
     "output_type": "execute_result"
    },
    {
     "name": "stdout",
     "output_type": "stream",
     "text": [
      "No. of unique values: 1\n",
      "No.of Null Values: 56\n"
     ]
    },
    {
     "data": {
      "text/plain": [
       "'VAR_0032'"
      ]
     },
     "execution_count": 74,
     "metadata": {},
     "output_type": "execute_result"
    },
    {
     "name": "stdout",
     "output_type": "stream",
     "text": [
      "No. of unique values: 1\n",
      "No.of Null Values: 56\n"
     ]
    },
    {
     "data": {
      "text/plain": [
       "'VAR_0033'"
      ]
     },
     "execution_count": 74,
     "metadata": {},
     "output_type": "execute_result"
    },
    {
     "name": "stdout",
     "output_type": "stream",
     "text": [
      "No. of unique values: 25\n",
      "No.of Null Values: 56\n"
     ]
    },
    {
     "data": {
      "text/plain": [
       "'VAR_0034'"
      ]
     },
     "execution_count": 74,
     "metadata": {},
     "output_type": "execute_result"
    },
    {
     "name": "stdout",
     "output_type": "stream",
     "text": [
      "No. of unique values: 32\n",
      "No.of Null Values: 56\n"
     ]
    },
    {
     "data": {
      "text/plain": [
       "'VAR_0035'"
      ]
     },
     "execution_count": 74,
     "metadata": {},
     "output_type": "execute_result"
    },
    {
     "name": "stdout",
     "output_type": "stream",
     "text": [
      "No. of unique values: 33\n",
      "No.of Null Values: 56\n"
     ]
    },
    {
     "data": {
      "text/plain": [
       "'VAR_0036'"
      ]
     },
     "execution_count": 74,
     "metadata": {},
     "output_type": "execute_result"
    },
    {
     "name": "stdout",
     "output_type": "stream",
     "text": [
      "No. of unique values: 23\n",
      "No.of Null Values: 56\n"
     ]
    },
    {
     "data": {
      "text/plain": [
       "'VAR_0037'"
      ]
     },
     "execution_count": 74,
     "metadata": {},
     "output_type": "execute_result"
    },
    {
     "name": "stdout",
     "output_type": "stream",
     "text": [
      "No. of unique values: 18\n",
      "No.of Null Values: 56\n"
     ]
    },
    {
     "data": {
      "text/plain": [
       "'VAR_0038'"
      ]
     },
     "execution_count": 74,
     "metadata": {},
     "output_type": "execute_result"
    },
    {
     "name": "stdout",
     "output_type": "stream",
     "text": [
      "No. of unique values: 1\n",
      "No.of Null Values: 56\n"
     ]
    },
    {
     "data": {
      "text/plain": [
       "'VAR_0039'"
      ]
     },
     "execution_count": 74,
     "metadata": {},
     "output_type": "execute_result"
    },
    {
     "name": "stdout",
     "output_type": "stream",
     "text": [
      "No. of unique values: 1\n",
      "No.of Null Values: 56\n"
     ]
    },
    {
     "data": {
      "text/plain": [
       "'VAR_0040'"
      ]
     },
     "execution_count": 74,
     "metadata": {},
     "output_type": "execute_result"
    },
    {
     "name": "stdout",
     "output_type": "stream",
     "text": [
      "No. of unique values: 1\n",
      "No.of Null Values: 56\n"
     ]
    },
    {
     "data": {
      "text/plain": [
       "'VAR_0041'"
      ]
     },
     "execution_count": 74,
     "metadata": {},
     "output_type": "execute_result"
    },
    {
     "name": "stdout",
     "output_type": "stream",
     "text": [
      "No. of unique values: 1\n",
      "No.of Null Values: 56\n"
     ]
    },
    {
     "data": {
      "text/plain": [
       "'VAR_0042'"
      ]
     },
     "execution_count": 74,
     "metadata": {},
     "output_type": "execute_result"
    },
    {
     "name": "stdout",
     "output_type": "stream",
     "text": [
      "No. of unique values: 1\n",
      "No.of Null Values: 56\n"
     ]
    },
    {
     "data": {
      "text/plain": [
       "'VAR_0043'"
      ]
     },
     "execution_count": 74,
     "metadata": {},
     "output_type": "execute_result"
    },
    {
     "name": "stdout",
     "output_type": "stream",
     "text": [
      "No. of unique values: 1\n",
      "No.of Null Values: 56\n"
     ]
    },
    {
     "data": {
      "text/plain": [
       "'VAR_0044'"
      ]
     },
     "execution_count": 74,
     "metadata": {},
     "output_type": "execute_result"
    },
    {
     "name": "stdout",
     "output_type": "stream",
     "text": [
      "No. of unique values: 1\n",
      "No.of Null Values: 56\n"
     ]
    },
    {
     "data": {
      "text/plain": [
       "'VAR_0045'"
      ]
     },
     "execution_count": 74,
     "metadata": {},
     "output_type": "execute_result"
    },
    {
     "name": "stdout",
     "output_type": "stream",
     "text": [
      "No. of unique values: 5\n",
      "No.of Null Values: 56\n"
     ]
    },
    {
     "data": {
      "text/plain": [
       "'VAR_0046'"
      ]
     },
     "execution_count": 74,
     "metadata": {},
     "output_type": "execute_result"
    },
    {
     "name": "stdout",
     "output_type": "stream",
     "text": [
      "No. of unique values: 8\n",
      "No.of Null Values: 56\n"
     ]
    },
    {
     "data": {
      "text/plain": [
       "'VAR_0047'"
      ]
     },
     "execution_count": 74,
     "metadata": {},
     "output_type": "execute_result"
    },
    {
     "name": "stdout",
     "output_type": "stream",
     "text": [
      "No. of unique values: 12\n",
      "No.of Null Values: 56\n"
     ]
    },
    {
     "data": {
      "text/plain": [
       "'VAR_0048'"
      ]
     },
     "execution_count": 74,
     "metadata": {},
     "output_type": "execute_result"
    },
    {
     "name": "stdout",
     "output_type": "stream",
     "text": [
      "No. of unique values: 14\n",
      "No.of Null Values: 56\n"
     ]
    },
    {
     "data": {
      "text/plain": [
       "'VAR_0049'"
      ]
     },
     "execution_count": 74,
     "metadata": {},
     "output_type": "execute_result"
    },
    {
     "name": "stdout",
     "output_type": "stream",
     "text": [
      "No. of unique values: 28\n",
      "No.of Null Values: 56\n"
     ]
    },
    {
     "data": {
      "text/plain": [
       "'VAR_0050'"
      ]
     },
     "execution_count": 74,
     "metadata": {},
     "output_type": "execute_result"
    },
    {
     "name": "stdout",
     "output_type": "stream",
     "text": [
      "No. of unique values: 38\n",
      "No.of Null Values: 56\n"
     ]
    },
    {
     "data": {
      "text/plain": [
       "'VAR_0051'"
      ]
     },
     "execution_count": 74,
     "metadata": {},
     "output_type": "execute_result"
    },
    {
     "name": "stdout",
     "output_type": "stream",
     "text": [
      "No. of unique values: 40\n",
      "No.of Null Values: 56\n"
     ]
    },
    {
     "data": {
      "text/plain": [
       "'VAR_0052'"
      ]
     },
     "execution_count": 74,
     "metadata": {},
     "output_type": "execute_result"
    },
    {
     "name": "stdout",
     "output_type": "stream",
     "text": [
      "No. of unique values: 9\n",
      "No.of Null Values: 56\n"
     ]
    },
    {
     "data": {
      "text/plain": [
       "'VAR_0053'"
      ]
     },
     "execution_count": 74,
     "metadata": {},
     "output_type": "execute_result"
    },
    {
     "name": "stdout",
     "output_type": "stream",
     "text": [
      "No. of unique values: 11\n",
      "No.of Null Values: 56\n"
     ]
    },
    {
     "data": {
      "text/plain": [
       "'VAR_0054'"
      ]
     },
     "execution_count": 74,
     "metadata": {},
     "output_type": "execute_result"
    },
    {
     "name": "stdout",
     "output_type": "stream",
     "text": [
      "No. of unique values: 13\n",
      "No.of Null Values: 56\n"
     ]
    },
    {
     "data": {
      "text/plain": [
       "'VAR_0055'"
      ]
     },
     "execution_count": 74,
     "metadata": {},
     "output_type": "execute_result"
    },
    {
     "name": "stdout",
     "output_type": "stream",
     "text": [
      "No. of unique values: 15\n",
      "No.of Null Values: 56\n"
     ]
    },
    {
     "data": {
      "text/plain": [
       "'VAR_0056'"
      ]
     },
     "execution_count": 74,
     "metadata": {},
     "output_type": "execute_result"
    },
    {
     "name": "stdout",
     "output_type": "stream",
     "text": [
      "No. of unique values: 21\n",
      "No.of Null Values: 56\n"
     ]
    },
    {
     "data": {
      "text/plain": [
       "'VAR_0057'"
      ]
     },
     "execution_count": 74,
     "metadata": {},
     "output_type": "execute_result"
    },
    {
     "name": "stdout",
     "output_type": "stream",
     "text": [
      "No. of unique values: 24\n",
      "No.of Null Values: 56\n"
     ]
    },
    {
     "data": {
      "text/plain": [
       "'VAR_0058'"
      ]
     },
     "execution_count": 74,
     "metadata": {},
     "output_type": "execute_result"
    },
    {
     "name": "stdout",
     "output_type": "stream",
     "text": [
      "No. of unique values: 25\n",
      "No.of Null Values: 56\n"
     ]
    },
    {
     "data": {
      "text/plain": [
       "'VAR_0059'"
      ]
     },
     "execution_count": 74,
     "metadata": {},
     "output_type": "execute_result"
    },
    {
     "name": "stdout",
     "output_type": "stream",
     "text": [
      "No. of unique values: 40\n",
      "No.of Null Values: 56\n"
     ]
    },
    {
     "data": {
      "text/plain": [
       "'VAR_0060'"
      ]
     },
     "execution_count": 74,
     "metadata": {},
     "output_type": "execute_result"
    },
    {
     "name": "stdout",
     "output_type": "stream",
     "text": [
      "No. of unique values: 60\n",
      "No.of Null Values: 56\n"
     ]
    },
    {
     "data": {
      "text/plain": [
       "'VAR_0061'"
      ]
     },
     "execution_count": 74,
     "metadata": {},
     "output_type": "execute_result"
    },
    {
     "name": "stdout",
     "output_type": "stream",
     "text": [
      "No. of unique values: 79\n",
      "No.of Null Values: 56\n"
     ]
    },
    {
     "data": {
      "text/plain": [
       "'VAR_0062'"
      ]
     },
     "execution_count": 74,
     "metadata": {},
     "output_type": "execute_result"
    },
    {
     "name": "stdout",
     "output_type": "stream",
     "text": [
      "No. of unique values: 92\n",
      "No.of Null Values: 56\n"
     ]
    },
    {
     "data": {
      "text/plain": [
       "'VAR_0063'"
      ]
     },
     "execution_count": 74,
     "metadata": {},
     "output_type": "execute_result"
    },
    {
     "name": "stdout",
     "output_type": "stream",
     "text": [
      "No. of unique values: 152\n",
      "No.of Null Values: 56\n"
     ]
    },
    {
     "data": {
      "text/plain": [
       "'VAR_0064'"
      ]
     },
     "execution_count": 74,
     "metadata": {},
     "output_type": "execute_result"
    },
    {
     "name": "stdout",
     "output_type": "stream",
     "text": [
      "No. of unique values: 173\n",
      "No.of Null Values: 56\n"
     ]
    },
    {
     "data": {
      "text/plain": [
       "'VAR_0065'"
      ]
     },
     "execution_count": 74,
     "metadata": {},
     "output_type": "execute_result"
    },
    {
     "name": "stdout",
     "output_type": "stream",
     "text": [
      "No. of unique values: 185\n",
      "No.of Null Values: 56\n"
     ]
    },
    {
     "data": {
      "text/plain": [
       "'VAR_0066'"
      ]
     },
     "execution_count": 74,
     "metadata": {},
     "output_type": "execute_result"
    },
    {
     "name": "stdout",
     "output_type": "stream",
     "text": [
      "No. of unique values: 116\n",
      "No.of Null Values: 56\n"
     ]
    },
    {
     "data": {
      "text/plain": [
       "'VAR_0067'"
      ]
     },
     "execution_count": 74,
     "metadata": {},
     "output_type": "execute_result"
    },
    {
     "name": "stdout",
     "output_type": "stream",
     "text": [
      "No. of unique values: 202\n",
      "No.of Null Values: 56\n"
     ]
    },
    {
     "data": {
      "text/plain": [
       "'VAR_0068'"
      ]
     },
     "execution_count": 74,
     "metadata": {},
     "output_type": "execute_result"
    },
    {
     "name": "stdout",
     "output_type": "stream",
     "text": [
      "No. of unique values: 260\n",
      "No.of Null Values: 56\n"
     ]
    },
    {
     "data": {
      "text/plain": [
       "'VAR_0069'"
      ]
     },
     "execution_count": 74,
     "metadata": {},
     "output_type": "execute_result"
    },
    {
     "name": "stdout",
     "output_type": "stream",
     "text": [
      "No. of unique values: 301\n",
      "No.of Null Values: 56\n"
     ]
    },
    {
     "data": {
      "text/plain": [
       "'VAR_0070'"
      ]
     },
     "execution_count": 74,
     "metadata": {},
     "output_type": "execute_result"
    },
    {
     "name": "stdout",
     "output_type": "stream",
     "text": [
      "No. of unique values: 470\n",
      "No.of Null Values: 56\n"
     ]
    },
    {
     "data": {
      "text/plain": [
       "'VAR_0071'"
      ]
     },
     "execution_count": 74,
     "metadata": {},
     "output_type": "execute_result"
    },
    {
     "name": "stdout",
     "output_type": "stream",
     "text": [
      "No. of unique values: 596\n",
      "No.of Null Values: 56\n"
     ]
    },
    {
     "data": {
      "text/plain": [
       "'VAR_0072'"
      ]
     },
     "execution_count": 74,
     "metadata": {},
     "output_type": "execute_result"
    },
    {
     "name": "stdout",
     "output_type": "stream",
     "text": [
      "No. of unique values: 668\n",
      "No.of Null Values: 56\n"
     ]
    },
    {
     "data": {
      "text/plain": [
       "'VAR_0073'"
      ]
     },
     "execution_count": 74,
     "metadata": {},
     "output_type": "execute_result"
    },
    {
     "name": "stdout",
     "output_type": "stream",
     "text": [
      "No. of unique values: 1458\n",
      "No.of Null Values: 101127\n"
     ]
    },
    {
     "data": {
      "text/plain": [
       "'VAR_0074'"
      ]
     },
     "execution_count": 74,
     "metadata": {},
     "output_type": "execute_result"
    },
    {
     "name": "stdout",
     "output_type": "stream",
     "text": [
      "No. of unique values: 4564\n",
      "No.of Null Values: 101127\n"
     ]
    },
    {
     "data": {
      "text/plain": [
       "'VAR_0075'"
      ]
     },
     "execution_count": 74,
     "metadata": {},
     "output_type": "execute_result"
    },
    {
     "name": "stdout",
     "output_type": "stream",
     "text": [
      "No. of unique values: 2371\n",
      "No.of Null Values: 56\n"
     ]
    },
    {
     "data": {
      "text/plain": [
       "'VAR_0076'"
      ]
     },
     "execution_count": 74,
     "metadata": {},
     "output_type": "execute_result"
    },
    {
     "name": "stdout",
     "output_type": "stream",
     "text": [
      "No. of unique values: 116\n",
      "No.of Null Values: 56\n"
     ]
    },
    {
     "data": {
      "text/plain": [
       "'VAR_0077'"
      ]
     },
     "execution_count": 74,
     "metadata": {},
     "output_type": "execute_result"
    },
    {
     "name": "stdout",
     "output_type": "stream",
     "text": [
      "No. of unique values: 205\n",
      "No.of Null Values: 56\n"
     ]
    },
    {
     "data": {
      "text/plain": [
       "'VAR_0078'"
      ]
     },
     "execution_count": 74,
     "metadata": {},
     "output_type": "execute_result"
    },
    {
     "name": "stdout",
     "output_type": "stream",
     "text": [
      "No. of unique values: 266\n",
      "No.of Null Values: 56\n"
     ]
    },
    {
     "data": {
      "text/plain": [
       "'VAR_0079'"
      ]
     },
     "execution_count": 74,
     "metadata": {},
     "output_type": "execute_result"
    },
    {
     "name": "stdout",
     "output_type": "stream",
     "text": [
      "No. of unique values: 308\n",
      "No.of Null Values: 56\n"
     ]
    },
    {
     "data": {
      "text/plain": [
       "'VAR_0080'"
      ]
     },
     "execution_count": 74,
     "metadata": {},
     "output_type": "execute_result"
    },
    {
     "name": "stdout",
     "output_type": "stream",
     "text": [
      "No. of unique values: 480\n",
      "No.of Null Values: 56\n"
     ]
    },
    {
     "data": {
      "text/plain": [
       "'VAR_0081'"
      ]
     },
     "execution_count": 74,
     "metadata": {},
     "output_type": "execute_result"
    },
    {
     "name": "stdout",
     "output_type": "stream",
     "text": [
      "No. of unique values: 592\n",
      "No.of Null Values: 56\n"
     ]
    },
    {
     "data": {
      "text/plain": [
       "'VAR_0082'"
      ]
     },
     "execution_count": 74,
     "metadata": {},
     "output_type": "execute_result"
    },
    {
     "name": "stdout",
     "output_type": "stream",
     "text": [
      "No. of unique values: 681\n",
      "No.of Null Values: 56\n"
     ]
    },
    {
     "data": {
      "text/plain": [
       "'VAR_0083'"
      ]
     },
     "execution_count": 74,
     "metadata": {},
     "output_type": "execute_result"
    },
    {
     "name": "stdout",
     "output_type": "stream",
     "text": [
      "No. of unique values: 116\n",
      "No.of Null Values: 56\n"
     ]
    },
    {
     "data": {
      "text/plain": [
       "'VAR_0084'"
      ]
     },
     "execution_count": 74,
     "metadata": {},
     "output_type": "execute_result"
    },
    {
     "name": "stdout",
     "output_type": "stream",
     "text": [
      "No. of unique values: 204\n",
      "No.of Null Values: 56\n"
     ]
    },
    {
     "data": {
      "text/plain": [
       "'VAR_0085'"
      ]
     },
     "execution_count": 74,
     "metadata": {},
     "output_type": "execute_result"
    },
    {
     "name": "stdout",
     "output_type": "stream",
     "text": [
      "No. of unique values: 263\n",
      "No.of Null Values: 56\n"
     ]
    },
    {
     "data": {
      "text/plain": [
       "'VAR_0086'"
      ]
     },
     "execution_count": 74,
     "metadata": {},
     "output_type": "execute_result"
    },
    {
     "name": "stdout",
     "output_type": "stream",
     "text": [
      "No. of unique values: 312\n",
      "No.of Null Values: 56\n"
     ]
    },
    {
     "data": {
      "text/plain": [
       "'VAR_0087'"
      ]
     },
     "execution_count": 74,
     "metadata": {},
     "output_type": "execute_result"
    },
    {
     "name": "stdout",
     "output_type": "stream",
     "text": [
      "No. of unique values: 478\n",
      "No.of Null Values: 56\n"
     ]
    },
    {
     "data": {
      "text/plain": [
       "'VAR_0088'"
      ]
     },
     "execution_count": 74,
     "metadata": {},
     "output_type": "execute_result"
    },
    {
     "name": "stdout",
     "output_type": "stream",
     "text": [
      "No. of unique values: 615\n",
      "No.of Null Values: 56\n"
     ]
    },
    {
     "data": {
      "text/plain": [
       "'VAR_0089'"
      ]
     },
     "execution_count": 74,
     "metadata": {},
     "output_type": "execute_result"
    },
    {
     "name": "stdout",
     "output_type": "stream",
     "text": [
      "No. of unique values: 685\n",
      "No.of Null Values: 56\n"
     ]
    },
    {
     "data": {
      "text/plain": [
       "'VAR_0090'"
      ]
     },
     "execution_count": 74,
     "metadata": {},
     "output_type": "execute_result"
    },
    {
     "name": "stdout",
     "output_type": "stream",
     "text": [
      "No. of unique values: 3\n",
      "No.of Null Values: 91\n"
     ]
    },
    {
     "data": {
      "text/plain": [
       "'VAR_0091'"
      ]
     },
     "execution_count": 74,
     "metadata": {},
     "output_type": "execute_result"
    },
    {
     "name": "stdout",
     "output_type": "stream",
     "text": [
      "No. of unique values: 3\n",
      "No.of Null Values: 91\n"
     ]
    },
    {
     "data": {
      "text/plain": [
       "'VAR_0092'"
      ]
     },
     "execution_count": 74,
     "metadata": {},
     "output_type": "execute_result"
    },
    {
     "name": "stdout",
     "output_type": "stream",
     "text": [
      "No. of unique values: 4\n",
      "No.of Null Values: 91\n"
     ]
    },
    {
     "data": {
      "text/plain": [
       "'VAR_0093'"
      ]
     },
     "execution_count": 74,
     "metadata": {},
     "output_type": "execute_result"
    },
    {
     "name": "stdout",
     "output_type": "stream",
     "text": [
      "No. of unique values: 6\n",
      "No.of Null Values: 91\n"
     ]
    },
    {
     "data": {
      "text/plain": [
       "'VAR_0094'"
      ]
     },
     "execution_count": 74,
     "metadata": {},
     "output_type": "execute_result"
    },
    {
     "name": "stdout",
     "output_type": "stream",
     "text": [
      "No. of unique values: 6\n",
      "No.of Null Values: 91\n"
     ]
    },
    {
     "data": {
      "text/plain": [
       "'VAR_0095'"
      ]
     },
     "execution_count": 74,
     "metadata": {},
     "output_type": "execute_result"
    },
    {
     "name": "stdout",
     "output_type": "stream",
     "text": [
      "No. of unique values: 7\n",
      "No.of Null Values: 91\n"
     ]
    },
    {
     "data": {
      "text/plain": [
       "'VAR_0096'"
      ]
     },
     "execution_count": 74,
     "metadata": {},
     "output_type": "execute_result"
    },
    {
     "name": "stdout",
     "output_type": "stream",
     "text": [
      "No. of unique values: 7\n",
      "No.of Null Values: 91\n"
     ]
    },
    {
     "data": {
      "text/plain": [
       "'VAR_0097'"
      ]
     },
     "execution_count": 74,
     "metadata": {},
     "output_type": "execute_result"
    },
    {
     "name": "stdout",
     "output_type": "stream",
     "text": [
      "No. of unique values: 10\n",
      "No.of Null Values: 91\n"
     ]
    },
    {
     "data": {
      "text/plain": [
       "'VAR_0098'"
      ]
     },
     "execution_count": 74,
     "metadata": {},
     "output_type": "execute_result"
    },
    {
     "name": "stdout",
     "output_type": "stream",
     "text": [
      "No. of unique values: 2\n",
      "No.of Null Values: 91\n"
     ]
    },
    {
     "data": {
      "text/plain": [
       "'VAR_0099'"
      ]
     },
     "execution_count": 74,
     "metadata": {},
     "output_type": "execute_result"
    },
    {
     "name": "stdout",
     "output_type": "stream",
     "text": [
      "No. of unique values: 3\n",
      "No.of Null Values: 91\n"
     ]
    },
    {
     "data": {
      "text/plain": [
       "'VAR_0100'"
      ]
     },
     "execution_count": 74,
     "metadata": {},
     "output_type": "execute_result"
    },
    {
     "name": "stdout",
     "output_type": "stream",
     "text": [
      "No. of unique values: 5\n",
      "No.of Null Values: 91\n"
     ]
    },
    {
     "data": {
      "text/plain": [
       "'VAR_0101'"
      ]
     },
     "execution_count": 74,
     "metadata": {},
     "output_type": "execute_result"
    },
    {
     "name": "stdout",
     "output_type": "stream",
     "text": [
      "No. of unique values: 7\n",
      "No.of Null Values: 91\n"
     ]
    },
    {
     "data": {
      "text/plain": [
       "'VAR_0102'"
      ]
     },
     "execution_count": 74,
     "metadata": {},
     "output_type": "execute_result"
    },
    {
     "name": "stdout",
     "output_type": "stream",
     "text": [
      "No. of unique values: 8\n",
      "No.of Null Values: 91\n"
     ]
    },
    {
     "data": {
      "text/plain": [
       "'VAR_0103'"
      ]
     },
     "execution_count": 74,
     "metadata": {},
     "output_type": "execute_result"
    },
    {
     "name": "stdout",
     "output_type": "stream",
     "text": [
      "No. of unique values: 10\n",
      "No.of Null Values: 91\n"
     ]
    },
    {
     "data": {
      "text/plain": [
       "'VAR_0104'"
      ]
     },
     "execution_count": 74,
     "metadata": {},
     "output_type": "execute_result"
    },
    {
     "name": "stdout",
     "output_type": "stream",
     "text": [
      "No. of unique values: 12\n",
      "No.of Null Values: 91\n"
     ]
    },
    {
     "data": {
      "text/plain": [
       "'VAR_0105'"
      ]
     },
     "execution_count": 74,
     "metadata": {},
     "output_type": "execute_result"
    },
    {
     "name": "stdout",
     "output_type": "stream",
     "text": [
      "No. of unique values: 15\n",
      "No.of Null Values: 91\n"
     ]
    },
    {
     "data": {
      "text/plain": [
       "'VAR_0106'"
      ]
     },
     "execution_count": 74,
     "metadata": {},
     "output_type": "execute_result"
    },
    {
     "name": "stdout",
     "output_type": "stream",
     "text": [
      "No. of unique values: 2\n",
      "No.of Null Values: 91\n"
     ]
    },
    {
     "data": {
      "text/plain": [
       "'VAR_0107'"
      ]
     },
     "execution_count": 74,
     "metadata": {},
     "output_type": "execute_result"
    },
    {
     "name": "stdout",
     "output_type": "stream",
     "text": [
      "No. of unique values: 3\n",
      "No.of Null Values: 91\n"
     ]
    },
    {
     "data": {
      "text/plain": [
       "'VAR_0108'"
      ]
     },
     "execution_count": 74,
     "metadata": {},
     "output_type": "execute_result"
    },
    {
     "name": "stdout",
     "output_type": "stream",
     "text": [
      "No. of unique values: 4\n",
      "No.of Null Values: 91\n"
     ]
    },
    {
     "data": {
      "text/plain": [
       "'VAR_0109'"
      ]
     },
     "execution_count": 74,
     "metadata": {},
     "output_type": "execute_result"
    },
    {
     "name": "stdout",
     "output_type": "stream",
     "text": [
      "No. of unique values: 7\n",
      "No.of Null Values: 91\n"
     ]
    },
    {
     "data": {
      "text/plain": [
       "'VAR_0110'"
      ]
     },
     "execution_count": 74,
     "metadata": {},
     "output_type": "execute_result"
    },
    {
     "name": "stdout",
     "output_type": "stream",
     "text": [
      "No. of unique values: 8\n",
      "No.of Null Values: 91\n"
     ]
    },
    {
     "data": {
      "text/plain": [
       "'VAR_0111'"
      ]
     },
     "execution_count": 74,
     "metadata": {},
     "output_type": "execute_result"
    },
    {
     "name": "stdout",
     "output_type": "stream",
     "text": [
      "No. of unique values: 9\n",
      "No.of Null Values: 91\n"
     ]
    },
    {
     "data": {
      "text/plain": [
       "'VAR_0112'"
      ]
     },
     "execution_count": 74,
     "metadata": {},
     "output_type": "execute_result"
    },
    {
     "name": "stdout",
     "output_type": "stream",
     "text": [
      "No. of unique values: 9\n",
      "No.of Null Values: 91\n"
     ]
    },
    {
     "data": {
      "text/plain": [
       "'VAR_0113'"
      ]
     },
     "execution_count": 74,
     "metadata": {},
     "output_type": "execute_result"
    },
    {
     "name": "stdout",
     "output_type": "stream",
     "text": [
      "No. of unique values: 12\n",
      "No.of Null Values: 91\n"
     ]
    },
    {
     "data": {
      "text/plain": [
       "'VAR_0114'"
      ]
     },
     "execution_count": 74,
     "metadata": {},
     "output_type": "execute_result"
    },
    {
     "name": "stdout",
     "output_type": "stream",
     "text": [
      "No. of unique values: 2\n",
      "No.of Null Values: 91\n"
     ]
    },
    {
     "data": {
      "text/plain": [
       "'VAR_0115'"
      ]
     },
     "execution_count": 74,
     "metadata": {},
     "output_type": "execute_result"
    },
    {
     "name": "stdout",
     "output_type": "stream",
     "text": [
      "No. of unique values: 3\n",
      "No.of Null Values: 91\n"
     ]
    },
    {
     "data": {
      "text/plain": [
       "'VAR_0116'"
      ]
     },
     "execution_count": 74,
     "metadata": {},
     "output_type": "execute_result"
    },
    {
     "name": "stdout",
     "output_type": "stream",
     "text": [
      "No. of unique values: 4\n",
      "No.of Null Values: 91\n"
     ]
    },
    {
     "data": {
      "text/plain": [
       "'VAR_0117'"
      ]
     },
     "execution_count": 74,
     "metadata": {},
     "output_type": "execute_result"
    },
    {
     "name": "stdout",
     "output_type": "stream",
     "text": [
      "No. of unique values: 7\n",
      "No.of Null Values: 91\n"
     ]
    },
    {
     "data": {
      "text/plain": [
       "'VAR_0118'"
      ]
     },
     "execution_count": 74,
     "metadata": {},
     "output_type": "execute_result"
    },
    {
     "name": "stdout",
     "output_type": "stream",
     "text": [
      "No. of unique values: 11\n",
      "No.of Null Values: 91\n"
     ]
    },
    {
     "data": {
      "text/plain": [
       "'VAR_0119'"
      ]
     },
     "execution_count": 74,
     "metadata": {},
     "output_type": "execute_result"
    },
    {
     "name": "stdout",
     "output_type": "stream",
     "text": [
      "No. of unique values: 14\n",
      "No.of Null Values: 91\n"
     ]
    },
    {
     "data": {
      "text/plain": [
       "'VAR_0120'"
      ]
     },
     "execution_count": 74,
     "metadata": {},
     "output_type": "execute_result"
    },
    {
     "name": "stdout",
     "output_type": "stream",
     "text": [
      "No. of unique values: 15\n",
      "No.of Null Values: 91\n"
     ]
    },
    {
     "data": {
      "text/plain": [
       "'VAR_0121'"
      ]
     },
     "execution_count": 74,
     "metadata": {},
     "output_type": "execute_result"
    },
    {
     "name": "stdout",
     "output_type": "stream",
     "text": [
      "No. of unique values: 19\n",
      "No.of Null Values: 91\n"
     ]
    },
    {
     "data": {
      "text/plain": [
       "'VAR_0122'"
      ]
     },
     "execution_count": 74,
     "metadata": {},
     "output_type": "execute_result"
    },
    {
     "name": "stdout",
     "output_type": "stream",
     "text": [
      "No. of unique values: 3\n",
      "No.of Null Values: 91\n"
     ]
    },
    {
     "data": {
      "text/plain": [
       "'VAR_0123'"
      ]
     },
     "execution_count": 74,
     "metadata": {},
     "output_type": "execute_result"
    },
    {
     "name": "stdout",
     "output_type": "stream",
     "text": [
      "No. of unique values: 4\n",
      "No.of Null Values: 91\n"
     ]
    },
    {
     "data": {
      "text/plain": [
       "'VAR_0124'"
      ]
     },
     "execution_count": 74,
     "metadata": {},
     "output_type": "execute_result"
    },
    {
     "name": "stdout",
     "output_type": "stream",
     "text": [
      "No. of unique values: 4\n",
      "No.of Null Values: 91\n"
     ]
    },
    {
     "data": {
      "text/plain": [
       "'VAR_0125'"
      ]
     },
     "execution_count": 74,
     "metadata": {},
     "output_type": "execute_result"
    },
    {
     "name": "stdout",
     "output_type": "stream",
     "text": [
      "No. of unique values: 8\n",
      "No.of Null Values: 91\n"
     ]
    },
    {
     "data": {
      "text/plain": [
       "'VAR_0126'"
      ]
     },
     "execution_count": 74,
     "metadata": {},
     "output_type": "execute_result"
    },
    {
     "name": "stdout",
     "output_type": "stream",
     "text": [
      "No. of unique values: 9\n",
      "No.of Null Values: 91\n"
     ]
    },
    {
     "data": {
      "text/plain": [
       "'VAR_0127'"
      ]
     },
     "execution_count": 74,
     "metadata": {},
     "output_type": "execute_result"
    },
    {
     "name": "stdout",
     "output_type": "stream",
     "text": [
      "No. of unique values: 11\n",
      "No.of Null Values: 91\n"
     ]
    },
    {
     "data": {
      "text/plain": [
       "'VAR_0128'"
      ]
     },
     "execution_count": 74,
     "metadata": {},
     "output_type": "execute_result"
    },
    {
     "name": "stdout",
     "output_type": "stream",
     "text": [
      "No. of unique values: 12\n",
      "No.of Null Values: 91\n"
     ]
    },
    {
     "data": {
      "text/plain": [
       "'VAR_0129'"
      ]
     },
     "execution_count": 74,
     "metadata": {},
     "output_type": "execute_result"
    },
    {
     "name": "stdout",
     "output_type": "stream",
     "text": [
      "No. of unique values: 16\n",
      "No.of Null Values: 91\n"
     ]
    },
    {
     "data": {
      "text/plain": [
       "'VAR_0130'"
      ]
     },
     "execution_count": 74,
     "metadata": {},
     "output_type": "execute_result"
    },
    {
     "name": "stdout",
     "output_type": "stream",
     "text": [
      "No. of unique values: 2\n",
      "No.of Null Values: 91\n"
     ]
    },
    {
     "data": {
      "text/plain": [
       "'VAR_0131'"
      ]
     },
     "execution_count": 74,
     "metadata": {},
     "output_type": "execute_result"
    },
    {
     "name": "stdout",
     "output_type": "stream",
     "text": [
      "No. of unique values: 4\n",
      "No.of Null Values: 91\n"
     ]
    },
    {
     "data": {
      "text/plain": [
       "'VAR_0132'"
      ]
     },
     "execution_count": 74,
     "metadata": {},
     "output_type": "execute_result"
    },
    {
     "name": "stdout",
     "output_type": "stream",
     "text": [
      "No. of unique values: 7\n",
      "No.of Null Values: 91\n"
     ]
    },
    {
     "data": {
      "text/plain": [
       "'VAR_0133'"
      ]
     },
     "execution_count": 74,
     "metadata": {},
     "output_type": "execute_result"
    },
    {
     "name": "stdout",
     "output_type": "stream",
     "text": [
      "No. of unique values: 16\n",
      "No.of Null Values: 91\n"
     ]
    },
    {
     "data": {
      "text/plain": [
       "'VAR_0134'"
      ]
     },
     "execution_count": 74,
     "metadata": {},
     "output_type": "execute_result"
    },
    {
     "name": "stdout",
     "output_type": "stream",
     "text": [
      "No. of unique values: 25\n",
      "No.of Null Values: 91\n"
     ]
    },
    {
     "data": {
      "text/plain": [
       "'VAR_0135'"
      ]
     },
     "execution_count": 74,
     "metadata": {},
     "output_type": "execute_result"
    },
    {
     "name": "stdout",
     "output_type": "stream",
     "text": [
      "No. of unique values: 35\n",
      "No.of Null Values: 91\n"
     ]
    },
    {
     "data": {
      "text/plain": [
       "'VAR_0136'"
      ]
     },
     "execution_count": 74,
     "metadata": {},
     "output_type": "execute_result"
    },
    {
     "name": "stdout",
     "output_type": "stream",
     "text": [
      "No. of unique values: 40\n",
      "No.of Null Values: 91\n"
     ]
    },
    {
     "data": {
      "text/plain": [
       "'VAR_0137'"
      ]
     },
     "execution_count": 74,
     "metadata": {},
     "output_type": "execute_result"
    },
    {
     "name": "stdout",
     "output_type": "stream",
     "text": [
      "No. of unique values: 57\n",
      "No.of Null Values: 91\n"
     ]
    },
    {
     "data": {
      "text/plain": [
       "'VAR_0138'"
      ]
     },
     "execution_count": 74,
     "metadata": {},
     "output_type": "execute_result"
    },
    {
     "name": "stdout",
     "output_type": "stream",
     "text": [
      "No. of unique values: 2\n",
      "No.of Null Values: 91\n"
     ]
    },
    {
     "data": {
      "text/plain": [
       "'VAR_0139'"
      ]
     },
     "execution_count": 74,
     "metadata": {},
     "output_type": "execute_result"
    },
    {
     "name": "stdout",
     "output_type": "stream",
     "text": [
      "No. of unique values: 3\n",
      "No.of Null Values: 91\n"
     ]
    },
    {
     "data": {
      "text/plain": [
       "'VAR_0140'"
      ]
     },
     "execution_count": 74,
     "metadata": {},
     "output_type": "execute_result"
    },
    {
     "name": "stdout",
     "output_type": "stream",
     "text": [
      "No. of unique values: 5\n",
      "No.of Null Values: 91\n"
     ]
    },
    {
     "data": {
      "text/plain": [
       "'VAR_0141'"
      ]
     },
     "execution_count": 74,
     "metadata": {},
     "output_type": "execute_result"
    },
    {
     "name": "stdout",
     "output_type": "stream",
     "text": [
      "No. of unique values: 10\n",
      "No.of Null Values: 91\n"
     ]
    },
    {
     "data": {
      "text/plain": [
       "'VAR_0142'"
      ]
     },
     "execution_count": 74,
     "metadata": {},
     "output_type": "execute_result"
    },
    {
     "name": "stdout",
     "output_type": "stream",
     "text": [
      "No. of unique values: 13\n",
      "No.of Null Values: 91\n"
     ]
    },
    {
     "data": {
      "text/plain": [
       "'VAR_0143'"
      ]
     },
     "execution_count": 74,
     "metadata": {},
     "output_type": "execute_result"
    },
    {
     "name": "stdout",
     "output_type": "stream",
     "text": [
      "No. of unique values: 17\n",
      "No.of Null Values: 91\n"
     ]
    },
    {
     "data": {
      "text/plain": [
       "'VAR_0144'"
      ]
     },
     "execution_count": 74,
     "metadata": {},
     "output_type": "execute_result"
    },
    {
     "name": "stdout",
     "output_type": "stream",
     "text": [
      "No. of unique values: 19\n",
      "No.of Null Values: 91\n"
     ]
    },
    {
     "data": {
      "text/plain": [
       "'VAR_0145'"
      ]
     },
     "execution_count": 74,
     "metadata": {},
     "output_type": "execute_result"
    },
    {
     "name": "stdout",
     "output_type": "stream",
     "text": [
      "No. of unique values: 23\n",
      "No.of Null Values: 91\n"
     ]
    },
    {
     "data": {
      "text/plain": [
       "'VAR_0146'"
      ]
     },
     "execution_count": 74,
     "metadata": {},
     "output_type": "execute_result"
    },
    {
     "name": "stdout",
     "output_type": "stream",
     "text": [
      "No. of unique values: 5\n",
      "No.of Null Values: 89\n"
     ]
    },
    {
     "data": {
      "text/plain": [
       "'VAR_0147'"
      ]
     },
     "execution_count": 74,
     "metadata": {},
     "output_type": "execute_result"
    },
    {
     "name": "stdout",
     "output_type": "stream",
     "text": [
      "No. of unique values: 570\n",
      "No.of Null Values: 89\n"
     ]
    },
    {
     "data": {
      "text/plain": [
       "'VAR_0148'"
      ]
     },
     "execution_count": 74,
     "metadata": {},
     "output_type": "execute_result"
    },
    {
     "name": "stdout",
     "output_type": "stream",
     "text": [
      "No. of unique values: 7\n",
      "No.of Null Values: 89\n"
     ]
    },
    {
     "data": {
      "text/plain": [
       "'VAR_0149'"
      ]
     },
     "execution_count": 74,
     "metadata": {},
     "output_type": "execute_result"
    },
    {
     "name": "stdout",
     "output_type": "stream",
     "text": [
      "No. of unique values: 418\n",
      "No.of Null Values: 89\n"
     ]
    },
    {
     "data": {
      "text/plain": [
       "'VAR_0150'"
      ]
     },
     "execution_count": 74,
     "metadata": {},
     "output_type": "execute_result"
    },
    {
     "name": "stdout",
     "output_type": "stream",
     "text": [
      "No. of unique values: 4\n",
      "No.of Null Values: 89\n"
     ]
    },
    {
     "data": {
      "text/plain": [
       "'VAR_0151'"
      ]
     },
     "execution_count": 74,
     "metadata": {},
     "output_type": "execute_result"
    },
    {
     "name": "stdout",
     "output_type": "stream",
     "text": [
      "No. of unique values: 12\n",
      "No.of Null Values: 89\n"
     ]
    },
    {
     "data": {
      "text/plain": [
       "'VAR_0152'"
      ]
     },
     "execution_count": 74,
     "metadata": {},
     "output_type": "execute_result"
    },
    {
     "name": "stdout",
     "output_type": "stream",
     "text": [
      "No. of unique values: 13\n",
      "No.of Null Values: 89\n"
     ]
    },
    {
     "data": {
      "text/plain": [
       "'VAR_0153'"
      ]
     },
     "execution_count": 74,
     "metadata": {},
     "output_type": "execute_result"
    },
    {
     "name": "stdout",
     "output_type": "stream",
     "text": [
      "No. of unique values: 4\n",
      "No.of Null Values: 89\n"
     ]
    },
    {
     "data": {
      "text/plain": [
       "'VAR_0154'"
      ]
     },
     "execution_count": 74,
     "metadata": {},
     "output_type": "execute_result"
    },
    {
     "name": "stdout",
     "output_type": "stream",
     "text": [
      "No. of unique values: 1662\n",
      "No.of Null Values: 89\n"
     ]
    },
    {
     "data": {
      "text/plain": [
       "'VAR_0155'"
      ]
     },
     "execution_count": 74,
     "metadata": {},
     "output_type": "execute_result"
    },
    {
     "name": "stdout",
     "output_type": "stream",
     "text": [
      "No. of unique values: 700\n",
      "No.of Null Values: 89\n"
     ]
    },
    {
     "data": {
      "text/plain": [
       "'VAR_0156'"
      ]
     },
     "execution_count": 74,
     "metadata": {},
     "output_type": "execute_result"
    },
    {
     "name": "stdout",
     "output_type": "stream",
     "text": [
      "No. of unique values: 730\n",
      "No.of Null Values: 139361\n"
     ]
    },
    {
     "data": {
      "text/plain": [
       "'VAR_0157'"
      ]
     },
     "execution_count": 74,
     "metadata": {},
     "output_type": "execute_result"
    },
    {
     "name": "stdout",
     "output_type": "stream",
     "text": [
      "No. of unique values: 424\n",
      "No.of Null Values: 144311\n"
     ]
    },
    {
     "data": {
      "text/plain": [
       "'VAR_0158'"
      ]
     },
     "execution_count": 74,
     "metadata": {},
     "output_type": "execute_result"
    },
    {
     "name": "stdout",
     "output_type": "stream",
     "text": [
      "No. of unique values: 407\n",
      "No.of Null Values: 143142\n"
     ]
    },
    {
     "data": {
      "text/plain": [
       "'VAR_0159'"
      ]
     },
     "execution_count": 74,
     "metadata": {},
     "output_type": "execute_result"
    },
    {
     "name": "stdout",
     "output_type": "stream",
     "text": [
      "No. of unique values: 650\n",
      "No.of Null Values: 139361\n"
     ]
    },
    {
     "data": {
      "text/plain": [
       "'VAR_0160'"
      ]
     },
     "execution_count": 74,
     "metadata": {},
     "output_type": "execute_result"
    },
    {
     "name": "stdout",
     "output_type": "stream",
     "text": [
      "No. of unique values: 7\n",
      "No.of Null Values: 89\n"
     ]
    },
    {
     "data": {
      "text/plain": [
       "'VAR_0161'"
      ]
     },
     "execution_count": 74,
     "metadata": {},
     "output_type": "execute_result"
    },
    {
     "name": "stdout",
     "output_type": "stream",
     "text": [
      "No. of unique values: 65\n",
      "No.of Null Values: 89\n"
     ]
    },
    {
     "data": {
      "text/plain": [
       "'VAR_0162'"
      ]
     },
     "execution_count": 74,
     "metadata": {},
     "output_type": "execute_result"
    },
    {
     "name": "stdout",
     "output_type": "stream",
     "text": [
      "No. of unique values: 8\n",
      "No.of Null Values: 89\n"
     ]
    },
    {
     "data": {
      "text/plain": [
       "'VAR_0163'"
      ]
     },
     "execution_count": 74,
     "metadata": {},
     "output_type": "execute_result"
    },
    {
     "name": "stdout",
     "output_type": "stream",
     "text": [
      "No. of unique values: 4\n",
      "No.of Null Values: 89\n"
     ]
    },
    {
     "data": {
      "text/plain": [
       "'VAR_0164'"
      ]
     },
     "execution_count": 74,
     "metadata": {},
     "output_type": "execute_result"
    },
    {
     "name": "stdout",
     "output_type": "stream",
     "text": [
      "No. of unique values: 1602\n",
      "No.of Null Values: 89\n"
     ]
    },
    {
     "data": {
      "text/plain": [
       "'VAR_0165'"
      ]
     },
     "execution_count": 74,
     "metadata": {},
     "output_type": "execute_result"
    },
    {
     "name": "stdout",
     "output_type": "stream",
     "text": [
      "No. of unique values: 591\n",
      "No.of Null Values: 89\n"
     ]
    },
    {
     "data": {
      "text/plain": [
       "'VAR_0166'"
      ]
     },
     "execution_count": 74,
     "metadata": {},
     "output_type": "execute_result"
    },
    {
     "name": "stdout",
     "output_type": "stream",
     "text": [
      "No. of unique values: 2145\n",
      "No.of Null Values: 131001\n"
     ]
    },
    {
     "data": {
      "text/plain": [
       "'VAR_0167'"
      ]
     },
     "execution_count": 74,
     "metadata": {},
     "output_type": "execute_result"
    },
    {
     "name": "stdout",
     "output_type": "stream",
     "text": [
      "No. of unique values: 853\n",
      "No.of Null Values: 142664\n"
     ]
    },
    {
     "data": {
      "text/plain": [
       "'VAR_0168'"
      ]
     },
     "execution_count": 74,
     "metadata": {},
     "output_type": "execute_result"
    },
    {
     "name": "stdout",
     "output_type": "stream",
     "text": [
      "No. of unique values: 1645\n",
      "No.of Null Values: 134506\n"
     ]
    },
    {
     "data": {
      "text/plain": [
       "'VAR_0169'"
      ]
     },
     "execution_count": 74,
     "metadata": {},
     "output_type": "execute_result"
    },
    {
     "name": "stdout",
     "output_type": "stream",
     "text": [
      "No. of unique values: 1908\n",
      "No.of Null Values: 131001\n"
     ]
    },
    {
     "data": {
      "text/plain": [
       "'VAR_0170'"
      ]
     },
     "execution_count": 74,
     "metadata": {},
     "output_type": "execute_result"
    },
    {
     "name": "stdout",
     "output_type": "stream",
     "text": [
      "No. of unique values: 8\n",
      "No.of Null Values: 89\n"
     ]
    },
    {
     "data": {
      "text/plain": [
       "'VAR_0171'"
      ]
     },
     "execution_count": 74,
     "metadata": {},
     "output_type": "execute_result"
    },
    {
     "name": "stdout",
     "output_type": "stream",
     "text": [
      "No. of unique values: 65\n",
      "No.of Null Values: 89\n"
     ]
    },
    {
     "data": {
      "text/plain": [
       "'VAR_0172'"
      ]
     },
     "execution_count": 74,
     "metadata": {},
     "output_type": "execute_result"
    },
    {
     "name": "stdout",
     "output_type": "stream",
     "text": [
      "No. of unique values: 13\n",
      "No.of Null Values: 89\n"
     ]
    },
    {
     "data": {
      "text/plain": [
       "'VAR_0173'"
      ]
     },
     "execution_count": 74,
     "metadata": {},
     "output_type": "execute_result"
    },
    {
     "name": "stdout",
     "output_type": "stream",
     "text": [
      "No. of unique values: 4\n",
      "No.of Null Values: 89\n"
     ]
    },
    {
     "data": {
      "text/plain": [
       "'VAR_0174'"
      ]
     },
     "execution_count": 74,
     "metadata": {},
     "output_type": "execute_result"
    },
    {
     "name": "stdout",
     "output_type": "stream",
     "text": [
      "No. of unique values: 2245\n",
      "No.of Null Values: 89\n"
     ]
    },
    {
     "data": {
      "text/plain": [
       "'VAR_0175'"
      ]
     },
     "execution_count": 74,
     "metadata": {},
     "output_type": "execute_result"
    },
    {
     "name": "stdout",
     "output_type": "stream",
     "text": [
      "No. of unique values: 1074\n",
      "No.of Null Values: 89\n"
     ]
    },
    {
     "data": {
      "text/plain": [
       "'VAR_0176'"
      ]
     },
     "execution_count": 74,
     "metadata": {},
     "output_type": "execute_result"
    },
    {
     "name": "stdout",
     "output_type": "stream",
     "text": [
      "No. of unique values: 2163\n",
      "No.of Null Values: 127699\n"
     ]
    },
    {
     "data": {
      "text/plain": [
       "'VAR_0177'"
      ]
     },
     "execution_count": 74,
     "metadata": {},
     "output_type": "execute_result"
    },
    {
     "name": "stdout",
     "output_type": "stream",
     "text": [
      "No. of unique values: 945\n",
      "No.of Null Values: 141873\n"
     ]
    },
    {
     "data": {
      "text/plain": [
       "'VAR_0178'"
      ]
     },
     "execution_count": 74,
     "metadata": {},
     "output_type": "execute_result"
    },
    {
     "name": "stdout",
     "output_type": "stream",
     "text": [
      "No. of unique values: 1648\n",
      "No.of Null Values: 133158\n"
     ]
    },
    {
     "data": {
      "text/plain": [
       "'VAR_0179'"
      ]
     },
     "execution_count": 74,
     "metadata": {},
     "output_type": "execute_result"
    },
    {
     "name": "stdout",
     "output_type": "stream",
     "text": [
      "No. of unique values: 1875\n",
      "No.of Null Values: 127699\n"
     ]
    },
    {
     "data": {
      "text/plain": [
       "'VAR_0180'"
      ]
     },
     "execution_count": 74,
     "metadata": {},
     "output_type": "execute_result"
    },
    {
     "name": "stdout",
     "output_type": "stream",
     "text": [
      "No. of unique values: 2\n",
      "No.of Null Values: 89\n"
     ]
    },
    {
     "data": {
      "text/plain": [
       "'VAR_0181'"
      ]
     },
     "execution_count": 74,
     "metadata": {},
     "output_type": "execute_result"
    },
    {
     "name": "stdout",
     "output_type": "stream",
     "text": [
      "No. of unique values: 2\n",
      "No.of Null Values: 89\n"
     ]
    },
    {
     "data": {
      "text/plain": [
       "'VAR_0182'"
      ]
     },
     "execution_count": 74,
     "metadata": {},
     "output_type": "execute_result"
    },
    {
     "name": "stdout",
     "output_type": "stream",
     "text": [
      "No. of unique values: 2\n",
      "No.of Null Values: 89\n"
     ]
    },
    {
     "data": {
      "text/plain": [
       "'VAR_0183'"
      ]
     },
     "execution_count": 74,
     "metadata": {},
     "output_type": "execute_result"
    },
    {
     "name": "stdout",
     "output_type": "stream",
     "text": [
      "No. of unique values: 3\n",
      "No.of Null Values: 89\n"
     ]
    },
    {
     "data": {
      "text/plain": [
       "'VAR_0184'"
      ]
     },
     "execution_count": 74,
     "metadata": {},
     "output_type": "execute_result"
    },
    {
     "name": "stdout",
     "output_type": "stream",
     "text": [
      "No. of unique values: 5\n",
      "No.of Null Values: 89\n"
     ]
    },
    {
     "data": {
      "text/plain": [
       "'VAR_0185'"
      ]
     },
     "execution_count": 74,
     "metadata": {},
     "output_type": "execute_result"
    },
    {
     "name": "stdout",
     "output_type": "stream",
     "text": [
      "No. of unique values: 5\n",
      "No.of Null Values: 89\n"
     ]
    },
    {
     "data": {
      "text/plain": [
       "'VAR_0186'"
      ]
     },
     "execution_count": 74,
     "metadata": {},
     "output_type": "execute_result"
    },
    {
     "name": "stdout",
     "output_type": "stream",
     "text": [
      "No. of unique values: 5\n",
      "No.of Null Values: 89\n"
     ]
    },
    {
     "data": {
      "text/plain": [
       "'VAR_0187'"
      ]
     },
     "execution_count": 74,
     "metadata": {},
     "output_type": "execute_result"
    },
    {
     "name": "stdout",
     "output_type": "stream",
     "text": [
      "No. of unique values: 9\n",
      "No.of Null Values: 89\n"
     ]
    },
    {
     "data": {
      "text/plain": [
       "'VAR_0188'"
      ]
     },
     "execution_count": 74,
     "metadata": {},
     "output_type": "execute_result"
    },
    {
     "name": "stdout",
     "output_type": "stream",
     "text": [
      "No. of unique values: 1\n",
      "No.of Null Values: 89\n"
     ]
    },
    {
     "data": {
      "text/plain": [
       "'VAR_0189'"
      ]
     },
     "execution_count": 74,
     "metadata": {},
     "output_type": "execute_result"
    },
    {
     "name": "stdout",
     "output_type": "stream",
     "text": [
      "No. of unique values: 1\n",
      "No.of Null Values: 89\n"
     ]
    },
    {
     "data": {
      "text/plain": [
       "'VAR_0190'"
      ]
     },
     "execution_count": 74,
     "metadata": {},
     "output_type": "execute_result"
    },
    {
     "name": "stdout",
     "output_type": "stream",
     "text": [
      "No. of unique values: 1\n",
      "No.of Null Values: 89\n"
     ]
    },
    {
     "data": {
      "text/plain": [
       "'VAR_0191'"
      ]
     },
     "execution_count": 74,
     "metadata": {},
     "output_type": "execute_result"
    },
    {
     "name": "stdout",
     "output_type": "stream",
     "text": [
      "No. of unique values: 2\n",
      "No.of Null Values: 89\n"
     ]
    },
    {
     "data": {
      "text/plain": [
       "'VAR_0192'"
      ]
     },
     "execution_count": 74,
     "metadata": {},
     "output_type": "execute_result"
    },
    {
     "name": "stdout",
     "output_type": "stream",
     "text": [
      "No. of unique values: 3\n",
      "No.of Null Values: 89\n"
     ]
    },
    {
     "data": {
      "text/plain": [
       "'VAR_0193'"
      ]
     },
     "execution_count": 74,
     "metadata": {},
     "output_type": "execute_result"
    },
    {
     "name": "stdout",
     "output_type": "stream",
     "text": [
      "No. of unique values: 4\n",
      "No.of Null Values: 89\n"
     ]
    },
    {
     "data": {
      "text/plain": [
       "'VAR_0194'"
      ]
     },
     "execution_count": 74,
     "metadata": {},
     "output_type": "execute_result"
    },
    {
     "name": "stdout",
     "output_type": "stream",
     "text": [
      "No. of unique values: 4\n",
      "No.of Null Values: 89\n"
     ]
    },
    {
     "data": {
      "text/plain": [
       "'VAR_0195'"
      ]
     },
     "execution_count": 74,
     "metadata": {},
     "output_type": "execute_result"
    },
    {
     "name": "stdout",
     "output_type": "stream",
     "text": [
      "No. of unique values: 5\n",
      "No.of Null Values: 89\n"
     ]
    },
    {
     "data": {
      "text/plain": [
       "'VAR_0196'"
      ]
     },
     "execution_count": 74,
     "metadata": {},
     "output_type": "execute_result"
    },
    {
     "name": "stdout",
     "output_type": "stream",
     "text": [
      "No. of unique values: 1\n",
      "No.of Null Values: 56\n"
     ]
    },
    {
     "data": {
      "text/plain": [
       "'VAR_0197'"
      ]
     },
     "execution_count": 74,
     "metadata": {},
     "output_type": "execute_result"
    },
    {
     "name": "stdout",
     "output_type": "stream",
     "text": [
      "No. of unique values: 1\n",
      "No.of Null Values: 56\n"
     ]
    },
    {
     "data": {
      "text/plain": [
       "'VAR_0198'"
      ]
     },
     "execution_count": 74,
     "metadata": {},
     "output_type": "execute_result"
    },
    {
     "name": "stdout",
     "output_type": "stream",
     "text": [
      "No. of unique values: 85\n",
      "No.of Null Values: 56\n"
     ]
    },
    {
     "data": {
      "text/plain": [
       "'VAR_0199'"
      ]
     },
     "execution_count": 74,
     "metadata": {},
     "output_type": "execute_result"
    },
    {
     "name": "stdout",
     "output_type": "stream",
     "text": [
      "No. of unique values: 1\n",
      "No.of Null Values: 56\n"
     ]
    },
    {
     "data": {
      "text/plain": [
       "'VAR_0200'"
      ]
     },
     "execution_count": 74,
     "metadata": {},
     "output_type": "execute_result"
    },
    {
     "name": "stdout",
     "output_type": "stream",
     "text": [
      "No. of unique values: 12385\n",
      "No.of Null Values: 60\n"
     ]
    },
    {
     "data": {
      "text/plain": [
       "'VAR_0201'"
      ]
     },
     "execution_count": 74,
     "metadata": {},
     "output_type": "execute_result"
    },
    {
     "name": "stdout",
     "output_type": "stream",
     "text": [
      "No. of unique values: 40\n",
      "No.of Null Values: 56\n"
     ]
    },
    {
     "data": {
      "text/plain": [
       "'VAR_0202'"
      ]
     },
     "execution_count": 74,
     "metadata": {},
     "output_type": "execute_result"
    },
    {
     "name": "stdout",
     "output_type": "stream",
     "text": [
      "No. of unique values: 1\n",
      "No.of Null Values: 56\n"
     ]
    },
    {
     "data": {
      "text/plain": [
       "'VAR_0203'"
      ]
     },
     "execution_count": 74,
     "metadata": {},
     "output_type": "execute_result"
    },
    {
     "name": "stdout",
     "output_type": "stream",
     "text": [
      "No. of unique values: 1\n",
      "No.of Null Values: 56\n"
     ]
    },
    {
     "data": {
      "text/plain": [
       "'VAR_0204'"
      ]
     },
     "execution_count": 74,
     "metadata": {},
     "output_type": "execute_result"
    },
    {
     "name": "stdout",
     "output_type": "stream",
     "text": [
      "No. of unique values: 1192\n",
      "No.of Null Values: 56\n"
     ]
    },
    {
     "data": {
      "text/plain": [
       "'VAR_0205'"
      ]
     },
     "execution_count": 74,
     "metadata": {},
     "output_type": "execute_result"
    },
    {
     "name": "stdout",
     "output_type": "stream",
     "text": [
      "No. of unique values: 750\n",
      "No.of Null Values: 142974\n"
     ]
    },
    {
     "data": {
      "text/plain": [
       "'VAR_0206'"
      ]
     },
     "execution_count": 74,
     "metadata": {},
     "output_type": "execute_result"
    },
    {
     "name": "stdout",
     "output_type": "stream",
     "text": [
      "No. of unique values: 503\n",
      "No.of Null Values: 142903\n"
     ]
    },
    {
     "data": {
      "text/plain": [
       "'VAR_0207'"
      ]
     },
     "execution_count": 74,
     "metadata": {},
     "output_type": "execute_result"
    },
    {
     "name": "stdout",
     "output_type": "stream",
     "text": [
      "No. of unique values: 0\n",
      "No.of Null Values: 145231\n"
     ]
    },
    {
     "data": {
      "text/plain": [
       "'VAR_0208'"
      ]
     },
     "execution_count": 74,
     "metadata": {},
     "output_type": "execute_result"
    },
    {
     "name": "stdout",
     "output_type": "stream",
     "text": [
      "No. of unique values: 392\n",
      "No.of Null Values: 125775\n"
     ]
    },
    {
     "data": {
      "text/plain": [
       "'VAR_0209'"
      ]
     },
     "execution_count": 74,
     "metadata": {},
     "output_type": "execute_result"
    },
    {
     "name": "stdout",
     "output_type": "stream",
     "text": [
      "No. of unique values: 1108\n",
      "No.of Null Values: 135844\n"
     ]
    },
    {
     "data": {
      "text/plain": [
       "'VAR_0210'"
      ]
     },
     "execution_count": 74,
     "metadata": {},
     "output_type": "execute_result"
    },
    {
     "name": "stdout",
     "output_type": "stream",
     "text": [
      "No. of unique values: 392\n",
      "No.of Null Values: 125775\n"
     ]
    },
    {
     "data": {
      "text/plain": [
       "'VAR_0211'"
      ]
     },
     "execution_count": 74,
     "metadata": {},
     "output_type": "execute_result"
    },
    {
     "name": "stdout",
     "output_type": "stream",
     "text": [
      "No. of unique values: 392\n",
      "No.of Null Values: 125775\n"
     ]
    },
    {
     "data": {
      "text/plain": [
       "'VAR_0212'"
      ]
     },
     "execution_count": 74,
     "metadata": {},
     "output_type": "execute_result"
    },
    {
     "name": "stdout",
     "output_type": "stream",
     "text": [
      "No. of unique values: 128761\n",
      "No.of Null Values: 12550\n"
     ]
    },
    {
     "data": {
      "text/plain": [
       "'VAR_0213'"
      ]
     },
     "execution_count": 74,
     "metadata": {},
     "output_type": "execute_result"
    },
    {
     "name": "stdout",
     "output_type": "stream",
     "text": [
      "No. of unique values: 0\n",
      "No.of Null Values: 145231\n"
     ]
    },
    {
     "data": {
      "text/plain": [
       "'VAR_0214'"
      ]
     },
     "execution_count": 74,
     "metadata": {},
     "output_type": "execute_result"
    },
    {
     "name": "stdout",
     "output_type": "stream",
     "text": [
      "No. of unique values: 12\n",
      "No.of Null Values: 145219\n"
     ]
    },
    {
     "data": {
      "text/plain": [
       "'VAR_0215'"
      ]
     },
     "execution_count": 74,
     "metadata": {},
     "output_type": "execute_result"
    },
    {
     "name": "stdout",
     "output_type": "stream",
     "text": [
      "No. of unique values: 1\n",
      "No.of Null Values: 56\n"
     ]
    },
    {
     "data": {
      "text/plain": [
       "'VAR_0216'"
      ]
     },
     "execution_count": 74,
     "metadata": {},
     "output_type": "execute_result"
    },
    {
     "name": "stdout",
     "output_type": "stream",
     "text": [
      "No. of unique values: 1\n",
      "No.of Null Values: 56\n"
     ]
    },
    {
     "data": {
      "text/plain": [
       "'VAR_0217'"
      ]
     },
     "execution_count": 74,
     "metadata": {},
     "output_type": "execute_result"
    },
    {
     "name": "stdout",
     "output_type": "stream",
     "text": [
      "No. of unique values: 397\n",
      "No.of Null Values: 56\n"
     ]
    },
    {
     "data": {
      "text/plain": [
       "'VAR_0219'"
      ]
     },
     "execution_count": 74,
     "metadata": {},
     "output_type": "execute_result"
    },
    {
     "name": "stdout",
     "output_type": "stream",
     "text": [
      "No. of unique values: 5\n",
      "No.of Null Values: 56\n"
     ]
    },
    {
     "data": {
      "text/plain": [
       "'VAR_0220'"
      ]
     },
     "execution_count": 74,
     "metadata": {},
     "output_type": "execute_result"
    },
    {
     "name": "stdout",
     "output_type": "stream",
     "text": [
      "No. of unique values: 8\n",
      "No.of Null Values: 56\n"
     ]
    },
    {
     "data": {
      "text/plain": [
       "'VAR_0221'"
      ]
     },
     "execution_count": 74,
     "metadata": {},
     "output_type": "execute_result"
    },
    {
     "name": "stdout",
     "output_type": "stream",
     "text": [
      "No. of unique values: 1\n",
      "No.of Null Values: 56\n"
     ]
    },
    {
     "data": {
      "text/plain": [
       "'VAR_0222'"
      ]
     },
     "execution_count": 74,
     "metadata": {},
     "output_type": "execute_result"
    },
    {
     "name": "stdout",
     "output_type": "stream",
     "text": [
      "No. of unique values: 1\n",
      "No.of Null Values: 56\n"
     ]
    },
    {
     "data": {
      "text/plain": [
       "'VAR_0223'"
      ]
     },
     "execution_count": 74,
     "metadata": {},
     "output_type": "execute_result"
    },
    {
     "name": "stdout",
     "output_type": "stream",
     "text": [
      "No. of unique values: 1\n",
      "No.of Null Values: 56\n"
     ]
    },
    {
     "data": {
      "text/plain": [
       "'VAR_0224'"
      ]
     },
     "execution_count": 74,
     "metadata": {},
     "output_type": "execute_result"
    },
    {
     "name": "stdout",
     "output_type": "stream",
     "text": [
      "No. of unique values: 358\n",
      "No.of Null Values: 56\n"
     ]
    },
    {
     "data": {
      "text/plain": [
       "'VAR_0225'"
      ]
     },
     "execution_count": 74,
     "metadata": {},
     "output_type": "execute_result"
    },
    {
     "name": "stdout",
     "output_type": "stream",
     "text": [
      "No. of unique values: 413\n",
      "No.of Null Values: 56\n"
     ]
    },
    {
     "data": {
      "text/plain": [
       "'VAR_0226'"
      ]
     },
     "execution_count": 74,
     "metadata": {},
     "output_type": "execute_result"
    },
    {
     "name": "stdout",
     "output_type": "stream",
     "text": [
      "No. of unique values: 2\n",
      "No.of Null Values: 56\n"
     ]
    },
    {
     "data": {
      "text/plain": [
       "'VAR_0227'"
      ]
     },
     "execution_count": 74,
     "metadata": {},
     "output_type": "execute_result"
    },
    {
     "name": "stdout",
     "output_type": "stream",
     "text": [
      "No. of unique values: 145171\n",
      "No.of Null Values: 56\n"
     ]
    },
    {
     "data": {
      "text/plain": [
       "'VAR_0228'"
      ]
     },
     "execution_count": 74,
     "metadata": {},
     "output_type": "execute_result"
    },
    {
     "name": "stdout",
     "output_type": "stream",
     "text": [
      "No. of unique values: 145171\n",
      "No.of Null Values: 56\n"
     ]
    },
    {
     "data": {
      "text/plain": [
       "'VAR_0229'"
      ]
     },
     "execution_count": 74,
     "metadata": {},
     "output_type": "execute_result"
    },
    {
     "name": "stdout",
     "output_type": "stream",
     "text": [
      "No. of unique values: 1\n",
      "No.of Null Values: 56\n"
     ]
    },
    {
     "data": {
      "text/plain": [
       "'VAR_0230'"
      ]
     },
     "execution_count": 74,
     "metadata": {},
     "output_type": "execute_result"
    },
    {
     "name": "stdout",
     "output_type": "stream",
     "text": [
      "No. of unique values: 2\n",
      "No.of Null Values: 56\n"
     ]
    },
    {
     "data": {
      "text/plain": [
       "'VAR_0231'"
      ]
     },
     "execution_count": 74,
     "metadata": {},
     "output_type": "execute_result"
    },
    {
     "name": "stdout",
     "output_type": "stream",
     "text": [
      "No. of unique values: 19\n",
      "No.of Null Values: 56\n"
     ]
    },
    {
     "data": {
      "text/plain": [
       "'VAR_0232'"
      ]
     },
     "execution_count": 74,
     "metadata": {},
     "output_type": "execute_result"
    },
    {
     "name": "stdout",
     "output_type": "stream",
     "text": [
      "No. of unique values: 2\n",
      "No.of Null Values: 56\n"
     ]
    },
    {
     "data": {
      "text/plain": [
       "'VAR_0233'"
      ]
     },
     "execution_count": 74,
     "metadata": {},
     "output_type": "execute_result"
    },
    {
     "name": "stdout",
     "output_type": "stream",
     "text": [
      "No. of unique values: 632\n",
      "No.of Null Values: 56\n"
     ]
    },
    {
     "data": {
      "text/plain": [
       "'VAR_0234'"
      ]
     },
     "execution_count": 74,
     "metadata": {},
     "output_type": "execute_result"
    },
    {
     "name": "stdout",
     "output_type": "stream",
     "text": [
      "No. of unique values: 669\n",
      "No.of Null Values: 56\n"
     ]
    },
    {
     "data": {
      "text/plain": [
       "'VAR_0235'"
      ]
     },
     "execution_count": 74,
     "metadata": {},
     "output_type": "execute_result"
    },
    {
     "name": "stdout",
     "output_type": "stream",
     "text": [
      "No. of unique values: 652\n",
      "No.of Null Values: 56\n"
     ]
    },
    {
     "data": {
      "text/plain": [
       "'VAR_0236'"
      ]
     },
     "execution_count": 74,
     "metadata": {},
     "output_type": "execute_result"
    },
    {
     "name": "stdout",
     "output_type": "stream",
     "text": [
      "No. of unique values: 2\n",
      "No.of Null Values: 56\n"
     ]
    },
    {
     "data": {
      "text/plain": [
       "'VAR_0237'"
      ]
     },
     "execution_count": 74,
     "metadata": {},
     "output_type": "execute_result"
    },
    {
     "name": "stdout",
     "output_type": "stream",
     "text": [
      "No. of unique values: 45\n",
      "No.of Null Values: 56\n"
     ]
    },
    {
     "data": {
      "text/plain": [
       "'VAR_0238'"
      ]
     },
     "execution_count": 74,
     "metadata": {},
     "output_type": "execute_result"
    },
    {
     "name": "stdout",
     "output_type": "stream",
     "text": [
      "No. of unique values: 685\n",
      "No.of Null Values: 56\n"
     ]
    },
    {
     "data": {
      "text/plain": [
       "'VAR_0239'"
      ]
     },
     "execution_count": 74,
     "metadata": {},
     "output_type": "execute_result"
    },
    {
     "name": "stdout",
     "output_type": "stream",
     "text": [
      "No. of unique values: 1\n",
      "No.of Null Values: 56\n"
     ]
    },
    {
     "data": {
      "text/plain": [
       "'VAR_0241'"
      ]
     },
     "execution_count": 74,
     "metadata": {},
     "output_type": "execute_result"
    },
    {
     "name": "stdout",
     "output_type": "stream",
     "text": [
      "No. of unique values: 16646\n",
      "No.of Null Values: 56\n"
     ]
    },
    {
     "data": {
      "text/plain": [
       "'VAR_0242'"
      ]
     },
     "execution_count": 74,
     "metadata": {},
     "output_type": "execute_result"
    },
    {
     "name": "stdout",
     "output_type": "stream",
     "text": [
      "No. of unique values: 668\n",
      "No.of Null Values: 918\n"
     ]
    },
    {
     "data": {
      "text/plain": [
       "'VAR_0243'"
      ]
     },
     "execution_count": 74,
     "metadata": {},
     "output_type": "execute_result"
    },
    {
     "name": "stdout",
     "output_type": "stream",
     "text": [
      "No. of unique values: 132\n",
      "No.of Null Values: 918\n"
     ]
    },
    {
     "data": {
      "text/plain": [
       "'VAR_0244'"
      ]
     },
     "execution_count": 74,
     "metadata": {},
     "output_type": "execute_result"
    },
    {
     "name": "stdout",
     "output_type": "stream",
     "text": [
      "No. of unique values: 2\n",
      "No.of Null Values: 918\n"
     ]
    },
    {
     "data": {
      "text/plain": [
       "'VAR_0245'"
      ]
     },
     "execution_count": 74,
     "metadata": {},
     "output_type": "execute_result"
    },
    {
     "name": "stdout",
     "output_type": "stream",
     "text": [
      "No. of unique values: 12\n",
      "No.of Null Values: 918\n"
     ]
    },
    {
     "data": {
      "text/plain": [
       "'VAR_0246'"
      ]
     },
     "execution_count": 74,
     "metadata": {},
     "output_type": "execute_result"
    },
    {
     "name": "stdout",
     "output_type": "stream",
     "text": [
      "No. of unique values: 1\n",
      "No.of Null Values: 918\n"
     ]
    },
    {
     "data": {
      "text/plain": [
       "'VAR_0247'"
      ]
     },
     "execution_count": 74,
     "metadata": {},
     "output_type": "execute_result"
    },
    {
     "name": "stdout",
     "output_type": "stream",
     "text": [
      "No. of unique values: 2\n",
      "No.of Null Values: 918\n"
     ]
    },
    {
     "data": {
      "text/plain": [
       "'VAR_0248'"
      ]
     },
     "execution_count": 74,
     "metadata": {},
     "output_type": "execute_result"
    },
    {
     "name": "stdout",
     "output_type": "stream",
     "text": [
      "No. of unique values: 3\n",
      "No.of Null Values: 918\n"
     ]
    },
    {
     "data": {
      "text/plain": [
       "'VAR_0249'"
      ]
     },
     "execution_count": 74,
     "metadata": {},
     "output_type": "execute_result"
    },
    {
     "name": "stdout",
     "output_type": "stream",
     "text": [
      "No. of unique values: 4\n",
      "No.of Null Values: 918\n"
     ]
    },
    {
     "data": {
      "text/plain": [
       "'VAR_0250'"
      ]
     },
     "execution_count": 74,
     "metadata": {},
     "output_type": "execute_result"
    },
    {
     "name": "stdout",
     "output_type": "stream",
     "text": [
      "No. of unique values: 4\n",
      "No.of Null Values: 918\n"
     ]
    },
    {
     "data": {
      "text/plain": [
       "'VAR_0251'"
      ]
     },
     "execution_count": 74,
     "metadata": {},
     "output_type": "execute_result"
    },
    {
     "name": "stdout",
     "output_type": "stream",
     "text": [
      "No. of unique values: 4\n",
      "No.of Null Values: 918\n"
     ]
    },
    {
     "data": {
      "text/plain": [
       "'VAR_0252'"
      ]
     },
     "execution_count": 74,
     "metadata": {},
     "output_type": "execute_result"
    },
    {
     "name": "stdout",
     "output_type": "stream",
     "text": [
      "No. of unique values: 3\n",
      "No.of Null Values: 918\n"
     ]
    },
    {
     "data": {
      "text/plain": [
       "'VAR_0253'"
      ]
     },
     "execution_count": 74,
     "metadata": {},
     "output_type": "execute_result"
    },
    {
     "name": "stdout",
     "output_type": "stream",
     "text": [
      "No. of unique values: 8\n",
      "No.of Null Values: 918\n"
     ]
    },
    {
     "data": {
      "text/plain": [
       "'VAR_0254'"
      ]
     },
     "execution_count": 74,
     "metadata": {},
     "output_type": "execute_result"
    },
    {
     "name": "stdout",
     "output_type": "stream",
     "text": [
      "No. of unique values: 92\n",
      "No.of Null Values: 918\n"
     ]
    },
    {
     "data": {
      "text/plain": [
       "'VAR_0255'"
      ]
     },
     "execution_count": 74,
     "metadata": {},
     "output_type": "execute_result"
    },
    {
     "name": "stdout",
     "output_type": "stream",
     "text": [
      "No. of unique values: 92\n",
      "No.of Null Values: 918\n"
     ]
    },
    {
     "data": {
      "text/plain": [
       "'VAR_0256'"
      ]
     },
     "execution_count": 74,
     "metadata": {},
     "output_type": "execute_result"
    },
    {
     "name": "stdout",
     "output_type": "stream",
     "text": [
      "No. of unique values: 22\n",
      "No.of Null Values: 918\n"
     ]
    },
    {
     "data": {
      "text/plain": [
       "'VAR_0257'"
      ]
     },
     "execution_count": 74,
     "metadata": {},
     "output_type": "execute_result"
    },
    {
     "name": "stdout",
     "output_type": "stream",
     "text": [
      "No. of unique values: 52\n",
      "No.of Null Values: 918\n"
     ]
    },
    {
     "data": {
      "text/plain": [
       "'VAR_0258'"
      ]
     },
     "execution_count": 74,
     "metadata": {},
     "output_type": "execute_result"
    },
    {
     "name": "stdout",
     "output_type": "stream",
     "text": [
      "No. of unique values: 8\n",
      "No.of Null Values: 918\n"
     ]
    },
    {
     "data": {
      "text/plain": [
       "'VAR_0259'"
      ]
     },
     "execution_count": 74,
     "metadata": {},
     "output_type": "execute_result"
    },
    {
     "name": "stdout",
     "output_type": "stream",
     "text": [
      "No. of unique values: 4\n",
      "No.of Null Values: 918\n"
     ]
    },
    {
     "data": {
      "text/plain": [
       "'VAR_0260'"
      ]
     },
     "execution_count": 74,
     "metadata": {},
     "output_type": "execute_result"
    },
    {
     "name": "stdout",
     "output_type": "stream",
     "text": [
      "No. of unique values: 9\n",
      "No.of Null Values: 918\n"
     ]
    },
    {
     "data": {
      "text/plain": [
       "'VAR_0261'"
      ]
     },
     "execution_count": 74,
     "metadata": {},
     "output_type": "execute_result"
    },
    {
     "name": "stdout",
     "output_type": "stream",
     "text": [
      "No. of unique values: 5\n",
      "No.of Null Values: 918\n"
     ]
    },
    {
     "data": {
      "text/plain": [
       "'VAR_0262'"
      ]
     },
     "execution_count": 74,
     "metadata": {},
     "output_type": "execute_result"
    },
    {
     "name": "stdout",
     "output_type": "stream",
     "text": [
      "No. of unique values: 23\n",
      "No.of Null Values: 918\n"
     ]
    },
    {
     "data": {
      "text/plain": [
       "'VAR_0263'"
      ]
     },
     "execution_count": 74,
     "metadata": {},
     "output_type": "execute_result"
    },
    {
     "name": "stdout",
     "output_type": "stream",
     "text": [
      "No. of unique values: 51\n",
      "No.of Null Values: 918\n"
     ]
    },
    {
     "data": {
      "text/plain": [
       "'VAR_0264'"
      ]
     },
     "execution_count": 74,
     "metadata": {},
     "output_type": "execute_result"
    },
    {
     "name": "stdout",
     "output_type": "stream",
     "text": [
      "No. of unique values: 4\n",
      "No.of Null Values: 918\n"
     ]
    },
    {
     "data": {
      "text/plain": [
       "'VAR_0265'"
      ]
     },
     "execution_count": 74,
     "metadata": {},
     "output_type": "execute_result"
    },
    {
     "name": "stdout",
     "output_type": "stream",
     "text": [
      "No. of unique values: 4\n",
      "No.of Null Values: 918\n"
     ]
    },
    {
     "data": {
      "text/plain": [
       "'VAR_0266'"
      ]
     },
     "execution_count": 74,
     "metadata": {},
     "output_type": "execute_result"
    },
    {
     "name": "stdout",
     "output_type": "stream",
     "text": [
      "No. of unique values: 59\n",
      "No.of Null Values: 918\n"
     ]
    },
    {
     "data": {
      "text/plain": [
       "'VAR_0267'"
      ]
     },
     "execution_count": 74,
     "metadata": {},
     "output_type": "execute_result"
    },
    {
     "name": "stdout",
     "output_type": "stream",
     "text": [
      "No. of unique values: 45\n",
      "No.of Null Values: 918\n"
     ]
    },
    {
     "data": {
      "text/plain": [
       "'VAR_0268'"
      ]
     },
     "execution_count": 74,
     "metadata": {},
     "output_type": "execute_result"
    },
    {
     "name": "stdout",
     "output_type": "stream",
     "text": [
      "No. of unique values: 7\n",
      "No.of Null Values: 918\n"
     ]
    },
    {
     "data": {
      "text/plain": [
       "'VAR_0269'"
      ]
     },
     "execution_count": 74,
     "metadata": {},
     "output_type": "execute_result"
    },
    {
     "name": "stdout",
     "output_type": "stream",
     "text": [
      "No. of unique values: 5\n",
      "No.of Null Values: 918\n"
     ]
    },
    {
     "data": {
      "text/plain": [
       "'VAR_0270'"
      ]
     },
     "execution_count": 74,
     "metadata": {},
     "output_type": "execute_result"
    },
    {
     "name": "stdout",
     "output_type": "stream",
     "text": [
      "No. of unique values: 43\n",
      "No.of Null Values: 918\n"
     ]
    },
    {
     "data": {
      "text/plain": [
       "'VAR_0271'"
      ]
     },
     "execution_count": 74,
     "metadata": {},
     "output_type": "execute_result"
    },
    {
     "name": "stdout",
     "output_type": "stream",
     "text": [
      "No. of unique values: 3\n",
      "No.of Null Values: 918\n"
     ]
    },
    {
     "data": {
      "text/plain": [
       "'VAR_0272'"
      ]
     },
     "execution_count": 74,
     "metadata": {},
     "output_type": "execute_result"
    },
    {
     "name": "stdout",
     "output_type": "stream",
     "text": [
      "No. of unique values: 757\n",
      "No.of Null Values: 918\n"
     ]
    },
    {
     "data": {
      "text/plain": [
       "'VAR_0273'"
      ]
     },
     "execution_count": 74,
     "metadata": {},
     "output_type": "execute_result"
    },
    {
     "name": "stdout",
     "output_type": "stream",
     "text": [
      "No. of unique values: 729\n",
      "No.of Null Values: 918\n"
     ]
    },
    {
     "data": {
      "text/plain": [
       "'VAR_0274'"
      ]
     },
     "execution_count": 74,
     "metadata": {},
     "output_type": "execute_result"
    },
    {
     "name": "stdout",
     "output_type": "stream",
     "text": [
      "No. of unique values: 57\n",
      "No.of Null Values: 918\n"
     ]
    },
    {
     "data": {
      "text/plain": [
       "'VAR_0275'"
      ]
     },
     "execution_count": 74,
     "metadata": {},
     "output_type": "execute_result"
    },
    {
     "name": "stdout",
     "output_type": "stream",
     "text": [
      "No. of unique values: 3\n",
      "No.of Null Values: 918\n"
     ]
    },
    {
     "data": {
      "text/plain": [
       "'VAR_0276'"
      ]
     },
     "execution_count": 74,
     "metadata": {},
     "output_type": "execute_result"
    },
    {
     "name": "stdout",
     "output_type": "stream",
     "text": [
      "No. of unique values: 3\n",
      "No.of Null Values: 918\n"
     ]
    },
    {
     "data": {
      "text/plain": [
       "'VAR_0277'"
      ]
     },
     "execution_count": 74,
     "metadata": {},
     "output_type": "execute_result"
    },
    {
     "name": "stdout",
     "output_type": "stream",
     "text": [
      "No. of unique values: 3\n",
      "No.of Null Values: 918\n"
     ]
    },
    {
     "data": {
      "text/plain": [
       "'VAR_0278'"
      ]
     },
     "execution_count": 74,
     "metadata": {},
     "output_type": "execute_result"
    },
    {
     "name": "stdout",
     "output_type": "stream",
     "text": [
      "No. of unique values: 7\n",
      "No.of Null Values: 918\n"
     ]
    },
    {
     "data": {
      "text/plain": [
       "'VAR_0279'"
      ]
     },
     "execution_count": 74,
     "metadata": {},
     "output_type": "execute_result"
    },
    {
     "name": "stdout",
     "output_type": "stream",
     "text": [
      "No. of unique values: 636\n",
      "No.of Null Values: 918\n"
     ]
    },
    {
     "data": {
      "text/plain": [
       "'VAR_0280'"
      ]
     },
     "execution_count": 74,
     "metadata": {},
     "output_type": "execute_result"
    },
    {
     "name": "stdout",
     "output_type": "stream",
     "text": [
      "No. of unique values: 190\n",
      "No.of Null Values: 918\n"
     ]
    },
    {
     "data": {
      "text/plain": [
       "'VAR_0281'"
      ]
     },
     "execution_count": 74,
     "metadata": {},
     "output_type": "execute_result"
    },
    {
     "name": "stdout",
     "output_type": "stream",
     "text": [
      "No. of unique values: 3\n",
      "No.of Null Values: 918\n"
     ]
    },
    {
     "data": {
      "text/plain": [
       "'VAR_0282'"
      ]
     },
     "execution_count": 74,
     "metadata": {},
     "output_type": "execute_result"
    },
    {
     "name": "stdout",
     "output_type": "stream",
     "text": [
      "No. of unique values: 636\n",
      "No.of Null Values: 918\n"
     ]
    },
    {
     "data": {
      "text/plain": [
       "'VAR_0283'"
      ]
     },
     "execution_count": 74,
     "metadata": {},
     "output_type": "execute_result"
    },
    {
     "name": "stdout",
     "output_type": "stream",
     "text": [
      "No. of unique values: 7\n",
      "No.of Null Values: 918\n"
     ]
    },
    {
     "data": {
      "text/plain": [
       "'VAR_0284'"
      ]
     },
     "execution_count": 74,
     "metadata": {},
     "output_type": "execute_result"
    },
    {
     "name": "stdout",
     "output_type": "stream",
     "text": [
      "No. of unique values: 5\n",
      "No.of Null Values: 918\n"
     ]
    },
    {
     "data": {
      "text/plain": [
       "'VAR_0285'"
      ]
     },
     "execution_count": 74,
     "metadata": {},
     "output_type": "execute_result"
    },
    {
     "name": "stdout",
     "output_type": "stream",
     "text": [
      "No. of unique values: 3\n",
      "No.of Null Values: 918\n"
     ]
    },
    {
     "data": {
      "text/plain": [
       "'VAR_0286'"
      ]
     },
     "execution_count": 74,
     "metadata": {},
     "output_type": "execute_result"
    },
    {
     "name": "stdout",
     "output_type": "stream",
     "text": [
      "No. of unique values: 3\n",
      "No.of Null Values: 918\n"
     ]
    },
    {
     "data": {
      "text/plain": [
       "'VAR_0287'"
      ]
     },
     "execution_count": 74,
     "metadata": {},
     "output_type": "execute_result"
    },
    {
     "name": "stdout",
     "output_type": "stream",
     "text": [
      "No. of unique values: 3\n",
      "No.of Null Values: 918\n"
     ]
    },
    {
     "data": {
      "text/plain": [
       "'VAR_0288'"
      ]
     },
     "execution_count": 74,
     "metadata": {},
     "output_type": "execute_result"
    },
    {
     "name": "stdout",
     "output_type": "stream",
     "text": [
      "No. of unique values: 692\n",
      "No.of Null Values: 918\n"
     ]
    },
    {
     "data": {
      "text/plain": [
       "'VAR_0289'"
      ]
     },
     "execution_count": 74,
     "metadata": {},
     "output_type": "execute_result"
    },
    {
     "name": "stdout",
     "output_type": "stream",
     "text": [
      "No. of unique values: 5135\n",
      "No.of Null Values: 918\n"
     ]
    },
    {
     "data": {
      "text/plain": [
       "'VAR_0290'"
      ]
     },
     "execution_count": 74,
     "metadata": {},
     "output_type": "execute_result"
    },
    {
     "name": "stdout",
     "output_type": "stream",
     "text": [
      "No. of unique values: 4\n",
      "No.of Null Values: 918\n"
     ]
    },
    {
     "data": {
      "text/plain": [
       "'VAR_0291'"
      ]
     },
     "execution_count": 74,
     "metadata": {},
     "output_type": "execute_result"
    },
    {
     "name": "stdout",
     "output_type": "stream",
     "text": [
      "No. of unique values: 3\n",
      "No.of Null Values: 918\n"
     ]
    },
    {
     "data": {
      "text/plain": [
       "'VAR_0292'"
      ]
     },
     "execution_count": 74,
     "metadata": {},
     "output_type": "execute_result"
    },
    {
     "name": "stdout",
     "output_type": "stream",
     "text": [
      "No. of unique values: 3\n",
      "No.of Null Values: 918\n"
     ]
    },
    {
     "data": {
      "text/plain": [
       "'VAR_0293'"
      ]
     },
     "execution_count": 74,
     "metadata": {},
     "output_type": "execute_result"
    },
    {
     "name": "stdout",
     "output_type": "stream",
     "text": [
      "No. of unique values: 41175\n",
      "No.of Null Values: 918\n"
     ]
    },
    {
     "data": {
      "text/plain": [
       "'VAR_0294'"
      ]
     },
     "execution_count": 74,
     "metadata": {},
     "output_type": "execute_result"
    },
    {
     "name": "stdout",
     "output_type": "stream",
     "text": [
      "No. of unique values: 18\n",
      "No.of Null Values: 918\n"
     ]
    },
    {
     "data": {
      "text/plain": [
       "'VAR_0295'"
      ]
     },
     "execution_count": 74,
     "metadata": {},
     "output_type": "execute_result"
    },
    {
     "name": "stdout",
     "output_type": "stream",
     "text": [
      "No. of unique values: 31113\n",
      "No.of Null Values: 918\n"
     ]
    },
    {
     "data": {
      "text/plain": [
       "'VAR_0296'"
      ]
     },
     "execution_count": 74,
     "metadata": {},
     "output_type": "execute_result"
    },
    {
     "name": "stdout",
     "output_type": "stream",
     "text": [
      "No. of unique values: 40598\n",
      "No.of Null Values: 918\n"
     ]
    },
    {
     "data": {
      "text/plain": [
       "'VAR_0297'"
      ]
     },
     "execution_count": 74,
     "metadata": {},
     "output_type": "execute_result"
    },
    {
     "name": "stdout",
     "output_type": "stream",
     "text": [
      "No. of unique values: 38862\n",
      "No.of Null Values: 918\n"
     ]
    },
    {
     "data": {
      "text/plain": [
       "'VAR_0298'"
      ]
     },
     "execution_count": 74,
     "metadata": {},
     "output_type": "execute_result"
    },
    {
     "name": "stdout",
     "output_type": "stream",
     "text": [
      "No. of unique values: 32647\n",
      "No.of Null Values: 918\n"
     ]
    },
    {
     "data": {
      "text/plain": [
       "'VAR_0299'"
      ]
     },
     "execution_count": 74,
     "metadata": {},
     "output_type": "execute_result"
    },
    {
     "name": "stdout",
     "output_type": "stream",
     "text": [
      "No. of unique values: 579\n",
      "No.of Null Values: 918\n"
     ]
    },
    {
     "data": {
      "text/plain": [
       "'VAR_0300'"
      ]
     },
     "execution_count": 74,
     "metadata": {},
     "output_type": "execute_result"
    },
    {
     "name": "stdout",
     "output_type": "stream",
     "text": [
      "No. of unique values: 620\n",
      "No.of Null Values: 918\n"
     ]
    },
    {
     "data": {
      "text/plain": [
       "'VAR_0301'"
      ]
     },
     "execution_count": 74,
     "metadata": {},
     "output_type": "execute_result"
    },
    {
     "name": "stdout",
     "output_type": "stream",
     "text": [
      "No. of unique values: 619\n",
      "No.of Null Values: 918\n"
     ]
    },
    {
     "data": {
      "text/plain": [
       "'VAR_0302'"
      ]
     },
     "execution_count": 74,
     "metadata": {},
     "output_type": "execute_result"
    },
    {
     "name": "stdout",
     "output_type": "stream",
     "text": [
      "No. of unique values: 630\n",
      "No.of Null Values: 918\n"
     ]
    },
    {
     "data": {
      "text/plain": [
       "'VAR_0303'"
      ]
     },
     "execution_count": 74,
     "metadata": {},
     "output_type": "execute_result"
    },
    {
     "name": "stdout",
     "output_type": "stream",
     "text": [
      "No. of unique values: 203\n",
      "No.of Null Values: 918\n"
     ]
    },
    {
     "data": {
      "text/plain": [
       "'VAR_0304'"
      ]
     },
     "execution_count": 74,
     "metadata": {},
     "output_type": "execute_result"
    },
    {
     "name": "stdout",
     "output_type": "stream",
     "text": [
      "No. of unique values: 629\n",
      "No.of Null Values: 918\n"
     ]
    },
    {
     "data": {
      "text/plain": [
       "'VAR_0305'"
      ]
     },
     "execution_count": 74,
     "metadata": {},
     "output_type": "execute_result"
    },
    {
     "name": "stdout",
     "output_type": "stream",
     "text": [
      "No. of unique values: 8\n",
      "No.of Null Values: 918\n"
     ]
    },
    {
     "data": {
      "text/plain": [
       "'VAR_0306'"
      ]
     },
     "execution_count": 74,
     "metadata": {},
     "output_type": "execute_result"
    },
    {
     "name": "stdout",
     "output_type": "stream",
     "text": [
      "No. of unique values: 3\n",
      "No.of Null Values: 918\n"
     ]
    },
    {
     "data": {
      "text/plain": [
       "'VAR_0307'"
      ]
     },
     "execution_count": 74,
     "metadata": {},
     "output_type": "execute_result"
    },
    {
     "name": "stdout",
     "output_type": "stream",
     "text": [
      "No. of unique values: 3\n",
      "No.of Null Values: 918\n"
     ]
    },
    {
     "data": {
      "text/plain": [
       "'VAR_0308'"
      ]
     },
     "execution_count": 74,
     "metadata": {},
     "output_type": "execute_result"
    },
    {
     "name": "stdout",
     "output_type": "stream",
     "text": [
      "No. of unique values: 3\n",
      "No.of Null Values: 918\n"
     ]
    },
    {
     "data": {
      "text/plain": [
       "'VAR_0309'"
      ]
     },
     "execution_count": 74,
     "metadata": {},
     "output_type": "execute_result"
    },
    {
     "name": "stdout",
     "output_type": "stream",
     "text": [
      "No. of unique values: 688\n",
      "No.of Null Values: 918\n"
     ]
    },
    {
     "data": {
      "text/plain": [
       "'VAR_0310'"
      ]
     },
     "execution_count": 74,
     "metadata": {},
     "output_type": "execute_result"
    },
    {
     "name": "stdout",
     "output_type": "stream",
     "text": [
      "No. of unique values: 5021\n",
      "No.of Null Values: 918\n"
     ]
    },
    {
     "data": {
      "text/plain": [
       "'VAR_0311'"
      ]
     },
     "execution_count": 74,
     "metadata": {},
     "output_type": "execute_result"
    },
    {
     "name": "stdout",
     "output_type": "stream",
     "text": [
      "No. of unique values: 4\n",
      "No.of Null Values: 918\n"
     ]
    },
    {
     "data": {
      "text/plain": [
       "'VAR_0312'"
      ]
     },
     "execution_count": 74,
     "metadata": {},
     "output_type": "execute_result"
    },
    {
     "name": "stdout",
     "output_type": "stream",
     "text": [
      "No. of unique values: 3\n",
      "No.of Null Values: 918\n"
     ]
    },
    {
     "data": {
      "text/plain": [
       "'VAR_0313'"
      ]
     },
     "execution_count": 74,
     "metadata": {},
     "output_type": "execute_result"
    },
    {
     "name": "stdout",
     "output_type": "stream",
     "text": [
      "No. of unique values: 39591\n",
      "No.of Null Values: 918\n"
     ]
    },
    {
     "data": {
      "text/plain": [
       "'VAR_0314'"
      ]
     },
     "execution_count": 74,
     "metadata": {},
     "output_type": "execute_result"
    },
    {
     "name": "stdout",
     "output_type": "stream",
     "text": [
      "No. of unique values: 18\n",
      "No.of Null Values: 918\n"
     ]
    },
    {
     "data": {
      "text/plain": [
       "'VAR_0315'"
      ]
     },
     "execution_count": 74,
     "metadata": {},
     "output_type": "execute_result"
    },
    {
     "name": "stdout",
     "output_type": "stream",
     "text": [
      "No. of unique values: 29816\n",
      "No.of Null Values: 918\n"
     ]
    },
    {
     "data": {
      "text/plain": [
       "'VAR_0316'"
      ]
     },
     "execution_count": 74,
     "metadata": {},
     "output_type": "execute_result"
    },
    {
     "name": "stdout",
     "output_type": "stream",
     "text": [
      "No. of unique values: 38547\n",
      "No.of Null Values: 918\n"
     ]
    },
    {
     "data": {
      "text/plain": [
       "'VAR_0317'"
      ]
     },
     "execution_count": 74,
     "metadata": {},
     "output_type": "execute_result"
    },
    {
     "name": "stdout",
     "output_type": "stream",
     "text": [
      "No. of unique values: 36978\n",
      "No.of Null Values: 918\n"
     ]
    },
    {
     "data": {
      "text/plain": [
       "'VAR_0318'"
      ]
     },
     "execution_count": 74,
     "metadata": {},
     "output_type": "execute_result"
    },
    {
     "name": "stdout",
     "output_type": "stream",
     "text": [
      "No. of unique values: 31303\n",
      "No.of Null Values: 918\n"
     ]
    },
    {
     "data": {
      "text/plain": [
       "'VAR_0319'"
      ]
     },
     "execution_count": 74,
     "metadata": {},
     "output_type": "execute_result"
    },
    {
     "name": "stdout",
     "output_type": "stream",
     "text": [
      "No. of unique values: 582\n",
      "No.of Null Values: 918\n"
     ]
    },
    {
     "data": {
      "text/plain": [
       "'VAR_0320'"
      ]
     },
     "execution_count": 74,
     "metadata": {},
     "output_type": "execute_result"
    },
    {
     "name": "stdout",
     "output_type": "stream",
     "text": [
      "No. of unique values: 619\n",
      "No.of Null Values: 918\n"
     ]
    },
    {
     "data": {
      "text/plain": [
       "'VAR_0321'"
      ]
     },
     "execution_count": 74,
     "metadata": {},
     "output_type": "execute_result"
    },
    {
     "name": "stdout",
     "output_type": "stream",
     "text": [
      "No. of unique values: 615\n",
      "No.of Null Values: 918\n"
     ]
    },
    {
     "data": {
      "text/plain": [
       "'VAR_0322'"
      ]
     },
     "execution_count": 74,
     "metadata": {},
     "output_type": "execute_result"
    },
    {
     "name": "stdout",
     "output_type": "stream",
     "text": [
      "No. of unique values: 562\n",
      "No.of Null Values: 918\n"
     ]
    },
    {
     "data": {
      "text/plain": [
       "'VAR_0323'"
      ]
     },
     "execution_count": 74,
     "metadata": {},
     "output_type": "execute_result"
    },
    {
     "name": "stdout",
     "output_type": "stream",
     "text": [
      "No. of unique values: 368\n",
      "No.of Null Values: 918\n"
     ]
    },
    {
     "data": {
      "text/plain": [
       "'VAR_0324'"
      ]
     },
     "execution_count": 74,
     "metadata": {},
     "output_type": "execute_result"
    },
    {
     "name": "stdout",
     "output_type": "stream",
     "text": [
      "No. of unique values: 543\n",
      "No.of Null Values: 918\n"
     ]
    },
    {
     "data": {
      "text/plain": [
       "'VAR_0325'"
      ]
     },
     "execution_count": 74,
     "metadata": {},
     "output_type": "execute_result"
    },
    {
     "name": "stdout",
     "output_type": "stream",
     "text": [
      "No. of unique values: 9\n",
      "No.of Null Values: 918\n"
     ]
    },
    {
     "data": {
      "text/plain": [
       "'VAR_0326'"
      ]
     },
     "execution_count": 74,
     "metadata": {},
     "output_type": "execute_result"
    },
    {
     "name": "stdout",
     "output_type": "stream",
     "text": [
      "No. of unique values: 3\n",
      "No.of Null Values: 918\n"
     ]
    },
    {
     "data": {
      "text/plain": [
       "'VAR_0327'"
      ]
     },
     "execution_count": 74,
     "metadata": {},
     "output_type": "execute_result"
    },
    {
     "name": "stdout",
     "output_type": "stream",
     "text": [
      "No. of unique values: 3\n",
      "No.of Null Values: 918\n"
     ]
    },
    {
     "data": {
      "text/plain": [
       "'VAR_0328'"
      ]
     },
     "execution_count": 74,
     "metadata": {},
     "output_type": "execute_result"
    },
    {
     "name": "stdout",
     "output_type": "stream",
     "text": [
      "No. of unique values: 3\n",
      "No.of Null Values: 918\n"
     ]
    },
    {
     "data": {
      "text/plain": [
       "'VAR_0329'"
      ]
     },
     "execution_count": 74,
     "metadata": {},
     "output_type": "execute_result"
    },
    {
     "name": "stdout",
     "output_type": "stream",
     "text": [
      "No. of unique values: 690\n",
      "No.of Null Values: 918\n"
     ]
    },
    {
     "data": {
      "text/plain": [
       "'VAR_0330'"
      ]
     },
     "execution_count": 74,
     "metadata": {},
     "output_type": "execute_result"
    },
    {
     "name": "stdout",
     "output_type": "stream",
     "text": [
      "No. of unique values: 4338\n",
      "No.of Null Values: 918\n"
     ]
    },
    {
     "data": {
      "text/plain": [
       "'VAR_0331'"
      ]
     },
     "execution_count": 74,
     "metadata": {},
     "output_type": "execute_result"
    },
    {
     "name": "stdout",
     "output_type": "stream",
     "text": [
      "No. of unique values: 32940\n",
      "No.of Null Values: 918\n"
     ]
    },
    {
     "data": {
      "text/plain": [
       "'VAR_0332'"
      ]
     },
     "execution_count": 74,
     "metadata": {},
     "output_type": "execute_result"
    },
    {
     "name": "stdout",
     "output_type": "stream",
     "text": [
      "No. of unique values: 18\n",
      "No.of Null Values: 918\n"
     ]
    },
    {
     "data": {
      "text/plain": [
       "'VAR_0333'"
      ]
     },
     "execution_count": 74,
     "metadata": {},
     "output_type": "execute_result"
    },
    {
     "name": "stdout",
     "output_type": "stream",
     "text": [
      "No. of unique values: 24087\n",
      "No.of Null Values: 918\n"
     ]
    },
    {
     "data": {
      "text/plain": [
       "'VAR_0334'"
      ]
     },
     "execution_count": 74,
     "metadata": {},
     "output_type": "execute_result"
    },
    {
     "name": "stdout",
     "output_type": "stream",
     "text": [
      "No. of unique values: 30008\n",
      "No.of Null Values: 918\n"
     ]
    },
    {
     "data": {
      "text/plain": [
       "'VAR_0335'"
      ]
     },
     "execution_count": 74,
     "metadata": {},
     "output_type": "execute_result"
    },
    {
     "name": "stdout",
     "output_type": "stream",
     "text": [
      "No. of unique values: 588\n",
      "No.of Null Values: 918\n"
     ]
    },
    {
     "data": {
      "text/plain": [
       "'VAR_0336'"
      ]
     },
     "execution_count": 74,
     "metadata": {},
     "output_type": "execute_result"
    },
    {
     "name": "stdout",
     "output_type": "stream",
     "text": [
      "No. of unique values: 606\n",
      "No.of Null Values: 918\n"
     ]
    },
    {
     "data": {
      "text/plain": [
       "'VAR_0337'"
      ]
     },
     "execution_count": 74,
     "metadata": {},
     "output_type": "execute_result"
    },
    {
     "name": "stdout",
     "output_type": "stream",
     "text": [
      "No. of unique values: 620\n",
      "No.of Null Values: 918\n"
     ]
    },
    {
     "data": {
      "text/plain": [
       "'VAR_0338'"
      ]
     },
     "execution_count": 74,
     "metadata": {},
     "output_type": "execute_result"
    },
    {
     "name": "stdout",
     "output_type": "stream",
     "text": [
      "No. of unique values: 2810\n",
      "No.of Null Values: 918\n"
     ]
    },
    {
     "data": {
      "text/plain": [
       "'VAR_0339'"
      ]
     },
     "execution_count": 74,
     "metadata": {},
     "output_type": "execute_result"
    },
    {
     "name": "stdout",
     "output_type": "stream",
     "text": [
      "No. of unique values: 3\n",
      "No.of Null Values: 918\n"
     ]
    },
    {
     "data": {
      "text/plain": [
       "'VAR_0340'"
      ]
     },
     "execution_count": 74,
     "metadata": {},
     "output_type": "execute_result"
    },
    {
     "name": "stdout",
     "output_type": "stream",
     "text": [
      "No. of unique values: 22535\n",
      "No.of Null Values: 918\n"
     ]
    },
    {
     "data": {
      "text/plain": [
       "'VAR_0341'"
      ]
     },
     "execution_count": 74,
     "metadata": {},
     "output_type": "execute_result"
    },
    {
     "name": "stdout",
     "output_type": "stream",
     "text": [
      "No. of unique values: 540\n",
      "No.of Null Values: 918\n"
     ]
    },
    {
     "data": {
      "text/plain": [
       "'VAR_0342'"
      ]
     },
     "execution_count": 74,
     "metadata": {},
     "output_type": "execute_result"
    },
    {
     "name": "stdout",
     "output_type": "stream",
     "text": [
      "No. of unique values: 50\n",
      "No.of Null Values: 918\n"
     ]
    },
    {
     "data": {
      "text/plain": [
       "'VAR_0343'"
      ]
     },
     "execution_count": 74,
     "metadata": {},
     "output_type": "execute_result"
    },
    {
     "name": "stdout",
     "output_type": "stream",
     "text": [
      "No. of unique values: 7\n",
      "No.of Null Values: 918\n"
     ]
    },
    {
     "data": {
      "text/plain": [
       "'VAR_0344'"
      ]
     },
     "execution_count": 74,
     "metadata": {},
     "output_type": "execute_result"
    },
    {
     "name": "stdout",
     "output_type": "stream",
     "text": [
      "No. of unique values: 2\n",
      "No.of Null Values: 918\n"
     ]
    },
    {
     "data": {
      "text/plain": [
       "'VAR_0345'"
      ]
     },
     "execution_count": 74,
     "metadata": {},
     "output_type": "execute_result"
    },
    {
     "name": "stdout",
     "output_type": "stream",
     "text": [
      "No. of unique values: 3\n",
      "No.of Null Values: 918\n"
     ]
    },
    {
     "data": {
      "text/plain": [
       "'VAR_0346'"
      ]
     },
     "execution_count": 74,
     "metadata": {},
     "output_type": "execute_result"
    },
    {
     "name": "stdout",
     "output_type": "stream",
     "text": [
      "No. of unique values: 3\n",
      "No.of Null Values: 918\n"
     ]
    },
    {
     "data": {
      "text/plain": [
       "'VAR_0347'"
      ]
     },
     "execution_count": 74,
     "metadata": {},
     "output_type": "execute_result"
    },
    {
     "name": "stdout",
     "output_type": "stream",
     "text": [
      "No. of unique values: 3\n",
      "No.of Null Values: 918\n"
     ]
    },
    {
     "data": {
      "text/plain": [
       "'VAR_0348'"
      ]
     },
     "execution_count": 74,
     "metadata": {},
     "output_type": "execute_result"
    },
    {
     "name": "stdout",
     "output_type": "stream",
     "text": [
      "No. of unique values: 3\n",
      "No.of Null Values: 918\n"
     ]
    },
    {
     "data": {
      "text/plain": [
       "'VAR_0349'"
      ]
     },
     "execution_count": 74,
     "metadata": {},
     "output_type": "execute_result"
    },
    {
     "name": "stdout",
     "output_type": "stream",
     "text": [
      "No. of unique values: 9\n",
      "No.of Null Values: 918\n"
     ]
    },
    {
     "data": {
      "text/plain": [
       "'VAR_0350'"
      ]
     },
     "execution_count": 74,
     "metadata": {},
     "output_type": "execute_result"
    },
    {
     "name": "stdout",
     "output_type": "stream",
     "text": [
      "No. of unique values: 8\n",
      "No.of Null Values: 927\n"
     ]
    },
    {
     "data": {
      "text/plain": [
       "'VAR_0351'"
      ]
     },
     "execution_count": 74,
     "metadata": {},
     "output_type": "execute_result"
    },
    {
     "name": "stdout",
     "output_type": "stream",
     "text": [
      "No. of unique values: 7\n",
      "No.of Null Values: 918\n"
     ]
    },
    {
     "data": {
      "text/plain": [
       "'VAR_0352'"
      ]
     },
     "execution_count": 74,
     "metadata": {},
     "output_type": "execute_result"
    },
    {
     "name": "stdout",
     "output_type": "stream",
     "text": [
      "No. of unique values: 4\n",
      "No.of Null Values: 918\n"
     ]
    },
    {
     "data": {
      "text/plain": [
       "'VAR_0353'"
      ]
     },
     "execution_count": 74,
     "metadata": {},
     "output_type": "execute_result"
    },
    {
     "name": "stdout",
     "output_type": "stream",
     "text": [
      "No. of unique values: 4\n",
      "No.of Null Values: 918\n"
     ]
    },
    {
     "data": {
      "text/plain": [
       "'VAR_0354'"
      ]
     },
     "execution_count": 74,
     "metadata": {},
     "output_type": "execute_result"
    },
    {
     "name": "stdout",
     "output_type": "stream",
     "text": [
      "No. of unique values: 4\n",
      "No.of Null Values: 918\n"
     ]
    },
    {
     "data": {
      "text/plain": [
       "'VAR_0355'"
      ]
     },
     "execution_count": 74,
     "metadata": {},
     "output_type": "execute_result"
    },
    {
     "name": "stdout",
     "output_type": "stream",
     "text": [
      "No. of unique values: 7\n",
      "No.of Null Values: 918\n"
     ]
    },
    {
     "data": {
      "text/plain": [
       "'VAR_0356'"
      ]
     },
     "execution_count": 74,
     "metadata": {},
     "output_type": "execute_result"
    },
    {
     "name": "stdout",
     "output_type": "stream",
     "text": [
      "No. of unique values: 7\n",
      "No.of Null Values: 918\n"
     ]
    },
    {
     "data": {
      "text/plain": [
       "'VAR_0357'"
      ]
     },
     "execution_count": 74,
     "metadata": {},
     "output_type": "execute_result"
    },
    {
     "name": "stdout",
     "output_type": "stream",
     "text": [
      "No. of unique values: 9\n",
      "No.of Null Values: 918\n"
     ]
    },
    {
     "data": {
      "text/plain": [
       "'VAR_0358'"
      ]
     },
     "execution_count": 74,
     "metadata": {},
     "output_type": "execute_result"
    },
    {
     "name": "stdout",
     "output_type": "stream",
     "text": [
      "No. of unique values: 12\n",
      "No.of Null Values: 918\n"
     ]
    },
    {
     "data": {
      "text/plain": [
       "'VAR_0359'"
      ]
     },
     "execution_count": 74,
     "metadata": {},
     "output_type": "execute_result"
    },
    {
     "name": "stdout",
     "output_type": "stream",
     "text": [
      "No. of unique values: 15\n",
      "No.of Null Values: 918\n"
     ]
    },
    {
     "data": {
      "text/plain": [
       "'VAR_0360'"
      ]
     },
     "execution_count": 74,
     "metadata": {},
     "output_type": "execute_result"
    },
    {
     "name": "stdout",
     "output_type": "stream",
     "text": [
      "No. of unique values: 24\n",
      "No.of Null Values: 918\n"
     ]
    },
    {
     "data": {
      "text/plain": [
       "'VAR_0361'"
      ]
     },
     "execution_count": 74,
     "metadata": {},
     "output_type": "execute_result"
    },
    {
     "name": "stdout",
     "output_type": "stream",
     "text": [
      "No. of unique values: 191\n",
      "No.of Null Values: 918\n"
     ]
    },
    {
     "data": {
      "text/plain": [
       "'VAR_0362'"
      ]
     },
     "execution_count": 74,
     "metadata": {},
     "output_type": "execute_result"
    },
    {
     "name": "stdout",
     "output_type": "stream",
     "text": [
      "No. of unique values: 2\n",
      "No.of Null Values: 918\n"
     ]
    },
    {
     "data": {
      "text/plain": [
       "'VAR_0363'"
      ]
     },
     "execution_count": 74,
     "metadata": {},
     "output_type": "execute_result"
    },
    {
     "name": "stdout",
     "output_type": "stream",
     "text": [
      "No. of unique values: 23\n",
      "No.of Null Values: 918\n"
     ]
    },
    {
     "data": {
      "text/plain": [
       "'VAR_0364'"
      ]
     },
     "execution_count": 74,
     "metadata": {},
     "output_type": "execute_result"
    },
    {
     "name": "stdout",
     "output_type": "stream",
     "text": [
      "No. of unique values: 22326\n",
      "No.of Null Values: 918\n"
     ]
    },
    {
     "data": {
      "text/plain": [
       "'VAR_0365'"
      ]
     },
     "execution_count": 74,
     "metadata": {},
     "output_type": "execute_result"
    },
    {
     "name": "stdout",
     "output_type": "stream",
     "text": [
      "No. of unique values: 26\n",
      "No.of Null Values: 918\n"
     ]
    },
    {
     "data": {
      "text/plain": [
       "'VAR_0366'"
      ]
     },
     "execution_count": 74,
     "metadata": {},
     "output_type": "execute_result"
    },
    {
     "name": "stdout",
     "output_type": "stream",
     "text": [
      "No. of unique values: 621\n",
      "No.of Null Values: 918\n"
     ]
    },
    {
     "data": {
      "text/plain": [
       "'VAR_0367'"
      ]
     },
     "execution_count": 74,
     "metadata": {},
     "output_type": "execute_result"
    },
    {
     "name": "stdout",
     "output_type": "stream",
     "text": [
      "No. of unique values: 588\n",
      "No.of Null Values: 918\n"
     ]
    },
    {
     "data": {
      "text/plain": [
       "'VAR_0368'"
      ]
     },
     "execution_count": 74,
     "metadata": {},
     "output_type": "execute_result"
    },
    {
     "name": "stdout",
     "output_type": "stream",
     "text": [
      "No. of unique values: 253\n",
      "No.of Null Values: 918\n"
     ]
    },
    {
     "data": {
      "text/plain": [
       "'VAR_0369'"
      ]
     },
     "execution_count": 74,
     "metadata": {},
     "output_type": "execute_result"
    },
    {
     "name": "stdout",
     "output_type": "stream",
     "text": [
      "No. of unique values: 3463\n",
      "No.of Null Values: 918\n"
     ]
    },
    {
     "data": {
      "text/plain": [
       "'VAR_0370'"
      ]
     },
     "execution_count": 74,
     "metadata": {},
     "output_type": "execute_result"
    },
    {
     "name": "stdout",
     "output_type": "stream",
     "text": [
      "No. of unique values: 493\n",
      "No.of Null Values: 918\n"
     ]
    },
    {
     "data": {
      "text/plain": [
       "'VAR_0371'"
      ]
     },
     "execution_count": 74,
     "metadata": {},
     "output_type": "execute_result"
    },
    {
     "name": "stdout",
     "output_type": "stream",
     "text": [
      "No. of unique values: 4\n",
      "No.of Null Values: 918\n"
     ]
    },
    {
     "data": {
      "text/plain": [
       "'VAR_0372'"
      ]
     },
     "execution_count": 74,
     "metadata": {},
     "output_type": "execute_result"
    },
    {
     "name": "stdout",
     "output_type": "stream",
     "text": [
      "No. of unique values: 4\n",
      "No.of Null Values: 918\n"
     ]
    },
    {
     "data": {
      "text/plain": [
       "'VAR_0373'"
      ]
     },
     "execution_count": 74,
     "metadata": {},
     "output_type": "execute_result"
    },
    {
     "name": "stdout",
     "output_type": "stream",
     "text": [
      "No. of unique values: 5\n",
      "No.of Null Values: 918\n"
     ]
    },
    {
     "data": {
      "text/plain": [
       "'VAR_0374'"
      ]
     },
     "execution_count": 74,
     "metadata": {},
     "output_type": "execute_result"
    },
    {
     "name": "stdout",
     "output_type": "stream",
     "text": [
      "No. of unique values: 7\n",
      "No.of Null Values: 918\n"
     ]
    },
    {
     "data": {
      "text/plain": [
       "'VAR_0375'"
      ]
     },
     "execution_count": 74,
     "metadata": {},
     "output_type": "execute_result"
    },
    {
     "name": "stdout",
     "output_type": "stream",
     "text": [
      "No. of unique values: 9\n",
      "No.of Null Values: 918\n"
     ]
    },
    {
     "data": {
      "text/plain": [
       "'VAR_0376'"
      ]
     },
     "execution_count": 74,
     "metadata": {},
     "output_type": "execute_result"
    },
    {
     "name": "stdout",
     "output_type": "stream",
     "text": [
      "No. of unique values: 14\n",
      "No.of Null Values: 918\n"
     ]
    },
    {
     "data": {
      "text/plain": [
       "'VAR_0377'"
      ]
     },
     "execution_count": 74,
     "metadata": {},
     "output_type": "execute_result"
    },
    {
     "name": "stdout",
     "output_type": "stream",
     "text": [
      "No. of unique values: 3\n",
      "No.of Null Values: 918\n"
     ]
    },
    {
     "data": {
      "text/plain": [
       "'VAR_0378'"
      ]
     },
     "execution_count": 74,
     "metadata": {},
     "output_type": "execute_result"
    },
    {
     "name": "stdout",
     "output_type": "stream",
     "text": [
      "No. of unique values: 4\n",
      "No.of Null Values: 918\n"
     ]
    },
    {
     "data": {
      "text/plain": [
       "'VAR_0379'"
      ]
     },
     "execution_count": 74,
     "metadata": {},
     "output_type": "execute_result"
    },
    {
     "name": "stdout",
     "output_type": "stream",
     "text": [
      "No. of unique values: 5\n",
      "No.of Null Values: 918\n"
     ]
    },
    {
     "data": {
      "text/plain": [
       "'VAR_0380'"
      ]
     },
     "execution_count": 74,
     "metadata": {},
     "output_type": "execute_result"
    },
    {
     "name": "stdout",
     "output_type": "stream",
     "text": [
      "No. of unique values: 5\n",
      "No.of Null Values: 918\n"
     ]
    },
    {
     "data": {
      "text/plain": [
       "'VAR_0381'"
      ]
     },
     "execution_count": 74,
     "metadata": {},
     "output_type": "execute_result"
    },
    {
     "name": "stdout",
     "output_type": "stream",
     "text": [
      "No. of unique values: 6\n",
      "No.of Null Values: 918\n"
     ]
    },
    {
     "data": {
      "text/plain": [
       "'VAR_0382'"
      ]
     },
     "execution_count": 74,
     "metadata": {},
     "output_type": "execute_result"
    },
    {
     "name": "stdout",
     "output_type": "stream",
     "text": [
      "No. of unique values: 11\n",
      "No.of Null Values: 918\n"
     ]
    },
    {
     "data": {
      "text/plain": [
       "'VAR_0383'"
      ]
     },
     "execution_count": 74,
     "metadata": {},
     "output_type": "execute_result"
    },
    {
     "name": "stdout",
     "output_type": "stream",
     "text": [
      "No. of unique values: 2\n",
      "No.of Null Values: 918\n"
     ]
    },
    {
     "data": {
      "text/plain": [
       "'VAR_0384'"
      ]
     },
     "execution_count": 74,
     "metadata": {},
     "output_type": "execute_result"
    },
    {
     "name": "stdout",
     "output_type": "stream",
     "text": [
      "No. of unique values: 2\n",
      "No.of Null Values: 918\n"
     ]
    },
    {
     "data": {
      "text/plain": [
       "'VAR_0385'"
      ]
     },
     "execution_count": 74,
     "metadata": {},
     "output_type": "execute_result"
    },
    {
     "name": "stdout",
     "output_type": "stream",
     "text": [
      "No. of unique values: 21\n",
      "No.of Null Values: 918\n"
     ]
    },
    {
     "data": {
      "text/plain": [
       "'VAR_0386'"
      ]
     },
     "execution_count": 74,
     "metadata": {},
     "output_type": "execute_result"
    },
    {
     "name": "stdout",
     "output_type": "stream",
     "text": [
      "No. of unique values: 3\n",
      "No.of Null Values: 918\n"
     ]
    },
    {
     "data": {
      "text/plain": [
       "'VAR_0387'"
      ]
     },
     "execution_count": 74,
     "metadata": {},
     "output_type": "execute_result"
    },
    {
     "name": "stdout",
     "output_type": "stream",
     "text": [
      "No. of unique values: 4\n",
      "No.of Null Values: 918\n"
     ]
    },
    {
     "data": {
      "text/plain": [
       "'VAR_0388'"
      ]
     },
     "execution_count": 74,
     "metadata": {},
     "output_type": "execute_result"
    },
    {
     "name": "stdout",
     "output_type": "stream",
     "text": [
      "No. of unique values: 6\n",
      "No.of Null Values: 918\n"
     ]
    },
    {
     "data": {
      "text/plain": [
       "'VAR_0389'"
      ]
     },
     "execution_count": 74,
     "metadata": {},
     "output_type": "execute_result"
    },
    {
     "name": "stdout",
     "output_type": "stream",
     "text": [
      "No. of unique values: 8\n",
      "No.of Null Values: 918\n"
     ]
    },
    {
     "data": {
      "text/plain": [
       "'VAR_0390'"
      ]
     },
     "execution_count": 74,
     "metadata": {},
     "output_type": "execute_result"
    },
    {
     "name": "stdout",
     "output_type": "stream",
     "text": [
      "No. of unique values: 10\n",
      "No.of Null Values: 918\n"
     ]
    },
    {
     "data": {
      "text/plain": [
       "'VAR_0391'"
      ]
     },
     "execution_count": 74,
     "metadata": {},
     "output_type": "execute_result"
    },
    {
     "name": "stdout",
     "output_type": "stream",
     "text": [
      "No. of unique values: 17\n",
      "No.of Null Values: 918\n"
     ]
    },
    {
     "data": {
      "text/plain": [
       "'VAR_0392'"
      ]
     },
     "execution_count": 74,
     "metadata": {},
     "output_type": "execute_result"
    },
    {
     "name": "stdout",
     "output_type": "stream",
     "text": [
      "No. of unique values: 2\n",
      "No.of Null Values: 918\n"
     ]
    },
    {
     "data": {
      "text/plain": [
       "'VAR_0393'"
      ]
     },
     "execution_count": 74,
     "metadata": {},
     "output_type": "execute_result"
    },
    {
     "name": "stdout",
     "output_type": "stream",
     "text": [
      "No. of unique values: 5\n",
      "No.of Null Values: 918\n"
     ]
    },
    {
     "data": {
      "text/plain": [
       "'VAR_0394'"
      ]
     },
     "execution_count": 74,
     "metadata": {},
     "output_type": "execute_result"
    },
    {
     "name": "stdout",
     "output_type": "stream",
     "text": [
      "No. of unique values: 1\n",
      "No.of Null Values: 918\n"
     ]
    },
    {
     "data": {
      "text/plain": [
       "'VAR_0395'"
      ]
     },
     "execution_count": 74,
     "metadata": {},
     "output_type": "execute_result"
    },
    {
     "name": "stdout",
     "output_type": "stream",
     "text": [
      "No. of unique values: 2\n",
      "No.of Null Values: 918\n"
     ]
    },
    {
     "data": {
      "text/plain": [
       "'VAR_0396'"
      ]
     },
     "execution_count": 74,
     "metadata": {},
     "output_type": "execute_result"
    },
    {
     "name": "stdout",
     "output_type": "stream",
     "text": [
      "No. of unique values: 3\n",
      "No.of Null Values: 918\n"
     ]
    },
    {
     "data": {
      "text/plain": [
       "'VAR_0397'"
      ]
     },
     "execution_count": 74,
     "metadata": {},
     "output_type": "execute_result"
    },
    {
     "name": "stdout",
     "output_type": "stream",
     "text": [
      "No. of unique values: 3\n",
      "No.of Null Values: 918\n"
     ]
    },
    {
     "data": {
      "text/plain": [
       "'VAR_0398'"
      ]
     },
     "execution_count": 74,
     "metadata": {},
     "output_type": "execute_result"
    },
    {
     "name": "stdout",
     "output_type": "stream",
     "text": [
      "No. of unique values: 3\n",
      "No.of Null Values: 918\n"
     ]
    },
    {
     "data": {
      "text/plain": [
       "'VAR_0399'"
      ]
     },
     "execution_count": 74,
     "metadata": {},
     "output_type": "execute_result"
    },
    {
     "name": "stdout",
     "output_type": "stream",
     "text": [
      "No. of unique values: 3\n",
      "No.of Null Values: 918\n"
     ]
    },
    {
     "data": {
      "text/plain": [
       "'VAR_0400'"
      ]
     },
     "execution_count": 74,
     "metadata": {},
     "output_type": "execute_result"
    },
    {
     "name": "stdout",
     "output_type": "stream",
     "text": [
      "No. of unique values: 7\n",
      "No.of Null Values: 918\n"
     ]
    },
    {
     "data": {
      "text/plain": [
       "'VAR_0401'"
      ]
     },
     "execution_count": 74,
     "metadata": {},
     "output_type": "execute_result"
    },
    {
     "name": "stdout",
     "output_type": "stream",
     "text": [
      "No. of unique values: 3\n",
      "No.of Null Values: 918\n"
     ]
    },
    {
     "data": {
      "text/plain": [
       "'VAR_0402'"
      ]
     },
     "execution_count": 74,
     "metadata": {},
     "output_type": "execute_result"
    },
    {
     "name": "stdout",
     "output_type": "stream",
     "text": [
      "No. of unique values: 3\n",
      "No.of Null Values: 918\n"
     ]
    },
    {
     "data": {
      "text/plain": [
       "'VAR_0403'"
      ]
     },
     "execution_count": 74,
     "metadata": {},
     "output_type": "execute_result"
    },
    {
     "name": "stdout",
     "output_type": "stream",
     "text": [
      "No. of unique values: 536\n",
      "No.of Null Values: 918\n"
     ]
    },
    {
     "data": {
      "text/plain": [
       "'VAR_0404'"
      ]
     },
     "execution_count": 74,
     "metadata": {},
     "output_type": "execute_result"
    },
    {
     "name": "stdout",
     "output_type": "stream",
     "text": [
      "No. of unique values: 1823\n",
      "No.of Null Values: 918\n"
     ]
    },
    {
     "data": {
      "text/plain": [
       "'VAR_0405'"
      ]
     },
     "execution_count": 74,
     "metadata": {},
     "output_type": "execute_result"
    },
    {
     "name": "stdout",
     "output_type": "stream",
     "text": [
      "No. of unique values: 6\n",
      "No.of Null Values: 918\n"
     ]
    },
    {
     "data": {
      "text/plain": [
       "'VAR_0406'"
      ]
     },
     "execution_count": 74,
     "metadata": {},
     "output_type": "execute_result"
    },
    {
     "name": "stdout",
     "output_type": "stream",
     "text": [
      "No. of unique values: 69\n",
      "No.of Null Values: 918\n"
     ]
    },
    {
     "data": {
      "text/plain": [
       "'VAR_0407'"
      ]
     },
     "execution_count": 74,
     "metadata": {},
     "output_type": "execute_result"
    },
    {
     "name": "stdout",
     "output_type": "stream",
     "text": [
      "No. of unique values: 31\n",
      "No.of Null Values: 918\n"
     ]
    },
    {
     "data": {
      "text/plain": [
       "'VAR_0408'"
      ]
     },
     "execution_count": 74,
     "metadata": {},
     "output_type": "execute_result"
    },
    {
     "name": "stdout",
     "output_type": "stream",
     "text": [
      "No. of unique values: 104\n",
      "No.of Null Values: 918\n"
     ]
    },
    {
     "data": {
      "text/plain": [
       "'VAR_0409'"
      ]
     },
     "execution_count": 74,
     "metadata": {},
     "output_type": "execute_result"
    },
    {
     "name": "stdout",
     "output_type": "stream",
     "text": [
      "No. of unique values: 11\n",
      "No.of Null Values: 918\n"
     ]
    },
    {
     "data": {
      "text/plain": [
       "'VAR_0410'"
      ]
     },
     "execution_count": 74,
     "metadata": {},
     "output_type": "execute_result"
    },
    {
     "name": "stdout",
     "output_type": "stream",
     "text": [
      "No. of unique values: 86\n",
      "No.of Null Values: 918\n"
     ]
    },
    {
     "data": {
      "text/plain": [
       "'VAR_0411'"
      ]
     },
     "execution_count": 74,
     "metadata": {},
     "output_type": "execute_result"
    },
    {
     "name": "stdout",
     "output_type": "stream",
     "text": [
      "No. of unique values: 2\n",
      "No.of Null Values: 918\n"
     ]
    },
    {
     "data": {
      "text/plain": [
       "'VAR_0412'"
      ]
     },
     "execution_count": 74,
     "metadata": {},
     "output_type": "execute_result"
    },
    {
     "name": "stdout",
     "output_type": "stream",
     "text": [
      "No. of unique values: 3\n",
      "No.of Null Values: 918\n"
     ]
    },
    {
     "data": {
      "text/plain": [
       "'VAR_0413'"
      ]
     },
     "execution_count": 74,
     "metadata": {},
     "output_type": "execute_result"
    },
    {
     "name": "stdout",
     "output_type": "stream",
     "text": [
      "No. of unique values: 5\n",
      "No.of Null Values: 918\n"
     ]
    },
    {
     "data": {
      "text/plain": [
       "'VAR_0414'"
      ]
     },
     "execution_count": 74,
     "metadata": {},
     "output_type": "execute_result"
    },
    {
     "name": "stdout",
     "output_type": "stream",
     "text": [
      "No. of unique values: 6\n",
      "No.of Null Values: 918\n"
     ]
    },
    {
     "data": {
      "text/plain": [
       "'VAR_0415'"
      ]
     },
     "execution_count": 74,
     "metadata": {},
     "output_type": "execute_result"
    },
    {
     "name": "stdout",
     "output_type": "stream",
     "text": [
      "No. of unique values: 7\n",
      "No.of Null Values: 918\n"
     ]
    },
    {
     "data": {
      "text/plain": [
       "'VAR_0416'"
      ]
     },
     "execution_count": 74,
     "metadata": {},
     "output_type": "execute_result"
    },
    {
     "name": "stdout",
     "output_type": "stream",
     "text": [
      "No. of unique values: 11\n",
      "No.of Null Values: 918\n"
     ]
    },
    {
     "data": {
      "text/plain": [
       "'VAR_0417'"
      ]
     },
     "execution_count": 74,
     "metadata": {},
     "output_type": "execute_result"
    },
    {
     "name": "stdout",
     "output_type": "stream",
     "text": [
      "No. of unique values: 51\n",
      "No.of Null Values: 918\n"
     ]
    },
    {
     "data": {
      "text/plain": [
       "'VAR_0418'"
      ]
     },
     "execution_count": 74,
     "metadata": {},
     "output_type": "execute_result"
    },
    {
     "name": "stdout",
     "output_type": "stream",
     "text": [
      "No. of unique values: 43\n",
      "No.of Null Values: 918\n"
     ]
    },
    {
     "data": {
      "text/plain": [
       "'VAR_0419'"
      ]
     },
     "execution_count": 74,
     "metadata": {},
     "output_type": "execute_result"
    },
    {
     "name": "stdout",
     "output_type": "stream",
     "text": [
      "No. of unique values: 86\n",
      "No.of Null Values: 918\n"
     ]
    },
    {
     "data": {
      "text/plain": [
       "'VAR_0420'"
      ]
     },
     "execution_count": 74,
     "metadata": {},
     "output_type": "execute_result"
    },
    {
     "name": "stdout",
     "output_type": "stream",
     "text": [
      "No. of unique values: 4\n",
      "No.of Null Values: 918\n"
     ]
    },
    {
     "data": {
      "text/plain": [
       "'VAR_0421'"
      ]
     },
     "execution_count": 74,
     "metadata": {},
     "output_type": "execute_result"
    },
    {
     "name": "stdout",
     "output_type": "stream",
     "text": [
      "No. of unique values: 9\n",
      "No.of Null Values: 918\n"
     ]
    },
    {
     "data": {
      "text/plain": [
       "'VAR_0422'"
      ]
     },
     "execution_count": 74,
     "metadata": {},
     "output_type": "execute_result"
    },
    {
     "name": "stdout",
     "output_type": "stream",
     "text": [
      "No. of unique values: 13\n",
      "No.of Null Values: 918\n"
     ]
    },
    {
     "data": {
      "text/plain": [
       "'VAR_0423'"
      ]
     },
     "execution_count": 74,
     "metadata": {},
     "output_type": "execute_result"
    },
    {
     "name": "stdout",
     "output_type": "stream",
     "text": [
      "No. of unique values: 18\n",
      "No.of Null Values: 918\n"
     ]
    },
    {
     "data": {
      "text/plain": [
       "'VAR_0424'"
      ]
     },
     "execution_count": 74,
     "metadata": {},
     "output_type": "execute_result"
    },
    {
     "name": "stdout",
     "output_type": "stream",
     "text": [
      "No. of unique values: 26\n",
      "No.of Null Values: 918\n"
     ]
    },
    {
     "data": {
      "text/plain": [
       "'VAR_0425'"
      ]
     },
     "execution_count": 74,
     "metadata": {},
     "output_type": "execute_result"
    },
    {
     "name": "stdout",
     "output_type": "stream",
     "text": [
      "No. of unique values: 36\n",
      "No.of Null Values: 918\n"
     ]
    },
    {
     "data": {
      "text/plain": [
       "'VAR_0426'"
      ]
     },
     "execution_count": 74,
     "metadata": {},
     "output_type": "execute_result"
    },
    {
     "name": "stdout",
     "output_type": "stream",
     "text": [
      "No. of unique values: 26\n",
      "No.of Null Values: 918\n"
     ]
    },
    {
     "data": {
      "text/plain": [
       "'VAR_0427'"
      ]
     },
     "execution_count": 74,
     "metadata": {},
     "output_type": "execute_result"
    },
    {
     "name": "stdout",
     "output_type": "stream",
     "text": [
      "No. of unique values: 86\n",
      "No.of Null Values: 918\n"
     ]
    },
    {
     "data": {
      "text/plain": [
       "'VAR_0428'"
      ]
     },
     "execution_count": 74,
     "metadata": {},
     "output_type": "execute_result"
    },
    {
     "name": "stdout",
     "output_type": "stream",
     "text": [
      "No. of unique values: 3\n",
      "No.of Null Values: 918\n"
     ]
    },
    {
     "data": {
      "text/plain": [
       "'VAR_0429'"
      ]
     },
     "execution_count": 74,
     "metadata": {},
     "output_type": "execute_result"
    },
    {
     "name": "stdout",
     "output_type": "stream",
     "text": [
      "No. of unique values: 6\n",
      "No.of Null Values: 918\n"
     ]
    },
    {
     "data": {
      "text/plain": [
       "'VAR_0430'"
      ]
     },
     "execution_count": 74,
     "metadata": {},
     "output_type": "execute_result"
    },
    {
     "name": "stdout",
     "output_type": "stream",
     "text": [
      "No. of unique values: 9\n",
      "No.of Null Values: 918\n"
     ]
    },
    {
     "data": {
      "text/plain": [
       "'VAR_0431'"
      ]
     },
     "execution_count": 74,
     "metadata": {},
     "output_type": "execute_result"
    },
    {
     "name": "stdout",
     "output_type": "stream",
     "text": [
      "No. of unique values: 11\n",
      "No.of Null Values: 918\n"
     ]
    },
    {
     "data": {
      "text/plain": [
       "'VAR_0432'"
      ]
     },
     "execution_count": 74,
     "metadata": {},
     "output_type": "execute_result"
    },
    {
     "name": "stdout",
     "output_type": "stream",
     "text": [
      "No. of unique values: 16\n",
      "No.of Null Values: 918\n"
     ]
    },
    {
     "data": {
      "text/plain": [
       "'VAR_0433'"
      ]
     },
     "execution_count": 74,
     "metadata": {},
     "output_type": "execute_result"
    },
    {
     "name": "stdout",
     "output_type": "stream",
     "text": [
      "No. of unique values: 25\n",
      "No.of Null Values: 918\n"
     ]
    },
    {
     "data": {
      "text/plain": [
       "'VAR_0434'"
      ]
     },
     "execution_count": 74,
     "metadata": {},
     "output_type": "execute_result"
    },
    {
     "name": "stdout",
     "output_type": "stream",
     "text": [
      "No. of unique values: 11796\n",
      "No.of Null Values: 918\n"
     ]
    },
    {
     "data": {
      "text/plain": [
       "'VAR_0435'"
      ]
     },
     "execution_count": 74,
     "metadata": {},
     "output_type": "execute_result"
    },
    {
     "name": "stdout",
     "output_type": "stream",
     "text": [
      "No. of unique values: 2261\n",
      "No.of Null Values: 918\n"
     ]
    },
    {
     "data": {
      "text/plain": [
       "'VAR_0436'"
      ]
     },
     "execution_count": 74,
     "metadata": {},
     "output_type": "execute_result"
    },
    {
     "name": "stdout",
     "output_type": "stream",
     "text": [
      "No. of unique values: 3894\n",
      "No.of Null Values: 918\n"
     ]
    },
    {
     "data": {
      "text/plain": [
       "'VAR_0437'"
      ]
     },
     "execution_count": 74,
     "metadata": {},
     "output_type": "execute_result"
    },
    {
     "name": "stdout",
     "output_type": "stream",
     "text": [
      "No. of unique values: 85\n",
      "No.of Null Values: 918\n"
     ]
    },
    {
     "data": {
      "text/plain": [
       "'VAR_0438'"
      ]
     },
     "execution_count": 74,
     "metadata": {},
     "output_type": "execute_result"
    },
    {
     "name": "stdout",
     "output_type": "stream",
     "text": [
      "No. of unique values: 1\n",
      "No.of Null Values: 918\n"
     ]
    },
    {
     "data": {
      "text/plain": [
       "'VAR_0439'"
      ]
     },
     "execution_count": 74,
     "metadata": {},
     "output_type": "execute_result"
    },
    {
     "name": "stdout",
     "output_type": "stream",
     "text": [
      "No. of unique values: 8269\n",
      "No.of Null Values: 918\n"
     ]
    },
    {
     "data": {
      "text/plain": [
       "'VAR_0440'"
      ]
     },
     "execution_count": 74,
     "metadata": {},
     "output_type": "execute_result"
    },
    {
     "name": "stdout",
     "output_type": "stream",
     "text": [
      "No. of unique values: 4043\n",
      "No.of Null Values: 918\n"
     ]
    },
    {
     "data": {
      "text/plain": [
       "'VAR_0441'"
      ]
     },
     "execution_count": 74,
     "metadata": {},
     "output_type": "execute_result"
    },
    {
     "name": "stdout",
     "output_type": "stream",
     "text": [
      "No. of unique values: 384\n",
      "No.of Null Values: 918\n"
     ]
    },
    {
     "data": {
      "text/plain": [
       "'VAR_0442'"
      ]
     },
     "execution_count": 74,
     "metadata": {},
     "output_type": "execute_result"
    },
    {
     "name": "stdout",
     "output_type": "stream",
     "text": [
      "No. of unique values: 5971\n",
      "No.of Null Values: 918\n"
     ]
    },
    {
     "data": {
      "text/plain": [
       "'VAR_0443'"
      ]
     },
     "execution_count": 74,
     "metadata": {},
     "output_type": "execute_result"
    },
    {
     "name": "stdout",
     "output_type": "stream",
     "text": [
      "No. of unique values: 978\n",
      "No.of Null Values: 918\n"
     ]
    },
    {
     "data": {
      "text/plain": [
       "'VAR_0444'"
      ]
     },
     "execution_count": 74,
     "metadata": {},
     "output_type": "execute_result"
    },
    {
     "name": "stdout",
     "output_type": "stream",
     "text": [
      "No. of unique values: 2832\n",
      "No.of Null Values: 918\n"
     ]
    },
    {
     "data": {
      "text/plain": [
       "'VAR_0445'"
      ]
     },
     "execution_count": 74,
     "metadata": {},
     "output_type": "execute_result"
    },
    {
     "name": "stdout",
     "output_type": "stream",
     "text": [
      "No. of unique values: 6\n",
      "No.of Null Values: 918\n"
     ]
    },
    {
     "data": {
      "text/plain": [
       "'VAR_0446'"
      ]
     },
     "execution_count": 74,
     "metadata": {},
     "output_type": "execute_result"
    },
    {
     "name": "stdout",
     "output_type": "stream",
     "text": [
      "No. of unique values: 1\n",
      "No.of Null Values: 918\n"
     ]
    },
    {
     "data": {
      "text/plain": [
       "'VAR_0447'"
      ]
     },
     "execution_count": 74,
     "metadata": {},
     "output_type": "execute_result"
    },
    {
     "name": "stdout",
     "output_type": "stream",
     "text": [
      "No. of unique values: 3587\n",
      "No.of Null Values: 918\n"
     ]
    },
    {
     "data": {
      "text/plain": [
       "'VAR_0448'"
      ]
     },
     "execution_count": 74,
     "metadata": {},
     "output_type": "execute_result"
    },
    {
     "name": "stdout",
     "output_type": "stream",
     "text": [
      "No. of unique values: 1663\n",
      "No.of Null Values: 918\n"
     ]
    },
    {
     "data": {
      "text/plain": [
       "'VAR_0449'"
      ]
     },
     "execution_count": 74,
     "metadata": {},
     "output_type": "execute_result"
    },
    {
     "name": "stdout",
     "output_type": "stream",
     "text": [
      "No. of unique values: 25\n",
      "No.of Null Values: 918\n"
     ]
    },
    {
     "data": {
      "text/plain": [
       "'VAR_0450'"
      ]
     },
     "execution_count": 74,
     "metadata": {},
     "output_type": "execute_result"
    },
    {
     "name": "stdout",
     "output_type": "stream",
     "text": [
      "No. of unique values: 11\n",
      "No.of Null Values: 918\n"
     ]
    },
    {
     "data": {
      "text/plain": [
       "'VAR_0451'"
      ]
     },
     "execution_count": 74,
     "metadata": {},
     "output_type": "execute_result"
    },
    {
     "name": "stdout",
     "output_type": "stream",
     "text": [
      "No. of unique values: 30\n",
      "No.of Null Values: 918\n"
     ]
    },
    {
     "data": {
      "text/plain": [
       "'VAR_0452'"
      ]
     },
     "execution_count": 74,
     "metadata": {},
     "output_type": "execute_result"
    },
    {
     "name": "stdout",
     "output_type": "stream",
     "text": [
      "No. of unique values: 9\n",
      "No.of Null Values: 918\n"
     ]
    },
    {
     "data": {
      "text/plain": [
       "'VAR_0453'"
      ]
     },
     "execution_count": 74,
     "metadata": {},
     "output_type": "execute_result"
    },
    {
     "name": "stdout",
     "output_type": "stream",
     "text": [
      "No. of unique values: 20\n",
      "No.of Null Values: 918\n"
     ]
    },
    {
     "data": {
      "text/plain": [
       "'VAR_0454'"
      ]
     },
     "execution_count": 74,
     "metadata": {},
     "output_type": "execute_result"
    },
    {
     "name": "stdout",
     "output_type": "stream",
     "text": [
      "No. of unique values: 25\n",
      "No.of Null Values: 918\n"
     ]
    },
    {
     "data": {
      "text/plain": [
       "'VAR_0455'"
      ]
     },
     "execution_count": 74,
     "metadata": {},
     "output_type": "execute_result"
    },
    {
     "name": "stdout",
     "output_type": "stream",
     "text": [
      "No. of unique values: 14\n",
      "No.of Null Values: 918\n"
     ]
    },
    {
     "data": {
      "text/plain": [
       "'VAR_0456'"
      ]
     },
     "execution_count": 74,
     "metadata": {},
     "output_type": "execute_result"
    },
    {
     "name": "stdout",
     "output_type": "stream",
     "text": [
      "No. of unique values: 8\n",
      "No.of Null Values: 918\n"
     ]
    },
    {
     "data": {
      "text/plain": [
       "'VAR_0457'"
      ]
     },
     "execution_count": 74,
     "metadata": {},
     "output_type": "execute_result"
    },
    {
     "name": "stdout",
     "output_type": "stream",
     "text": [
      "No. of unique values: 11\n",
      "No.of Null Values: 918\n"
     ]
    },
    {
     "data": {
      "text/plain": [
       "'VAR_0458'"
      ]
     },
     "execution_count": 74,
     "metadata": {},
     "output_type": "execute_result"
    },
    {
     "name": "stdout",
     "output_type": "stream",
     "text": [
      "No. of unique values: 26\n",
      "No.of Null Values: 918\n"
     ]
    },
    {
     "data": {
      "text/plain": [
       "'VAR_0459'"
      ]
     },
     "execution_count": 74,
     "metadata": {},
     "output_type": "execute_result"
    },
    {
     "name": "stdout",
     "output_type": "stream",
     "text": [
      "No. of unique values: 2\n",
      "No.of Null Values: 918\n"
     ]
    },
    {
     "data": {
      "text/plain": [
       "'VAR_0460'"
      ]
     },
     "execution_count": 74,
     "metadata": {},
     "output_type": "execute_result"
    },
    {
     "name": "stdout",
     "output_type": "stream",
     "text": [
      "No. of unique values: 6\n",
      "No.of Null Values: 918\n"
     ]
    },
    {
     "data": {
      "text/plain": [
       "'VAR_0461'"
      ]
     },
     "execution_count": 74,
     "metadata": {},
     "output_type": "execute_result"
    },
    {
     "name": "stdout",
     "output_type": "stream",
     "text": [
      "No. of unique values: 13\n",
      "No.of Null Values: 918\n"
     ]
    },
    {
     "data": {
      "text/plain": [
       "'VAR_0462'"
      ]
     },
     "execution_count": 74,
     "metadata": {},
     "output_type": "execute_result"
    },
    {
     "name": "stdout",
     "output_type": "stream",
     "text": [
      "No. of unique values: 11\n",
      "No.of Null Values: 918\n"
     ]
    },
    {
     "data": {
      "text/plain": [
       "'VAR_0463'"
      ]
     },
     "execution_count": 74,
     "metadata": {},
     "output_type": "execute_result"
    },
    {
     "name": "stdout",
     "output_type": "stream",
     "text": [
      "No. of unique values: 3\n",
      "No.of Null Values: 918\n"
     ]
    },
    {
     "data": {
      "text/plain": [
       "'VAR_0464'"
      ]
     },
     "execution_count": 74,
     "metadata": {},
     "output_type": "execute_result"
    },
    {
     "name": "stdout",
     "output_type": "stream",
     "text": [
      "No. of unique values: 6\n",
      "No.of Null Values: 918\n"
     ]
    },
    {
     "data": {
      "text/plain": [
       "'VAR_0465'"
      ]
     },
     "execution_count": 74,
     "metadata": {},
     "output_type": "execute_result"
    },
    {
     "name": "stdout",
     "output_type": "stream",
     "text": [
      "No. of unique values: 104\n",
      "No.of Null Values: 918\n"
     ]
    },
    {
     "data": {
      "text/plain": [
       "'VAR_0466'"
      ]
     },
     "execution_count": 74,
     "metadata": {},
     "output_type": "execute_result"
    },
    {
     "name": "stdout",
     "output_type": "stream",
     "text": [
      "No. of unique values: 2\n",
      "No.of Null Values: 918\n"
     ]
    },
    {
     "data": {
      "text/plain": [
       "'VAR_0467'"
      ]
     },
     "execution_count": 74,
     "metadata": {},
     "output_type": "execute_result"
    },
    {
     "name": "stdout",
     "output_type": "stream",
     "text": [
      "No. of unique values: 4\n",
      "No.of Null Values: 918\n"
     ]
    },
    {
     "data": {
      "text/plain": [
       "'VAR_0468'"
      ]
     },
     "execution_count": 74,
     "metadata": {},
     "output_type": "execute_result"
    },
    {
     "name": "stdout",
     "output_type": "stream",
     "text": [
      "No. of unique values: 2\n",
      "No.of Null Values: 918\n"
     ]
    },
    {
     "data": {
      "text/plain": [
       "'VAR_0469'"
      ]
     },
     "execution_count": 74,
     "metadata": {},
     "output_type": "execute_result"
    },
    {
     "name": "stdout",
     "output_type": "stream",
     "text": [
      "No. of unique values: 3\n",
      "No.of Null Values: 918\n"
     ]
    },
    {
     "data": {
      "text/plain": [
       "'VAR_0470'"
      ]
     },
     "execution_count": 74,
     "metadata": {},
     "output_type": "execute_result"
    },
    {
     "name": "stdout",
     "output_type": "stream",
     "text": [
      "No. of unique values: 3\n",
      "No.of Null Values: 918\n"
     ]
    },
    {
     "data": {
      "text/plain": [
       "'VAR_0471'"
      ]
     },
     "execution_count": 74,
     "metadata": {},
     "output_type": "execute_result"
    },
    {
     "name": "stdout",
     "output_type": "stream",
     "text": [
      "No. of unique values: 3\n",
      "No.of Null Values: 918\n"
     ]
    },
    {
     "data": {
      "text/plain": [
       "'VAR_0472'"
      ]
     },
     "execution_count": 74,
     "metadata": {},
     "output_type": "execute_result"
    },
    {
     "name": "stdout",
     "output_type": "stream",
     "text": [
      "No. of unique values: 4\n",
      "No.of Null Values: 918\n"
     ]
    },
    {
     "data": {
      "text/plain": [
       "'VAR_0473'"
      ]
     },
     "execution_count": 74,
     "metadata": {},
     "output_type": "execute_result"
    },
    {
     "name": "stdout",
     "output_type": "stream",
     "text": [
      "No. of unique values: 6\n",
      "No.of Null Values: 918\n"
     ]
    },
    {
     "data": {
      "text/plain": [
       "'VAR_0474'"
      ]
     },
     "execution_count": 74,
     "metadata": {},
     "output_type": "execute_result"
    },
    {
     "name": "stdout",
     "output_type": "stream",
     "text": [
      "No. of unique values: 38\n",
      "No.of Null Values: 918\n"
     ]
    },
    {
     "data": {
      "text/plain": [
       "'VAR_0475'"
      ]
     },
     "execution_count": 74,
     "metadata": {},
     "output_type": "execute_result"
    },
    {
     "name": "stdout",
     "output_type": "stream",
     "text": [
      "No. of unique values: 86\n",
      "No.of Null Values: 918\n"
     ]
    },
    {
     "data": {
      "text/plain": [
       "'VAR_0476'"
      ]
     },
     "execution_count": 74,
     "metadata": {},
     "output_type": "execute_result"
    },
    {
     "name": "stdout",
     "output_type": "stream",
     "text": [
      "No. of unique values: 4\n",
      "No.of Null Values: 918\n"
     ]
    },
    {
     "data": {
      "text/plain": [
       "'VAR_0477'"
      ]
     },
     "execution_count": 74,
     "metadata": {},
     "output_type": "execute_result"
    },
    {
     "name": "stdout",
     "output_type": "stream",
     "text": [
      "No. of unique values: 7\n",
      "No.of Null Values: 918\n"
     ]
    },
    {
     "data": {
      "text/plain": [
       "'VAR_0478'"
      ]
     },
     "execution_count": 74,
     "metadata": {},
     "output_type": "execute_result"
    },
    {
     "name": "stdout",
     "output_type": "stream",
     "text": [
      "No. of unique values: 13\n",
      "No.of Null Values: 918\n"
     ]
    },
    {
     "data": {
      "text/plain": [
       "'VAR_0479'"
      ]
     },
     "execution_count": 74,
     "metadata": {},
     "output_type": "execute_result"
    },
    {
     "name": "stdout",
     "output_type": "stream",
     "text": [
      "No. of unique values: 17\n",
      "No.of Null Values: 918\n"
     ]
    },
    {
     "data": {
      "text/plain": [
       "'VAR_0480'"
      ]
     },
     "execution_count": 74,
     "metadata": {},
     "output_type": "execute_result"
    },
    {
     "name": "stdout",
     "output_type": "stream",
     "text": [
      "No. of unique values: 23\n",
      "No.of Null Values: 918\n"
     ]
    },
    {
     "data": {
      "text/plain": [
       "'VAR_0481'"
      ]
     },
     "execution_count": 74,
     "metadata": {},
     "output_type": "execute_result"
    },
    {
     "name": "stdout",
     "output_type": "stream",
     "text": [
      "No. of unique values: 32\n",
      "No.of Null Values: 918\n"
     ]
    },
    {
     "data": {
      "text/plain": [
       "'VAR_0482'"
      ]
     },
     "execution_count": 74,
     "metadata": {},
     "output_type": "execute_result"
    },
    {
     "name": "stdout",
     "output_type": "stream",
     "text": [
      "No. of unique values: 8\n",
      "No.of Null Values: 918\n"
     ]
    },
    {
     "data": {
      "text/plain": [
       "'VAR_0483'"
      ]
     },
     "execution_count": 74,
     "metadata": {},
     "output_type": "execute_result"
    },
    {
     "name": "stdout",
     "output_type": "stream",
     "text": [
      "No. of unique values: 11\n",
      "No.of Null Values: 918\n"
     ]
    },
    {
     "data": {
      "text/plain": [
       "'VAR_0484'"
      ]
     },
     "execution_count": 74,
     "metadata": {},
     "output_type": "execute_result"
    },
    {
     "name": "stdout",
     "output_type": "stream",
     "text": [
      "No. of unique values: 7\n",
      "No.of Null Values: 918\n"
     ]
    },
    {
     "data": {
      "text/plain": [
       "'VAR_0485'"
      ]
     },
     "execution_count": 74,
     "metadata": {},
     "output_type": "execute_result"
    },
    {
     "name": "stdout",
     "output_type": "stream",
     "text": [
      "No. of unique values: 7\n",
      "No.of Null Values: 918\n"
     ]
    },
    {
     "data": {
      "text/plain": [
       "'VAR_0486'"
      ]
     },
     "execution_count": 74,
     "metadata": {},
     "output_type": "execute_result"
    },
    {
     "name": "stdout",
     "output_type": "stream",
     "text": [
      "No. of unique values: 7\n",
      "No.of Null Values: 918\n"
     ]
    },
    {
     "data": {
      "text/plain": [
       "'VAR_0487'"
      ]
     },
     "execution_count": 74,
     "metadata": {},
     "output_type": "execute_result"
    },
    {
     "name": "stdout",
     "output_type": "stream",
     "text": [
      "No. of unique values: 7\n",
      "No.of Null Values: 918\n"
     ]
    },
    {
     "data": {
      "text/plain": [
       "'VAR_0488'"
      ]
     },
     "execution_count": 74,
     "metadata": {},
     "output_type": "execute_result"
    },
    {
     "name": "stdout",
     "output_type": "stream",
     "text": [
      "No. of unique values: 7\n",
      "No.of Null Values: 918\n"
     ]
    },
    {
     "data": {
      "text/plain": [
       "'VAR_0489'"
      ]
     },
     "execution_count": 74,
     "metadata": {},
     "output_type": "execute_result"
    },
    {
     "name": "stdout",
     "output_type": "stream",
     "text": [
      "No. of unique values: 9\n",
      "No.of Null Values: 918\n"
     ]
    },
    {
     "data": {
      "text/plain": [
       "'VAR_0490'"
      ]
     },
     "execution_count": 74,
     "metadata": {},
     "output_type": "execute_result"
    },
    {
     "name": "stdout",
     "output_type": "stream",
     "text": [
      "No. of unique values: 2\n",
      "No.of Null Values: 918\n"
     ]
    },
    {
     "data": {
      "text/plain": [
       "'VAR_0491'"
      ]
     },
     "execution_count": 74,
     "metadata": {},
     "output_type": "execute_result"
    },
    {
     "name": "stdout",
     "output_type": "stream",
     "text": [
      "No. of unique values: 8\n",
      "No.of Null Values: 918\n"
     ]
    },
    {
     "data": {
      "text/plain": [
       "'VAR_0492'"
      ]
     },
     "execution_count": 74,
     "metadata": {},
     "output_type": "execute_result"
    },
    {
     "name": "stdout",
     "output_type": "stream",
     "text": [
      "No. of unique values: 131\n",
      "No.of Null Values: 918\n"
     ]
    },
    {
     "data": {
      "text/plain": [
       "'VAR_0493'"
      ]
     },
     "execution_count": 74,
     "metadata": {},
     "output_type": "execute_result"
    },
    {
     "name": "stdout",
     "output_type": "stream",
     "text": [
      "No. of unique values: 608\n",
      "No.of Null Values: 918\n"
     ]
    },
    {
     "data": {
      "text/plain": [
       "'VAR_0494'"
      ]
     },
     "execution_count": 74,
     "metadata": {},
     "output_type": "execute_result"
    },
    {
     "name": "stdout",
     "output_type": "stream",
     "text": [
      "No. of unique values: 7\n",
      "No.of Null Values: 918\n"
     ]
    },
    {
     "data": {
      "text/plain": [
       "'VAR_0495'"
      ]
     },
     "execution_count": 74,
     "metadata": {},
     "output_type": "execute_result"
    },
    {
     "name": "stdout",
     "output_type": "stream",
     "text": [
      "No. of unique values: 3\n",
      "No.of Null Values: 918\n"
     ]
    },
    {
     "data": {
      "text/plain": [
       "'VAR_0496'"
      ]
     },
     "execution_count": 74,
     "metadata": {},
     "output_type": "execute_result"
    },
    {
     "name": "stdout",
     "output_type": "stream",
     "text": [
      "No. of unique values: 4\n",
      "No.of Null Values: 918\n"
     ]
    },
    {
     "data": {
      "text/plain": [
       "'VAR_0497'"
      ]
     },
     "execution_count": 74,
     "metadata": {},
     "output_type": "execute_result"
    },
    {
     "name": "stdout",
     "output_type": "stream",
     "text": [
      "No. of unique values: 4\n",
      "No.of Null Values: 918\n"
     ]
    },
    {
     "data": {
      "text/plain": [
       "'VAR_0498'"
      ]
     },
     "execution_count": 74,
     "metadata": {},
     "output_type": "execute_result"
    },
    {
     "name": "stdout",
     "output_type": "stream",
     "text": [
      "No. of unique values: 6\n",
      "No.of Null Values: 918\n"
     ]
    },
    {
     "data": {
      "text/plain": [
       "'VAR_0499'"
      ]
     },
     "execution_count": 74,
     "metadata": {},
     "output_type": "execute_result"
    },
    {
     "name": "stdout",
     "output_type": "stream",
     "text": [
      "No. of unique values: 9\n",
      "No.of Null Values: 918\n"
     ]
    },
    {
     "data": {
      "text/plain": [
       "'VAR_0500'"
      ]
     },
     "execution_count": 74,
     "metadata": {},
     "output_type": "execute_result"
    },
    {
     "name": "stdout",
     "output_type": "stream",
     "text": [
      "No. of unique values: 9\n",
      "No.of Null Values: 918\n"
     ]
    },
    {
     "data": {
      "text/plain": [
       "'VAR_0501'"
      ]
     },
     "execution_count": 74,
     "metadata": {},
     "output_type": "execute_result"
    },
    {
     "name": "stdout",
     "output_type": "stream",
     "text": [
      "No. of unique values: 17\n",
      "No.of Null Values: 918\n"
     ]
    },
    {
     "data": {
      "text/plain": [
       "'VAR_0502'"
      ]
     },
     "execution_count": 74,
     "metadata": {},
     "output_type": "execute_result"
    },
    {
     "name": "stdout",
     "output_type": "stream",
     "text": [
      "No. of unique values: 2\n",
      "No.of Null Values: 918\n"
     ]
    },
    {
     "data": {
      "text/plain": [
       "'VAR_0503'"
      ]
     },
     "execution_count": 74,
     "metadata": {},
     "output_type": "execute_result"
    },
    {
     "name": "stdout",
     "output_type": "stream",
     "text": [
      "No. of unique values: 2\n",
      "No.of Null Values: 918\n"
     ]
    },
    {
     "data": {
      "text/plain": [
       "'VAR_0504'"
      ]
     },
     "execution_count": 74,
     "metadata": {},
     "output_type": "execute_result"
    },
    {
     "name": "stdout",
     "output_type": "stream",
     "text": [
      "No. of unique values: 2\n",
      "No.of Null Values: 918\n"
     ]
    },
    {
     "data": {
      "text/plain": [
       "'VAR_0505'"
      ]
     },
     "execution_count": 74,
     "metadata": {},
     "output_type": "execute_result"
    },
    {
     "name": "stdout",
     "output_type": "stream",
     "text": [
      "No. of unique values: 2\n",
      "No.of Null Values: 918\n"
     ]
    },
    {
     "data": {
      "text/plain": [
       "'VAR_0506'"
      ]
     },
     "execution_count": 74,
     "metadata": {},
     "output_type": "execute_result"
    },
    {
     "name": "stdout",
     "output_type": "stream",
     "text": [
      "No. of unique values: 23\n",
      "No.of Null Values: 918\n"
     ]
    },
    {
     "data": {
      "text/plain": [
       "'VAR_0507'"
      ]
     },
     "execution_count": 74,
     "metadata": {},
     "output_type": "execute_result"
    },
    {
     "name": "stdout",
     "output_type": "stream",
     "text": [
      "No. of unique values: 3\n",
      "No.of Null Values: 918\n"
     ]
    },
    {
     "data": {
      "text/plain": [
       "'VAR_0508'"
      ]
     },
     "execution_count": 74,
     "metadata": {},
     "output_type": "execute_result"
    },
    {
     "name": "stdout",
     "output_type": "stream",
     "text": [
      "No. of unique values: 4\n",
      "No.of Null Values: 918\n"
     ]
    },
    {
     "data": {
      "text/plain": [
       "'VAR_0509'"
      ]
     },
     "execution_count": 74,
     "metadata": {},
     "output_type": "execute_result"
    },
    {
     "name": "stdout",
     "output_type": "stream",
     "text": [
      "No. of unique values: 11\n",
      "No.of Null Values: 918\n"
     ]
    },
    {
     "data": {
      "text/plain": [
       "'VAR_0510'"
      ]
     },
     "execution_count": 74,
     "metadata": {},
     "output_type": "execute_result"
    },
    {
     "name": "stdout",
     "output_type": "stream",
     "text": [
      "No. of unique values: 16\n",
      "No.of Null Values: 918\n"
     ]
    },
    {
     "data": {
      "text/plain": [
       "'VAR_0511'"
      ]
     },
     "execution_count": 74,
     "metadata": {},
     "output_type": "execute_result"
    },
    {
     "name": "stdout",
     "output_type": "stream",
     "text": [
      "No. of unique values: 21\n",
      "No.of Null Values: 918\n"
     ]
    },
    {
     "data": {
      "text/plain": [
       "'VAR_0512'"
      ]
     },
     "execution_count": 74,
     "metadata": {},
     "output_type": "execute_result"
    },
    {
     "name": "stdout",
     "output_type": "stream",
     "text": [
      "No. of unique values: 23\n",
      "No.of Null Values: 918\n"
     ]
    },
    {
     "data": {
      "text/plain": [
       "'VAR_0513'"
      ]
     },
     "execution_count": 74,
     "metadata": {},
     "output_type": "execute_result"
    },
    {
     "name": "stdout",
     "output_type": "stream",
     "text": [
      "No. of unique values: 3\n",
      "No.of Null Values: 918\n"
     ]
    },
    {
     "data": {
      "text/plain": [
       "'VAR_0514'"
      ]
     },
     "execution_count": 74,
     "metadata": {},
     "output_type": "execute_result"
    },
    {
     "name": "stdout",
     "output_type": "stream",
     "text": [
      "No. of unique values: 156\n",
      "No.of Null Values: 918\n"
     ]
    },
    {
     "data": {
      "text/plain": [
       "'VAR_0515'"
      ]
     },
     "execution_count": 74,
     "metadata": {},
     "output_type": "execute_result"
    },
    {
     "name": "stdout",
     "output_type": "stream",
     "text": [
      "No. of unique values: 98\n",
      "No.of Null Values: 918\n"
     ]
    },
    {
     "data": {
      "text/plain": [
       "'VAR_0516'"
      ]
     },
     "execution_count": 74,
     "metadata": {},
     "output_type": "execute_result"
    },
    {
     "name": "stdout",
     "output_type": "stream",
     "text": [
      "No. of unique values: 258\n",
      "No.of Null Values: 918\n"
     ]
    },
    {
     "data": {
      "text/plain": [
       "'VAR_0517'"
      ]
     },
     "execution_count": 74,
     "metadata": {},
     "output_type": "execute_result"
    },
    {
     "name": "stdout",
     "output_type": "stream",
     "text": [
      "No. of unique values: 210\n",
      "No.of Null Values: 918\n"
     ]
    },
    {
     "data": {
      "text/plain": [
       "'VAR_0518'"
      ]
     },
     "execution_count": 74,
     "metadata": {},
     "output_type": "execute_result"
    },
    {
     "name": "stdout",
     "output_type": "stream",
     "text": [
      "No. of unique values: 3\n",
      "No.of Null Values: 918\n"
     ]
    },
    {
     "data": {
      "text/plain": [
       "'VAR_0519'"
      ]
     },
     "execution_count": 74,
     "metadata": {},
     "output_type": "execute_result"
    },
    {
     "name": "stdout",
     "output_type": "stream",
     "text": [
      "No. of unique values: 7\n",
      "No.of Null Values: 918\n"
     ]
    },
    {
     "data": {
      "text/plain": [
       "'VAR_0520'"
      ]
     },
     "execution_count": 74,
     "metadata": {},
     "output_type": "execute_result"
    },
    {
     "name": "stdout",
     "output_type": "stream",
     "text": [
      "No. of unique values: 3\n",
      "No.of Null Values: 918\n"
     ]
    },
    {
     "data": {
      "text/plain": [
       "'VAR_0521'"
      ]
     },
     "execution_count": 74,
     "metadata": {},
     "output_type": "execute_result"
    },
    {
     "name": "stdout",
     "output_type": "stream",
     "text": [
      "No. of unique values: 3\n",
      "No.of Null Values: 918\n"
     ]
    },
    {
     "data": {
      "text/plain": [
       "'VAR_0522'"
      ]
     },
     "execution_count": 74,
     "metadata": {},
     "output_type": "execute_result"
    },
    {
     "name": "stdout",
     "output_type": "stream",
     "text": [
      "No. of unique values: 3\n",
      "No.of Null Values: 918\n"
     ]
    },
    {
     "data": {
      "text/plain": [
       "'VAR_0523'"
      ]
     },
     "execution_count": 74,
     "metadata": {},
     "output_type": "execute_result"
    },
    {
     "name": "stdout",
     "output_type": "stream",
     "text": [
      "No. of unique values: 3\n",
      "No.of Null Values: 918\n"
     ]
    },
    {
     "data": {
      "text/plain": [
       "'VAR_0524'"
      ]
     },
     "execution_count": 74,
     "metadata": {},
     "output_type": "execute_result"
    },
    {
     "name": "stdout",
     "output_type": "stream",
     "text": [
      "No. of unique values: 3\n",
      "No.of Null Values: 918\n"
     ]
    },
    {
     "data": {
      "text/plain": [
       "'VAR_0525'"
      ]
     },
     "execution_count": 74,
     "metadata": {},
     "output_type": "execute_result"
    },
    {
     "name": "stdout",
     "output_type": "stream",
     "text": [
      "No. of unique values: 5\n",
      "No.of Null Values: 918\n"
     ]
    },
    {
     "data": {
      "text/plain": [
       "'VAR_0526'"
      ]
     },
     "execution_count": 74,
     "metadata": {},
     "output_type": "execute_result"
    },
    {
     "name": "stdout",
     "output_type": "stream",
     "text": [
      "No. of unique values: 2\n",
      "No.of Null Values: 917\n"
     ]
    },
    {
     "data": {
      "text/plain": [
       "'VAR_0527'"
      ]
     },
     "execution_count": 74,
     "metadata": {},
     "output_type": "execute_result"
    },
    {
     "name": "stdout",
     "output_type": "stream",
     "text": [
      "No. of unique values: 1\n",
      "No.of Null Values: 918\n"
     ]
    },
    {
     "data": {
      "text/plain": [
       "'VAR_0528'"
      ]
     },
     "execution_count": 74,
     "metadata": {},
     "output_type": "execute_result"
    },
    {
     "name": "stdout",
     "output_type": "stream",
     "text": [
      "No. of unique values: 1\n",
      "No.of Null Values: 918\n"
     ]
    },
    {
     "data": {
      "text/plain": [
       "'VAR_0529'"
      ]
     },
     "execution_count": 74,
     "metadata": {},
     "output_type": "execute_result"
    },
    {
     "name": "stdout",
     "output_type": "stream",
     "text": [
      "No. of unique values: 2\n",
      "No.of Null Values: 917\n"
     ]
    },
    {
     "data": {
      "text/plain": [
       "'VAR_0530'"
      ]
     },
     "execution_count": 74,
     "metadata": {},
     "output_type": "execute_result"
    },
    {
     "name": "stdout",
     "output_type": "stream",
     "text": [
      "No. of unique values: 1\n",
      "No.of Null Values: 918\n"
     ]
    },
    {
     "data": {
      "text/plain": [
       "'VAR_0531'"
      ]
     },
     "execution_count": 74,
     "metadata": {},
     "output_type": "execute_result"
    },
    {
     "name": "stdout",
     "output_type": "stream",
     "text": [
      "No. of unique values: 13\n",
      "No.of Null Values: 917\n"
     ]
    },
    {
     "data": {
      "text/plain": [
       "'VAR_0532'"
      ]
     },
     "execution_count": 74,
     "metadata": {},
     "output_type": "execute_result"
    },
    {
     "name": "stdout",
     "output_type": "stream",
     "text": [
      "No. of unique values: 13\n",
      "No.of Null Values: 0\n"
     ]
    },
    {
     "data": {
      "text/plain": [
       "'VAR_0533'"
      ]
     },
     "execution_count": 74,
     "metadata": {},
     "output_type": "execute_result"
    },
    {
     "name": "stdout",
     "output_type": "stream",
     "text": [
      "No. of unique values: 11\n",
      "No.of Null Values: 0\n"
     ]
    },
    {
     "data": {
      "text/plain": [
       "'VAR_0534'"
      ]
     },
     "execution_count": 74,
     "metadata": {},
     "output_type": "execute_result"
    },
    {
     "name": "stdout",
     "output_type": "stream",
     "text": [
      "No. of unique values: 16\n",
      "No.of Null Values: 0\n"
     ]
    },
    {
     "data": {
      "text/plain": [
       "'VAR_0535'"
      ]
     },
     "execution_count": 74,
     "metadata": {},
     "output_type": "execute_result"
    },
    {
     "name": "stdout",
     "output_type": "stream",
     "text": [
      "No. of unique values: 32\n",
      "No.of Null Values: 0\n"
     ]
    },
    {
     "data": {
      "text/plain": [
       "'VAR_0536'"
      ]
     },
     "execution_count": 74,
     "metadata": {},
     "output_type": "execute_result"
    },
    {
     "name": "stdout",
     "output_type": "stream",
     "text": [
      "No. of unique values: 43\n",
      "No.of Null Values: 0\n"
     ]
    },
    {
     "data": {
      "text/plain": [
       "'VAR_0537'"
      ]
     },
     "execution_count": 74,
     "metadata": {},
     "output_type": "execute_result"
    },
    {
     "name": "stdout",
     "output_type": "stream",
     "text": [
      "No. of unique values: 27\n",
      "No.of Null Values: 0\n"
     ]
    },
    {
     "data": {
      "text/plain": [
       "'VAR_0538'"
      ]
     },
     "execution_count": 74,
     "metadata": {},
     "output_type": "execute_result"
    },
    {
     "name": "stdout",
     "output_type": "stream",
     "text": [
      "No. of unique values: 12\n",
      "No.of Null Values: 0\n"
     ]
    },
    {
     "data": {
      "text/plain": [
       "'VAR_0539'"
      ]
     },
     "execution_count": 74,
     "metadata": {},
     "output_type": "execute_result"
    },
    {
     "name": "stdout",
     "output_type": "stream",
     "text": [
      "No. of unique values: 22\n",
      "No.of Null Values: 0\n"
     ]
    },
    {
     "data": {
      "text/plain": [
       "'VAR_0540'"
      ]
     },
     "execution_count": 74,
     "metadata": {},
     "output_type": "execute_result"
    },
    {
     "name": "stdout",
     "output_type": "stream",
     "text": [
      "No. of unique values: 86\n",
      "No.of Null Values: 0\n"
     ]
    },
    {
     "data": {
      "text/plain": [
       "'VAR_0541'"
      ]
     },
     "execution_count": 74,
     "metadata": {},
     "output_type": "execute_result"
    },
    {
     "name": "stdout",
     "output_type": "stream",
     "text": [
      "No. of unique values: 64229\n",
      "No.of Null Values: 0\n"
     ]
    },
    {
     "data": {
      "text/plain": [
       "'VAR_0542'"
      ]
     },
     "execution_count": 74,
     "metadata": {},
     "output_type": "execute_result"
    },
    {
     "name": "stdout",
     "output_type": "stream",
     "text": [
      "No. of unique values: 14744\n",
      "No.of Null Values: 0\n"
     ]
    },
    {
     "data": {
      "text/plain": [
       "'VAR_0543'"
      ]
     },
     "execution_count": 74,
     "metadata": {},
     "output_type": "execute_result"
    },
    {
     "name": "stdout",
     "output_type": "stream",
     "text": [
      "No. of unique values: 81073\n",
      "No.of Null Values: 0\n"
     ]
    },
    {
     "data": {
      "text/plain": [
       "'VAR_0544'"
      ]
     },
     "execution_count": 74,
     "metadata": {},
     "output_type": "execute_result"
    },
    {
     "name": "stdout",
     "output_type": "stream",
     "text": [
      "No. of unique values: 6162\n",
      "No.of Null Values: 0\n"
     ]
    },
    {
     "data": {
      "text/plain": [
       "'VAR_0545'"
      ]
     },
     "execution_count": 74,
     "metadata": {},
     "output_type": "execute_result"
    },
    {
     "name": "stdout",
     "output_type": "stream",
     "text": [
      "No. of unique values: 8\n",
      "No.of Null Values: 0\n"
     ]
    },
    {
     "data": {
      "text/plain": [
       "'VAR_0546'"
      ]
     },
     "execution_count": 74,
     "metadata": {},
     "output_type": "execute_result"
    },
    {
     "name": "stdout",
     "output_type": "stream",
     "text": [
      "No. of unique values: 8\n",
      "No.of Null Values: 0\n"
     ]
    },
    {
     "data": {
      "text/plain": [
       "'VAR_0547'"
      ]
     },
     "execution_count": 74,
     "metadata": {},
     "output_type": "execute_result"
    },
    {
     "name": "stdout",
     "output_type": "stream",
     "text": [
      "No. of unique values: 8\n",
      "No.of Null Values: 0\n"
     ]
    },
    {
     "data": {
      "text/plain": [
       "'VAR_0548'"
      ]
     },
     "execution_count": 74,
     "metadata": {},
     "output_type": "execute_result"
    },
    {
     "name": "stdout",
     "output_type": "stream",
     "text": [
      "No. of unique values: 8\n",
      "No.of Null Values: 0\n"
     ]
    },
    {
     "data": {
      "text/plain": [
       "'VAR_0549'"
      ]
     },
     "execution_count": 74,
     "metadata": {},
     "output_type": "execute_result"
    },
    {
     "name": "stdout",
     "output_type": "stream",
     "text": [
      "No. of unique values: 8\n",
      "No.of Null Values: 0\n"
     ]
    },
    {
     "data": {
      "text/plain": [
       "'VAR_0550'"
      ]
     },
     "execution_count": 74,
     "metadata": {},
     "output_type": "execute_result"
    },
    {
     "name": "stdout",
     "output_type": "stream",
     "text": [
      "No. of unique values: 216\n",
      "No.of Null Values: 0\n"
     ]
    },
    {
     "data": {
      "text/plain": [
       "'VAR_0551'"
      ]
     },
     "execution_count": 74,
     "metadata": {},
     "output_type": "execute_result"
    },
    {
     "name": "stdout",
     "output_type": "stream",
     "text": [
      "No. of unique values: 114\n",
      "No.of Null Values: 0\n"
     ]
    },
    {
     "data": {
      "text/plain": [
       "'VAR_0552'"
      ]
     },
     "execution_count": 74,
     "metadata": {},
     "output_type": "execute_result"
    },
    {
     "name": "stdout",
     "output_type": "stream",
     "text": [
      "No. of unique values: 81\n",
      "No.of Null Values: 0\n"
     ]
    },
    {
     "data": {
      "text/plain": [
       "'VAR_0553'"
      ]
     },
     "execution_count": 74,
     "metadata": {},
     "output_type": "execute_result"
    },
    {
     "name": "stdout",
     "output_type": "stream",
     "text": [
      "No. of unique values: 75\n",
      "No.of Null Values: 0\n"
     ]
    },
    {
     "data": {
      "text/plain": [
       "'VAR_0554'"
      ]
     },
     "execution_count": 74,
     "metadata": {},
     "output_type": "execute_result"
    },
    {
     "name": "stdout",
     "output_type": "stream",
     "text": [
      "No. of unique values: 349\n",
      "No.of Null Values: 0\n"
     ]
    },
    {
     "data": {
      "text/plain": [
       "'VAR_0555'"
      ]
     },
     "execution_count": 74,
     "metadata": {},
     "output_type": "execute_result"
    },
    {
     "name": "stdout",
     "output_type": "stream",
     "text": [
      "No. of unique values: 87\n",
      "No.of Null Values: 0\n"
     ]
    },
    {
     "data": {
      "text/plain": [
       "'VAR_0556'"
      ]
     },
     "execution_count": 74,
     "metadata": {},
     "output_type": "execute_result"
    },
    {
     "name": "stdout",
     "output_type": "stream",
     "text": [
      "No. of unique values: 86\n",
      "No.of Null Values: 0\n"
     ]
    },
    {
     "data": {
      "text/plain": [
       "'VAR_0557'"
      ]
     },
     "execution_count": 74,
     "metadata": {},
     "output_type": "execute_result"
    },
    {
     "name": "stdout",
     "output_type": "stream",
     "text": [
      "No. of unique values: 85\n",
      "No.of Null Values: 0\n"
     ]
    },
    {
     "data": {
      "text/plain": [
       "'VAR_0558'"
      ]
     },
     "execution_count": 74,
     "metadata": {},
     "output_type": "execute_result"
    },
    {
     "name": "stdout",
     "output_type": "stream",
     "text": [
      "No. of unique values: 86\n",
      "No.of Null Values: 0\n"
     ]
    },
    {
     "data": {
      "text/plain": [
       "'VAR_0559'"
      ]
     },
     "execution_count": 74,
     "metadata": {},
     "output_type": "execute_result"
    },
    {
     "name": "stdout",
     "output_type": "stream",
     "text": [
      "No. of unique values: 83\n",
      "No.of Null Values: 0\n"
     ]
    },
    {
     "data": {
      "text/plain": [
       "'VAR_0560'"
      ]
     },
     "execution_count": 74,
     "metadata": {},
     "output_type": "execute_result"
    },
    {
     "name": "stdout",
     "output_type": "stream",
     "text": [
      "No. of unique values: 83\n",
      "No.of Null Values: 0\n"
     ]
    },
    {
     "data": {
      "text/plain": [
       "'VAR_0561'"
      ]
     },
     "execution_count": 74,
     "metadata": {},
     "output_type": "execute_result"
    },
    {
     "name": "stdout",
     "output_type": "stream",
     "text": [
      "No. of unique values: 179\n",
      "No.of Null Values: 0\n"
     ]
    },
    {
     "data": {
      "text/plain": [
       "'VAR_0562'"
      ]
     },
     "execution_count": 74,
     "metadata": {},
     "output_type": "execute_result"
    },
    {
     "name": "stdout",
     "output_type": "stream",
     "text": [
      "No. of unique values: 17\n",
      "No.of Null Values: 0\n"
     ]
    },
    {
     "data": {
      "text/plain": [
       "'VAR_0563'"
      ]
     },
     "execution_count": 74,
     "metadata": {},
     "output_type": "execute_result"
    },
    {
     "name": "stdout",
     "output_type": "stream",
     "text": [
      "No. of unique values: 2\n",
      "No.of Null Values: 0\n"
     ]
    },
    {
     "data": {
      "text/plain": [
       "'VAR_0564'"
      ]
     },
     "execution_count": 74,
     "metadata": {},
     "output_type": "execute_result"
    },
    {
     "name": "stdout",
     "output_type": "stream",
     "text": [
      "No. of unique values: 9\n",
      "No.of Null Values: 0\n"
     ]
    },
    {
     "data": {
      "text/plain": [
       "'VAR_0565'"
      ]
     },
     "execution_count": 74,
     "metadata": {},
     "output_type": "execute_result"
    },
    {
     "name": "stdout",
     "output_type": "stream",
     "text": [
      "No. of unique values: 17\n",
      "No.of Null Values: 0\n"
     ]
    },
    {
     "data": {
      "text/plain": [
       "'VAR_0566'"
      ]
     },
     "execution_count": 74,
     "metadata": {},
     "output_type": "execute_result"
    },
    {
     "name": "stdout",
     "output_type": "stream",
     "text": [
      "No. of unique values: 2\n",
      "No.of Null Values: 0\n"
     ]
    },
    {
     "data": {
      "text/plain": [
       "'VAR_0567'"
      ]
     },
     "execution_count": 74,
     "metadata": {},
     "output_type": "execute_result"
    },
    {
     "name": "stdout",
     "output_type": "stream",
     "text": [
      "No. of unique values: 2\n",
      "No.of Null Values: 0\n"
     ]
    },
    {
     "data": {
      "text/plain": [
       "'VAR_0568'"
      ]
     },
     "execution_count": 74,
     "metadata": {},
     "output_type": "execute_result"
    },
    {
     "name": "stdout",
     "output_type": "stream",
     "text": [
      "No. of unique values: 19\n",
      "No.of Null Values: 0\n"
     ]
    },
    {
     "data": {
      "text/plain": [
       "'VAR_0569'"
      ]
     },
     "execution_count": 74,
     "metadata": {},
     "output_type": "execute_result"
    },
    {
     "name": "stdout",
     "output_type": "stream",
     "text": [
      "No. of unique values: 14\n",
      "No.of Null Values: 0\n"
     ]
    },
    {
     "data": {
      "text/plain": [
       "'VAR_0570'"
      ]
     },
     "execution_count": 74,
     "metadata": {},
     "output_type": "execute_result"
    },
    {
     "name": "stdout",
     "output_type": "stream",
     "text": [
      "No. of unique values: 84\n",
      "No.of Null Values: 0\n"
     ]
    },
    {
     "data": {
      "text/plain": [
       "'VAR_0571'"
      ]
     },
     "execution_count": 74,
     "metadata": {},
     "output_type": "execute_result"
    },
    {
     "name": "stdout",
     "output_type": "stream",
     "text": [
      "No. of unique values: 7163\n",
      "No.of Null Values: 0\n"
     ]
    },
    {
     "data": {
      "text/plain": [
       "'VAR_0572'"
      ]
     },
     "execution_count": 74,
     "metadata": {},
     "output_type": "execute_result"
    },
    {
     "name": "stdout",
     "output_type": "stream",
     "text": [
      "No. of unique values: 19\n",
      "No.of Null Values: 0\n"
     ]
    },
    {
     "data": {
      "text/plain": [
       "'VAR_0573'"
      ]
     },
     "execution_count": 74,
     "metadata": {},
     "output_type": "execute_result"
    },
    {
     "name": "stdout",
     "output_type": "stream",
     "text": [
      "No. of unique values: 171\n",
      "No.of Null Values: 0\n"
     ]
    },
    {
     "data": {
      "text/plain": [
       "'VAR_0574'"
      ]
     },
     "execution_count": 74,
     "metadata": {},
     "output_type": "execute_result"
    },
    {
     "name": "stdout",
     "output_type": "stream",
     "text": [
      "No. of unique values: 221\n",
      "No.of Null Values: 0\n"
     ]
    },
    {
     "data": {
      "text/plain": [
       "'VAR_0575'"
      ]
     },
     "execution_count": 74,
     "metadata": {},
     "output_type": "execute_result"
    },
    {
     "name": "stdout",
     "output_type": "stream",
     "text": [
      "No. of unique values: 1377\n",
      "No.of Null Values: 0\n"
     ]
    },
    {
     "data": {
      "text/plain": [
       "'VAR_0576'"
      ]
     },
     "execution_count": 74,
     "metadata": {},
     "output_type": "execute_result"
    },
    {
     "name": "stdout",
     "output_type": "stream",
     "text": [
      "No. of unique values: 1302\n",
      "No.of Null Values: 0\n"
     ]
    },
    {
     "data": {
      "text/plain": [
       "'VAR_0577'"
      ]
     },
     "execution_count": 74,
     "metadata": {},
     "output_type": "execute_result"
    },
    {
     "name": "stdout",
     "output_type": "stream",
     "text": [
      "No. of unique values: 1069\n",
      "No.of Null Values: 0\n"
     ]
    },
    {
     "data": {
      "text/plain": [
       "'VAR_0578'"
      ]
     },
     "execution_count": 74,
     "metadata": {},
     "output_type": "execute_result"
    },
    {
     "name": "stdout",
     "output_type": "stream",
     "text": [
      "No. of unique values: 227\n",
      "No.of Null Values: 0\n"
     ]
    },
    {
     "data": {
      "text/plain": [
       "'VAR_0579'"
      ]
     },
     "execution_count": 74,
     "metadata": {},
     "output_type": "execute_result"
    },
    {
     "name": "stdout",
     "output_type": "stream",
     "text": [
      "No. of unique values: 364\n",
      "No.of Null Values: 0\n"
     ]
    },
    {
     "data": {
      "text/plain": [
       "'VAR_0580'"
      ]
     },
     "execution_count": 74,
     "metadata": {},
     "output_type": "execute_result"
    },
    {
     "name": "stdout",
     "output_type": "stream",
     "text": [
      "No. of unique values: 25\n",
      "No.of Null Values: 0\n"
     ]
    },
    {
     "data": {
      "text/plain": [
       "'VAR_0581'"
      ]
     },
     "execution_count": 74,
     "metadata": {},
     "output_type": "execute_result"
    },
    {
     "name": "stdout",
     "output_type": "stream",
     "text": [
      "No. of unique values: 30\n",
      "No.of Null Values: 0\n"
     ]
    },
    {
     "data": {
      "text/plain": [
       "'VAR_0582'"
      ]
     },
     "execution_count": 74,
     "metadata": {},
     "output_type": "execute_result"
    },
    {
     "name": "stdout",
     "output_type": "stream",
     "text": [
      "No. of unique values: 30\n",
      "No.of Null Values: 0\n"
     ]
    },
    {
     "data": {
      "text/plain": [
       "'VAR_0583'"
      ]
     },
     "execution_count": 74,
     "metadata": {},
     "output_type": "execute_result"
    },
    {
     "name": "stdout",
     "output_type": "stream",
     "text": [
      "No. of unique values: 10261\n",
      "No.of Null Values: 0\n"
     ]
    },
    {
     "data": {
      "text/plain": [
       "'VAR_0584'"
      ]
     },
     "execution_count": 74,
     "metadata": {},
     "output_type": "execute_result"
    },
    {
     "name": "stdout",
     "output_type": "stream",
     "text": [
      "No. of unique values: 3127\n",
      "No.of Null Values: 0\n"
     ]
    },
    {
     "data": {
      "text/plain": [
       "'VAR_0585'"
      ]
     },
     "execution_count": 74,
     "metadata": {},
     "output_type": "execute_result"
    },
    {
     "name": "stdout",
     "output_type": "stream",
     "text": [
      "No. of unique values: 15087\n",
      "No.of Null Values: 0\n"
     ]
    },
    {
     "data": {
      "text/plain": [
       "'VAR_0586'"
      ]
     },
     "execution_count": 74,
     "metadata": {},
     "output_type": "execute_result"
    },
    {
     "name": "stdout",
     "output_type": "stream",
     "text": [
      "No. of unique values: 3248\n",
      "No.of Null Values: 0\n"
     ]
    },
    {
     "data": {
      "text/plain": [
       "'VAR_0587'"
      ]
     },
     "execution_count": 74,
     "metadata": {},
     "output_type": "execute_result"
    },
    {
     "name": "stdout",
     "output_type": "stream",
     "text": [
      "No. of unique values: 443\n",
      "No.of Null Values: 0\n"
     ]
    },
    {
     "data": {
      "text/plain": [
       "'VAR_0588'"
      ]
     },
     "execution_count": 74,
     "metadata": {},
     "output_type": "execute_result"
    },
    {
     "name": "stdout",
     "output_type": "stream",
     "text": [
      "No. of unique values: 760\n",
      "No.of Null Values: 0\n"
     ]
    },
    {
     "data": {
      "text/plain": [
       "'VAR_0589'"
      ]
     },
     "execution_count": 74,
     "metadata": {},
     "output_type": "execute_result"
    },
    {
     "name": "stdout",
     "output_type": "stream",
     "text": [
      "No. of unique values: 104\n",
      "No.of Null Values: 0\n"
     ]
    },
    {
     "data": {
      "text/plain": [
       "'VAR_0590'"
      ]
     },
     "execution_count": 74,
     "metadata": {},
     "output_type": "execute_result"
    },
    {
     "name": "stdout",
     "output_type": "stream",
     "text": [
      "No. of unique values: 27\n",
      "No.of Null Values: 0\n"
     ]
    },
    {
     "data": {
      "text/plain": [
       "'VAR_0591'"
      ]
     },
     "execution_count": 74,
     "metadata": {},
     "output_type": "execute_result"
    },
    {
     "name": "stdout",
     "output_type": "stream",
     "text": [
      "No. of unique values: 105\n",
      "No.of Null Values: 0\n"
     ]
    },
    {
     "data": {
      "text/plain": [
       "'VAR_0592'"
      ]
     },
     "execution_count": 74,
     "metadata": {},
     "output_type": "execute_result"
    },
    {
     "name": "stdout",
     "output_type": "stream",
     "text": [
      "No. of unique values: 105\n",
      "No.of Null Values: 0\n"
     ]
    },
    {
     "data": {
      "text/plain": [
       "'VAR_0593'"
      ]
     },
     "execution_count": 74,
     "metadata": {},
     "output_type": "execute_result"
    },
    {
     "name": "stdout",
     "output_type": "stream",
     "text": [
      "No. of unique values: 104\n",
      "No.of Null Values: 0\n"
     ]
    },
    {
     "data": {
      "text/plain": [
       "'VAR_0594'"
      ]
     },
     "execution_count": 74,
     "metadata": {},
     "output_type": "execute_result"
    },
    {
     "name": "stdout",
     "output_type": "stream",
     "text": [
      "No. of unique values: 55\n",
      "No.of Null Values: 0\n"
     ]
    },
    {
     "data": {
      "text/plain": [
       "'VAR_0595'"
      ]
     },
     "execution_count": 74,
     "metadata": {},
     "output_type": "execute_result"
    },
    {
     "name": "stdout",
     "output_type": "stream",
     "text": [
      "No. of unique values: 55\n",
      "No.of Null Values: 0\n"
     ]
    },
    {
     "data": {
      "text/plain": [
       "'VAR_0596'"
      ]
     },
     "execution_count": 74,
     "metadata": {},
     "output_type": "execute_result"
    },
    {
     "name": "stdout",
     "output_type": "stream",
     "text": [
      "No. of unique values: 557\n",
      "No.of Null Values: 0\n"
     ]
    },
    {
     "data": {
      "text/plain": [
       "'VAR_0597'"
      ]
     },
     "execution_count": 74,
     "metadata": {},
     "output_type": "execute_result"
    },
    {
     "name": "stdout",
     "output_type": "stream",
     "text": [
      "No. of unique values: 424\n",
      "No.of Null Values: 0\n"
     ]
    },
    {
     "data": {
      "text/plain": [
       "'VAR_0598'"
      ]
     },
     "execution_count": 74,
     "metadata": {},
     "output_type": "execute_result"
    },
    {
     "name": "stdout",
     "output_type": "stream",
     "text": [
      "No. of unique values: 1015\n",
      "No.of Null Values: 0\n"
     ]
    },
    {
     "data": {
      "text/plain": [
       "'VAR_0599'"
      ]
     },
     "execution_count": 74,
     "metadata": {},
     "output_type": "execute_result"
    },
    {
     "name": "stdout",
     "output_type": "stream",
     "text": [
      "No. of unique values: 2903\n",
      "No.of Null Values: 0\n"
     ]
    },
    {
     "data": {
      "text/plain": [
       "'VAR_0600'"
      ]
     },
     "execution_count": 74,
     "metadata": {},
     "output_type": "execute_result"
    },
    {
     "name": "stdout",
     "output_type": "stream",
     "text": [
      "No. of unique values: 932\n",
      "No.of Null Values: 0\n"
     ]
    },
    {
     "data": {
      "text/plain": [
       "'VAR_0601'"
      ]
     },
     "execution_count": 74,
     "metadata": {},
     "output_type": "execute_result"
    },
    {
     "name": "stdout",
     "output_type": "stream",
     "text": [
      "No. of unique values: 215\n",
      "No.of Null Values: 0\n"
     ]
    },
    {
     "data": {
      "text/plain": [
       "'VAR_0602'"
      ]
     },
     "execution_count": 74,
     "metadata": {},
     "output_type": "execute_result"
    },
    {
     "name": "stdout",
     "output_type": "stream",
     "text": [
      "No. of unique values: 243\n",
      "No.of Null Values: 0\n"
     ]
    },
    {
     "data": {
      "text/plain": [
       "'VAR_0603'"
      ]
     },
     "execution_count": 74,
     "metadata": {},
     "output_type": "execute_result"
    },
    {
     "name": "stdout",
     "output_type": "stream",
     "text": [
      "No. of unique values: 9\n",
      "No.of Null Values: 0\n"
     ]
    },
    {
     "data": {
      "text/plain": [
       "'VAR_0604'"
      ]
     },
     "execution_count": 74,
     "metadata": {},
     "output_type": "execute_result"
    },
    {
     "name": "stdout",
     "output_type": "stream",
     "text": [
      "No. of unique values: 48\n",
      "No.of Null Values: 0\n"
     ]
    },
    {
     "data": {
      "text/plain": [
       "'VAR_0605'"
      ]
     },
     "execution_count": 74,
     "metadata": {},
     "output_type": "execute_result"
    },
    {
     "name": "stdout",
     "output_type": "stream",
     "text": [
      "No. of unique values: 23\n",
      "No.of Null Values: 0\n"
     ]
    },
    {
     "data": {
      "text/plain": [
       "'VAR_0606'"
      ]
     },
     "execution_count": 74,
     "metadata": {},
     "output_type": "execute_result"
    },
    {
     "name": "stdout",
     "output_type": "stream",
     "text": [
      "No. of unique values: 9\n",
      "No.of Null Values: 0\n"
     ]
    },
    {
     "data": {
      "text/plain": [
       "'VAR_0607'"
      ]
     },
     "execution_count": 74,
     "metadata": {},
     "output_type": "execute_result"
    },
    {
     "name": "stdout",
     "output_type": "stream",
     "text": [
      "No. of unique values: 2658\n",
      "No.of Null Values: 0\n"
     ]
    },
    {
     "data": {
      "text/plain": [
       "'VAR_0608'"
      ]
     },
     "execution_count": 74,
     "metadata": {},
     "output_type": "execute_result"
    },
    {
     "name": "stdout",
     "output_type": "stream",
     "text": [
      "No. of unique values: 3508\n",
      "No.of Null Values: 0\n"
     ]
    },
    {
     "data": {
      "text/plain": [
       "'VAR_0609'"
      ]
     },
     "execution_count": 74,
     "metadata": {},
     "output_type": "execute_result"
    },
    {
     "name": "stdout",
     "output_type": "stream",
     "text": [
      "No. of unique values: 16738\n",
      "No.of Null Values: 0\n"
     ]
    },
    {
     "data": {
      "text/plain": [
       "'VAR_0610'"
      ]
     },
     "execution_count": 74,
     "metadata": {},
     "output_type": "execute_result"
    },
    {
     "name": "stdout",
     "output_type": "stream",
     "text": [
      "No. of unique values: 3706\n",
      "No.of Null Values: 0\n"
     ]
    },
    {
     "data": {
      "text/plain": [
       "'VAR_0611'"
      ]
     },
     "execution_count": 74,
     "metadata": {},
     "output_type": "execute_result"
    },
    {
     "name": "stdout",
     "output_type": "stream",
     "text": [
      "No. of unique values: 418\n",
      "No.of Null Values: 0\n"
     ]
    },
    {
     "data": {
      "text/plain": [
       "'VAR_0612'"
      ]
     },
     "execution_count": 74,
     "metadata": {},
     "output_type": "execute_result"
    },
    {
     "name": "stdout",
     "output_type": "stream",
     "text": [
      "No. of unique values: 768\n",
      "No.of Null Values: 0\n"
     ]
    },
    {
     "data": {
      "text/plain": [
       "'VAR_0613'"
      ]
     },
     "execution_count": 74,
     "metadata": {},
     "output_type": "execute_result"
    },
    {
     "name": "stdout",
     "output_type": "stream",
     "text": [
      "No. of unique values: 568\n",
      "No.of Null Values: 0\n"
     ]
    },
    {
     "data": {
      "text/plain": [
       "'VAR_0614'"
      ]
     },
     "execution_count": 74,
     "metadata": {},
     "output_type": "execute_result"
    },
    {
     "name": "stdout",
     "output_type": "stream",
     "text": [
      "No. of unique values: 908\n",
      "No.of Null Values: 0\n"
     ]
    },
    {
     "data": {
      "text/plain": [
       "'VAR_0615'"
      ]
     },
     "execution_count": 74,
     "metadata": {},
     "output_type": "execute_result"
    },
    {
     "name": "stdout",
     "output_type": "stream",
     "text": [
      "No. of unique values: 88\n",
      "No.of Null Values: 0\n"
     ]
    },
    {
     "data": {
      "text/plain": [
       "'VAR_0616'"
      ]
     },
     "execution_count": 74,
     "metadata": {},
     "output_type": "execute_result"
    },
    {
     "name": "stdout",
     "output_type": "stream",
     "text": [
      "No. of unique values: 36\n",
      "No.of Null Values: 0\n"
     ]
    },
    {
     "data": {
      "text/plain": [
       "'VAR_0617'"
      ]
     },
     "execution_count": 74,
     "metadata": {},
     "output_type": "execute_result"
    },
    {
     "name": "stdout",
     "output_type": "stream",
     "text": [
      "No. of unique values: 66\n",
      "No.of Null Values: 0\n"
     ]
    },
    {
     "data": {
      "text/plain": [
       "'VAR_0618'"
      ]
     },
     "execution_count": 74,
     "metadata": {},
     "output_type": "execute_result"
    },
    {
     "name": "stdout",
     "output_type": "stream",
     "text": [
      "No. of unique values: 44\n",
      "No.of Null Values: 0\n"
     ]
    },
    {
     "data": {
      "text/plain": [
       "'VAR_0619'"
      ]
     },
     "execution_count": 74,
     "metadata": {},
     "output_type": "execute_result"
    },
    {
     "name": "stdout",
     "output_type": "stream",
     "text": [
      "No. of unique values: 14\n",
      "No.of Null Values: 0\n"
     ]
    },
    {
     "data": {
      "text/plain": [
       "'VAR_0620'"
      ]
     },
     "execution_count": 74,
     "metadata": {},
     "output_type": "execute_result"
    },
    {
     "name": "stdout",
     "output_type": "stream",
     "text": [
      "No. of unique values: 32\n",
      "No.of Null Values: 0\n"
     ]
    },
    {
     "data": {
      "text/plain": [
       "'VAR_0621'"
      ]
     },
     "execution_count": 74,
     "metadata": {},
     "output_type": "execute_result"
    },
    {
     "name": "stdout",
     "output_type": "stream",
     "text": [
      "No. of unique values: 14\n",
      "No.of Null Values: 0\n"
     ]
    },
    {
     "data": {
      "text/plain": [
       "'VAR_0622'"
      ]
     },
     "execution_count": 74,
     "metadata": {},
     "output_type": "execute_result"
    },
    {
     "name": "stdout",
     "output_type": "stream",
     "text": [
      "No. of unique values: 15\n",
      "No.of Null Values: 0\n"
     ]
    },
    {
     "data": {
      "text/plain": [
       "'VAR_0623'"
      ]
     },
     "execution_count": 74,
     "metadata": {},
     "output_type": "execute_result"
    },
    {
     "name": "stdout",
     "output_type": "stream",
     "text": [
      "No. of unique values: 63\n",
      "No.of Null Values: 0\n"
     ]
    },
    {
     "data": {
      "text/plain": [
       "'VAR_0624'"
      ]
     },
     "execution_count": 74,
     "metadata": {},
     "output_type": "execute_result"
    },
    {
     "name": "stdout",
     "output_type": "stream",
     "text": [
      "No. of unique values: 14\n",
      "No.of Null Values: 0\n"
     ]
    },
    {
     "data": {
      "text/plain": [
       "'VAR_0625'"
      ]
     },
     "execution_count": 74,
     "metadata": {},
     "output_type": "execute_result"
    },
    {
     "name": "stdout",
     "output_type": "stream",
     "text": [
      "No. of unique values: 31\n",
      "No.of Null Values: 0\n"
     ]
    },
    {
     "data": {
      "text/plain": [
       "'VAR_0626'"
      ]
     },
     "execution_count": 74,
     "metadata": {},
     "output_type": "execute_result"
    },
    {
     "name": "stdout",
     "output_type": "stream",
     "text": [
      "No. of unique values: 14\n",
      "No.of Null Values: 0\n"
     ]
    },
    {
     "data": {
      "text/plain": [
       "'VAR_0627'"
      ]
     },
     "execution_count": 74,
     "metadata": {},
     "output_type": "execute_result"
    },
    {
     "name": "stdout",
     "output_type": "stream",
     "text": [
      "No. of unique values: 38\n",
      "No.of Null Values: 0\n"
     ]
    },
    {
     "data": {
      "text/plain": [
       "'VAR_0628'"
      ]
     },
     "execution_count": 74,
     "metadata": {},
     "output_type": "execute_result"
    },
    {
     "name": "stdout",
     "output_type": "stream",
     "text": [
      "No. of unique values: 6514\n",
      "No.of Null Values: 0\n"
     ]
    },
    {
     "data": {
      "text/plain": [
       "'VAR_0629'"
      ]
     },
     "execution_count": 74,
     "metadata": {},
     "output_type": "execute_result"
    },
    {
     "name": "stdout",
     "output_type": "stream",
     "text": [
      "No. of unique values: 5482\n",
      "No.of Null Values: 0\n"
     ]
    },
    {
     "data": {
      "text/plain": [
       "'VAR_0630'"
      ]
     },
     "execution_count": 74,
     "metadata": {},
     "output_type": "execute_result"
    },
    {
     "name": "stdout",
     "output_type": "stream",
     "text": [
      "No. of unique values: 4100\n",
      "No.of Null Values: 0\n"
     ]
    },
    {
     "data": {
      "text/plain": [
       "'VAR_0631'"
      ]
     },
     "execution_count": 74,
     "metadata": {},
     "output_type": "execute_result"
    },
    {
     "name": "stdout",
     "output_type": "stream",
     "text": [
      "No. of unique values: 3028\n",
      "No.of Null Values: 0\n"
     ]
    },
    {
     "data": {
      "text/plain": [
       "'VAR_0632'"
      ]
     },
     "execution_count": 74,
     "metadata": {},
     "output_type": "execute_result"
    },
    {
     "name": "stdout",
     "output_type": "stream",
     "text": [
      "No. of unique values: 87\n",
      "No.of Null Values: 0\n"
     ]
    },
    {
     "data": {
      "text/plain": [
       "'VAR_0633'"
      ]
     },
     "execution_count": 74,
     "metadata": {},
     "output_type": "execute_result"
    },
    {
     "name": "stdout",
     "output_type": "stream",
     "text": [
      "No. of unique values: 85\n",
      "No.of Null Values: 0\n"
     ]
    },
    {
     "data": {
      "text/plain": [
       "'VAR_0634'"
      ]
     },
     "execution_count": 74,
     "metadata": {},
     "output_type": "execute_result"
    },
    {
     "name": "stdout",
     "output_type": "stream",
     "text": [
      "No. of unique values: 86\n",
      "No.of Null Values: 0\n"
     ]
    },
    {
     "data": {
      "text/plain": [
       "'VAR_0635'"
      ]
     },
     "execution_count": 74,
     "metadata": {},
     "output_type": "execute_result"
    },
    {
     "name": "stdout",
     "output_type": "stream",
     "text": [
      "No. of unique values: 86\n",
      "No.of Null Values: 0\n"
     ]
    },
    {
     "data": {
      "text/plain": [
       "'VAR_0636'"
      ]
     },
     "execution_count": 74,
     "metadata": {},
     "output_type": "execute_result"
    },
    {
     "name": "stdout",
     "output_type": "stream",
     "text": [
      "No. of unique values: 83\n",
      "No.of Null Values: 0\n"
     ]
    },
    {
     "data": {
      "text/plain": [
       "'VAR_0637'"
      ]
     },
     "execution_count": 74,
     "metadata": {},
     "output_type": "execute_result"
    },
    {
     "name": "stdout",
     "output_type": "stream",
     "text": [
      "No. of unique values: 5\n",
      "No.of Null Values: 0\n"
     ]
    },
    {
     "data": {
      "text/plain": [
       "'VAR_0638'"
      ]
     },
     "execution_count": 74,
     "metadata": {},
     "output_type": "execute_result"
    },
    {
     "name": "stdout",
     "output_type": "stream",
     "text": [
      "No. of unique values: 7\n",
      "No.of Null Values: 0\n"
     ]
    },
    {
     "data": {
      "text/plain": [
       "'VAR_0639'"
      ]
     },
     "execution_count": 74,
     "metadata": {},
     "output_type": "execute_result"
    },
    {
     "name": "stdout",
     "output_type": "stream",
     "text": [
      "No. of unique values: 5\n",
      "No.of Null Values: 0\n"
     ]
    },
    {
     "data": {
      "text/plain": [
       "'VAR_0640'"
      ]
     },
     "execution_count": 74,
     "metadata": {},
     "output_type": "execute_result"
    },
    {
     "name": "stdout",
     "output_type": "stream",
     "text": [
      "No. of unique values: 5\n",
      "No.of Null Values: 0\n"
     ]
    },
    {
     "data": {
      "text/plain": [
       "'VAR_0641'"
      ]
     },
     "execution_count": 74,
     "metadata": {},
     "output_type": "execute_result"
    },
    {
     "name": "stdout",
     "output_type": "stream",
     "text": [
      "No. of unique values: 767\n",
      "No.of Null Values: 0\n"
     ]
    },
    {
     "data": {
      "text/plain": [
       "'VAR_0642'"
      ]
     },
     "execution_count": 74,
     "metadata": {},
     "output_type": "execute_result"
    },
    {
     "name": "stdout",
     "output_type": "stream",
     "text": [
      "No. of unique values: 441\n",
      "No.of Null Values: 0\n"
     ]
    },
    {
     "data": {
      "text/plain": [
       "'VAR_0643'"
      ]
     },
     "execution_count": 74,
     "metadata": {},
     "output_type": "execute_result"
    },
    {
     "name": "stdout",
     "output_type": "stream",
     "text": [
      "No. of unique values: 820\n",
      "No.of Null Values: 0\n"
     ]
    },
    {
     "data": {
      "text/plain": [
       "'VAR_0644'"
      ]
     },
     "execution_count": 74,
     "metadata": {},
     "output_type": "execute_result"
    },
    {
     "name": "stdout",
     "output_type": "stream",
     "text": [
      "No. of unique values: 183\n",
      "No.of Null Values: 0\n"
     ]
    },
    {
     "data": {
      "text/plain": [
       "'VAR_0645'"
      ]
     },
     "execution_count": 74,
     "metadata": {},
     "output_type": "execute_result"
    },
    {
     "name": "stdout",
     "output_type": "stream",
     "text": [
      "No. of unique values: 181\n",
      "No.of Null Values: 0\n"
     ]
    },
    {
     "data": {
      "text/plain": [
       "'VAR_0646'"
      ]
     },
     "execution_count": 74,
     "metadata": {},
     "output_type": "execute_result"
    },
    {
     "name": "stdout",
     "output_type": "stream",
     "text": [
      "No. of unique values: 37\n",
      "No.of Null Values: 0\n"
     ]
    },
    {
     "data": {
      "text/plain": [
       "'VAR_0647'"
      ]
     },
     "execution_count": 74,
     "metadata": {},
     "output_type": "execute_result"
    },
    {
     "name": "stdout",
     "output_type": "stream",
     "text": [
      "No. of unique values: 10\n",
      "No.of Null Values: 0\n"
     ]
    },
    {
     "data": {
      "text/plain": [
       "'VAR_0648'"
      ]
     },
     "execution_count": 74,
     "metadata": {},
     "output_type": "execute_result"
    },
    {
     "name": "stdout",
     "output_type": "stream",
     "text": [
      "No. of unique values: 34779\n",
      "No.of Null Values: 0\n"
     ]
    },
    {
     "data": {
      "text/plain": [
       "'VAR_0649'"
      ]
     },
     "execution_count": 74,
     "metadata": {},
     "output_type": "execute_result"
    },
    {
     "name": "stdout",
     "output_type": "stream",
     "text": [
      "No. of unique values: 29698\n",
      "No.of Null Values: 0\n"
     ]
    },
    {
     "data": {
      "text/plain": [
       "'VAR_0650'"
      ]
     },
     "execution_count": 74,
     "metadata": {},
     "output_type": "execute_result"
    },
    {
     "name": "stdout",
     "output_type": "stream",
     "text": [
      "No. of unique values: 2104\n",
      "No.of Null Values: 0\n"
     ]
    },
    {
     "data": {
      "text/plain": [
       "'VAR_0651'"
      ]
     },
     "execution_count": 74,
     "metadata": {},
     "output_type": "execute_result"
    },
    {
     "name": "stdout",
     "output_type": "stream",
     "text": [
      "No. of unique values: 1712\n",
      "No.of Null Values: 0\n"
     ]
    },
    {
     "data": {
      "text/plain": [
       "'VAR_0652'"
      ]
     },
     "execution_count": 74,
     "metadata": {},
     "output_type": "execute_result"
    },
    {
     "name": "stdout",
     "output_type": "stream",
     "text": [
      "No. of unique values: 34433\n",
      "No.of Null Values: 0\n"
     ]
    },
    {
     "data": {
      "text/plain": [
       "'VAR_0653'"
      ]
     },
     "execution_count": 74,
     "metadata": {},
     "output_type": "execute_result"
    },
    {
     "name": "stdout",
     "output_type": "stream",
     "text": [
      "No. of unique values: 1680\n",
      "No.of Null Values: 0\n"
     ]
    },
    {
     "data": {
      "text/plain": [
       "'VAR_0654'"
      ]
     },
     "execution_count": 74,
     "metadata": {},
     "output_type": "execute_result"
    },
    {
     "name": "stdout",
     "output_type": "stream",
     "text": [
      "No. of unique values: 1469\n",
      "No.of Null Values: 0\n"
     ]
    },
    {
     "data": {
      "text/plain": [
       "'VAR_0655'"
      ]
     },
     "execution_count": 74,
     "metadata": {},
     "output_type": "execute_result"
    },
    {
     "name": "stdout",
     "output_type": "stream",
     "text": [
      "No. of unique values: 2865\n",
      "No.of Null Values: 0\n"
     ]
    },
    {
     "data": {
      "text/plain": [
       "'VAR_0656'"
      ]
     },
     "execution_count": 74,
     "metadata": {},
     "output_type": "execute_result"
    },
    {
     "name": "stdout",
     "output_type": "stream",
     "text": [
      "No. of unique values: 568\n",
      "No.of Null Values: 0\n"
     ]
    },
    {
     "data": {
      "text/plain": [
       "'VAR_0657'"
      ]
     },
     "execution_count": 74,
     "metadata": {},
     "output_type": "execute_result"
    },
    {
     "name": "stdout",
     "output_type": "stream",
     "text": [
      "No. of unique values: 17\n",
      "No.of Null Values: 0\n"
     ]
    },
    {
     "data": {
      "text/plain": [
       "'VAR_0658'"
      ]
     },
     "execution_count": 74,
     "metadata": {},
     "output_type": "execute_result"
    },
    {
     "name": "stdout",
     "output_type": "stream",
     "text": [
      "No. of unique values: 17\n",
      "No.of Null Values: 0\n"
     ]
    },
    {
     "data": {
      "text/plain": [
       "'VAR_0659'"
      ]
     },
     "execution_count": 74,
     "metadata": {},
     "output_type": "execute_result"
    },
    {
     "name": "stdout",
     "output_type": "stream",
     "text": [
      "No. of unique values: 37295\n",
      "No.of Null Values: 0\n"
     ]
    },
    {
     "data": {
      "text/plain": [
       "'VAR_0660'"
      ]
     },
     "execution_count": 74,
     "metadata": {},
     "output_type": "execute_result"
    },
    {
     "name": "stdout",
     "output_type": "stream",
     "text": [
      "No. of unique values: 20719\n",
      "No.of Null Values: 0\n"
     ]
    },
    {
     "data": {
      "text/plain": [
       "'VAR_0661'"
      ]
     },
     "execution_count": 74,
     "metadata": {},
     "output_type": "execute_result"
    },
    {
     "name": "stdout",
     "output_type": "stream",
     "text": [
      "No. of unique values: 363\n",
      "No.of Null Values: 0\n"
     ]
    },
    {
     "data": {
      "text/plain": [
       "'VAR_0662'"
      ]
     },
     "execution_count": 74,
     "metadata": {},
     "output_type": "execute_result"
    },
    {
     "name": "stdout",
     "output_type": "stream",
     "text": [
      "No. of unique values: 8\n",
      "No.of Null Values: 0\n"
     ]
    },
    {
     "data": {
      "text/plain": [
       "'VAR_0663'"
      ]
     },
     "execution_count": 74,
     "metadata": {},
     "output_type": "execute_result"
    },
    {
     "name": "stdout",
     "output_type": "stream",
     "text": [
      "No. of unique values: 9\n",
      "No.of Null Values: 0\n"
     ]
    },
    {
     "data": {
      "text/plain": [
       "'VAR_0664'"
      ]
     },
     "execution_count": 74,
     "metadata": {},
     "output_type": "execute_result"
    },
    {
     "name": "stdout",
     "output_type": "stream",
     "text": [
      "No. of unique values: 7\n",
      "No.of Null Values: 0\n"
     ]
    },
    {
     "data": {
      "text/plain": [
       "'VAR_0665'"
      ]
     },
     "execution_count": 74,
     "metadata": {},
     "output_type": "execute_result"
    },
    {
     "name": "stdout",
     "output_type": "stream",
     "text": [
      "No. of unique values: 7\n",
      "No.of Null Values: 0\n"
     ]
    },
    {
     "data": {
      "text/plain": [
       "'VAR_0666'"
      ]
     },
     "execution_count": 74,
     "metadata": {},
     "output_type": "execute_result"
    },
    {
     "name": "stdout",
     "output_type": "stream",
     "text": [
      "No. of unique values: 9\n",
      "No.of Null Values: 0\n"
     ]
    },
    {
     "data": {
      "text/plain": [
       "'VAR_0667'"
      ]
     },
     "execution_count": 74,
     "metadata": {},
     "output_type": "execute_result"
    },
    {
     "name": "stdout",
     "output_type": "stream",
     "text": [
      "No. of unique values: 7\n",
      "No.of Null Values: 0\n"
     ]
    },
    {
     "data": {
      "text/plain": [
       "'VAR_0668'"
      ]
     },
     "execution_count": 74,
     "metadata": {},
     "output_type": "execute_result"
    },
    {
     "name": "stdout",
     "output_type": "stream",
     "text": [
      "No. of unique values: 7\n",
      "No.of Null Values: 0\n"
     ]
    },
    {
     "data": {
      "text/plain": [
       "'VAR_0669'"
      ]
     },
     "execution_count": 74,
     "metadata": {},
     "output_type": "execute_result"
    },
    {
     "name": "stdout",
     "output_type": "stream",
     "text": [
      "No. of unique values: 3681\n",
      "No.of Null Values: 0\n"
     ]
    },
    {
     "data": {
      "text/plain": [
       "'VAR_0670'"
      ]
     },
     "execution_count": 74,
     "metadata": {},
     "output_type": "execute_result"
    },
    {
     "name": "stdout",
     "output_type": "stream",
     "text": [
      "No. of unique values: 2605\n",
      "No.of Null Values: 0\n"
     ]
    },
    {
     "data": {
      "text/plain": [
       "'VAR_0671'"
      ]
     },
     "execution_count": 74,
     "metadata": {},
     "output_type": "execute_result"
    },
    {
     "name": "stdout",
     "output_type": "stream",
     "text": [
      "No. of unique values: 3681\n",
      "No.of Null Values: 0\n"
     ]
    },
    {
     "data": {
      "text/plain": [
       "'VAR_0672'"
      ]
     },
     "execution_count": 74,
     "metadata": {},
     "output_type": "execute_result"
    },
    {
     "name": "stdout",
     "output_type": "stream",
     "text": [
      "No. of unique values: 2605\n",
      "No.of Null Values: 0\n"
     ]
    },
    {
     "data": {
      "text/plain": [
       "'VAR_0673'"
      ]
     },
     "execution_count": 74,
     "metadata": {},
     "output_type": "execute_result"
    },
    {
     "name": "stdout",
     "output_type": "stream",
     "text": [
      "No. of unique values: 3301\n",
      "No.of Null Values: 0\n"
     ]
    },
    {
     "data": {
      "text/plain": [
       "'VAR_0674'"
      ]
     },
     "execution_count": 74,
     "metadata": {},
     "output_type": "execute_result"
    },
    {
     "name": "stdout",
     "output_type": "stream",
     "text": [
      "No. of unique values: 1701\n",
      "No.of Null Values: 0\n"
     ]
    },
    {
     "data": {
      "text/plain": [
       "'VAR_0675'"
      ]
     },
     "execution_count": 74,
     "metadata": {},
     "output_type": "execute_result"
    },
    {
     "name": "stdout",
     "output_type": "stream",
     "text": [
      "No. of unique values: 1970\n",
      "No.of Null Values: 0\n"
     ]
    },
    {
     "data": {
      "text/plain": [
       "'VAR_0676'"
      ]
     },
     "execution_count": 74,
     "metadata": {},
     "output_type": "execute_result"
    },
    {
     "name": "stdout",
     "output_type": "stream",
     "text": [
      "No. of unique values: 1547\n",
      "No.of Null Values: 0\n"
     ]
    },
    {
     "data": {
      "text/plain": [
       "'VAR_0677'"
      ]
     },
     "execution_count": 74,
     "metadata": {},
     "output_type": "execute_result"
    },
    {
     "name": "stdout",
     "output_type": "stream",
     "text": [
      "No. of unique values: 3462\n",
      "No.of Null Values: 0\n"
     ]
    },
    {
     "data": {
      "text/plain": [
       "'VAR_0678'"
      ]
     },
     "execution_count": 74,
     "metadata": {},
     "output_type": "execute_result"
    },
    {
     "name": "stdout",
     "output_type": "stream",
     "text": [
      "No. of unique values: 10\n",
      "No.of Null Values: 0\n"
     ]
    },
    {
     "data": {
      "text/plain": [
       "'VAR_0679'"
      ]
     },
     "execution_count": 74,
     "metadata": {},
     "output_type": "execute_result"
    },
    {
     "name": "stdout",
     "output_type": "stream",
     "text": [
      "No. of unique values: 10\n",
      "No.of Null Values: 0\n"
     ]
    },
    {
     "data": {
      "text/plain": [
       "'VAR_0680'"
      ]
     },
     "execution_count": 74,
     "metadata": {},
     "output_type": "execute_result"
    },
    {
     "name": "stdout",
     "output_type": "stream",
     "text": [
      "No. of unique values: 271\n",
      "No.of Null Values: 0\n"
     ]
    },
    {
     "data": {
      "text/plain": [
       "'VAR_0681'"
      ]
     },
     "execution_count": 74,
     "metadata": {},
     "output_type": "execute_result"
    },
    {
     "name": "stdout",
     "output_type": "stream",
     "text": [
      "No. of unique values: 331\n",
      "No.of Null Values: 0\n"
     ]
    },
    {
     "data": {
      "text/plain": [
       "'VAR_0682'"
      ]
     },
     "execution_count": 74,
     "metadata": {},
     "output_type": "execute_result"
    },
    {
     "name": "stdout",
     "output_type": "stream",
     "text": [
      "No. of unique values: 307\n",
      "No.of Null Values: 0\n"
     ]
    },
    {
     "data": {
      "text/plain": [
       "'VAR_0683'"
      ]
     },
     "execution_count": 74,
     "metadata": {},
     "output_type": "execute_result"
    },
    {
     "name": "stdout",
     "output_type": "stream",
     "text": [
      "No. of unique values: 430\n",
      "No.of Null Values: 0\n"
     ]
    },
    {
     "data": {
      "text/plain": [
       "'VAR_0684'"
      ]
     },
     "execution_count": 74,
     "metadata": {},
     "output_type": "execute_result"
    },
    {
     "name": "stdout",
     "output_type": "stream",
     "text": [
      "No. of unique values: 96\n",
      "No.of Null Values: 0\n"
     ]
    },
    {
     "data": {
      "text/plain": [
       "'VAR_0685'"
      ]
     },
     "execution_count": 74,
     "metadata": {},
     "output_type": "execute_result"
    },
    {
     "name": "stdout",
     "output_type": "stream",
     "text": [
      "No. of unique values: 41\n",
      "No.of Null Values: 0\n"
     ]
    },
    {
     "data": {
      "text/plain": [
       "'VAR_0686'"
      ]
     },
     "execution_count": 74,
     "metadata": {},
     "output_type": "execute_result"
    },
    {
     "name": "stdout",
     "output_type": "stream",
     "text": [
      "No. of unique values: 29\n",
      "No.of Null Values: 0\n"
     ]
    },
    {
     "data": {
      "text/plain": [
       "'VAR_0687'"
      ]
     },
     "execution_count": 74,
     "metadata": {},
     "output_type": "execute_result"
    },
    {
     "name": "stdout",
     "output_type": "stream",
     "text": [
      "No. of unique values: 973\n",
      "No.of Null Values: 0\n"
     ]
    },
    {
     "data": {
      "text/plain": [
       "'VAR_0688'"
      ]
     },
     "execution_count": 74,
     "metadata": {},
     "output_type": "execute_result"
    },
    {
     "name": "stdout",
     "output_type": "stream",
     "text": [
      "No. of unique values: 840\n",
      "No.of Null Values: 0\n"
     ]
    },
    {
     "data": {
      "text/plain": [
       "'VAR_0689'"
      ]
     },
     "execution_count": 74,
     "metadata": {},
     "output_type": "execute_result"
    },
    {
     "name": "stdout",
     "output_type": "stream",
     "text": [
      "No. of unique values: 13\n",
      "No.of Null Values: 0\n"
     ]
    },
    {
     "data": {
      "text/plain": [
       "'VAR_0690'"
      ]
     },
     "execution_count": 74,
     "metadata": {},
     "output_type": "execute_result"
    },
    {
     "name": "stdout",
     "output_type": "stream",
     "text": [
      "No. of unique values: 18\n",
      "No.of Null Values: 0\n"
     ]
    },
    {
     "data": {
      "text/plain": [
       "'VAR_0691'"
      ]
     },
     "execution_count": 74,
     "metadata": {},
     "output_type": "execute_result"
    },
    {
     "name": "stdout",
     "output_type": "stream",
     "text": [
      "No. of unique values: 1816\n",
      "No.of Null Values: 0\n"
     ]
    },
    {
     "data": {
      "text/plain": [
       "'VAR_0692'"
      ]
     },
     "execution_count": 74,
     "metadata": {},
     "output_type": "execute_result"
    },
    {
     "name": "stdout",
     "output_type": "stream",
     "text": [
      "No. of unique values: 322\n",
      "No.of Null Values: 0\n"
     ]
    },
    {
     "data": {
      "text/plain": [
       "'VAR_0693'"
      ]
     },
     "execution_count": 74,
     "metadata": {},
     "output_type": "execute_result"
    },
    {
     "name": "stdout",
     "output_type": "stream",
     "text": [
      "No. of unique values: 645\n",
      "No.of Null Values: 0\n"
     ]
    },
    {
     "data": {
      "text/plain": [
       "'VAR_0694'"
      ]
     },
     "execution_count": 74,
     "metadata": {},
     "output_type": "execute_result"
    },
    {
     "name": "stdout",
     "output_type": "stream",
     "text": [
      "No. of unique values: 105\n",
      "No.of Null Values: 0\n"
     ]
    },
    {
     "data": {
      "text/plain": [
       "'VAR_0695'"
      ]
     },
     "execution_count": 74,
     "metadata": {},
     "output_type": "execute_result"
    },
    {
     "name": "stdout",
     "output_type": "stream",
     "text": [
      "No. of unique values: 105\n",
      "No.of Null Values: 0\n"
     ]
    },
    {
     "data": {
      "text/plain": [
       "'VAR_0696'"
      ]
     },
     "execution_count": 74,
     "metadata": {},
     "output_type": "execute_result"
    },
    {
     "name": "stdout",
     "output_type": "stream",
     "text": [
      "No. of unique values: 45\n",
      "No.of Null Values: 0\n"
     ]
    },
    {
     "data": {
      "text/plain": [
       "'VAR_0697'"
      ]
     },
     "execution_count": 74,
     "metadata": {},
     "output_type": "execute_result"
    },
    {
     "name": "stdout",
     "output_type": "stream",
     "text": [
      "No. of unique values: 44\n",
      "No.of Null Values: 0\n"
     ]
    },
    {
     "data": {
      "text/plain": [
       "'VAR_0698'"
      ]
     },
     "execution_count": 74,
     "metadata": {},
     "output_type": "execute_result"
    },
    {
     "name": "stdout",
     "output_type": "stream",
     "text": [
      "No. of unique values: 15142\n",
      "No.of Null Values: 0\n"
     ]
    },
    {
     "data": {
      "text/plain": [
       "'VAR_0699'"
      ]
     },
     "execution_count": 74,
     "metadata": {},
     "output_type": "execute_result"
    },
    {
     "name": "stdout",
     "output_type": "stream",
     "text": [
      "No. of unique values: 9935\n",
      "No.of Null Values: 0\n"
     ]
    },
    {
     "data": {
      "text/plain": [
       "'VAR_0700'"
      ]
     },
     "execution_count": 74,
     "metadata": {},
     "output_type": "execute_result"
    },
    {
     "name": "stdout",
     "output_type": "stream",
     "text": [
      "No. of unique values: 382\n",
      "No.of Null Values: 0\n"
     ]
    },
    {
     "data": {
      "text/plain": [
       "'VAR_0701'"
      ]
     },
     "execution_count": 74,
     "metadata": {},
     "output_type": "execute_result"
    },
    {
     "name": "stdout",
     "output_type": "stream",
     "text": [
      "No. of unique values: 125\n",
      "No.of Null Values: 0\n"
     ]
    },
    {
     "data": {
      "text/plain": [
       "'VAR_0702'"
      ]
     },
     "execution_count": 74,
     "metadata": {},
     "output_type": "execute_result"
    },
    {
     "name": "stdout",
     "output_type": "stream",
     "text": [
      "No. of unique values: 4335\n",
      "No.of Null Values: 0\n"
     ]
    },
    {
     "data": {
      "text/plain": [
       "'VAR_0703'"
      ]
     },
     "execution_count": 74,
     "metadata": {},
     "output_type": "execute_result"
    },
    {
     "name": "stdout",
     "output_type": "stream",
     "text": [
      "No. of unique values: 8\n",
      "No.of Null Values: 0\n"
     ]
    },
    {
     "data": {
      "text/plain": [
       "'VAR_0704'"
      ]
     },
     "execution_count": 74,
     "metadata": {},
     "output_type": "execute_result"
    },
    {
     "name": "stdout",
     "output_type": "stream",
     "text": [
      "No. of unique values: 36937\n",
      "No.of Null Values: 0\n"
     ]
    },
    {
     "data": {
      "text/plain": [
       "'VAR_0705'"
      ]
     },
     "execution_count": 74,
     "metadata": {},
     "output_type": "execute_result"
    },
    {
     "name": "stdout",
     "output_type": "stream",
     "text": [
      "No. of unique values: 9074\n",
      "No.of Null Values: 0\n"
     ]
    },
    {
     "data": {
      "text/plain": [
       "'VAR_0706'"
      ]
     },
     "execution_count": 74,
     "metadata": {},
     "output_type": "execute_result"
    },
    {
     "name": "stdout",
     "output_type": "stream",
     "text": [
      "No. of unique values: 9155\n",
      "No.of Null Values: 0\n"
     ]
    },
    {
     "data": {
      "text/plain": [
       "'VAR_0707'"
      ]
     },
     "execution_count": 74,
     "metadata": {},
     "output_type": "execute_result"
    },
    {
     "name": "stdout",
     "output_type": "stream",
     "text": [
      "No. of unique values: 269\n",
      "No.of Null Values: 0\n"
     ]
    },
    {
     "data": {
      "text/plain": [
       "'VAR_0708'"
      ]
     },
     "execution_count": 74,
     "metadata": {},
     "output_type": "execute_result"
    },
    {
     "name": "stdout",
     "output_type": "stream",
     "text": [
      "No. of unique values: 84\n",
      "No.of Null Values: 0\n"
     ]
    },
    {
     "data": {
      "text/plain": [
       "'VAR_0709'"
      ]
     },
     "execution_count": 74,
     "metadata": {},
     "output_type": "execute_result"
    },
    {
     "name": "stdout",
     "output_type": "stream",
     "text": [
      "No. of unique values: 35\n",
      "No.of Null Values: 0\n"
     ]
    },
    {
     "data": {
      "text/plain": [
       "'VAR_0710'"
      ]
     },
     "execution_count": 74,
     "metadata": {},
     "output_type": "execute_result"
    },
    {
     "name": "stdout",
     "output_type": "stream",
     "text": [
      "No. of unique values: 13\n",
      "No.of Null Values: 0\n"
     ]
    },
    {
     "data": {
      "text/plain": [
       "'VAR_0711'"
      ]
     },
     "execution_count": 74,
     "metadata": {},
     "output_type": "execute_result"
    },
    {
     "name": "stdout",
     "output_type": "stream",
     "text": [
      "No. of unique values: 31\n",
      "No.of Null Values: 0\n"
     ]
    },
    {
     "data": {
      "text/plain": [
       "'VAR_0712'"
      ]
     },
     "execution_count": 74,
     "metadata": {},
     "output_type": "execute_result"
    },
    {
     "name": "stdout",
     "output_type": "stream",
     "text": [
      "No. of unique values: 103\n",
      "No.of Null Values: 0\n"
     ]
    },
    {
     "data": {
      "text/plain": [
       "'VAR_0713'"
      ]
     },
     "execution_count": 74,
     "metadata": {},
     "output_type": "execute_result"
    },
    {
     "name": "stdout",
     "output_type": "stream",
     "text": [
      "No. of unique values: 49\n",
      "No.of Null Values: 0\n"
     ]
    },
    {
     "data": {
      "text/plain": [
       "'VAR_0714'"
      ]
     },
     "execution_count": 74,
     "metadata": {},
     "output_type": "execute_result"
    },
    {
     "name": "stdout",
     "output_type": "stream",
     "text": [
      "No. of unique values: 16\n",
      "No.of Null Values: 0\n"
     ]
    },
    {
     "data": {
      "text/plain": [
       "'VAR_0715'"
      ]
     },
     "execution_count": 74,
     "metadata": {},
     "output_type": "execute_result"
    },
    {
     "name": "stdout",
     "output_type": "stream",
     "text": [
      "No. of unique values: 41\n",
      "No.of Null Values: 0\n"
     ]
    },
    {
     "data": {
      "text/plain": [
       "'VAR_0716'"
      ]
     },
     "execution_count": 74,
     "metadata": {},
     "output_type": "execute_result"
    },
    {
     "name": "stdout",
     "output_type": "stream",
     "text": [
      "No. of unique values: 111\n",
      "No.of Null Values: 0\n"
     ]
    },
    {
     "data": {
      "text/plain": [
       "'VAR_0717'"
      ]
     },
     "execution_count": 74,
     "metadata": {},
     "output_type": "execute_result"
    },
    {
     "name": "stdout",
     "output_type": "stream",
     "text": [
      "No. of unique values: 56\n",
      "No.of Null Values: 0\n"
     ]
    },
    {
     "data": {
      "text/plain": [
       "'VAR_0718'"
      ]
     },
     "execution_count": 74,
     "metadata": {},
     "output_type": "execute_result"
    },
    {
     "name": "stdout",
     "output_type": "stream",
     "text": [
      "No. of unique values: 16\n",
      "No.of Null Values: 0\n"
     ]
    },
    {
     "data": {
      "text/plain": [
       "'VAR_0719'"
      ]
     },
     "execution_count": 74,
     "metadata": {},
     "output_type": "execute_result"
    },
    {
     "name": "stdout",
     "output_type": "stream",
     "text": [
      "No. of unique values: 51\n",
      "No.of Null Values: 0\n"
     ]
    },
    {
     "data": {
      "text/plain": [
       "'VAR_0720'"
      ]
     },
     "execution_count": 74,
     "metadata": {},
     "output_type": "execute_result"
    },
    {
     "name": "stdout",
     "output_type": "stream",
     "text": [
      "No. of unique values: 52\n",
      "No.of Null Values: 0\n"
     ]
    },
    {
     "data": {
      "text/plain": [
       "'VAR_0721'"
      ]
     },
     "execution_count": 74,
     "metadata": {},
     "output_type": "execute_result"
    },
    {
     "name": "stdout",
     "output_type": "stream",
     "text": [
      "No. of unique values: 69\n",
      "No.of Null Values: 0\n"
     ]
    },
    {
     "data": {
      "text/plain": [
       "'VAR_0722'"
      ]
     },
     "execution_count": 74,
     "metadata": {},
     "output_type": "execute_result"
    },
    {
     "name": "stdout",
     "output_type": "stream",
     "text": [
      "No. of unique values: 82\n",
      "No.of Null Values: 0\n"
     ]
    },
    {
     "data": {
      "text/plain": [
       "'VAR_0723'"
      ]
     },
     "execution_count": 74,
     "metadata": {},
     "output_type": "execute_result"
    },
    {
     "name": "stdout",
     "output_type": "stream",
     "text": [
      "No. of unique values: 42\n",
      "No.of Null Values: 0\n"
     ]
    },
    {
     "data": {
      "text/plain": [
       "'VAR_0724'"
      ]
     },
     "execution_count": 74,
     "metadata": {},
     "output_type": "execute_result"
    },
    {
     "name": "stdout",
     "output_type": "stream",
     "text": [
      "No. of unique values: 24\n",
      "No.of Null Values: 0\n"
     ]
    },
    {
     "data": {
      "text/plain": [
       "'VAR_0725'"
      ]
     },
     "execution_count": 74,
     "metadata": {},
     "output_type": "execute_result"
    },
    {
     "name": "stdout",
     "output_type": "stream",
     "text": [
      "No. of unique values: 38\n",
      "No.of Null Values: 0\n"
     ]
    },
    {
     "data": {
      "text/plain": [
       "'VAR_0726'"
      ]
     },
     "execution_count": 74,
     "metadata": {},
     "output_type": "execute_result"
    },
    {
     "name": "stdout",
     "output_type": "stream",
     "text": [
      "No. of unique values: 42\n",
      "No.of Null Values: 0\n"
     ]
    },
    {
     "data": {
      "text/plain": [
       "'VAR_0727'"
      ]
     },
     "execution_count": 74,
     "metadata": {},
     "output_type": "execute_result"
    },
    {
     "name": "stdout",
     "output_type": "stream",
     "text": [
      "No. of unique values: 24\n",
      "No.of Null Values: 0\n"
     ]
    },
    {
     "data": {
      "text/plain": [
       "'VAR_0728'"
      ]
     },
     "execution_count": 74,
     "metadata": {},
     "output_type": "execute_result"
    },
    {
     "name": "stdout",
     "output_type": "stream",
     "text": [
      "No. of unique values: 38\n",
      "No.of Null Values: 0\n"
     ]
    },
    {
     "data": {
      "text/plain": [
       "'VAR_0729'"
      ]
     },
     "execution_count": 74,
     "metadata": {},
     "output_type": "execute_result"
    },
    {
     "name": "stdout",
     "output_type": "stream",
     "text": [
      "No. of unique values: 17\n",
      "No.of Null Values: 0\n"
     ]
    },
    {
     "data": {
      "text/plain": [
       "'VAR_0730'"
      ]
     },
     "execution_count": 74,
     "metadata": {},
     "output_type": "execute_result"
    },
    {
     "name": "stdout",
     "output_type": "stream",
     "text": [
      "No. of unique values: 23\n",
      "No.of Null Values: 0\n"
     ]
    },
    {
     "data": {
      "text/plain": [
       "'VAR_0731'"
      ]
     },
     "execution_count": 74,
     "metadata": {},
     "output_type": "execute_result"
    },
    {
     "name": "stdout",
     "output_type": "stream",
     "text": [
      "No. of unique values: 17\n",
      "No.of Null Values: 0\n"
     ]
    },
    {
     "data": {
      "text/plain": [
       "'VAR_0732'"
      ]
     },
     "execution_count": 74,
     "metadata": {},
     "output_type": "execute_result"
    },
    {
     "name": "stdout",
     "output_type": "stream",
     "text": [
      "No. of unique values: 2\n",
      "No.of Null Values: 0\n"
     ]
    },
    {
     "data": {
      "text/plain": [
       "'VAR_0733'"
      ]
     },
     "execution_count": 74,
     "metadata": {},
     "output_type": "execute_result"
    },
    {
     "name": "stdout",
     "output_type": "stream",
     "text": [
      "No. of unique values: 2\n",
      "No.of Null Values: 0\n"
     ]
    },
    {
     "data": {
      "text/plain": [
       "'VAR_0734'"
      ]
     },
     "execution_count": 74,
     "metadata": {},
     "output_type": "execute_result"
    },
    {
     "name": "stdout",
     "output_type": "stream",
     "text": [
      "No. of unique values: 10\n",
      "No.of Null Values: 0\n"
     ]
    },
    {
     "data": {
      "text/plain": [
       "'VAR_0735'"
      ]
     },
     "execution_count": 74,
     "metadata": {},
     "output_type": "execute_result"
    },
    {
     "name": "stdout",
     "output_type": "stream",
     "text": [
      "No. of unique values: 6\n",
      "No.of Null Values: 0\n"
     ]
    },
    {
     "data": {
      "text/plain": [
       "'VAR_0736'"
      ]
     },
     "execution_count": 74,
     "metadata": {},
     "output_type": "execute_result"
    },
    {
     "name": "stdout",
     "output_type": "stream",
     "text": [
      "No. of unique values: 2\n",
      "No.of Null Values: 0\n"
     ]
    },
    {
     "data": {
      "text/plain": [
       "'VAR_0737'"
      ]
     },
     "execution_count": 74,
     "metadata": {},
     "output_type": "execute_result"
    },
    {
     "name": "stdout",
     "output_type": "stream",
     "text": [
      "No. of unique values: 2\n",
      "No.of Null Values: 0\n"
     ]
    },
    {
     "data": {
      "text/plain": [
       "'VAR_0738'"
      ]
     },
     "execution_count": 74,
     "metadata": {},
     "output_type": "execute_result"
    },
    {
     "name": "stdout",
     "output_type": "stream",
     "text": [
      "No. of unique values: 23\n",
      "No.of Null Values: 0\n"
     ]
    },
    {
     "data": {
      "text/plain": [
       "'VAR_0739'"
      ]
     },
     "execution_count": 74,
     "metadata": {},
     "output_type": "execute_result"
    },
    {
     "name": "stdout",
     "output_type": "stream",
     "text": [
      "No. of unique values: 2\n",
      "No.of Null Values: 0\n"
     ]
    },
    {
     "data": {
      "text/plain": [
       "'VAR_0740'"
      ]
     },
     "execution_count": 74,
     "metadata": {},
     "output_type": "execute_result"
    },
    {
     "name": "stdout",
     "output_type": "stream",
     "text": [
      "No. of unique values: 2\n",
      "No.of Null Values: 0\n"
     ]
    },
    {
     "data": {
      "text/plain": [
       "'VAR_0741'"
      ]
     },
     "execution_count": 74,
     "metadata": {},
     "output_type": "execute_result"
    },
    {
     "name": "stdout",
     "output_type": "stream",
     "text": [
      "No. of unique values: 2\n",
      "No.of Null Values: 0\n"
     ]
    },
    {
     "data": {
      "text/plain": [
       "'VAR_0742'"
      ]
     },
     "execution_count": 74,
     "metadata": {},
     "output_type": "execute_result"
    },
    {
     "name": "stdout",
     "output_type": "stream",
     "text": [
      "No. of unique values: 22\n",
      "No.of Null Values: 0\n"
     ]
    },
    {
     "data": {
      "text/plain": [
       "'VAR_0743'"
      ]
     },
     "execution_count": 74,
     "metadata": {},
     "output_type": "execute_result"
    },
    {
     "name": "stdout",
     "output_type": "stream",
     "text": [
      "No. of unique values: 14\n",
      "No.of Null Values: 0\n"
     ]
    },
    {
     "data": {
      "text/plain": [
       "'VAR_0744'"
      ]
     },
     "execution_count": 74,
     "metadata": {},
     "output_type": "execute_result"
    },
    {
     "name": "stdout",
     "output_type": "stream",
     "text": [
      "No. of unique values: 18\n",
      "No.of Null Values: 0\n"
     ]
    },
    {
     "data": {
      "text/plain": [
       "'VAR_0745'"
      ]
     },
     "execution_count": 74,
     "metadata": {},
     "output_type": "execute_result"
    },
    {
     "name": "stdout",
     "output_type": "stream",
     "text": [
      "No. of unique values: 5\n",
      "No.of Null Values: 0\n"
     ]
    },
    {
     "data": {
      "text/plain": [
       "'VAR_0746'"
      ]
     },
     "execution_count": 74,
     "metadata": {},
     "output_type": "execute_result"
    },
    {
     "name": "stdout",
     "output_type": "stream",
     "text": [
      "No. of unique values: 8\n",
      "No.of Null Values: 0\n"
     ]
    },
    {
     "data": {
      "text/plain": [
       "'VAR_0747'"
      ]
     },
     "execution_count": 74,
     "metadata": {},
     "output_type": "execute_result"
    },
    {
     "name": "stdout",
     "output_type": "stream",
     "text": [
      "No. of unique values: 15\n",
      "No.of Null Values: 0\n"
     ]
    },
    {
     "data": {
      "text/plain": [
       "'VAR_0748'"
      ]
     },
     "execution_count": 74,
     "metadata": {},
     "output_type": "execute_result"
    },
    {
     "name": "stdout",
     "output_type": "stream",
     "text": [
      "No. of unique values: 22\n",
      "No.of Null Values: 0\n"
     ]
    },
    {
     "data": {
      "text/plain": [
       "'VAR_0749'"
      ]
     },
     "execution_count": 74,
     "metadata": {},
     "output_type": "execute_result"
    },
    {
     "name": "stdout",
     "output_type": "stream",
     "text": [
      "No. of unique values: 18\n",
      "No.of Null Values: 0\n"
     ]
    },
    {
     "data": {
      "text/plain": [
       "'VAR_0750'"
      ]
     },
     "execution_count": 74,
     "metadata": {},
     "output_type": "execute_result"
    },
    {
     "name": "stdout",
     "output_type": "stream",
     "text": [
      "No. of unique values: 20\n",
      "No.of Null Values: 0\n"
     ]
    },
    {
     "data": {
      "text/plain": [
       "'VAR_0751'"
      ]
     },
     "execution_count": 74,
     "metadata": {},
     "output_type": "execute_result"
    },
    {
     "name": "stdout",
     "output_type": "stream",
     "text": [
      "No. of unique values: 33\n",
      "No.of Null Values: 0\n"
     ]
    },
    {
     "data": {
      "text/plain": [
       "'VAR_0752'"
      ]
     },
     "execution_count": 74,
     "metadata": {},
     "output_type": "execute_result"
    },
    {
     "name": "stdout",
     "output_type": "stream",
     "text": [
      "No. of unique values: 35\n",
      "No.of Null Values: 0\n"
     ]
    },
    {
     "data": {
      "text/plain": [
       "'VAR_0753'"
      ]
     },
     "execution_count": 74,
     "metadata": {},
     "output_type": "execute_result"
    },
    {
     "name": "stdout",
     "output_type": "stream",
     "text": [
      "No. of unique values: 21\n",
      "No.of Null Values: 0\n"
     ]
    },
    {
     "data": {
      "text/plain": [
       "'VAR_0754'"
      ]
     },
     "execution_count": 74,
     "metadata": {},
     "output_type": "execute_result"
    },
    {
     "name": "stdout",
     "output_type": "stream",
     "text": [
      "No. of unique values: 11\n",
      "No.of Null Values: 0\n"
     ]
    },
    {
     "data": {
      "text/plain": [
       "'VAR_0755'"
      ]
     },
     "execution_count": 74,
     "metadata": {},
     "output_type": "execute_result"
    },
    {
     "name": "stdout",
     "output_type": "stream",
     "text": [
      "No. of unique values: 8\n",
      "No.of Null Values: 0\n"
     ]
    },
    {
     "data": {
      "text/plain": [
       "'VAR_0756'"
      ]
     },
     "execution_count": 74,
     "metadata": {},
     "output_type": "execute_result"
    },
    {
     "name": "stdout",
     "output_type": "stream",
     "text": [
      "No. of unique values: 18\n",
      "No.of Null Values: 0\n"
     ]
    },
    {
     "data": {
      "text/plain": [
       "'VAR_0757'"
      ]
     },
     "execution_count": 74,
     "metadata": {},
     "output_type": "execute_result"
    },
    {
     "name": "stdout",
     "output_type": "stream",
     "text": [
      "No. of unique values: 261\n",
      "No.of Null Values: 0\n"
     ]
    },
    {
     "data": {
      "text/plain": [
       "'VAR_0758'"
      ]
     },
     "execution_count": 74,
     "metadata": {},
     "output_type": "execute_result"
    },
    {
     "name": "stdout",
     "output_type": "stream",
     "text": [
      "No. of unique values: 30\n",
      "No.of Null Values: 0\n"
     ]
    },
    {
     "data": {
      "text/plain": [
       "'VAR_0759'"
      ]
     },
     "execution_count": 74,
     "metadata": {},
     "output_type": "execute_result"
    },
    {
     "name": "stdout",
     "output_type": "stream",
     "text": [
      "No. of unique values: 10\n",
      "No.of Null Values: 0\n"
     ]
    },
    {
     "data": {
      "text/plain": [
       "'VAR_0760'"
      ]
     },
     "execution_count": 74,
     "metadata": {},
     "output_type": "execute_result"
    },
    {
     "name": "stdout",
     "output_type": "stream",
     "text": [
      "No. of unique values: 14\n",
      "No.of Null Values: 0\n"
     ]
    },
    {
     "data": {
      "text/plain": [
       "'VAR_0761'"
      ]
     },
     "execution_count": 74,
     "metadata": {},
     "output_type": "execute_result"
    },
    {
     "name": "stdout",
     "output_type": "stream",
     "text": [
      "No. of unique values: 10\n",
      "No.of Null Values: 0\n"
     ]
    },
    {
     "data": {
      "text/plain": [
       "'VAR_0762'"
      ]
     },
     "execution_count": 74,
     "metadata": {},
     "output_type": "execute_result"
    },
    {
     "name": "stdout",
     "output_type": "stream",
     "text": [
      "No. of unique values: 8\n",
      "No.of Null Values: 0\n"
     ]
    },
    {
     "data": {
      "text/plain": [
       "'VAR_0763'"
      ]
     },
     "execution_count": 74,
     "metadata": {},
     "output_type": "execute_result"
    },
    {
     "name": "stdout",
     "output_type": "stream",
     "text": [
      "No. of unique values: 6\n",
      "No.of Null Values: 0\n"
     ]
    },
    {
     "data": {
      "text/plain": [
       "'VAR_0764'"
      ]
     },
     "execution_count": 74,
     "metadata": {},
     "output_type": "execute_result"
    },
    {
     "name": "stdout",
     "output_type": "stream",
     "text": [
      "No. of unique values: 29\n",
      "No.of Null Values: 0\n"
     ]
    },
    {
     "data": {
      "text/plain": [
       "'VAR_0765'"
      ]
     },
     "execution_count": 74,
     "metadata": {},
     "output_type": "execute_result"
    },
    {
     "name": "stdout",
     "output_type": "stream",
     "text": [
      "No. of unique values: 7\n",
      "No.of Null Values: 0\n"
     ]
    },
    {
     "data": {
      "text/plain": [
       "'VAR_0766'"
      ]
     },
     "execution_count": 74,
     "metadata": {},
     "output_type": "execute_result"
    },
    {
     "name": "stdout",
     "output_type": "stream",
     "text": [
      "No. of unique values: 19\n",
      "No.of Null Values: 0\n"
     ]
    },
    {
     "data": {
      "text/plain": [
       "'VAR_0767'"
      ]
     },
     "execution_count": 74,
     "metadata": {},
     "output_type": "execute_result"
    },
    {
     "name": "stdout",
     "output_type": "stream",
     "text": [
      "No. of unique values: 8\n",
      "No.of Null Values: 0\n"
     ]
    },
    {
     "data": {
      "text/plain": [
       "'VAR_0768'"
      ]
     },
     "execution_count": 74,
     "metadata": {},
     "output_type": "execute_result"
    },
    {
     "name": "stdout",
     "output_type": "stream",
     "text": [
      "No. of unique values: 45\n",
      "No.of Null Values: 0\n"
     ]
    },
    {
     "data": {
      "text/plain": [
       "'VAR_0769'"
      ]
     },
     "execution_count": 74,
     "metadata": {},
     "output_type": "execute_result"
    },
    {
     "name": "stdout",
     "output_type": "stream",
     "text": [
      "No. of unique values: 13\n",
      "No.of Null Values: 0\n"
     ]
    },
    {
     "data": {
      "text/plain": [
       "'VAR_0770'"
      ]
     },
     "execution_count": 74,
     "metadata": {},
     "output_type": "execute_result"
    },
    {
     "name": "stdout",
     "output_type": "stream",
     "text": [
      "No. of unique values: 25\n",
      "No.of Null Values: 0\n"
     ]
    },
    {
     "data": {
      "text/plain": [
       "'VAR_0771'"
      ]
     },
     "execution_count": 74,
     "metadata": {},
     "output_type": "execute_result"
    },
    {
     "name": "stdout",
     "output_type": "stream",
     "text": [
      "No. of unique values: 14\n",
      "No.of Null Values: 0\n"
     ]
    },
    {
     "data": {
      "text/plain": [
       "'VAR_0772'"
      ]
     },
     "execution_count": 74,
     "metadata": {},
     "output_type": "execute_result"
    },
    {
     "name": "stdout",
     "output_type": "stream",
     "text": [
      "No. of unique values: 10\n",
      "No.of Null Values: 0\n"
     ]
    },
    {
     "data": {
      "text/plain": [
       "'VAR_0773'"
      ]
     },
     "execution_count": 74,
     "metadata": {},
     "output_type": "execute_result"
    },
    {
     "name": "stdout",
     "output_type": "stream",
     "text": [
      "No. of unique values: 7\n",
      "No.of Null Values: 0\n"
     ]
    },
    {
     "data": {
      "text/plain": [
       "'VAR_0774'"
      ]
     },
     "execution_count": 74,
     "metadata": {},
     "output_type": "execute_result"
    },
    {
     "name": "stdout",
     "output_type": "stream",
     "text": [
      "No. of unique values: 44\n",
      "No.of Null Values: 0\n"
     ]
    },
    {
     "data": {
      "text/plain": [
       "'VAR_0775'"
      ]
     },
     "execution_count": 74,
     "metadata": {},
     "output_type": "execute_result"
    },
    {
     "name": "stdout",
     "output_type": "stream",
     "text": [
      "No. of unique values: 8\n",
      "No.of Null Values: 0\n"
     ]
    },
    {
     "data": {
      "text/plain": [
       "'VAR_0776'"
      ]
     },
     "execution_count": 74,
     "metadata": {},
     "output_type": "execute_result"
    },
    {
     "name": "stdout",
     "output_type": "stream",
     "text": [
      "No. of unique values: 25\n",
      "No.of Null Values: 0\n"
     ]
    },
    {
     "data": {
      "text/plain": [
       "'VAR_0777'"
      ]
     },
     "execution_count": 74,
     "metadata": {},
     "output_type": "execute_result"
    },
    {
     "name": "stdout",
     "output_type": "stream",
     "text": [
      "No. of unique values: 9\n",
      "No.of Null Values: 0\n"
     ]
    },
    {
     "data": {
      "text/plain": [
       "'VAR_0778'"
      ]
     },
     "execution_count": 74,
     "metadata": {},
     "output_type": "execute_result"
    },
    {
     "name": "stdout",
     "output_type": "stream",
     "text": [
      "No. of unique values: 79\n",
      "No.of Null Values: 0\n"
     ]
    },
    {
     "data": {
      "text/plain": [
       "'VAR_0779'"
      ]
     },
     "execution_count": 74,
     "metadata": {},
     "output_type": "execute_result"
    },
    {
     "name": "stdout",
     "output_type": "stream",
     "text": [
      "No. of unique values: 7\n",
      "No.of Null Values: 0\n"
     ]
    },
    {
     "data": {
      "text/plain": [
       "'VAR_0780'"
      ]
     },
     "execution_count": 74,
     "metadata": {},
     "output_type": "execute_result"
    },
    {
     "name": "stdout",
     "output_type": "stream",
     "text": [
      "No. of unique values: 15\n",
      "No.of Null Values: 0\n"
     ]
    },
    {
     "data": {
      "text/plain": [
       "'VAR_0781'"
      ]
     },
     "execution_count": 74,
     "metadata": {},
     "output_type": "execute_result"
    },
    {
     "name": "stdout",
     "output_type": "stream",
     "text": [
      "No. of unique values: 38\n",
      "No.of Null Values: 0\n"
     ]
    },
    {
     "data": {
      "text/plain": [
       "'VAR_0782'"
      ]
     },
     "execution_count": 74,
     "metadata": {},
     "output_type": "execute_result"
    },
    {
     "name": "stdout",
     "output_type": "stream",
     "text": [
      "No. of unique values: 19\n",
      "No.of Null Values: 0\n"
     ]
    },
    {
     "data": {
      "text/plain": [
       "'VAR_0783'"
      ]
     },
     "execution_count": 74,
     "metadata": {},
     "output_type": "execute_result"
    },
    {
     "name": "stdout",
     "output_type": "stream",
     "text": [
      "No. of unique values: 13\n",
      "No.of Null Values: 0\n"
     ]
    },
    {
     "data": {
      "text/plain": [
       "'VAR_0784'"
      ]
     },
     "execution_count": 74,
     "metadata": {},
     "output_type": "execute_result"
    },
    {
     "name": "stdout",
     "output_type": "stream",
     "text": [
      "No. of unique values: 8\n",
      "No.of Null Values: 0\n"
     ]
    },
    {
     "data": {
      "text/plain": [
       "'VAR_0785'"
      ]
     },
     "execution_count": 74,
     "metadata": {},
     "output_type": "execute_result"
    },
    {
     "name": "stdout",
     "output_type": "stream",
     "text": [
      "No. of unique values: 75\n",
      "No.of Null Values: 0\n"
     ]
    },
    {
     "data": {
      "text/plain": [
       "'VAR_0786'"
      ]
     },
     "execution_count": 74,
     "metadata": {},
     "output_type": "execute_result"
    },
    {
     "name": "stdout",
     "output_type": "stream",
     "text": [
      "No. of unique values: 10\n",
      "No.of Null Values: 0\n"
     ]
    },
    {
     "data": {
      "text/plain": [
       "'VAR_0787'"
      ]
     },
     "execution_count": 74,
     "metadata": {},
     "output_type": "execute_result"
    },
    {
     "name": "stdout",
     "output_type": "stream",
     "text": [
      "No. of unique values: 30\n",
      "No.of Null Values: 0\n"
     ]
    },
    {
     "data": {
      "text/plain": [
       "'VAR_0788'"
      ]
     },
     "execution_count": 74,
     "metadata": {},
     "output_type": "execute_result"
    },
    {
     "name": "stdout",
     "output_type": "stream",
     "text": [
      "No. of unique values: 14\n",
      "No.of Null Values: 0\n"
     ]
    },
    {
     "data": {
      "text/plain": [
       "'VAR_0789'"
      ]
     },
     "execution_count": 74,
     "metadata": {},
     "output_type": "execute_result"
    },
    {
     "name": "stdout",
     "output_type": "stream",
     "text": [
      "No. of unique values: 7\n",
      "No.of Null Values: 0\n"
     ]
    },
    {
     "data": {
      "text/plain": [
       "'VAR_0790'"
      ]
     },
     "execution_count": 74,
     "metadata": {},
     "output_type": "execute_result"
    },
    {
     "name": "stdout",
     "output_type": "stream",
     "text": [
      "No. of unique values: 43\n",
      "No.of Null Values: 0\n"
     ]
    },
    {
     "data": {
      "text/plain": [
       "'VAR_0791'"
      ]
     },
     "execution_count": 74,
     "metadata": {},
     "output_type": "execute_result"
    },
    {
     "name": "stdout",
     "output_type": "stream",
     "text": [
      "No. of unique values: 38\n",
      "No.of Null Values: 0\n"
     ]
    },
    {
     "data": {
      "text/plain": [
       "'VAR_0792'"
      ]
     },
     "execution_count": 74,
     "metadata": {},
     "output_type": "execute_result"
    },
    {
     "name": "stdout",
     "output_type": "stream",
     "text": [
      "No. of unique values: 76\n",
      "No.of Null Values: 0\n"
     ]
    },
    {
     "data": {
      "text/plain": [
       "'VAR_0793'"
      ]
     },
     "execution_count": 74,
     "metadata": {},
     "output_type": "execute_result"
    },
    {
     "name": "stdout",
     "output_type": "stream",
     "text": [
      "No. of unique values: 77\n",
      "No.of Null Values: 0\n"
     ]
    },
    {
     "data": {
      "text/plain": [
       "'VAR_0794'"
      ]
     },
     "execution_count": 74,
     "metadata": {},
     "output_type": "execute_result"
    },
    {
     "name": "stdout",
     "output_type": "stream",
     "text": [
      "No. of unique values: 76\n",
      "No.of Null Values: 0\n"
     ]
    },
    {
     "data": {
      "text/plain": [
       "'VAR_0795'"
      ]
     },
     "execution_count": 74,
     "metadata": {},
     "output_type": "execute_result"
    },
    {
     "name": "stdout",
     "output_type": "stream",
     "text": [
      "No. of unique values: 27\n",
      "No.of Null Values: 0\n"
     ]
    },
    {
     "data": {
      "text/plain": [
       "'VAR_0796'"
      ]
     },
     "execution_count": 74,
     "metadata": {},
     "output_type": "execute_result"
    },
    {
     "name": "stdout",
     "output_type": "stream",
     "text": [
      "No. of unique values: 38\n",
      "No.of Null Values: 0\n"
     ]
    },
    {
     "data": {
      "text/plain": [
       "'VAR_0797'"
      ]
     },
     "execution_count": 74,
     "metadata": {},
     "output_type": "execute_result"
    },
    {
     "name": "stdout",
     "output_type": "stream",
     "text": [
      "No. of unique values: 23\n",
      "No.of Null Values: 0\n"
     ]
    },
    {
     "data": {
      "text/plain": [
       "'VAR_0798'"
      ]
     },
     "execution_count": 74,
     "metadata": {},
     "output_type": "execute_result"
    },
    {
     "name": "stdout",
     "output_type": "stream",
     "text": [
      "No. of unique values: 11\n",
      "No.of Null Values: 0\n"
     ]
    },
    {
     "data": {
      "text/plain": [
       "'VAR_0799'"
      ]
     },
     "execution_count": 74,
     "metadata": {},
     "output_type": "execute_result"
    },
    {
     "name": "stdout",
     "output_type": "stream",
     "text": [
      "No. of unique values: 5\n",
      "No.of Null Values: 0\n"
     ]
    },
    {
     "data": {
      "text/plain": [
       "'VAR_0800'"
      ]
     },
     "execution_count": 74,
     "metadata": {},
     "output_type": "execute_result"
    },
    {
     "name": "stdout",
     "output_type": "stream",
     "text": [
      "No. of unique values: 29\n",
      "No.of Null Values: 0\n"
     ]
    },
    {
     "data": {
      "text/plain": [
       "'VAR_0801'"
      ]
     },
     "execution_count": 74,
     "metadata": {},
     "output_type": "execute_result"
    },
    {
     "name": "stdout",
     "output_type": "stream",
     "text": [
      "No. of unique values: 36\n",
      "No.of Null Values: 0\n"
     ]
    },
    {
     "data": {
      "text/plain": [
       "'VAR_0802'"
      ]
     },
     "execution_count": 74,
     "metadata": {},
     "output_type": "execute_result"
    },
    {
     "name": "stdout",
     "output_type": "stream",
     "text": [
      "No. of unique values: 21\n",
      "No.of Null Values: 0\n"
     ]
    },
    {
     "data": {
      "text/plain": [
       "'VAR_0803'"
      ]
     },
     "execution_count": 74,
     "metadata": {},
     "output_type": "execute_result"
    },
    {
     "name": "stdout",
     "output_type": "stream",
     "text": [
      "No. of unique values: 9\n",
      "No.of Null Values: 0\n"
     ]
    },
    {
     "data": {
      "text/plain": [
       "'VAR_0804'"
      ]
     },
     "execution_count": 74,
     "metadata": {},
     "output_type": "execute_result"
    },
    {
     "name": "stdout",
     "output_type": "stream",
     "text": [
      "No. of unique values: 5\n",
      "No.of Null Values: 0\n"
     ]
    },
    {
     "data": {
      "text/plain": [
       "'VAR_0805'"
      ]
     },
     "execution_count": 74,
     "metadata": {},
     "output_type": "execute_result"
    },
    {
     "name": "stdout",
     "output_type": "stream",
     "text": [
      "No. of unique values: 26\n",
      "No.of Null Values: 0\n"
     ]
    },
    {
     "data": {
      "text/plain": [
       "'VAR_0806'"
      ]
     },
     "execution_count": 74,
     "metadata": {},
     "output_type": "execute_result"
    },
    {
     "name": "stdout",
     "output_type": "stream",
     "text": [
      "No. of unique values: 34\n",
      "No.of Null Values: 0\n"
     ]
    },
    {
     "data": {
      "text/plain": [
       "'VAR_0807'"
      ]
     },
     "execution_count": 74,
     "metadata": {},
     "output_type": "execute_result"
    },
    {
     "name": "stdout",
     "output_type": "stream",
     "text": [
      "No. of unique values: 18\n",
      "No.of Null Values: 0\n"
     ]
    },
    {
     "data": {
      "text/plain": [
       "'VAR_0808'"
      ]
     },
     "execution_count": 74,
     "metadata": {},
     "output_type": "execute_result"
    },
    {
     "name": "stdout",
     "output_type": "stream",
     "text": [
      "No. of unique values: 8\n",
      "No.of Null Values: 0\n"
     ]
    },
    {
     "data": {
      "text/plain": [
       "'VAR_0809'"
      ]
     },
     "execution_count": 74,
     "metadata": {},
     "output_type": "execute_result"
    },
    {
     "name": "stdout",
     "output_type": "stream",
     "text": [
      "No. of unique values: 4\n",
      "No.of Null Values: 0\n"
     ]
    },
    {
     "data": {
      "text/plain": [
       "'VAR_0810'"
      ]
     },
     "execution_count": 74,
     "metadata": {},
     "output_type": "execute_result"
    },
    {
     "name": "stdout",
     "output_type": "stream",
     "text": [
      "No. of unique values: 23\n",
      "No.of Null Values: 0\n"
     ]
    },
    {
     "data": {
      "text/plain": [
       "'VAR_0811'"
      ]
     },
     "execution_count": 74,
     "metadata": {},
     "output_type": "execute_result"
    },
    {
     "name": "stdout",
     "output_type": "stream",
     "text": [
      "No. of unique values: 123\n",
      "No.of Null Values: 0\n"
     ]
    },
    {
     "data": {
      "text/plain": [
       "'VAR_0812'"
      ]
     },
     "execution_count": 74,
     "metadata": {},
     "output_type": "execute_result"
    },
    {
     "name": "stdout",
     "output_type": "stream",
     "text": [
      "No. of unique values: 66\n",
      "No.of Null Values: 0\n"
     ]
    },
    {
     "data": {
      "text/plain": [
       "'VAR_0813'"
      ]
     },
     "execution_count": 74,
     "metadata": {},
     "output_type": "execute_result"
    },
    {
     "name": "stdout",
     "output_type": "stream",
     "text": [
      "No. of unique values: 50\n",
      "No.of Null Values: 0\n"
     ]
    },
    {
     "data": {
      "text/plain": [
       "'VAR_0814'"
      ]
     },
     "execution_count": 74,
     "metadata": {},
     "output_type": "execute_result"
    },
    {
     "name": "stdout",
     "output_type": "stream",
     "text": [
      "No. of unique values: 56\n",
      "No.of Null Values: 0\n"
     ]
    },
    {
     "data": {
      "text/plain": [
       "'VAR_0815'"
      ]
     },
     "execution_count": 74,
     "metadata": {},
     "output_type": "execute_result"
    },
    {
     "name": "stdout",
     "output_type": "stream",
     "text": [
      "No. of unique values: 31\n",
      "No.of Null Values: 0\n"
     ]
    },
    {
     "data": {
      "text/plain": [
       "'VAR_0816'"
      ]
     },
     "execution_count": 74,
     "metadata": {},
     "output_type": "execute_result"
    },
    {
     "name": "stdout",
     "output_type": "stream",
     "text": [
      "No. of unique values: 25\n",
      "No.of Null Values: 0\n"
     ]
    },
    {
     "data": {
      "text/plain": [
       "'VAR_0817'"
      ]
     },
     "execution_count": 74,
     "metadata": {},
     "output_type": "execute_result"
    },
    {
     "name": "stdout",
     "output_type": "stream",
     "text": [
      "No. of unique values: 17\n",
      "No.of Null Values: 0\n"
     ]
    },
    {
     "data": {
      "text/plain": [
       "'VAR_0818'"
      ]
     },
     "execution_count": 74,
     "metadata": {},
     "output_type": "execute_result"
    },
    {
     "name": "stdout",
     "output_type": "stream",
     "text": [
      "No. of unique values: 26\n",
      "No.of Null Values: 0\n"
     ]
    },
    {
     "data": {
      "text/plain": [
       "'VAR_0819'"
      ]
     },
     "execution_count": 74,
     "metadata": {},
     "output_type": "execute_result"
    },
    {
     "name": "stdout",
     "output_type": "stream",
     "text": [
      "No. of unique values: 19\n",
      "No.of Null Values: 0\n"
     ]
    },
    {
     "data": {
      "text/plain": [
       "'VAR_0820'"
      ]
     },
     "execution_count": 74,
     "metadata": {},
     "output_type": "execute_result"
    },
    {
     "name": "stdout",
     "output_type": "stream",
     "text": [
      "No. of unique values: 31\n",
      "No.of Null Values: 0\n"
     ]
    },
    {
     "data": {
      "text/plain": [
       "'VAR_0821'"
      ]
     },
     "execution_count": 74,
     "metadata": {},
     "output_type": "execute_result"
    },
    {
     "name": "stdout",
     "output_type": "stream",
     "text": [
      "No. of unique values: 40\n",
      "No.of Null Values: 0\n"
     ]
    },
    {
     "data": {
      "text/plain": [
       "'VAR_0822'"
      ]
     },
     "execution_count": 74,
     "metadata": {},
     "output_type": "execute_result"
    },
    {
     "name": "stdout",
     "output_type": "stream",
     "text": [
      "No. of unique values: 72\n",
      "No.of Null Values: 0\n"
     ]
    },
    {
     "data": {
      "text/plain": [
       "'VAR_0823'"
      ]
     },
     "execution_count": 74,
     "metadata": {},
     "output_type": "execute_result"
    },
    {
     "name": "stdout",
     "output_type": "stream",
     "text": [
      "No. of unique values: 130\n",
      "No.of Null Values: 0\n"
     ]
    },
    {
     "data": {
      "text/plain": [
       "'VAR_0824'"
      ]
     },
     "execution_count": 74,
     "metadata": {},
     "output_type": "execute_result"
    },
    {
     "name": "stdout",
     "output_type": "stream",
     "text": [
      "No. of unique values: 50\n",
      "No.of Null Values: 0\n"
     ]
    },
    {
     "data": {
      "text/plain": [
       "'VAR_0825'"
      ]
     },
     "execution_count": 74,
     "metadata": {},
     "output_type": "execute_result"
    },
    {
     "name": "stdout",
     "output_type": "stream",
     "text": [
      "No. of unique values: 59\n",
      "No.of Null Values: 0\n"
     ]
    },
    {
     "data": {
      "text/plain": [
       "'VAR_0826'"
      ]
     },
     "execution_count": 74,
     "metadata": {},
     "output_type": "execute_result"
    },
    {
     "name": "stdout",
     "output_type": "stream",
     "text": [
      "No. of unique values: 34\n",
      "No.of Null Values: 0\n"
     ]
    },
    {
     "data": {
      "text/plain": [
       "'VAR_0827'"
      ]
     },
     "execution_count": 74,
     "metadata": {},
     "output_type": "execute_result"
    },
    {
     "name": "stdout",
     "output_type": "stream",
     "text": [
      "No. of unique values: 23\n",
      "No.of Null Values: 0\n"
     ]
    },
    {
     "data": {
      "text/plain": [
       "'VAR_0828'"
      ]
     },
     "execution_count": 74,
     "metadata": {},
     "output_type": "execute_result"
    },
    {
     "name": "stdout",
     "output_type": "stream",
     "text": [
      "No. of unique values: 14\n",
      "No.of Null Values: 0\n"
     ]
    },
    {
     "data": {
      "text/plain": [
       "'VAR_0829'"
      ]
     },
     "execution_count": 74,
     "metadata": {},
     "output_type": "execute_result"
    },
    {
     "name": "stdout",
     "output_type": "stream",
     "text": [
      "No. of unique values: 120\n",
      "No.of Null Values: 0\n"
     ]
    },
    {
     "data": {
      "text/plain": [
       "'VAR_0830'"
      ]
     },
     "execution_count": 74,
     "metadata": {},
     "output_type": "execute_result"
    },
    {
     "name": "stdout",
     "output_type": "stream",
     "text": [
      "No. of unique values: 32\n",
      "No.of Null Values: 0\n"
     ]
    },
    {
     "data": {
      "text/plain": [
       "'VAR_0831'"
      ]
     },
     "execution_count": 74,
     "metadata": {},
     "output_type": "execute_result"
    },
    {
     "name": "stdout",
     "output_type": "stream",
     "text": [
      "No. of unique values: 69\n",
      "No.of Null Values: 0\n"
     ]
    },
    {
     "data": {
      "text/plain": [
       "'VAR_0832'"
      ]
     },
     "execution_count": 74,
     "metadata": {},
     "output_type": "execute_result"
    },
    {
     "name": "stdout",
     "output_type": "stream",
     "text": [
      "No. of unique values: 29\n",
      "No.of Null Values: 0\n"
     ]
    },
    {
     "data": {
      "text/plain": [
       "'VAR_0833'"
      ]
     },
     "execution_count": 74,
     "metadata": {},
     "output_type": "execute_result"
    },
    {
     "name": "stdout",
     "output_type": "stream",
     "text": [
      "No. of unique values: 12\n",
      "No.of Null Values: 0\n"
     ]
    },
    {
     "data": {
      "text/plain": [
       "'VAR_0834'"
      ]
     },
     "execution_count": 74,
     "metadata": {},
     "output_type": "execute_result"
    },
    {
     "name": "stdout",
     "output_type": "stream",
     "text": [
      "No. of unique values: 61\n",
      "No.of Null Values: 0\n"
     ]
    },
    {
     "data": {
      "text/plain": [
       "'VAR_0835'"
      ]
     },
     "execution_count": 74,
     "metadata": {},
     "output_type": "execute_result"
    },
    {
     "name": "stdout",
     "output_type": "stream",
     "text": [
      "No. of unique values: 119\n",
      "No.of Null Values: 0\n"
     ]
    },
    {
     "data": {
      "text/plain": [
       "'VAR_0836'"
      ]
     },
     "execution_count": 74,
     "metadata": {},
     "output_type": "execute_result"
    },
    {
     "name": "stdout",
     "output_type": "stream",
     "text": [
      "No. of unique values: 114\n",
      "No.of Null Values: 0\n"
     ]
    },
    {
     "data": {
      "text/plain": [
       "'VAR_0837'"
      ]
     },
     "execution_count": 74,
     "metadata": {},
     "output_type": "execute_result"
    },
    {
     "name": "stdout",
     "output_type": "stream",
     "text": [
      "No. of unique values: 14\n",
      "No.of Null Values: 0\n"
     ]
    },
    {
     "data": {
      "text/plain": [
       "'VAR_0838'"
      ]
     },
     "execution_count": 74,
     "metadata": {},
     "output_type": "execute_result"
    },
    {
     "name": "stdout",
     "output_type": "stream",
     "text": [
      "No. of unique values: 18\n",
      "No.of Null Values: 0\n"
     ]
    },
    {
     "data": {
      "text/plain": [
       "'VAR_0839'"
      ]
     },
     "execution_count": 74,
     "metadata": {},
     "output_type": "execute_result"
    },
    {
     "name": "stdout",
     "output_type": "stream",
     "text": [
      "No. of unique values: 30\n",
      "No.of Null Values: 0\n"
     ]
    },
    {
     "data": {
      "text/plain": [
       "'VAR_0840'"
      ]
     },
     "execution_count": 74,
     "metadata": {},
     "output_type": "execute_result"
    },
    {
     "name": "stdout",
     "output_type": "stream",
     "text": [
      "No. of unique values: 0\n",
      "No.of Null Values: 145231\n"
     ]
    },
    {
     "data": {
      "text/plain": [
       "'VAR_0841'"
      ]
     },
     "execution_count": 74,
     "metadata": {},
     "output_type": "execute_result"
    },
    {
     "name": "stdout",
     "output_type": "stream",
     "text": [
      "No. of unique values: 18\n",
      "No.of Null Values: 0\n"
     ]
    },
    {
     "data": {
      "text/plain": [
       "'VAR_0842'"
      ]
     },
     "execution_count": 74,
     "metadata": {},
     "output_type": "execute_result"
    },
    {
     "name": "stdout",
     "output_type": "stream",
     "text": [
      "No. of unique values: 20\n",
      "No.of Null Values: 0\n"
     ]
    },
    {
     "data": {
      "text/plain": [
       "'VAR_0843'"
      ]
     },
     "execution_count": 74,
     "metadata": {},
     "output_type": "execute_result"
    },
    {
     "name": "stdout",
     "output_type": "stream",
     "text": [
      "No. of unique values: 33\n",
      "No.of Null Values: 0\n"
     ]
    },
    {
     "data": {
      "text/plain": [
       "'VAR_0844'"
      ]
     },
     "execution_count": 74,
     "metadata": {},
     "output_type": "execute_result"
    },
    {
     "name": "stdout",
     "output_type": "stream",
     "text": [
      "No. of unique values: 35\n",
      "No.of Null Values: 0\n"
     ]
    },
    {
     "data": {
      "text/plain": [
       "'VAR_0845'"
      ]
     },
     "execution_count": 74,
     "metadata": {},
     "output_type": "execute_result"
    },
    {
     "name": "stdout",
     "output_type": "stream",
     "text": [
      "No. of unique values: 40\n",
      "No.of Null Values: 0\n"
     ]
    },
    {
     "data": {
      "text/plain": [
       "'VAR_0846'"
      ]
     },
     "execution_count": 74,
     "metadata": {},
     "output_type": "execute_result"
    },
    {
     "name": "stdout",
     "output_type": "stream",
     "text": [
      "No. of unique values: 30\n",
      "No.of Null Values: 0\n"
     ]
    },
    {
     "data": {
      "text/plain": [
       "'VAR_0847'"
      ]
     },
     "execution_count": 74,
     "metadata": {},
     "output_type": "execute_result"
    },
    {
     "name": "stdout",
     "output_type": "stream",
     "text": [
      "No. of unique values: 1\n",
      "No.of Null Values: 0\n"
     ]
    },
    {
     "data": {
      "text/plain": [
       "'VAR_0848'"
      ]
     },
     "execution_count": 74,
     "metadata": {},
     "output_type": "execute_result"
    },
    {
     "name": "stdout",
     "output_type": "stream",
     "text": [
      "No. of unique values: 27\n",
      "No.of Null Values: 0\n"
     ]
    },
    {
     "data": {
      "text/plain": [
       "'VAR_0849'"
      ]
     },
     "execution_count": 74,
     "metadata": {},
     "output_type": "execute_result"
    },
    {
     "name": "stdout",
     "output_type": "stream",
     "text": [
      "No. of unique values: 27\n",
      "No.of Null Values: 0\n"
     ]
    },
    {
     "data": {
      "text/plain": [
       "'VAR_0850'"
      ]
     },
     "execution_count": 74,
     "metadata": {},
     "output_type": "execute_result"
    },
    {
     "name": "stdout",
     "output_type": "stream",
     "text": [
      "No. of unique values: 27\n",
      "No.of Null Values: 0\n"
     ]
    },
    {
     "data": {
      "text/plain": [
       "'VAR_0851'"
      ]
     },
     "execution_count": 74,
     "metadata": {},
     "output_type": "execute_result"
    },
    {
     "name": "stdout",
     "output_type": "stream",
     "text": [
      "No. of unique values: 27\n",
      "No.of Null Values: 0\n"
     ]
    },
    {
     "data": {
      "text/plain": [
       "'VAR_0852'"
      ]
     },
     "execution_count": 74,
     "metadata": {},
     "output_type": "execute_result"
    },
    {
     "name": "stdout",
     "output_type": "stream",
     "text": [
      "No. of unique values: 27\n",
      "No.of Null Values: 0\n"
     ]
    },
    {
     "data": {
      "text/plain": [
       "'VAR_0853'"
      ]
     },
     "execution_count": 74,
     "metadata": {},
     "output_type": "execute_result"
    },
    {
     "name": "stdout",
     "output_type": "stream",
     "text": [
      "No. of unique values: 166\n",
      "No.of Null Values: 0\n"
     ]
    },
    {
     "data": {
      "text/plain": [
       "'VAR_0854'"
      ]
     },
     "execution_count": 74,
     "metadata": {},
     "output_type": "execute_result"
    },
    {
     "name": "stdout",
     "output_type": "stream",
     "text": [
      "No. of unique values: 93\n",
      "No.of Null Values: 0\n"
     ]
    },
    {
     "data": {
      "text/plain": [
       "'VAR_0855'"
      ]
     },
     "execution_count": 74,
     "metadata": {},
     "output_type": "execute_result"
    },
    {
     "name": "stdout",
     "output_type": "stream",
     "text": [
      "No. of unique values: 85\n",
      "No.of Null Values: 0\n"
     ]
    },
    {
     "data": {
      "text/plain": [
       "'VAR_0856'"
      ]
     },
     "execution_count": 74,
     "metadata": {},
     "output_type": "execute_result"
    },
    {
     "name": "stdout",
     "output_type": "stream",
     "text": [
      "No. of unique values: 85\n",
      "No.of Null Values: 0\n"
     ]
    },
    {
     "data": {
      "text/plain": [
       "'VAR_0857'"
      ]
     },
     "execution_count": 74,
     "metadata": {},
     "output_type": "execute_result"
    },
    {
     "name": "stdout",
     "output_type": "stream",
     "text": [
      "No. of unique values: 85\n",
      "No.of Null Values: 0\n"
     ]
    },
    {
     "data": {
      "text/plain": [
       "'VAR_0858'"
      ]
     },
     "execution_count": 74,
     "metadata": {},
     "output_type": "execute_result"
    },
    {
     "name": "stdout",
     "output_type": "stream",
     "text": [
      "No. of unique values: 114\n",
      "No.of Null Values: 0\n"
     ]
    },
    {
     "data": {
      "text/plain": [
       "'VAR_0859'"
      ]
     },
     "execution_count": 74,
     "metadata": {},
     "output_type": "execute_result"
    },
    {
     "name": "stdout",
     "output_type": "stream",
     "text": [
      "No. of unique values: 220\n",
      "No.of Null Values: 0\n"
     ]
    },
    {
     "data": {
      "text/plain": [
       "'VAR_0860'"
      ]
     },
     "execution_count": 74,
     "metadata": {},
     "output_type": "execute_result"
    },
    {
     "name": "stdout",
     "output_type": "stream",
     "text": [
      "No. of unique values: 635\n",
      "No.of Null Values: 0\n"
     ]
    },
    {
     "data": {
      "text/plain": [
       "'VAR_0861'"
      ]
     },
     "execution_count": 74,
     "metadata": {},
     "output_type": "execute_result"
    },
    {
     "name": "stdout",
     "output_type": "stream",
     "text": [
      "No. of unique values: 583\n",
      "No.of Null Values: 0\n"
     ]
    },
    {
     "data": {
      "text/plain": [
       "'VAR_0862'"
      ]
     },
     "execution_count": 74,
     "metadata": {},
     "output_type": "execute_result"
    },
    {
     "name": "stdout",
     "output_type": "stream",
     "text": [
      "No. of unique values: 382\n",
      "No.of Null Values: 0\n"
     ]
    },
    {
     "data": {
      "text/plain": [
       "'VAR_0863'"
      ]
     },
     "execution_count": 74,
     "metadata": {},
     "output_type": "execute_result"
    },
    {
     "name": "stdout",
     "output_type": "stream",
     "text": [
      "No. of unique values: 369\n",
      "No.of Null Values: 0\n"
     ]
    },
    {
     "data": {
      "text/plain": [
       "'VAR_0864'"
      ]
     },
     "execution_count": 74,
     "metadata": {},
     "output_type": "execute_result"
    },
    {
     "name": "stdout",
     "output_type": "stream",
     "text": [
      "No. of unique values: 612\n",
      "No.of Null Values: 0\n"
     ]
    },
    {
     "data": {
      "text/plain": [
       "'VAR_0865'"
      ]
     },
     "execution_count": 74,
     "metadata": {},
     "output_type": "execute_result"
    },
    {
     "name": "stdout",
     "output_type": "stream",
     "text": [
      "No. of unique values: 292\n",
      "No.of Null Values: 0\n"
     ]
    },
    {
     "data": {
      "text/plain": [
       "'VAR_0866'"
      ]
     },
     "execution_count": 74,
     "metadata": {},
     "output_type": "execute_result"
    },
    {
     "name": "stdout",
     "output_type": "stream",
     "text": [
      "No. of unique values: 291\n",
      "No.of Null Values: 0\n"
     ]
    },
    {
     "data": {
      "text/plain": [
       "'VAR_0867'"
      ]
     },
     "execution_count": 74,
     "metadata": {},
     "output_type": "execute_result"
    },
    {
     "name": "stdout",
     "output_type": "stream",
     "text": [
      "No. of unique values: 454\n",
      "No.of Null Values: 0\n"
     ]
    },
    {
     "data": {
      "text/plain": [
       "'VAR_0868'"
      ]
     },
     "execution_count": 74,
     "metadata": {},
     "output_type": "execute_result"
    },
    {
     "name": "stdout",
     "output_type": "stream",
     "text": [
      "No. of unique values: 634\n",
      "No.of Null Values: 0\n"
     ]
    },
    {
     "data": {
      "text/plain": [
       "'VAR_0869'"
      ]
     },
     "execution_count": 74,
     "metadata": {},
     "output_type": "execute_result"
    },
    {
     "name": "stdout",
     "output_type": "stream",
     "text": [
      "No. of unique values: 256\n",
      "No.of Null Values: 0\n"
     ]
    },
    {
     "data": {
      "text/plain": [
       "'VAR_0870'"
      ]
     },
     "execution_count": 74,
     "metadata": {},
     "output_type": "execute_result"
    },
    {
     "name": "stdout",
     "output_type": "stream",
     "text": [
      "No. of unique values: 168\n",
      "No.of Null Values: 0\n"
     ]
    },
    {
     "data": {
      "text/plain": [
       "'VAR_0871'"
      ]
     },
     "execution_count": 74,
     "metadata": {},
     "output_type": "execute_result"
    },
    {
     "name": "stdout",
     "output_type": "stream",
     "text": [
      "No. of unique values: 324\n",
      "No.of Null Values: 0\n"
     ]
    },
    {
     "data": {
      "text/plain": [
       "'VAR_0872'"
      ]
     },
     "execution_count": 74,
     "metadata": {},
     "output_type": "execute_result"
    },
    {
     "name": "stdout",
     "output_type": "stream",
     "text": [
      "No. of unique values: 528\n",
      "No.of Null Values: 0\n"
     ]
    },
    {
     "data": {
      "text/plain": [
       "'VAR_0873'"
      ]
     },
     "execution_count": 74,
     "metadata": {},
     "output_type": "execute_result"
    },
    {
     "name": "stdout",
     "output_type": "stream",
     "text": [
      "No. of unique values: 271\n",
      "No.of Null Values: 0\n"
     ]
    },
    {
     "data": {
      "text/plain": [
       "'VAR_0874'"
      ]
     },
     "execution_count": 74,
     "metadata": {},
     "output_type": "execute_result"
    },
    {
     "name": "stdout",
     "output_type": "stream",
     "text": [
      "No. of unique values: 232\n",
      "No.of Null Values: 0\n"
     ]
    },
    {
     "data": {
      "text/plain": [
       "'VAR_0875'"
      ]
     },
     "execution_count": 74,
     "metadata": {},
     "output_type": "execute_result"
    },
    {
     "name": "stdout",
     "output_type": "stream",
     "text": [
      "No. of unique values: 296\n",
      "No.of Null Values: 0\n"
     ]
    },
    {
     "data": {
      "text/plain": [
       "'VAR_0876'"
      ]
     },
     "execution_count": 74,
     "metadata": {},
     "output_type": "execute_result"
    },
    {
     "name": "stdout",
     "output_type": "stream",
     "text": [
      "No. of unique values: 203\n",
      "No.of Null Values: 0\n"
     ]
    },
    {
     "data": {
      "text/plain": [
       "'VAR_0877'"
      ]
     },
     "execution_count": 74,
     "metadata": {},
     "output_type": "execute_result"
    },
    {
     "name": "stdout",
     "output_type": "stream",
     "text": [
      "No. of unique values: 97\n",
      "No.of Null Values: 0\n"
     ]
    },
    {
     "data": {
      "text/plain": [
       "'VAR_0878'"
      ]
     },
     "execution_count": 74,
     "metadata": {},
     "output_type": "execute_result"
    },
    {
     "name": "stdout",
     "output_type": "stream",
     "text": [
      "No. of unique values: 94\n",
      "No.of Null Values: 0\n"
     ]
    },
    {
     "data": {
      "text/plain": [
       "'VAR_0879'"
      ]
     },
     "execution_count": 74,
     "metadata": {},
     "output_type": "execute_result"
    },
    {
     "name": "stdout",
     "output_type": "stream",
     "text": [
      "No. of unique values: 98\n",
      "No.of Null Values: 0\n"
     ]
    },
    {
     "data": {
      "text/plain": [
       "'VAR_0880'"
      ]
     },
     "execution_count": 74,
     "metadata": {},
     "output_type": "execute_result"
    },
    {
     "name": "stdout",
     "output_type": "stream",
     "text": [
      "No. of unique values: 220\n",
      "No.of Null Values: 0\n"
     ]
    },
    {
     "data": {
      "text/plain": [
       "'VAR_0881'"
      ]
     },
     "execution_count": 74,
     "metadata": {},
     "output_type": "execute_result"
    },
    {
     "name": "stdout",
     "output_type": "stream",
     "text": [
      "No. of unique values: 253\n",
      "No.of Null Values: 0\n"
     ]
    },
    {
     "data": {
      "text/plain": [
       "'VAR_0882'"
      ]
     },
     "execution_count": 74,
     "metadata": {},
     "output_type": "execute_result"
    },
    {
     "name": "stdout",
     "output_type": "stream",
     "text": [
      "No. of unique values: 237\n",
      "No.of Null Values: 0\n"
     ]
    },
    {
     "data": {
      "text/plain": [
       "'VAR_0883'"
      ]
     },
     "execution_count": 74,
     "metadata": {},
     "output_type": "execute_result"
    },
    {
     "name": "stdout",
     "output_type": "stream",
     "text": [
      "No. of unique values: 144\n",
      "No.of Null Values: 0\n"
     ]
    },
    {
     "data": {
      "text/plain": [
       "'VAR_0884'"
      ]
     },
     "execution_count": 74,
     "metadata": {},
     "output_type": "execute_result"
    },
    {
     "name": "stdout",
     "output_type": "stream",
     "text": [
      "No. of unique values: 271\n",
      "No.of Null Values: 0\n"
     ]
    },
    {
     "data": {
      "text/plain": [
       "'VAR_0885'"
      ]
     },
     "execution_count": 74,
     "metadata": {},
     "output_type": "execute_result"
    },
    {
     "name": "stdout",
     "output_type": "stream",
     "text": [
      "No. of unique values: 95\n",
      "No.of Null Values: 0\n"
     ]
    },
    {
     "data": {
      "text/plain": [
       "'VAR_0886'"
      ]
     },
     "execution_count": 74,
     "metadata": {},
     "output_type": "execute_result"
    },
    {
     "name": "stdout",
     "output_type": "stream",
     "text": [
      "No. of unique values: 100\n",
      "No.of Null Values: 0\n"
     ]
    },
    {
     "data": {
      "text/plain": [
       "'VAR_0887'"
      ]
     },
     "execution_count": 74,
     "metadata": {},
     "output_type": "execute_result"
    },
    {
     "name": "stdout",
     "output_type": "stream",
     "text": [
      "No. of unique values: 34970\n",
      "No.of Null Values: 0\n"
     ]
    },
    {
     "data": {
      "text/plain": [
       "'VAR_0888'"
      ]
     },
     "execution_count": 74,
     "metadata": {},
     "output_type": "execute_result"
    },
    {
     "name": "stdout",
     "output_type": "stream",
     "text": [
      "No. of unique values: 8528\n",
      "No.of Null Values: 0\n"
     ]
    },
    {
     "data": {
      "text/plain": [
       "'VAR_0889'"
      ]
     },
     "execution_count": 74,
     "metadata": {},
     "output_type": "execute_result"
    },
    {
     "name": "stdout",
     "output_type": "stream",
     "text": [
      "No. of unique values: 3339\n",
      "No.of Null Values: 0\n"
     ]
    },
    {
     "data": {
      "text/plain": [
       "'VAR_0890'"
      ]
     },
     "execution_count": 74,
     "metadata": {},
     "output_type": "execute_result"
    },
    {
     "name": "stdout",
     "output_type": "stream",
     "text": [
      "No. of unique values: 4300\n",
      "No.of Null Values: 0\n"
     ]
    },
    {
     "data": {
      "text/plain": [
       "'VAR_0891'"
      ]
     },
     "execution_count": 74,
     "metadata": {},
     "output_type": "execute_result"
    },
    {
     "name": "stdout",
     "output_type": "stream",
     "text": [
      "No. of unique values: 37973\n",
      "No.of Null Values: 0\n"
     ]
    },
    {
     "data": {
      "text/plain": [
       "'VAR_0892'"
      ]
     },
     "execution_count": 74,
     "metadata": {},
     "output_type": "execute_result"
    },
    {
     "name": "stdout",
     "output_type": "stream",
     "text": [
      "No. of unique values: 8224\n",
      "No.of Null Values: 0\n"
     ]
    },
    {
     "data": {
      "text/plain": [
       "'VAR_0893'"
      ]
     },
     "execution_count": 74,
     "metadata": {},
     "output_type": "execute_result"
    },
    {
     "name": "stdout",
     "output_type": "stream",
     "text": [
      "No. of unique values: 28632\n",
      "No.of Null Values: 0\n"
     ]
    },
    {
     "data": {
      "text/plain": [
       "'VAR_0894'"
      ]
     },
     "execution_count": 74,
     "metadata": {},
     "output_type": "execute_result"
    },
    {
     "name": "stdout",
     "output_type": "stream",
     "text": [
      "No. of unique values: 8541\n",
      "No.of Null Values: 0\n"
     ]
    },
    {
     "data": {
      "text/plain": [
       "'VAR_0895'"
      ]
     },
     "execution_count": 74,
     "metadata": {},
     "output_type": "execute_result"
    },
    {
     "name": "stdout",
     "output_type": "stream",
     "text": [
      "No. of unique values: 9244\n",
      "No.of Null Values: 0\n"
     ]
    },
    {
     "data": {
      "text/plain": [
       "'VAR_0896'"
      ]
     },
     "execution_count": 74,
     "metadata": {},
     "output_type": "execute_result"
    },
    {
     "name": "stdout",
     "output_type": "stream",
     "text": [
      "No. of unique values: 17623\n",
      "No.of Null Values: 0\n"
     ]
    },
    {
     "data": {
      "text/plain": [
       "'VAR_0897'"
      ]
     },
     "execution_count": 74,
     "metadata": {},
     "output_type": "execute_result"
    },
    {
     "name": "stdout",
     "output_type": "stream",
     "text": [
      "No. of unique values: 5021\n",
      "No.of Null Values: 0\n"
     ]
    },
    {
     "data": {
      "text/plain": [
       "'VAR_0898'"
      ]
     },
     "execution_count": 74,
     "metadata": {},
     "output_type": "execute_result"
    },
    {
     "name": "stdout",
     "output_type": "stream",
     "text": [
      "No. of unique values: 22120\n",
      "No.of Null Values: 0\n"
     ]
    },
    {
     "data": {
      "text/plain": [
       "'VAR_0899'"
      ]
     },
     "execution_count": 74,
     "metadata": {},
     "output_type": "execute_result"
    },
    {
     "name": "stdout",
     "output_type": "stream",
     "text": [
      "No. of unique values: 82419\n",
      "No.of Null Values: 0\n"
     ]
    },
    {
     "data": {
      "text/plain": [
       "'VAR_0900'"
      ]
     },
     "execution_count": 74,
     "metadata": {},
     "output_type": "execute_result"
    },
    {
     "name": "stdout",
     "output_type": "stream",
     "text": [
      "No. of unique values: 16332\n",
      "No.of Null Values: 0\n"
     ]
    },
    {
     "data": {
      "text/plain": [
       "'VAR_0901'"
      ]
     },
     "execution_count": 74,
     "metadata": {},
     "output_type": "execute_result"
    },
    {
     "name": "stdout",
     "output_type": "stream",
     "text": [
      "No. of unique values: 7462\n",
      "No.of Null Values: 0\n"
     ]
    },
    {
     "data": {
      "text/plain": [
       "'VAR_0902'"
      ]
     },
     "execution_count": 74,
     "metadata": {},
     "output_type": "execute_result"
    },
    {
     "name": "stdout",
     "output_type": "stream",
     "text": [
      "No. of unique values: 37293\n",
      "No.of Null Values: 0\n"
     ]
    },
    {
     "data": {
      "text/plain": [
       "'VAR_0903'"
      ]
     },
     "execution_count": 74,
     "metadata": {},
     "output_type": "execute_result"
    },
    {
     "name": "stdout",
     "output_type": "stream",
     "text": [
      "No. of unique values: 5060\n",
      "No.of Null Values: 0\n"
     ]
    },
    {
     "data": {
      "text/plain": [
       "'VAR_0904'"
      ]
     },
     "execution_count": 74,
     "metadata": {},
     "output_type": "execute_result"
    },
    {
     "name": "stdout",
     "output_type": "stream",
     "text": [
      "No. of unique values: 1710\n",
      "No.of Null Values: 0\n"
     ]
    },
    {
     "data": {
      "text/plain": [
       "'VAR_0905'"
      ]
     },
     "execution_count": 74,
     "metadata": {},
     "output_type": "execute_result"
    },
    {
     "name": "stdout",
     "output_type": "stream",
     "text": [
      "No. of unique values: 21999\n",
      "No.of Null Values: 0\n"
     ]
    },
    {
     "data": {
      "text/plain": [
       "'VAR_0906'"
      ]
     },
     "execution_count": 74,
     "metadata": {},
     "output_type": "execute_result"
    },
    {
     "name": "stdout",
     "output_type": "stream",
     "text": [
      "No. of unique values: 23866\n",
      "No.of Null Values: 0\n"
     ]
    },
    {
     "data": {
      "text/plain": [
       "'VAR_0907'"
      ]
     },
     "execution_count": 74,
     "metadata": {},
     "output_type": "execute_result"
    },
    {
     "name": "stdout",
     "output_type": "stream",
     "text": [
      "No. of unique values: 24040\n",
      "No.of Null Values: 0\n"
     ]
    },
    {
     "data": {
      "text/plain": [
       "'VAR_0908'"
      ]
     },
     "execution_count": 74,
     "metadata": {},
     "output_type": "execute_result"
    },
    {
     "name": "stdout",
     "output_type": "stream",
     "text": [
      "No. of unique values: 36610\n",
      "No.of Null Values: 0\n"
     ]
    },
    {
     "data": {
      "text/plain": [
       "'VAR_0909'"
      ]
     },
     "execution_count": 74,
     "metadata": {},
     "output_type": "execute_result"
    },
    {
     "name": "stdout",
     "output_type": "stream",
     "text": [
      "No. of unique values: 5777\n",
      "No.of Null Values: 0\n"
     ]
    },
    {
     "data": {
      "text/plain": [
       "'VAR_0910'"
      ]
     },
     "execution_count": 74,
     "metadata": {},
     "output_type": "execute_result"
    },
    {
     "name": "stdout",
     "output_type": "stream",
     "text": [
      "No. of unique values: 3778\n",
      "No.of Null Values: 0\n"
     ]
    },
    {
     "data": {
      "text/plain": [
       "'VAR_0911'"
      ]
     },
     "execution_count": 74,
     "metadata": {},
     "output_type": "execute_result"
    },
    {
     "name": "stdout",
     "output_type": "stream",
     "text": [
      "No. of unique values: 57\n",
      "No.of Null Values: 0\n"
     ]
    },
    {
     "data": {
      "text/plain": [
       "'VAR_0912'"
      ]
     },
     "execution_count": 74,
     "metadata": {},
     "output_type": "execute_result"
    },
    {
     "name": "stdout",
     "output_type": "stream",
     "text": [
      "No. of unique values: 7791\n",
      "No.of Null Values: 0\n"
     ]
    },
    {
     "data": {
      "text/plain": [
       "'VAR_0913'"
      ]
     },
     "execution_count": 74,
     "metadata": {},
     "output_type": "execute_result"
    },
    {
     "name": "stdout",
     "output_type": "stream",
     "text": [
      "No. of unique values: 10125\n",
      "No.of Null Values: 0\n"
     ]
    },
    {
     "data": {
      "text/plain": [
       "'VAR_0914'"
      ]
     },
     "execution_count": 74,
     "metadata": {},
     "output_type": "execute_result"
    },
    {
     "name": "stdout",
     "output_type": "stream",
     "text": [
      "No. of unique values: 33\n",
      "No.of Null Values: 0\n"
     ]
    },
    {
     "data": {
      "text/plain": [
       "'VAR_0915'"
      ]
     },
     "execution_count": 74,
     "metadata": {},
     "output_type": "execute_result"
    },
    {
     "name": "stdout",
     "output_type": "stream",
     "text": [
      "No. of unique values: 74\n",
      "No.of Null Values: 0\n"
     ]
    },
    {
     "data": {
      "text/plain": [
       "'VAR_0916'"
      ]
     },
     "execution_count": 74,
     "metadata": {},
     "output_type": "execute_result"
    },
    {
     "name": "stdout",
     "output_type": "stream",
     "text": [
      "No. of unique values: 77\n",
      "No.of Null Values: 0\n"
     ]
    },
    {
     "data": {
      "text/plain": [
       "'VAR_0917'"
      ]
     },
     "execution_count": 74,
     "metadata": {},
     "output_type": "execute_result"
    },
    {
     "name": "stdout",
     "output_type": "stream",
     "text": [
      "No. of unique values: 18476\n",
      "No.of Null Values: 0\n"
     ]
    },
    {
     "data": {
      "text/plain": [
       "'VAR_0918'"
      ]
     },
     "execution_count": 74,
     "metadata": {},
     "output_type": "execute_result"
    },
    {
     "name": "stdout",
     "output_type": "stream",
     "text": [
      "No. of unique values: 23480\n",
      "No.of Null Values: 0\n"
     ]
    },
    {
     "data": {
      "text/plain": [
       "'VAR_0919'"
      ]
     },
     "execution_count": 74,
     "metadata": {},
     "output_type": "execute_result"
    },
    {
     "name": "stdout",
     "output_type": "stream",
     "text": [
      "No. of unique values: 22525\n",
      "No.of Null Values: 0\n"
     ]
    },
    {
     "data": {
      "text/plain": [
       "'VAR_0920'"
      ]
     },
     "execution_count": 74,
     "metadata": {},
     "output_type": "execute_result"
    },
    {
     "name": "stdout",
     "output_type": "stream",
     "text": [
      "No. of unique values: 29157\n",
      "No.of Null Values: 0\n"
     ]
    },
    {
     "data": {
      "text/plain": [
       "'VAR_0921'"
      ]
     },
     "execution_count": 74,
     "metadata": {},
     "output_type": "execute_result"
    },
    {
     "name": "stdout",
     "output_type": "stream",
     "text": [
      "No. of unique values: 31270\n",
      "No.of Null Values: 0\n"
     ]
    },
    {
     "data": {
      "text/plain": [
       "'VAR_0922'"
      ]
     },
     "execution_count": 74,
     "metadata": {},
     "output_type": "execute_result"
    },
    {
     "name": "stdout",
     "output_type": "stream",
     "text": [
      "No. of unique values: 651\n",
      "No.of Null Values: 0\n"
     ]
    },
    {
     "data": {
      "text/plain": [
       "'VAR_0923'"
      ]
     },
     "execution_count": 74,
     "metadata": {},
     "output_type": "execute_result"
    },
    {
     "name": "stdout",
     "output_type": "stream",
     "text": [
      "No. of unique values: 3\n",
      "No.of Null Values: 0\n"
     ]
    },
    {
     "data": {
      "text/plain": [
       "'VAR_0924'"
      ]
     },
     "execution_count": 74,
     "metadata": {},
     "output_type": "execute_result"
    },
    {
     "name": "stdout",
     "output_type": "stream",
     "text": [
      "No. of unique values: 2\n",
      "No.of Null Values: 0\n"
     ]
    },
    {
     "data": {
      "text/plain": [
       "'VAR_0925'"
      ]
     },
     "execution_count": 74,
     "metadata": {},
     "output_type": "execute_result"
    },
    {
     "name": "stdout",
     "output_type": "stream",
     "text": [
      "No. of unique values: 51\n",
      "No.of Null Values: 0\n"
     ]
    },
    {
     "data": {
      "text/plain": [
       "'VAR_0926'"
      ]
     },
     "execution_count": 74,
     "metadata": {},
     "output_type": "execute_result"
    },
    {
     "name": "stdout",
     "output_type": "stream",
     "text": [
      "No. of unique values: 31\n",
      "No.of Null Values: 0\n"
     ]
    },
    {
     "data": {
      "text/plain": [
       "'VAR_0927'"
      ]
     },
     "execution_count": 74,
     "metadata": {},
     "output_type": "execute_result"
    },
    {
     "name": "stdout",
     "output_type": "stream",
     "text": [
      "No. of unique values: 12\n",
      "No.of Null Values: 0\n"
     ]
    },
    {
     "data": {
      "text/plain": [
       "'VAR_0928'"
      ]
     },
     "execution_count": 74,
     "metadata": {},
     "output_type": "execute_result"
    },
    {
     "name": "stdout",
     "output_type": "stream",
     "text": [
      "No. of unique values: 9\n",
      "No.of Null Values: 0\n"
     ]
    },
    {
     "data": {
      "text/plain": [
       "'VAR_0929'"
      ]
     },
     "execution_count": 74,
     "metadata": {},
     "output_type": "execute_result"
    },
    {
     "name": "stdout",
     "output_type": "stream",
     "text": [
      "No. of unique values: 85\n",
      "No.of Null Values: 0\n"
     ]
    },
    {
     "data": {
      "text/plain": [
       "'VAR_0930'"
      ]
     },
     "execution_count": 74,
     "metadata": {},
     "output_type": "execute_result"
    },
    {
     "name": "stdout",
     "output_type": "stream",
     "text": [
      "No. of unique values: 161\n",
      "No.of Null Values: 0\n"
     ]
    },
    {
     "data": {
      "text/plain": [
       "'VAR_0931'"
      ]
     },
     "execution_count": 74,
     "metadata": {},
     "output_type": "execute_result"
    },
    {
     "name": "stdout",
     "output_type": "stream",
     "text": [
      "No. of unique values: 29888\n",
      "No.of Null Values: 0\n"
     ]
    },
    {
     "data": {
      "text/plain": [
       "'VAR_0932'"
      ]
     },
     "execution_count": 74,
     "metadata": {},
     "output_type": "execute_result"
    },
    {
     "name": "stdout",
     "output_type": "stream",
     "text": [
      "No. of unique values: 10\n",
      "No.of Null Values: 0\n"
     ]
    },
    {
     "data": {
      "text/plain": [
       "'VAR_0933'"
      ]
     },
     "execution_count": 74,
     "metadata": {},
     "output_type": "execute_result"
    },
    {
     "name": "stdout",
     "output_type": "stream",
     "text": [
      "No. of unique values: 11\n",
      "No.of Null Values: 0\n"
     ]
    },
    {
     "data": {
      "text/plain": [
       "'VAR_0934'"
      ]
     },
     "execution_count": 74,
     "metadata": {},
     "output_type": "execute_result"
    },
    {
     "name": "stdout",
     "output_type": "stream",
     "text": [
      "No. of unique values: 1161\n",
      "No.of Null Values: 0\n"
     ]
    },
    {
     "data": {
      "text/plain": [
       "'VAR_0935'"
      ]
     },
     "execution_count": 74,
     "metadata": {},
     "output_type": "execute_result"
    },
    {
     "name": "stdout",
     "output_type": "stream",
     "text": [
      "No. of unique values: 151\n",
      "No.of Null Values: 0\n"
     ]
    },
    {
     "data": {
      "text/plain": [
       "'VAR_0936'"
      ]
     },
     "execution_count": 74,
     "metadata": {},
     "output_type": "execute_result"
    },
    {
     "name": "stdout",
     "output_type": "stream",
     "text": [
      "No. of unique values: 128\n",
      "No.of Null Values: 0\n"
     ]
    },
    {
     "data": {
      "text/plain": [
       "'VAR_0937'"
      ]
     },
     "execution_count": 74,
     "metadata": {},
     "output_type": "execute_result"
    },
    {
     "name": "stdout",
     "output_type": "stream",
     "text": [
      "No. of unique values: 11318\n",
      "No.of Null Values: 0\n"
     ]
    },
    {
     "data": {
      "text/plain": [
       "'VAR_0938'"
      ]
     },
     "execution_count": 74,
     "metadata": {},
     "output_type": "execute_result"
    },
    {
     "name": "stdout",
     "output_type": "stream",
     "text": [
      "No. of unique values: 155\n",
      "No.of Null Values: 0\n"
     ]
    },
    {
     "data": {
      "text/plain": [
       "'VAR_0939'"
      ]
     },
     "execution_count": 74,
     "metadata": {},
     "output_type": "execute_result"
    },
    {
     "name": "stdout",
     "output_type": "stream",
     "text": [
      "No. of unique values: 80\n",
      "No.of Null Values: 0\n"
     ]
    },
    {
     "data": {
      "text/plain": [
       "'VAR_0940'"
      ]
     },
     "execution_count": 74,
     "metadata": {},
     "output_type": "execute_result"
    },
    {
     "name": "stdout",
     "output_type": "stream",
     "text": [
      "No. of unique values: 30\n",
      "No.of Null Values: 0\n"
     ]
    },
    {
     "data": {
      "text/plain": [
       "'VAR_0941'"
      ]
     },
     "execution_count": 74,
     "metadata": {},
     "output_type": "execute_result"
    },
    {
     "name": "stdout",
     "output_type": "stream",
     "text": [
      "No. of unique values: 9\n",
      "No.of Null Values: 0\n"
     ]
    },
    {
     "data": {
      "text/plain": [
       "'VAR_0942'"
      ]
     },
     "execution_count": 74,
     "metadata": {},
     "output_type": "execute_result"
    },
    {
     "name": "stdout",
     "output_type": "stream",
     "text": [
      "No. of unique values: 87\n",
      "No.of Null Values: 0\n"
     ]
    },
    {
     "data": {
      "text/plain": [
       "'VAR_0943'"
      ]
     },
     "execution_count": 74,
     "metadata": {},
     "output_type": "execute_result"
    },
    {
     "name": "stdout",
     "output_type": "stream",
     "text": [
      "No. of unique values: 507\n",
      "No.of Null Values: 0\n"
     ]
    },
    {
     "data": {
      "text/plain": [
       "'VAR_0944'"
      ]
     },
     "execution_count": 74,
     "metadata": {},
     "output_type": "execute_result"
    },
    {
     "name": "stdout",
     "output_type": "stream",
     "text": [
      "No. of unique values: 1413\n",
      "No.of Null Values: 0\n"
     ]
    },
    {
     "data": {
      "text/plain": [
       "'VAR_0945'"
      ]
     },
     "execution_count": 74,
     "metadata": {},
     "output_type": "execute_result"
    },
    {
     "name": "stdout",
     "output_type": "stream",
     "text": [
      "No. of unique values: 50\n",
      "No.of Null Values: 0\n"
     ]
    },
    {
     "data": {
      "text/plain": [
       "'VAR_0946'"
      ]
     },
     "execution_count": 74,
     "metadata": {},
     "output_type": "execute_result"
    },
    {
     "name": "stdout",
     "output_type": "stream",
     "text": [
      "No. of unique values: 11846\n",
      "No.of Null Values: 0\n"
     ]
    },
    {
     "data": {
      "text/plain": [
       "'VAR_0947'"
      ]
     },
     "execution_count": 74,
     "metadata": {},
     "output_type": "execute_result"
    },
    {
     "name": "stdout",
     "output_type": "stream",
     "text": [
      "No. of unique values: 10\n",
      "No.of Null Values: 0\n"
     ]
    },
    {
     "data": {
      "text/plain": [
       "'VAR_0948'"
      ]
     },
     "execution_count": 74,
     "metadata": {},
     "output_type": "execute_result"
    },
    {
     "name": "stdout",
     "output_type": "stream",
     "text": [
      "No. of unique values: 9\n",
      "No.of Null Values: 0\n"
     ]
    },
    {
     "data": {
      "text/plain": [
       "'VAR_0949'"
      ]
     },
     "execution_count": 74,
     "metadata": {},
     "output_type": "execute_result"
    },
    {
     "name": "stdout",
     "output_type": "stream",
     "text": [
      "No. of unique values: 85\n",
      "No.of Null Values: 0\n"
     ]
    },
    {
     "data": {
      "text/plain": [
       "'VAR_0950'"
      ]
     },
     "execution_count": 74,
     "metadata": {},
     "output_type": "execute_result"
    },
    {
     "name": "stdout",
     "output_type": "stream",
     "text": [
      "No. of unique values: 31745\n",
      "No.of Null Values: 0\n"
     ]
    },
    {
     "data": {
      "text/plain": [
       "'VAR_0951'"
      ]
     },
     "execution_count": 74,
     "metadata": {},
     "output_type": "execute_result"
    },
    {
     "name": "stdout",
     "output_type": "stream",
     "text": [
      "No. of unique values: 35805\n",
      "No.of Null Values: 0\n"
     ]
    },
    {
     "data": {
      "text/plain": [
       "'VAR_0952'"
      ]
     },
     "execution_count": 74,
     "metadata": {},
     "output_type": "execute_result"
    },
    {
     "name": "stdout",
     "output_type": "stream",
     "text": [
      "No. of unique values: 38\n",
      "No.of Null Values: 0\n"
     ]
    },
    {
     "data": {
      "text/plain": [
       "'VAR_0953'"
      ]
     },
     "execution_count": 74,
     "metadata": {},
     "output_type": "execute_result"
    },
    {
     "name": "stdout",
     "output_type": "stream",
     "text": [
      "No. of unique values: 9\n",
      "No.of Null Values: 0\n"
     ]
    },
    {
     "data": {
      "text/plain": [
       "'VAR_0954'"
      ]
     },
     "execution_count": 74,
     "metadata": {},
     "output_type": "execute_result"
    },
    {
     "name": "stdout",
     "output_type": "stream",
     "text": [
      "No. of unique values: 86\n",
      "No.of Null Values: 0\n"
     ]
    },
    {
     "data": {
      "text/plain": [
       "'VAR_0955'"
      ]
     },
     "execution_count": 74,
     "metadata": {},
     "output_type": "execute_result"
    },
    {
     "name": "stdout",
     "output_type": "stream",
     "text": [
      "No. of unique values: 86\n",
      "No.of Null Values: 0\n"
     ]
    },
    {
     "data": {
      "text/plain": [
       "'VAR_0956'"
      ]
     },
     "execution_count": 74,
     "metadata": {},
     "output_type": "execute_result"
    },
    {
     "name": "stdout",
     "output_type": "stream",
     "text": [
      "No. of unique values: 85\n",
      "No.of Null Values: 0\n"
     ]
    },
    {
     "data": {
      "text/plain": [
       "'VAR_0957'"
      ]
     },
     "execution_count": 74,
     "metadata": {},
     "output_type": "execute_result"
    },
    {
     "name": "stdout",
     "output_type": "stream",
     "text": [
      "No. of unique values: 155\n",
      "No.of Null Values: 0\n"
     ]
    },
    {
     "data": {
      "text/plain": [
       "'VAR_0958'"
      ]
     },
     "execution_count": 74,
     "metadata": {},
     "output_type": "execute_result"
    },
    {
     "name": "stdout",
     "output_type": "stream",
     "text": [
      "No. of unique values: 106\n",
      "No.of Null Values: 0\n"
     ]
    },
    {
     "data": {
      "text/plain": [
       "'VAR_0959'"
      ]
     },
     "execution_count": 74,
     "metadata": {},
     "output_type": "execute_result"
    },
    {
     "name": "stdout",
     "output_type": "stream",
     "text": [
      "No. of unique values: 33\n",
      "No.of Null Values: 0\n"
     ]
    },
    {
     "data": {
      "text/plain": [
       "'VAR_0960'"
      ]
     },
     "execution_count": 74,
     "metadata": {},
     "output_type": "execute_result"
    },
    {
     "name": "stdout",
     "output_type": "stream",
     "text": [
      "No. of unique values: 10\n",
      "No.of Null Values: 0\n"
     ]
    },
    {
     "data": {
      "text/plain": [
       "'VAR_0961'"
      ]
     },
     "execution_count": 74,
     "metadata": {},
     "output_type": "execute_result"
    },
    {
     "name": "stdout",
     "output_type": "stream",
     "text": [
      "No. of unique values: 85\n",
      "No.of Null Values: 0\n"
     ]
    },
    {
     "data": {
      "text/plain": [
       "'VAR_0962'"
      ]
     },
     "execution_count": 74,
     "metadata": {},
     "output_type": "execute_result"
    },
    {
     "name": "stdout",
     "output_type": "stream",
     "text": [
      "No. of unique values: 71\n",
      "No.of Null Values: 0\n"
     ]
    },
    {
     "data": {
      "text/plain": [
       "'VAR_0963'"
      ]
     },
     "execution_count": 74,
     "metadata": {},
     "output_type": "execute_result"
    },
    {
     "name": "stdout",
     "output_type": "stream",
     "text": [
      "No. of unique values: 69\n",
      "No.of Null Values: 0\n"
     ]
    },
    {
     "data": {
      "text/plain": [
       "'VAR_0964'"
      ]
     },
     "execution_count": 74,
     "metadata": {},
     "output_type": "execute_result"
    },
    {
     "name": "stdout",
     "output_type": "stream",
     "text": [
      "No. of unique values: 9269\n",
      "No.of Null Values: 0\n"
     ]
    },
    {
     "data": {
      "text/plain": [
       "'VAR_0965'"
      ]
     },
     "execution_count": 74,
     "metadata": {},
     "output_type": "execute_result"
    },
    {
     "name": "stdout",
     "output_type": "stream",
     "text": [
      "No. of unique values: 9\n",
      "No.of Null Values: 0\n"
     ]
    },
    {
     "data": {
      "text/plain": [
       "'VAR_0966'"
      ]
     },
     "execution_count": 74,
     "metadata": {},
     "output_type": "execute_result"
    },
    {
     "name": "stdout",
     "output_type": "stream",
     "text": [
      "No. of unique values: 86\n",
      "No.of Null Values: 0\n"
     ]
    },
    {
     "data": {
      "text/plain": [
       "'VAR_0967'"
      ]
     },
     "execution_count": 74,
     "metadata": {},
     "output_type": "execute_result"
    },
    {
     "name": "stdout",
     "output_type": "stream",
     "text": [
      "No. of unique values: 9\n",
      "No.of Null Values: 0\n"
     ]
    },
    {
     "data": {
      "text/plain": [
       "'VAR_0968'"
      ]
     },
     "execution_count": 74,
     "metadata": {},
     "output_type": "execute_result"
    },
    {
     "name": "stdout",
     "output_type": "stream",
     "text": [
      "No. of unique values: 27755\n",
      "No.of Null Values: 0\n"
     ]
    },
    {
     "data": {
      "text/plain": [
       "'VAR_0969'"
      ]
     },
     "execution_count": 74,
     "metadata": {},
     "output_type": "execute_result"
    },
    {
     "name": "stdout",
     "output_type": "stream",
     "text": [
      "No. of unique values: 49\n",
      "No.of Null Values: 0\n"
     ]
    },
    {
     "data": {
      "text/plain": [
       "'VAR_0970'"
      ]
     },
     "execution_count": 74,
     "metadata": {},
     "output_type": "execute_result"
    },
    {
     "name": "stdout",
     "output_type": "stream",
     "text": [
      "No. of unique values: 25981\n",
      "No.of Null Values: 0\n"
     ]
    },
    {
     "data": {
      "text/plain": [
       "'VAR_0971'"
      ]
     },
     "execution_count": 74,
     "metadata": {},
     "output_type": "execute_result"
    },
    {
     "name": "stdout",
     "output_type": "stream",
     "text": [
      "No. of unique values: 8\n",
      "No.of Null Values: 0\n"
     ]
    },
    {
     "data": {
      "text/plain": [
       "'VAR_0972'"
      ]
     },
     "execution_count": 74,
     "metadata": {},
     "output_type": "execute_result"
    },
    {
     "name": "stdout",
     "output_type": "stream",
     "text": [
      "No. of unique values: 9\n",
      "No.of Null Values: 0\n"
     ]
    },
    {
     "data": {
      "text/plain": [
       "'VAR_0973'"
      ]
     },
     "execution_count": 74,
     "metadata": {},
     "output_type": "execute_result"
    },
    {
     "name": "stdout",
     "output_type": "stream",
     "text": [
      "No. of unique values: 28\n",
      "No.of Null Values: 0\n"
     ]
    },
    {
     "data": {
      "text/plain": [
       "'VAR_0974'"
      ]
     },
     "execution_count": 74,
     "metadata": {},
     "output_type": "execute_result"
    },
    {
     "name": "stdout",
     "output_type": "stream",
     "text": [
      "No. of unique values: 20\n",
      "No.of Null Values: 0\n"
     ]
    },
    {
     "data": {
      "text/plain": [
       "'VAR_0975'"
      ]
     },
     "execution_count": 74,
     "metadata": {},
     "output_type": "execute_result"
    },
    {
     "name": "stdout",
     "output_type": "stream",
     "text": [
      "No. of unique values: 18\n",
      "No.of Null Values: 0\n"
     ]
    },
    {
     "data": {
      "text/plain": [
       "'VAR_0976'"
      ]
     },
     "execution_count": 74,
     "metadata": {},
     "output_type": "execute_result"
    },
    {
     "name": "stdout",
     "output_type": "stream",
     "text": [
      "No. of unique values: 37337\n",
      "No.of Null Values: 0\n"
     ]
    },
    {
     "data": {
      "text/plain": [
       "'VAR_0977'"
      ]
     },
     "execution_count": 74,
     "metadata": {},
     "output_type": "execute_result"
    },
    {
     "name": "stdout",
     "output_type": "stream",
     "text": [
      "No. of unique values: 34334\n",
      "No.of Null Values: 0\n"
     ]
    },
    {
     "data": {
      "text/plain": [
       "'VAR_0978'"
      ]
     },
     "execution_count": 74,
     "metadata": {},
     "output_type": "execute_result"
    },
    {
     "name": "stdout",
     "output_type": "stream",
     "text": [
      "No. of unique values: 3302\n",
      "No.of Null Values: 0\n"
     ]
    },
    {
     "data": {
      "text/plain": [
       "'VAR_0979'"
      ]
     },
     "execution_count": 74,
     "metadata": {},
     "output_type": "execute_result"
    },
    {
     "name": "stdout",
     "output_type": "stream",
     "text": [
      "No. of unique values: 3747\n",
      "No.of Null Values: 0\n"
     ]
    },
    {
     "data": {
      "text/plain": [
       "'VAR_0980'"
      ]
     },
     "execution_count": 74,
     "metadata": {},
     "output_type": "execute_result"
    },
    {
     "name": "stdout",
     "output_type": "stream",
     "text": [
      "No. of unique values: 3760\n",
      "No.of Null Values: 0\n"
     ]
    },
    {
     "data": {
      "text/plain": [
       "'VAR_0981'"
      ]
     },
     "execution_count": 74,
     "metadata": {},
     "output_type": "execute_result"
    },
    {
     "name": "stdout",
     "output_type": "stream",
     "text": [
      "No. of unique values: 460\n",
      "No.of Null Values: 0\n"
     ]
    },
    {
     "data": {
      "text/plain": [
       "'VAR_0982'"
      ]
     },
     "execution_count": 74,
     "metadata": {},
     "output_type": "execute_result"
    },
    {
     "name": "stdout",
     "output_type": "stream",
     "text": [
      "No. of unique values: 574\n",
      "No.of Null Values: 0\n"
     ]
    },
    {
     "data": {
      "text/plain": [
       "'VAR_0983'"
      ]
     },
     "execution_count": 74,
     "metadata": {},
     "output_type": "execute_result"
    },
    {
     "name": "stdout",
     "output_type": "stream",
     "text": [
      "No. of unique values: 91\n",
      "No.of Null Values: 0\n"
     ]
    },
    {
     "data": {
      "text/plain": [
       "'VAR_0984'"
      ]
     },
     "execution_count": 74,
     "metadata": {},
     "output_type": "execute_result"
    },
    {
     "name": "stdout",
     "output_type": "stream",
     "text": [
      "No. of unique values: 63\n",
      "No.of Null Values: 0\n"
     ]
    },
    {
     "data": {
      "text/plain": [
       "'VAR_0985'"
      ]
     },
     "execution_count": 74,
     "metadata": {},
     "output_type": "execute_result"
    },
    {
     "name": "stdout",
     "output_type": "stream",
     "text": [
      "No. of unique values: 91\n",
      "No.of Null Values: 0\n"
     ]
    },
    {
     "data": {
      "text/plain": [
       "'VAR_0986'"
      ]
     },
     "execution_count": 74,
     "metadata": {},
     "output_type": "execute_result"
    },
    {
     "name": "stdout",
     "output_type": "stream",
     "text": [
      "No. of unique values: 9\n",
      "No.of Null Values: 0\n"
     ]
    },
    {
     "data": {
      "text/plain": [
       "'VAR_0987'"
      ]
     },
     "execution_count": 74,
     "metadata": {},
     "output_type": "execute_result"
    },
    {
     "name": "stdout",
     "output_type": "stream",
     "text": [
      "No. of unique values: 18\n",
      "No.of Null Values: 0\n"
     ]
    },
    {
     "data": {
      "text/plain": [
       "'VAR_0988'"
      ]
     },
     "execution_count": 74,
     "metadata": {},
     "output_type": "execute_result"
    },
    {
     "name": "stdout",
     "output_type": "stream",
     "text": [
      "No. of unique values: 24\n",
      "No.of Null Values: 0\n"
     ]
    },
    {
     "data": {
      "text/plain": [
       "'VAR_0989'"
      ]
     },
     "execution_count": 74,
     "metadata": {},
     "output_type": "execute_result"
    },
    {
     "name": "stdout",
     "output_type": "stream",
     "text": [
      "No. of unique values: 92\n",
      "No.of Null Values: 0\n"
     ]
    },
    {
     "data": {
      "text/plain": [
       "'VAR_0990'"
      ]
     },
     "execution_count": 74,
     "metadata": {},
     "output_type": "execute_result"
    },
    {
     "name": "stdout",
     "output_type": "stream",
     "text": [
      "No. of unique values: 62\n",
      "No.of Null Values: 0\n"
     ]
    },
    {
     "data": {
      "text/plain": [
       "'VAR_0991'"
      ]
     },
     "execution_count": 74,
     "metadata": {},
     "output_type": "execute_result"
    },
    {
     "name": "stdout",
     "output_type": "stream",
     "text": [
      "No. of unique values: 67\n",
      "No.of Null Values: 0\n"
     ]
    },
    {
     "data": {
      "text/plain": [
       "'VAR_0992'"
      ]
     },
     "execution_count": 74,
     "metadata": {},
     "output_type": "execute_result"
    },
    {
     "name": "stdout",
     "output_type": "stream",
     "text": [
      "No. of unique values: 75\n",
      "No.of Null Values: 0\n"
     ]
    },
    {
     "data": {
      "text/plain": [
       "'VAR_0993'"
      ]
     },
     "execution_count": 74,
     "metadata": {},
     "output_type": "execute_result"
    },
    {
     "name": "stdout",
     "output_type": "stream",
     "text": [
      "No. of unique values: 91\n",
      "No.of Null Values: 0\n"
     ]
    },
    {
     "data": {
      "text/plain": [
       "'VAR_0994'"
      ]
     },
     "execution_count": 74,
     "metadata": {},
     "output_type": "execute_result"
    },
    {
     "name": "stdout",
     "output_type": "stream",
     "text": [
      "No. of unique values: 4\n",
      "No.of Null Values: 0\n"
     ]
    },
    {
     "data": {
      "text/plain": [
       "'VAR_0995'"
      ]
     },
     "execution_count": 74,
     "metadata": {},
     "output_type": "execute_result"
    },
    {
     "name": "stdout",
     "output_type": "stream",
     "text": [
      "No. of unique values: 5\n",
      "No.of Null Values: 0\n"
     ]
    },
    {
     "data": {
      "text/plain": [
       "'VAR_0996'"
      ]
     },
     "execution_count": 74,
     "metadata": {},
     "output_type": "execute_result"
    },
    {
     "name": "stdout",
     "output_type": "stream",
     "text": [
      "No. of unique values: 55\n",
      "No.of Null Values: 0\n"
     ]
    },
    {
     "data": {
      "text/plain": [
       "'VAR_0997'"
      ]
     },
     "execution_count": 74,
     "metadata": {},
     "output_type": "execute_result"
    },
    {
     "name": "stdout",
     "output_type": "stream",
     "text": [
      "No. of unique values: 60\n",
      "No.of Null Values: 0\n"
     ]
    },
    {
     "data": {
      "text/plain": [
       "'VAR_0998'"
      ]
     },
     "execution_count": 74,
     "metadata": {},
     "output_type": "execute_result"
    },
    {
     "name": "stdout",
     "output_type": "stream",
     "text": [
      "No. of unique values: 66\n",
      "No.of Null Values: 0\n"
     ]
    },
    {
     "data": {
      "text/plain": [
       "'VAR_0999'"
      ]
     },
     "execution_count": 74,
     "metadata": {},
     "output_type": "execute_result"
    },
    {
     "name": "stdout",
     "output_type": "stream",
     "text": [
      "No. of unique values: 22\n",
      "No.of Null Values: 0\n"
     ]
    },
    {
     "data": {
      "text/plain": [
       "'VAR_1000'"
      ]
     },
     "execution_count": 74,
     "metadata": {},
     "output_type": "execute_result"
    },
    {
     "name": "stdout",
     "output_type": "stream",
     "text": [
      "No. of unique values: 51\n",
      "No.of Null Values: 0\n"
     ]
    },
    {
     "data": {
      "text/plain": [
       "'VAR_1001'"
      ]
     },
     "execution_count": 74,
     "metadata": {},
     "output_type": "execute_result"
    },
    {
     "name": "stdout",
     "output_type": "stream",
     "text": [
      "No. of unique values: 51\n",
      "No.of Null Values: 0\n"
     ]
    },
    {
     "data": {
      "text/plain": [
       "'VAR_1002'"
      ]
     },
     "execution_count": 74,
     "metadata": {},
     "output_type": "execute_result"
    },
    {
     "name": "stdout",
     "output_type": "stream",
     "text": [
      "No. of unique values: 22\n",
      "No.of Null Values: 0\n"
     ]
    },
    {
     "data": {
      "text/plain": [
       "'VAR_1003'"
      ]
     },
     "execution_count": 74,
     "metadata": {},
     "output_type": "execute_result"
    },
    {
     "name": "stdout",
     "output_type": "stream",
     "text": [
      "No. of unique values: 26\n",
      "No.of Null Values: 0\n"
     ]
    },
    {
     "data": {
      "text/plain": [
       "'VAR_1004'"
      ]
     },
     "execution_count": 74,
     "metadata": {},
     "output_type": "execute_result"
    },
    {
     "name": "stdout",
     "output_type": "stream",
     "text": [
      "No. of unique values: 31\n",
      "No.of Null Values: 0\n"
     ]
    },
    {
     "data": {
      "text/plain": [
       "'VAR_1005'"
      ]
     },
     "execution_count": 74,
     "metadata": {},
     "output_type": "execute_result"
    },
    {
     "name": "stdout",
     "output_type": "stream",
     "text": [
      "No. of unique values: 35\n",
      "No.of Null Values: 0\n"
     ]
    },
    {
     "data": {
      "text/plain": [
       "'VAR_1006'"
      ]
     },
     "execution_count": 74,
     "metadata": {},
     "output_type": "execute_result"
    },
    {
     "name": "stdout",
     "output_type": "stream",
     "text": [
      "No. of unique values: 47\n",
      "No.of Null Values: 0\n"
     ]
    },
    {
     "data": {
      "text/plain": [
       "'VAR_1007'"
      ]
     },
     "execution_count": 74,
     "metadata": {},
     "output_type": "execute_result"
    },
    {
     "name": "stdout",
     "output_type": "stream",
     "text": [
      "No. of unique values: 42\n",
      "No.of Null Values: 0\n"
     ]
    },
    {
     "data": {
      "text/plain": [
       "'VAR_1008'"
      ]
     },
     "execution_count": 74,
     "metadata": {},
     "output_type": "execute_result"
    },
    {
     "name": "stdout",
     "output_type": "stream",
     "text": [
      "No. of unique values: 90\n",
      "No.of Null Values: 0\n"
     ]
    },
    {
     "data": {
      "text/plain": [
       "'VAR_1009'"
      ]
     },
     "execution_count": 74,
     "metadata": {},
     "output_type": "execute_result"
    },
    {
     "name": "stdout",
     "output_type": "stream",
     "text": [
      "No. of unique values: 18\n",
      "No.of Null Values: 0\n"
     ]
    },
    {
     "data": {
      "text/plain": [
       "'VAR_1010'"
      ]
     },
     "execution_count": 74,
     "metadata": {},
     "output_type": "execute_result"
    },
    {
     "name": "stdout",
     "output_type": "stream",
     "text": [
      "No. of unique values: 9\n",
      "No.of Null Values: 0\n"
     ]
    },
    {
     "data": {
      "text/plain": [
       "'VAR_1011'"
      ]
     },
     "execution_count": 74,
     "metadata": {},
     "output_type": "execute_result"
    },
    {
     "name": "stdout",
     "output_type": "stream",
     "text": [
      "No. of unique values: 91\n",
      "No.of Null Values: 0\n"
     ]
    },
    {
     "data": {
      "text/plain": [
       "'VAR_1012'"
      ]
     },
     "execution_count": 74,
     "metadata": {},
     "output_type": "execute_result"
    },
    {
     "name": "stdout",
     "output_type": "stream",
     "text": [
      "No. of unique values: 4\n",
      "No.of Null Values: 0\n"
     ]
    },
    {
     "data": {
      "text/plain": [
       "'VAR_1013'"
      ]
     },
     "execution_count": 74,
     "metadata": {},
     "output_type": "execute_result"
    },
    {
     "name": "stdout",
     "output_type": "stream",
     "text": [
      "No. of unique values: 4\n",
      "No.of Null Values: 0\n"
     ]
    },
    {
     "data": {
      "text/plain": [
       "'VAR_1014'"
      ]
     },
     "execution_count": 74,
     "metadata": {},
     "output_type": "execute_result"
    },
    {
     "name": "stdout",
     "output_type": "stream",
     "text": [
      "No. of unique values: 55\n",
      "No.of Null Values: 0\n"
     ]
    },
    {
     "data": {
      "text/plain": [
       "'VAR_1015'"
      ]
     },
     "execution_count": 74,
     "metadata": {},
     "output_type": "execute_result"
    },
    {
     "name": "stdout",
     "output_type": "stream",
     "text": [
      "No. of unique values: 29\n",
      "No.of Null Values: 0\n"
     ]
    },
    {
     "data": {
      "text/plain": [
       "'VAR_1016'"
      ]
     },
     "execution_count": 74,
     "metadata": {},
     "output_type": "execute_result"
    },
    {
     "name": "stdout",
     "output_type": "stream",
     "text": [
      "No. of unique values: 58\n",
      "No.of Null Values: 0\n"
     ]
    },
    {
     "data": {
      "text/plain": [
       "'VAR_1017'"
      ]
     },
     "execution_count": 74,
     "metadata": {},
     "output_type": "execute_result"
    },
    {
     "name": "stdout",
     "output_type": "stream",
     "text": [
      "No. of unique values: 26\n",
      "No.of Null Values: 0\n"
     ]
    },
    {
     "data": {
      "text/plain": [
       "'VAR_1018'"
      ]
     },
     "execution_count": 74,
     "metadata": {},
     "output_type": "execute_result"
    },
    {
     "name": "stdout",
     "output_type": "stream",
     "text": [
      "No. of unique values: 64\n",
      "No.of Null Values: 0\n"
     ]
    },
    {
     "data": {
      "text/plain": [
       "'VAR_1019'"
      ]
     },
     "execution_count": 74,
     "metadata": {},
     "output_type": "execute_result"
    },
    {
     "name": "stdout",
     "output_type": "stream",
     "text": [
      "No. of unique values: 52\n",
      "No.of Null Values: 0\n"
     ]
    },
    {
     "data": {
      "text/plain": [
       "'VAR_1020'"
      ]
     },
     "execution_count": 74,
     "metadata": {},
     "output_type": "execute_result"
    },
    {
     "name": "stdout",
     "output_type": "stream",
     "text": [
      "No. of unique values: 37\n",
      "No.of Null Values: 0\n"
     ]
    },
    {
     "data": {
      "text/plain": [
       "'VAR_1021'"
      ]
     },
     "execution_count": 74,
     "metadata": {},
     "output_type": "execute_result"
    },
    {
     "name": "stdout",
     "output_type": "stream",
     "text": [
      "No. of unique values: 28\n",
      "No.of Null Values: 0\n"
     ]
    },
    {
     "data": {
      "text/plain": [
       "'VAR_1022'"
      ]
     },
     "execution_count": 74,
     "metadata": {},
     "output_type": "execute_result"
    },
    {
     "name": "stdout",
     "output_type": "stream",
     "text": [
      "No. of unique values: 47\n",
      "No.of Null Values: 0\n"
     ]
    },
    {
     "data": {
      "text/plain": [
       "'VAR_1023'"
      ]
     },
     "execution_count": 74,
     "metadata": {},
     "output_type": "execute_result"
    },
    {
     "name": "stdout",
     "output_type": "stream",
     "text": [
      "No. of unique values: 64\n",
      "No.of Null Values: 0\n"
     ]
    },
    {
     "data": {
      "text/plain": [
       "'VAR_1024'"
      ]
     },
     "execution_count": 74,
     "metadata": {},
     "output_type": "execute_result"
    },
    {
     "name": "stdout",
     "output_type": "stream",
     "text": [
      "No. of unique values: 14\n",
      "No.of Null Values: 0\n"
     ]
    },
    {
     "data": {
      "text/plain": [
       "'VAR_1025'"
      ]
     },
     "execution_count": 74,
     "metadata": {},
     "output_type": "execute_result"
    },
    {
     "name": "stdout",
     "output_type": "stream",
     "text": [
      "No. of unique values: 15\n",
      "No.of Null Values: 0\n"
     ]
    },
    {
     "data": {
      "text/plain": [
       "'VAR_1026'"
      ]
     },
     "execution_count": 74,
     "metadata": {},
     "output_type": "execute_result"
    },
    {
     "name": "stdout",
     "output_type": "stream",
     "text": [
      "No. of unique values: 26\n",
      "No.of Null Values: 0\n"
     ]
    },
    {
     "data": {
      "text/plain": [
       "'VAR_1027'"
      ]
     },
     "execution_count": 74,
     "metadata": {},
     "output_type": "execute_result"
    },
    {
     "name": "stdout",
     "output_type": "stream",
     "text": [
      "No. of unique values: 29\n",
      "No.of Null Values: 0\n"
     ]
    },
    {
     "data": {
      "text/plain": [
       "'VAR_1028'"
      ]
     },
     "execution_count": 74,
     "metadata": {},
     "output_type": "execute_result"
    },
    {
     "name": "stdout",
     "output_type": "stream",
     "text": [
      "No. of unique values: 77\n",
      "No.of Null Values: 0\n"
     ]
    },
    {
     "data": {
      "text/plain": [
       "'VAR_1029'"
      ]
     },
     "execution_count": 74,
     "metadata": {},
     "output_type": "execute_result"
    },
    {
     "name": "stdout",
     "output_type": "stream",
     "text": [
      "No. of unique values: 32\n",
      "No.of Null Values: 0\n"
     ]
    },
    {
     "data": {
      "text/plain": [
       "'VAR_1030'"
      ]
     },
     "execution_count": 74,
     "metadata": {},
     "output_type": "execute_result"
    },
    {
     "name": "stdout",
     "output_type": "stream",
     "text": [
      "No. of unique values: 40\n",
      "No.of Null Values: 0\n"
     ]
    },
    {
     "data": {
      "text/plain": [
       "'VAR_1031'"
      ]
     },
     "execution_count": 74,
     "metadata": {},
     "output_type": "execute_result"
    },
    {
     "name": "stdout",
     "output_type": "stream",
     "text": [
      "No. of unique values: 53\n",
      "No.of Null Values: 0\n"
     ]
    },
    {
     "data": {
      "text/plain": [
       "'VAR_1032'"
      ]
     },
     "execution_count": 74,
     "metadata": {},
     "output_type": "execute_result"
    },
    {
     "name": "stdout",
     "output_type": "stream",
     "text": [
      "No. of unique values: 76\n",
      "No.of Null Values: 0\n"
     ]
    },
    {
     "data": {
      "text/plain": [
       "'VAR_1033'"
      ]
     },
     "execution_count": 74,
     "metadata": {},
     "output_type": "execute_result"
    },
    {
     "name": "stdout",
     "output_type": "stream",
     "text": [
      "No. of unique values: 30\n",
      "No.of Null Values: 0\n"
     ]
    },
    {
     "data": {
      "text/plain": [
       "'VAR_1034'"
      ]
     },
     "execution_count": 74,
     "metadata": {},
     "output_type": "execute_result"
    },
    {
     "name": "stdout",
     "output_type": "stream",
     "text": [
      "No. of unique values: 38\n",
      "No.of Null Values: 0\n"
     ]
    },
    {
     "data": {
      "text/plain": [
       "'VAR_1035'"
      ]
     },
     "execution_count": 74,
     "metadata": {},
     "output_type": "execute_result"
    },
    {
     "name": "stdout",
     "output_type": "stream",
     "text": [
      "No. of unique values: 53\n",
      "No.of Null Values: 0\n"
     ]
    },
    {
     "data": {
      "text/plain": [
       "'VAR_1036'"
      ]
     },
     "execution_count": 74,
     "metadata": {},
     "output_type": "execute_result"
    },
    {
     "name": "stdout",
     "output_type": "stream",
     "text": [
      "No. of unique values: 77\n",
      "No.of Null Values: 0\n"
     ]
    },
    {
     "data": {
      "text/plain": [
       "'VAR_1037'"
      ]
     },
     "execution_count": 74,
     "metadata": {},
     "output_type": "execute_result"
    },
    {
     "name": "stdout",
     "output_type": "stream",
     "text": [
      "No. of unique values: 30\n",
      "No.of Null Values: 0\n"
     ]
    },
    {
     "data": {
      "text/plain": [
       "'VAR_1038'"
      ]
     },
     "execution_count": 74,
     "metadata": {},
     "output_type": "execute_result"
    },
    {
     "name": "stdout",
     "output_type": "stream",
     "text": [
      "No. of unique values: 38\n",
      "No.of Null Values: 0\n"
     ]
    },
    {
     "data": {
      "text/plain": [
       "'VAR_1039'"
      ]
     },
     "execution_count": 74,
     "metadata": {},
     "output_type": "execute_result"
    },
    {
     "name": "stdout",
     "output_type": "stream",
     "text": [
      "No. of unique values: 52\n",
      "No.of Null Values: 0\n"
     ]
    },
    {
     "data": {
      "text/plain": [
       "'VAR_1040'"
      ]
     },
     "execution_count": 74,
     "metadata": {},
     "output_type": "execute_result"
    },
    {
     "name": "stdout",
     "output_type": "stream",
     "text": [
      "No. of unique values: 77\n",
      "No.of Null Values: 0\n"
     ]
    },
    {
     "data": {
      "text/plain": [
       "'VAR_1041'"
      ]
     },
     "execution_count": 74,
     "metadata": {},
     "output_type": "execute_result"
    },
    {
     "name": "stdout",
     "output_type": "stream",
     "text": [
      "No. of unique values: 15\n",
      "No.of Null Values: 0\n"
     ]
    },
    {
     "data": {
      "text/plain": [
       "'VAR_1042'"
      ]
     },
     "execution_count": 74,
     "metadata": {},
     "output_type": "execute_result"
    },
    {
     "name": "stdout",
     "output_type": "stream",
     "text": [
      "No. of unique values: 18\n",
      "No.of Null Values: 0\n"
     ]
    },
    {
     "data": {
      "text/plain": [
       "'VAR_1043'"
      ]
     },
     "execution_count": 74,
     "metadata": {},
     "output_type": "execute_result"
    },
    {
     "name": "stdout",
     "output_type": "stream",
     "text": [
      "No. of unique values: 47\n",
      "No.of Null Values: 0\n"
     ]
    },
    {
     "data": {
      "text/plain": [
       "'VAR_1044'"
      ]
     },
     "execution_count": 74,
     "metadata": {},
     "output_type": "execute_result"
    },
    {
     "name": "stdout",
     "output_type": "stream",
     "text": [
      "No. of unique values: 74\n",
      "No.of Null Values: 0\n"
     ]
    },
    {
     "data": {
      "text/plain": [
       "'VAR_1045'"
      ]
     },
     "execution_count": 74,
     "metadata": {},
     "output_type": "execute_result"
    },
    {
     "name": "stdout",
     "output_type": "stream",
     "text": [
      "No. of unique values: 29\n",
      "No.of Null Values: 0\n"
     ]
    },
    {
     "data": {
      "text/plain": [
       "'VAR_1046'"
      ]
     },
     "execution_count": 74,
     "metadata": {},
     "output_type": "execute_result"
    },
    {
     "name": "stdout",
     "output_type": "stream",
     "text": [
      "No. of unique values: 37\n",
      "No.of Null Values: 0\n"
     ]
    },
    {
     "data": {
      "text/plain": [
       "'VAR_1047'"
      ]
     },
     "execution_count": 74,
     "metadata": {},
     "output_type": "execute_result"
    },
    {
     "name": "stdout",
     "output_type": "stream",
     "text": [
      "No. of unique values: 52\n",
      "No.of Null Values: 0\n"
     ]
    },
    {
     "data": {
      "text/plain": [
       "'VAR_1048'"
      ]
     },
     "execution_count": 74,
     "metadata": {},
     "output_type": "execute_result"
    },
    {
     "name": "stdout",
     "output_type": "stream",
     "text": [
      "No. of unique values: 79\n",
      "No.of Null Values: 0\n"
     ]
    },
    {
     "data": {
      "text/plain": [
       "'VAR_1049'"
      ]
     },
     "execution_count": 74,
     "metadata": {},
     "output_type": "execute_result"
    },
    {
     "name": "stdout",
     "output_type": "stream",
     "text": [
      "No. of unique values: 42\n",
      "No.of Null Values: 0\n"
     ]
    },
    {
     "data": {
      "text/plain": [
       "'VAR_1050'"
      ]
     },
     "execution_count": 74,
     "metadata": {},
     "output_type": "execute_result"
    },
    {
     "name": "stdout",
     "output_type": "stream",
     "text": [
      "No. of unique values: 5\n",
      "No.of Null Values: 0\n"
     ]
    },
    {
     "data": {
      "text/plain": [
       "'VAR_1051'"
      ]
     },
     "execution_count": 74,
     "metadata": {},
     "output_type": "execute_result"
    },
    {
     "name": "stdout",
     "output_type": "stream",
     "text": [
      "No. of unique values: 5\n",
      "No.of Null Values: 0\n"
     ]
    },
    {
     "data": {
      "text/plain": [
       "'VAR_1052'"
      ]
     },
     "execution_count": 74,
     "metadata": {},
     "output_type": "execute_result"
    },
    {
     "name": "stdout",
     "output_type": "stream",
     "text": [
      "No. of unique values: 22\n",
      "No.of Null Values: 0\n"
     ]
    },
    {
     "data": {
      "text/plain": [
       "'VAR_1053'"
      ]
     },
     "execution_count": 74,
     "metadata": {},
     "output_type": "execute_result"
    },
    {
     "name": "stdout",
     "output_type": "stream",
     "text": [
      "No. of unique values: 22\n",
      "No.of Null Values: 0\n"
     ]
    },
    {
     "data": {
      "text/plain": [
       "'VAR_1054'"
      ]
     },
     "execution_count": 74,
     "metadata": {},
     "output_type": "execute_result"
    },
    {
     "name": "stdout",
     "output_type": "stream",
     "text": [
      "No. of unique values: 40\n",
      "No.of Null Values: 0\n"
     ]
    },
    {
     "data": {
      "text/plain": [
       "'VAR_1055'"
      ]
     },
     "execution_count": 74,
     "metadata": {},
     "output_type": "execute_result"
    },
    {
     "name": "stdout",
     "output_type": "stream",
     "text": [
      "No. of unique values: 6\n",
      "No.of Null Values: 0\n"
     ]
    },
    {
     "data": {
      "text/plain": [
       "'VAR_1056'"
      ]
     },
     "execution_count": 74,
     "metadata": {},
     "output_type": "execute_result"
    },
    {
     "name": "stdout",
     "output_type": "stream",
     "text": [
      "No. of unique values: 18\n",
      "No.of Null Values: 0\n"
     ]
    },
    {
     "data": {
      "text/plain": [
       "'VAR_1057'"
      ]
     },
     "execution_count": 74,
     "metadata": {},
     "output_type": "execute_result"
    },
    {
     "name": "stdout",
     "output_type": "stream",
     "text": [
      "No. of unique values: 17\n",
      "No.of Null Values: 0\n"
     ]
    },
    {
     "data": {
      "text/plain": [
       "'VAR_1058'"
      ]
     },
     "execution_count": 74,
     "metadata": {},
     "output_type": "execute_result"
    },
    {
     "name": "stdout",
     "output_type": "stream",
     "text": [
      "No. of unique values: 17\n",
      "No.of Null Values: 0\n"
     ]
    },
    {
     "data": {
      "text/plain": [
       "'VAR_1059'"
      ]
     },
     "execution_count": 74,
     "metadata": {},
     "output_type": "execute_result"
    },
    {
     "name": "stdout",
     "output_type": "stream",
     "text": [
      "No. of unique values: 17\n",
      "No.of Null Values: 0\n"
     ]
    },
    {
     "data": {
      "text/plain": [
       "'VAR_1060'"
      ]
     },
     "execution_count": 74,
     "metadata": {},
     "output_type": "execute_result"
    },
    {
     "name": "stdout",
     "output_type": "stream",
     "text": [
      "No. of unique values: 18\n",
      "No.of Null Values: 0\n"
     ]
    },
    {
     "data": {
      "text/plain": [
       "'VAR_1061'"
      ]
     },
     "execution_count": 74,
     "metadata": {},
     "output_type": "execute_result"
    },
    {
     "name": "stdout",
     "output_type": "stream",
     "text": [
      "No. of unique values: 17\n",
      "No.of Null Values: 0\n"
     ]
    },
    {
     "data": {
      "text/plain": [
       "'VAR_1062'"
      ]
     },
     "execution_count": 74,
     "metadata": {},
     "output_type": "execute_result"
    },
    {
     "name": "stdout",
     "output_type": "stream",
     "text": [
      "No. of unique values: 17\n",
      "No.of Null Values: 0\n"
     ]
    },
    {
     "data": {
      "text/plain": [
       "'VAR_1063'"
      ]
     },
     "execution_count": 74,
     "metadata": {},
     "output_type": "execute_result"
    },
    {
     "name": "stdout",
     "output_type": "stream",
     "text": [
      "No. of unique values: 17\n",
      "No.of Null Values: 0\n"
     ]
    },
    {
     "data": {
      "text/plain": [
       "'VAR_1064'"
      ]
     },
     "execution_count": 74,
     "metadata": {},
     "output_type": "execute_result"
    },
    {
     "name": "stdout",
     "output_type": "stream",
     "text": [
      "No. of unique values: 24\n",
      "No.of Null Values: 0\n"
     ]
    },
    {
     "data": {
      "text/plain": [
       "'VAR_1065'"
      ]
     },
     "execution_count": 74,
     "metadata": {},
     "output_type": "execute_result"
    },
    {
     "name": "stdout",
     "output_type": "stream",
     "text": [
      "No. of unique values: 22\n",
      "No.of Null Values: 0\n"
     ]
    },
    {
     "data": {
      "text/plain": [
       "'VAR_1066'"
      ]
     },
     "execution_count": 74,
     "metadata": {},
     "output_type": "execute_result"
    },
    {
     "name": "stdout",
     "output_type": "stream",
     "text": [
      "No. of unique values: 23\n",
      "No.of Null Values: 0\n"
     ]
    },
    {
     "data": {
      "text/plain": [
       "'VAR_1067'"
      ]
     },
     "execution_count": 74,
     "metadata": {},
     "output_type": "execute_result"
    },
    {
     "name": "stdout",
     "output_type": "stream",
     "text": [
      "No. of unique values: 24\n",
      "No.of Null Values: 0\n"
     ]
    },
    {
     "data": {
      "text/plain": [
       "'VAR_1068'"
      ]
     },
     "execution_count": 74,
     "metadata": {},
     "output_type": "execute_result"
    },
    {
     "name": "stdout",
     "output_type": "stream",
     "text": [
      "No. of unique values: 27\n",
      "No.of Null Values: 0\n"
     ]
    },
    {
     "data": {
      "text/plain": [
       "'VAR_1069'"
      ]
     },
     "execution_count": 74,
     "metadata": {},
     "output_type": "execute_result"
    },
    {
     "name": "stdout",
     "output_type": "stream",
     "text": [
      "No. of unique values: 24\n",
      "No.of Null Values: 0\n"
     ]
    },
    {
     "data": {
      "text/plain": [
       "'VAR_1070'"
      ]
     },
     "execution_count": 74,
     "metadata": {},
     "output_type": "execute_result"
    },
    {
     "name": "stdout",
     "output_type": "stream",
     "text": [
      "No. of unique values: 25\n",
      "No.of Null Values: 0\n"
     ]
    },
    {
     "data": {
      "text/plain": [
       "'VAR_1071'"
      ]
     },
     "execution_count": 74,
     "metadata": {},
     "output_type": "execute_result"
    },
    {
     "name": "stdout",
     "output_type": "stream",
     "text": [
      "No. of unique values: 27\n",
      "No.of Null Values: 0\n"
     ]
    },
    {
     "data": {
      "text/plain": [
       "'VAR_1072'"
      ]
     },
     "execution_count": 74,
     "metadata": {},
     "output_type": "execute_result"
    },
    {
     "name": "stdout",
     "output_type": "stream",
     "text": [
      "No. of unique values: 48\n",
      "No.of Null Values: 0\n"
     ]
    },
    {
     "data": {
      "text/plain": [
       "'VAR_1073'"
      ]
     },
     "execution_count": 74,
     "metadata": {},
     "output_type": "execute_result"
    },
    {
     "name": "stdout",
     "output_type": "stream",
     "text": [
      "No. of unique values: 26\n",
      "No.of Null Values: 0\n"
     ]
    },
    {
     "data": {
      "text/plain": [
       "'VAR_1074'"
      ]
     },
     "execution_count": 74,
     "metadata": {},
     "output_type": "execute_result"
    },
    {
     "name": "stdout",
     "output_type": "stream",
     "text": [
      "No. of unique values: 49\n",
      "No.of Null Values: 0\n"
     ]
    },
    {
     "data": {
      "text/plain": [
       "'VAR_1075'"
      ]
     },
     "execution_count": 74,
     "metadata": {},
     "output_type": "execute_result"
    },
    {
     "name": "stdout",
     "output_type": "stream",
     "text": [
      "No. of unique values: 73\n",
      "No.of Null Values: 0\n"
     ]
    },
    {
     "data": {
      "text/plain": [
       "'VAR_1076'"
      ]
     },
     "execution_count": 74,
     "metadata": {},
     "output_type": "execute_result"
    },
    {
     "name": "stdout",
     "output_type": "stream",
     "text": [
      "No. of unique values: 35\n",
      "No.of Null Values: 0\n"
     ]
    },
    {
     "data": {
      "text/plain": [
       "'VAR_1077'"
      ]
     },
     "execution_count": 74,
     "metadata": {},
     "output_type": "execute_result"
    },
    {
     "name": "stdout",
     "output_type": "stream",
     "text": [
      "No. of unique values: 52\n",
      "No.of Null Values: 0\n"
     ]
    },
    {
     "data": {
      "text/plain": [
       "'VAR_1078'"
      ]
     },
     "execution_count": 74,
     "metadata": {},
     "output_type": "execute_result"
    },
    {
     "name": "stdout",
     "output_type": "stream",
     "text": [
      "No. of unique values: 78\n",
      "No.of Null Values: 0\n"
     ]
    },
    {
     "data": {
      "text/plain": [
       "'VAR_1079'"
      ]
     },
     "execution_count": 74,
     "metadata": {},
     "output_type": "execute_result"
    },
    {
     "name": "stdout",
     "output_type": "stream",
     "text": [
      "No. of unique values: 99\n",
      "No.of Null Values: 0\n"
     ]
    },
    {
     "data": {
      "text/plain": [
       "'VAR_1080'"
      ]
     },
     "execution_count": 74,
     "metadata": {},
     "output_type": "execute_result"
    },
    {
     "name": "stdout",
     "output_type": "stream",
     "text": [
      "No. of unique values: 28\n",
      "No.of Null Values: 0\n"
     ]
    },
    {
     "data": {
      "text/plain": [
       "'VAR_1081'"
      ]
     },
     "execution_count": 74,
     "metadata": {},
     "output_type": "execute_result"
    },
    {
     "name": "stdout",
     "output_type": "stream",
     "text": [
      "No. of unique values: 75383\n",
      "No.of Null Values: 0\n"
     ]
    },
    {
     "data": {
      "text/plain": [
       "'VAR_1082'"
      ]
     },
     "execution_count": 74,
     "metadata": {},
     "output_type": "execute_result"
    },
    {
     "name": "stdout",
     "output_type": "stream",
     "text": [
      "No. of unique values: 75972\n",
      "No.of Null Values: 0\n"
     ]
    },
    {
     "data": {
      "text/plain": [
       "'VAR_1083'"
      ]
     },
     "execution_count": 74,
     "metadata": {},
     "output_type": "execute_result"
    },
    {
     "name": "stdout",
     "output_type": "stream",
     "text": [
      "No. of unique values: 9538\n",
      "No.of Null Values: 0\n"
     ]
    },
    {
     "data": {
      "text/plain": [
       "'VAR_1084'"
      ]
     },
     "execution_count": 74,
     "metadata": {},
     "output_type": "execute_result"
    },
    {
     "name": "stdout",
     "output_type": "stream",
     "text": [
      "No. of unique values: 4668\n",
      "No.of Null Values: 0\n"
     ]
    },
    {
     "data": {
      "text/plain": [
       "'VAR_1085'"
      ]
     },
     "execution_count": 74,
     "metadata": {},
     "output_type": "execute_result"
    },
    {
     "name": "stdout",
     "output_type": "stream",
     "text": [
      "No. of unique values: 8151\n",
      "No.of Null Values: 0\n"
     ]
    },
    {
     "data": {
      "text/plain": [
       "'VAR_1086'"
      ]
     },
     "execution_count": 74,
     "metadata": {},
     "output_type": "execute_result"
    },
    {
     "name": "stdout",
     "output_type": "stream",
     "text": [
      "No. of unique values: 8105\n",
      "No.of Null Values: 0\n"
     ]
    },
    {
     "data": {
      "text/plain": [
       "'VAR_1087'"
      ]
     },
     "execution_count": 74,
     "metadata": {},
     "output_type": "execute_result"
    },
    {
     "name": "stdout",
     "output_type": "stream",
     "text": [
      "No. of unique values: 79850\n",
      "No.of Null Values: 0\n"
     ]
    },
    {
     "data": {
      "text/plain": [
       "'VAR_1088'"
      ]
     },
     "execution_count": 74,
     "metadata": {},
     "output_type": "execute_result"
    },
    {
     "name": "stdout",
     "output_type": "stream",
     "text": [
      "No. of unique values: 38228\n",
      "No.of Null Values: 0\n"
     ]
    },
    {
     "data": {
      "text/plain": [
       "'VAR_1089'"
      ]
     },
     "execution_count": 74,
     "metadata": {},
     "output_type": "execute_result"
    },
    {
     "name": "stdout",
     "output_type": "stream",
     "text": [
      "No. of unique values: 25275\n",
      "No.of Null Values: 0\n"
     ]
    },
    {
     "data": {
      "text/plain": [
       "'VAR_1090'"
      ]
     },
     "execution_count": 74,
     "metadata": {},
     "output_type": "execute_result"
    },
    {
     "name": "stdout",
     "output_type": "stream",
     "text": [
      "No. of unique values: 2490\n",
      "No.of Null Values: 0\n"
     ]
    },
    {
     "data": {
      "text/plain": [
       "'VAR_1091'"
      ]
     },
     "execution_count": 74,
     "metadata": {},
     "output_type": "execute_result"
    },
    {
     "name": "stdout",
     "output_type": "stream",
     "text": [
      "No. of unique values: 2120\n",
      "No.of Null Values: 0\n"
     ]
    },
    {
     "data": {
      "text/plain": [
       "'VAR_1092'"
      ]
     },
     "execution_count": 74,
     "metadata": {},
     "output_type": "execute_result"
    },
    {
     "name": "stdout",
     "output_type": "stream",
     "text": [
      "No. of unique values: 4733\n",
      "No.of Null Values: 0\n"
     ]
    },
    {
     "data": {
      "text/plain": [
       "'VAR_1093'"
      ]
     },
     "execution_count": 74,
     "metadata": {},
     "output_type": "execute_result"
    },
    {
     "name": "stdout",
     "output_type": "stream",
     "text": [
      "No. of unique values: 4714\n",
      "No.of Null Values: 0\n"
     ]
    },
    {
     "data": {
      "text/plain": [
       "'VAR_1094'"
      ]
     },
     "execution_count": 74,
     "metadata": {},
     "output_type": "execute_result"
    },
    {
     "name": "stdout",
     "output_type": "stream",
     "text": [
      "No. of unique values: 5210\n",
      "No.of Null Values: 0\n"
     ]
    },
    {
     "data": {
      "text/plain": [
       "'VAR_1095'"
      ]
     },
     "execution_count": 74,
     "metadata": {},
     "output_type": "execute_result"
    },
    {
     "name": "stdout",
     "output_type": "stream",
     "text": [
      "No. of unique values: 5209\n",
      "No.of Null Values: 0\n"
     ]
    },
    {
     "data": {
      "text/plain": [
       "'VAR_1096'"
      ]
     },
     "execution_count": 74,
     "metadata": {},
     "output_type": "execute_result"
    },
    {
     "name": "stdout",
     "output_type": "stream",
     "text": [
      "No. of unique values: 5402\n",
      "No.of Null Values: 0\n"
     ]
    },
    {
     "data": {
      "text/plain": [
       "'VAR_1097'"
      ]
     },
     "execution_count": 74,
     "metadata": {},
     "output_type": "execute_result"
    },
    {
     "name": "stdout",
     "output_type": "stream",
     "text": [
      "No. of unique values: 5402\n",
      "No.of Null Values: 0\n"
     ]
    },
    {
     "data": {
      "text/plain": [
       "'VAR_1098'"
      ]
     },
     "execution_count": 74,
     "metadata": {},
     "output_type": "execute_result"
    },
    {
     "name": "stdout",
     "output_type": "stream",
     "text": [
      "No. of unique values: 8\n",
      "No.of Null Values: 0\n"
     ]
    },
    {
     "data": {
      "text/plain": [
       "'VAR_1099'"
      ]
     },
     "execution_count": 74,
     "metadata": {},
     "output_type": "execute_result"
    },
    {
     "name": "stdout",
     "output_type": "stream",
     "text": [
      "No. of unique values: 8\n",
      "No.of Null Values: 0\n"
     ]
    },
    {
     "data": {
      "text/plain": [
       "'VAR_1100'"
      ]
     },
     "execution_count": 74,
     "metadata": {},
     "output_type": "execute_result"
    },
    {
     "name": "stdout",
     "output_type": "stream",
     "text": [
      "No. of unique values: 8\n",
      "No.of Null Values: 0\n"
     ]
    },
    {
     "data": {
      "text/plain": [
       "'VAR_1101'"
      ]
     },
     "execution_count": 74,
     "metadata": {},
     "output_type": "execute_result"
    },
    {
     "name": "stdout",
     "output_type": "stream",
     "text": [
      "No. of unique values: 7\n",
      "No.of Null Values: 0\n"
     ]
    },
    {
     "data": {
      "text/plain": [
       "'VAR_1102'"
      ]
     },
     "execution_count": 74,
     "metadata": {},
     "output_type": "execute_result"
    },
    {
     "name": "stdout",
     "output_type": "stream",
     "text": [
      "No. of unique values: 8\n",
      "No.of Null Values: 0\n"
     ]
    },
    {
     "data": {
      "text/plain": [
       "'VAR_1103'"
      ]
     },
     "execution_count": 74,
     "metadata": {},
     "output_type": "execute_result"
    },
    {
     "name": "stdout",
     "output_type": "stream",
     "text": [
      "No. of unique values: 8\n",
      "No.of Null Values: 0\n"
     ]
    },
    {
     "data": {
      "text/plain": [
       "'VAR_1104'"
      ]
     },
     "execution_count": 74,
     "metadata": {},
     "output_type": "execute_result"
    },
    {
     "name": "stdout",
     "output_type": "stream",
     "text": [
      "No. of unique values: 8\n",
      "No.of Null Values: 0\n"
     ]
    },
    {
     "data": {
      "text/plain": [
       "'VAR_1105'"
      ]
     },
     "execution_count": 74,
     "metadata": {},
     "output_type": "execute_result"
    },
    {
     "name": "stdout",
     "output_type": "stream",
     "text": [
      "No. of unique values: 8\n",
      "No.of Null Values: 0\n"
     ]
    },
    {
     "data": {
      "text/plain": [
       "'VAR_1106'"
      ]
     },
     "execution_count": 74,
     "metadata": {},
     "output_type": "execute_result"
    },
    {
     "name": "stdout",
     "output_type": "stream",
     "text": [
      "No. of unique values: 9\n",
      "No.of Null Values: 0\n"
     ]
    },
    {
     "data": {
      "text/plain": [
       "'VAR_1107'"
      ]
     },
     "execution_count": 74,
     "metadata": {},
     "output_type": "execute_result"
    },
    {
     "name": "stdout",
     "output_type": "stream",
     "text": [
      "No. of unique values: 9\n",
      "No.of Null Values: 0\n"
     ]
    },
    {
     "data": {
      "text/plain": [
       "'VAR_1108'"
      ]
     },
     "execution_count": 74,
     "metadata": {},
     "output_type": "execute_result"
    },
    {
     "name": "stdout",
     "output_type": "stream",
     "text": [
      "No. of unique values: 11\n",
      "No.of Null Values: 0\n"
     ]
    },
    {
     "data": {
      "text/plain": [
       "'VAR_1109'"
      ]
     },
     "execution_count": 74,
     "metadata": {},
     "output_type": "execute_result"
    },
    {
     "name": "stdout",
     "output_type": "stream",
     "text": [
      "No. of unique values: 11\n",
      "No.of Null Values: 0\n"
     ]
    },
    {
     "data": {
      "text/plain": [
       "'VAR_1110'"
      ]
     },
     "execution_count": 74,
     "metadata": {},
     "output_type": "execute_result"
    },
    {
     "name": "stdout",
     "output_type": "stream",
     "text": [
      "No. of unique values: 222\n",
      "No.of Null Values: 0\n"
     ]
    },
    {
     "data": {
      "text/plain": [
       "'VAR_1111'"
      ]
     },
     "execution_count": 74,
     "metadata": {},
     "output_type": "execute_result"
    },
    {
     "name": "stdout",
     "output_type": "stream",
     "text": [
      "No. of unique values: 135\n",
      "No.of Null Values: 0\n"
     ]
    },
    {
     "data": {
      "text/plain": [
       "'VAR_1112'"
      ]
     },
     "execution_count": 74,
     "metadata": {},
     "output_type": "execute_result"
    },
    {
     "name": "stdout",
     "output_type": "stream",
     "text": [
      "No. of unique values: 185\n",
      "No.of Null Values: 0\n"
     ]
    },
    {
     "data": {
      "text/plain": [
       "'VAR_1113'"
      ]
     },
     "execution_count": 74,
     "metadata": {},
     "output_type": "execute_result"
    },
    {
     "name": "stdout",
     "output_type": "stream",
     "text": [
      "No. of unique values: 211\n",
      "No.of Null Values: 0\n"
     ]
    },
    {
     "data": {
      "text/plain": [
       "'VAR_1114'"
      ]
     },
     "execution_count": 74,
     "metadata": {},
     "output_type": "execute_result"
    },
    {
     "name": "stdout",
     "output_type": "stream",
     "text": [
      "No. of unique values: 299\n",
      "No.of Null Values: 0\n"
     ]
    },
    {
     "data": {
      "text/plain": [
       "'VAR_1115'"
      ]
     },
     "execution_count": 74,
     "metadata": {},
     "output_type": "execute_result"
    },
    {
     "name": "stdout",
     "output_type": "stream",
     "text": [
      "No. of unique values: 105\n",
      "No.of Null Values: 0\n"
     ]
    },
    {
     "data": {
      "text/plain": [
       "'VAR_1116'"
      ]
     },
     "execution_count": 74,
     "metadata": {},
     "output_type": "execute_result"
    },
    {
     "name": "stdout",
     "output_type": "stream",
     "text": [
      "No. of unique values: 101\n",
      "No.of Null Values: 0\n"
     ]
    },
    {
     "data": {
      "text/plain": [
       "'VAR_1117'"
      ]
     },
     "execution_count": 74,
     "metadata": {},
     "output_type": "execute_result"
    },
    {
     "name": "stdout",
     "output_type": "stream",
     "text": [
      "No. of unique values: 101\n",
      "No.of Null Values: 0\n"
     ]
    },
    {
     "data": {
      "text/plain": [
       "'VAR_1118'"
      ]
     },
     "execution_count": 74,
     "metadata": {},
     "output_type": "execute_result"
    },
    {
     "name": "stdout",
     "output_type": "stream",
     "text": [
      "No. of unique values: 101\n",
      "No.of Null Values: 0\n"
     ]
    },
    {
     "data": {
      "text/plain": [
       "'VAR_1119'"
      ]
     },
     "execution_count": 74,
     "metadata": {},
     "output_type": "execute_result"
    },
    {
     "name": "stdout",
     "output_type": "stream",
     "text": [
      "No. of unique values: 101\n",
      "No.of Null Values: 0\n"
     ]
    },
    {
     "data": {
      "text/plain": [
       "'VAR_1120'"
      ]
     },
     "execution_count": 74,
     "metadata": {},
     "output_type": "execute_result"
    },
    {
     "name": "stdout",
     "output_type": "stream",
     "text": [
      "No. of unique values: 101\n",
      "No.of Null Values: 0\n"
     ]
    },
    {
     "data": {
      "text/plain": [
       "'VAR_1121'"
      ]
     },
     "execution_count": 74,
     "metadata": {},
     "output_type": "execute_result"
    },
    {
     "name": "stdout",
     "output_type": "stream",
     "text": [
      "No. of unique values: 101\n",
      "No.of Null Values: 0\n"
     ]
    },
    {
     "data": {
      "text/plain": [
       "'VAR_1122'"
      ]
     },
     "execution_count": 74,
     "metadata": {},
     "output_type": "execute_result"
    },
    {
     "name": "stdout",
     "output_type": "stream",
     "text": [
      "No. of unique values: 101\n",
      "No.of Null Values: 0\n"
     ]
    },
    {
     "data": {
      "text/plain": [
       "'VAR_1123'"
      ]
     },
     "execution_count": 74,
     "metadata": {},
     "output_type": "execute_result"
    },
    {
     "name": "stdout",
     "output_type": "stream",
     "text": [
      "No. of unique values: 101\n",
      "No.of Null Values: 0\n"
     ]
    },
    {
     "data": {
      "text/plain": [
       "'VAR_1124'"
      ]
     },
     "execution_count": 74,
     "metadata": {},
     "output_type": "execute_result"
    },
    {
     "name": "stdout",
     "output_type": "stream",
     "text": [
      "No. of unique values: 101\n",
      "No.of Null Values: 0\n"
     ]
    },
    {
     "data": {
      "text/plain": [
       "'VAR_1125'"
      ]
     },
     "execution_count": 74,
     "metadata": {},
     "output_type": "execute_result"
    },
    {
     "name": "stdout",
     "output_type": "stream",
     "text": [
      "No. of unique values: 101\n",
      "No.of Null Values: 0\n"
     ]
    },
    {
     "data": {
      "text/plain": [
       "'VAR_1126'"
      ]
     },
     "execution_count": 74,
     "metadata": {},
     "output_type": "execute_result"
    },
    {
     "name": "stdout",
     "output_type": "stream",
     "text": [
      "No. of unique values: 102\n",
      "No.of Null Values: 0\n"
     ]
    },
    {
     "data": {
      "text/plain": [
       "'VAR_1127'"
      ]
     },
     "execution_count": 74,
     "metadata": {},
     "output_type": "execute_result"
    },
    {
     "name": "stdout",
     "output_type": "stream",
     "text": [
      "No. of unique values: 99\n",
      "No.of Null Values: 0\n"
     ]
    },
    {
     "data": {
      "text/plain": [
       "'VAR_1128'"
      ]
     },
     "execution_count": 74,
     "metadata": {},
     "output_type": "execute_result"
    },
    {
     "name": "stdout",
     "output_type": "stream",
     "text": [
      "No. of unique values: 101\n",
      "No.of Null Values: 0\n"
     ]
    },
    {
     "data": {
      "text/plain": [
       "'VAR_1129'"
      ]
     },
     "execution_count": 74,
     "metadata": {},
     "output_type": "execute_result"
    },
    {
     "name": "stdout",
     "output_type": "stream",
     "text": [
      "No. of unique values: 102\n",
      "No.of Null Values: 0\n"
     ]
    },
    {
     "data": {
      "text/plain": [
       "'VAR_1130'"
      ]
     },
     "execution_count": 74,
     "metadata": {},
     "output_type": "execute_result"
    },
    {
     "name": "stdout",
     "output_type": "stream",
     "text": [
      "No. of unique values: 6266\n",
      "No.of Null Values: 0\n"
     ]
    },
    {
     "data": {
      "text/plain": [
       "'VAR_1131'"
      ]
     },
     "execution_count": 74,
     "metadata": {},
     "output_type": "execute_result"
    },
    {
     "name": "stdout",
     "output_type": "stream",
     "text": [
      "No. of unique values: 1904\n",
      "No.of Null Values: 0\n"
     ]
    },
    {
     "data": {
      "text/plain": [
       "'VAR_1132'"
      ]
     },
     "execution_count": 74,
     "metadata": {},
     "output_type": "execute_result"
    },
    {
     "name": "stdout",
     "output_type": "stream",
     "text": [
      "No. of unique values: 129\n",
      "No.of Null Values: 0\n"
     ]
    },
    {
     "data": {
      "text/plain": [
       "'VAR_1133'"
      ]
     },
     "execution_count": 74,
     "metadata": {},
     "output_type": "execute_result"
    },
    {
     "name": "stdout",
     "output_type": "stream",
     "text": [
      "No. of unique values: 180\n",
      "No.of Null Values: 0\n"
     ]
    },
    {
     "data": {
      "text/plain": [
       "'VAR_1134'"
      ]
     },
     "execution_count": 74,
     "metadata": {},
     "output_type": "execute_result"
    },
    {
     "name": "stdout",
     "output_type": "stream",
     "text": [
      "No. of unique values: 85\n",
      "No.of Null Values: 0\n"
     ]
    },
    {
     "data": {
      "text/plain": [
       "'VAR_1135'"
      ]
     },
     "execution_count": 74,
     "metadata": {},
     "output_type": "execute_result"
    },
    {
     "name": "stdout",
     "output_type": "stream",
     "text": [
      "No. of unique values: 85\n",
      "No.of Null Values: 0\n"
     ]
    },
    {
     "data": {
      "text/plain": [
       "'VAR_1136'"
      ]
     },
     "execution_count": 74,
     "metadata": {},
     "output_type": "execute_result"
    },
    {
     "name": "stdout",
     "output_type": "stream",
     "text": [
      "No. of unique values: 86\n",
      "No.of Null Values: 0\n"
     ]
    },
    {
     "data": {
      "text/plain": [
       "'VAR_1137'"
      ]
     },
     "execution_count": 74,
     "metadata": {},
     "output_type": "execute_result"
    },
    {
     "name": "stdout",
     "output_type": "stream",
     "text": [
      "No. of unique values: 85\n",
      "No.of Null Values: 0\n"
     ]
    },
    {
     "data": {
      "text/plain": [
       "'VAR_1138'"
      ]
     },
     "execution_count": 74,
     "metadata": {},
     "output_type": "execute_result"
    },
    {
     "name": "stdout",
     "output_type": "stream",
     "text": [
      "No. of unique values: 84\n",
      "No.of Null Values: 0\n"
     ]
    },
    {
     "data": {
      "text/plain": [
       "'VAR_1139'"
      ]
     },
     "execution_count": 74,
     "metadata": {},
     "output_type": "execute_result"
    },
    {
     "name": "stdout",
     "output_type": "stream",
     "text": [
      "No. of unique values: 86\n",
      "No.of Null Values: 0\n"
     ]
    },
    {
     "data": {
      "text/plain": [
       "'VAR_1140'"
      ]
     },
     "execution_count": 74,
     "metadata": {},
     "output_type": "execute_result"
    },
    {
     "name": "stdout",
     "output_type": "stream",
     "text": [
      "No. of unique values: 84\n",
      "No.of Null Values: 0\n"
     ]
    },
    {
     "data": {
      "text/plain": [
       "'VAR_1141'"
      ]
     },
     "execution_count": 74,
     "metadata": {},
     "output_type": "execute_result"
    },
    {
     "name": "stdout",
     "output_type": "stream",
     "text": [
      "No. of unique values: 84\n",
      "No.of Null Values: 0\n"
     ]
    },
    {
     "data": {
      "text/plain": [
       "'VAR_1142'"
      ]
     },
     "execution_count": 74,
     "metadata": {},
     "output_type": "execute_result"
    },
    {
     "name": "stdout",
     "output_type": "stream",
     "text": [
      "No. of unique values: 85\n",
      "No.of Null Values: 0\n"
     ]
    },
    {
     "data": {
      "text/plain": [
       "'VAR_1143'"
      ]
     },
     "execution_count": 74,
     "metadata": {},
     "output_type": "execute_result"
    },
    {
     "name": "stdout",
     "output_type": "stream",
     "text": [
      "No. of unique values: 149\n",
      "No.of Null Values: 0\n"
     ]
    },
    {
     "data": {
      "text/plain": [
       "'VAR_1144'"
      ]
     },
     "execution_count": 74,
     "metadata": {},
     "output_type": "execute_result"
    },
    {
     "name": "stdout",
     "output_type": "stream",
     "text": [
      "No. of unique values: 651\n",
      "No.of Null Values: 0\n"
     ]
    },
    {
     "data": {
      "text/plain": [
       "'VAR_1145'"
      ]
     },
     "execution_count": 74,
     "metadata": {},
     "output_type": "execute_result"
    },
    {
     "name": "stdout",
     "output_type": "stream",
     "text": [
      "No. of unique values: 647\n",
      "No.of Null Values: 0\n"
     ]
    },
    {
     "data": {
      "text/plain": [
       "'VAR_1146'"
      ]
     },
     "execution_count": 74,
     "metadata": {},
     "output_type": "execute_result"
    },
    {
     "name": "stdout",
     "output_type": "stream",
     "text": [
      "No. of unique values: 551\n",
      "No.of Null Values: 0\n"
     ]
    },
    {
     "data": {
      "text/plain": [
       "'VAR_1147'"
      ]
     },
     "execution_count": 74,
     "metadata": {},
     "output_type": "execute_result"
    },
    {
     "name": "stdout",
     "output_type": "stream",
     "text": [
      "No. of unique values: 639\n",
      "No.of Null Values: 0\n"
     ]
    },
    {
     "data": {
      "text/plain": [
       "'VAR_1148'"
      ]
     },
     "execution_count": 74,
     "metadata": {},
     "output_type": "execute_result"
    },
    {
     "name": "stdout",
     "output_type": "stream",
     "text": [
      "No. of unique values: 277\n",
      "No.of Null Values: 0\n"
     ]
    },
    {
     "data": {
      "text/plain": [
       "'VAR_1149'"
      ]
     },
     "execution_count": 74,
     "metadata": {},
     "output_type": "execute_result"
    },
    {
     "name": "stdout",
     "output_type": "stream",
     "text": [
      "No. of unique values: 312\n",
      "No.of Null Values: 0\n"
     ]
    },
    {
     "data": {
      "text/plain": [
       "'VAR_1150'"
      ]
     },
     "execution_count": 74,
     "metadata": {},
     "output_type": "execute_result"
    },
    {
     "name": "stdout",
     "output_type": "stream",
     "text": [
      "No. of unique values: 375\n",
      "No.of Null Values: 0\n"
     ]
    },
    {
     "data": {
      "text/plain": [
       "'VAR_1151'"
      ]
     },
     "execution_count": 74,
     "metadata": {},
     "output_type": "execute_result"
    },
    {
     "name": "stdout",
     "output_type": "stream",
     "text": [
      "No. of unique values: 86\n",
      "No.of Null Values: 0\n"
     ]
    },
    {
     "data": {
      "text/plain": [
       "'VAR_1152'"
      ]
     },
     "execution_count": 74,
     "metadata": {},
     "output_type": "execute_result"
    },
    {
     "name": "stdout",
     "output_type": "stream",
     "text": [
      "No. of unique values: 86\n",
      "No.of Null Values: 0\n"
     ]
    },
    {
     "data": {
      "text/plain": [
       "'VAR_1153'"
      ]
     },
     "execution_count": 74,
     "metadata": {},
     "output_type": "execute_result"
    },
    {
     "name": "stdout",
     "output_type": "stream",
     "text": [
      "No. of unique values: 86\n",
      "No.of Null Values: 0\n"
     ]
    },
    {
     "data": {
      "text/plain": [
       "'VAR_1154'"
      ]
     },
     "execution_count": 74,
     "metadata": {},
     "output_type": "execute_result"
    },
    {
     "name": "stdout",
     "output_type": "stream",
     "text": [
      "No. of unique values: 254\n",
      "No.of Null Values: 0\n"
     ]
    },
    {
     "data": {
      "text/plain": [
       "'VAR_1155'"
      ]
     },
     "execution_count": 74,
     "metadata": {},
     "output_type": "execute_result"
    },
    {
     "name": "stdout",
     "output_type": "stream",
     "text": [
      "No. of unique values: 30\n",
      "No.of Null Values: 0\n"
     ]
    },
    {
     "data": {
      "text/plain": [
       "'VAR_1156'"
      ]
     },
     "execution_count": 74,
     "metadata": {},
     "output_type": "execute_result"
    },
    {
     "name": "stdout",
     "output_type": "stream",
     "text": [
      "No. of unique values: 120\n",
      "No.of Null Values: 0\n"
     ]
    },
    {
     "data": {
      "text/plain": [
       "'VAR_1157'"
      ]
     },
     "execution_count": 74,
     "metadata": {},
     "output_type": "execute_result"
    },
    {
     "name": "stdout",
     "output_type": "stream",
     "text": [
      "No. of unique values: 210\n",
      "No.of Null Values: 0\n"
     ]
    },
    {
     "data": {
      "text/plain": [
       "'VAR_1158'"
      ]
     },
     "execution_count": 74,
     "metadata": {},
     "output_type": "execute_result"
    },
    {
     "name": "stdout",
     "output_type": "stream",
     "text": [
      "No. of unique values: 29\n",
      "No.of Null Values: 0\n"
     ]
    },
    {
     "data": {
      "text/plain": [
       "'VAR_1159'"
      ]
     },
     "execution_count": 74,
     "metadata": {},
     "output_type": "execute_result"
    },
    {
     "name": "stdout",
     "output_type": "stream",
     "text": [
      "No. of unique values: 117\n",
      "No.of Null Values: 0\n"
     ]
    },
    {
     "data": {
      "text/plain": [
       "'VAR_1160'"
      ]
     },
     "execution_count": 74,
     "metadata": {},
     "output_type": "execute_result"
    },
    {
     "name": "stdout",
     "output_type": "stream",
     "text": [
      "No. of unique values: 206\n",
      "No.of Null Values: 0\n"
     ]
    },
    {
     "data": {
      "text/plain": [
       "'VAR_1161'"
      ]
     },
     "execution_count": 74,
     "metadata": {},
     "output_type": "execute_result"
    },
    {
     "name": "stdout",
     "output_type": "stream",
     "text": [
      "No. of unique values: 30\n",
      "No.of Null Values: 0\n"
     ]
    },
    {
     "data": {
      "text/plain": [
       "'VAR_1162'"
      ]
     },
     "execution_count": 74,
     "metadata": {},
     "output_type": "execute_result"
    },
    {
     "name": "stdout",
     "output_type": "stream",
     "text": [
      "No. of unique values: 2\n",
      "No.of Null Values: 0\n"
     ]
    },
    {
     "data": {
      "text/plain": [
       "'VAR_1163'"
      ]
     },
     "execution_count": 74,
     "metadata": {},
     "output_type": "execute_result"
    },
    {
     "name": "stdout",
     "output_type": "stream",
     "text": [
      "No. of unique values: 2\n",
      "No.of Null Values: 0\n"
     ]
    },
    {
     "data": {
      "text/plain": [
       "'VAR_1164'"
      ]
     },
     "execution_count": 74,
     "metadata": {},
     "output_type": "execute_result"
    },
    {
     "name": "stdout",
     "output_type": "stream",
     "text": [
      "No. of unique values: 2\n",
      "No.of Null Values: 0\n"
     ]
    },
    {
     "data": {
      "text/plain": [
       "'VAR_1165'"
      ]
     },
     "execution_count": 74,
     "metadata": {},
     "output_type": "execute_result"
    },
    {
     "name": "stdout",
     "output_type": "stream",
     "text": [
      "No. of unique values: 2\n",
      "No.of Null Values: 0\n"
     ]
    },
    {
     "data": {
      "text/plain": [
       "'VAR_1166'"
      ]
     },
     "execution_count": 74,
     "metadata": {},
     "output_type": "execute_result"
    },
    {
     "name": "stdout",
     "output_type": "stream",
     "text": [
      "No. of unique values: 16\n",
      "No.of Null Values: 0\n"
     ]
    },
    {
     "data": {
      "text/plain": [
       "'VAR_1167'"
      ]
     },
     "execution_count": 74,
     "metadata": {},
     "output_type": "execute_result"
    },
    {
     "name": "stdout",
     "output_type": "stream",
     "text": [
      "No. of unique values: 30\n",
      "No.of Null Values: 0\n"
     ]
    },
    {
     "data": {
      "text/plain": [
       "'VAR_1168'"
      ]
     },
     "execution_count": 74,
     "metadata": {},
     "output_type": "execute_result"
    },
    {
     "name": "stdout",
     "output_type": "stream",
     "text": [
      "No. of unique values: 22\n",
      "No.of Null Values: 0\n"
     ]
    },
    {
     "data": {
      "text/plain": [
       "'VAR_1169'"
      ]
     },
     "execution_count": 74,
     "metadata": {},
     "output_type": "execute_result"
    },
    {
     "name": "stdout",
     "output_type": "stream",
     "text": [
      "No. of unique values: 167\n",
      "No.of Null Values: 0\n"
     ]
    },
    {
     "data": {
      "text/plain": [
       "'VAR_1170'"
      ]
     },
     "execution_count": 74,
     "metadata": {},
     "output_type": "execute_result"
    },
    {
     "name": "stdout",
     "output_type": "stream",
     "text": [
      "No. of unique values: 183\n",
      "No.of Null Values: 0\n"
     ]
    },
    {
     "data": {
      "text/plain": [
       "'VAR_1171'"
      ]
     },
     "execution_count": 74,
     "metadata": {},
     "output_type": "execute_result"
    },
    {
     "name": "stdout",
     "output_type": "stream",
     "text": [
      "No. of unique values: 120\n",
      "No.of Null Values: 0\n"
     ]
    },
    {
     "data": {
      "text/plain": [
       "'VAR_1172'"
      ]
     },
     "execution_count": 74,
     "metadata": {},
     "output_type": "execute_result"
    },
    {
     "name": "stdout",
     "output_type": "stream",
     "text": [
      "No. of unique values: 118\n",
      "No.of Null Values: 0\n"
     ]
    },
    {
     "data": {
      "text/plain": [
       "'VAR_1173'"
      ]
     },
     "execution_count": 74,
     "metadata": {},
     "output_type": "execute_result"
    },
    {
     "name": "stdout",
     "output_type": "stream",
     "text": [
      "No. of unique values: 121\n",
      "No.of Null Values: 0\n"
     ]
    },
    {
     "data": {
      "text/plain": [
       "'VAR_1174'"
      ]
     },
     "execution_count": 74,
     "metadata": {},
     "output_type": "execute_result"
    },
    {
     "name": "stdout",
     "output_type": "stream",
     "text": [
      "No. of unique values: 4310\n",
      "No.of Null Values: 0\n"
     ]
    },
    {
     "data": {
      "text/plain": [
       "'VAR_1175'"
      ]
     },
     "execution_count": 74,
     "metadata": {},
     "output_type": "execute_result"
    },
    {
     "name": "stdout",
     "output_type": "stream",
     "text": [
      "No. of unique values: 3\n",
      "No.of Null Values: 0\n"
     ]
    },
    {
     "data": {
      "text/plain": [
       "'VAR_1176'"
      ]
     },
     "execution_count": 74,
     "metadata": {},
     "output_type": "execute_result"
    },
    {
     "name": "stdout",
     "output_type": "stream",
     "text": [
      "No. of unique values: 3\n",
      "No.of Null Values: 0\n"
     ]
    },
    {
     "data": {
      "text/plain": [
       "'VAR_1177'"
      ]
     },
     "execution_count": 74,
     "metadata": {},
     "output_type": "execute_result"
    },
    {
     "name": "stdout",
     "output_type": "stream",
     "text": [
      "No. of unique values: 21\n",
      "No.of Null Values: 0\n"
     ]
    },
    {
     "data": {
      "text/plain": [
       "'VAR_1178'"
      ]
     },
     "execution_count": 74,
     "metadata": {},
     "output_type": "execute_result"
    },
    {
     "name": "stdout",
     "output_type": "stream",
     "text": [
      "No. of unique values: 49\n",
      "No.of Null Values: 0\n"
     ]
    },
    {
     "data": {
      "text/plain": [
       "'VAR_1179'"
      ]
     },
     "execution_count": 74,
     "metadata": {},
     "output_type": "execute_result"
    },
    {
     "name": "stdout",
     "output_type": "stream",
     "text": [
      "No. of unique values: 75062\n",
      "No.of Null Values: 0\n"
     ]
    },
    {
     "data": {
      "text/plain": [
       "'VAR_1180'"
      ]
     },
     "execution_count": 74,
     "metadata": {},
     "output_type": "execute_result"
    },
    {
     "name": "stdout",
     "output_type": "stream",
     "text": [
      "No. of unique values: 75583\n",
      "No.of Null Values: 0\n"
     ]
    },
    {
     "data": {
      "text/plain": [
       "'VAR_1181'"
      ]
     },
     "execution_count": 74,
     "metadata": {},
     "output_type": "execute_result"
    },
    {
     "name": "stdout",
     "output_type": "stream",
     "text": [
      "No. of unique values: 71090\n",
      "No.of Null Values: 0\n"
     ]
    },
    {
     "data": {
      "text/plain": [
       "'VAR_1182'"
      ]
     },
     "execution_count": 74,
     "metadata": {},
     "output_type": "execute_result"
    },
    {
     "name": "stdout",
     "output_type": "stream",
     "text": [
      "No. of unique values: 5334\n",
      "No.of Null Values: 0\n"
     ]
    },
    {
     "data": {
      "text/plain": [
       "'VAR_1183'"
      ]
     },
     "execution_count": 74,
     "metadata": {},
     "output_type": "execute_result"
    },
    {
     "name": "stdout",
     "output_type": "stream",
     "text": [
      "No. of unique values: 4649\n",
      "No.of Null Values: 0\n"
     ]
    },
    {
     "data": {
      "text/plain": [
       "'VAR_1184'"
      ]
     },
     "execution_count": 74,
     "metadata": {},
     "output_type": "execute_result"
    },
    {
     "name": "stdout",
     "output_type": "stream",
     "text": [
      "No. of unique values: 645\n",
      "No.of Null Values: 0\n"
     ]
    },
    {
     "data": {
      "text/plain": [
       "'VAR_1185'"
      ]
     },
     "execution_count": 74,
     "metadata": {},
     "output_type": "execute_result"
    },
    {
     "name": "stdout",
     "output_type": "stream",
     "text": [
      "No. of unique values: 34\n",
      "No.of Null Values: 0\n"
     ]
    },
    {
     "data": {
      "text/plain": [
       "'VAR_1186'"
      ]
     },
     "execution_count": 74,
     "metadata": {},
     "output_type": "execute_result"
    },
    {
     "name": "stdout",
     "output_type": "stream",
     "text": [
      "No. of unique values: 10\n",
      "No.of Null Values: 0\n"
     ]
    },
    {
     "data": {
      "text/plain": [
       "'VAR_1187'"
      ]
     },
     "execution_count": 74,
     "metadata": {},
     "output_type": "execute_result"
    },
    {
     "name": "stdout",
     "output_type": "stream",
     "text": [
      "No. of unique values: 5\n",
      "No.of Null Values: 0\n"
     ]
    },
    {
     "data": {
      "text/plain": [
       "'VAR_1188'"
      ]
     },
     "execution_count": 74,
     "metadata": {},
     "output_type": "execute_result"
    },
    {
     "name": "stdout",
     "output_type": "stream",
     "text": [
      "No. of unique values: 8\n",
      "No.of Null Values: 0\n"
     ]
    },
    {
     "data": {
      "text/plain": [
       "'VAR_1189'"
      ]
     },
     "execution_count": 74,
     "metadata": {},
     "output_type": "execute_result"
    },
    {
     "name": "stdout",
     "output_type": "stream",
     "text": [
      "No. of unique values: 9\n",
      "No.of Null Values: 0\n"
     ]
    },
    {
     "data": {
      "text/plain": [
       "'VAR_1190'"
      ]
     },
     "execution_count": 74,
     "metadata": {},
     "output_type": "execute_result"
    },
    {
     "name": "stdout",
     "output_type": "stream",
     "text": [
      "No. of unique values: 10\n",
      "No.of Null Values: 0\n"
     ]
    },
    {
     "data": {
      "text/plain": [
       "'VAR_1191'"
      ]
     },
     "execution_count": 74,
     "metadata": {},
     "output_type": "execute_result"
    },
    {
     "name": "stdout",
     "output_type": "stream",
     "text": [
      "No. of unique values: 35\n",
      "No.of Null Values: 0\n"
     ]
    },
    {
     "data": {
      "text/plain": [
       "'VAR_1192'"
      ]
     },
     "execution_count": 74,
     "metadata": {},
     "output_type": "execute_result"
    },
    {
     "name": "stdout",
     "output_type": "stream",
     "text": [
      "No. of unique values: 19\n",
      "No.of Null Values: 0\n"
     ]
    },
    {
     "data": {
      "text/plain": [
       "'VAR_1193'"
      ]
     },
     "execution_count": 74,
     "metadata": {},
     "output_type": "execute_result"
    },
    {
     "name": "stdout",
     "output_type": "stream",
     "text": [
      "No. of unique values: 13\n",
      "No.of Null Values: 0\n"
     ]
    },
    {
     "data": {
      "text/plain": [
       "'VAR_1194'"
      ]
     },
     "execution_count": 74,
     "metadata": {},
     "output_type": "execute_result"
    },
    {
     "name": "stdout",
     "output_type": "stream",
     "text": [
      "No. of unique values: 11\n",
      "No.of Null Values: 0\n"
     ]
    },
    {
     "data": {
      "text/plain": [
       "'VAR_1195'"
      ]
     },
     "execution_count": 74,
     "metadata": {},
     "output_type": "execute_result"
    },
    {
     "name": "stdout",
     "output_type": "stream",
     "text": [
      "No. of unique values: 12\n",
      "No.of Null Values: 0\n"
     ]
    },
    {
     "data": {
      "text/plain": [
       "'VAR_1196'"
      ]
     },
     "execution_count": 74,
     "metadata": {},
     "output_type": "execute_result"
    },
    {
     "name": "stdout",
     "output_type": "stream",
     "text": [
      "No. of unique values: 10\n",
      "No.of Null Values: 0\n"
     ]
    },
    {
     "data": {
      "text/plain": [
       "'VAR_1197'"
      ]
     },
     "execution_count": 74,
     "metadata": {},
     "output_type": "execute_result"
    },
    {
     "name": "stdout",
     "output_type": "stream",
     "text": [
      "No. of unique values: 10\n",
      "No.of Null Values: 0\n"
     ]
    },
    {
     "data": {
      "text/plain": [
       "'VAR_1198'"
      ]
     },
     "execution_count": 74,
     "metadata": {},
     "output_type": "execute_result"
    },
    {
     "name": "stdout",
     "output_type": "stream",
     "text": [
      "No. of unique values: 11\n",
      "No.of Null Values: 0\n"
     ]
    },
    {
     "data": {
      "text/plain": [
       "'VAR_1199'"
      ]
     },
     "execution_count": 74,
     "metadata": {},
     "output_type": "execute_result"
    },
    {
     "name": "stdout",
     "output_type": "stream",
     "text": [
      "No. of unique values: 33954\n",
      "No.of Null Values: 0\n"
     ]
    },
    {
     "data": {
      "text/plain": [
       "'VAR_1200'"
      ]
     },
     "execution_count": 74,
     "metadata": {},
     "output_type": "execute_result"
    },
    {
     "name": "stdout",
     "output_type": "stream",
     "text": [
      "No. of unique values: 36325\n",
      "No.of Null Values: 0\n"
     ]
    },
    {
     "data": {
      "text/plain": [
       "'VAR_1201'"
      ]
     },
     "execution_count": 74,
     "metadata": {},
     "output_type": "execute_result"
    },
    {
     "name": "stdout",
     "output_type": "stream",
     "text": [
      "No. of unique values: 36967\n",
      "No.of Null Values: 0\n"
     ]
    },
    {
     "data": {
      "text/plain": [
       "'VAR_1202'"
      ]
     },
     "execution_count": 74,
     "metadata": {},
     "output_type": "execute_result"
    },
    {
     "name": "stdout",
     "output_type": "stream",
     "text": [
      "No. of unique values: 30630\n",
      "No.of Null Values: 0\n"
     ]
    },
    {
     "data": {
      "text/plain": [
       "'VAR_1203'"
      ]
     },
     "execution_count": 74,
     "metadata": {},
     "output_type": "execute_result"
    },
    {
     "name": "stdout",
     "output_type": "stream",
     "text": [
      "No. of unique values: 29201\n",
      "No.of Null Values: 0\n"
     ]
    },
    {
     "data": {
      "text/plain": [
       "'VAR_1204'"
      ]
     },
     "execution_count": 74,
     "metadata": {},
     "output_type": "execute_result"
    },
    {
     "name": "stdout",
     "output_type": "stream",
     "text": [
      "No. of unique values: 2000\n",
      "No.of Null Values: 0\n"
     ]
    },
    {
     "data": {
      "text/plain": [
       "'VAR_1205'"
      ]
     },
     "execution_count": 74,
     "metadata": {},
     "output_type": "execute_result"
    },
    {
     "name": "stdout",
     "output_type": "stream",
     "text": [
      "No. of unique values: 10\n",
      "No.of Null Values: 0\n"
     ]
    },
    {
     "data": {
      "text/plain": [
       "'VAR_1206'"
      ]
     },
     "execution_count": 74,
     "metadata": {},
     "output_type": "execute_result"
    },
    {
     "name": "stdout",
     "output_type": "stream",
     "text": [
      "No. of unique values: 8\n",
      "No.of Null Values: 0\n"
     ]
    },
    {
     "data": {
      "text/plain": [
       "'VAR_1207'"
      ]
     },
     "execution_count": 74,
     "metadata": {},
     "output_type": "execute_result"
    },
    {
     "name": "stdout",
     "output_type": "stream",
     "text": [
      "No. of unique values: 10\n",
      "No.of Null Values: 0\n"
     ]
    },
    {
     "data": {
      "text/plain": [
       "'VAR_1208'"
      ]
     },
     "execution_count": 74,
     "metadata": {},
     "output_type": "execute_result"
    },
    {
     "name": "stdout",
     "output_type": "stream",
     "text": [
      "No. of unique values: 229\n",
      "No.of Null Values: 0\n"
     ]
    },
    {
     "data": {
      "text/plain": [
       "'VAR_1209'"
      ]
     },
     "execution_count": 74,
     "metadata": {},
     "output_type": "execute_result"
    },
    {
     "name": "stdout",
     "output_type": "stream",
     "text": [
      "No. of unique values: 86\n",
      "No.of Null Values: 0\n"
     ]
    },
    {
     "data": {
      "text/plain": [
       "'VAR_1210'"
      ]
     },
     "execution_count": 74,
     "metadata": {},
     "output_type": "execute_result"
    },
    {
     "name": "stdout",
     "output_type": "stream",
     "text": [
      "No. of unique values: 291\n",
      "No.of Null Values: 0\n"
     ]
    },
    {
     "data": {
      "text/plain": [
       "'VAR_1211'"
      ]
     },
     "execution_count": 74,
     "metadata": {},
     "output_type": "execute_result"
    },
    {
     "name": "stdout",
     "output_type": "stream",
     "text": [
      "No. of unique values: 233\n",
      "No.of Null Values: 0\n"
     ]
    },
    {
     "data": {
      "text/plain": [
       "'VAR_1212'"
      ]
     },
     "execution_count": 74,
     "metadata": {},
     "output_type": "execute_result"
    },
    {
     "name": "stdout",
     "output_type": "stream",
     "text": [
      "No. of unique values: 17\n",
      "No.of Null Values: 0\n"
     ]
    },
    {
     "data": {
      "text/plain": [
       "'VAR_1213'"
      ]
     },
     "execution_count": 74,
     "metadata": {},
     "output_type": "execute_result"
    },
    {
     "name": "stdout",
     "output_type": "stream",
     "text": [
      "No. of unique values: 5\n",
      "No.of Null Values: 0\n"
     ]
    },
    {
     "data": {
      "text/plain": [
       "'VAR_1214'"
      ]
     },
     "execution_count": 74,
     "metadata": {},
     "output_type": "execute_result"
    },
    {
     "name": "stdout",
     "output_type": "stream",
     "text": [
      "No. of unique values: 30\n",
      "No.of Null Values: 0\n"
     ]
    },
    {
     "data": {
      "text/plain": [
       "'VAR_1215'"
      ]
     },
     "execution_count": 74,
     "metadata": {},
     "output_type": "execute_result"
    },
    {
     "name": "stdout",
     "output_type": "stream",
     "text": [
      "No. of unique values: 2234\n",
      "No.of Null Values: 0\n"
     ]
    },
    {
     "data": {
      "text/plain": [
       "'VAR_1216'"
      ]
     },
     "execution_count": 74,
     "metadata": {},
     "output_type": "execute_result"
    },
    {
     "name": "stdout",
     "output_type": "stream",
     "text": [
      "No. of unique values: 65\n",
      "No.of Null Values: 0\n"
     ]
    },
    {
     "data": {
      "text/plain": [
       "'VAR_1217'"
      ]
     },
     "execution_count": 74,
     "metadata": {},
     "output_type": "execute_result"
    },
    {
     "name": "stdout",
     "output_type": "stream",
     "text": [
      "No. of unique values: 34\n",
      "No.of Null Values: 0\n"
     ]
    },
    {
     "data": {
      "text/plain": [
       "'VAR_1218'"
      ]
     },
     "execution_count": 74,
     "metadata": {},
     "output_type": "execute_result"
    },
    {
     "name": "stdout",
     "output_type": "stream",
     "text": [
      "No. of unique values: 8\n",
      "No.of Null Values: 0\n"
     ]
    },
    {
     "data": {
      "text/plain": [
       "'VAR_1219'"
      ]
     },
     "execution_count": 74,
     "metadata": {},
     "output_type": "execute_result"
    },
    {
     "name": "stdout",
     "output_type": "stream",
     "text": [
      "No. of unique values: 49\n",
      "No.of Null Values: 0\n"
     ]
    },
    {
     "data": {
      "text/plain": [
       "'VAR_1220'"
      ]
     },
     "execution_count": 74,
     "metadata": {},
     "output_type": "execute_result"
    },
    {
     "name": "stdout",
     "output_type": "stream",
     "text": [
      "No. of unique values: 33643\n",
      "No.of Null Values: 0\n"
     ]
    },
    {
     "data": {
      "text/plain": [
       "'VAR_1221'"
      ]
     },
     "execution_count": 74,
     "metadata": {},
     "output_type": "execute_result"
    },
    {
     "name": "stdout",
     "output_type": "stream",
     "text": [
      "No. of unique values: 20976\n",
      "No.of Null Values: 0\n"
     ]
    },
    {
     "data": {
      "text/plain": [
       "'VAR_1222'"
      ]
     },
     "execution_count": 74,
     "metadata": {},
     "output_type": "execute_result"
    },
    {
     "name": "stdout",
     "output_type": "stream",
     "text": [
      "No. of unique values: 148\n",
      "No.of Null Values: 0\n"
     ]
    },
    {
     "data": {
      "text/plain": [
       "'VAR_1223'"
      ]
     },
     "execution_count": 74,
     "metadata": {},
     "output_type": "execute_result"
    },
    {
     "name": "stdout",
     "output_type": "stream",
     "text": [
      "No. of unique values: 137\n",
      "No.of Null Values: 0\n"
     ]
    },
    {
     "data": {
      "text/plain": [
       "'VAR_1224'"
      ]
     },
     "execution_count": 74,
     "metadata": {},
     "output_type": "execute_result"
    },
    {
     "name": "stdout",
     "output_type": "stream",
     "text": [
      "No. of unique values: 31\n",
      "No.of Null Values: 0\n"
     ]
    },
    {
     "data": {
      "text/plain": [
       "'VAR_1225'"
      ]
     },
     "execution_count": 74,
     "metadata": {},
     "output_type": "execute_result"
    },
    {
     "name": "stdout",
     "output_type": "stream",
     "text": [
      "No. of unique values: 11\n",
      "No.of Null Values: 0\n"
     ]
    },
    {
     "data": {
      "text/plain": [
       "'VAR_1226'"
      ]
     },
     "execution_count": 74,
     "metadata": {},
     "output_type": "execute_result"
    },
    {
     "name": "stdout",
     "output_type": "stream",
     "text": [
      "No. of unique values: 30\n",
      "No.of Null Values: 0\n"
     ]
    },
    {
     "data": {
      "text/plain": [
       "'VAR_1227'"
      ]
     },
     "execution_count": 74,
     "metadata": {},
     "output_type": "execute_result"
    },
    {
     "name": "stdout",
     "output_type": "stream",
     "text": [
      "No. of unique values: 17345\n",
      "No.of Null Values: 0\n"
     ]
    },
    {
     "data": {
      "text/plain": [
       "'VAR_1228'"
      ]
     },
     "execution_count": 74,
     "metadata": {},
     "output_type": "execute_result"
    },
    {
     "name": "stdout",
     "output_type": "stream",
     "text": [
      "No. of unique values: 19013\n",
      "No.of Null Values: 0\n"
     ]
    },
    {
     "data": {
      "text/plain": [
       "'VAR_1229'"
      ]
     },
     "execution_count": 74,
     "metadata": {},
     "output_type": "execute_result"
    },
    {
     "name": "stdout",
     "output_type": "stream",
     "text": [
      "No. of unique values: 59\n",
      "No.of Null Values: 0\n"
     ]
    },
    {
     "data": {
      "text/plain": [
       "'VAR_1230'"
      ]
     },
     "execution_count": 74,
     "metadata": {},
     "output_type": "execute_result"
    },
    {
     "name": "stdout",
     "output_type": "stream",
     "text": [
      "No. of unique values: 5\n",
      "No.of Null Values: 0\n"
     ]
    },
    {
     "data": {
      "text/plain": [
       "'VAR_1231'"
      ]
     },
     "execution_count": 74,
     "metadata": {},
     "output_type": "execute_result"
    },
    {
     "name": "stdout",
     "output_type": "stream",
     "text": [
      "No. of unique values: 31\n",
      "No.of Null Values: 0\n"
     ]
    },
    {
     "data": {
      "text/plain": [
       "'VAR_1232'"
      ]
     },
     "execution_count": 74,
     "metadata": {},
     "output_type": "execute_result"
    },
    {
     "name": "stdout",
     "output_type": "stream",
     "text": [
      "No. of unique values: 11\n",
      "No.of Null Values: 0\n"
     ]
    },
    {
     "data": {
      "text/plain": [
       "'VAR_1233'"
      ]
     },
     "execution_count": 74,
     "metadata": {},
     "output_type": "execute_result"
    },
    {
     "name": "stdout",
     "output_type": "stream",
     "text": [
      "No. of unique values: 58\n",
      "No.of Null Values: 0\n"
     ]
    },
    {
     "data": {
      "text/plain": [
       "'VAR_1234'"
      ]
     },
     "execution_count": 74,
     "metadata": {},
     "output_type": "execute_result"
    },
    {
     "name": "stdout",
     "output_type": "stream",
     "text": [
      "No. of unique values: 31\n",
      "No.of Null Values: 0\n"
     ]
    },
    {
     "data": {
      "text/plain": [
       "'VAR_1235'"
      ]
     },
     "execution_count": 74,
     "metadata": {},
     "output_type": "execute_result"
    },
    {
     "name": "stdout",
     "output_type": "stream",
     "text": [
      "No. of unique values: 26\n",
      "No.of Null Values: 0\n"
     ]
    },
    {
     "data": {
      "text/plain": [
       "'VAR_1236'"
      ]
     },
     "execution_count": 74,
     "metadata": {},
     "output_type": "execute_result"
    },
    {
     "name": "stdout",
     "output_type": "stream",
     "text": [
      "No. of unique values: 30\n",
      "No.of Null Values: 0\n"
     ]
    },
    {
     "data": {
      "text/plain": [
       "'VAR_1237'"
      ]
     },
     "execution_count": 74,
     "metadata": {},
     "output_type": "execute_result"
    },
    {
     "name": "stdout",
     "output_type": "stream",
     "text": [
      "No. of unique values: 27\n",
      "No.of Null Values: 0\n"
     ]
    },
    {
     "data": {
      "text/plain": [
       "'VAR_1238'"
      ]
     },
     "execution_count": 74,
     "metadata": {},
     "output_type": "execute_result"
    },
    {
     "name": "stdout",
     "output_type": "stream",
     "text": [
      "No. of unique values: 33\n",
      "No.of Null Values: 0\n"
     ]
    },
    {
     "data": {
      "text/plain": [
       "'VAR_1239'"
      ]
     },
     "execution_count": 74,
     "metadata": {},
     "output_type": "execute_result"
    },
    {
     "name": "stdout",
     "output_type": "stream",
     "text": [
      "No. of unique values: 11\n",
      "No.of Null Values: 0\n"
     ]
    },
    {
     "data": {
      "text/plain": [
       "'VAR_1240'"
      ]
     },
     "execution_count": 74,
     "metadata": {},
     "output_type": "execute_result"
    },
    {
     "name": "stdout",
     "output_type": "stream",
     "text": [
      "No. of unique values: 86\n",
      "No.of Null Values: 0\n"
     ]
    },
    {
     "data": {
      "text/plain": [
       "'VAR_1241'"
      ]
     },
     "execution_count": 74,
     "metadata": {},
     "output_type": "execute_result"
    },
    {
     "name": "stdout",
     "output_type": "stream",
     "text": [
      "No. of unique values: 18416\n",
      "No.of Null Values: 0\n"
     ]
    },
    {
     "data": {
      "text/plain": [
       "'VAR_1242'"
      ]
     },
     "execution_count": 74,
     "metadata": {},
     "output_type": "execute_result"
    },
    {
     "name": "stdout",
     "output_type": "stream",
     "text": [
      "No. of unique values: 288\n",
      "No.of Null Values: 0\n"
     ]
    },
    {
     "data": {
      "text/plain": [
       "'VAR_1243'"
      ]
     },
     "execution_count": 74,
     "metadata": {},
     "output_type": "execute_result"
    },
    {
     "name": "stdout",
     "output_type": "stream",
     "text": [
      "No. of unique values: 20076\n",
      "No.of Null Values: 0\n"
     ]
    },
    {
     "data": {
      "text/plain": [
       "'VAR_1244'"
      ]
     },
     "execution_count": 74,
     "metadata": {},
     "output_type": "execute_result"
    },
    {
     "name": "stdout",
     "output_type": "stream",
     "text": [
      "No. of unique values: 2589\n",
      "No.of Null Values: 0\n"
     ]
    },
    {
     "data": {
      "text/plain": [
       "'VAR_1245'"
      ]
     },
     "execution_count": 74,
     "metadata": {},
     "output_type": "execute_result"
    },
    {
     "name": "stdout",
     "output_type": "stream",
     "text": [
      "No. of unique values: 1565\n",
      "No.of Null Values: 0\n"
     ]
    },
    {
     "data": {
      "text/plain": [
       "'VAR_1246'"
      ]
     },
     "execution_count": 74,
     "metadata": {},
     "output_type": "execute_result"
    },
    {
     "name": "stdout",
     "output_type": "stream",
     "text": [
      "No. of unique values: 2496\n",
      "No.of Null Values: 0\n"
     ]
    },
    {
     "data": {
      "text/plain": [
       "'VAR_1247'"
      ]
     },
     "execution_count": 74,
     "metadata": {},
     "output_type": "execute_result"
    },
    {
     "name": "stdout",
     "output_type": "stream",
     "text": [
      "No. of unique values: 2315\n",
      "No.of Null Values: 0\n"
     ]
    },
    {
     "data": {
      "text/plain": [
       "'VAR_1248'"
      ]
     },
     "execution_count": 74,
     "metadata": {},
     "output_type": "execute_result"
    },
    {
     "name": "stdout",
     "output_type": "stream",
     "text": [
      "No. of unique values: 8977\n",
      "No.of Null Values: 0\n"
     ]
    },
    {
     "data": {
      "text/plain": [
       "'VAR_1249'"
      ]
     },
     "execution_count": 74,
     "metadata": {},
     "output_type": "execute_result"
    },
    {
     "name": "stdout",
     "output_type": "stream",
     "text": [
      "No. of unique values: 600\n",
      "No.of Null Values: 0\n"
     ]
    },
    {
     "data": {
      "text/plain": [
       "'VAR_1250'"
      ]
     },
     "execution_count": 74,
     "metadata": {},
     "output_type": "execute_result"
    },
    {
     "name": "stdout",
     "output_type": "stream",
     "text": [
      "No. of unique values: 639\n",
      "No.of Null Values: 0\n"
     ]
    },
    {
     "data": {
      "text/plain": [
       "'VAR_1251'"
      ]
     },
     "execution_count": 74,
     "metadata": {},
     "output_type": "execute_result"
    },
    {
     "name": "stdout",
     "output_type": "stream",
     "text": [
      "No. of unique values: 1279\n",
      "No.of Null Values: 0\n"
     ]
    },
    {
     "data": {
      "text/plain": [
       "'VAR_1252'"
      ]
     },
     "execution_count": 74,
     "metadata": {},
     "output_type": "execute_result"
    },
    {
     "name": "stdout",
     "output_type": "stream",
     "text": [
      "No. of unique values: 1909\n",
      "No.of Null Values: 0\n"
     ]
    },
    {
     "data": {
      "text/plain": [
       "'VAR_1253'"
      ]
     },
     "execution_count": 74,
     "metadata": {},
     "output_type": "execute_result"
    },
    {
     "name": "stdout",
     "output_type": "stream",
     "text": [
      "No. of unique values: 9\n",
      "No.of Null Values: 0\n"
     ]
    },
    {
     "data": {
      "text/plain": [
       "'VAR_1254'"
      ]
     },
     "execution_count": 74,
     "metadata": {},
     "output_type": "execute_result"
    },
    {
     "name": "stdout",
     "output_type": "stream",
     "text": [
      "No. of unique values: 9\n",
      "No.of Null Values: 0\n"
     ]
    },
    {
     "data": {
      "text/plain": [
       "'VAR_1255'"
      ]
     },
     "execution_count": 74,
     "metadata": {},
     "output_type": "execute_result"
    },
    {
     "name": "stdout",
     "output_type": "stream",
     "text": [
      "No. of unique values: 9\n",
      "No.of Null Values: 0\n"
     ]
    },
    {
     "data": {
      "text/plain": [
       "'VAR_1256'"
      ]
     },
     "execution_count": 74,
     "metadata": {},
     "output_type": "execute_result"
    },
    {
     "name": "stdout",
     "output_type": "stream",
     "text": [
      "No. of unique values: 10\n",
      "No.of Null Values: 0\n"
     ]
    },
    {
     "data": {
      "text/plain": [
       "'VAR_1257'"
      ]
     },
     "execution_count": 74,
     "metadata": {},
     "output_type": "execute_result"
    },
    {
     "name": "stdout",
     "output_type": "stream",
     "text": [
      "No. of unique values: 10\n",
      "No.of Null Values: 0\n"
     ]
    },
    {
     "data": {
      "text/plain": [
       "'VAR_1258'"
      ]
     },
     "execution_count": 74,
     "metadata": {},
     "output_type": "execute_result"
    },
    {
     "name": "stdout",
     "output_type": "stream",
     "text": [
      "No. of unique values: 165\n",
      "No.of Null Values: 0\n"
     ]
    },
    {
     "data": {
      "text/plain": [
       "'VAR_1259'"
      ]
     },
     "execution_count": 74,
     "metadata": {},
     "output_type": "execute_result"
    },
    {
     "name": "stdout",
     "output_type": "stream",
     "text": [
      "No. of unique values: 362\n",
      "No.of Null Values: 0\n"
     ]
    },
    {
     "data": {
      "text/plain": [
       "'VAR_1260'"
      ]
     },
     "execution_count": 74,
     "metadata": {},
     "output_type": "execute_result"
    },
    {
     "name": "stdout",
     "output_type": "stream",
     "text": [
      "No. of unique values: 86\n",
      "No.of Null Values: 0\n"
     ]
    },
    {
     "data": {
      "text/plain": [
       "'VAR_1261'"
      ]
     },
     "execution_count": 74,
     "metadata": {},
     "output_type": "execute_result"
    },
    {
     "name": "stdout",
     "output_type": "stream",
     "text": [
      "No. of unique values: 86\n",
      "No.of Null Values: 0\n"
     ]
    },
    {
     "data": {
      "text/plain": [
       "'VAR_1262'"
      ]
     },
     "execution_count": 74,
     "metadata": {},
     "output_type": "execute_result"
    },
    {
     "name": "stdout",
     "output_type": "stream",
     "text": [
      "No. of unique values: 86\n",
      "No.of Null Values: 0\n"
     ]
    },
    {
     "data": {
      "text/plain": [
       "'VAR_1263'"
      ]
     },
     "execution_count": 74,
     "metadata": {},
     "output_type": "execute_result"
    },
    {
     "name": "stdout",
     "output_type": "stream",
     "text": [
      "No. of unique values: 85\n",
      "No.of Null Values: 0\n"
     ]
    },
    {
     "data": {
      "text/plain": [
       "'VAR_1264'"
      ]
     },
     "execution_count": 74,
     "metadata": {},
     "output_type": "execute_result"
    },
    {
     "name": "stdout",
     "output_type": "stream",
     "text": [
      "No. of unique values: 87\n",
      "No.of Null Values: 0\n"
     ]
    },
    {
     "data": {
      "text/plain": [
       "'VAR_1265'"
      ]
     },
     "execution_count": 74,
     "metadata": {},
     "output_type": "execute_result"
    },
    {
     "name": "stdout",
     "output_type": "stream",
     "text": [
      "No. of unique values: 615\n",
      "No.of Null Values: 0\n"
     ]
    },
    {
     "data": {
      "text/plain": [
       "'VAR_1266'"
      ]
     },
     "execution_count": 74,
     "metadata": {},
     "output_type": "execute_result"
    },
    {
     "name": "stdout",
     "output_type": "stream",
     "text": [
      "No. of unique values: 395\n",
      "No.of Null Values: 0\n"
     ]
    },
    {
     "data": {
      "text/plain": [
       "'VAR_1267'"
      ]
     },
     "execution_count": 74,
     "metadata": {},
     "output_type": "execute_result"
    },
    {
     "name": "stdout",
     "output_type": "stream",
     "text": [
      "No. of unique values: 59\n",
      "No.of Null Values: 0\n"
     ]
    },
    {
     "data": {
      "text/plain": [
       "'VAR_1268'"
      ]
     },
     "execution_count": 74,
     "metadata": {},
     "output_type": "execute_result"
    },
    {
     "name": "stdout",
     "output_type": "stream",
     "text": [
      "No. of unique values: 30\n",
      "No.of Null Values: 0\n"
     ]
    },
    {
     "data": {
      "text/plain": [
       "'VAR_1269'"
      ]
     },
     "execution_count": 74,
     "metadata": {},
     "output_type": "execute_result"
    },
    {
     "name": "stdout",
     "output_type": "stream",
     "text": [
      "No. of unique values: 29\n",
      "No.of Null Values: 0\n"
     ]
    },
    {
     "data": {
      "text/plain": [
       "'VAR_1270'"
      ]
     },
     "execution_count": 74,
     "metadata": {},
     "output_type": "execute_result"
    },
    {
     "name": "stdout",
     "output_type": "stream",
     "text": [
      "No. of unique values: 11\n",
      "No.of Null Values: 0\n"
     ]
    },
    {
     "data": {
      "text/plain": [
       "'VAR_1271'"
      ]
     },
     "execution_count": 74,
     "metadata": {},
     "output_type": "execute_result"
    },
    {
     "name": "stdout",
     "output_type": "stream",
     "text": [
      "No. of unique values: 12\n",
      "No.of Null Values: 0\n"
     ]
    },
    {
     "data": {
      "text/plain": [
       "'VAR_1272'"
      ]
     },
     "execution_count": 74,
     "metadata": {},
     "output_type": "execute_result"
    },
    {
     "name": "stdout",
     "output_type": "stream",
     "text": [
      "No. of unique values: 14\n",
      "No.of Null Values: 0\n"
     ]
    },
    {
     "data": {
      "text/plain": [
       "'VAR_1273'"
      ]
     },
     "execution_count": 74,
     "metadata": {},
     "output_type": "execute_result"
    },
    {
     "name": "stdout",
     "output_type": "stream",
     "text": [
      "No. of unique values: 28\n",
      "No.of Null Values: 0\n"
     ]
    },
    {
     "data": {
      "text/plain": [
       "'VAR_1274'"
      ]
     },
     "execution_count": 74,
     "metadata": {},
     "output_type": "execute_result"
    },
    {
     "name": "stdout",
     "output_type": "stream",
     "text": [
      "No. of unique values: 56\n",
      "No.of Null Values: 0\n"
     ]
    },
    {
     "data": {
      "text/plain": [
       "'VAR_1275'"
      ]
     },
     "execution_count": 74,
     "metadata": {},
     "output_type": "execute_result"
    },
    {
     "name": "stdout",
     "output_type": "stream",
     "text": [
      "No. of unique values: 33\n",
      "No.of Null Values: 0\n"
     ]
    },
    {
     "data": {
      "text/plain": [
       "'VAR_1276'"
      ]
     },
     "execution_count": 74,
     "metadata": {},
     "output_type": "execute_result"
    },
    {
     "name": "stdout",
     "output_type": "stream",
     "text": [
      "No. of unique values: 34\n",
      "No.of Null Values: 0\n"
     ]
    },
    {
     "data": {
      "text/plain": [
       "'VAR_1277'"
      ]
     },
     "execution_count": 74,
     "metadata": {},
     "output_type": "execute_result"
    },
    {
     "name": "stdout",
     "output_type": "stream",
     "text": [
      "No. of unique values: 35\n",
      "No.of Null Values: 0\n"
     ]
    },
    {
     "data": {
      "text/plain": [
       "'VAR_1278'"
      ]
     },
     "execution_count": 74,
     "metadata": {},
     "output_type": "execute_result"
    },
    {
     "name": "stdout",
     "output_type": "stream",
     "text": [
      "No. of unique values: 28\n",
      "No.of Null Values: 0\n"
     ]
    },
    {
     "data": {
      "text/plain": [
       "'VAR_1279'"
      ]
     },
     "execution_count": 74,
     "metadata": {},
     "output_type": "execute_result"
    },
    {
     "name": "stdout",
     "output_type": "stream",
     "text": [
      "No. of unique values: 18\n",
      "No.of Null Values: 0\n"
     ]
    },
    {
     "data": {
      "text/plain": [
       "'VAR_1280'"
      ]
     },
     "execution_count": 74,
     "metadata": {},
     "output_type": "execute_result"
    },
    {
     "name": "stdout",
     "output_type": "stream",
     "text": [
      "No. of unique values: 22\n",
      "No.of Null Values: 0\n"
     ]
    },
    {
     "data": {
      "text/plain": [
       "'VAR_1281'"
      ]
     },
     "execution_count": 74,
     "metadata": {},
     "output_type": "execute_result"
    },
    {
     "name": "stdout",
     "output_type": "stream",
     "text": [
      "No. of unique values: 24\n",
      "No.of Null Values: 0\n"
     ]
    },
    {
     "data": {
      "text/plain": [
       "'VAR_1282'"
      ]
     },
     "execution_count": 74,
     "metadata": {},
     "output_type": "execute_result"
    },
    {
     "name": "stdout",
     "output_type": "stream",
     "text": [
      "No. of unique values: 28\n",
      "No.of Null Values: 0\n"
     ]
    },
    {
     "data": {
      "text/plain": [
       "'VAR_1283'"
      ]
     },
     "execution_count": 74,
     "metadata": {},
     "output_type": "execute_result"
    },
    {
     "name": "stdout",
     "output_type": "stream",
     "text": [
      "No. of unique values: 18\n",
      "No.of Null Values: 0\n"
     ]
    },
    {
     "data": {
      "text/plain": [
       "'VAR_1284'"
      ]
     },
     "execution_count": 74,
     "metadata": {},
     "output_type": "execute_result"
    },
    {
     "name": "stdout",
     "output_type": "stream",
     "text": [
      "No. of unique values: 21\n",
      "No.of Null Values: 0\n"
     ]
    },
    {
     "data": {
      "text/plain": [
       "'VAR_1285'"
      ]
     },
     "execution_count": 74,
     "metadata": {},
     "output_type": "execute_result"
    },
    {
     "name": "stdout",
     "output_type": "stream",
     "text": [
      "No. of unique values: 24\n",
      "No.of Null Values: 0\n"
     ]
    },
    {
     "data": {
      "text/plain": [
       "'VAR_1286'"
      ]
     },
     "execution_count": 74,
     "metadata": {},
     "output_type": "execute_result"
    },
    {
     "name": "stdout",
     "output_type": "stream",
     "text": [
      "No. of unique values: 28\n",
      "No.of Null Values: 0\n"
     ]
    },
    {
     "data": {
      "text/plain": [
       "'VAR_1287'"
      ]
     },
     "execution_count": 74,
     "metadata": {},
     "output_type": "execute_result"
    },
    {
     "name": "stdout",
     "output_type": "stream",
     "text": [
      "No. of unique values: 18\n",
      "No.of Null Values: 0\n"
     ]
    },
    {
     "data": {
      "text/plain": [
       "'VAR_1288'"
      ]
     },
     "execution_count": 74,
     "metadata": {},
     "output_type": "execute_result"
    },
    {
     "name": "stdout",
     "output_type": "stream",
     "text": [
      "No. of unique values: 20\n",
      "No.of Null Values: 0\n"
     ]
    },
    {
     "data": {
      "text/plain": [
       "'VAR_1289'"
      ]
     },
     "execution_count": 74,
     "metadata": {},
     "output_type": "execute_result"
    },
    {
     "name": "stdout",
     "output_type": "stream",
     "text": [
      "No. of unique values: 25\n",
      "No.of Null Values: 0\n"
     ]
    },
    {
     "data": {
      "text/plain": [
       "'VAR_1290'"
      ]
     },
     "execution_count": 74,
     "metadata": {},
     "output_type": "execute_result"
    },
    {
     "name": "stdout",
     "output_type": "stream",
     "text": [
      "No. of unique values: 26\n",
      "No.of Null Values: 0\n"
     ]
    },
    {
     "data": {
      "text/plain": [
       "'VAR_1291'"
      ]
     },
     "execution_count": 74,
     "metadata": {},
     "output_type": "execute_result"
    },
    {
     "name": "stdout",
     "output_type": "stream",
     "text": [
      "No. of unique values: 14\n",
      "No.of Null Values: 0\n"
     ]
    },
    {
     "data": {
      "text/plain": [
       "'VAR_1292'"
      ]
     },
     "execution_count": 74,
     "metadata": {},
     "output_type": "execute_result"
    },
    {
     "name": "stdout",
     "output_type": "stream",
     "text": [
      "No. of unique values: 11\n",
      "No.of Null Values: 0\n"
     ]
    },
    {
     "data": {
      "text/plain": [
       "'VAR_1293'"
      ]
     },
     "execution_count": 74,
     "metadata": {},
     "output_type": "execute_result"
    },
    {
     "name": "stdout",
     "output_type": "stream",
     "text": [
      "No. of unique values: 32\n",
      "No.of Null Values: 0\n"
     ]
    },
    {
     "data": {
      "text/plain": [
       "'VAR_1294'"
      ]
     },
     "execution_count": 74,
     "metadata": {},
     "output_type": "execute_result"
    },
    {
     "name": "stdout",
     "output_type": "stream",
     "text": [
      "No. of unique values: 31\n",
      "No.of Null Values: 0\n"
     ]
    },
    {
     "data": {
      "text/plain": [
       "'VAR_1295'"
      ]
     },
     "execution_count": 74,
     "metadata": {},
     "output_type": "execute_result"
    },
    {
     "name": "stdout",
     "output_type": "stream",
     "text": [
      "No. of unique values: 29\n",
      "No.of Null Values: 0\n"
     ]
    },
    {
     "data": {
      "text/plain": [
       "'VAR_1296'"
      ]
     },
     "execution_count": 74,
     "metadata": {},
     "output_type": "execute_result"
    },
    {
     "name": "stdout",
     "output_type": "stream",
     "text": [
      "No. of unique values: 29\n",
      "No.of Null Values: 0\n"
     ]
    },
    {
     "data": {
      "text/plain": [
       "'VAR_1297'"
      ]
     },
     "execution_count": 74,
     "metadata": {},
     "output_type": "execute_result"
    },
    {
     "name": "stdout",
     "output_type": "stream",
     "text": [
      "No. of unique values: 31\n",
      "No.of Null Values: 0\n"
     ]
    },
    {
     "data": {
      "text/plain": [
       "'VAR_1298'"
      ]
     },
     "execution_count": 74,
     "metadata": {},
     "output_type": "execute_result"
    },
    {
     "name": "stdout",
     "output_type": "stream",
     "text": [
      "No. of unique values: 30\n",
      "No.of Null Values: 0\n"
     ]
    },
    {
     "data": {
      "text/plain": [
       "'VAR_1299'"
      ]
     },
     "execution_count": 74,
     "metadata": {},
     "output_type": "execute_result"
    },
    {
     "name": "stdout",
     "output_type": "stream",
     "text": [
      "No. of unique values: 29\n",
      "No.of Null Values: 0\n"
     ]
    },
    {
     "data": {
      "text/plain": [
       "'VAR_1300'"
      ]
     },
     "execution_count": 74,
     "metadata": {},
     "output_type": "execute_result"
    },
    {
     "name": "stdout",
     "output_type": "stream",
     "text": [
      "No. of unique values: 26\n",
      "No.of Null Values: 0\n"
     ]
    },
    {
     "data": {
      "text/plain": [
       "'VAR_1301'"
      ]
     },
     "execution_count": 74,
     "metadata": {},
     "output_type": "execute_result"
    },
    {
     "name": "stdout",
     "output_type": "stream",
     "text": [
      "No. of unique values: 17\n",
      "No.of Null Values: 0\n"
     ]
    },
    {
     "data": {
      "text/plain": [
       "'VAR_1302'"
      ]
     },
     "execution_count": 74,
     "metadata": {},
     "output_type": "execute_result"
    },
    {
     "name": "stdout",
     "output_type": "stream",
     "text": [
      "No. of unique values: 20\n",
      "No.of Null Values: 0\n"
     ]
    },
    {
     "data": {
      "text/plain": [
       "'VAR_1303'"
      ]
     },
     "execution_count": 74,
     "metadata": {},
     "output_type": "execute_result"
    },
    {
     "name": "stdout",
     "output_type": "stream",
     "text": [
      "No. of unique values: 11\n",
      "No.of Null Values: 0\n"
     ]
    },
    {
     "data": {
      "text/plain": [
       "'VAR_1304'"
      ]
     },
     "execution_count": 74,
     "metadata": {},
     "output_type": "execute_result"
    },
    {
     "name": "stdout",
     "output_type": "stream",
     "text": [
      "No. of unique values: 31\n",
      "No.of Null Values: 0\n"
     ]
    },
    {
     "data": {
      "text/plain": [
       "'VAR_1305'"
      ]
     },
     "execution_count": 74,
     "metadata": {},
     "output_type": "execute_result"
    },
    {
     "name": "stdout",
     "output_type": "stream",
     "text": [
      "No. of unique values: 11\n",
      "No.of Null Values: 0\n"
     ]
    },
    {
     "data": {
      "text/plain": [
       "'VAR_1306'"
      ]
     },
     "execution_count": 74,
     "metadata": {},
     "output_type": "execute_result"
    },
    {
     "name": "stdout",
     "output_type": "stream",
     "text": [
      "No. of unique values: 13\n",
      "No.of Null Values: 0\n"
     ]
    },
    {
     "data": {
      "text/plain": [
       "'VAR_1307'"
      ]
     },
     "execution_count": 74,
     "metadata": {},
     "output_type": "execute_result"
    },
    {
     "name": "stdout",
     "output_type": "stream",
     "text": [
      "No. of unique values: 25\n",
      "No.of Null Values: 0\n"
     ]
    },
    {
     "data": {
      "text/plain": [
       "'VAR_1308'"
      ]
     },
     "execution_count": 74,
     "metadata": {},
     "output_type": "execute_result"
    },
    {
     "name": "stdout",
     "output_type": "stream",
     "text": [
      "No. of unique values: 32\n",
      "No.of Null Values: 0\n"
     ]
    },
    {
     "data": {
      "text/plain": [
       "'VAR_1309'"
      ]
     },
     "execution_count": 74,
     "metadata": {},
     "output_type": "execute_result"
    },
    {
     "name": "stdout",
     "output_type": "stream",
     "text": [
      "No. of unique values: 48\n",
      "No.of Null Values: 0\n"
     ]
    },
    {
     "data": {
      "text/plain": [
       "'VAR_1310'"
      ]
     },
     "execution_count": 74,
     "metadata": {},
     "output_type": "execute_result"
    },
    {
     "name": "stdout",
     "output_type": "stream",
     "text": [
      "No. of unique values: 37\n",
      "No.of Null Values: 0\n"
     ]
    },
    {
     "data": {
      "text/plain": [
       "'VAR_1311'"
      ]
     },
     "execution_count": 74,
     "metadata": {},
     "output_type": "execute_result"
    },
    {
     "name": "stdout",
     "output_type": "stream",
     "text": [
      "No. of unique values: 55\n",
      "No.of Null Values: 0\n"
     ]
    },
    {
     "data": {
      "text/plain": [
       "'VAR_1312'"
      ]
     },
     "execution_count": 74,
     "metadata": {},
     "output_type": "execute_result"
    },
    {
     "name": "stdout",
     "output_type": "stream",
     "text": [
      "No. of unique values: 18085\n",
      "No.of Null Values: 0\n"
     ]
    },
    {
     "data": {
      "text/plain": [
       "'VAR_1313'"
      ]
     },
     "execution_count": 74,
     "metadata": {},
     "output_type": "execute_result"
    },
    {
     "name": "stdout",
     "output_type": "stream",
     "text": [
      "No. of unique values: 19764\n",
      "No.of Null Values: 0\n"
     ]
    },
    {
     "data": {
      "text/plain": [
       "'VAR_1314'"
      ]
     },
     "execution_count": 74,
     "metadata": {},
     "output_type": "execute_result"
    },
    {
     "name": "stdout",
     "output_type": "stream",
     "text": [
      "No. of unique values: 12914\n",
      "No.of Null Values: 0\n"
     ]
    },
    {
     "data": {
      "text/plain": [
       "'VAR_1315'"
      ]
     },
     "execution_count": 74,
     "metadata": {},
     "output_type": "execute_result"
    },
    {
     "name": "stdout",
     "output_type": "stream",
     "text": [
      "No. of unique values: 7598\n",
      "No.of Null Values: 0\n"
     ]
    },
    {
     "data": {
      "text/plain": [
       "'VAR_1316'"
      ]
     },
     "execution_count": 74,
     "metadata": {},
     "output_type": "execute_result"
    },
    {
     "name": "stdout",
     "output_type": "stream",
     "text": [
      "No. of unique values: 7971\n",
      "No.of Null Values: 0\n"
     ]
    },
    {
     "data": {
      "text/plain": [
       "'VAR_1317'"
      ]
     },
     "execution_count": 74,
     "metadata": {},
     "output_type": "execute_result"
    },
    {
     "name": "stdout",
     "output_type": "stream",
     "text": [
      "No. of unique values: 2934\n",
      "No.of Null Values: 0\n"
     ]
    },
    {
     "data": {
      "text/plain": [
       "'VAR_1318'"
      ]
     },
     "execution_count": 74,
     "metadata": {},
     "output_type": "execute_result"
    },
    {
     "name": "stdout",
     "output_type": "stream",
     "text": [
      "No. of unique values: 2245\n",
      "No.of Null Values: 0\n"
     ]
    },
    {
     "data": {
      "text/plain": [
       "'VAR_1319'"
      ]
     },
     "execution_count": 74,
     "metadata": {},
     "output_type": "execute_result"
    },
    {
     "name": "stdout",
     "output_type": "stream",
     "text": [
      "No. of unique values: 3104\n",
      "No.of Null Values: 0\n"
     ]
    },
    {
     "data": {
      "text/plain": [
       "'VAR_1320'"
      ]
     },
     "execution_count": 74,
     "metadata": {},
     "output_type": "execute_result"
    },
    {
     "name": "stdout",
     "output_type": "stream",
     "text": [
      "No. of unique values: 6919\n",
      "No.of Null Values: 0\n"
     ]
    },
    {
     "data": {
      "text/plain": [
       "'VAR_1321'"
      ]
     },
     "execution_count": 74,
     "metadata": {},
     "output_type": "execute_result"
    },
    {
     "name": "stdout",
     "output_type": "stream",
     "text": [
      "No. of unique values: 12520\n",
      "No.of Null Values: 0\n"
     ]
    },
    {
     "data": {
      "text/plain": [
       "'VAR_1322'"
      ]
     },
     "execution_count": 74,
     "metadata": {},
     "output_type": "execute_result"
    },
    {
     "name": "stdout",
     "output_type": "stream",
     "text": [
      "No. of unique values: 12448\n",
      "No.of Null Values: 0\n"
     ]
    },
    {
     "data": {
      "text/plain": [
       "'VAR_1323'"
      ]
     },
     "execution_count": 74,
     "metadata": {},
     "output_type": "execute_result"
    },
    {
     "name": "stdout",
     "output_type": "stream",
     "text": [
      "No. of unique values: 1800\n",
      "No.of Null Values: 0\n"
     ]
    },
    {
     "data": {
      "text/plain": [
       "'VAR_1324'"
      ]
     },
     "execution_count": 74,
     "metadata": {},
     "output_type": "execute_result"
    },
    {
     "name": "stdout",
     "output_type": "stream",
     "text": [
      "No. of unique values: 9\n",
      "No.of Null Values: 0\n"
     ]
    },
    {
     "data": {
      "text/plain": [
       "'VAR_1325'"
      ]
     },
     "execution_count": 74,
     "metadata": {},
     "output_type": "execute_result"
    },
    {
     "name": "stdout",
     "output_type": "stream",
     "text": [
      "No. of unique values: 9\n",
      "No.of Null Values: 0\n"
     ]
    },
    {
     "data": {
      "text/plain": [
       "'VAR_1326'"
      ]
     },
     "execution_count": 74,
     "metadata": {},
     "output_type": "execute_result"
    },
    {
     "name": "stdout",
     "output_type": "stream",
     "text": [
      "No. of unique values: 10\n",
      "No.of Null Values: 0\n"
     ]
    },
    {
     "data": {
      "text/plain": [
       "'VAR_1327'"
      ]
     },
     "execution_count": 74,
     "metadata": {},
     "output_type": "execute_result"
    },
    {
     "name": "stdout",
     "output_type": "stream",
     "text": [
      "No. of unique values: 273\n",
      "No.of Null Values: 0\n"
     ]
    },
    {
     "data": {
      "text/plain": [
       "'VAR_1328'"
      ]
     },
     "execution_count": 74,
     "metadata": {},
     "output_type": "execute_result"
    },
    {
     "name": "stdout",
     "output_type": "stream",
     "text": [
      "No. of unique values: 232\n",
      "No.of Null Values: 0\n"
     ]
    },
    {
     "data": {
      "text/plain": [
       "'VAR_1329'"
      ]
     },
     "execution_count": 74,
     "metadata": {},
     "output_type": "execute_result"
    },
    {
     "name": "stdout",
     "output_type": "stream",
     "text": [
      "No. of unique values: 301\n",
      "No.of Null Values: 0\n"
     ]
    },
    {
     "data": {
      "text/plain": [
       "'VAR_1330'"
      ]
     },
     "execution_count": 74,
     "metadata": {},
     "output_type": "execute_result"
    },
    {
     "name": "stdout",
     "output_type": "stream",
     "text": [
      "No. of unique values: 291\n",
      "No.of Null Values: 0\n"
     ]
    },
    {
     "data": {
      "text/plain": [
       "'VAR_1331'"
      ]
     },
     "execution_count": 74,
     "metadata": {},
     "output_type": "execute_result"
    },
    {
     "name": "stdout",
     "output_type": "stream",
     "text": [
      "No. of unique values: 273\n",
      "No.of Null Values: 0\n"
     ]
    },
    {
     "data": {
      "text/plain": [
       "'VAR_1332'"
      ]
     },
     "execution_count": 74,
     "metadata": {},
     "output_type": "execute_result"
    },
    {
     "name": "stdout",
     "output_type": "stream",
     "text": [
      "No. of unique values: 232\n",
      "No.of Null Values: 0\n"
     ]
    },
    {
     "data": {
      "text/plain": [
       "'VAR_1333'"
      ]
     },
     "execution_count": 74,
     "metadata": {},
     "output_type": "execute_result"
    },
    {
     "name": "stdout",
     "output_type": "stream",
     "text": [
      "No. of unique values: 97\n",
      "No.of Null Values: 0\n"
     ]
    },
    {
     "data": {
      "text/plain": [
       "'VAR_1334'"
      ]
     },
     "execution_count": 74,
     "metadata": {},
     "output_type": "execute_result"
    },
    {
     "name": "stdout",
     "output_type": "stream",
     "text": [
      "No. of unique values: 103\n",
      "No.of Null Values: 0\n"
     ]
    },
    {
     "data": {
      "text/plain": [
       "'VAR_1335'"
      ]
     },
     "execution_count": 74,
     "metadata": {},
     "output_type": "execute_result"
    },
    {
     "name": "stdout",
     "output_type": "stream",
     "text": [
      "No. of unique values: 358\n",
      "No.of Null Values: 0\n"
     ]
    },
    {
     "data": {
      "text/plain": [
       "'VAR_1336'"
      ]
     },
     "execution_count": 74,
     "metadata": {},
     "output_type": "execute_result"
    },
    {
     "name": "stdout",
     "output_type": "stream",
     "text": [
      "No. of unique values: 609\n",
      "No.of Null Values: 0\n"
     ]
    },
    {
     "data": {
      "text/plain": [
       "'VAR_1337'"
      ]
     },
     "execution_count": 74,
     "metadata": {},
     "output_type": "execute_result"
    },
    {
     "name": "stdout",
     "output_type": "stream",
     "text": [
      "No. of unique values: 389\n",
      "No.of Null Values: 0\n"
     ]
    },
    {
     "data": {
      "text/plain": [
       "'VAR_1338'"
      ]
     },
     "execution_count": 74,
     "metadata": {},
     "output_type": "execute_result"
    },
    {
     "name": "stdout",
     "output_type": "stream",
     "text": [
      "No. of unique values: 19\n",
      "No.of Null Values: 0\n"
     ]
    },
    {
     "data": {
      "text/plain": [
       "'VAR_1339'"
      ]
     },
     "execution_count": 74,
     "metadata": {},
     "output_type": "execute_result"
    },
    {
     "name": "stdout",
     "output_type": "stream",
     "text": [
      "No. of unique values: 31\n",
      "No.of Null Values: 0\n"
     ]
    },
    {
     "data": {
      "text/plain": [
       "'VAR_1340'"
      ]
     },
     "execution_count": 74,
     "metadata": {},
     "output_type": "execute_result"
    },
    {
     "name": "stdout",
     "output_type": "stream",
     "text": [
      "No. of unique values: 10\n",
      "No.of Null Values: 0\n"
     ]
    },
    {
     "data": {
      "text/plain": [
       "'VAR_1341'"
      ]
     },
     "execution_count": 74,
     "metadata": {},
     "output_type": "execute_result"
    },
    {
     "name": "stdout",
     "output_type": "stream",
     "text": [
      "No. of unique values: 3800\n",
      "No.of Null Values: 0\n"
     ]
    },
    {
     "data": {
      "text/plain": [
       "'VAR_1342'"
      ]
     },
     "execution_count": 74,
     "metadata": {},
     "output_type": "execute_result"
    },
    {
     "name": "stdout",
     "output_type": "stream",
     "text": [
      "No. of unique values: 4200\n",
      "No.of Null Values: 0\n"
     ]
    },
    {
     "data": {
      "text/plain": [
       "'VAR_1343'"
      ]
     },
     "execution_count": 74,
     "metadata": {},
     "output_type": "execute_result"
    },
    {
     "name": "stdout",
     "output_type": "stream",
     "text": [
      "No. of unique values: 337\n",
      "No.of Null Values: 0\n"
     ]
    },
    {
     "data": {
      "text/plain": [
       "'VAR_1344'"
      ]
     },
     "execution_count": 74,
     "metadata": {},
     "output_type": "execute_result"
    },
    {
     "name": "stdout",
     "output_type": "stream",
     "text": [
      "No. of unique values: 353\n",
      "No.of Null Values: 0\n"
     ]
    },
    {
     "data": {
      "text/plain": [
       "'VAR_1345'"
      ]
     },
     "execution_count": 74,
     "metadata": {},
     "output_type": "execute_result"
    },
    {
     "name": "stdout",
     "output_type": "stream",
     "text": [
      "No. of unique values: 27\n",
      "No.of Null Values: 0\n"
     ]
    },
    {
     "data": {
      "text/plain": [
       "'VAR_1346'"
      ]
     },
     "execution_count": 74,
     "metadata": {},
     "output_type": "execute_result"
    },
    {
     "name": "stdout",
     "output_type": "stream",
     "text": [
      "No. of unique values: 11\n",
      "No.of Null Values: 0\n"
     ]
    },
    {
     "data": {
      "text/plain": [
       "'VAR_1347'"
      ]
     },
     "execution_count": 74,
     "metadata": {},
     "output_type": "execute_result"
    },
    {
     "name": "stdout",
     "output_type": "stream",
     "text": [
      "No. of unique values: 13\n",
      "No.of Null Values: 0\n"
     ]
    },
    {
     "data": {
      "text/plain": [
       "'VAR_1348'"
      ]
     },
     "execution_count": 74,
     "metadata": {},
     "output_type": "execute_result"
    },
    {
     "name": "stdout",
     "output_type": "stream",
     "text": [
      "No. of unique values: 52\n",
      "No.of Null Values: 0\n"
     ]
    },
    {
     "data": {
      "text/plain": [
       "'VAR_1349'"
      ]
     },
     "execution_count": 74,
     "metadata": {},
     "output_type": "execute_result"
    },
    {
     "name": "stdout",
     "output_type": "stream",
     "text": [
      "No. of unique values: 26\n",
      "No.of Null Values: 0\n"
     ]
    },
    {
     "data": {
      "text/plain": [
       "'VAR_1350'"
      ]
     },
     "execution_count": 74,
     "metadata": {},
     "output_type": "execute_result"
    },
    {
     "name": "stdout",
     "output_type": "stream",
     "text": [
      "No. of unique values: 24\n",
      "No.of Null Values: 0\n"
     ]
    },
    {
     "data": {
      "text/plain": [
       "'VAR_1351'"
      ]
     },
     "execution_count": 74,
     "metadata": {},
     "output_type": "execute_result"
    },
    {
     "name": "stdout",
     "output_type": "stream",
     "text": [
      "No. of unique values: 16\n",
      "No.of Null Values: 0\n"
     ]
    },
    {
     "data": {
      "text/plain": [
       "'VAR_1352'"
      ]
     },
     "execution_count": 74,
     "metadata": {},
     "output_type": "execute_result"
    },
    {
     "name": "stdout",
     "output_type": "stream",
     "text": [
      "No. of unique values: 29\n",
      "No.of Null Values: 0\n"
     ]
    },
    {
     "data": {
      "text/plain": [
       "'VAR_1353'"
      ]
     },
     "execution_count": 74,
     "metadata": {},
     "output_type": "execute_result"
    },
    {
     "name": "stdout",
     "output_type": "stream",
     "text": [
      "No. of unique values: 17107\n",
      "No.of Null Values: 0\n"
     ]
    },
    {
     "data": {
      "text/plain": [
       "'VAR_1354'"
      ]
     },
     "execution_count": 74,
     "metadata": {},
     "output_type": "execute_result"
    },
    {
     "name": "stdout",
     "output_type": "stream",
     "text": [
      "No. of unique values: 18751\n",
      "No.of Null Values: 0\n"
     ]
    },
    {
     "data": {
      "text/plain": [
       "'VAR_1355'"
      ]
     },
     "execution_count": 74,
     "metadata": {},
     "output_type": "execute_result"
    },
    {
     "name": "stdout",
     "output_type": "stream",
     "text": [
      "No. of unique values: 6947\n",
      "No.of Null Values: 0\n"
     ]
    },
    {
     "data": {
      "text/plain": [
       "'VAR_1356'"
      ]
     },
     "execution_count": 74,
     "metadata": {},
     "output_type": "execute_result"
    },
    {
     "name": "stdout",
     "output_type": "stream",
     "text": [
      "No. of unique values: 2747\n",
      "No.of Null Values: 0\n"
     ]
    },
    {
     "data": {
      "text/plain": [
       "'VAR_1357'"
      ]
     },
     "execution_count": 74,
     "metadata": {},
     "output_type": "execute_result"
    },
    {
     "name": "stdout",
     "output_type": "stream",
     "text": [
      "No. of unique values: 1688\n",
      "No.of Null Values: 0\n"
     ]
    },
    {
     "data": {
      "text/plain": [
       "'VAR_1358'"
      ]
     },
     "execution_count": 74,
     "metadata": {},
     "output_type": "execute_result"
    },
    {
     "name": "stdout",
     "output_type": "stream",
     "text": [
      "No. of unique values: 273\n",
      "No.of Null Values: 0\n"
     ]
    },
    {
     "data": {
      "text/plain": [
       "'VAR_1359'"
      ]
     },
     "execution_count": 74,
     "metadata": {},
     "output_type": "execute_result"
    },
    {
     "name": "stdout",
     "output_type": "stream",
     "text": [
      "No. of unique values: 82\n",
      "No.of Null Values: 0\n"
     ]
    },
    {
     "data": {
      "text/plain": [
       "'VAR_1360'"
      ]
     },
     "execution_count": 74,
     "metadata": {},
     "output_type": "execute_result"
    },
    {
     "name": "stdout",
     "output_type": "stream",
     "text": [
      "No. of unique values: 53\n",
      "No.of Null Values: 0\n"
     ]
    },
    {
     "data": {
      "text/plain": [
       "'VAR_1361'"
      ]
     },
     "execution_count": 74,
     "metadata": {},
     "output_type": "execute_result"
    },
    {
     "name": "stdout",
     "output_type": "stream",
     "text": [
      "No. of unique values: 47\n",
      "No.of Null Values: 0\n"
     ]
    },
    {
     "data": {
      "text/plain": [
       "'VAR_1362'"
      ]
     },
     "execution_count": 74,
     "metadata": {},
     "output_type": "execute_result"
    },
    {
     "name": "stdout",
     "output_type": "stream",
     "text": [
      "No. of unique values: 26\n",
      "No.of Null Values: 0\n"
     ]
    },
    {
     "data": {
      "text/plain": [
       "'VAR_1363'"
      ]
     },
     "execution_count": 74,
     "metadata": {},
     "output_type": "execute_result"
    },
    {
     "name": "stdout",
     "output_type": "stream",
     "text": [
      "No. of unique values: 79\n",
      "No.of Null Values: 0\n"
     ]
    },
    {
     "data": {
      "text/plain": [
       "'VAR_1364'"
      ]
     },
     "execution_count": 74,
     "metadata": {},
     "output_type": "execute_result"
    },
    {
     "name": "stdout",
     "output_type": "stream",
     "text": [
      "No. of unique values: 36\n",
      "No.of Null Values: 0\n"
     ]
    },
    {
     "data": {
      "text/plain": [
       "'VAR_1365'"
      ]
     },
     "execution_count": 74,
     "metadata": {},
     "output_type": "execute_result"
    },
    {
     "name": "stdout",
     "output_type": "stream",
     "text": [
      "No. of unique values: 37\n",
      "No.of Null Values: 0\n"
     ]
    },
    {
     "data": {
      "text/plain": [
       "'VAR_1366'"
      ]
     },
     "execution_count": 74,
     "metadata": {},
     "output_type": "execute_result"
    },
    {
     "name": "stdout",
     "output_type": "stream",
     "text": [
      "No. of unique values: 35\n",
      "No.of Null Values: 0\n"
     ]
    },
    {
     "data": {
      "text/plain": [
       "'VAR_1367'"
      ]
     },
     "execution_count": 74,
     "metadata": {},
     "output_type": "execute_result"
    },
    {
     "name": "stdout",
     "output_type": "stream",
     "text": [
      "No. of unique values: 36\n",
      "No.of Null Values: 0\n"
     ]
    },
    {
     "data": {
      "text/plain": [
       "'VAR_1368'"
      ]
     },
     "execution_count": 74,
     "metadata": {},
     "output_type": "execute_result"
    },
    {
     "name": "stdout",
     "output_type": "stream",
     "text": [
      "No. of unique values: 31\n",
      "No.of Null Values: 0\n"
     ]
    },
    {
     "data": {
      "text/plain": [
       "'VAR_1369'"
      ]
     },
     "execution_count": 74,
     "metadata": {},
     "output_type": "execute_result"
    },
    {
     "name": "stdout",
     "output_type": "stream",
     "text": [
      "No. of unique values: 44\n",
      "No.of Null Values: 0\n"
     ]
    },
    {
     "data": {
      "text/plain": [
       "'VAR_1370'"
      ]
     },
     "execution_count": 74,
     "metadata": {},
     "output_type": "execute_result"
    },
    {
     "name": "stdout",
     "output_type": "stream",
     "text": [
      "No. of unique values: 97\n",
      "No.of Null Values: 0\n"
     ]
    },
    {
     "data": {
      "text/plain": [
       "'VAR_1371'"
      ]
     },
     "execution_count": 74,
     "metadata": {},
     "output_type": "execute_result"
    },
    {
     "name": "stdout",
     "output_type": "stream",
     "text": [
      "No. of unique values: 20879\n",
      "No.of Null Values: 0\n"
     ]
    },
    {
     "data": {
      "text/plain": [
       "'VAR_1372'"
      ]
     },
     "execution_count": 74,
     "metadata": {},
     "output_type": "execute_result"
    },
    {
     "name": "stdout",
     "output_type": "stream",
     "text": [
      "No. of unique values: 22615\n",
      "No.of Null Values: 0\n"
     ]
    },
    {
     "data": {
      "text/plain": [
       "'VAR_1373'"
      ]
     },
     "execution_count": 74,
     "metadata": {},
     "output_type": "execute_result"
    },
    {
     "name": "stdout",
     "output_type": "stream",
     "text": [
      "No. of unique values: 17678\n",
      "No.of Null Values: 0\n"
     ]
    },
    {
     "data": {
      "text/plain": [
       "'VAR_1374'"
      ]
     },
     "execution_count": 74,
     "metadata": {},
     "output_type": "execute_result"
    },
    {
     "name": "stdout",
     "output_type": "stream",
     "text": [
      "No. of unique values: 18647\n",
      "No.of Null Values: 0\n"
     ]
    },
    {
     "data": {
      "text/plain": [
       "'VAR_1375'"
      ]
     },
     "execution_count": 74,
     "metadata": {},
     "output_type": "execute_result"
    },
    {
     "name": "stdout",
     "output_type": "stream",
     "text": [
      "No. of unique values: 1409\n",
      "No.of Null Values: 0\n"
     ]
    },
    {
     "data": {
      "text/plain": [
       "'VAR_1376'"
      ]
     },
     "execution_count": 74,
     "metadata": {},
     "output_type": "execute_result"
    },
    {
     "name": "stdout",
     "output_type": "stream",
     "text": [
      "No. of unique values: 1963\n",
      "No.of Null Values: 0\n"
     ]
    },
    {
     "data": {
      "text/plain": [
       "'VAR_1377'"
      ]
     },
     "execution_count": 74,
     "metadata": {},
     "output_type": "execute_result"
    },
    {
     "name": "stdout",
     "output_type": "stream",
     "text": [
      "No. of unique values: 9\n",
      "No.of Null Values: 0\n"
     ]
    },
    {
     "data": {
      "text/plain": [
       "'VAR_1378'"
      ]
     },
     "execution_count": 74,
     "metadata": {},
     "output_type": "execute_result"
    },
    {
     "name": "stdout",
     "output_type": "stream",
     "text": [
      "No. of unique values: 8\n",
      "No.of Null Values: 0\n"
     ]
    },
    {
     "data": {
      "text/plain": [
       "'VAR_1379'"
      ]
     },
     "execution_count": 74,
     "metadata": {},
     "output_type": "execute_result"
    },
    {
     "name": "stdout",
     "output_type": "stream",
     "text": [
      "No. of unique values: 10\n",
      "No.of Null Values: 0\n"
     ]
    },
    {
     "data": {
      "text/plain": [
       "'VAR_1380'"
      ]
     },
     "execution_count": 74,
     "metadata": {},
     "output_type": "execute_result"
    },
    {
     "name": "stdout",
     "output_type": "stream",
     "text": [
      "No. of unique values: 306\n",
      "No.of Null Values: 0\n"
     ]
    },
    {
     "data": {
      "text/plain": [
       "'VAR_1381'"
      ]
     },
     "execution_count": 74,
     "metadata": {},
     "output_type": "execute_result"
    },
    {
     "name": "stdout",
     "output_type": "stream",
     "text": [
      "No. of unique values: 344\n",
      "No.of Null Values: 0\n"
     ]
    },
    {
     "data": {
      "text/plain": [
       "'VAR_1382'"
      ]
     },
     "execution_count": 74,
     "metadata": {},
     "output_type": "execute_result"
    },
    {
     "name": "stdout",
     "output_type": "stream",
     "text": [
      "No. of unique values: 86\n",
      "No.of Null Values: 0\n"
     ]
    },
    {
     "data": {
      "text/plain": [
       "'VAR_1383'"
      ]
     },
     "execution_count": 74,
     "metadata": {},
     "output_type": "execute_result"
    },
    {
     "name": "stdout",
     "output_type": "stream",
     "text": [
      "No. of unique values: 86\n",
      "No.of Null Values: 0\n"
     ]
    },
    {
     "data": {
      "text/plain": [
       "'VAR_1384'"
      ]
     },
     "execution_count": 74,
     "metadata": {},
     "output_type": "execute_result"
    },
    {
     "name": "stdout",
     "output_type": "stream",
     "text": [
      "No. of unique values: 649\n",
      "No.of Null Values: 0\n"
     ]
    },
    {
     "data": {
      "text/plain": [
       "'VAR_1385'"
      ]
     },
     "execution_count": 74,
     "metadata": {},
     "output_type": "execute_result"
    },
    {
     "name": "stdout",
     "output_type": "stream",
     "text": [
      "No. of unique values: 378\n",
      "No.of Null Values: 0\n"
     ]
    },
    {
     "data": {
      "text/plain": [
       "'VAR_1386'"
      ]
     },
     "execution_count": 74,
     "metadata": {},
     "output_type": "execute_result"
    },
    {
     "name": "stdout",
     "output_type": "stream",
     "text": [
      "No. of unique values: 73\n",
      "No.of Null Values: 0\n"
     ]
    },
    {
     "data": {
      "text/plain": [
       "'VAR_1387'"
      ]
     },
     "execution_count": 74,
     "metadata": {},
     "output_type": "execute_result"
    },
    {
     "name": "stdout",
     "output_type": "stream",
     "text": [
      "No. of unique values: 48\n",
      "No.of Null Values: 0\n"
     ]
    },
    {
     "data": {
      "text/plain": [
       "'VAR_1388'"
      ]
     },
     "execution_count": 74,
     "metadata": {},
     "output_type": "execute_result"
    },
    {
     "name": "stdout",
     "output_type": "stream",
     "text": [
      "No. of unique values: 71\n",
      "No.of Null Values: 0\n"
     ]
    },
    {
     "data": {
      "text/plain": [
       "'VAR_1389'"
      ]
     },
     "execution_count": 74,
     "metadata": {},
     "output_type": "execute_result"
    },
    {
     "name": "stdout",
     "output_type": "stream",
     "text": [
      "No. of unique values: 41\n",
      "No.of Null Values: 0\n"
     ]
    },
    {
     "data": {
      "text/plain": [
       "'VAR_1390'"
      ]
     },
     "execution_count": 74,
     "metadata": {},
     "output_type": "execute_result"
    },
    {
     "name": "stdout",
     "output_type": "stream",
     "text": [
      "No. of unique values: 12624\n",
      "No.of Null Values: 0\n"
     ]
    },
    {
     "data": {
      "text/plain": [
       "'VAR_1391'"
      ]
     },
     "execution_count": 74,
     "metadata": {},
     "output_type": "execute_result"
    },
    {
     "name": "stdout",
     "output_type": "stream",
     "text": [
      "No. of unique values: 86\n",
      "No.of Null Values: 0\n"
     ]
    },
    {
     "data": {
      "text/plain": [
       "'VAR_1392'"
      ]
     },
     "execution_count": 74,
     "metadata": {},
     "output_type": "execute_result"
    },
    {
     "name": "stdout",
     "output_type": "stream",
     "text": [
      "No. of unique values: 60\n",
      "No.of Null Values: 0\n"
     ]
    },
    {
     "data": {
      "text/plain": [
       "'VAR_1393'"
      ]
     },
     "execution_count": 74,
     "metadata": {},
     "output_type": "execute_result"
    },
    {
     "name": "stdout",
     "output_type": "stream",
     "text": [
      "No. of unique values: 15\n",
      "No.of Null Values: 0\n"
     ]
    },
    {
     "data": {
      "text/plain": [
       "'VAR_1394'"
      ]
     },
     "execution_count": 74,
     "metadata": {},
     "output_type": "execute_result"
    },
    {
     "name": "stdout",
     "output_type": "stream",
     "text": [
      "No. of unique values: 9\n",
      "No.of Null Values: 0\n"
     ]
    },
    {
     "data": {
      "text/plain": [
       "'VAR_1395'"
      ]
     },
     "execution_count": 74,
     "metadata": {},
     "output_type": "execute_result"
    },
    {
     "name": "stdout",
     "output_type": "stream",
     "text": [
      "No. of unique values: 59\n",
      "No.of Null Values: 0\n"
     ]
    },
    {
     "data": {
      "text/plain": [
       "'VAR_1396'"
      ]
     },
     "execution_count": 74,
     "metadata": {},
     "output_type": "execute_result"
    },
    {
     "name": "stdout",
     "output_type": "stream",
     "text": [
      "No. of unique values: 11\n",
      "No.of Null Values: 0\n"
     ]
    },
    {
     "data": {
      "text/plain": [
       "'VAR_1397'"
      ]
     },
     "execution_count": 74,
     "metadata": {},
     "output_type": "execute_result"
    },
    {
     "name": "stdout",
     "output_type": "stream",
     "text": [
      "No. of unique values: 51\n",
      "No.of Null Values: 0\n"
     ]
    },
    {
     "data": {
      "text/plain": [
       "'VAR_1398'"
      ]
     },
     "execution_count": 74,
     "metadata": {},
     "output_type": "execute_result"
    },
    {
     "name": "stdout",
     "output_type": "stream",
     "text": [
      "No. of unique values: 19744\n",
      "No.of Null Values: 0\n"
     ]
    },
    {
     "data": {
      "text/plain": [
       "'VAR_1399'"
      ]
     },
     "execution_count": 74,
     "metadata": {},
     "output_type": "execute_result"
    },
    {
     "name": "stdout",
     "output_type": "stream",
     "text": [
      "No. of unique values: 17471\n",
      "No.of Null Values: 0\n"
     ]
    },
    {
     "data": {
      "text/plain": [
       "'VAR_1400'"
      ]
     },
     "execution_count": 74,
     "metadata": {},
     "output_type": "execute_result"
    },
    {
     "name": "stdout",
     "output_type": "stream",
     "text": [
      "No. of unique values: 8\n",
      "No.of Null Values: 0\n"
     ]
    },
    {
     "data": {
      "text/plain": [
       "'VAR_1401'"
      ]
     },
     "execution_count": 74,
     "metadata": {},
     "output_type": "execute_result"
    },
    {
     "name": "stdout",
     "output_type": "stream",
     "text": [
      "No. of unique values: 10\n",
      "No.of Null Values: 0\n"
     ]
    },
    {
     "data": {
      "text/plain": [
       "'VAR_1402'"
      ]
     },
     "execution_count": 74,
     "metadata": {},
     "output_type": "execute_result"
    },
    {
     "name": "stdout",
     "output_type": "stream",
     "text": [
      "No. of unique values: 85\n",
      "No.of Null Values: 0\n"
     ]
    },
    {
     "data": {
      "text/plain": [
       "'VAR_1403'"
      ]
     },
     "execution_count": 74,
     "metadata": {},
     "output_type": "execute_result"
    },
    {
     "name": "stdout",
     "output_type": "stream",
     "text": [
      "No. of unique values: 362\n",
      "No.of Null Values: 0\n"
     ]
    },
    {
     "data": {
      "text/plain": [
       "'VAR_1404'"
      ]
     },
     "execution_count": 74,
     "metadata": {},
     "output_type": "execute_result"
    },
    {
     "name": "stdout",
     "output_type": "stream",
     "text": [
      "No. of unique values: 68\n",
      "No.of Null Values: 0\n"
     ]
    },
    {
     "data": {
      "text/plain": [
       "'VAR_1405'"
      ]
     },
     "execution_count": 74,
     "metadata": {},
     "output_type": "execute_result"
    },
    {
     "name": "stdout",
     "output_type": "stream",
     "text": [
      "No. of unique values: 10\n",
      "No.of Null Values: 0\n"
     ]
    },
    {
     "data": {
      "text/plain": [
       "'VAR_1406'"
      ]
     },
     "execution_count": 74,
     "metadata": {},
     "output_type": "execute_result"
    },
    {
     "name": "stdout",
     "output_type": "stream",
     "text": [
      "No. of unique values: 9\n",
      "No.of Null Values: 0\n"
     ]
    },
    {
     "data": {
      "text/plain": [
       "'VAR_1407'"
      ]
     },
     "execution_count": 74,
     "metadata": {},
     "output_type": "execute_result"
    },
    {
     "name": "stdout",
     "output_type": "stream",
     "text": [
      "No. of unique values: 9\n",
      "No.of Null Values: 0\n"
     ]
    },
    {
     "data": {
      "text/plain": [
       "'VAR_1408'"
      ]
     },
     "execution_count": 74,
     "metadata": {},
     "output_type": "execute_result"
    },
    {
     "name": "stdout",
     "output_type": "stream",
     "text": [
      "No. of unique values: 10\n",
      "No.of Null Values: 0\n"
     ]
    },
    {
     "data": {
      "text/plain": [
       "'VAR_1409'"
      ]
     },
     "execution_count": 74,
     "metadata": {},
     "output_type": "execute_result"
    },
    {
     "name": "stdout",
     "output_type": "stream",
     "text": [
      "No. of unique values: 70\n",
      "No.of Null Values: 0\n"
     ]
    },
    {
     "data": {
      "text/plain": [
       "'VAR_1410'"
      ]
     },
     "execution_count": 74,
     "metadata": {},
     "output_type": "execute_result"
    },
    {
     "name": "stdout",
     "output_type": "stream",
     "text": [
      "No. of unique values: 36\n",
      "No.of Null Values: 0\n"
     ]
    },
    {
     "data": {
      "text/plain": [
       "'VAR_1411'"
      ]
     },
     "execution_count": 74,
     "metadata": {},
     "output_type": "execute_result"
    },
    {
     "name": "stdout",
     "output_type": "stream",
     "text": [
      "No. of unique values: 14\n",
      "No.of Null Values: 0\n"
     ]
    },
    {
     "data": {
      "text/plain": [
       "'VAR_1412'"
      ]
     },
     "execution_count": 74,
     "metadata": {},
     "output_type": "execute_result"
    },
    {
     "name": "stdout",
     "output_type": "stream",
     "text": [
      "No. of unique values: 11\n",
      "No.of Null Values: 0\n"
     ]
    },
    {
     "data": {
      "text/plain": [
       "'VAR_1413'"
      ]
     },
     "execution_count": 74,
     "metadata": {},
     "output_type": "execute_result"
    },
    {
     "name": "stdout",
     "output_type": "stream",
     "text": [
      "No. of unique values: 13\n",
      "No.of Null Values: 0\n"
     ]
    },
    {
     "data": {
      "text/plain": [
       "'VAR_1414'"
      ]
     },
     "execution_count": 74,
     "metadata": {},
     "output_type": "execute_result"
    },
    {
     "name": "stdout",
     "output_type": "stream",
     "text": [
      "No. of unique values: 10\n",
      "No.of Null Values: 0\n"
     ]
    },
    {
     "data": {
      "text/plain": [
       "'VAR_1415'"
      ]
     },
     "execution_count": 74,
     "metadata": {},
     "output_type": "execute_result"
    },
    {
     "name": "stdout",
     "output_type": "stream",
     "text": [
      "No. of unique values: 12\n",
      "No.of Null Values: 0\n"
     ]
    },
    {
     "data": {
      "text/plain": [
       "'VAR_1416'"
      ]
     },
     "execution_count": 74,
     "metadata": {},
     "output_type": "execute_result"
    },
    {
     "name": "stdout",
     "output_type": "stream",
     "text": [
      "No. of unique values: 9\n",
      "No.of Null Values: 0\n"
     ]
    },
    {
     "data": {
      "text/plain": [
       "'VAR_1417'"
      ]
     },
     "execution_count": 74,
     "metadata": {},
     "output_type": "execute_result"
    },
    {
     "name": "stdout",
     "output_type": "stream",
     "text": [
      "No. of unique values: 11\n",
      "No.of Null Values: 0\n"
     ]
    },
    {
     "data": {
      "text/plain": [
       "'VAR_1418'"
      ]
     },
     "execution_count": 74,
     "metadata": {},
     "output_type": "execute_result"
    },
    {
     "name": "stdout",
     "output_type": "stream",
     "text": [
      "No. of unique values: 8055\n",
      "No.of Null Values: 0\n"
     ]
    },
    {
     "data": {
      "text/plain": [
       "'VAR_1419'"
      ]
     },
     "execution_count": 74,
     "metadata": {},
     "output_type": "execute_result"
    },
    {
     "name": "stdout",
     "output_type": "stream",
     "text": [
      "No. of unique values: 8810\n",
      "No.of Null Values: 0\n"
     ]
    },
    {
     "data": {
      "text/plain": [
       "'VAR_1420'"
      ]
     },
     "execution_count": 74,
     "metadata": {},
     "output_type": "execute_result"
    },
    {
     "name": "stdout",
     "output_type": "stream",
     "text": [
      "No. of unique values: 7959\n",
      "No.of Null Values: 0\n"
     ]
    },
    {
     "data": {
      "text/plain": [
       "'VAR_1421'"
      ]
     },
     "execution_count": 74,
     "metadata": {},
     "output_type": "execute_result"
    },
    {
     "name": "stdout",
     "output_type": "stream",
     "text": [
      "No. of unique values: 8198\n",
      "No.of Null Values: 0\n"
     ]
    },
    {
     "data": {
      "text/plain": [
       "'VAR_1422'"
      ]
     },
     "execution_count": 74,
     "metadata": {},
     "output_type": "execute_result"
    },
    {
     "name": "stdout",
     "output_type": "stream",
     "text": [
      "No. of unique values: 9\n",
      "No.of Null Values: 0\n"
     ]
    },
    {
     "data": {
      "text/plain": [
       "'VAR_1423'"
      ]
     },
     "execution_count": 74,
     "metadata": {},
     "output_type": "execute_result"
    },
    {
     "name": "stdout",
     "output_type": "stream",
     "text": [
      "No. of unique values: 10\n",
      "No.of Null Values: 0\n"
     ]
    },
    {
     "data": {
      "text/plain": [
       "'VAR_1424'"
      ]
     },
     "execution_count": 74,
     "metadata": {},
     "output_type": "execute_result"
    },
    {
     "name": "stdout",
     "output_type": "stream",
     "text": [
      "No. of unique values: 272\n",
      "No.of Null Values: 0\n"
     ]
    },
    {
     "data": {
      "text/plain": [
       "'VAR_1425'"
      ]
     },
     "execution_count": 74,
     "metadata": {},
     "output_type": "execute_result"
    },
    {
     "name": "stdout",
     "output_type": "stream",
     "text": [
      "No. of unique values: 319\n",
      "No.of Null Values: 0\n"
     ]
    },
    {
     "data": {
      "text/plain": [
       "'VAR_1426'"
      ]
     },
     "execution_count": 74,
     "metadata": {},
     "output_type": "execute_result"
    },
    {
     "name": "stdout",
     "output_type": "stream",
     "text": [
      "No. of unique values: 272\n",
      "No.of Null Values: 0\n"
     ]
    },
    {
     "data": {
      "text/plain": [
       "'VAR_1427'"
      ]
     },
     "execution_count": 74,
     "metadata": {},
     "output_type": "execute_result"
    },
    {
     "name": "stdout",
     "output_type": "stream",
     "text": [
      "No. of unique values: 2\n",
      "No.of Null Values: 0\n"
     ]
    },
    {
     "data": {
      "text/plain": [
       "'VAR_1428'"
      ]
     },
     "execution_count": 74,
     "metadata": {},
     "output_type": "execute_result"
    },
    {
     "name": "stdout",
     "output_type": "stream",
     "text": [
      "No. of unique values: 1\n",
      "No.of Null Values: 0\n"
     ]
    },
    {
     "data": {
      "text/plain": [
       "'VAR_1429'"
      ]
     },
     "execution_count": 74,
     "metadata": {},
     "output_type": "execute_result"
    },
    {
     "name": "stdout",
     "output_type": "stream",
     "text": [
      "No. of unique values: 14\n",
      "No.of Null Values: 0\n"
     ]
    },
    {
     "data": {
      "text/plain": [
       "'VAR_1430'"
      ]
     },
     "execution_count": 74,
     "metadata": {},
     "output_type": "execute_result"
    },
    {
     "name": "stdout",
     "output_type": "stream",
     "text": [
      "No. of unique values: 5\n",
      "No.of Null Values: 0\n"
     ]
    },
    {
     "data": {
      "text/plain": [
       "'VAR_1431'"
      ]
     },
     "execution_count": 74,
     "metadata": {},
     "output_type": "execute_result"
    },
    {
     "name": "stdout",
     "output_type": "stream",
     "text": [
      "No. of unique values: 8\n",
      "No.of Null Values: 0\n"
     ]
    },
    {
     "data": {
      "text/plain": [
       "'VAR_1432'"
      ]
     },
     "execution_count": 74,
     "metadata": {},
     "output_type": "execute_result"
    },
    {
     "name": "stdout",
     "output_type": "stream",
     "text": [
      "No. of unique values: 5\n",
      "No.of Null Values: 0\n"
     ]
    },
    {
     "data": {
      "text/plain": [
       "'VAR_1433'"
      ]
     },
     "execution_count": 74,
     "metadata": {},
     "output_type": "execute_result"
    },
    {
     "name": "stdout",
     "output_type": "stream",
     "text": [
      "No. of unique values: 8\n",
      "No.of Null Values: 0\n"
     ]
    },
    {
     "data": {
      "text/plain": [
       "'VAR_1434'"
      ]
     },
     "execution_count": 74,
     "metadata": {},
     "output_type": "execute_result"
    },
    {
     "name": "stdout",
     "output_type": "stream",
     "text": [
      "No. of unique values: 8\n",
      "No.of Null Values: 0\n"
     ]
    },
    {
     "data": {
      "text/plain": [
       "'VAR_1435'"
      ]
     },
     "execution_count": 74,
     "metadata": {},
     "output_type": "execute_result"
    },
    {
     "name": "stdout",
     "output_type": "stream",
     "text": [
      "No. of unique values: 8\n",
      "No.of Null Values: 0\n"
     ]
    },
    {
     "data": {
      "text/plain": [
       "'VAR_1436'"
      ]
     },
     "execution_count": 74,
     "metadata": {},
     "output_type": "execute_result"
    },
    {
     "name": "stdout",
     "output_type": "stream",
     "text": [
      "No. of unique values: 396\n",
      "No.of Null Values: 0\n"
     ]
    },
    {
     "data": {
      "text/plain": [
       "'VAR_1437'"
      ]
     },
     "execution_count": 74,
     "metadata": {},
     "output_type": "execute_result"
    },
    {
     "name": "stdout",
     "output_type": "stream",
     "text": [
      "No. of unique values: 3741\n",
      "No.of Null Values: 0\n"
     ]
    },
    {
     "data": {
      "text/plain": [
       "'VAR_1438'"
      ]
     },
     "execution_count": 74,
     "metadata": {},
     "output_type": "execute_result"
    },
    {
     "name": "stdout",
     "output_type": "stream",
     "text": [
      "No. of unique values: 1086\n",
      "No.of Null Values: 0\n"
     ]
    },
    {
     "data": {
      "text/plain": [
       "'VAR_1439'"
      ]
     },
     "execution_count": 74,
     "metadata": {},
     "output_type": "execute_result"
    },
    {
     "name": "stdout",
     "output_type": "stream",
     "text": [
      "No. of unique values: 1045\n",
      "No.of Null Values: 0\n"
     ]
    },
    {
     "data": {
      "text/plain": [
       "'VAR_1440'"
      ]
     },
     "execution_count": 74,
     "metadata": {},
     "output_type": "execute_result"
    },
    {
     "name": "stdout",
     "output_type": "stream",
     "text": [
      "No. of unique values: 1083\n",
      "No.of Null Values: 0\n"
     ]
    },
    {
     "data": {
      "text/plain": [
       "'VAR_1441'"
      ]
     },
     "execution_count": 74,
     "metadata": {},
     "output_type": "execute_result"
    },
    {
     "name": "stdout",
     "output_type": "stream",
     "text": [
      "No. of unique values: 2270\n",
      "No.of Null Values: 0\n"
     ]
    },
    {
     "data": {
      "text/plain": [
       "'VAR_1442'"
      ]
     },
     "execution_count": 74,
     "metadata": {},
     "output_type": "execute_result"
    },
    {
     "name": "stdout",
     "output_type": "stream",
     "text": [
      "No. of unique values: 928\n",
      "No.of Null Values: 0\n"
     ]
    },
    {
     "data": {
      "text/plain": [
       "'VAR_1443'"
      ]
     },
     "execution_count": 74,
     "metadata": {},
     "output_type": "execute_result"
    },
    {
     "name": "stdout",
     "output_type": "stream",
     "text": [
      "No. of unique values: 9\n",
      "No.of Null Values: 0\n"
     ]
    },
    {
     "data": {
      "text/plain": [
       "'VAR_1444'"
      ]
     },
     "execution_count": 74,
     "metadata": {},
     "output_type": "execute_result"
    },
    {
     "name": "stdout",
     "output_type": "stream",
     "text": [
      "No. of unique values: 131\n",
      "No.of Null Values: 0\n"
     ]
    },
    {
     "data": {
      "text/plain": [
       "'VAR_1445'"
      ]
     },
     "execution_count": 74,
     "metadata": {},
     "output_type": "execute_result"
    },
    {
     "name": "stdout",
     "output_type": "stream",
     "text": [
      "No. of unique values: 62\n",
      "No.of Null Values: 0\n"
     ]
    },
    {
     "data": {
      "text/plain": [
       "'VAR_1446'"
      ]
     },
     "execution_count": 74,
     "metadata": {},
     "output_type": "execute_result"
    },
    {
     "name": "stdout",
     "output_type": "stream",
     "text": [
      "No. of unique values: 275\n",
      "No.of Null Values: 0\n"
     ]
    },
    {
     "data": {
      "text/plain": [
       "'VAR_1447'"
      ]
     },
     "execution_count": 74,
     "metadata": {},
     "output_type": "execute_result"
    },
    {
     "name": "stdout",
     "output_type": "stream",
     "text": [
      "No. of unique values: 292\n",
      "No.of Null Values: 0\n"
     ]
    },
    {
     "data": {
      "text/plain": [
       "'VAR_1448'"
      ]
     },
     "execution_count": 74,
     "metadata": {},
     "output_type": "execute_result"
    },
    {
     "name": "stdout",
     "output_type": "stream",
     "text": [
      "No. of unique values: 275\n",
      "No.of Null Values: 0\n"
     ]
    },
    {
     "data": {
      "text/plain": [
       "'VAR_1449'"
      ]
     },
     "execution_count": 74,
     "metadata": {},
     "output_type": "execute_result"
    },
    {
     "name": "stdout",
     "output_type": "stream",
     "text": [
      "No. of unique values: 19\n",
      "No.of Null Values: 0\n"
     ]
    },
    {
     "data": {
      "text/plain": [
       "'VAR_1450'"
      ]
     },
     "execution_count": 74,
     "metadata": {},
     "output_type": "execute_result"
    },
    {
     "name": "stdout",
     "output_type": "stream",
     "text": [
      "No. of unique values: 17\n",
      "No.of Null Values: 0\n"
     ]
    },
    {
     "data": {
      "text/plain": [
       "'VAR_1451'"
      ]
     },
     "execution_count": 74,
     "metadata": {},
     "output_type": "execute_result"
    },
    {
     "name": "stdout",
     "output_type": "stream",
     "text": [
      "No. of unique values: 23913\n",
      "No.of Null Values: 0\n"
     ]
    },
    {
     "data": {
      "text/plain": [
       "'VAR_1452'"
      ]
     },
     "execution_count": 74,
     "metadata": {},
     "output_type": "execute_result"
    },
    {
     "name": "stdout",
     "output_type": "stream",
     "text": [
      "No. of unique values: 24415\n",
      "No.of Null Values: 0\n"
     ]
    },
    {
     "data": {
      "text/plain": [
       "'VAR_1453'"
      ]
     },
     "execution_count": 74,
     "metadata": {},
     "output_type": "execute_result"
    },
    {
     "name": "stdout",
     "output_type": "stream",
     "text": [
      "No. of unique values: 1835\n",
      "No.of Null Values: 0\n"
     ]
    },
    {
     "data": {
      "text/plain": [
       "'VAR_1454'"
      ]
     },
     "execution_count": 74,
     "metadata": {},
     "output_type": "execute_result"
    },
    {
     "name": "stdout",
     "output_type": "stream",
     "text": [
      "No. of unique values: 298\n",
      "No.of Null Values: 0\n"
     ]
    },
    {
     "data": {
      "text/plain": [
       "'VAR_1455'"
      ]
     },
     "execution_count": 74,
     "metadata": {},
     "output_type": "execute_result"
    },
    {
     "name": "stdout",
     "output_type": "stream",
     "text": [
      "No. of unique values: 348\n",
      "No.of Null Values: 0\n"
     ]
    },
    {
     "data": {
      "text/plain": [
       "'VAR_1456'"
      ]
     },
     "execution_count": 74,
     "metadata": {},
     "output_type": "execute_result"
    },
    {
     "name": "stdout",
     "output_type": "stream",
     "text": [
      "No. of unique values: 86\n",
      "No.of Null Values: 0\n"
     ]
    },
    {
     "data": {
      "text/plain": [
       "'VAR_1457'"
      ]
     },
     "execution_count": 74,
     "metadata": {},
     "output_type": "execute_result"
    },
    {
     "name": "stdout",
     "output_type": "stream",
     "text": [
      "No. of unique values: 37\n",
      "No.of Null Values: 0\n"
     ]
    },
    {
     "data": {
      "text/plain": [
       "'VAR_1458'"
      ]
     },
     "execution_count": 74,
     "metadata": {},
     "output_type": "execute_result"
    },
    {
     "name": "stdout",
     "output_type": "stream",
     "text": [
      "No. of unique values: 9\n",
      "No.of Null Values: 0\n"
     ]
    },
    {
     "data": {
      "text/plain": [
       "'VAR_1459'"
      ]
     },
     "execution_count": 74,
     "metadata": {},
     "output_type": "execute_result"
    },
    {
     "name": "stdout",
     "output_type": "stream",
     "text": [
      "No. of unique values: 12\n",
      "No.of Null Values: 0\n"
     ]
    },
    {
     "data": {
      "text/plain": [
       "'VAR_1460'"
      ]
     },
     "execution_count": 74,
     "metadata": {},
     "output_type": "execute_result"
    },
    {
     "name": "stdout",
     "output_type": "stream",
     "text": [
      "No. of unique values: 16\n",
      "No.of Null Values: 0\n"
     ]
    },
    {
     "data": {
      "text/plain": [
       "'VAR_1461'"
      ]
     },
     "execution_count": 74,
     "metadata": {},
     "output_type": "execute_result"
    },
    {
     "name": "stdout",
     "output_type": "stream",
     "text": [
      "No. of unique values: 20\n",
      "No.of Null Values: 0\n"
     ]
    },
    {
     "data": {
      "text/plain": [
       "'VAR_1462'"
      ]
     },
     "execution_count": 74,
     "metadata": {},
     "output_type": "execute_result"
    },
    {
     "name": "stdout",
     "output_type": "stream",
     "text": [
      "No. of unique values: 88\n",
      "No.of Null Values: 0\n"
     ]
    },
    {
     "data": {
      "text/plain": [
       "'VAR_1463'"
      ]
     },
     "execution_count": 74,
     "metadata": {},
     "output_type": "execute_result"
    },
    {
     "name": "stdout",
     "output_type": "stream",
     "text": [
      "No. of unique values: 39\n",
      "No.of Null Values: 0\n"
     ]
    },
    {
     "data": {
      "text/plain": [
       "'VAR_1464'"
      ]
     },
     "execution_count": 74,
     "metadata": {},
     "output_type": "execute_result"
    },
    {
     "name": "stdout",
     "output_type": "stream",
     "text": [
      "No. of unique values: 43\n",
      "No.of Null Values: 0\n"
     ]
    },
    {
     "data": {
      "text/plain": [
       "'VAR_1465'"
      ]
     },
     "execution_count": 74,
     "metadata": {},
     "output_type": "execute_result"
    },
    {
     "name": "stdout",
     "output_type": "stream",
     "text": [
      "No. of unique values: 48\n",
      "No.of Null Values: 0\n"
     ]
    },
    {
     "data": {
      "text/plain": [
       "'VAR_1466'"
      ]
     },
     "execution_count": 74,
     "metadata": {},
     "output_type": "execute_result"
    },
    {
     "name": "stdout",
     "output_type": "stream",
     "text": [
      "No. of unique values: 11\n",
      "No.of Null Values: 0\n"
     ]
    },
    {
     "data": {
      "text/plain": [
       "'VAR_1467'"
      ]
     },
     "execution_count": 74,
     "metadata": {},
     "output_type": "execute_result"
    },
    {
     "name": "stdout",
     "output_type": "stream",
     "text": [
      "No. of unique values: 16\n",
      "No.of Null Values: 0\n"
     ]
    },
    {
     "data": {
      "text/plain": [
       "'VAR_1468'"
      ]
     },
     "execution_count": 74,
     "metadata": {},
     "output_type": "execute_result"
    },
    {
     "name": "stdout",
     "output_type": "stream",
     "text": [
      "No. of unique values: 26\n",
      "No.of Null Values: 0\n"
     ]
    },
    {
     "data": {
      "text/plain": [
       "'VAR_1469'"
      ]
     },
     "execution_count": 74,
     "metadata": {},
     "output_type": "execute_result"
    },
    {
     "name": "stdout",
     "output_type": "stream",
     "text": [
      "No. of unique values: 23\n",
      "No.of Null Values: 0\n"
     ]
    },
    {
     "data": {
      "text/plain": [
       "'VAR_1470'"
      ]
     },
     "execution_count": 74,
     "metadata": {},
     "output_type": "execute_result"
    },
    {
     "name": "stdout",
     "output_type": "stream",
     "text": [
      "No. of unique values: 39\n",
      "No.of Null Values: 0\n"
     ]
    },
    {
     "data": {
      "text/plain": [
       "'VAR_1471'"
      ]
     },
     "execution_count": 74,
     "metadata": {},
     "output_type": "execute_result"
    },
    {
     "name": "stdout",
     "output_type": "stream",
     "text": [
      "No. of unique values: 27\n",
      "No.of Null Values: 0\n"
     ]
    },
    {
     "data": {
      "text/plain": [
       "'VAR_1472'"
      ]
     },
     "execution_count": 74,
     "metadata": {},
     "output_type": "execute_result"
    },
    {
     "name": "stdout",
     "output_type": "stream",
     "text": [
      "No. of unique values: 31\n",
      "No.of Null Values: 0\n"
     ]
    },
    {
     "data": {
      "text/plain": [
       "'VAR_1473'"
      ]
     },
     "execution_count": 74,
     "metadata": {},
     "output_type": "execute_result"
    },
    {
     "name": "stdout",
     "output_type": "stream",
     "text": [
      "No. of unique values: 36\n",
      "No.of Null Values: 0\n"
     ]
    },
    {
     "data": {
      "text/plain": [
       "'VAR_1474'"
      ]
     },
     "execution_count": 74,
     "metadata": {},
     "output_type": "execute_result"
    },
    {
     "name": "stdout",
     "output_type": "stream",
     "text": [
      "No. of unique values: 38\n",
      "No.of Null Values: 0\n"
     ]
    },
    {
     "data": {
      "text/plain": [
       "'VAR_1475'"
      ]
     },
     "execution_count": 74,
     "metadata": {},
     "output_type": "execute_result"
    },
    {
     "name": "stdout",
     "output_type": "stream",
     "text": [
      "No. of unique values: 27\n",
      "No.of Null Values: 0\n"
     ]
    },
    {
     "data": {
      "text/plain": [
       "'VAR_1476'"
      ]
     },
     "execution_count": 74,
     "metadata": {},
     "output_type": "execute_result"
    },
    {
     "name": "stdout",
     "output_type": "stream",
     "text": [
      "No. of unique values: 30\n",
      "No.of Null Values: 0\n"
     ]
    },
    {
     "data": {
      "text/plain": [
       "'VAR_1477'"
      ]
     },
     "execution_count": 74,
     "metadata": {},
     "output_type": "execute_result"
    },
    {
     "name": "stdout",
     "output_type": "stream",
     "text": [
      "No. of unique values: 35\n",
      "No.of Null Values: 0\n"
     ]
    },
    {
     "data": {
      "text/plain": [
       "'VAR_1478'"
      ]
     },
     "execution_count": 74,
     "metadata": {},
     "output_type": "execute_result"
    },
    {
     "name": "stdout",
     "output_type": "stream",
     "text": [
      "No. of unique values: 38\n",
      "No.of Null Values: 0\n"
     ]
    },
    {
     "data": {
      "text/plain": [
       "'VAR_1479'"
      ]
     },
     "execution_count": 74,
     "metadata": {},
     "output_type": "execute_result"
    },
    {
     "name": "stdout",
     "output_type": "stream",
     "text": [
      "No. of unique values: 27\n",
      "No.of Null Values: 0\n"
     ]
    },
    {
     "data": {
      "text/plain": [
       "'VAR_1480'"
      ]
     },
     "execution_count": 74,
     "metadata": {},
     "output_type": "execute_result"
    },
    {
     "name": "stdout",
     "output_type": "stream",
     "text": [
      "No. of unique values: 30\n",
      "No.of Null Values: 0\n"
     ]
    },
    {
     "data": {
      "text/plain": [
       "'VAR_1481'"
      ]
     },
     "execution_count": 74,
     "metadata": {},
     "output_type": "execute_result"
    },
    {
     "name": "stdout",
     "output_type": "stream",
     "text": [
      "No. of unique values: 34\n",
      "No.of Null Values: 0\n"
     ]
    },
    {
     "data": {
      "text/plain": [
       "'VAR_1482'"
      ]
     },
     "execution_count": 74,
     "metadata": {},
     "output_type": "execute_result"
    },
    {
     "name": "stdout",
     "output_type": "stream",
     "text": [
      "No. of unique values: 36\n",
      "No.of Null Values: 0\n"
     ]
    },
    {
     "data": {
      "text/plain": [
       "'VAR_1483'"
      ]
     },
     "execution_count": 74,
     "metadata": {},
     "output_type": "execute_result"
    },
    {
     "name": "stdout",
     "output_type": "stream",
     "text": [
      "No. of unique values: 32\n",
      "No.of Null Values: 0\n"
     ]
    },
    {
     "data": {
      "text/plain": [
       "'VAR_1484'"
      ]
     },
     "execution_count": 74,
     "metadata": {},
     "output_type": "execute_result"
    },
    {
     "name": "stdout",
     "output_type": "stream",
     "text": [
      "No. of unique values: 51\n",
      "No.of Null Values: 0\n"
     ]
    },
    {
     "data": {
      "text/plain": [
       "'VAR_1485'"
      ]
     },
     "execution_count": 74,
     "metadata": {},
     "output_type": "execute_result"
    },
    {
     "name": "stdout",
     "output_type": "stream",
     "text": [
      "No. of unique values: 31\n",
      "No.of Null Values: 0\n"
     ]
    },
    {
     "data": {
      "text/plain": [
       "'VAR_1486'"
      ]
     },
     "execution_count": 74,
     "metadata": {},
     "output_type": "execute_result"
    },
    {
     "name": "stdout",
     "output_type": "stream",
     "text": [
      "No. of unique values: 40\n",
      "No.of Null Values: 0\n"
     ]
    },
    {
     "data": {
      "text/plain": [
       "'VAR_1487'"
      ]
     },
     "execution_count": 74,
     "metadata": {},
     "output_type": "execute_result"
    },
    {
     "name": "stdout",
     "output_type": "stream",
     "text": [
      "No. of unique values: 74\n",
      "No.of Null Values: 0\n"
     ]
    },
    {
     "data": {
      "text/plain": [
       "'VAR_1488'"
      ]
     },
     "execution_count": 74,
     "metadata": {},
     "output_type": "execute_result"
    },
    {
     "name": "stdout",
     "output_type": "stream",
     "text": [
      "No. of unique values: 98\n",
      "No.of Null Values: 0\n"
     ]
    },
    {
     "data": {
      "text/plain": [
       "'VAR_1489'"
      ]
     },
     "execution_count": 74,
     "metadata": {},
     "output_type": "execute_result"
    },
    {
     "name": "stdout",
     "output_type": "stream",
     "text": [
      "No. of unique values: 44818\n",
      "No.of Null Values: 0\n"
     ]
    },
    {
     "data": {
      "text/plain": [
       "'VAR_1490'"
      ]
     },
     "execution_count": 74,
     "metadata": {},
     "output_type": "execute_result"
    },
    {
     "name": "stdout",
     "output_type": "stream",
     "text": [
      "No. of unique values: 4874\n",
      "No.of Null Values: 0\n"
     ]
    },
    {
     "data": {
      "text/plain": [
       "'VAR_1491'"
      ]
     },
     "execution_count": 74,
     "metadata": {},
     "output_type": "execute_result"
    },
    {
     "name": "stdout",
     "output_type": "stream",
     "text": [
      "No. of unique values: 1736\n",
      "No.of Null Values: 0\n"
     ]
    },
    {
     "data": {
      "text/plain": [
       "'VAR_1492'"
      ]
     },
     "execution_count": 74,
     "metadata": {},
     "output_type": "execute_result"
    },
    {
     "name": "stdout",
     "output_type": "stream",
     "text": [
      "No. of unique values: 3216\n",
      "No.of Null Values: 0\n"
     ]
    },
    {
     "data": {
      "text/plain": [
       "'VAR_1493'"
      ]
     },
     "execution_count": 74,
     "metadata": {},
     "output_type": "execute_result"
    },
    {
     "name": "stdout",
     "output_type": "stream",
     "text": [
      "No. of unique values: 2619\n",
      "No.of Null Values: 0\n"
     ]
    },
    {
     "data": {
      "text/plain": [
       "'VAR_1494'"
      ]
     },
     "execution_count": 74,
     "metadata": {},
     "output_type": "execute_result"
    },
    {
     "name": "stdout",
     "output_type": "stream",
     "text": [
      "No. of unique values: 50377\n",
      "No.of Null Values: 0\n"
     ]
    },
    {
     "data": {
      "text/plain": [
       "'VAR_1495'"
      ]
     },
     "execution_count": 74,
     "metadata": {},
     "output_type": "execute_result"
    },
    {
     "name": "stdout",
     "output_type": "stream",
     "text": [
      "No. of unique values: 45298\n",
      "No.of Null Values: 0\n"
     ]
    },
    {
     "data": {
      "text/plain": [
       "'VAR_1496'"
      ]
     },
     "execution_count": 74,
     "metadata": {},
     "output_type": "execute_result"
    },
    {
     "name": "stdout",
     "output_type": "stream",
     "text": [
      "No. of unique values: 37532\n",
      "No.of Null Values: 0\n"
     ]
    },
    {
     "data": {
      "text/plain": [
       "'VAR_1497'"
      ]
     },
     "execution_count": 74,
     "metadata": {},
     "output_type": "execute_result"
    },
    {
     "name": "stdout",
     "output_type": "stream",
     "text": [
      "No. of unique values: 31946\n",
      "No.of Null Values: 0\n"
     ]
    },
    {
     "data": {
      "text/plain": [
       "'VAR_1498'"
      ]
     },
     "execution_count": 74,
     "metadata": {},
     "output_type": "execute_result"
    },
    {
     "name": "stdout",
     "output_type": "stream",
     "text": [
      "No. of unique values: 1353\n",
      "No.of Null Values: 0\n"
     ]
    },
    {
     "data": {
      "text/plain": [
       "'VAR_1499'"
      ]
     },
     "execution_count": 74,
     "metadata": {},
     "output_type": "execute_result"
    },
    {
     "name": "stdout",
     "output_type": "stream",
     "text": [
      "No. of unique values: 1052\n",
      "No.of Null Values: 0\n"
     ]
    },
    {
     "data": {
      "text/plain": [
       "'VAR_1500'"
      ]
     },
     "execution_count": 74,
     "metadata": {},
     "output_type": "execute_result"
    },
    {
     "name": "stdout",
     "output_type": "stream",
     "text": [
      "No. of unique values: 1831\n",
      "No.of Null Values: 0\n"
     ]
    },
    {
     "data": {
      "text/plain": [
       "'VAR_1501'"
      ]
     },
     "execution_count": 74,
     "metadata": {},
     "output_type": "execute_result"
    },
    {
     "name": "stdout",
     "output_type": "stream",
     "text": [
      "No. of unique values: 2005\n",
      "No.of Null Values: 0\n"
     ]
    },
    {
     "data": {
      "text/plain": [
       "'VAR_1502'"
      ]
     },
     "execution_count": 74,
     "metadata": {},
     "output_type": "execute_result"
    },
    {
     "name": "stdout",
     "output_type": "stream",
     "text": [
      "No. of unique values: 2570\n",
      "No.of Null Values: 0\n"
     ]
    },
    {
     "data": {
      "text/plain": [
       "'VAR_1503'"
      ]
     },
     "execution_count": 74,
     "metadata": {},
     "output_type": "execute_result"
    },
    {
     "name": "stdout",
     "output_type": "stream",
     "text": [
      "No. of unique values: 910\n",
      "No.of Null Values: 0\n"
     ]
    },
    {
     "data": {
      "text/plain": [
       "'VAR_1504'"
      ]
     },
     "execution_count": 74,
     "metadata": {},
     "output_type": "execute_result"
    },
    {
     "name": "stdout",
     "output_type": "stream",
     "text": [
      "No. of unique values: 1109\n",
      "No.of Null Values: 0\n"
     ]
    },
    {
     "data": {
      "text/plain": [
       "'VAR_1505'"
      ]
     },
     "execution_count": 74,
     "metadata": {},
     "output_type": "execute_result"
    },
    {
     "name": "stdout",
     "output_type": "stream",
     "text": [
      "No. of unique values: 10\n",
      "No.of Null Values: 0\n"
     ]
    },
    {
     "data": {
      "text/plain": [
       "'VAR_1506'"
      ]
     },
     "execution_count": 74,
     "metadata": {},
     "output_type": "execute_result"
    },
    {
     "name": "stdout",
     "output_type": "stream",
     "text": [
      "No. of unique values: 8\n",
      "No.of Null Values: 0\n"
     ]
    },
    {
     "data": {
      "text/plain": [
       "'VAR_1507'"
      ]
     },
     "execution_count": 74,
     "metadata": {},
     "output_type": "execute_result"
    },
    {
     "name": "stdout",
     "output_type": "stream",
     "text": [
      "No. of unique values: 10\n",
      "No.of Null Values: 0\n"
     ]
    },
    {
     "data": {
      "text/plain": [
       "'VAR_1508'"
      ]
     },
     "execution_count": 74,
     "metadata": {},
     "output_type": "execute_result"
    },
    {
     "name": "stdout",
     "output_type": "stream",
     "text": [
      "No. of unique values: 10\n",
      "No.of Null Values: 0\n"
     ]
    },
    {
     "data": {
      "text/plain": [
       "'VAR_1509'"
      ]
     },
     "execution_count": 74,
     "metadata": {},
     "output_type": "execute_result"
    },
    {
     "name": "stdout",
     "output_type": "stream",
     "text": [
      "No. of unique values: 10\n",
      "No.of Null Values: 0\n"
     ]
    },
    {
     "data": {
      "text/plain": [
       "'VAR_1510'"
      ]
     },
     "execution_count": 74,
     "metadata": {},
     "output_type": "execute_result"
    },
    {
     "name": "stdout",
     "output_type": "stream",
     "text": [
      "No. of unique values: 10\n",
      "No.of Null Values: 0\n"
     ]
    },
    {
     "data": {
      "text/plain": [
       "'VAR_1511'"
      ]
     },
     "execution_count": 74,
     "metadata": {},
     "output_type": "execute_result"
    },
    {
     "name": "stdout",
     "output_type": "stream",
     "text": [
      "No. of unique values: 10\n",
      "No.of Null Values: 0\n"
     ]
    },
    {
     "data": {
      "text/plain": [
       "'VAR_1512'"
      ]
     },
     "execution_count": 74,
     "metadata": {},
     "output_type": "execute_result"
    },
    {
     "name": "stdout",
     "output_type": "stream",
     "text": [
      "No. of unique values: 231\n",
      "No.of Null Values: 0\n"
     ]
    },
    {
     "data": {
      "text/plain": [
       "'VAR_1513'"
      ]
     },
     "execution_count": 74,
     "metadata": {},
     "output_type": "execute_result"
    },
    {
     "name": "stdout",
     "output_type": "stream",
     "text": [
      "No. of unique values: 99\n",
      "No.of Null Values: 0\n"
     ]
    },
    {
     "data": {
      "text/plain": [
       "'VAR_1514'"
      ]
     },
     "execution_count": 74,
     "metadata": {},
     "output_type": "execute_result"
    },
    {
     "name": "stdout",
     "output_type": "stream",
     "text": [
      "No. of unique values: 98\n",
      "No.of Null Values: 0\n"
     ]
    },
    {
     "data": {
      "text/plain": [
       "'VAR_1515'"
      ]
     },
     "execution_count": 74,
     "metadata": {},
     "output_type": "execute_result"
    },
    {
     "name": "stdout",
     "output_type": "stream",
     "text": [
      "No. of unique values: 101\n",
      "No.of Null Values: 0\n"
     ]
    },
    {
     "data": {
      "text/plain": [
       "'VAR_1516'"
      ]
     },
     "execution_count": 74,
     "metadata": {},
     "output_type": "execute_result"
    },
    {
     "name": "stdout",
     "output_type": "stream",
     "text": [
      "No. of unique values: 99\n",
      "No.of Null Values: 0\n"
     ]
    },
    {
     "data": {
      "text/plain": [
       "'VAR_1517'"
      ]
     },
     "execution_count": 74,
     "metadata": {},
     "output_type": "execute_result"
    },
    {
     "name": "stdout",
     "output_type": "stream",
     "text": [
      "No. of unique values: 98\n",
      "No.of Null Values: 0\n"
     ]
    },
    {
     "data": {
      "text/plain": [
       "'VAR_1518'"
      ]
     },
     "execution_count": 74,
     "metadata": {},
     "output_type": "execute_result"
    },
    {
     "name": "stdout",
     "output_type": "stream",
     "text": [
      "No. of unique values: 101\n",
      "No.of Null Values: 0\n"
     ]
    },
    {
     "data": {
      "text/plain": [
       "'VAR_1519'"
      ]
     },
     "execution_count": 74,
     "metadata": {},
     "output_type": "execute_result"
    },
    {
     "name": "stdout",
     "output_type": "stream",
     "text": [
      "No. of unique values: 101\n",
      "No.of Null Values: 0\n"
     ]
    },
    {
     "data": {
      "text/plain": [
       "'VAR_1520'"
      ]
     },
     "execution_count": 74,
     "metadata": {},
     "output_type": "execute_result"
    },
    {
     "name": "stdout",
     "output_type": "stream",
     "text": [
      "No. of unique values: 101\n",
      "No.of Null Values: 0\n"
     ]
    },
    {
     "data": {
      "text/plain": [
       "'VAR_1521'"
      ]
     },
     "execution_count": 74,
     "metadata": {},
     "output_type": "execute_result"
    },
    {
     "name": "stdout",
     "output_type": "stream",
     "text": [
      "No. of unique values: 100\n",
      "No.of Null Values: 0\n"
     ]
    },
    {
     "data": {
      "text/plain": [
       "'VAR_1522'"
      ]
     },
     "execution_count": 74,
     "metadata": {},
     "output_type": "execute_result"
    },
    {
     "name": "stdout",
     "output_type": "stream",
     "text": [
      "No. of unique values: 99\n",
      "No.of Null Values: 0\n"
     ]
    },
    {
     "data": {
      "text/plain": [
       "'VAR_1523'"
      ]
     },
     "execution_count": 74,
     "metadata": {},
     "output_type": "execute_result"
    },
    {
     "name": "stdout",
     "output_type": "stream",
     "text": [
      "No. of unique values: 276\n",
      "No.of Null Values: 0\n"
     ]
    },
    {
     "data": {
      "text/plain": [
       "'VAR_1524'"
      ]
     },
     "execution_count": 74,
     "metadata": {},
     "output_type": "execute_result"
    },
    {
     "name": "stdout",
     "output_type": "stream",
     "text": [
      "No. of unique values: 338\n",
      "No.of Null Values: 0\n"
     ]
    },
    {
     "data": {
      "text/plain": [
       "'VAR_1525'"
      ]
     },
     "execution_count": 74,
     "metadata": {},
     "output_type": "execute_result"
    },
    {
     "name": "stdout",
     "output_type": "stream",
     "text": [
      "No. of unique values: 86\n",
      "No.of Null Values: 0\n"
     ]
    },
    {
     "data": {
      "text/plain": [
       "'VAR_1526'"
      ]
     },
     "execution_count": 74,
     "metadata": {},
     "output_type": "execute_result"
    },
    {
     "name": "stdout",
     "output_type": "stream",
     "text": [
      "No. of unique values: 86\n",
      "No.of Null Values: 0\n"
     ]
    },
    {
     "data": {
      "text/plain": [
       "'VAR_1527'"
      ]
     },
     "execution_count": 74,
     "metadata": {},
     "output_type": "execute_result"
    },
    {
     "name": "stdout",
     "output_type": "stream",
     "text": [
      "No. of unique values: 86\n",
      "No.of Null Values: 0\n"
     ]
    },
    {
     "data": {
      "text/plain": [
       "'VAR_1528'"
      ]
     },
     "execution_count": 74,
     "metadata": {},
     "output_type": "execute_result"
    },
    {
     "name": "stdout",
     "output_type": "stream",
     "text": [
      "No. of unique values: 85\n",
      "No.of Null Values: 0\n"
     ]
    },
    {
     "data": {
      "text/plain": [
       "'VAR_1529'"
      ]
     },
     "execution_count": 74,
     "metadata": {},
     "output_type": "execute_result"
    },
    {
     "name": "stdout",
     "output_type": "stream",
     "text": [
      "No. of unique values: 85\n",
      "No.of Null Values: 0\n"
     ]
    },
    {
     "data": {
      "text/plain": [
       "'VAR_1530'"
      ]
     },
     "execution_count": 74,
     "metadata": {},
     "output_type": "execute_result"
    },
    {
     "name": "stdout",
     "output_type": "stream",
     "text": [
      "No. of unique values: 427\n",
      "No.of Null Values: 0\n"
     ]
    },
    {
     "data": {
      "text/plain": [
       "'VAR_1531'"
      ]
     },
     "execution_count": 74,
     "metadata": {},
     "output_type": "execute_result"
    },
    {
     "name": "stdout",
     "output_type": "stream",
     "text": [
      "No. of unique values: 293\n",
      "No.of Null Values: 0\n"
     ]
    },
    {
     "data": {
      "text/plain": [
       "'VAR_1532'"
      ]
     },
     "execution_count": 74,
     "metadata": {},
     "output_type": "execute_result"
    },
    {
     "name": "stdout",
     "output_type": "stream",
     "text": [
      "No. of unique values: 16\n",
      "No.of Null Values: 0\n"
     ]
    },
    {
     "data": {
      "text/plain": [
       "'VAR_1533'"
      ]
     },
     "execution_count": 74,
     "metadata": {},
     "output_type": "execute_result"
    },
    {
     "name": "stdout",
     "output_type": "stream",
     "text": [
      "No. of unique values: 5\n",
      "No.of Null Values: 0\n"
     ]
    },
    {
     "data": {
      "text/plain": [
       "'VAR_1534'"
      ]
     },
     "execution_count": 74,
     "metadata": {},
     "output_type": "execute_result"
    },
    {
     "name": "stdout",
     "output_type": "stream",
     "text": [
      "No. of unique values: 7\n",
      "No.of Null Values: 0\n"
     ]
    },
    {
     "data": {
      "text/plain": [
       "'VAR_1535'"
      ]
     },
     "execution_count": 74,
     "metadata": {},
     "output_type": "execute_result"
    },
    {
     "name": "stdout",
     "output_type": "stream",
     "text": [
      "No. of unique values: 10\n",
      "No.of Null Values: 0\n"
     ]
    },
    {
     "data": {
      "text/plain": [
       "'VAR_1536'"
      ]
     },
     "execution_count": 74,
     "metadata": {},
     "output_type": "execute_result"
    },
    {
     "name": "stdout",
     "output_type": "stream",
     "text": [
      "No. of unique values: 26\n",
      "No.of Null Values: 0\n"
     ]
    },
    {
     "data": {
      "text/plain": [
       "'VAR_1537'"
      ]
     },
     "execution_count": 74,
     "metadata": {},
     "output_type": "execute_result"
    },
    {
     "name": "stdout",
     "output_type": "stream",
     "text": [
      "No. of unique values: 19\n",
      "No.of Null Values: 0\n"
     ]
    },
    {
     "data": {
      "text/plain": [
       "'VAR_1538'"
      ]
     },
     "execution_count": 74,
     "metadata": {},
     "output_type": "execute_result"
    },
    {
     "name": "stdout",
     "output_type": "stream",
     "text": [
      "No. of unique values: 5\n",
      "No.of Null Values: 0\n"
     ]
    },
    {
     "data": {
      "text/plain": [
       "'VAR_1539'"
      ]
     },
     "execution_count": 74,
     "metadata": {},
     "output_type": "execute_result"
    },
    {
     "name": "stdout",
     "output_type": "stream",
     "text": [
      "No. of unique values: 7\n",
      "No.of Null Values: 0\n"
     ]
    },
    {
     "data": {
      "text/plain": [
       "'VAR_1540'"
      ]
     },
     "execution_count": 74,
     "metadata": {},
     "output_type": "execute_result"
    },
    {
     "name": "stdout",
     "output_type": "stream",
     "text": [
      "No. of unique values: 12\n",
      "No.of Null Values: 0\n"
     ]
    },
    {
     "data": {
      "text/plain": [
       "'VAR_1541'"
      ]
     },
     "execution_count": 74,
     "metadata": {},
     "output_type": "execute_result"
    },
    {
     "name": "stdout",
     "output_type": "stream",
     "text": [
      "No. of unique values: 26\n",
      "No.of Null Values: 0\n"
     ]
    },
    {
     "data": {
      "text/plain": [
       "'VAR_1542'"
      ]
     },
     "execution_count": 74,
     "metadata": {},
     "output_type": "execute_result"
    },
    {
     "name": "stdout",
     "output_type": "stream",
     "text": [
      "No. of unique values: 18\n",
      "No.of Null Values: 0\n"
     ]
    },
    {
     "data": {
      "text/plain": [
       "'VAR_1543'"
      ]
     },
     "execution_count": 74,
     "metadata": {},
     "output_type": "execute_result"
    },
    {
     "name": "stdout",
     "output_type": "stream",
     "text": [
      "No. of unique values: 7\n",
      "No.of Null Values: 0\n"
     ]
    },
    {
     "data": {
      "text/plain": [
       "'VAR_1544'"
      ]
     },
     "execution_count": 74,
     "metadata": {},
     "output_type": "execute_result"
    },
    {
     "name": "stdout",
     "output_type": "stream",
     "text": [
      "No. of unique values: 9\n",
      "No.of Null Values: 0\n"
     ]
    },
    {
     "data": {
      "text/plain": [
       "'VAR_1545'"
      ]
     },
     "execution_count": 74,
     "metadata": {},
     "output_type": "execute_result"
    },
    {
     "name": "stdout",
     "output_type": "stream",
     "text": [
      "No. of unique values: 12\n",
      "No.of Null Values: 0\n"
     ]
    },
    {
     "data": {
      "text/plain": [
       "'VAR_1546'"
      ]
     },
     "execution_count": 74,
     "metadata": {},
     "output_type": "execute_result"
    },
    {
     "name": "stdout",
     "output_type": "stream",
     "text": [
      "No. of unique values: 17\n",
      "No.of Null Values: 0\n"
     ]
    },
    {
     "data": {
      "text/plain": [
       "'VAR_1547'"
      ]
     },
     "execution_count": 74,
     "metadata": {},
     "output_type": "execute_result"
    },
    {
     "name": "stdout",
     "output_type": "stream",
     "text": [
      "No. of unique values: 5\n",
      "No.of Null Values: 0\n"
     ]
    },
    {
     "data": {
      "text/plain": [
       "'VAR_1548'"
      ]
     },
     "execution_count": 74,
     "metadata": {},
     "output_type": "execute_result"
    },
    {
     "name": "stdout",
     "output_type": "stream",
     "text": [
      "No. of unique values: 7\n",
      "No.of Null Values: 0\n"
     ]
    },
    {
     "data": {
      "text/plain": [
       "'VAR_1549'"
      ]
     },
     "execution_count": 74,
     "metadata": {},
     "output_type": "execute_result"
    },
    {
     "name": "stdout",
     "output_type": "stream",
     "text": [
      "No. of unique values: 10\n",
      "No.of Null Values: 0\n"
     ]
    },
    {
     "data": {
      "text/plain": [
       "'VAR_1550'"
      ]
     },
     "execution_count": 74,
     "metadata": {},
     "output_type": "execute_result"
    },
    {
     "name": "stdout",
     "output_type": "stream",
     "text": [
      "No. of unique values: 26\n",
      "No.of Null Values: 0\n"
     ]
    },
    {
     "data": {
      "text/plain": [
       "'VAR_1551'"
      ]
     },
     "execution_count": 74,
     "metadata": {},
     "output_type": "execute_result"
    },
    {
     "name": "stdout",
     "output_type": "stream",
     "text": [
      "No. of unique values: 17\n",
      "No.of Null Values: 0\n"
     ]
    },
    {
     "data": {
      "text/plain": [
       "'VAR_1552'"
      ]
     },
     "execution_count": 74,
     "metadata": {},
     "output_type": "execute_result"
    },
    {
     "name": "stdout",
     "output_type": "stream",
     "text": [
      "No. of unique values: 5\n",
      "No.of Null Values: 0\n"
     ]
    },
    {
     "data": {
      "text/plain": [
       "'VAR_1553'"
      ]
     },
     "execution_count": 74,
     "metadata": {},
     "output_type": "execute_result"
    },
    {
     "name": "stdout",
     "output_type": "stream",
     "text": [
      "No. of unique values: 7\n",
      "No.of Null Values: 0\n"
     ]
    },
    {
     "data": {
      "text/plain": [
       "'VAR_1554'"
      ]
     },
     "execution_count": 74,
     "metadata": {},
     "output_type": "execute_result"
    },
    {
     "name": "stdout",
     "output_type": "stream",
     "text": [
      "No. of unique values: 11\n",
      "No.of Null Values: 0\n"
     ]
    },
    {
     "data": {
      "text/plain": [
       "'VAR_1555'"
      ]
     },
     "execution_count": 74,
     "metadata": {},
     "output_type": "execute_result"
    },
    {
     "name": "stdout",
     "output_type": "stream",
     "text": [
      "No. of unique values: 26\n",
      "No.of Null Values: 0\n"
     ]
    },
    {
     "data": {
      "text/plain": [
       "'VAR_1556'"
      ]
     },
     "execution_count": 74,
     "metadata": {},
     "output_type": "execute_result"
    },
    {
     "name": "stdout",
     "output_type": "stream",
     "text": [
      "No. of unique values: 14\n",
      "No.of Null Values: 0\n"
     ]
    },
    {
     "data": {
      "text/plain": [
       "'VAR_1557'"
      ]
     },
     "execution_count": 74,
     "metadata": {},
     "output_type": "execute_result"
    },
    {
     "name": "stdout",
     "output_type": "stream",
     "text": [
      "No. of unique values: 4\n",
      "No.of Null Values: 0\n"
     ]
    },
    {
     "data": {
      "text/plain": [
       "'VAR_1558'"
      ]
     },
     "execution_count": 74,
     "metadata": {},
     "output_type": "execute_result"
    },
    {
     "name": "stdout",
     "output_type": "stream",
     "text": [
      "No. of unique values: 6\n",
      "No.of Null Values: 0\n"
     ]
    },
    {
     "data": {
      "text/plain": [
       "'VAR_1559'"
      ]
     },
     "execution_count": 74,
     "metadata": {},
     "output_type": "execute_result"
    },
    {
     "name": "stdout",
     "output_type": "stream",
     "text": [
      "No. of unique values: 10\n",
      "No.of Null Values: 0\n"
     ]
    },
    {
     "data": {
      "text/plain": [
       "'VAR_1560'"
      ]
     },
     "execution_count": 74,
     "metadata": {},
     "output_type": "execute_result"
    },
    {
     "name": "stdout",
     "output_type": "stream",
     "text": [
      "No. of unique values: 26\n",
      "No.of Null Values: 0\n"
     ]
    },
    {
     "data": {
      "text/plain": [
       "'VAR_1561'"
      ]
     },
     "execution_count": 74,
     "metadata": {},
     "output_type": "execute_result"
    },
    {
     "name": "stdout",
     "output_type": "stream",
     "text": [
      "No. of unique values: 28\n",
      "No.of Null Values: 0\n"
     ]
    },
    {
     "data": {
      "text/plain": [
       "'VAR_1562'"
      ]
     },
     "execution_count": 74,
     "metadata": {},
     "output_type": "execute_result"
    },
    {
     "name": "stdout",
     "output_type": "stream",
     "text": [
      "No. of unique values: 4\n",
      "No.of Null Values: 0\n"
     ]
    },
    {
     "data": {
      "text/plain": [
       "'VAR_1563'"
      ]
     },
     "execution_count": 74,
     "metadata": {},
     "output_type": "execute_result"
    },
    {
     "name": "stdout",
     "output_type": "stream",
     "text": [
      "No. of unique values: 5\n",
      "No.of Null Values: 0\n"
     ]
    },
    {
     "data": {
      "text/plain": [
       "'VAR_1564'"
      ]
     },
     "execution_count": 74,
     "metadata": {},
     "output_type": "execute_result"
    },
    {
     "name": "stdout",
     "output_type": "stream",
     "text": [
      "No. of unique values: 9\n",
      "No.of Null Values: 0\n"
     ]
    },
    {
     "data": {
      "text/plain": [
       "'VAR_1565'"
      ]
     },
     "execution_count": 74,
     "metadata": {},
     "output_type": "execute_result"
    },
    {
     "name": "stdout",
     "output_type": "stream",
     "text": [
      "No. of unique values: 12\n",
      "No.of Null Values: 0\n"
     ]
    },
    {
     "data": {
      "text/plain": [
       "'VAR_1566'"
      ]
     },
     "execution_count": 74,
     "metadata": {},
     "output_type": "execute_result"
    },
    {
     "name": "stdout",
     "output_type": "stream",
     "text": [
      "No. of unique values: 18\n",
      "No.of Null Values: 0\n"
     ]
    },
    {
     "data": {
      "text/plain": [
       "'VAR_1567'"
      ]
     },
     "execution_count": 74,
     "metadata": {},
     "output_type": "execute_result"
    },
    {
     "name": "stdout",
     "output_type": "stream",
     "text": [
      "No. of unique values: 84\n",
      "No.of Null Values: 0\n"
     ]
    },
    {
     "data": {
      "text/plain": [
       "'VAR_1568'"
      ]
     },
     "execution_count": 74,
     "metadata": {},
     "output_type": "execute_result"
    },
    {
     "name": "stdout",
     "output_type": "stream",
     "text": [
      "No. of unique values: 13\n",
      "No.of Null Values: 0\n"
     ]
    },
    {
     "data": {
      "text/plain": [
       "'VAR_1569'"
      ]
     },
     "execution_count": 74,
     "metadata": {},
     "output_type": "execute_result"
    },
    {
     "name": "stdout",
     "output_type": "stream",
     "text": [
      "No. of unique values: 16\n",
      "No.of Null Values: 0\n"
     ]
    },
    {
     "data": {
      "text/plain": [
       "'VAR_1570'"
      ]
     },
     "execution_count": 74,
     "metadata": {},
     "output_type": "execute_result"
    },
    {
     "name": "stdout",
     "output_type": "stream",
     "text": [
      "No. of unique values: 23\n",
      "No.of Null Values: 0\n"
     ]
    },
    {
     "data": {
      "text/plain": [
       "'VAR_1571'"
      ]
     },
     "execution_count": 74,
     "metadata": {},
     "output_type": "execute_result"
    },
    {
     "name": "stdout",
     "output_type": "stream",
     "text": [
      "No. of unique values: 35\n",
      "No.of Null Values: 0\n"
     ]
    },
    {
     "data": {
      "text/plain": [
       "'VAR_1572'"
      ]
     },
     "execution_count": 74,
     "metadata": {},
     "output_type": "execute_result"
    },
    {
     "name": "stdout",
     "output_type": "stream",
     "text": [
      "No. of unique values: 48\n",
      "No.of Null Values: 0\n"
     ]
    },
    {
     "data": {
      "text/plain": [
       "'VAR_1573'"
      ]
     },
     "execution_count": 74,
     "metadata": {},
     "output_type": "execute_result"
    },
    {
     "name": "stdout",
     "output_type": "stream",
     "text": [
      "No. of unique values: 26\n",
      "No.of Null Values: 0\n"
     ]
    },
    {
     "data": {
      "text/plain": [
       "'VAR_1574'"
      ]
     },
     "execution_count": 74,
     "metadata": {},
     "output_type": "execute_result"
    },
    {
     "name": "stdout",
     "output_type": "stream",
     "text": [
      "No. of unique values: 31\n",
      "No.of Null Values: 0\n"
     ]
    },
    {
     "data": {
      "text/plain": [
       "'VAR_1575'"
      ]
     },
     "execution_count": 74,
     "metadata": {},
     "output_type": "execute_result"
    },
    {
     "name": "stdout",
     "output_type": "stream",
     "text": [
      "No. of unique values: 120\n",
      "No.of Null Values: 0\n"
     ]
    },
    {
     "data": {
      "text/plain": [
       "'VAR_1576'"
      ]
     },
     "execution_count": 74,
     "metadata": {},
     "output_type": "execute_result"
    },
    {
     "name": "stdout",
     "output_type": "stream",
     "text": [
      "No. of unique values: 211\n",
      "No.of Null Values: 0\n"
     ]
    },
    {
     "data": {
      "text/plain": [
       "'VAR_1577'"
      ]
     },
     "execution_count": 74,
     "metadata": {},
     "output_type": "execute_result"
    },
    {
     "name": "stdout",
     "output_type": "stream",
     "text": [
      "No. of unique values: 31\n",
      "No.of Null Values: 0\n"
     ]
    },
    {
     "data": {
      "text/plain": [
       "'VAR_1578'"
      ]
     },
     "execution_count": 74,
     "metadata": {},
     "output_type": "execute_result"
    },
    {
     "name": "stdout",
     "output_type": "stream",
     "text": [
      "No. of unique values: 119\n",
      "No.of Null Values: 0\n"
     ]
    },
    {
     "data": {
      "text/plain": [
       "'VAR_1579'"
      ]
     },
     "execution_count": 74,
     "metadata": {},
     "output_type": "execute_result"
    },
    {
     "name": "stdout",
     "output_type": "stream",
     "text": [
      "No. of unique values: 209\n",
      "No.of Null Values: 0\n"
     ]
    },
    {
     "data": {
      "text/plain": [
       "'VAR_1580'"
      ]
     },
     "execution_count": 74,
     "metadata": {},
     "output_type": "execute_result"
    },
    {
     "name": "stdout",
     "output_type": "stream",
     "text": [
      "No. of unique values: 182\n",
      "No.of Null Values: 0\n"
     ]
    },
    {
     "data": {
      "text/plain": [
       "'VAR_1581'"
      ]
     },
     "execution_count": 74,
     "metadata": {},
     "output_type": "execute_result"
    },
    {
     "name": "stdout",
     "output_type": "stream",
     "text": [
      "No. of unique values: 34382\n",
      "No.of Null Values: 0\n"
     ]
    },
    {
     "data": {
      "text/plain": [
       "'VAR_1582'"
      ]
     },
     "execution_count": 74,
     "metadata": {},
     "output_type": "execute_result"
    },
    {
     "name": "stdout",
     "output_type": "stream",
     "text": [
      "No. of unique values: 2932\n",
      "No.of Null Values: 0\n"
     ]
    },
    {
     "data": {
      "text/plain": [
       "'VAR_1583'"
      ]
     },
     "execution_count": 74,
     "metadata": {},
     "output_type": "execute_result"
    },
    {
     "name": "stdout",
     "output_type": "stream",
     "text": [
      "No. of unique values: 37\n",
      "No.of Null Values: 0\n"
     ]
    },
    {
     "data": {
      "text/plain": [
       "'VAR_1584'"
      ]
     },
     "execution_count": 74,
     "metadata": {},
     "output_type": "execute_result"
    },
    {
     "name": "stdout",
     "output_type": "stream",
     "text": [
      "No. of unique values: 5\n",
      "No.of Null Values: 0\n"
     ]
    },
    {
     "data": {
      "text/plain": [
       "'VAR_1585'"
      ]
     },
     "execution_count": 74,
     "metadata": {},
     "output_type": "execute_result"
    },
    {
     "name": "stdout",
     "output_type": "stream",
     "text": [
      "No. of unique values: 17\n",
      "No.of Null Values: 0\n"
     ]
    },
    {
     "data": {
      "text/plain": [
       "'VAR_1586'"
      ]
     },
     "execution_count": 74,
     "metadata": {},
     "output_type": "execute_result"
    },
    {
     "name": "stdout",
     "output_type": "stream",
     "text": [
      "No. of unique values: 6\n",
      "No.of Null Values: 0\n"
     ]
    },
    {
     "data": {
      "text/plain": [
       "'VAR_1587'"
      ]
     },
     "execution_count": 74,
     "metadata": {},
     "output_type": "execute_result"
    },
    {
     "name": "stdout",
     "output_type": "stream",
     "text": [
      "No. of unique values: 8\n",
      "No.of Null Values: 0\n"
     ]
    },
    {
     "data": {
      "text/plain": [
       "'VAR_1588'"
      ]
     },
     "execution_count": 74,
     "metadata": {},
     "output_type": "execute_result"
    },
    {
     "name": "stdout",
     "output_type": "stream",
     "text": [
      "No. of unique values: 9\n",
      "No.of Null Values: 0\n"
     ]
    },
    {
     "data": {
      "text/plain": [
       "'VAR_1589'"
      ]
     },
     "execution_count": 74,
     "metadata": {},
     "output_type": "execute_result"
    },
    {
     "name": "stdout",
     "output_type": "stream",
     "text": [
      "No. of unique values: 32\n",
      "No.of Null Values: 0\n"
     ]
    },
    {
     "data": {
      "text/plain": [
       "'VAR_1590'"
      ]
     },
     "execution_count": 74,
     "metadata": {},
     "output_type": "execute_result"
    },
    {
     "name": "stdout",
     "output_type": "stream",
     "text": [
      "No. of unique values: 4\n",
      "No.of Null Values: 0\n"
     ]
    },
    {
     "data": {
      "text/plain": [
       "'VAR_1591'"
      ]
     },
     "execution_count": 74,
     "metadata": {},
     "output_type": "execute_result"
    },
    {
     "name": "stdout",
     "output_type": "stream",
     "text": [
      "No. of unique values: 17\n",
      "No.of Null Values: 0\n"
     ]
    },
    {
     "data": {
      "text/plain": [
       "'VAR_1592'"
      ]
     },
     "execution_count": 74,
     "metadata": {},
     "output_type": "execute_result"
    },
    {
     "name": "stdout",
     "output_type": "stream",
     "text": [
      "No. of unique values: 17\n",
      "No.of Null Values: 0\n"
     ]
    },
    {
     "data": {
      "text/plain": [
       "'VAR_1593'"
      ]
     },
     "execution_count": 74,
     "metadata": {},
     "output_type": "execute_result"
    },
    {
     "name": "stdout",
     "output_type": "stream",
     "text": [
      "No. of unique values: 17\n",
      "No.of Null Values: 0\n"
     ]
    },
    {
     "data": {
      "text/plain": [
       "'VAR_1594'"
      ]
     },
     "execution_count": 74,
     "metadata": {},
     "output_type": "execute_result"
    },
    {
     "name": "stdout",
     "output_type": "stream",
     "text": [
      "No. of unique values: 9\n",
      "No.of Null Values: 0\n"
     ]
    },
    {
     "data": {
      "text/plain": [
       "'VAR_1595'"
      ]
     },
     "execution_count": 74,
     "metadata": {},
     "output_type": "execute_result"
    },
    {
     "name": "stdout",
     "output_type": "stream",
     "text": [
      "No. of unique values: 7\n",
      "No.of Null Values: 0\n"
     ]
    },
    {
     "data": {
      "text/plain": [
       "'VAR_1596'"
      ]
     },
     "execution_count": 74,
     "metadata": {},
     "output_type": "execute_result"
    },
    {
     "name": "stdout",
     "output_type": "stream",
     "text": [
      "No. of unique values: 8\n",
      "No.of Null Values: 0\n"
     ]
    },
    {
     "data": {
      "text/plain": [
       "'VAR_1597'"
      ]
     },
     "execution_count": 74,
     "metadata": {},
     "output_type": "execute_result"
    },
    {
     "name": "stdout",
     "output_type": "stream",
     "text": [
      "No. of unique values: 10\n",
      "No.of Null Values: 0\n"
     ]
    },
    {
     "data": {
      "text/plain": [
       "'VAR_1598'"
      ]
     },
     "execution_count": 74,
     "metadata": {},
     "output_type": "execute_result"
    },
    {
     "name": "stdout",
     "output_type": "stream",
     "text": [
      "No. of unique values: 21\n",
      "No.of Null Values: 0\n"
     ]
    },
    {
     "data": {
      "text/plain": [
       "'VAR_1599'"
      ]
     },
     "execution_count": 74,
     "metadata": {},
     "output_type": "execute_result"
    },
    {
     "name": "stdout",
     "output_type": "stream",
     "text": [
      "No. of unique values: 12\n",
      "No.of Null Values: 0\n"
     ]
    },
    {
     "data": {
      "text/plain": [
       "'VAR_1600'"
      ]
     },
     "execution_count": 74,
     "metadata": {},
     "output_type": "execute_result"
    },
    {
     "name": "stdout",
     "output_type": "stream",
     "text": [
      "No. of unique values: 14\n",
      "No.of Null Values: 0\n"
     ]
    },
    {
     "data": {
      "text/plain": [
       "'VAR_1601'"
      ]
     },
     "execution_count": 74,
     "metadata": {},
     "output_type": "execute_result"
    },
    {
     "name": "stdout",
     "output_type": "stream",
     "text": [
      "No. of unique values: 14\n",
      "No.of Null Values: 0\n"
     ]
    },
    {
     "data": {
      "text/plain": [
       "'VAR_1602'"
      ]
     },
     "execution_count": 74,
     "metadata": {},
     "output_type": "execute_result"
    },
    {
     "name": "stdout",
     "output_type": "stream",
     "text": [
      "No. of unique values: 21\n",
      "No.of Null Values: 0\n"
     ]
    },
    {
     "data": {
      "text/plain": [
       "'VAR_1603'"
      ]
     },
     "execution_count": 74,
     "metadata": {},
     "output_type": "execute_result"
    },
    {
     "name": "stdout",
     "output_type": "stream",
     "text": [
      "No. of unique values: 10\n",
      "No.of Null Values: 0\n"
     ]
    },
    {
     "data": {
      "text/plain": [
       "'VAR_1604'"
      ]
     },
     "execution_count": 74,
     "metadata": {},
     "output_type": "execute_result"
    },
    {
     "name": "stdout",
     "output_type": "stream",
     "text": [
      "No. of unique values: 13\n",
      "No.of Null Values: 0\n"
     ]
    },
    {
     "data": {
      "text/plain": [
       "'VAR_1605'"
      ]
     },
     "execution_count": 74,
     "metadata": {},
     "output_type": "execute_result"
    },
    {
     "name": "stdout",
     "output_type": "stream",
     "text": [
      "No. of unique values: 14\n",
      "No.of Null Values: 0\n"
     ]
    },
    {
     "data": {
      "text/plain": [
       "'VAR_1606'"
      ]
     },
     "execution_count": 74,
     "metadata": {},
     "output_type": "execute_result"
    },
    {
     "name": "stdout",
     "output_type": "stream",
     "text": [
      "No. of unique values: 20\n",
      "No.of Null Values: 0\n"
     ]
    },
    {
     "data": {
      "text/plain": [
       "'VAR_1607'"
      ]
     },
     "execution_count": 74,
     "metadata": {},
     "output_type": "execute_result"
    },
    {
     "name": "stdout",
     "output_type": "stream",
     "text": [
      "No. of unique values: 10\n",
      "No.of Null Values: 0\n"
     ]
    },
    {
     "data": {
      "text/plain": [
       "'VAR_1608'"
      ]
     },
     "execution_count": 74,
     "metadata": {},
     "output_type": "execute_result"
    },
    {
     "name": "stdout",
     "output_type": "stream",
     "text": [
      "No. of unique values: 12\n",
      "No.of Null Values: 0\n"
     ]
    },
    {
     "data": {
      "text/plain": [
       "'VAR_1609'"
      ]
     },
     "execution_count": 74,
     "metadata": {},
     "output_type": "execute_result"
    },
    {
     "name": "stdout",
     "output_type": "stream",
     "text": [
      "No. of unique values: 13\n",
      "No.of Null Values: 0\n"
     ]
    },
    {
     "data": {
      "text/plain": [
       "'VAR_1610'"
      ]
     },
     "execution_count": 74,
     "metadata": {},
     "output_type": "execute_result"
    },
    {
     "name": "stdout",
     "output_type": "stream",
     "text": [
      "No. of unique values: 18\n",
      "No.of Null Values: 0\n"
     ]
    },
    {
     "data": {
      "text/plain": [
       "'VAR_1611'"
      ]
     },
     "execution_count": 74,
     "metadata": {},
     "output_type": "execute_result"
    },
    {
     "name": "stdout",
     "output_type": "stream",
     "text": [
      "No. of unique values: 31\n",
      "No.of Null Values: 0\n"
     ]
    },
    {
     "data": {
      "text/plain": [
       "'VAR_1612'"
      ]
     },
     "execution_count": 74,
     "metadata": {},
     "output_type": "execute_result"
    },
    {
     "name": "stdout",
     "output_type": "stream",
     "text": [
      "No. of unique values: 41\n",
      "No.of Null Values: 0\n"
     ]
    },
    {
     "data": {
      "text/plain": [
       "'VAR_1613'"
      ]
     },
     "execution_count": 74,
     "metadata": {},
     "output_type": "execute_result"
    },
    {
     "name": "stdout",
     "output_type": "stream",
     "text": [
      "No. of unique values: 22\n",
      "No.of Null Values: 0\n"
     ]
    },
    {
     "data": {
      "text/plain": [
       "'VAR_1614'"
      ]
     },
     "execution_count": 74,
     "metadata": {},
     "output_type": "execute_result"
    },
    {
     "name": "stdout",
     "output_type": "stream",
     "text": [
      "No. of unique values: 32\n",
      "No.of Null Values: 0\n"
     ]
    },
    {
     "data": {
      "text/plain": [
       "'VAR_1615'"
      ]
     },
     "execution_count": 74,
     "metadata": {},
     "output_type": "execute_result"
    },
    {
     "name": "stdout",
     "output_type": "stream",
     "text": [
      "No. of unique values: 38\n",
      "No.of Null Values: 0\n"
     ]
    },
    {
     "data": {
      "text/plain": [
       "'VAR_1616'"
      ]
     },
     "execution_count": 74,
     "metadata": {},
     "output_type": "execute_result"
    },
    {
     "name": "stdout",
     "output_type": "stream",
     "text": [
      "No. of unique values: 59\n",
      "No.of Null Values: 0\n"
     ]
    },
    {
     "data": {
      "text/plain": [
       "'VAR_1617'"
      ]
     },
     "execution_count": 74,
     "metadata": {},
     "output_type": "execute_result"
    },
    {
     "name": "stdout",
     "output_type": "stream",
     "text": [
      "No. of unique values: 37107\n",
      "No.of Null Values: 0\n"
     ]
    },
    {
     "data": {
      "text/plain": [
       "'VAR_1618'"
      ]
     },
     "execution_count": 74,
     "metadata": {},
     "output_type": "execute_result"
    },
    {
     "name": "stdout",
     "output_type": "stream",
     "text": [
      "No. of unique values: 37212\n",
      "No.of Null Values: 0\n"
     ]
    },
    {
     "data": {
      "text/plain": [
       "'VAR_1619'"
      ]
     },
     "execution_count": 74,
     "metadata": {},
     "output_type": "execute_result"
    },
    {
     "name": "stdout",
     "output_type": "stream",
     "text": [
      "No. of unique values: 2654\n",
      "No.of Null Values: 0\n"
     ]
    },
    {
     "data": {
      "text/plain": [
       "'VAR_1620'"
      ]
     },
     "execution_count": 74,
     "metadata": {},
     "output_type": "execute_result"
    },
    {
     "name": "stdout",
     "output_type": "stream",
     "text": [
      "No. of unique values: 1122\n",
      "No.of Null Values: 0\n"
     ]
    },
    {
     "data": {
      "text/plain": [
       "'VAR_1621'"
      ]
     },
     "execution_count": 74,
     "metadata": {},
     "output_type": "execute_result"
    },
    {
     "name": "stdout",
     "output_type": "stream",
     "text": [
      "No. of unique values: 2628\n",
      "No.of Null Values: 0\n"
     ]
    },
    {
     "data": {
      "text/plain": [
       "'VAR_1622'"
      ]
     },
     "execution_count": 74,
     "metadata": {},
     "output_type": "execute_result"
    },
    {
     "name": "stdout",
     "output_type": "stream",
     "text": [
      "No. of unique values: 739\n",
      "No.of Null Values: 0\n"
     ]
    },
    {
     "data": {
      "text/plain": [
       "'VAR_1623'"
      ]
     },
     "execution_count": 74,
     "metadata": {},
     "output_type": "execute_result"
    },
    {
     "name": "stdout",
     "output_type": "stream",
     "text": [
      "No. of unique values: 22753\n",
      "No.of Null Values: 0\n"
     ]
    },
    {
     "data": {
      "text/plain": [
       "'VAR_1624'"
      ]
     },
     "execution_count": 74,
     "metadata": {},
     "output_type": "execute_result"
    },
    {
     "name": "stdout",
     "output_type": "stream",
     "text": [
      "No. of unique values: 27215\n",
      "No.of Null Values: 0\n"
     ]
    },
    {
     "data": {
      "text/plain": [
       "'VAR_1625'"
      ]
     },
     "execution_count": 74,
     "metadata": {},
     "output_type": "execute_result"
    },
    {
     "name": "stdout",
     "output_type": "stream",
     "text": [
      "No. of unique values: 20792\n",
      "No.of Null Values: 0\n"
     ]
    },
    {
     "data": {
      "text/plain": [
       "'VAR_1626'"
      ]
     },
     "execution_count": 74,
     "metadata": {},
     "output_type": "execute_result"
    },
    {
     "name": "stdout",
     "output_type": "stream",
     "text": [
      "No. of unique values: 20986\n",
      "No.of Null Values: 0\n"
     ]
    },
    {
     "data": {
      "text/plain": [
       "'VAR_1627'"
      ]
     },
     "execution_count": 74,
     "metadata": {},
     "output_type": "execute_result"
    },
    {
     "name": "stdout",
     "output_type": "stream",
     "text": [
      "No. of unique values: 1826\n",
      "No.of Null Values: 0\n"
     ]
    },
    {
     "data": {
      "text/plain": [
       "'VAR_1628'"
      ]
     },
     "execution_count": 74,
     "metadata": {},
     "output_type": "execute_result"
    },
    {
     "name": "stdout",
     "output_type": "stream",
     "text": [
      "No. of unique values: 987\n",
      "No.of Null Values: 0\n"
     ]
    },
    {
     "data": {
      "text/plain": [
       "'VAR_1629'"
      ]
     },
     "execution_count": 74,
     "metadata": {},
     "output_type": "execute_result"
    },
    {
     "name": "stdout",
     "output_type": "stream",
     "text": [
      "No. of unique values: 2511\n",
      "No.of Null Values: 0\n"
     ]
    },
    {
     "data": {
      "text/plain": [
       "'VAR_1630'"
      ]
     },
     "execution_count": 74,
     "metadata": {},
     "output_type": "execute_result"
    },
    {
     "name": "stdout",
     "output_type": "stream",
     "text": [
      "No. of unique values: 683\n",
      "No.of Null Values: 0\n"
     ]
    },
    {
     "data": {
      "text/plain": [
       "'VAR_1631'"
      ]
     },
     "execution_count": 74,
     "metadata": {},
     "output_type": "execute_result"
    },
    {
     "name": "stdout",
     "output_type": "stream",
     "text": [
      "No. of unique values: 3724\n",
      "No.of Null Values: 0\n"
     ]
    },
    {
     "data": {
      "text/plain": [
       "'VAR_1632'"
      ]
     },
     "execution_count": 74,
     "metadata": {},
     "output_type": "execute_result"
    },
    {
     "name": "stdout",
     "output_type": "stream",
     "text": [
      "No. of unique values: 10\n",
      "No.of Null Values: 0\n"
     ]
    },
    {
     "data": {
      "text/plain": [
       "'VAR_1633'"
      ]
     },
     "execution_count": 74,
     "metadata": {},
     "output_type": "execute_result"
    },
    {
     "name": "stdout",
     "output_type": "stream",
     "text": [
      "No. of unique values: 8\n",
      "No.of Null Values: 0\n"
     ]
    },
    {
     "data": {
      "text/plain": [
       "'VAR_1634'"
      ]
     },
     "execution_count": 74,
     "metadata": {},
     "output_type": "execute_result"
    },
    {
     "name": "stdout",
     "output_type": "stream",
     "text": [
      "No. of unique values: 10\n",
      "No.of Null Values: 0\n"
     ]
    },
    {
     "data": {
      "text/plain": [
       "'VAR_1635'"
      ]
     },
     "execution_count": 74,
     "metadata": {},
     "output_type": "execute_result"
    },
    {
     "name": "stdout",
     "output_type": "stream",
     "text": [
      "No. of unique values: 10\n",
      "No.of Null Values: 0\n"
     ]
    },
    {
     "data": {
      "text/plain": [
       "'VAR_1636'"
      ]
     },
     "execution_count": 74,
     "metadata": {},
     "output_type": "execute_result"
    },
    {
     "name": "stdout",
     "output_type": "stream",
     "text": [
      "No. of unique values: 10\n",
      "No.of Null Values: 0\n"
     ]
    },
    {
     "data": {
      "text/plain": [
       "'VAR_1637'"
      ]
     },
     "execution_count": 74,
     "metadata": {},
     "output_type": "execute_result"
    },
    {
     "name": "stdout",
     "output_type": "stream",
     "text": [
      "No. of unique values: 10\n",
      "No.of Null Values: 0\n"
     ]
    },
    {
     "data": {
      "text/plain": [
       "'VAR_1638'"
      ]
     },
     "execution_count": 74,
     "metadata": {},
     "output_type": "execute_result"
    },
    {
     "name": "stdout",
     "output_type": "stream",
     "text": [
      "No. of unique values: 10\n",
      "No.of Null Values: 0\n"
     ]
    },
    {
     "data": {
      "text/plain": [
       "'VAR_1639'"
      ]
     },
     "execution_count": 74,
     "metadata": {},
     "output_type": "execute_result"
    },
    {
     "name": "stdout",
     "output_type": "stream",
     "text": [
      "No. of unique values: 59\n",
      "No.of Null Values: 0\n"
     ]
    },
    {
     "data": {
      "text/plain": [
       "'VAR_1640'"
      ]
     },
     "execution_count": 74,
     "metadata": {},
     "output_type": "execute_result"
    },
    {
     "name": "stdout",
     "output_type": "stream",
     "text": [
      "No. of unique values: 72\n",
      "No.of Null Values: 0\n"
     ]
    },
    {
     "data": {
      "text/plain": [
       "'VAR_1641'"
      ]
     },
     "execution_count": 74,
     "metadata": {},
     "output_type": "execute_result"
    },
    {
     "name": "stdout",
     "output_type": "stream",
     "text": [
      "No. of unique values: 58\n",
      "No.of Null Values: 0\n"
     ]
    },
    {
     "data": {
      "text/plain": [
       "'VAR_1642'"
      ]
     },
     "execution_count": 74,
     "metadata": {},
     "output_type": "execute_result"
    },
    {
     "name": "stdout",
     "output_type": "stream",
     "text": [
      "No. of unique values: 60\n",
      "No.of Null Values: 0\n"
     ]
    },
    {
     "data": {
      "text/plain": [
       "'VAR_1643'"
      ]
     },
     "execution_count": 74,
     "metadata": {},
     "output_type": "execute_result"
    },
    {
     "name": "stdout",
     "output_type": "stream",
     "text": [
      "No. of unique values: 60\n",
      "No.of Null Values: 0\n"
     ]
    },
    {
     "data": {
      "text/plain": [
       "'VAR_1644'"
      ]
     },
     "execution_count": 74,
     "metadata": {},
     "output_type": "execute_result"
    },
    {
     "name": "stdout",
     "output_type": "stream",
     "text": [
      "No. of unique values: 74\n",
      "No.of Null Values: 0\n"
     ]
    },
    {
     "data": {
      "text/plain": [
       "'VAR_1645'"
      ]
     },
     "execution_count": 74,
     "metadata": {},
     "output_type": "execute_result"
    },
    {
     "name": "stdout",
     "output_type": "stream",
     "text": [
      "No. of unique values: 76\n",
      "No.of Null Values: 0\n"
     ]
    },
    {
     "data": {
      "text/plain": [
       "'VAR_1646'"
      ]
     },
     "execution_count": 74,
     "metadata": {},
     "output_type": "execute_result"
    },
    {
     "name": "stdout",
     "output_type": "stream",
     "text": [
      "No. of unique values: 76\n",
      "No.of Null Values: 0\n"
     ]
    },
    {
     "data": {
      "text/plain": [
       "'VAR_1647'"
      ]
     },
     "execution_count": 74,
     "metadata": {},
     "output_type": "execute_result"
    },
    {
     "name": "stdout",
     "output_type": "stream",
     "text": [
      "No. of unique values: 69\n",
      "No.of Null Values: 0\n"
     ]
    },
    {
     "data": {
      "text/plain": [
       "'VAR_1648'"
      ]
     },
     "execution_count": 74,
     "metadata": {},
     "output_type": "execute_result"
    },
    {
     "name": "stdout",
     "output_type": "stream",
     "text": [
      "No. of unique values: 418\n",
      "No.of Null Values: 0\n"
     ]
    },
    {
     "data": {
      "text/plain": [
       "'VAR_1649'"
      ]
     },
     "execution_count": 74,
     "metadata": {},
     "output_type": "execute_result"
    },
    {
     "name": "stdout",
     "output_type": "stream",
     "text": [
      "No. of unique values: 86\n",
      "No.of Null Values: 0\n"
     ]
    },
    {
     "data": {
      "text/plain": [
       "'VAR_1650'"
      ]
     },
     "execution_count": 74,
     "metadata": {},
     "output_type": "execute_result"
    },
    {
     "name": "stdout",
     "output_type": "stream",
     "text": [
      "No. of unique values: 86\n",
      "No.of Null Values: 0\n"
     ]
    },
    {
     "data": {
      "text/plain": [
       "'VAR_1651'"
      ]
     },
     "execution_count": 74,
     "metadata": {},
     "output_type": "execute_result"
    },
    {
     "name": "stdout",
     "output_type": "stream",
     "text": [
      "No. of unique values: 85\n",
      "No.of Null Values: 0\n"
     ]
    },
    {
     "data": {
      "text/plain": [
       "'VAR_1652'"
      ]
     },
     "execution_count": 74,
     "metadata": {},
     "output_type": "execute_result"
    },
    {
     "name": "stdout",
     "output_type": "stream",
     "text": [
      "No. of unique values: 85\n",
      "No.of Null Values: 0\n"
     ]
    },
    {
     "data": {
      "text/plain": [
       "'VAR_1653'"
      ]
     },
     "execution_count": 74,
     "metadata": {},
     "output_type": "execute_result"
    },
    {
     "name": "stdout",
     "output_type": "stream",
     "text": [
      "No. of unique values: 86\n",
      "No.of Null Values: 0\n"
     ]
    },
    {
     "data": {
      "text/plain": [
       "'VAR_1654'"
      ]
     },
     "execution_count": 74,
     "metadata": {},
     "output_type": "execute_result"
    },
    {
     "name": "stdout",
     "output_type": "stream",
     "text": [
      "No. of unique values: 461\n",
      "No.of Null Values: 0\n"
     ]
    },
    {
     "data": {
      "text/plain": [
       "'VAR_1655'"
      ]
     },
     "execution_count": 74,
     "metadata": {},
     "output_type": "execute_result"
    },
    {
     "name": "stdout",
     "output_type": "stream",
     "text": [
      "No. of unique values: 424\n",
      "No.of Null Values: 0\n"
     ]
    },
    {
     "data": {
      "text/plain": [
       "'VAR_1656'"
      ]
     },
     "execution_count": 74,
     "metadata": {},
     "output_type": "execute_result"
    },
    {
     "name": "stdout",
     "output_type": "stream",
     "text": [
      "No. of unique values: 11\n",
      "No.of Null Values: 0\n"
     ]
    },
    {
     "data": {
      "text/plain": [
       "'VAR_1657'"
      ]
     },
     "execution_count": 74,
     "metadata": {},
     "output_type": "execute_result"
    },
    {
     "name": "stdout",
     "output_type": "stream",
     "text": [
      "No. of unique values: 14\n",
      "No.of Null Values: 0\n"
     ]
    },
    {
     "data": {
      "text/plain": [
       "'VAR_1658'"
      ]
     },
     "execution_count": 74,
     "metadata": {},
     "output_type": "execute_result"
    },
    {
     "name": "stdout",
     "output_type": "stream",
     "text": [
      "No. of unique values: 17\n",
      "No.of Null Values: 0\n"
     ]
    },
    {
     "data": {
      "text/plain": [
       "'VAR_1659'"
      ]
     },
     "execution_count": 74,
     "metadata": {},
     "output_type": "execute_result"
    },
    {
     "name": "stdout",
     "output_type": "stream",
     "text": [
      "No. of unique values: 19\n",
      "No.of Null Values: 0\n"
     ]
    },
    {
     "data": {
      "text/plain": [
       "'VAR_1660'"
      ]
     },
     "execution_count": 74,
     "metadata": {},
     "output_type": "execute_result"
    },
    {
     "name": "stdout",
     "output_type": "stream",
     "text": [
      "No. of unique values: 10\n",
      "No.of Null Values: 0\n"
     ]
    },
    {
     "data": {
      "text/plain": [
       "'VAR_1661'"
      ]
     },
     "execution_count": 74,
     "metadata": {},
     "output_type": "execute_result"
    },
    {
     "name": "stdout",
     "output_type": "stream",
     "text": [
      "No. of unique values: 31\n",
      "No.of Null Values: 0\n"
     ]
    },
    {
     "data": {
      "text/plain": [
       "'VAR_1662'"
      ]
     },
     "execution_count": 74,
     "metadata": {},
     "output_type": "execute_result"
    },
    {
     "name": "stdout",
     "output_type": "stream",
     "text": [
      "No. of unique values: 16\n",
      "No.of Null Values: 0\n"
     ]
    },
    {
     "data": {
      "text/plain": [
       "'VAR_1663'"
      ]
     },
     "execution_count": 74,
     "metadata": {},
     "output_type": "execute_result"
    },
    {
     "name": "stdout",
     "output_type": "stream",
     "text": [
      "No. of unique values: 6\n",
      "No.of Null Values: 0\n"
     ]
    },
    {
     "data": {
      "text/plain": [
       "'VAR_1664'"
      ]
     },
     "execution_count": 74,
     "metadata": {},
     "output_type": "execute_result"
    },
    {
     "name": "stdout",
     "output_type": "stream",
     "text": [
      "No. of unique values: 26\n",
      "No.of Null Values: 0\n"
     ]
    },
    {
     "data": {
      "text/plain": [
       "'VAR_1665'"
      ]
     },
     "execution_count": 74,
     "metadata": {},
     "output_type": "execute_result"
    },
    {
     "name": "stdout",
     "output_type": "stream",
     "text": [
      "No. of unique values: 19\n",
      "No.of Null Values: 0\n"
     ]
    },
    {
     "data": {
      "text/plain": [
       "'VAR_1666'"
      ]
     },
     "execution_count": 74,
     "metadata": {},
     "output_type": "execute_result"
    },
    {
     "name": "stdout",
     "output_type": "stream",
     "text": [
      "No. of unique values: 13\n",
      "No.of Null Values: 0\n"
     ]
    },
    {
     "data": {
      "text/plain": [
       "'VAR_1667'"
      ]
     },
     "execution_count": 74,
     "metadata": {},
     "output_type": "execute_result"
    },
    {
     "name": "stdout",
     "output_type": "stream",
     "text": [
      "No. of unique values: 18\n",
      "No.of Null Values: 0\n"
     ]
    },
    {
     "data": {
      "text/plain": [
       "'VAR_1668'"
      ]
     },
     "execution_count": 74,
     "metadata": {},
     "output_type": "execute_result"
    },
    {
     "name": "stdout",
     "output_type": "stream",
     "text": [
      "No. of unique values: 12\n",
      "No.of Null Values: 0\n"
     ]
    },
    {
     "data": {
      "text/plain": [
       "'VAR_1669'"
      ]
     },
     "execution_count": 74,
     "metadata": {},
     "output_type": "execute_result"
    },
    {
     "name": "stdout",
     "output_type": "stream",
     "text": [
      "No. of unique values: 13\n",
      "No.of Null Values: 0\n"
     ]
    },
    {
     "data": {
      "text/plain": [
       "'VAR_1670'"
      ]
     },
     "execution_count": 74,
     "metadata": {},
     "output_type": "execute_result"
    },
    {
     "name": "stdout",
     "output_type": "stream",
     "text": [
      "No. of unique values: 13\n",
      "No.of Null Values: 0\n"
     ]
    },
    {
     "data": {
      "text/plain": [
       "'VAR_1671'"
      ]
     },
     "execution_count": 74,
     "metadata": {},
     "output_type": "execute_result"
    },
    {
     "name": "stdout",
     "output_type": "stream",
     "text": [
      "No. of unique values: 6\n",
      "No.of Null Values: 0\n"
     ]
    },
    {
     "data": {
      "text/plain": [
       "'VAR_1672'"
      ]
     },
     "execution_count": 74,
     "metadata": {},
     "output_type": "execute_result"
    },
    {
     "name": "stdout",
     "output_type": "stream",
     "text": [
      "No. of unique values: 7\n",
      "No.of Null Values: 0\n"
     ]
    },
    {
     "data": {
      "text/plain": [
       "'VAR_1673'"
      ]
     },
     "execution_count": 74,
     "metadata": {},
     "output_type": "execute_result"
    },
    {
     "name": "stdout",
     "output_type": "stream",
     "text": [
      "No. of unique values: 7\n",
      "No.of Null Values: 0\n"
     ]
    },
    {
     "data": {
      "text/plain": [
       "'VAR_1674'"
      ]
     },
     "execution_count": 74,
     "metadata": {},
     "output_type": "execute_result"
    },
    {
     "name": "stdout",
     "output_type": "stream",
     "text": [
      "No. of unique values: 8\n",
      "No.of Null Values: 0\n"
     ]
    },
    {
     "data": {
      "text/plain": [
       "'VAR_1675'"
      ]
     },
     "execution_count": 74,
     "metadata": {},
     "output_type": "execute_result"
    },
    {
     "name": "stdout",
     "output_type": "stream",
     "text": [
      "No. of unique values: 7\n",
      "No.of Null Values: 0\n"
     ]
    },
    {
     "data": {
      "text/plain": [
       "'VAR_1676'"
      ]
     },
     "execution_count": 74,
     "metadata": {},
     "output_type": "execute_result"
    },
    {
     "name": "stdout",
     "output_type": "stream",
     "text": [
      "No. of unique values: 7\n",
      "No.of Null Values: 0\n"
     ]
    },
    {
     "data": {
      "text/plain": [
       "'VAR_1677'"
      ]
     },
     "execution_count": 74,
     "metadata": {},
     "output_type": "execute_result"
    },
    {
     "name": "stdout",
     "output_type": "stream",
     "text": [
      "No. of unique values: 7\n",
      "No.of Null Values: 0\n"
     ]
    },
    {
     "data": {
      "text/plain": [
       "'VAR_1678'"
      ]
     },
     "execution_count": 74,
     "metadata": {},
     "output_type": "execute_result"
    },
    {
     "name": "stdout",
     "output_type": "stream",
     "text": [
      "No. of unique values: 8\n",
      "No.of Null Values: 0\n"
     ]
    },
    {
     "data": {
      "text/plain": [
       "'VAR_1679'"
      ]
     },
     "execution_count": 74,
     "metadata": {},
     "output_type": "execute_result"
    },
    {
     "name": "stdout",
     "output_type": "stream",
     "text": [
      "No. of unique values: 6\n",
      "No.of Null Values: 0\n"
     ]
    },
    {
     "data": {
      "text/plain": [
       "'VAR_1680'"
      ]
     },
     "execution_count": 74,
     "metadata": {},
     "output_type": "execute_result"
    },
    {
     "name": "stdout",
     "output_type": "stream",
     "text": [
      "No. of unique values: 6\n",
      "No.of Null Values: 0\n"
     ]
    },
    {
     "data": {
      "text/plain": [
       "'VAR_1681'"
      ]
     },
     "execution_count": 74,
     "metadata": {},
     "output_type": "execute_result"
    },
    {
     "name": "stdout",
     "output_type": "stream",
     "text": [
      "No. of unique values: 7\n",
      "No.of Null Values: 0\n"
     ]
    },
    {
     "data": {
      "text/plain": [
       "'VAR_1682'"
      ]
     },
     "execution_count": 74,
     "metadata": {},
     "output_type": "execute_result"
    },
    {
     "name": "stdout",
     "output_type": "stream",
     "text": [
      "No. of unique values: 7\n",
      "No.of Null Values: 0\n"
     ]
    },
    {
     "data": {
      "text/plain": [
       "'VAR_1683'"
      ]
     },
     "execution_count": 74,
     "metadata": {},
     "output_type": "execute_result"
    },
    {
     "name": "stdout",
     "output_type": "stream",
     "text": [
      "No. of unique values: 7\n",
      "No.of Null Values: 0\n"
     ]
    },
    {
     "data": {
      "text/plain": [
       "'VAR_1684'"
      ]
     },
     "execution_count": 74,
     "metadata": {},
     "output_type": "execute_result"
    },
    {
     "name": "stdout",
     "output_type": "stream",
     "text": [
      "No. of unique values: 60\n",
      "No.of Null Values: 0\n"
     ]
    },
    {
     "data": {
      "text/plain": [
       "'VAR_1685'"
      ]
     },
     "execution_count": 74,
     "metadata": {},
     "output_type": "execute_result"
    },
    {
     "name": "stdout",
     "output_type": "stream",
     "text": [
      "No. of unique values: 34978\n",
      "No.of Null Values: 0\n"
     ]
    },
    {
     "data": {
      "text/plain": [
       "'VAR_1686'"
      ]
     },
     "execution_count": 74,
     "metadata": {},
     "output_type": "execute_result"
    },
    {
     "name": "stdout",
     "output_type": "stream",
     "text": [
      "No. of unique values: 1856\n",
      "No.of Null Values: 0\n"
     ]
    },
    {
     "data": {
      "text/plain": [
       "'VAR_1687'"
      ]
     },
     "execution_count": 74,
     "metadata": {},
     "output_type": "execute_result"
    },
    {
     "name": "stdout",
     "output_type": "stream",
     "text": [
      "No. of unique values: 212\n",
      "No.of Null Values: 0\n"
     ]
    },
    {
     "data": {
      "text/plain": [
       "'VAR_1688'"
      ]
     },
     "execution_count": 74,
     "metadata": {},
     "output_type": "execute_result"
    },
    {
     "name": "stdout",
     "output_type": "stream",
     "text": [
      "No. of unique values: 302\n",
      "No.of Null Values: 0\n"
     ]
    },
    {
     "data": {
      "text/plain": [
       "'VAR_1689'"
      ]
     },
     "execution_count": 74,
     "metadata": {},
     "output_type": "execute_result"
    },
    {
     "name": "stdout",
     "output_type": "stream",
     "text": [
      "No. of unique values: 384\n",
      "No.of Null Values: 0\n"
     ]
    },
    {
     "data": {
      "text/plain": [
       "'VAR_1690'"
      ]
     },
     "execution_count": 74,
     "metadata": {},
     "output_type": "execute_result"
    },
    {
     "name": "stdout",
     "output_type": "stream",
     "text": [
      "No. of unique values: 35703\n",
      "No.of Null Values: 0\n"
     ]
    },
    {
     "data": {
      "text/plain": [
       "'VAR_1691'"
      ]
     },
     "execution_count": 74,
     "metadata": {},
     "output_type": "execute_result"
    },
    {
     "name": "stdout",
     "output_type": "stream",
     "text": [
      "No. of unique values: 20900\n",
      "No.of Null Values: 0\n"
     ]
    },
    {
     "data": {
      "text/plain": [
       "'VAR_1692'"
      ]
     },
     "execution_count": 74,
     "metadata": {},
     "output_type": "execute_result"
    },
    {
     "name": "stdout",
     "output_type": "stream",
     "text": [
      "No. of unique values: 901\n",
      "No.of Null Values: 0\n"
     ]
    },
    {
     "data": {
      "text/plain": [
       "'VAR_1693'"
      ]
     },
     "execution_count": 74,
     "metadata": {},
     "output_type": "execute_result"
    },
    {
     "name": "stdout",
     "output_type": "stream",
     "text": [
      "No. of unique values: 1070\n",
      "No.of Null Values: 0\n"
     ]
    },
    {
     "data": {
      "text/plain": [
       "'VAR_1694'"
      ]
     },
     "execution_count": 74,
     "metadata": {},
     "output_type": "execute_result"
    },
    {
     "name": "stdout",
     "output_type": "stream",
     "text": [
      "No. of unique values: 1218\n",
      "No.of Null Values: 0\n"
     ]
    },
    {
     "data": {
      "text/plain": [
       "'VAR_1695'"
      ]
     },
     "execution_count": 74,
     "metadata": {},
     "output_type": "execute_result"
    },
    {
     "name": "stdout",
     "output_type": "stream",
     "text": [
      "No. of unique values: 1447\n",
      "No.of Null Values: 0\n"
     ]
    },
    {
     "data": {
      "text/plain": [
       "'VAR_1696'"
      ]
     },
     "execution_count": 74,
     "metadata": {},
     "output_type": "execute_result"
    },
    {
     "name": "stdout",
     "output_type": "stream",
     "text": [
      "No. of unique values: 1793\n",
      "No.of Null Values: 0\n"
     ]
    },
    {
     "data": {
      "text/plain": [
       "'VAR_1697'"
      ]
     },
     "execution_count": 74,
     "metadata": {},
     "output_type": "execute_result"
    },
    {
     "name": "stdout",
     "output_type": "stream",
     "text": [
      "No. of unique values: 1998\n",
      "No.of Null Values: 0\n"
     ]
    },
    {
     "data": {
      "text/plain": [
       "'VAR_1698'"
      ]
     },
     "execution_count": 74,
     "metadata": {},
     "output_type": "execute_result"
    },
    {
     "name": "stdout",
     "output_type": "stream",
     "text": [
      "No. of unique values: 2124\n",
      "No.of Null Values: 0\n"
     ]
    },
    {
     "data": {
      "text/plain": [
       "'VAR_1699'"
      ]
     },
     "execution_count": 74,
     "metadata": {},
     "output_type": "execute_result"
    },
    {
     "name": "stdout",
     "output_type": "stream",
     "text": [
      "No. of unique values: 2462\n",
      "No.of Null Values: 0\n"
     ]
    },
    {
     "data": {
      "text/plain": [
       "'VAR_1700'"
      ]
     },
     "execution_count": 74,
     "metadata": {},
     "output_type": "execute_result"
    },
    {
     "name": "stdout",
     "output_type": "stream",
     "text": [
      "No. of unique values: 18355\n",
      "No.of Null Values: 0\n"
     ]
    },
    {
     "data": {
      "text/plain": [
       "'VAR_1701'"
      ]
     },
     "execution_count": 74,
     "metadata": {},
     "output_type": "execute_result"
    },
    {
     "name": "stdout",
     "output_type": "stream",
     "text": [
      "No. of unique values: 3430\n",
      "No.of Null Values: 0\n"
     ]
    },
    {
     "data": {
      "text/plain": [
       "'VAR_1702'"
      ]
     },
     "execution_count": 74,
     "metadata": {},
     "output_type": "execute_result"
    },
    {
     "name": "stdout",
     "output_type": "stream",
     "text": [
      "No. of unique values: 8\n",
      "No.of Null Values: 0\n"
     ]
    },
    {
     "data": {
      "text/plain": [
       "'VAR_1703'"
      ]
     },
     "execution_count": 74,
     "metadata": {},
     "output_type": "execute_result"
    },
    {
     "name": "stdout",
     "output_type": "stream",
     "text": [
      "No. of unique values: 9\n",
      "No.of Null Values: 0\n"
     ]
    },
    {
     "data": {
      "text/plain": [
       "'VAR_1704'"
      ]
     },
     "execution_count": 74,
     "metadata": {},
     "output_type": "execute_result"
    },
    {
     "name": "stdout",
     "output_type": "stream",
     "text": [
      "No. of unique values: 9\n",
      "No.of Null Values: 0\n"
     ]
    },
    {
     "data": {
      "text/plain": [
       "'VAR_1705'"
      ]
     },
     "execution_count": 74,
     "metadata": {},
     "output_type": "execute_result"
    },
    {
     "name": "stdout",
     "output_type": "stream",
     "text": [
      "No. of unique values: 9\n",
      "No.of Null Values: 0\n"
     ]
    },
    {
     "data": {
      "text/plain": [
       "'VAR_1706'"
      ]
     },
     "execution_count": 74,
     "metadata": {},
     "output_type": "execute_result"
    },
    {
     "name": "stdout",
     "output_type": "stream",
     "text": [
      "No. of unique values: 9\n",
      "No.of Null Values: 0\n"
     ]
    },
    {
     "data": {
      "text/plain": [
       "'VAR_1707'"
      ]
     },
     "execution_count": 74,
     "metadata": {},
     "output_type": "execute_result"
    },
    {
     "name": "stdout",
     "output_type": "stream",
     "text": [
      "No. of unique values: 9\n",
      "No.of Null Values: 0\n"
     ]
    },
    {
     "data": {
      "text/plain": [
       "'VAR_1708'"
      ]
     },
     "execution_count": 74,
     "metadata": {},
     "output_type": "execute_result"
    },
    {
     "name": "stdout",
     "output_type": "stream",
     "text": [
      "No. of unique values: 10\n",
      "No.of Null Values: 0\n"
     ]
    },
    {
     "data": {
      "text/plain": [
       "'VAR_1709'"
      ]
     },
     "execution_count": 74,
     "metadata": {},
     "output_type": "execute_result"
    },
    {
     "name": "stdout",
     "output_type": "stream",
     "text": [
      "No. of unique values: 154\n",
      "No.of Null Values: 0\n"
     ]
    },
    {
     "data": {
      "text/plain": [
       "'VAR_1710'"
      ]
     },
     "execution_count": 74,
     "metadata": {},
     "output_type": "execute_result"
    },
    {
     "name": "stdout",
     "output_type": "stream",
     "text": [
      "No. of unique values: 86\n",
      "No.of Null Values: 0\n"
     ]
    },
    {
     "data": {
      "text/plain": [
       "'VAR_1711'"
      ]
     },
     "execution_count": 74,
     "metadata": {},
     "output_type": "execute_result"
    },
    {
     "name": "stdout",
     "output_type": "stream",
     "text": [
      "No. of unique values: 84\n",
      "No.of Null Values: 0\n"
     ]
    },
    {
     "data": {
      "text/plain": [
       "'VAR_1712'"
      ]
     },
     "execution_count": 74,
     "metadata": {},
     "output_type": "execute_result"
    },
    {
     "name": "stdout",
     "output_type": "stream",
     "text": [
      "No. of unique values: 433\n",
      "No.of Null Values: 0\n"
     ]
    },
    {
     "data": {
      "text/plain": [
       "'VAR_1713'"
      ]
     },
     "execution_count": 74,
     "metadata": {},
     "output_type": "execute_result"
    },
    {
     "name": "stdout",
     "output_type": "stream",
     "text": [
      "No. of unique values: 11\n",
      "No.of Null Values: 0\n"
     ]
    },
    {
     "data": {
      "text/plain": [
       "'VAR_1714'"
      ]
     },
     "execution_count": 74,
     "metadata": {},
     "output_type": "execute_result"
    },
    {
     "name": "stdout",
     "output_type": "stream",
     "text": [
      "No. of unique values: 11\n",
      "No.of Null Values: 0\n"
     ]
    },
    {
     "data": {
      "text/plain": [
       "'VAR_1715'"
      ]
     },
     "execution_count": 74,
     "metadata": {},
     "output_type": "execute_result"
    },
    {
     "name": "stdout",
     "output_type": "stream",
     "text": [
      "No. of unique values: 16941\n",
      "No.of Null Values: 0\n"
     ]
    },
    {
     "data": {
      "text/plain": [
       "'VAR_1716'"
      ]
     },
     "execution_count": 74,
     "metadata": {},
     "output_type": "execute_result"
    },
    {
     "name": "stdout",
     "output_type": "stream",
     "text": [
      "No. of unique values: 11287\n",
      "No.of Null Values: 0\n"
     ]
    },
    {
     "data": {
      "text/plain": [
       "'VAR_1717'"
      ]
     },
     "execution_count": 74,
     "metadata": {},
     "output_type": "execute_result"
    },
    {
     "name": "stdout",
     "output_type": "stream",
     "text": [
      "No. of unique values: 2349\n",
      "No.of Null Values: 0\n"
     ]
    },
    {
     "data": {
      "text/plain": [
       "'VAR_1718'"
      ]
     },
     "execution_count": 74,
     "metadata": {},
     "output_type": "execute_result"
    },
    {
     "name": "stdout",
     "output_type": "stream",
     "text": [
      "No. of unique values: 3152\n",
      "No.of Null Values: 0\n"
     ]
    },
    {
     "data": {
      "text/plain": [
       "'VAR_1719'"
      ]
     },
     "execution_count": 74,
     "metadata": {},
     "output_type": "execute_result"
    },
    {
     "name": "stdout",
     "output_type": "stream",
     "text": [
      "No. of unique values: 421\n",
      "No.of Null Values: 0\n"
     ]
    },
    {
     "data": {
      "text/plain": [
       "'VAR_1720'"
      ]
     },
     "execution_count": 74,
     "metadata": {},
     "output_type": "execute_result"
    },
    {
     "name": "stdout",
     "output_type": "stream",
     "text": [
      "No. of unique values: 447\n",
      "No.of Null Values: 0\n"
     ]
    },
    {
     "data": {
      "text/plain": [
       "'VAR_1721'"
      ]
     },
     "execution_count": 74,
     "metadata": {},
     "output_type": "execute_result"
    },
    {
     "name": "stdout",
     "output_type": "stream",
     "text": [
      "No. of unique values: 14\n",
      "No.of Null Values: 0\n"
     ]
    },
    {
     "data": {
      "text/plain": [
       "'VAR_1722'"
      ]
     },
     "execution_count": 74,
     "metadata": {},
     "output_type": "execute_result"
    },
    {
     "name": "stdout",
     "output_type": "stream",
     "text": [
      "No. of unique values: 7\n",
      "No.of Null Values: 0\n"
     ]
    },
    {
     "data": {
      "text/plain": [
       "'VAR_1723'"
      ]
     },
     "execution_count": 74,
     "metadata": {},
     "output_type": "execute_result"
    },
    {
     "name": "stdout",
     "output_type": "stream",
     "text": [
      "No. of unique values: 5\n",
      "No.of Null Values: 0\n"
     ]
    },
    {
     "data": {
      "text/plain": [
       "'VAR_1724'"
      ]
     },
     "execution_count": 74,
     "metadata": {},
     "output_type": "execute_result"
    },
    {
     "name": "stdout",
     "output_type": "stream",
     "text": [
      "No. of unique values: 13\n",
      "No.of Null Values: 0\n"
     ]
    },
    {
     "data": {
      "text/plain": [
       "'VAR_1725'"
      ]
     },
     "execution_count": 74,
     "metadata": {},
     "output_type": "execute_result"
    },
    {
     "name": "stdout",
     "output_type": "stream",
     "text": [
      "No. of unique values: 8\n",
      "No.of Null Values: 0\n"
     ]
    },
    {
     "data": {
      "text/plain": [
       "'VAR_1726'"
      ]
     },
     "execution_count": 74,
     "metadata": {},
     "output_type": "execute_result"
    },
    {
     "name": "stdout",
     "output_type": "stream",
     "text": [
      "No. of unique values: 8\n",
      "No.of Null Values: 0\n"
     ]
    },
    {
     "data": {
      "text/plain": [
       "'VAR_1727'"
      ]
     },
     "execution_count": 74,
     "metadata": {},
     "output_type": "execute_result"
    },
    {
     "name": "stdout",
     "output_type": "stream",
     "text": [
      "No. of unique values: 8\n",
      "No.of Null Values: 0\n"
     ]
    },
    {
     "data": {
      "text/plain": [
       "'VAR_1728'"
      ]
     },
     "execution_count": 74,
     "metadata": {},
     "output_type": "execute_result"
    },
    {
     "name": "stdout",
     "output_type": "stream",
     "text": [
      "No. of unique values: 8\n",
      "No.of Null Values: 0\n"
     ]
    },
    {
     "data": {
      "text/plain": [
       "'VAR_1729'"
      ]
     },
     "execution_count": 74,
     "metadata": {},
     "output_type": "execute_result"
    },
    {
     "name": "stdout",
     "output_type": "stream",
     "text": [
      "No. of unique values: 39\n",
      "No.of Null Values: 0\n"
     ]
    },
    {
     "data": {
      "text/plain": [
       "'VAR_1730'"
      ]
     },
     "execution_count": 74,
     "metadata": {},
     "output_type": "execute_result"
    },
    {
     "name": "stdout",
     "output_type": "stream",
     "text": [
      "No. of unique values: 4531\n",
      "No.of Null Values: 0\n"
     ]
    },
    {
     "data": {
      "text/plain": [
       "'VAR_1731'"
      ]
     },
     "execution_count": 74,
     "metadata": {},
     "output_type": "execute_result"
    },
    {
     "name": "stdout",
     "output_type": "stream",
     "text": [
      "No. of unique values: 2701\n",
      "No.of Null Values: 0\n"
     ]
    },
    {
     "data": {
      "text/plain": [
       "'VAR_1732'"
      ]
     },
     "execution_count": 74,
     "metadata": {},
     "output_type": "execute_result"
    },
    {
     "name": "stdout",
     "output_type": "stream",
     "text": [
      "No. of unique values: 3673\n",
      "No.of Null Values: 0\n"
     ]
    },
    {
     "data": {
      "text/plain": [
       "'VAR_1733'"
      ]
     },
     "execution_count": 74,
     "metadata": {},
     "output_type": "execute_result"
    },
    {
     "name": "stdout",
     "output_type": "stream",
     "text": [
      "No. of unique values: 1082\n",
      "No.of Null Values: 0\n"
     ]
    },
    {
     "data": {
      "text/plain": [
       "'VAR_1734'"
      ]
     },
     "execution_count": 74,
     "metadata": {},
     "output_type": "execute_result"
    },
    {
     "name": "stdout",
     "output_type": "stream",
     "text": [
      "No. of unique values: 8\n",
      "No.of Null Values: 0\n"
     ]
    },
    {
     "data": {
      "text/plain": [
       "'VAR_1735'"
      ]
     },
     "execution_count": 74,
     "metadata": {},
     "output_type": "execute_result"
    },
    {
     "name": "stdout",
     "output_type": "stream",
     "text": [
      "No. of unique values: 10\n",
      "No.of Null Values: 0\n"
     ]
    },
    {
     "data": {
      "text/plain": [
       "'VAR_1736'"
      ]
     },
     "execution_count": 74,
     "metadata": {},
     "output_type": "execute_result"
    },
    {
     "name": "stdout",
     "output_type": "stream",
     "text": [
      "No. of unique values: 85\n",
      "No.of Null Values: 0\n"
     ]
    },
    {
     "data": {
      "text/plain": [
       "'VAR_1737'"
      ]
     },
     "execution_count": 74,
     "metadata": {},
     "output_type": "execute_result"
    },
    {
     "name": "stdout",
     "output_type": "stream",
     "text": [
      "No. of unique values: 275\n",
      "No.of Null Values: 0\n"
     ]
    },
    {
     "data": {
      "text/plain": [
       "'VAR_1738'"
      ]
     },
     "execution_count": 74,
     "metadata": {},
     "output_type": "execute_result"
    },
    {
     "name": "stdout",
     "output_type": "stream",
     "text": [
      "No. of unique values: 36581\n",
      "No.of Null Values: 0\n"
     ]
    },
    {
     "data": {
      "text/plain": [
       "'VAR_1739'"
      ]
     },
     "execution_count": 74,
     "metadata": {},
     "output_type": "execute_result"
    },
    {
     "name": "stdout",
     "output_type": "stream",
     "text": [
      "No. of unique values: 3161\n",
      "No.of Null Values: 0\n"
     ]
    },
    {
     "data": {
      "text/plain": [
       "'VAR_1740'"
      ]
     },
     "execution_count": 74,
     "metadata": {},
     "output_type": "execute_result"
    },
    {
     "name": "stdout",
     "output_type": "stream",
     "text": [
      "No. of unique values: 83\n",
      "No.of Null Values: 0\n"
     ]
    },
    {
     "data": {
      "text/plain": [
       "'VAR_1741'"
      ]
     },
     "execution_count": 74,
     "metadata": {},
     "output_type": "execute_result"
    },
    {
     "name": "stdout",
     "output_type": "stream",
     "text": [
      "No. of unique values: 15\n",
      "No.of Null Values: 0\n"
     ]
    },
    {
     "data": {
      "text/plain": [
       "'VAR_1742'"
      ]
     },
     "execution_count": 74,
     "metadata": {},
     "output_type": "execute_result"
    },
    {
     "name": "stdout",
     "output_type": "stream",
     "text": [
      "No. of unique values: 84\n",
      "No.of Null Values: 0\n"
     ]
    },
    {
     "data": {
      "text/plain": [
       "'VAR_1743'"
      ]
     },
     "execution_count": 74,
     "metadata": {},
     "output_type": "execute_result"
    },
    {
     "name": "stdout",
     "output_type": "stream",
     "text": [
      "No. of unique values: 13\n",
      "No.of Null Values: 0\n"
     ]
    },
    {
     "data": {
      "text/plain": [
       "'VAR_1744'"
      ]
     },
     "execution_count": 74,
     "metadata": {},
     "output_type": "execute_result"
    },
    {
     "name": "stdout",
     "output_type": "stream",
     "text": [
      "No. of unique values: 12\n",
      "No.of Null Values: 0\n"
     ]
    },
    {
     "data": {
      "text/plain": [
       "'VAR_1745'"
      ]
     },
     "execution_count": 74,
     "metadata": {},
     "output_type": "execute_result"
    },
    {
     "name": "stdout",
     "output_type": "stream",
     "text": [
      "No. of unique values: 12\n",
      "No.of Null Values: 0\n"
     ]
    },
    {
     "data": {
      "text/plain": [
       "'VAR_1746'"
      ]
     },
     "execution_count": 74,
     "metadata": {},
     "output_type": "execute_result"
    },
    {
     "name": "stdout",
     "output_type": "stream",
     "text": [
      "No. of unique values: 13\n",
      "No.of Null Values: 0\n"
     ]
    },
    {
     "data": {
      "text/plain": [
       "'VAR_1747'"
      ]
     },
     "execution_count": 74,
     "metadata": {},
     "output_type": "execute_result"
    },
    {
     "name": "stdout",
     "output_type": "stream",
     "text": [
      "No. of unique values: 18822\n",
      "No.of Null Values: 0\n"
     ]
    },
    {
     "data": {
      "text/plain": [
       "'VAR_1748'"
      ]
     },
     "execution_count": 74,
     "metadata": {},
     "output_type": "execute_result"
    },
    {
     "name": "stdout",
     "output_type": "stream",
     "text": [
      "No. of unique values: 20612\n",
      "No.of Null Values: 0\n"
     ]
    },
    {
     "data": {
      "text/plain": [
       "'VAR_1749'"
      ]
     },
     "execution_count": 74,
     "metadata": {},
     "output_type": "execute_result"
    },
    {
     "name": "stdout",
     "output_type": "stream",
     "text": [
      "No. of unique values: 9\n",
      "No.of Null Values: 0\n"
     ]
    },
    {
     "data": {
      "text/plain": [
       "'VAR_1750'"
      ]
     },
     "execution_count": 74,
     "metadata": {},
     "output_type": "execute_result"
    },
    {
     "name": "stdout",
     "output_type": "stream",
     "text": [
      "No. of unique values: 300\n",
      "No.of Null Values: 0\n"
     ]
    },
    {
     "data": {
      "text/plain": [
       "'VAR_1751'"
      ]
     },
     "execution_count": 74,
     "metadata": {},
     "output_type": "execute_result"
    },
    {
     "name": "stdout",
     "output_type": "stream",
     "text": [
      "No. of unique values: 372\n",
      "No.of Null Values: 0\n"
     ]
    },
    {
     "data": {
      "text/plain": [
       "'VAR_1752'"
      ]
     },
     "execution_count": 74,
     "metadata": {},
     "output_type": "execute_result"
    },
    {
     "name": "stdout",
     "output_type": "stream",
     "text": [
      "No. of unique values: 13\n",
      "No.of Null Values: 0\n"
     ]
    },
    {
     "data": {
      "text/plain": [
       "'VAR_1753'"
      ]
     },
     "execution_count": 74,
     "metadata": {},
     "output_type": "execute_result"
    },
    {
     "name": "stdout",
     "output_type": "stream",
     "text": [
      "No. of unique values: 13\n",
      "No.of Null Values: 0\n"
     ]
    },
    {
     "data": {
      "text/plain": [
       "'VAR_1754'"
      ]
     },
     "execution_count": 74,
     "metadata": {},
     "output_type": "execute_result"
    },
    {
     "name": "stdout",
     "output_type": "stream",
     "text": [
      "No. of unique values: 7897\n",
      "No.of Null Values: 0\n"
     ]
    },
    {
     "data": {
      "text/plain": [
       "'VAR_1755'"
      ]
     },
     "execution_count": 74,
     "metadata": {},
     "output_type": "execute_result"
    },
    {
     "name": "stdout",
     "output_type": "stream",
     "text": [
      "No. of unique values: 2213\n",
      "No.of Null Values: 0\n"
     ]
    },
    {
     "data": {
      "text/plain": [
       "'VAR_1756'"
      ]
     },
     "execution_count": 74,
     "metadata": {},
     "output_type": "execute_result"
    },
    {
     "name": "stdout",
     "output_type": "stream",
     "text": [
      "No. of unique values: 869\n",
      "No.of Null Values: 0\n"
     ]
    },
    {
     "data": {
      "text/plain": [
       "'VAR_1757'"
      ]
     },
     "execution_count": 74,
     "metadata": {},
     "output_type": "execute_result"
    },
    {
     "name": "stdout",
     "output_type": "stream",
     "text": [
      "No. of unique values: 930\n",
      "No.of Null Values: 0\n"
     ]
    },
    {
     "data": {
      "text/plain": [
       "'VAR_1758'"
      ]
     },
     "execution_count": 74,
     "metadata": {},
     "output_type": "execute_result"
    },
    {
     "name": "stdout",
     "output_type": "stream",
     "text": [
      "No. of unique values: 493\n",
      "No.of Null Values: 0\n"
     ]
    },
    {
     "data": {
      "text/plain": [
       "'VAR_1759'"
      ]
     },
     "execution_count": 74,
     "metadata": {},
     "output_type": "execute_result"
    },
    {
     "name": "stdout",
     "output_type": "stream",
     "text": [
      "No. of unique values: 570\n",
      "No.of Null Values: 0\n"
     ]
    },
    {
     "data": {
      "text/plain": [
       "'VAR_1760'"
      ]
     },
     "execution_count": 74,
     "metadata": {},
     "output_type": "execute_result"
    },
    {
     "name": "stdout",
     "output_type": "stream",
     "text": [
      "No. of unique values: 83\n",
      "No.of Null Values: 0\n"
     ]
    },
    {
     "data": {
      "text/plain": [
       "'VAR_1761'"
      ]
     },
     "execution_count": 74,
     "metadata": {},
     "output_type": "execute_result"
    },
    {
     "name": "stdout",
     "output_type": "stream",
     "text": [
      "No. of unique values: 52\n",
      "No.of Null Values: 0\n"
     ]
    },
    {
     "data": {
      "text/plain": [
       "'VAR_1762'"
      ]
     },
     "execution_count": 74,
     "metadata": {},
     "output_type": "execute_result"
    },
    {
     "name": "stdout",
     "output_type": "stream",
     "text": [
      "No. of unique values: 46\n",
      "No.of Null Values: 0\n"
     ]
    },
    {
     "data": {
      "text/plain": [
       "'VAR_1763'"
      ]
     },
     "execution_count": 74,
     "metadata": {},
     "output_type": "execute_result"
    },
    {
     "name": "stdout",
     "output_type": "stream",
     "text": [
      "No. of unique values: 21\n",
      "No.of Null Values: 0\n"
     ]
    },
    {
     "data": {
      "text/plain": [
       "'VAR_1764'"
      ]
     },
     "execution_count": 74,
     "metadata": {},
     "output_type": "execute_result"
    },
    {
     "name": "stdout",
     "output_type": "stream",
     "text": [
      "No. of unique values: 26\n",
      "No.of Null Values: 0\n"
     ]
    },
    {
     "data": {
      "text/plain": [
       "'VAR_1765'"
      ]
     },
     "execution_count": 74,
     "metadata": {},
     "output_type": "execute_result"
    },
    {
     "name": "stdout",
     "output_type": "stream",
     "text": [
      "No. of unique values: 29\n",
      "No.of Null Values: 0\n"
     ]
    },
    {
     "data": {
      "text/plain": [
       "'VAR_1766'"
      ]
     },
     "execution_count": 74,
     "metadata": {},
     "output_type": "execute_result"
    },
    {
     "name": "stdout",
     "output_type": "stream",
     "text": [
      "No. of unique values: 80\n",
      "No.of Null Values: 0\n"
     ]
    },
    {
     "data": {
      "text/plain": [
       "'VAR_1767'"
      ]
     },
     "execution_count": 74,
     "metadata": {},
     "output_type": "execute_result"
    },
    {
     "name": "stdout",
     "output_type": "stream",
     "text": [
      "No. of unique values: 50\n",
      "No.of Null Values: 0\n"
     ]
    },
    {
     "data": {
      "text/plain": [
       "'VAR_1768'"
      ]
     },
     "execution_count": 74,
     "metadata": {},
     "output_type": "execute_result"
    },
    {
     "name": "stdout",
     "output_type": "stream",
     "text": [
      "No. of unique values: 54\n",
      "No.of Null Values: 0\n"
     ]
    },
    {
     "data": {
      "text/plain": [
       "'VAR_1769'"
      ]
     },
     "execution_count": 74,
     "metadata": {},
     "output_type": "execute_result"
    },
    {
     "name": "stdout",
     "output_type": "stream",
     "text": [
      "No. of unique values: 55\n",
      "No.of Null Values: 0\n"
     ]
    },
    {
     "data": {
      "text/plain": [
       "'VAR_1770'"
      ]
     },
     "execution_count": 74,
     "metadata": {},
     "output_type": "execute_result"
    },
    {
     "name": "stdout",
     "output_type": "stream",
     "text": [
      "No. of unique values: 14\n",
      "No.of Null Values: 0\n"
     ]
    },
    {
     "data": {
      "text/plain": [
       "'VAR_1771'"
      ]
     },
     "execution_count": 74,
     "metadata": {},
     "output_type": "execute_result"
    },
    {
     "name": "stdout",
     "output_type": "stream",
     "text": [
      "No. of unique values: 13\n",
      "No.of Null Values: 0\n"
     ]
    },
    {
     "data": {
      "text/plain": [
       "'VAR_1772'"
      ]
     },
     "execution_count": 74,
     "metadata": {},
     "output_type": "execute_result"
    },
    {
     "name": "stdout",
     "output_type": "stream",
     "text": [
      "No. of unique values: 19\n",
      "No.of Null Values: 0\n"
     ]
    },
    {
     "data": {
      "text/plain": [
       "'VAR_1773'"
      ]
     },
     "execution_count": 74,
     "metadata": {},
     "output_type": "execute_result"
    },
    {
     "name": "stdout",
     "output_type": "stream",
     "text": [
      "No. of unique values: 22\n",
      "No.of Null Values: 0\n"
     ]
    },
    {
     "data": {
      "text/plain": [
       "'VAR_1774'"
      ]
     },
     "execution_count": 74,
     "metadata": {},
     "output_type": "execute_result"
    },
    {
     "name": "stdout",
     "output_type": "stream",
     "text": [
      "No. of unique values: 39\n",
      "No.of Null Values: 0\n"
     ]
    },
    {
     "data": {
      "text/plain": [
       "'VAR_1775'"
      ]
     },
     "execution_count": 74,
     "metadata": {},
     "output_type": "execute_result"
    },
    {
     "name": "stdout",
     "output_type": "stream",
     "text": [
      "No. of unique values: 26\n",
      "No.of Null Values: 0\n"
     ]
    },
    {
     "data": {
      "text/plain": [
       "'VAR_1776'"
      ]
     },
     "execution_count": 74,
     "metadata": {},
     "output_type": "execute_result"
    },
    {
     "name": "stdout",
     "output_type": "stream",
     "text": [
      "No. of unique values: 30\n",
      "No.of Null Values: 0\n"
     ]
    },
    {
     "data": {
      "text/plain": [
       "'VAR_1777'"
      ]
     },
     "execution_count": 74,
     "metadata": {},
     "output_type": "execute_result"
    },
    {
     "name": "stdout",
     "output_type": "stream",
     "text": [
      "No. of unique values: 36\n",
      "No.of Null Values: 0\n"
     ]
    },
    {
     "data": {
      "text/plain": [
       "'VAR_1778'"
      ]
     },
     "execution_count": 74,
     "metadata": {},
     "output_type": "execute_result"
    },
    {
     "name": "stdout",
     "output_type": "stream",
     "text": [
      "No. of unique values: 37\n",
      "No.of Null Values: 0\n"
     ]
    },
    {
     "data": {
      "text/plain": [
       "'VAR_1779'"
      ]
     },
     "execution_count": 74,
     "metadata": {},
     "output_type": "execute_result"
    },
    {
     "name": "stdout",
     "output_type": "stream",
     "text": [
      "No. of unique values: 25\n",
      "No.of Null Values: 0\n"
     ]
    },
    {
     "data": {
      "text/plain": [
       "'VAR_1780'"
      ]
     },
     "execution_count": 74,
     "metadata": {},
     "output_type": "execute_result"
    },
    {
     "name": "stdout",
     "output_type": "stream",
     "text": [
      "No. of unique values: 29\n",
      "No.of Null Values: 0\n"
     ]
    },
    {
     "data": {
      "text/plain": [
       "'VAR_1781'"
      ]
     },
     "execution_count": 74,
     "metadata": {},
     "output_type": "execute_result"
    },
    {
     "name": "stdout",
     "output_type": "stream",
     "text": [
      "No. of unique values: 37\n",
      "No.of Null Values: 0\n"
     ]
    },
    {
     "data": {
      "text/plain": [
       "'VAR_1782'"
      ]
     },
     "execution_count": 74,
     "metadata": {},
     "output_type": "execute_result"
    },
    {
     "name": "stdout",
     "output_type": "stream",
     "text": [
      "No. of unique values: 35\n",
      "No.of Null Values: 0\n"
     ]
    },
    {
     "data": {
      "text/plain": [
       "'VAR_1783'"
      ]
     },
     "execution_count": 74,
     "metadata": {},
     "output_type": "execute_result"
    },
    {
     "name": "stdout",
     "output_type": "stream",
     "text": [
      "No. of unique values: 25\n",
      "No.of Null Values: 0\n"
     ]
    },
    {
     "data": {
      "text/plain": [
       "'VAR_1784'"
      ]
     },
     "execution_count": 74,
     "metadata": {},
     "output_type": "execute_result"
    },
    {
     "name": "stdout",
     "output_type": "stream",
     "text": [
      "No. of unique values: 28\n",
      "No.of Null Values: 0\n"
     ]
    },
    {
     "data": {
      "text/plain": [
       "'VAR_1785'"
      ]
     },
     "execution_count": 74,
     "metadata": {},
     "output_type": "execute_result"
    },
    {
     "name": "stdout",
     "output_type": "stream",
     "text": [
      "No. of unique values: 35\n",
      "No.of Null Values: 0\n"
     ]
    },
    {
     "data": {
      "text/plain": [
       "'VAR_1786'"
      ]
     },
     "execution_count": 74,
     "metadata": {},
     "output_type": "execute_result"
    },
    {
     "name": "stdout",
     "output_type": "stream",
     "text": [
      "No. of unique values: 37\n",
      "No.of Null Values: 0\n"
     ]
    },
    {
     "data": {
      "text/plain": [
       "'VAR_1787'"
      ]
     },
     "execution_count": 74,
     "metadata": {},
     "output_type": "execute_result"
    },
    {
     "name": "stdout",
     "output_type": "stream",
     "text": [
      "No. of unique values: 22\n",
      "No.of Null Values: 0\n"
     ]
    },
    {
     "data": {
      "text/plain": [
       "'VAR_1788'"
      ]
     },
     "execution_count": 74,
     "metadata": {},
     "output_type": "execute_result"
    },
    {
     "name": "stdout",
     "output_type": "stream",
     "text": [
      "No. of unique values: 22\n",
      "No.of Null Values: 0\n"
     ]
    },
    {
     "data": {
      "text/plain": [
       "'VAR_1789'"
      ]
     },
     "execution_count": 74,
     "metadata": {},
     "output_type": "execute_result"
    },
    {
     "name": "stdout",
     "output_type": "stream",
     "text": [
      "No. of unique values: 37\n",
      "No.of Null Values: 0\n"
     ]
    },
    {
     "data": {
      "text/plain": [
       "'VAR_1790'"
      ]
     },
     "execution_count": 74,
     "metadata": {},
     "output_type": "execute_result"
    },
    {
     "name": "stdout",
     "output_type": "stream",
     "text": [
      "No. of unique values: 33\n",
      "No.of Null Values: 0\n"
     ]
    },
    {
     "data": {
      "text/plain": [
       "'VAR_1791'"
      ]
     },
     "execution_count": 74,
     "metadata": {},
     "output_type": "execute_result"
    },
    {
     "name": "stdout",
     "output_type": "stream",
     "text": [
      "No. of unique values: 22\n",
      "No.of Null Values: 0\n"
     ]
    },
    {
     "data": {
      "text/plain": [
       "'VAR_1792'"
      ]
     },
     "execution_count": 74,
     "metadata": {},
     "output_type": "execute_result"
    },
    {
     "name": "stdout",
     "output_type": "stream",
     "text": [
      "No. of unique values: 45\n",
      "No.of Null Values: 0\n"
     ]
    },
    {
     "data": {
      "text/plain": [
       "'VAR_1793'"
      ]
     },
     "execution_count": 74,
     "metadata": {},
     "output_type": "execute_result"
    },
    {
     "name": "stdout",
     "output_type": "stream",
     "text": [
      "No. of unique values: 18\n",
      "No.of Null Values: 0\n"
     ]
    },
    {
     "data": {
      "text/plain": [
       "'VAR_1794'"
      ]
     },
     "execution_count": 74,
     "metadata": {},
     "output_type": "execute_result"
    },
    {
     "name": "stdout",
     "output_type": "stream",
     "text": [
      "No. of unique values: 21\n",
      "No.of Null Values: 0\n"
     ]
    },
    {
     "data": {
      "text/plain": [
       "'VAR_1795'"
      ]
     },
     "execution_count": 74,
     "metadata": {},
     "output_type": "execute_result"
    },
    {
     "name": "stdout",
     "output_type": "stream",
     "text": [
      "No. of unique values: 45\n",
      "No.of Null Values: 0\n"
     ]
    },
    {
     "data": {
      "text/plain": [
       "'VAR_1796'"
      ]
     },
     "execution_count": 74,
     "metadata": {},
     "output_type": "execute_result"
    },
    {
     "name": "stdout",
     "output_type": "stream",
     "text": [
      "No. of unique values: 58\n",
      "No.of Null Values: 0\n"
     ]
    },
    {
     "data": {
      "text/plain": [
       "'VAR_1797'"
      ]
     },
     "execution_count": 74,
     "metadata": {},
     "output_type": "execute_result"
    },
    {
     "name": "stdout",
     "output_type": "stream",
     "text": [
      "No. of unique values: 33\n",
      "No.of Null Values: 0\n"
     ]
    },
    {
     "data": {
      "text/plain": [
       "'VAR_1798'"
      ]
     },
     "execution_count": 74,
     "metadata": {},
     "output_type": "execute_result"
    },
    {
     "name": "stdout",
     "output_type": "stream",
     "text": [
      "No. of unique values: 45\n",
      "No.of Null Values: 0\n"
     ]
    },
    {
     "data": {
      "text/plain": [
       "'VAR_1799'"
      ]
     },
     "execution_count": 74,
     "metadata": {},
     "output_type": "execute_result"
    },
    {
     "name": "stdout",
     "output_type": "stream",
     "text": [
      "No. of unique values: 45\n",
      "No.of Null Values: 0\n"
     ]
    },
    {
     "data": {
      "text/plain": [
       "'VAR_1800'"
      ]
     },
     "execution_count": 74,
     "metadata": {},
     "output_type": "execute_result"
    },
    {
     "name": "stdout",
     "output_type": "stream",
     "text": [
      "No. of unique values: 60\n",
      "No.of Null Values: 0\n"
     ]
    },
    {
     "data": {
      "text/plain": [
       "'VAR_1801'"
      ]
     },
     "execution_count": 74,
     "metadata": {},
     "output_type": "execute_result"
    },
    {
     "name": "stdout",
     "output_type": "stream",
     "text": [
      "No. of unique values: 23515\n",
      "No.of Null Values: 0\n"
     ]
    },
    {
     "data": {
      "text/plain": [
       "'VAR_1802'"
      ]
     },
     "execution_count": 74,
     "metadata": {},
     "output_type": "execute_result"
    },
    {
     "name": "stdout",
     "output_type": "stream",
     "text": [
      "No. of unique values: 25349\n",
      "No.of Null Values: 0\n"
     ]
    },
    {
     "data": {
      "text/plain": [
       "'VAR_1803'"
      ]
     },
     "execution_count": 74,
     "metadata": {},
     "output_type": "execute_result"
    },
    {
     "name": "stdout",
     "output_type": "stream",
     "text": [
      "No. of unique values: 3505\n",
      "No.of Null Values: 0\n"
     ]
    },
    {
     "data": {
      "text/plain": [
       "'VAR_1804'"
      ]
     },
     "execution_count": 74,
     "metadata": {},
     "output_type": "execute_result"
    },
    {
     "name": "stdout",
     "output_type": "stream",
     "text": [
      "No. of unique values: 2305\n",
      "No.of Null Values: 0\n"
     ]
    },
    {
     "data": {
      "text/plain": [
       "'VAR_1805'"
      ]
     },
     "execution_count": 74,
     "metadata": {},
     "output_type": "execute_result"
    },
    {
     "name": "stdout",
     "output_type": "stream",
     "text": [
      "No. of unique values: 3303\n",
      "No.of Null Values: 0\n"
     ]
    },
    {
     "data": {
      "text/plain": [
       "'VAR_1806'"
      ]
     },
     "execution_count": 74,
     "metadata": {},
     "output_type": "execute_result"
    },
    {
     "name": "stdout",
     "output_type": "stream",
     "text": [
      "No. of unique values: 3005\n",
      "No.of Null Values: 0\n"
     ]
    },
    {
     "data": {
      "text/plain": [
       "'VAR_1807'"
      ]
     },
     "execution_count": 74,
     "metadata": {},
     "output_type": "execute_result"
    },
    {
     "name": "stdout",
     "output_type": "stream",
     "text": [
      "No. of unique values: 18100\n",
      "No.of Null Values: 0\n"
     ]
    },
    {
     "data": {
      "text/plain": [
       "'VAR_1808'"
      ]
     },
     "execution_count": 74,
     "metadata": {},
     "output_type": "execute_result"
    },
    {
     "name": "stdout",
     "output_type": "stream",
     "text": [
      "No. of unique values: 4655\n",
      "No.of Null Values: 0\n"
     ]
    },
    {
     "data": {
      "text/plain": [
       "'VAR_1809'"
      ]
     },
     "execution_count": 74,
     "metadata": {},
     "output_type": "execute_result"
    },
    {
     "name": "stdout",
     "output_type": "stream",
     "text": [
      "No. of unique values: 19287\n",
      "No.of Null Values: 0\n"
     ]
    },
    {
     "data": {
      "text/plain": [
       "'VAR_1810'"
      ]
     },
     "execution_count": 74,
     "metadata": {},
     "output_type": "execute_result"
    },
    {
     "name": "stdout",
     "output_type": "stream",
     "text": [
      "No. of unique values: 19143\n",
      "No.of Null Values: 0\n"
     ]
    },
    {
     "data": {
      "text/plain": [
       "'VAR_1811'"
      ]
     },
     "execution_count": 74,
     "metadata": {},
     "output_type": "execute_result"
    },
    {
     "name": "stdout",
     "output_type": "stream",
     "text": [
      "No. of unique values: 713\n",
      "No.of Null Values: 0\n"
     ]
    },
    {
     "data": {
      "text/plain": [
       "'VAR_1812'"
      ]
     },
     "execution_count": 74,
     "metadata": {},
     "output_type": "execute_result"
    },
    {
     "name": "stdout",
     "output_type": "stream",
     "text": [
      "No. of unique values: 768\n",
      "No.of Null Values: 0\n"
     ]
    },
    {
     "data": {
      "text/plain": [
       "'VAR_1813'"
      ]
     },
     "execution_count": 74,
     "metadata": {},
     "output_type": "execute_result"
    },
    {
     "name": "stdout",
     "output_type": "stream",
     "text": [
      "No. of unique values: 1563\n",
      "No.of Null Values: 0\n"
     ]
    },
    {
     "data": {
      "text/plain": [
       "'VAR_1814'"
      ]
     },
     "execution_count": 74,
     "metadata": {},
     "output_type": "execute_result"
    },
    {
     "name": "stdout",
     "output_type": "stream",
     "text": [
      "No. of unique values: 2198\n",
      "No.of Null Values: 0\n"
     ]
    },
    {
     "data": {
      "text/plain": [
       "'VAR_1815'"
      ]
     },
     "execution_count": 74,
     "metadata": {},
     "output_type": "execute_result"
    },
    {
     "name": "stdout",
     "output_type": "stream",
     "text": [
      "No. of unique values: 2244\n",
      "No.of Null Values: 0\n"
     ]
    },
    {
     "data": {
      "text/plain": [
       "'VAR_1816'"
      ]
     },
     "execution_count": 74,
     "metadata": {},
     "output_type": "execute_result"
    },
    {
     "name": "stdout",
     "output_type": "stream",
     "text": [
      "No. of unique values: 9\n",
      "No.of Null Values: 0\n"
     ]
    },
    {
     "data": {
      "text/plain": [
       "'VAR_1817'"
      ]
     },
     "execution_count": 74,
     "metadata": {},
     "output_type": "execute_result"
    },
    {
     "name": "stdout",
     "output_type": "stream",
     "text": [
      "No. of unique values: 8\n",
      "No.of Null Values: 0\n"
     ]
    },
    {
     "data": {
      "text/plain": [
       "'VAR_1818'"
      ]
     },
     "execution_count": 74,
     "metadata": {},
     "output_type": "execute_result"
    },
    {
     "name": "stdout",
     "output_type": "stream",
     "text": [
      "No. of unique values: 10\n",
      "No.of Null Values: 0\n"
     ]
    },
    {
     "data": {
      "text/plain": [
       "'VAR_1819'"
      ]
     },
     "execution_count": 74,
     "metadata": {},
     "output_type": "execute_result"
    },
    {
     "name": "stdout",
     "output_type": "stream",
     "text": [
      "No. of unique values: 10\n",
      "No.of Null Values: 0\n"
     ]
    },
    {
     "data": {
      "text/plain": [
       "'VAR_1820'"
      ]
     },
     "execution_count": 74,
     "metadata": {},
     "output_type": "execute_result"
    },
    {
     "name": "stdout",
     "output_type": "stream",
     "text": [
      "No. of unique values: 10\n",
      "No.of Null Values: 0\n"
     ]
    },
    {
     "data": {
      "text/plain": [
       "'VAR_1821'"
      ]
     },
     "execution_count": 74,
     "metadata": {},
     "output_type": "execute_result"
    },
    {
     "name": "stdout",
     "output_type": "stream",
     "text": [
      "No. of unique values: 10\n",
      "No.of Null Values: 0\n"
     ]
    },
    {
     "data": {
      "text/plain": [
       "'VAR_1822'"
      ]
     },
     "execution_count": 74,
     "metadata": {},
     "output_type": "execute_result"
    },
    {
     "name": "stdout",
     "output_type": "stream",
     "text": [
      "No. of unique values: 10\n",
      "No.of Null Values: 0\n"
     ]
    },
    {
     "data": {
      "text/plain": [
       "'VAR_1823'"
      ]
     },
     "execution_count": 74,
     "metadata": {},
     "output_type": "execute_result"
    },
    {
     "name": "stdout",
     "output_type": "stream",
     "text": [
      "No. of unique values: 299\n",
      "No.of Null Values: 0\n"
     ]
    },
    {
     "data": {
      "text/plain": [
       "'VAR_1824'"
      ]
     },
     "execution_count": 74,
     "metadata": {},
     "output_type": "execute_result"
    },
    {
     "name": "stdout",
     "output_type": "stream",
     "text": [
      "No. of unique values: 300\n",
      "No.of Null Values: 0\n"
     ]
    },
    {
     "data": {
      "text/plain": [
       "'VAR_1825'"
      ]
     },
     "execution_count": 74,
     "metadata": {},
     "output_type": "execute_result"
    },
    {
     "name": "stdout",
     "output_type": "stream",
     "text": [
      "No. of unique values: 102\n",
      "No.of Null Values: 0\n"
     ]
    },
    {
     "data": {
      "text/plain": [
       "'VAR_1826'"
      ]
     },
     "execution_count": 74,
     "metadata": {},
     "output_type": "execute_result"
    },
    {
     "name": "stdout",
     "output_type": "stream",
     "text": [
      "No. of unique values: 100\n",
      "No.of Null Values: 0\n"
     ]
    },
    {
     "data": {
      "text/plain": [
       "'VAR_1827'"
      ]
     },
     "execution_count": 74,
     "metadata": {},
     "output_type": "execute_result"
    },
    {
     "name": "stdout",
     "output_type": "stream",
     "text": [
      "No. of unique values: 99\n",
      "No.of Null Values: 0\n"
     ]
    },
    {
     "data": {
      "text/plain": [
       "'VAR_1828'"
      ]
     },
     "execution_count": 74,
     "metadata": {},
     "output_type": "execute_result"
    },
    {
     "name": "stdout",
     "output_type": "stream",
     "text": [
      "No. of unique values: 101\n",
      "No.of Null Values: 0\n"
     ]
    },
    {
     "data": {
      "text/plain": [
       "'VAR_1829'"
      ]
     },
     "execution_count": 74,
     "metadata": {},
     "output_type": "execute_result"
    },
    {
     "name": "stdout",
     "output_type": "stream",
     "text": [
      "No. of unique values: 101\n",
      "No.of Null Values: 0\n"
     ]
    },
    {
     "data": {
      "text/plain": [
       "'VAR_1830'"
      ]
     },
     "execution_count": 74,
     "metadata": {},
     "output_type": "execute_result"
    },
    {
     "name": "stdout",
     "output_type": "stream",
     "text": [
      "No. of unique values: 101\n",
      "No.of Null Values: 0\n"
     ]
    },
    {
     "data": {
      "text/plain": [
       "'VAR_1831'"
      ]
     },
     "execution_count": 74,
     "metadata": {},
     "output_type": "execute_result"
    },
    {
     "name": "stdout",
     "output_type": "stream",
     "text": [
      "No. of unique values: 99\n",
      "No.of Null Values: 0\n"
     ]
    },
    {
     "data": {
      "text/plain": [
       "'VAR_1832'"
      ]
     },
     "execution_count": 74,
     "metadata": {},
     "output_type": "execute_result"
    },
    {
     "name": "stdout",
     "output_type": "stream",
     "text": [
      "No. of unique values: 92\n",
      "No.of Null Values: 0\n"
     ]
    },
    {
     "data": {
      "text/plain": [
       "'VAR_1833'"
      ]
     },
     "execution_count": 74,
     "metadata": {},
     "output_type": "execute_result"
    },
    {
     "name": "stdout",
     "output_type": "stream",
     "text": [
      "No. of unique values: 99\n",
      "No.of Null Values: 0\n"
     ]
    },
    {
     "data": {
      "text/plain": [
       "'VAR_1834'"
      ]
     },
     "execution_count": 74,
     "metadata": {},
     "output_type": "execute_result"
    },
    {
     "name": "stdout",
     "output_type": "stream",
     "text": [
      "No. of unique values: 98\n",
      "No.of Null Values: 0\n"
     ]
    },
    {
     "data": {
      "text/plain": [
       "'VAR_1835'"
      ]
     },
     "execution_count": 74,
     "metadata": {},
     "output_type": "execute_result"
    },
    {
     "name": "stdout",
     "output_type": "stream",
     "text": [
      "No. of unique values: 339\n",
      "No.of Null Values: 0\n"
     ]
    },
    {
     "data": {
      "text/plain": [
       "'VAR_1836'"
      ]
     },
     "execution_count": 74,
     "metadata": {},
     "output_type": "execute_result"
    },
    {
     "name": "stdout",
     "output_type": "stream",
     "text": [
      "No. of unique values: 86\n",
      "No.of Null Values: 0\n"
     ]
    },
    {
     "data": {
      "text/plain": [
       "'VAR_1837'"
      ]
     },
     "execution_count": 74,
     "metadata": {},
     "output_type": "execute_result"
    },
    {
     "name": "stdout",
     "output_type": "stream",
     "text": [
      "No. of unique values: 86\n",
      "No.of Null Values: 0\n"
     ]
    },
    {
     "data": {
      "text/plain": [
       "'VAR_1838'"
      ]
     },
     "execution_count": 74,
     "metadata": {},
     "output_type": "execute_result"
    },
    {
     "name": "stdout",
     "output_type": "stream",
     "text": [
      "No. of unique values: 86\n",
      "No.of Null Values: 0\n"
     ]
    },
    {
     "data": {
      "text/plain": [
       "'VAR_1839'"
      ]
     },
     "execution_count": 74,
     "metadata": {},
     "output_type": "execute_result"
    },
    {
     "name": "stdout",
     "output_type": "stream",
     "text": [
      "No. of unique values: 85\n",
      "No.of Null Values: 0\n"
     ]
    },
    {
     "data": {
      "text/plain": [
       "'VAR_1840'"
      ]
     },
     "execution_count": 74,
     "metadata": {},
     "output_type": "execute_result"
    },
    {
     "name": "stdout",
     "output_type": "stream",
     "text": [
      "No. of unique values: 87\n",
      "No.of Null Values: 0\n"
     ]
    },
    {
     "data": {
      "text/plain": [
       "'VAR_1841'"
      ]
     },
     "execution_count": 74,
     "metadata": {},
     "output_type": "execute_result"
    },
    {
     "name": "stdout",
     "output_type": "stream",
     "text": [
      "No. of unique values: 650\n",
      "No.of Null Values: 0\n"
     ]
    },
    {
     "data": {
      "text/plain": [
       "'VAR_1842'"
      ]
     },
     "execution_count": 74,
     "metadata": {},
     "output_type": "execute_result"
    },
    {
     "name": "stdout",
     "output_type": "stream",
     "text": [
      "No. of unique values: 369\n",
      "No.of Null Values: 0\n"
     ]
    },
    {
     "data": {
      "text/plain": [
       "'VAR_1843'"
      ]
     },
     "execution_count": 74,
     "metadata": {},
     "output_type": "execute_result"
    },
    {
     "name": "stdout",
     "output_type": "stream",
     "text": [
      "No. of unique values: 6\n",
      "No.of Null Values: 0\n"
     ]
    },
    {
     "data": {
      "text/plain": [
       "'VAR_1844'"
      ]
     },
     "execution_count": 74,
     "metadata": {},
     "output_type": "execute_result"
    },
    {
     "name": "stdout",
     "output_type": "stream",
     "text": [
      "No. of unique values: 5\n",
      "No.of Null Values: 0\n"
     ]
    },
    {
     "data": {
      "text/plain": [
       "'VAR_1845'"
      ]
     },
     "execution_count": 74,
     "metadata": {},
     "output_type": "execute_result"
    },
    {
     "name": "stdout",
     "output_type": "stream",
     "text": [
      "No. of unique values: 197\n",
      "No.of Null Values: 0\n"
     ]
    },
    {
     "data": {
      "text/plain": [
       "'VAR_1846'"
      ]
     },
     "execution_count": 74,
     "metadata": {},
     "output_type": "execute_result"
    },
    {
     "name": "stdout",
     "output_type": "stream",
     "text": [
      "No. of unique values: 150\n",
      "No.of Null Values: 0\n"
     ]
    },
    {
     "data": {
      "text/plain": [
       "'VAR_1847'"
      ]
     },
     "execution_count": 74,
     "metadata": {},
     "output_type": "execute_result"
    },
    {
     "name": "stdout",
     "output_type": "stream",
     "text": [
      "No. of unique values: 141\n",
      "No.of Null Values: 0\n"
     ]
    },
    {
     "data": {
      "text/plain": [
       "'VAR_1848'"
      ]
     },
     "execution_count": 74,
     "metadata": {},
     "output_type": "execute_result"
    },
    {
     "name": "stdout",
     "output_type": "stream",
     "text": [
      "No. of unique values: 5\n",
      "No.of Null Values: 0\n"
     ]
    },
    {
     "data": {
      "text/plain": [
       "'VAR_1849'"
      ]
     },
     "execution_count": 74,
     "metadata": {},
     "output_type": "execute_result"
    },
    {
     "name": "stdout",
     "output_type": "stream",
     "text": [
      "No. of unique values: 4\n",
      "No.of Null Values: 0\n"
     ]
    },
    {
     "data": {
      "text/plain": [
       "'VAR_1850'"
      ]
     },
     "execution_count": 74,
     "metadata": {},
     "output_type": "execute_result"
    },
    {
     "name": "stdout",
     "output_type": "stream",
     "text": [
      "No. of unique values: 21\n",
      "No.of Null Values: 0\n"
     ]
    },
    {
     "data": {
      "text/plain": [
       "'VAR_1851'"
      ]
     },
     "execution_count": 74,
     "metadata": {},
     "output_type": "execute_result"
    },
    {
     "name": "stdout",
     "output_type": "stream",
     "text": [
      "No. of unique values: 105\n",
      "No.of Null Values: 0\n"
     ]
    },
    {
     "data": {
      "text/plain": [
       "'VAR_1852'"
      ]
     },
     "execution_count": 74,
     "metadata": {},
     "output_type": "execute_result"
    },
    {
     "name": "stdout",
     "output_type": "stream",
     "text": [
      "No. of unique values: 138\n",
      "No.of Null Values: 0\n"
     ]
    },
    {
     "data": {
      "text/plain": [
       "'VAR_1853'"
      ]
     },
     "execution_count": 74,
     "metadata": {},
     "output_type": "execute_result"
    },
    {
     "name": "stdout",
     "output_type": "stream",
     "text": [
      "No. of unique values: 53\n",
      "No.of Null Values: 0\n"
     ]
    },
    {
     "data": {
      "text/plain": [
       "'VAR_1854'"
      ]
     },
     "execution_count": 74,
     "metadata": {},
     "output_type": "execute_result"
    },
    {
     "name": "stdout",
     "output_type": "stream",
     "text": [
      "No. of unique values: 33\n",
      "No.of Null Values: 0\n"
     ]
    },
    {
     "data": {
      "text/plain": [
       "'VAR_1855'"
      ]
     },
     "execution_count": 74,
     "metadata": {},
     "output_type": "execute_result"
    },
    {
     "name": "stdout",
     "output_type": "stream",
     "text": [
      "No. of unique values: 15\n",
      "No.of Null Values: 0\n"
     ]
    },
    {
     "data": {
      "text/plain": [
       "'VAR_1856'"
      ]
     },
     "execution_count": 74,
     "metadata": {},
     "output_type": "execute_result"
    },
    {
     "name": "stdout",
     "output_type": "stream",
     "text": [
      "No. of unique values: 53\n",
      "No.of Null Values: 0\n"
     ]
    },
    {
     "data": {
      "text/plain": [
       "'VAR_1857'"
      ]
     },
     "execution_count": 74,
     "metadata": {},
     "output_type": "execute_result"
    },
    {
     "name": "stdout",
     "output_type": "stream",
     "text": [
      "No. of unique values: 23\n",
      "No.of Null Values: 0\n"
     ]
    },
    {
     "data": {
      "text/plain": [
       "'VAR_1858'"
      ]
     },
     "execution_count": 74,
     "metadata": {},
     "output_type": "execute_result"
    },
    {
     "name": "stdout",
     "output_type": "stream",
     "text": [
      "No. of unique values: 64\n",
      "No.of Null Values: 0\n"
     ]
    },
    {
     "data": {
      "text/plain": [
       "'VAR_1859'"
      ]
     },
     "execution_count": 74,
     "metadata": {},
     "output_type": "execute_result"
    },
    {
     "name": "stdout",
     "output_type": "stream",
     "text": [
      "No. of unique values: 10717\n",
      "No.of Null Values: 0\n"
     ]
    },
    {
     "data": {
      "text/plain": [
       "'VAR_1860'"
      ]
     },
     "execution_count": 74,
     "metadata": {},
     "output_type": "execute_result"
    },
    {
     "name": "stdout",
     "output_type": "stream",
     "text": [
      "No. of unique values: 11319\n",
      "No.of Null Values: 0\n"
     ]
    },
    {
     "data": {
      "text/plain": [
       "'VAR_1861'"
      ]
     },
     "execution_count": 74,
     "metadata": {},
     "output_type": "execute_result"
    },
    {
     "name": "stdout",
     "output_type": "stream",
     "text": [
      "No. of unique values: 899\n",
      "No.of Null Values: 0\n"
     ]
    },
    {
     "data": {
      "text/plain": [
       "'VAR_1862'"
      ]
     },
     "execution_count": 74,
     "metadata": {},
     "output_type": "execute_result"
    },
    {
     "name": "stdout",
     "output_type": "stream",
     "text": [
      "No. of unique values: 9\n",
      "No.of Null Values: 0\n"
     ]
    },
    {
     "data": {
      "text/plain": [
       "'VAR_1863'"
      ]
     },
     "execution_count": 74,
     "metadata": {},
     "output_type": "execute_result"
    },
    {
     "name": "stdout",
     "output_type": "stream",
     "text": [
      "No. of unique values: 10\n",
      "No.of Null Values: 0\n"
     ]
    },
    {
     "data": {
      "text/plain": [
       "'VAR_1864'"
      ]
     },
     "execution_count": 74,
     "metadata": {},
     "output_type": "execute_result"
    },
    {
     "name": "stdout",
     "output_type": "stream",
     "text": [
      "No. of unique values: 86\n",
      "No.of Null Values: 0\n"
     ]
    },
    {
     "data": {
      "text/plain": [
       "'VAR_1865'"
      ]
     },
     "execution_count": 74,
     "metadata": {},
     "output_type": "execute_result"
    },
    {
     "name": "stdout",
     "output_type": "stream",
     "text": [
      "No. of unique values: 478\n",
      "No.of Null Values: 0\n"
     ]
    },
    {
     "data": {
      "text/plain": [
       "'VAR_1866'"
      ]
     },
     "execution_count": 74,
     "metadata": {},
     "output_type": "execute_result"
    },
    {
     "name": "stdout",
     "output_type": "stream",
     "text": [
      "No. of unique values: 34\n",
      "No.of Null Values: 0\n"
     ]
    },
    {
     "data": {
      "text/plain": [
       "'VAR_1867'"
      ]
     },
     "execution_count": 74,
     "metadata": {},
     "output_type": "execute_result"
    },
    {
     "name": "stdout",
     "output_type": "stream",
     "text": [
      "No. of unique values: 7\n",
      "No.of Null Values: 0\n"
     ]
    },
    {
     "data": {
      "text/plain": [
       "'VAR_1868'"
      ]
     },
     "execution_count": 74,
     "metadata": {},
     "output_type": "execute_result"
    },
    {
     "name": "stdout",
     "output_type": "stream",
     "text": [
      "No. of unique values: 35\n",
      "No.of Null Values: 0\n"
     ]
    },
    {
     "data": {
      "text/plain": [
       "'VAR_1869'"
      ]
     },
     "execution_count": 74,
     "metadata": {},
     "output_type": "execute_result"
    },
    {
     "name": "stdout",
     "output_type": "stream",
     "text": [
      "No. of unique values: 3403\n",
      "No.of Null Values: 0\n"
     ]
    },
    {
     "data": {
      "text/plain": [
       "'VAR_1870'"
      ]
     },
     "execution_count": 74,
     "metadata": {},
     "output_type": "execute_result"
    },
    {
     "name": "stdout",
     "output_type": "stream",
     "text": [
      "No. of unique values: 3750\n",
      "No.of Null Values: 0\n"
     ]
    },
    {
     "data": {
      "text/plain": [
       "'VAR_1871'"
      ]
     },
     "execution_count": 74,
     "metadata": {},
     "output_type": "execute_result"
    },
    {
     "name": "stdout",
     "output_type": "stream",
     "text": [
      "No. of unique values: 493\n",
      "No.of Null Values: 0\n"
     ]
    },
    {
     "data": {
      "text/plain": [
       "'VAR_1872'"
      ]
     },
     "execution_count": 74,
     "metadata": {},
     "output_type": "execute_result"
    },
    {
     "name": "stdout",
     "output_type": "stream",
     "text": [
      "No. of unique values: 52\n",
      "No.of Null Values: 0\n"
     ]
    },
    {
     "data": {
      "text/plain": [
       "'VAR_1873'"
      ]
     },
     "execution_count": 74,
     "metadata": {},
     "output_type": "execute_result"
    },
    {
     "name": "stdout",
     "output_type": "stream",
     "text": [
      "No. of unique values: 33\n",
      "No.of Null Values: 0\n"
     ]
    },
    {
     "data": {
      "text/plain": [
       "'VAR_1874'"
      ]
     },
     "execution_count": 74,
     "metadata": {},
     "output_type": "execute_result"
    },
    {
     "name": "stdout",
     "output_type": "stream",
     "text": [
      "No. of unique values: 15\n",
      "No.of Null Values: 0\n"
     ]
    },
    {
     "data": {
      "text/plain": [
       "'VAR_1875'"
      ]
     },
     "execution_count": 74,
     "metadata": {},
     "output_type": "execute_result"
    },
    {
     "name": "stdout",
     "output_type": "stream",
     "text": [
      "No. of unique values: 20\n",
      "No.of Null Values: 0\n"
     ]
    },
    {
     "data": {
      "text/plain": [
       "'VAR_1876'"
      ]
     },
     "execution_count": 74,
     "metadata": {},
     "output_type": "execute_result"
    },
    {
     "name": "stdout",
     "output_type": "stream",
     "text": [
      "No. of unique values: 23\n",
      "No.of Null Values: 0\n"
     ]
    },
    {
     "data": {
      "text/plain": [
       "'VAR_1877'"
      ]
     },
     "execution_count": 74,
     "metadata": {},
     "output_type": "execute_result"
    },
    {
     "name": "stdout",
     "output_type": "stream",
     "text": [
      "No. of unique values: 50\n",
      "No.of Null Values: 0\n"
     ]
    },
    {
     "data": {
      "text/plain": [
       "'VAR_1878'"
      ]
     },
     "execution_count": 74,
     "metadata": {},
     "output_type": "execute_result"
    },
    {
     "name": "stdout",
     "output_type": "stream",
     "text": [
      "No. of unique values: 37\n",
      "No.of Null Values: 0\n"
     ]
    },
    {
     "data": {
      "text/plain": [
       "'VAR_1879'"
      ]
     },
     "execution_count": 74,
     "metadata": {},
     "output_type": "execute_result"
    },
    {
     "name": "stdout",
     "output_type": "stream",
     "text": [
      "No. of unique values: 24\n",
      "No.of Null Values: 0\n"
     ]
    },
    {
     "data": {
      "text/plain": [
       "'VAR_1880'"
      ]
     },
     "execution_count": 74,
     "metadata": {},
     "output_type": "execute_result"
    },
    {
     "name": "stdout",
     "output_type": "stream",
     "text": [
      "No. of unique values: 22\n",
      "No.of Null Values: 0\n"
     ]
    },
    {
     "data": {
      "text/plain": [
       "'VAR_1881'"
      ]
     },
     "execution_count": 74,
     "metadata": {},
     "output_type": "execute_result"
    },
    {
     "name": "stdout",
     "output_type": "stream",
     "text": [
      "No. of unique values: 22\n",
      "No.of Null Values: 0\n"
     ]
    },
    {
     "data": {
      "text/plain": [
       "'VAR_1882'"
      ]
     },
     "execution_count": 74,
     "metadata": {},
     "output_type": "execute_result"
    },
    {
     "name": "stdout",
     "output_type": "stream",
     "text": [
      "No. of unique values: 24\n",
      "No.of Null Values: 0\n"
     ]
    },
    {
     "data": {
      "text/plain": [
       "'VAR_1883'"
      ]
     },
     "execution_count": 74,
     "metadata": {},
     "output_type": "execute_result"
    },
    {
     "name": "stdout",
     "output_type": "stream",
     "text": [
      "No. of unique values: 23\n",
      "No.of Null Values: 0\n"
     ]
    },
    {
     "data": {
      "text/plain": [
       "'VAR_1884'"
      ]
     },
     "execution_count": 74,
     "metadata": {},
     "output_type": "execute_result"
    },
    {
     "name": "stdout",
     "output_type": "stream",
     "text": [
      "No. of unique values: 23\n",
      "No.of Null Values: 0\n"
     ]
    },
    {
     "data": {
      "text/plain": [
       "'VAR_1885'"
      ]
     },
     "execution_count": 74,
     "metadata": {},
     "output_type": "execute_result"
    },
    {
     "name": "stdout",
     "output_type": "stream",
     "text": [
      "No. of unique values: 8\n",
      "No.of Null Values: 0\n"
     ]
    },
    {
     "data": {
      "text/plain": [
       "'VAR_1886'"
      ]
     },
     "execution_count": 74,
     "metadata": {},
     "output_type": "execute_result"
    },
    {
     "name": "stdout",
     "output_type": "stream",
     "text": [
      "No. of unique values: 22\n",
      "No.of Null Values: 0\n"
     ]
    },
    {
     "data": {
      "text/plain": [
       "'VAR_1887'"
      ]
     },
     "execution_count": 74,
     "metadata": {},
     "output_type": "execute_result"
    },
    {
     "name": "stdout",
     "output_type": "stream",
     "text": [
      "No. of unique values: 30\n",
      "No.of Null Values: 0\n"
     ]
    },
    {
     "data": {
      "text/plain": [
       "'VAR_1888'"
      ]
     },
     "execution_count": 74,
     "metadata": {},
     "output_type": "execute_result"
    },
    {
     "name": "stdout",
     "output_type": "stream",
     "text": [
      "No. of unique values: 14\n",
      "No.of Null Values: 0\n"
     ]
    },
    {
     "data": {
      "text/plain": [
       "'VAR_1889'"
      ]
     },
     "execution_count": 74,
     "metadata": {},
     "output_type": "execute_result"
    },
    {
     "name": "stdout",
     "output_type": "stream",
     "text": [
      "No. of unique values: 10334\n",
      "No.of Null Values: 0\n"
     ]
    },
    {
     "data": {
      "text/plain": [
       "'VAR_1890'"
      ]
     },
     "execution_count": 74,
     "metadata": {},
     "output_type": "execute_result"
    },
    {
     "name": "stdout",
     "output_type": "stream",
     "text": [
      "No. of unique values: 9479\n",
      "No.of Null Values: 0\n"
     ]
    },
    {
     "data": {
      "text/plain": [
       "'VAR_1891'"
      ]
     },
     "execution_count": 74,
     "metadata": {},
     "output_type": "execute_result"
    },
    {
     "name": "stdout",
     "output_type": "stream",
     "text": [
      "No. of unique values: 2892\n",
      "No.of Null Values: 0\n"
     ]
    },
    {
     "data": {
      "text/plain": [
       "'VAR_1892'"
      ]
     },
     "execution_count": 74,
     "metadata": {},
     "output_type": "execute_result"
    },
    {
     "name": "stdout",
     "output_type": "stream",
     "text": [
      "No. of unique values: 4856\n",
      "No.of Null Values: 0\n"
     ]
    },
    {
     "data": {
      "text/plain": [
       "'VAR_1893'"
      ]
     },
     "execution_count": 74,
     "metadata": {},
     "output_type": "execute_result"
    },
    {
     "name": "stdout",
     "output_type": "stream",
     "text": [
      "No. of unique values: 12764\n",
      "No.of Null Values: 0\n"
     ]
    },
    {
     "data": {
      "text/plain": [
       "'VAR_1894'"
      ]
     },
     "execution_count": 74,
     "metadata": {},
     "output_type": "execute_result"
    },
    {
     "name": "stdout",
     "output_type": "stream",
     "text": [
      "No. of unique values: 12756\n",
      "No.of Null Values: 0\n"
     ]
    },
    {
     "data": {
      "text/plain": [
       "'VAR_1895'"
      ]
     },
     "execution_count": 74,
     "metadata": {},
     "output_type": "execute_result"
    },
    {
     "name": "stdout",
     "output_type": "stream",
     "text": [
      "No. of unique values: 871\n",
      "No.of Null Values: 0\n"
     ]
    },
    {
     "data": {
      "text/plain": [
       "'VAR_1896'"
      ]
     },
     "execution_count": 74,
     "metadata": {},
     "output_type": "execute_result"
    },
    {
     "name": "stdout",
     "output_type": "stream",
     "text": [
      "No. of unique values: 9\n",
      "No.of Null Values: 0\n"
     ]
    },
    {
     "data": {
      "text/plain": [
       "'VAR_1897'"
      ]
     },
     "execution_count": 74,
     "metadata": {},
     "output_type": "execute_result"
    },
    {
     "name": "stdout",
     "output_type": "stream",
     "text": [
      "No. of unique values: 10\n",
      "No.of Null Values: 0\n"
     ]
    },
    {
     "data": {
      "text/plain": [
       "'VAR_1898'"
      ]
     },
     "execution_count": 74,
     "metadata": {},
     "output_type": "execute_result"
    },
    {
     "name": "stdout",
     "output_type": "stream",
     "text": [
      "No. of unique values: 350\n",
      "No.of Null Values: 0\n"
     ]
    },
    {
     "data": {
      "text/plain": [
       "'VAR_1899'"
      ]
     },
     "execution_count": 74,
     "metadata": {},
     "output_type": "execute_result"
    },
    {
     "name": "stdout",
     "output_type": "stream",
     "text": [
      "No. of unique values: 354\n",
      "No.of Null Values: 0\n"
     ]
    },
    {
     "data": {
      "text/plain": [
       "'VAR_1900'"
      ]
     },
     "execution_count": 74,
     "metadata": {},
     "output_type": "execute_result"
    },
    {
     "name": "stdout",
     "output_type": "stream",
     "text": [
      "No. of unique values: 475\n",
      "No.of Null Values: 0\n"
     ]
    },
    {
     "data": {
      "text/plain": [
       "'VAR_1901'"
      ]
     },
     "execution_count": 74,
     "metadata": {},
     "output_type": "execute_result"
    },
    {
     "name": "stdout",
     "output_type": "stream",
     "text": [
      "No. of unique values: 634\n",
      "No.of Null Values: 0\n"
     ]
    },
    {
     "data": {
      "text/plain": [
       "'VAR_1902'"
      ]
     },
     "execution_count": 74,
     "metadata": {},
     "output_type": "execute_result"
    },
    {
     "name": "stdout",
     "output_type": "stream",
     "text": [
      "No. of unique values: 488\n",
      "No.of Null Values: 0\n"
     ]
    },
    {
     "data": {
      "text/plain": [
       "'VAR_1903'"
      ]
     },
     "execution_count": 74,
     "metadata": {},
     "output_type": "execute_result"
    },
    {
     "name": "stdout",
     "output_type": "stream",
     "text": [
      "No. of unique values: 45\n",
      "No.of Null Values: 0\n"
     ]
    },
    {
     "data": {
      "text/plain": [
       "'VAR_1904'"
      ]
     },
     "execution_count": 74,
     "metadata": {},
     "output_type": "execute_result"
    },
    {
     "name": "stdout",
     "output_type": "stream",
     "text": [
      "No. of unique values: 36\n",
      "No.of Null Values: 0\n"
     ]
    },
    {
     "data": {
      "text/plain": [
       "'VAR_1905'"
      ]
     },
     "execution_count": 74,
     "metadata": {},
     "output_type": "execute_result"
    },
    {
     "name": "stdout",
     "output_type": "stream",
     "text": [
      "No. of unique values: 10\n",
      "No.of Null Values: 0\n"
     ]
    },
    {
     "data": {
      "text/plain": [
       "'VAR_1906'"
      ]
     },
     "execution_count": 74,
     "metadata": {},
     "output_type": "execute_result"
    },
    {
     "name": "stdout",
     "output_type": "stream",
     "text": [
      "No. of unique values: 72\n",
      "No.of Null Values: 0\n"
     ]
    },
    {
     "data": {
      "text/plain": [
       "'VAR_1907'"
      ]
     },
     "execution_count": 74,
     "metadata": {},
     "output_type": "execute_result"
    },
    {
     "name": "stdout",
     "output_type": "stream",
     "text": [
      "No. of unique values: 41\n",
      "No.of Null Values: 0\n"
     ]
    },
    {
     "data": {
      "text/plain": [
       "'VAR_1908'"
      ]
     },
     "execution_count": 74,
     "metadata": {},
     "output_type": "execute_result"
    },
    {
     "name": "stdout",
     "output_type": "stream",
     "text": [
      "No. of unique values: 37\n",
      "No.of Null Values: 0\n"
     ]
    },
    {
     "data": {
      "text/plain": [
       "'VAR_1909'"
      ]
     },
     "execution_count": 74,
     "metadata": {},
     "output_type": "execute_result"
    },
    {
     "name": "stdout",
     "output_type": "stream",
     "text": [
      "No. of unique values: 41\n",
      "No.of Null Values: 0\n"
     ]
    },
    {
     "data": {
      "text/plain": [
       "'VAR_1910'"
      ]
     },
     "execution_count": 74,
     "metadata": {},
     "output_type": "execute_result"
    },
    {
     "name": "stdout",
     "output_type": "stream",
     "text": [
      "No. of unique values: 37\n",
      "No.of Null Values: 0\n"
     ]
    },
    {
     "data": {
      "text/plain": [
       "'VAR_1911'"
      ]
     },
     "execution_count": 74,
     "metadata": {},
     "output_type": "execute_result"
    },
    {
     "name": "stdout",
     "output_type": "stream",
     "text": [
      "No. of unique values: 107\n",
      "No.of Null Values: 0\n"
     ]
    },
    {
     "data": {
      "text/plain": [
       "'VAR_1912'"
      ]
     },
     "execution_count": 74,
     "metadata": {},
     "output_type": "execute_result"
    },
    {
     "name": "stdout",
     "output_type": "stream",
     "text": [
      "No. of unique values: 16370\n",
      "No.of Null Values: 0\n"
     ]
    },
    {
     "data": {
      "text/plain": [
       "'VAR_1913'"
      ]
     },
     "execution_count": 74,
     "metadata": {},
     "output_type": "execute_result"
    },
    {
     "name": "stdout",
     "output_type": "stream",
     "text": [
      "No. of unique values: 25426\n",
      "No.of Null Values: 0\n"
     ]
    },
    {
     "data": {
      "text/plain": [
       "'VAR_1914'"
      ]
     },
     "execution_count": 74,
     "metadata": {},
     "output_type": "execute_result"
    },
    {
     "name": "stdout",
     "output_type": "stream",
     "text": [
      "No. of unique values: 14226\n",
      "No.of Null Values: 0\n"
     ]
    },
    {
     "data": {
      "text/plain": [
       "'VAR_1915'"
      ]
     },
     "execution_count": 74,
     "metadata": {},
     "output_type": "execute_result"
    },
    {
     "name": "stdout",
     "output_type": "stream",
     "text": [
      "No. of unique values: 1148\n",
      "No.of Null Values: 0\n"
     ]
    },
    {
     "data": {
      "text/plain": [
       "'VAR_1916'"
      ]
     },
     "execution_count": 74,
     "metadata": {},
     "output_type": "execute_result"
    },
    {
     "name": "stdout",
     "output_type": "stream",
     "text": [
      "No. of unique values: 8\n",
      "No.of Null Values: 0\n"
     ]
    },
    {
     "data": {
      "text/plain": [
       "'VAR_1917'"
      ]
     },
     "execution_count": 74,
     "metadata": {},
     "output_type": "execute_result"
    },
    {
     "name": "stdout",
     "output_type": "stream",
     "text": [
      "No. of unique values: 10\n",
      "No.of Null Values: 0\n"
     ]
    },
    {
     "data": {
      "text/plain": [
       "'VAR_1918'"
      ]
     },
     "execution_count": 74,
     "metadata": {},
     "output_type": "execute_result"
    },
    {
     "name": "stdout",
     "output_type": "stream",
     "text": [
      "No. of unique values: 86\n",
      "No.of Null Values: 0\n"
     ]
    },
    {
     "data": {
      "text/plain": [
       "'VAR_1919'"
      ]
     },
     "execution_count": 74,
     "metadata": {},
     "output_type": "execute_result"
    },
    {
     "name": "stdout",
     "output_type": "stream",
     "text": [
      "No. of unique values: 383\n",
      "No.of Null Values: 0\n"
     ]
    },
    {
     "data": {
      "text/plain": [
       "'VAR_1920'"
      ]
     },
     "execution_count": 74,
     "metadata": {},
     "output_type": "execute_result"
    },
    {
     "name": "stdout",
     "output_type": "stream",
     "text": [
      "No. of unique values: 22\n",
      "No.of Null Values: 0\n"
     ]
    },
    {
     "data": {
      "text/plain": [
       "'VAR_1921'"
      ]
     },
     "execution_count": 74,
     "metadata": {},
     "output_type": "execute_result"
    },
    {
     "name": "stdout",
     "output_type": "stream",
     "text": [
      "No. of unique values: 18\n",
      "No.of Null Values: 0\n"
     ]
    },
    {
     "data": {
      "text/plain": [
       "'VAR_1922'"
      ]
     },
     "execution_count": 74,
     "metadata": {},
     "output_type": "execute_result"
    },
    {
     "name": "stdout",
     "output_type": "stream",
     "text": [
      "No. of unique values: 6798\n",
      "No.of Null Values: 0\n"
     ]
    },
    {
     "data": {
      "text/plain": [
       "'VAR_1923'"
      ]
     },
     "execution_count": 74,
     "metadata": {},
     "output_type": "execute_result"
    },
    {
     "name": "stdout",
     "output_type": "stream",
     "text": [
      "No. of unique values: 2445\n",
      "No.of Null Values: 0\n"
     ]
    },
    {
     "data": {
      "text/plain": [
       "'VAR_1924'"
      ]
     },
     "execution_count": 74,
     "metadata": {},
     "output_type": "execute_result"
    },
    {
     "name": "stdout",
     "output_type": "stream",
     "text": [
      "No. of unique values: 573\n",
      "No.of Null Values: 0\n"
     ]
    },
    {
     "data": {
      "text/plain": [
       "'VAR_1925'"
      ]
     },
     "execution_count": 74,
     "metadata": {},
     "output_type": "execute_result"
    },
    {
     "name": "stdout",
     "output_type": "stream",
     "text": [
      "No. of unique values: 11\n",
      "No.of Null Values: 0\n"
     ]
    },
    {
     "data": {
      "text/plain": [
       "'VAR_1926'"
      ]
     },
     "execution_count": 74,
     "metadata": {},
     "output_type": "execute_result"
    },
    {
     "name": "stdout",
     "output_type": "stream",
     "text": [
      "No. of unique values: 6\n",
      "No.of Null Values: 0\n"
     ]
    },
    {
     "data": {
      "text/plain": [
       "'VAR_1927'"
      ]
     },
     "execution_count": 74,
     "metadata": {},
     "output_type": "execute_result"
    },
    {
     "name": "stdout",
     "output_type": "stream",
     "text": [
      "No. of unique values: 10\n",
      "No.of Null Values: 0\n"
     ]
    },
    {
     "data": {
      "text/plain": [
       "'VAR_1928'"
      ]
     },
     "execution_count": 74,
     "metadata": {},
     "output_type": "execute_result"
    },
    {
     "name": "stdout",
     "output_type": "stream",
     "text": [
      "No. of unique values: 30\n",
      "No.of Null Values: 0\n"
     ]
    },
    {
     "data": {
      "text/plain": [
       "'VAR_1929'"
      ]
     },
     "execution_count": 74,
     "metadata": {},
     "output_type": "execute_result"
    },
    {
     "name": "stdout",
     "output_type": "stream",
     "text": [
      "No. of unique values: 591\n",
      "No.of Null Values: 0\n"
     ]
    },
    {
     "data": {
      "text/plain": [
       "'VAR_1930'"
      ]
     },
     "execution_count": 74,
     "metadata": {},
     "output_type": "execute_result"
    },
    {
     "name": "stdout",
     "output_type": "stream",
     "text": [
      "No. of unique values: 8\n",
      "No.of Null Values: 0\n"
     ]
    },
    {
     "data": {
      "text/plain": [
       "'VAR_1931'"
      ]
     },
     "execution_count": 74,
     "metadata": {},
     "output_type": "execute_result"
    },
    {
     "name": "stdout",
     "output_type": "stream",
     "text": [
      "No. of unique values: 10\n",
      "No.of Null Values: 0\n"
     ]
    },
    {
     "data": {
      "text/plain": [
       "'VAR_1932'"
      ]
     },
     "execution_count": 74,
     "metadata": {},
     "output_type": "execute_result"
    },
    {
     "name": "stdout",
     "output_type": "stream",
     "text": [
      "No. of unique values: 74\n",
      "No.of Null Values: 0\n"
     ]
    },
    {
     "data": {
      "text/plain": [
       "'VAR_1933'"
      ]
     },
     "execution_count": 74,
     "metadata": {},
     "output_type": "execute_result"
    },
    {
     "name": "stdout",
     "output_type": "stream",
     "text": [
      "No. of unique values: 363\n",
      "No.of Null Values: 0\n"
     ]
    },
    {
     "data": {
      "text/plain": [
       "'VAR_1934'"
      ]
     },
     "execution_count": 74,
     "metadata": {},
     "output_type": "execute_result"
    },
    {
     "name": "stdout",
     "output_type": "stream",
     "text": [
      "No. of unique values: 5\n",
      "No.of Null Values: 0\n"
     ]
    },
    {
     "data": {
      "text/plain": [
       "'target'"
      ]
     },
     "execution_count": 74,
     "metadata": {},
     "output_type": "execute_result"
    },
    {
     "name": "stdout",
     "output_type": "stream",
     "text": [
      "No. of unique values: 2\n",
      "No.of Null Values: 0\n"
     ]
    }
   ],
   "source": [
    "for column in df_traincp:\n",
    "    column\n",
    "    print(\"No. of unique values:\", df_traincp[column].nunique())\n",
    "    print(\"No.of Null Values:\", df_traincp[column].isnull().sum())\n",
    "    \n",
    "    if df_traincp[column].nunique()==1:\n",
    "        df_traincp.drop(column, axis='columns', inplace=True)\n",
    "    elif df_traincp[column].isnull().sum()/len(df_traincp[column])>=0.6:\n",
    "        df_traincp.drop(column, axis='columns', inplace=True)"
   ]
  },
  {
   "cell_type": "code",
   "execution_count": 15,
   "metadata": {},
   "outputs": [
    {
     "data": {
      "text/plain": [
       "(145231, 1856)"
      ]
     },
     "execution_count": 15,
     "metadata": {},
     "output_type": "execute_result"
    },
    {
     "data": {
      "text/html": [
       "<div>\n",
       "<style scoped>\n",
       "    .dataframe tbody tr th:only-of-type {\n",
       "        vertical-align: middle;\n",
       "    }\n",
       "\n",
       "    .dataframe tbody tr th {\n",
       "        vertical-align: top;\n",
       "    }\n",
       "\n",
       "    .dataframe thead th {\n",
       "        text-align: right;\n",
       "    }\n",
       "</style>\n",
       "<table border=\"1\" class=\"dataframe\">\n",
       "  <thead>\n",
       "    <tr style=\"text-align: right;\">\n",
       "      <th></th>\n",
       "      <th>VAR_0001</th>\n",
       "      <th>VAR_0002</th>\n",
       "      <th>VAR_0003</th>\n",
       "      <th>VAR_0004</th>\n",
       "      <th>VAR_0005</th>\n",
       "      <th>VAR_0006</th>\n",
       "      <th>VAR_0007</th>\n",
       "      <th>VAR_0013</th>\n",
       "      <th>VAR_0014</th>\n",
       "      <th>VAR_0015</th>\n",
       "      <th>...</th>\n",
       "      <th>VAR_1926</th>\n",
       "      <th>VAR_1927</th>\n",
       "      <th>VAR_1928</th>\n",
       "      <th>VAR_1929</th>\n",
       "      <th>VAR_1930</th>\n",
       "      <th>VAR_1931</th>\n",
       "      <th>VAR_1932</th>\n",
       "      <th>VAR_1933</th>\n",
       "      <th>VAR_1934</th>\n",
       "      <th>target</th>\n",
       "    </tr>\n",
       "  </thead>\n",
       "  <tbody>\n",
       "    <tr>\n",
       "      <th>0</th>\n",
       "      <td>H</td>\n",
       "      <td>224</td>\n",
       "      <td>0</td>\n",
       "      <td>4300</td>\n",
       "      <td>C</td>\n",
       "      <td>0.0</td>\n",
       "      <td>0.0</td>\n",
       "      <td>0.0</td>\n",
       "      <td>0.0</td>\n",
       "      <td>0.0</td>\n",
       "      <td>...</td>\n",
       "      <td>98</td>\n",
       "      <td>98</td>\n",
       "      <td>998</td>\n",
       "      <td>51710</td>\n",
       "      <td>998</td>\n",
       "      <td>998</td>\n",
       "      <td>9998</td>\n",
       "      <td>9998</td>\n",
       "      <td>IAPS</td>\n",
       "      <td>0</td>\n",
       "    </tr>\n",
       "    <tr>\n",
       "      <th>1</th>\n",
       "      <td>H</td>\n",
       "      <td>7</td>\n",
       "      <td>53</td>\n",
       "      <td>4448</td>\n",
       "      <td>B</td>\n",
       "      <td>1.0</td>\n",
       "      <td>0.0</td>\n",
       "      <td>1.0</td>\n",
       "      <td>0.0</td>\n",
       "      <td>1.0</td>\n",
       "      <td>...</td>\n",
       "      <td>98</td>\n",
       "      <td>98</td>\n",
       "      <td>998</td>\n",
       "      <td>51710</td>\n",
       "      <td>998</td>\n",
       "      <td>998</td>\n",
       "      <td>9998</td>\n",
       "      <td>9998</td>\n",
       "      <td>IAPS</td>\n",
       "      <td>0</td>\n",
       "    </tr>\n",
       "    <tr>\n",
       "      <th>2</th>\n",
       "      <td>H</td>\n",
       "      <td>116</td>\n",
       "      <td>3</td>\n",
       "      <td>3464</td>\n",
       "      <td>C</td>\n",
       "      <td>0.0</td>\n",
       "      <td>0.0</td>\n",
       "      <td>0.0</td>\n",
       "      <td>0.0</td>\n",
       "      <td>0.0</td>\n",
       "      <td>...</td>\n",
       "      <td>98</td>\n",
       "      <td>98</td>\n",
       "      <td>998</td>\n",
       "      <td>51710</td>\n",
       "      <td>998</td>\n",
       "      <td>998</td>\n",
       "      <td>9998</td>\n",
       "      <td>9998</td>\n",
       "      <td>IAPS</td>\n",
       "      <td>0</td>\n",
       "    </tr>\n",
       "    <tr>\n",
       "      <th>3</th>\n",
       "      <td>H</td>\n",
       "      <td>240</td>\n",
       "      <td>300</td>\n",
       "      <td>3200</td>\n",
       "      <td>C</td>\n",
       "      <td>0.0</td>\n",
       "      <td>0.0</td>\n",
       "      <td>0.0</td>\n",
       "      <td>0.0</td>\n",
       "      <td>0.0</td>\n",
       "      <td>...</td>\n",
       "      <td>98</td>\n",
       "      <td>98</td>\n",
       "      <td>998</td>\n",
       "      <td>51710</td>\n",
       "      <td>998</td>\n",
       "      <td>998</td>\n",
       "      <td>9998</td>\n",
       "      <td>9998</td>\n",
       "      <td>RCC</td>\n",
       "      <td>0</td>\n",
       "    </tr>\n",
       "    <tr>\n",
       "      <th>4</th>\n",
       "      <td>R</td>\n",
       "      <td>72</td>\n",
       "      <td>261</td>\n",
       "      <td>2000</td>\n",
       "      <td>N</td>\n",
       "      <td>0.0</td>\n",
       "      <td>0.0</td>\n",
       "      <td>0.0</td>\n",
       "      <td>0.0</td>\n",
       "      <td>0.0</td>\n",
       "      <td>...</td>\n",
       "      <td>98</td>\n",
       "      <td>98</td>\n",
       "      <td>998</td>\n",
       "      <td>51710</td>\n",
       "      <td>998</td>\n",
       "      <td>998</td>\n",
       "      <td>9998</td>\n",
       "      <td>9998</td>\n",
       "      <td>BRANCH</td>\n",
       "      <td>1</td>\n",
       "    </tr>\n",
       "  </tbody>\n",
       "</table>\n",
       "<p>5 rows × 1856 columns</p>\n",
       "</div>"
      ],
      "text/plain": [
       "  VAR_0001  VAR_0002  VAR_0003  VAR_0004 VAR_0005  VAR_0006  VAR_0007  \\\n",
       "0        H       224         0      4300        C       0.0       0.0   \n",
       "1        H         7        53      4448        B       1.0       0.0   \n",
       "2        H       116         3      3464        C       0.0       0.0   \n",
       "3        H       240       300      3200        C       0.0       0.0   \n",
       "4        R        72       261      2000        N       0.0       0.0   \n",
       "\n",
       "   VAR_0013  VAR_0014  VAR_0015  ...  VAR_1926  VAR_1927  VAR_1928  VAR_1929  \\\n",
       "0       0.0       0.0       0.0  ...        98        98       998     51710   \n",
       "1       1.0       0.0       1.0  ...        98        98       998     51710   \n",
       "2       0.0       0.0       0.0  ...        98        98       998     51710   \n",
       "3       0.0       0.0       0.0  ...        98        98       998     51710   \n",
       "4       0.0       0.0       0.0  ...        98        98       998     51710   \n",
       "\n",
       "   VAR_1930  VAR_1931  VAR_1932  VAR_1933  VAR_1934  target  \n",
       "0       998       998      9998      9998      IAPS       0  \n",
       "1       998       998      9998      9998      IAPS       0  \n",
       "2       998       998      9998      9998      IAPS       0  \n",
       "3       998       998      9998      9998       RCC       0  \n",
       "4       998       998      9998      9998    BRANCH       1  \n",
       "\n",
       "[5 rows x 1856 columns]"
      ]
     },
     "execution_count": 15,
     "metadata": {},
     "output_type": "execute_result"
    },
    {
     "data": {
      "text/html": [
       "<div>\n",
       "<style scoped>\n",
       "    .dataframe tbody tr th:only-of-type {\n",
       "        vertical-align: middle;\n",
       "    }\n",
       "\n",
       "    .dataframe tbody tr th {\n",
       "        vertical-align: top;\n",
       "    }\n",
       "\n",
       "    .dataframe thead th {\n",
       "        text-align: right;\n",
       "    }\n",
       "</style>\n",
       "<table border=\"1\" class=\"dataframe\">\n",
       "  <thead>\n",
       "    <tr style=\"text-align: right;\">\n",
       "      <th></th>\n",
       "      <th>VAR_0001</th>\n",
       "      <th>VAR_0002</th>\n",
       "      <th>VAR_0003</th>\n",
       "      <th>VAR_0004</th>\n",
       "      <th>VAR_0005</th>\n",
       "      <th>VAR_0006</th>\n",
       "      <th>VAR_0007</th>\n",
       "      <th>VAR_0013</th>\n",
       "      <th>VAR_0014</th>\n",
       "      <th>VAR_0015</th>\n",
       "      <th>...</th>\n",
       "      <th>VAR_1926</th>\n",
       "      <th>VAR_1927</th>\n",
       "      <th>VAR_1928</th>\n",
       "      <th>VAR_1929</th>\n",
       "      <th>VAR_1930</th>\n",
       "      <th>VAR_1931</th>\n",
       "      <th>VAR_1932</th>\n",
       "      <th>VAR_1933</th>\n",
       "      <th>VAR_1934</th>\n",
       "      <th>target</th>\n",
       "    </tr>\n",
       "  </thead>\n",
       "  <tbody>\n",
       "    <tr>\n",
       "      <th>0</th>\n",
       "      <td>H</td>\n",
       "      <td>224</td>\n",
       "      <td>0</td>\n",
       "      <td>4300</td>\n",
       "      <td>C</td>\n",
       "      <td>0.0</td>\n",
       "      <td>0.0</td>\n",
       "      <td>0.0</td>\n",
       "      <td>0.0</td>\n",
       "      <td>0.0</td>\n",
       "      <td>...</td>\n",
       "      <td>98</td>\n",
       "      <td>98</td>\n",
       "      <td>998</td>\n",
       "      <td>51710</td>\n",
       "      <td>998</td>\n",
       "      <td>998</td>\n",
       "      <td>9998</td>\n",
       "      <td>9998</td>\n",
       "      <td>IAPS</td>\n",
       "      <td>0</td>\n",
       "    </tr>\n",
       "    <tr>\n",
       "      <th>1</th>\n",
       "      <td>H</td>\n",
       "      <td>7</td>\n",
       "      <td>53</td>\n",
       "      <td>4448</td>\n",
       "      <td>B</td>\n",
       "      <td>1.0</td>\n",
       "      <td>0.0</td>\n",
       "      <td>1.0</td>\n",
       "      <td>0.0</td>\n",
       "      <td>1.0</td>\n",
       "      <td>...</td>\n",
       "      <td>98</td>\n",
       "      <td>98</td>\n",
       "      <td>998</td>\n",
       "      <td>51710</td>\n",
       "      <td>998</td>\n",
       "      <td>998</td>\n",
       "      <td>9998</td>\n",
       "      <td>9998</td>\n",
       "      <td>IAPS</td>\n",
       "      <td>0</td>\n",
       "    </tr>\n",
       "    <tr>\n",
       "      <th>2</th>\n",
       "      <td>H</td>\n",
       "      <td>116</td>\n",
       "      <td>3</td>\n",
       "      <td>3464</td>\n",
       "      <td>C</td>\n",
       "      <td>0.0</td>\n",
       "      <td>0.0</td>\n",
       "      <td>0.0</td>\n",
       "      <td>0.0</td>\n",
       "      <td>0.0</td>\n",
       "      <td>...</td>\n",
       "      <td>98</td>\n",
       "      <td>98</td>\n",
       "      <td>998</td>\n",
       "      <td>51710</td>\n",
       "      <td>998</td>\n",
       "      <td>998</td>\n",
       "      <td>9998</td>\n",
       "      <td>9998</td>\n",
       "      <td>IAPS</td>\n",
       "      <td>0</td>\n",
       "    </tr>\n",
       "    <tr>\n",
       "      <th>3</th>\n",
       "      <td>H</td>\n",
       "      <td>240</td>\n",
       "      <td>300</td>\n",
       "      <td>3200</td>\n",
       "      <td>C</td>\n",
       "      <td>0.0</td>\n",
       "      <td>0.0</td>\n",
       "      <td>0.0</td>\n",
       "      <td>0.0</td>\n",
       "      <td>0.0</td>\n",
       "      <td>...</td>\n",
       "      <td>98</td>\n",
       "      <td>98</td>\n",
       "      <td>998</td>\n",
       "      <td>51710</td>\n",
       "      <td>998</td>\n",
       "      <td>998</td>\n",
       "      <td>9998</td>\n",
       "      <td>9998</td>\n",
       "      <td>RCC</td>\n",
       "      <td>0</td>\n",
       "    </tr>\n",
       "    <tr>\n",
       "      <th>4</th>\n",
       "      <td>R</td>\n",
       "      <td>72</td>\n",
       "      <td>261</td>\n",
       "      <td>2000</td>\n",
       "      <td>N</td>\n",
       "      <td>0.0</td>\n",
       "      <td>0.0</td>\n",
       "      <td>0.0</td>\n",
       "      <td>0.0</td>\n",
       "      <td>0.0</td>\n",
       "      <td>...</td>\n",
       "      <td>98</td>\n",
       "      <td>98</td>\n",
       "      <td>998</td>\n",
       "      <td>51710</td>\n",
       "      <td>998</td>\n",
       "      <td>998</td>\n",
       "      <td>9998</td>\n",
       "      <td>9998</td>\n",
       "      <td>BRANCH</td>\n",
       "      <td>1</td>\n",
       "    </tr>\n",
       "    <tr>\n",
       "      <th>...</th>\n",
       "      <td>...</td>\n",
       "      <td>...</td>\n",
       "      <td>...</td>\n",
       "      <td>...</td>\n",
       "      <td>...</td>\n",
       "      <td>...</td>\n",
       "      <td>...</td>\n",
       "      <td>...</td>\n",
       "      <td>...</td>\n",
       "      <td>...</td>\n",
       "      <td>...</td>\n",
       "      <td>...</td>\n",
       "      <td>...</td>\n",
       "      <td>...</td>\n",
       "      <td>...</td>\n",
       "      <td>...</td>\n",
       "      <td>...</td>\n",
       "      <td>...</td>\n",
       "      <td>...</td>\n",
       "      <td>...</td>\n",
       "      <td>...</td>\n",
       "    </tr>\n",
       "    <tr>\n",
       "      <th>145226</th>\n",
       "      <td>H</td>\n",
       "      <td>276</td>\n",
       "      <td>144</td>\n",
       "      <td>3000</td>\n",
       "      <td>C</td>\n",
       "      <td>2.0</td>\n",
       "      <td>3.0</td>\n",
       "      <td>2.0</td>\n",
       "      <td>3.0</td>\n",
       "      <td>1.0</td>\n",
       "      <td>...</td>\n",
       "      <td>98</td>\n",
       "      <td>98</td>\n",
       "      <td>998</td>\n",
       "      <td>51710</td>\n",
       "      <td>998</td>\n",
       "      <td>998</td>\n",
       "      <td>9998</td>\n",
       "      <td>9998</td>\n",
       "      <td>BRANCH</td>\n",
       "      <td>0</td>\n",
       "    </tr>\n",
       "    <tr>\n",
       "      <th>145227</th>\n",
       "      <td>R</td>\n",
       "      <td>39</td>\n",
       "      <td>414</td>\n",
       "      <td>2821</td>\n",
       "      <td>C</td>\n",
       "      <td>3.0</td>\n",
       "      <td>1.0</td>\n",
       "      <td>3.0</td>\n",
       "      <td>1.0</td>\n",
       "      <td>5.0</td>\n",
       "      <td>...</td>\n",
       "      <td>98</td>\n",
       "      <td>98</td>\n",
       "      <td>998</td>\n",
       "      <td>51710</td>\n",
       "      <td>998</td>\n",
       "      <td>998</td>\n",
       "      <td>9998</td>\n",
       "      <td>9998</td>\n",
       "      <td>IAPS</td>\n",
       "      <td>0</td>\n",
       "    </tr>\n",
       "    <tr>\n",
       "      <th>145228</th>\n",
       "      <td>R</td>\n",
       "      <td>103</td>\n",
       "      <td>31</td>\n",
       "      <td>2604</td>\n",
       "      <td>B</td>\n",
       "      <td>1.0</td>\n",
       "      <td>1.0</td>\n",
       "      <td>1.0</td>\n",
       "      <td>1.0</td>\n",
       "      <td>1.0</td>\n",
       "      <td>...</td>\n",
       "      <td>98</td>\n",
       "      <td>98</td>\n",
       "      <td>998</td>\n",
       "      <td>51710</td>\n",
       "      <td>998</td>\n",
       "      <td>998</td>\n",
       "      <td>9998</td>\n",
       "      <td>9998</td>\n",
       "      <td>BRANCH</td>\n",
       "      <td>0</td>\n",
       "    </tr>\n",
       "    <tr>\n",
       "      <th>145229</th>\n",
       "      <td>H</td>\n",
       "      <td>78</td>\n",
       "      <td>12</td>\n",
       "      <td>4325</td>\n",
       "      <td>C</td>\n",
       "      <td>0.0</td>\n",
       "      <td>0.0</td>\n",
       "      <td>0.0</td>\n",
       "      <td>0.0</td>\n",
       "      <td>0.0</td>\n",
       "      <td>...</td>\n",
       "      <td>98</td>\n",
       "      <td>98</td>\n",
       "      <td>998</td>\n",
       "      <td>51710</td>\n",
       "      <td>998</td>\n",
       "      <td>998</td>\n",
       "      <td>9998</td>\n",
       "      <td>9998</td>\n",
       "      <td>IAPS</td>\n",
       "      <td>1</td>\n",
       "    </tr>\n",
       "    <tr>\n",
       "      <th>145230</th>\n",
       "      <td>H</td>\n",
       "      <td>228</td>\n",
       "      <td>120</td>\n",
       "      <td>18500</td>\n",
       "      <td>B</td>\n",
       "      <td>0.0</td>\n",
       "      <td>0.0</td>\n",
       "      <td>0.0</td>\n",
       "      <td>0.0</td>\n",
       "      <td>0.0</td>\n",
       "      <td>...</td>\n",
       "      <td>98</td>\n",
       "      <td>98</td>\n",
       "      <td>998</td>\n",
       "      <td>51710</td>\n",
       "      <td>998</td>\n",
       "      <td>998</td>\n",
       "      <td>9998</td>\n",
       "      <td>9998</td>\n",
       "      <td>IAPS</td>\n",
       "      <td>0</td>\n",
       "    </tr>\n",
       "  </tbody>\n",
       "</table>\n",
       "<p>145231 rows × 1856 columns</p>\n",
       "</div>"
      ],
      "text/plain": [
       "       VAR_0001  VAR_0002  VAR_0003  VAR_0004 VAR_0005  VAR_0006  VAR_0007  \\\n",
       "0             H       224         0      4300        C       0.0       0.0   \n",
       "1             H         7        53      4448        B       1.0       0.0   \n",
       "2             H       116         3      3464        C       0.0       0.0   \n",
       "3             H       240       300      3200        C       0.0       0.0   \n",
       "4             R        72       261      2000        N       0.0       0.0   \n",
       "...         ...       ...       ...       ...      ...       ...       ...   \n",
       "145226        H       276       144      3000        C       2.0       3.0   \n",
       "145227        R        39       414      2821        C       3.0       1.0   \n",
       "145228        R       103        31      2604        B       1.0       1.0   \n",
       "145229        H        78        12      4325        C       0.0       0.0   \n",
       "145230        H       228       120     18500        B       0.0       0.0   \n",
       "\n",
       "        VAR_0013  VAR_0014  VAR_0015  ...  VAR_1926  VAR_1927  VAR_1928  \\\n",
       "0            0.0       0.0       0.0  ...        98        98       998   \n",
       "1            1.0       0.0       1.0  ...        98        98       998   \n",
       "2            0.0       0.0       0.0  ...        98        98       998   \n",
       "3            0.0       0.0       0.0  ...        98        98       998   \n",
       "4            0.0       0.0       0.0  ...        98        98       998   \n",
       "...          ...       ...       ...  ...       ...       ...       ...   \n",
       "145226       2.0       3.0       1.0  ...        98        98       998   \n",
       "145227       3.0       1.0       5.0  ...        98        98       998   \n",
       "145228       1.0       1.0       1.0  ...        98        98       998   \n",
       "145229       0.0       0.0       0.0  ...        98        98       998   \n",
       "145230       0.0       0.0       0.0  ...        98        98       998   \n",
       "\n",
       "        VAR_1929  VAR_1930  VAR_1931  VAR_1932  VAR_1933  VAR_1934  target  \n",
       "0          51710       998       998      9998      9998      IAPS       0  \n",
       "1          51710       998       998      9998      9998      IAPS       0  \n",
       "2          51710       998       998      9998      9998      IAPS       0  \n",
       "3          51710       998       998      9998      9998       RCC       0  \n",
       "4          51710       998       998      9998      9998    BRANCH       1  \n",
       "...          ...       ...       ...       ...       ...       ...     ...  \n",
       "145226     51710       998       998      9998      9998    BRANCH       0  \n",
       "145227     51710       998       998      9998      9998      IAPS       0  \n",
       "145228     51710       998       998      9998      9998    BRANCH       0  \n",
       "145229     51710       998       998      9998      9998      IAPS       1  \n",
       "145230     51710       998       998      9998      9998      IAPS       0  \n",
       "\n",
       "[145231 rows x 1856 columns]"
      ]
     },
     "execution_count": 15,
     "metadata": {},
     "output_type": "execute_result"
    }
   ],
   "source": [
    "df_traincp.shape\n",
    "df_traincp.head()\n",
    "df_traincp"
   ]
  },
  {
   "cell_type": "code",
   "execution_count": 16,
   "metadata": {},
   "outputs": [
    {
     "data": {
      "text/plain": [
       "(145231, 1934)"
      ]
     },
     "execution_count": 16,
     "metadata": {},
     "output_type": "execute_result"
    },
    {
     "data": {
      "text/plain": [
       "(145231, 1855)"
      ]
     },
     "execution_count": 16,
     "metadata": {},
     "output_type": "execute_result"
    }
   ],
   "source": [
    "#df1_train.drop(column, axis='columns', inplace=True)\n",
    "df_train.shape\n",
    "Target=df_traincp.pop('target')\n",
    "df_traincp.shape"
   ]
  },
  {
   "cell_type": "code",
   "execution_count": 17,
   "metadata": {},
   "outputs": [
    {
     "data": {
      "text/plain": [
       "uint16     1402\n",
       "float16     429\n",
       "object       24\n",
       "dtype: int64"
      ]
     },
     "execution_count": 17,
     "metadata": {},
     "output_type": "execute_result"
    }
   ],
   "source": [
    "df_traincp.dtypes.value_counts()"
   ]
  },
  {
   "cell_type": "code",
   "execution_count": 18,
   "metadata": {},
   "outputs": [
    {
     "data": {
      "text/plain": [
       "24"
      ]
     },
     "execution_count": 18,
     "metadata": {},
     "output_type": "execute_result"
    }
   ],
   "source": [
    "cat_cols2 = df_traincp.select_dtypes(include=[np.object]).columns\n",
    "cat_cols2 = cat_cols2.tolist()\n",
    "len(cat_cols2)"
   ]
  },
  {
   "cell_type": "code",
   "execution_count": 19,
   "metadata": {},
   "outputs": [
    {
     "data": {
      "text/plain": [
       "846"
      ]
     },
     "execution_count": 19,
     "metadata": {},
     "output_type": "execute_result"
    },
    {
     "data": {
      "text/plain": [
       "870"
      ]
     },
     "execution_count": 19,
     "metadata": {},
     "output_type": "execute_result"
    }
   ],
   "source": [
    "cl1 = (df_traincp.nunique()<=30)\n",
    "cat_cols3 = cl1[cl1==True].index.tolist()\n",
    "len(cat_cols3)\n",
    "cat_cols3.extend(cat_cols2)\n",
    "len(cat_cols3)"
   ]
  },
  {
   "cell_type": "code",
   "execution_count": 20,
   "metadata": {},
   "outputs": [
    {
     "data": {
      "text/plain": [
       "855"
      ]
     },
     "execution_count": 20,
     "metadata": {},
     "output_type": "execute_result"
    },
    {
     "data": {
      "text/plain": [
       "['VAR_0001',\n",
       " 'VAR_0005',\n",
       " 'VAR_0015',\n",
       " 'VAR_0016',\n",
       " 'VAR_0017',\n",
       " 'VAR_0033',\n",
       " 'VAR_0036',\n",
       " 'VAR_0037',\n",
       " 'VAR_0045',\n",
       " 'VAR_0046',\n",
       " 'VAR_0047',\n",
       " 'VAR_0048',\n",
       " 'VAR_0049',\n",
       " 'VAR_0052',\n",
       " 'VAR_0053',\n",
       " 'VAR_0054',\n",
       " 'VAR_0055',\n",
       " 'VAR_0056',\n",
       " 'VAR_0057',\n",
       " 'VAR_0058',\n",
       " 'VAR_0090',\n",
       " 'VAR_0091',\n",
       " 'VAR_0092',\n",
       " 'VAR_0093',\n",
       " 'VAR_0094',\n",
       " 'VAR_0095',\n",
       " 'VAR_0096',\n",
       " 'VAR_0097',\n",
       " 'VAR_0098',\n",
       " 'VAR_0099',\n",
       " 'VAR_0100',\n",
       " 'VAR_0101',\n",
       " 'VAR_0102',\n",
       " 'VAR_0103',\n",
       " 'VAR_0104',\n",
       " 'VAR_0105',\n",
       " 'VAR_0106',\n",
       " 'VAR_0107',\n",
       " 'VAR_0108',\n",
       " 'VAR_0109',\n",
       " 'VAR_0110',\n",
       " 'VAR_0111',\n",
       " 'VAR_0112',\n",
       " 'VAR_0113',\n",
       " 'VAR_0114',\n",
       " 'VAR_0115',\n",
       " 'VAR_0116',\n",
       " 'VAR_0117',\n",
       " 'VAR_0118',\n",
       " 'VAR_0119',\n",
       " 'VAR_0120',\n",
       " 'VAR_0121',\n",
       " 'VAR_0122',\n",
       " 'VAR_0123',\n",
       " 'VAR_0124',\n",
       " 'VAR_0125',\n",
       " 'VAR_0126',\n",
       " 'VAR_0127',\n",
       " 'VAR_0128',\n",
       " 'VAR_0129',\n",
       " 'VAR_0130',\n",
       " 'VAR_0131',\n",
       " 'VAR_0132',\n",
       " 'VAR_0133',\n",
       " 'VAR_0134',\n",
       " 'VAR_0138',\n",
       " 'VAR_0139',\n",
       " 'VAR_0140',\n",
       " 'VAR_0141',\n",
       " 'VAR_0142',\n",
       " 'VAR_0143',\n",
       " 'VAR_0144',\n",
       " 'VAR_0145',\n",
       " 'VAR_0146',\n",
       " 'VAR_0148',\n",
       " 'VAR_0150',\n",
       " 'VAR_0151',\n",
       " 'VAR_0152',\n",
       " 'VAR_0153',\n",
       " 'VAR_0160',\n",
       " 'VAR_0162',\n",
       " 'VAR_0163',\n",
       " 'VAR_0170',\n",
       " 'VAR_0172',\n",
       " 'VAR_0173',\n",
       " 'VAR_0180',\n",
       " 'VAR_0181',\n",
       " 'VAR_0182',\n",
       " 'VAR_0183',\n",
       " 'VAR_0184',\n",
       " 'VAR_0185',\n",
       " 'VAR_0186',\n",
       " 'VAR_0187',\n",
       " 'VAR_0191',\n",
       " 'VAR_0192',\n",
       " 'VAR_0193',\n",
       " 'VAR_0194',\n",
       " 'VAR_0195',\n",
       " 'VAR_0219',\n",
       " 'VAR_0220',\n",
       " 'VAR_0226',\n",
       " 'VAR_0230',\n",
       " 'VAR_0231',\n",
       " 'VAR_0232',\n",
       " 'VAR_0236',\n",
       " 'VAR_0244',\n",
       " 'VAR_0245',\n",
       " 'VAR_0247',\n",
       " 'VAR_0248',\n",
       " 'VAR_0249',\n",
       " 'VAR_0250',\n",
       " 'VAR_0251',\n",
       " 'VAR_0252',\n",
       " 'VAR_0253',\n",
       " 'VAR_0256',\n",
       " 'VAR_0258',\n",
       " 'VAR_0259',\n",
       " 'VAR_0260',\n",
       " 'VAR_0261',\n",
       " 'VAR_0262',\n",
       " 'VAR_0264',\n",
       " 'VAR_0265',\n",
       " 'VAR_0268',\n",
       " 'VAR_0269',\n",
       " 'VAR_0271',\n",
       " 'VAR_0275',\n",
       " 'VAR_0276',\n",
       " 'VAR_0277',\n",
       " 'VAR_0278',\n",
       " 'VAR_0281',\n",
       " 'VAR_0283',\n",
       " 'VAR_0284',\n",
       " 'VAR_0285',\n",
       " 'VAR_0286',\n",
       " 'VAR_0287',\n",
       " 'VAR_0290',\n",
       " 'VAR_0291',\n",
       " 'VAR_0292',\n",
       " 'VAR_0294',\n",
       " 'VAR_0305',\n",
       " 'VAR_0306',\n",
       " 'VAR_0307',\n",
       " 'VAR_0308',\n",
       " 'VAR_0311',\n",
       " 'VAR_0312',\n",
       " 'VAR_0314',\n",
       " 'VAR_0325',\n",
       " 'VAR_0326',\n",
       " 'VAR_0327',\n",
       " 'VAR_0328',\n",
       " 'VAR_0332',\n",
       " 'VAR_0339',\n",
       " 'VAR_0343',\n",
       " 'VAR_0344',\n",
       " 'VAR_0345',\n",
       " 'VAR_0346',\n",
       " 'VAR_0347',\n",
       " 'VAR_0348',\n",
       " 'VAR_0349',\n",
       " 'VAR_0350',\n",
       " 'VAR_0351',\n",
       " 'VAR_0352',\n",
       " 'VAR_0353',\n",
       " 'VAR_0354',\n",
       " 'VAR_0355',\n",
       " 'VAR_0356',\n",
       " 'VAR_0357',\n",
       " 'VAR_0358',\n",
       " 'VAR_0359',\n",
       " 'VAR_0360',\n",
       " 'VAR_0362',\n",
       " 'VAR_0363',\n",
       " 'VAR_0365',\n",
       " 'VAR_0371',\n",
       " 'VAR_0372',\n",
       " 'VAR_0373',\n",
       " 'VAR_0374',\n",
       " 'VAR_0375',\n",
       " 'VAR_0376',\n",
       " 'VAR_0377',\n",
       " 'VAR_0378',\n",
       " 'VAR_0379',\n",
       " 'VAR_0380',\n",
       " 'VAR_0381',\n",
       " 'VAR_0382',\n",
       " 'VAR_0383',\n",
       " 'VAR_0384',\n",
       " 'VAR_0385',\n",
       " 'VAR_0386',\n",
       " 'VAR_0387',\n",
       " 'VAR_0388',\n",
       " 'VAR_0389',\n",
       " 'VAR_0390',\n",
       " 'VAR_0391',\n",
       " 'VAR_0392',\n",
       " 'VAR_0393',\n",
       " 'VAR_0395',\n",
       " 'VAR_0396',\n",
       " 'VAR_0397',\n",
       " 'VAR_0398',\n",
       " 'VAR_0399',\n",
       " 'VAR_0400',\n",
       " 'VAR_0401',\n",
       " 'VAR_0402',\n",
       " 'VAR_0405',\n",
       " 'VAR_0409',\n",
       " 'VAR_0411',\n",
       " 'VAR_0412',\n",
       " 'VAR_0413',\n",
       " 'VAR_0414',\n",
       " 'VAR_0415',\n",
       " 'VAR_0416',\n",
       " 'VAR_0420',\n",
       " 'VAR_0421',\n",
       " 'VAR_0422',\n",
       " 'VAR_0423',\n",
       " 'VAR_0424',\n",
       " 'VAR_0426',\n",
       " 'VAR_0428',\n",
       " 'VAR_0429',\n",
       " 'VAR_0430',\n",
       " 'VAR_0431',\n",
       " 'VAR_0432',\n",
       " 'VAR_0433',\n",
       " 'VAR_0437',\n",
       " 'VAR_0445',\n",
       " 'VAR_0449',\n",
       " 'VAR_0450',\n",
       " 'VAR_0451',\n",
       " 'VAR_0452',\n",
       " 'VAR_0453',\n",
       " 'VAR_0454',\n",
       " 'VAR_0455',\n",
       " 'VAR_0456',\n",
       " 'VAR_0457',\n",
       " 'VAR_0458',\n",
       " 'VAR_0459',\n",
       " 'VAR_0460',\n",
       " 'VAR_0461',\n",
       " 'VAR_0462',\n",
       " 'VAR_0463',\n",
       " 'VAR_0464',\n",
       " 'VAR_0466',\n",
       " 'VAR_0467',\n",
       " 'VAR_0468',\n",
       " 'VAR_0469',\n",
       " 'VAR_0470',\n",
       " 'VAR_0471',\n",
       " 'VAR_0472',\n",
       " 'VAR_0473',\n",
       " 'VAR_0476',\n",
       " 'VAR_0477',\n",
       " 'VAR_0478',\n",
       " 'VAR_0479',\n",
       " 'VAR_0480',\n",
       " 'VAR_0482',\n",
       " 'VAR_0483',\n",
       " 'VAR_0484',\n",
       " 'VAR_0485',\n",
       " 'VAR_0486',\n",
       " 'VAR_0487',\n",
       " 'VAR_0488',\n",
       " 'VAR_0489',\n",
       " 'VAR_0490',\n",
       " 'VAR_0491',\n",
       " 'VAR_0494',\n",
       " 'VAR_0495',\n",
       " 'VAR_0496',\n",
       " 'VAR_0497',\n",
       " 'VAR_0498',\n",
       " 'VAR_0499',\n",
       " 'VAR_0500',\n",
       " 'VAR_0501',\n",
       " 'VAR_0502',\n",
       " 'VAR_0503',\n",
       " 'VAR_0504',\n",
       " 'VAR_0505',\n",
       " 'VAR_0506',\n",
       " 'VAR_0507',\n",
       " 'VAR_0508',\n",
       " 'VAR_0509',\n",
       " 'VAR_0510',\n",
       " 'VAR_0511',\n",
       " 'VAR_0512',\n",
       " 'VAR_0513',\n",
       " 'VAR_0518',\n",
       " 'VAR_0519',\n",
       " 'VAR_0520',\n",
       " 'VAR_0521',\n",
       " 'VAR_0522',\n",
       " 'VAR_0523',\n",
       " 'VAR_0524',\n",
       " 'VAR_0525',\n",
       " 'VAR_0526',\n",
       " 'VAR_0529',\n",
       " 'VAR_0532',\n",
       " 'VAR_0533',\n",
       " 'VAR_0534',\n",
       " 'VAR_0537',\n",
       " 'VAR_0538',\n",
       " 'VAR_0539',\n",
       " 'VAR_0545',\n",
       " 'VAR_0546',\n",
       " 'VAR_0547',\n",
       " 'VAR_0548',\n",
       " 'VAR_0549',\n",
       " 'VAR_0562',\n",
       " 'VAR_0563',\n",
       " 'VAR_0564',\n",
       " 'VAR_0565',\n",
       " 'VAR_0566',\n",
       " 'VAR_0567',\n",
       " 'VAR_0568',\n",
       " 'VAR_0569',\n",
       " 'VAR_0572',\n",
       " 'VAR_0580',\n",
       " 'VAR_0581',\n",
       " 'VAR_0582',\n",
       " 'VAR_0590',\n",
       " 'VAR_0603',\n",
       " 'VAR_0605',\n",
       " 'VAR_0606',\n",
       " 'VAR_0619',\n",
       " 'VAR_0621',\n",
       " 'VAR_0622',\n",
       " 'VAR_0624',\n",
       " 'VAR_0626',\n",
       " 'VAR_0637',\n",
       " 'VAR_0638',\n",
       " 'VAR_0639',\n",
       " 'VAR_0640',\n",
       " 'VAR_0647',\n",
       " 'VAR_0657',\n",
       " 'VAR_0658',\n",
       " 'VAR_0662',\n",
       " 'VAR_0663',\n",
       " 'VAR_0664',\n",
       " 'VAR_0665',\n",
       " 'VAR_0666',\n",
       " 'VAR_0667',\n",
       " 'VAR_0668',\n",
       " 'VAR_0678',\n",
       " 'VAR_0679',\n",
       " 'VAR_0686',\n",
       " 'VAR_0689',\n",
       " 'VAR_0690',\n",
       " 'VAR_0703',\n",
       " 'VAR_0710',\n",
       " 'VAR_0714',\n",
       " 'VAR_0718',\n",
       " 'VAR_0724',\n",
       " 'VAR_0727',\n",
       " 'VAR_0729',\n",
       " 'VAR_0730',\n",
       " 'VAR_0731',\n",
       " 'VAR_0732',\n",
       " 'VAR_0733',\n",
       " 'VAR_0734',\n",
       " 'VAR_0735',\n",
       " 'VAR_0736',\n",
       " 'VAR_0737',\n",
       " 'VAR_0738',\n",
       " 'VAR_0739',\n",
       " 'VAR_0740',\n",
       " 'VAR_0741',\n",
       " 'VAR_0742',\n",
       " 'VAR_0743',\n",
       " 'VAR_0744',\n",
       " 'VAR_0745',\n",
       " 'VAR_0746',\n",
       " 'VAR_0747',\n",
       " 'VAR_0748',\n",
       " 'VAR_0749',\n",
       " 'VAR_0750',\n",
       " 'VAR_0753',\n",
       " 'VAR_0754',\n",
       " 'VAR_0755',\n",
       " 'VAR_0756',\n",
       " 'VAR_0758',\n",
       " 'VAR_0759',\n",
       " 'VAR_0760',\n",
       " 'VAR_0761',\n",
       " 'VAR_0762',\n",
       " 'VAR_0763',\n",
       " 'VAR_0764',\n",
       " 'VAR_0765',\n",
       " 'VAR_0766',\n",
       " 'VAR_0767',\n",
       " 'VAR_0769',\n",
       " 'VAR_0770',\n",
       " 'VAR_0771',\n",
       " 'VAR_0772',\n",
       " 'VAR_0773',\n",
       " 'VAR_0775',\n",
       " 'VAR_0776',\n",
       " 'VAR_0777',\n",
       " 'VAR_0779',\n",
       " 'VAR_0780',\n",
       " 'VAR_0782',\n",
       " 'VAR_0783',\n",
       " 'VAR_0784',\n",
       " 'VAR_0786',\n",
       " 'VAR_0787',\n",
       " 'VAR_0788',\n",
       " 'VAR_0789',\n",
       " 'VAR_0795',\n",
       " 'VAR_0797',\n",
       " 'VAR_0798',\n",
       " 'VAR_0799',\n",
       " 'VAR_0800',\n",
       " 'VAR_0802',\n",
       " 'VAR_0803',\n",
       " 'VAR_0804',\n",
       " 'VAR_0805',\n",
       " 'VAR_0807',\n",
       " 'VAR_0808',\n",
       " 'VAR_0809',\n",
       " 'VAR_0810',\n",
       " 'VAR_0816',\n",
       " 'VAR_0817',\n",
       " 'VAR_0818',\n",
       " 'VAR_0819',\n",
       " 'VAR_0827',\n",
       " 'VAR_0828',\n",
       " 'VAR_0832',\n",
       " 'VAR_0833',\n",
       " 'VAR_0837',\n",
       " 'VAR_0838',\n",
       " 'VAR_0839',\n",
       " 'VAR_0841',\n",
       " 'VAR_0842',\n",
       " 'VAR_0846',\n",
       " 'VAR_0848',\n",
       " 'VAR_0849',\n",
       " 'VAR_0850',\n",
       " 'VAR_0851',\n",
       " 'VAR_0852',\n",
       " 'VAR_0923',\n",
       " 'VAR_0924',\n",
       " 'VAR_0927',\n",
       " 'VAR_0928',\n",
       " 'VAR_0932',\n",
       " 'VAR_0933',\n",
       " 'VAR_0940',\n",
       " 'VAR_0941',\n",
       " 'VAR_0947',\n",
       " 'VAR_0948',\n",
       " 'VAR_0953',\n",
       " 'VAR_0960',\n",
       " 'VAR_0965',\n",
       " 'VAR_0967',\n",
       " 'VAR_0971',\n",
       " 'VAR_0972',\n",
       " 'VAR_0973',\n",
       " 'VAR_0974',\n",
       " 'VAR_0975',\n",
       " 'VAR_0986',\n",
       " 'VAR_0987',\n",
       " 'VAR_0988',\n",
       " 'VAR_0994',\n",
       " 'VAR_0995',\n",
       " 'VAR_0999',\n",
       " 'VAR_1002',\n",
       " 'VAR_1003',\n",
       " 'VAR_1009',\n",
       " 'VAR_1010',\n",
       " 'VAR_1012',\n",
       " 'VAR_1013',\n",
       " 'VAR_1015',\n",
       " 'VAR_1017',\n",
       " 'VAR_1021',\n",
       " 'VAR_1024',\n",
       " 'VAR_1025',\n",
       " 'VAR_1026',\n",
       " 'VAR_1027',\n",
       " 'VAR_1033',\n",
       " 'VAR_1037',\n",
       " 'VAR_1041',\n",
       " 'VAR_1042',\n",
       " 'VAR_1045',\n",
       " 'VAR_1050',\n",
       " 'VAR_1051',\n",
       " 'VAR_1052',\n",
       " 'VAR_1053',\n",
       " 'VAR_1055',\n",
       " 'VAR_1056',\n",
       " 'VAR_1057',\n",
       " 'VAR_1058',\n",
       " 'VAR_1059',\n",
       " 'VAR_1060',\n",
       " 'VAR_1061',\n",
       " 'VAR_1062',\n",
       " 'VAR_1063',\n",
       " 'VAR_1064',\n",
       " 'VAR_1065',\n",
       " 'VAR_1066',\n",
       " 'VAR_1067',\n",
       " 'VAR_1068',\n",
       " 'VAR_1069',\n",
       " 'VAR_1070',\n",
       " 'VAR_1071',\n",
       " 'VAR_1073',\n",
       " 'VAR_1080',\n",
       " 'VAR_1098',\n",
       " 'VAR_1099',\n",
       " 'VAR_1100',\n",
       " 'VAR_1101',\n",
       " 'VAR_1102',\n",
       " 'VAR_1103',\n",
       " 'VAR_1104',\n",
       " 'VAR_1105',\n",
       " 'VAR_1106',\n",
       " 'VAR_1107',\n",
       " 'VAR_1108',\n",
       " 'VAR_1109',\n",
       " 'VAR_1155',\n",
       " 'VAR_1158',\n",
       " 'VAR_1161',\n",
       " 'VAR_1162',\n",
       " 'VAR_1163',\n",
       " 'VAR_1164',\n",
       " 'VAR_1165',\n",
       " 'VAR_1166',\n",
       " 'VAR_1167',\n",
       " 'VAR_1168',\n",
       " 'VAR_1175',\n",
       " 'VAR_1176',\n",
       " 'VAR_1177',\n",
       " 'VAR_1186',\n",
       " 'VAR_1187',\n",
       " 'VAR_1188',\n",
       " 'VAR_1189',\n",
       " 'VAR_1190',\n",
       " 'VAR_1192',\n",
       " 'VAR_1193',\n",
       " 'VAR_1194',\n",
       " 'VAR_1195',\n",
       " 'VAR_1196',\n",
       " 'VAR_1197',\n",
       " 'VAR_1198',\n",
       " 'VAR_1205',\n",
       " 'VAR_1206',\n",
       " 'VAR_1207',\n",
       " 'VAR_1212',\n",
       " 'VAR_1213',\n",
       " 'VAR_1214',\n",
       " 'VAR_1218',\n",
       " 'VAR_1225',\n",
       " 'VAR_1226',\n",
       " 'VAR_1230',\n",
       " 'VAR_1232',\n",
       " 'VAR_1235',\n",
       " 'VAR_1236',\n",
       " 'VAR_1237',\n",
       " 'VAR_1239',\n",
       " 'VAR_1253',\n",
       " 'VAR_1254',\n",
       " 'VAR_1255',\n",
       " 'VAR_1256',\n",
       " 'VAR_1257',\n",
       " 'VAR_1268',\n",
       " 'VAR_1269',\n",
       " 'VAR_1270',\n",
       " 'VAR_1271',\n",
       " 'VAR_1272',\n",
       " 'VAR_1273',\n",
       " 'VAR_1278',\n",
       " 'VAR_1279',\n",
       " 'VAR_1280',\n",
       " 'VAR_1281',\n",
       " 'VAR_1282',\n",
       " 'VAR_1283',\n",
       " 'VAR_1284',\n",
       " 'VAR_1285',\n",
       " 'VAR_1286',\n",
       " 'VAR_1287',\n",
       " 'VAR_1288',\n",
       " 'VAR_1289',\n",
       " 'VAR_1290',\n",
       " 'VAR_1291',\n",
       " 'VAR_1292',\n",
       " 'VAR_1295',\n",
       " 'VAR_1296',\n",
       " 'VAR_1298',\n",
       " 'VAR_1299',\n",
       " 'VAR_1300',\n",
       " 'VAR_1301',\n",
       " 'VAR_1302',\n",
       " 'VAR_1303',\n",
       " 'VAR_1305',\n",
       " 'VAR_1306',\n",
       " 'VAR_1307',\n",
       " 'VAR_1324',\n",
       " 'VAR_1325',\n",
       " 'VAR_1326',\n",
       " 'VAR_1338',\n",
       " 'VAR_1340',\n",
       " 'VAR_1345',\n",
       " 'VAR_1346',\n",
       " 'VAR_1347',\n",
       " 'VAR_1349',\n",
       " 'VAR_1350',\n",
       " 'VAR_1351',\n",
       " 'VAR_1352',\n",
       " 'VAR_1362',\n",
       " 'VAR_1377',\n",
       " 'VAR_1378',\n",
       " 'VAR_1379',\n",
       " 'VAR_1393',\n",
       " 'VAR_1394',\n",
       " 'VAR_1396',\n",
       " 'VAR_1400',\n",
       " 'VAR_1401',\n",
       " 'VAR_1405',\n",
       " 'VAR_1406',\n",
       " 'VAR_1407',\n",
       " 'VAR_1408',\n",
       " 'VAR_1411',\n",
       " 'VAR_1412',\n",
       " 'VAR_1413',\n",
       " 'VAR_1414',\n",
       " 'VAR_1415',\n",
       " 'VAR_1416',\n",
       " 'VAR_1417',\n",
       " 'VAR_1422',\n",
       " 'VAR_1423',\n",
       " 'VAR_1427',\n",
       " 'VAR_1429',\n",
       " 'VAR_1430',\n",
       " 'VAR_1431',\n",
       " 'VAR_1432',\n",
       " 'VAR_1433',\n",
       " 'VAR_1434',\n",
       " 'VAR_1435',\n",
       " 'VAR_1443',\n",
       " 'VAR_1449',\n",
       " 'VAR_1450',\n",
       " 'VAR_1458',\n",
       " 'VAR_1459',\n",
       " 'VAR_1460',\n",
       " 'VAR_1461',\n",
       " 'VAR_1466',\n",
       " 'VAR_1467',\n",
       " 'VAR_1468',\n",
       " 'VAR_1469',\n",
       " 'VAR_1471',\n",
       " 'VAR_1475',\n",
       " 'VAR_1476',\n",
       " 'VAR_1479',\n",
       " 'VAR_1480',\n",
       " 'VAR_1505',\n",
       " 'VAR_1506',\n",
       " 'VAR_1507',\n",
       " 'VAR_1508',\n",
       " 'VAR_1509',\n",
       " 'VAR_1510',\n",
       " 'VAR_1511',\n",
       " 'VAR_1532',\n",
       " 'VAR_1533',\n",
       " 'VAR_1534',\n",
       " 'VAR_1535',\n",
       " 'VAR_1536',\n",
       " 'VAR_1537',\n",
       " 'VAR_1538',\n",
       " 'VAR_1539',\n",
       " 'VAR_1540',\n",
       " 'VAR_1541',\n",
       " 'VAR_1542',\n",
       " 'VAR_1543',\n",
       " 'VAR_1544',\n",
       " 'VAR_1545',\n",
       " 'VAR_1546',\n",
       " 'VAR_1547',\n",
       " 'VAR_1548',\n",
       " 'VAR_1549',\n",
       " 'VAR_1550',\n",
       " 'VAR_1551',\n",
       " 'VAR_1552',\n",
       " 'VAR_1553',\n",
       " 'VAR_1554',\n",
       " 'VAR_1555',\n",
       " 'VAR_1556',\n",
       " 'VAR_1557',\n",
       " 'VAR_1558',\n",
       " 'VAR_1559',\n",
       " 'VAR_1560',\n",
       " 'VAR_1561',\n",
       " 'VAR_1562',\n",
       " 'VAR_1563',\n",
       " 'VAR_1564',\n",
       " 'VAR_1565',\n",
       " 'VAR_1566',\n",
       " 'VAR_1568',\n",
       " 'VAR_1569',\n",
       " 'VAR_1570',\n",
       " 'VAR_1573',\n",
       " 'VAR_1584',\n",
       " 'VAR_1585',\n",
       " 'VAR_1586',\n",
       " 'VAR_1587',\n",
       " 'VAR_1588',\n",
       " 'VAR_1590',\n",
       " 'VAR_1591',\n",
       " 'VAR_1592',\n",
       " 'VAR_1593',\n",
       " 'VAR_1594',\n",
       " 'VAR_1595',\n",
       " 'VAR_1596',\n",
       " 'VAR_1597',\n",
       " 'VAR_1598',\n",
       " 'VAR_1599',\n",
       " 'VAR_1600',\n",
       " 'VAR_1601',\n",
       " 'VAR_1602',\n",
       " 'VAR_1603',\n",
       " 'VAR_1604',\n",
       " 'VAR_1605',\n",
       " 'VAR_1606',\n",
       " 'VAR_1607',\n",
       " 'VAR_1608',\n",
       " 'VAR_1609',\n",
       " 'VAR_1610',\n",
       " 'VAR_1613',\n",
       " 'VAR_1632',\n",
       " 'VAR_1633',\n",
       " 'VAR_1634',\n",
       " 'VAR_1635',\n",
       " 'VAR_1636',\n",
       " 'VAR_1637',\n",
       " 'VAR_1638',\n",
       " 'VAR_1656',\n",
       " 'VAR_1657',\n",
       " 'VAR_1658',\n",
       " 'VAR_1659',\n",
       " 'VAR_1660',\n",
       " 'VAR_1662',\n",
       " 'VAR_1663',\n",
       " 'VAR_1664',\n",
       " 'VAR_1665',\n",
       " 'VAR_1666',\n",
       " 'VAR_1667',\n",
       " 'VAR_1668',\n",
       " 'VAR_1669',\n",
       " 'VAR_1670',\n",
       " 'VAR_1671',\n",
       " 'VAR_1672',\n",
       " 'VAR_1673',\n",
       " 'VAR_1674',\n",
       " 'VAR_1675',\n",
       " 'VAR_1676',\n",
       " 'VAR_1677',\n",
       " 'VAR_1678',\n",
       " 'VAR_1679',\n",
       " 'VAR_1680',\n",
       " 'VAR_1681',\n",
       " 'VAR_1682',\n",
       " 'VAR_1683',\n",
       " 'VAR_1702',\n",
       " 'VAR_1703',\n",
       " 'VAR_1704',\n",
       " 'VAR_1705',\n",
       " 'VAR_1706',\n",
       " 'VAR_1707',\n",
       " 'VAR_1708',\n",
       " 'VAR_1713',\n",
       " 'VAR_1714',\n",
       " 'VAR_1721',\n",
       " 'VAR_1722',\n",
       " 'VAR_1723',\n",
       " 'VAR_1724',\n",
       " 'VAR_1725',\n",
       " 'VAR_1726',\n",
       " 'VAR_1727',\n",
       " 'VAR_1728',\n",
       " 'VAR_1734',\n",
       " 'VAR_1735',\n",
       " 'VAR_1741',\n",
       " 'VAR_1743',\n",
       " 'VAR_1744',\n",
       " 'VAR_1745',\n",
       " 'VAR_1746',\n",
       " 'VAR_1749',\n",
       " 'VAR_1752',\n",
       " 'VAR_1753',\n",
       " 'VAR_1763',\n",
       " 'VAR_1764',\n",
       " 'VAR_1765',\n",
       " 'VAR_1770',\n",
       " 'VAR_1771',\n",
       " 'VAR_1772',\n",
       " 'VAR_1773',\n",
       " 'VAR_1775',\n",
       " 'VAR_1776',\n",
       " 'VAR_1779',\n",
       " 'VAR_1780',\n",
       " 'VAR_1783',\n",
       " 'VAR_1784',\n",
       " 'VAR_1787',\n",
       " 'VAR_1788',\n",
       " 'VAR_1791',\n",
       " 'VAR_1793',\n",
       " 'VAR_1794',\n",
       " 'VAR_1816',\n",
       " 'VAR_1817',\n",
       " 'VAR_1818',\n",
       " 'VAR_1819',\n",
       " 'VAR_1820',\n",
       " 'VAR_1821',\n",
       " 'VAR_1822',\n",
       " 'VAR_1843',\n",
       " 'VAR_1844',\n",
       " 'VAR_1848',\n",
       " 'VAR_1849',\n",
       " 'VAR_1850',\n",
       " 'VAR_1855',\n",
       " 'VAR_1857',\n",
       " 'VAR_1862',\n",
       " 'VAR_1863',\n",
       " 'VAR_1867',\n",
       " 'VAR_1874',\n",
       " 'VAR_1875',\n",
       " 'VAR_1876',\n",
       " 'VAR_1879',\n",
       " 'VAR_1880',\n",
       " 'VAR_1881',\n",
       " 'VAR_1882',\n",
       " 'VAR_1883',\n",
       " 'VAR_1884',\n",
       " 'VAR_1885',\n",
       " 'VAR_1886',\n",
       " 'VAR_1887',\n",
       " 'VAR_1888',\n",
       " 'VAR_1896',\n",
       " 'VAR_1897',\n",
       " 'VAR_1905',\n",
       " 'VAR_1916',\n",
       " 'VAR_1917',\n",
       " 'VAR_1920',\n",
       " 'VAR_1921',\n",
       " 'VAR_1925',\n",
       " 'VAR_1926',\n",
       " 'VAR_1927',\n",
       " 'VAR_1928',\n",
       " 'VAR_1930',\n",
       " 'VAR_1931',\n",
       " 'VAR_1934',\n",
       " 'VAR_0075',\n",
       " 'VAR_0200',\n",
       " 'VAR_0204',\n",
       " 'VAR_0217',\n",
       " 'VAR_0237',\n",
       " 'VAR_0274',\n",
       " 'VAR_0342',\n",
       " 'VAR_0404',\n",
       " 'VAR_0493']"
      ]
     },
     "execution_count": 20,
     "metadata": {},
     "output_type": "execute_result"
    }
   ],
   "source": [
    "cat_cols4=[]\n",
    "for i in cat_cols3:\n",
    "    if i not in cat_cols4:\n",
    "        cat_cols4.append(i)\n",
    "len(cat_cols4)\n",
    "cat_cols4"
   ]
  },
  {
   "cell_type": "code",
   "execution_count": 21,
   "metadata": {},
   "outputs": [
    {
     "data": {
      "text/plain": [
       "1831"
      ]
     },
     "execution_count": 21,
     "metadata": {},
     "output_type": "execute_result"
    }
   ],
   "source": [
    "num_cols1 = df_traincp.select_dtypes(include=[np.number]).columns\n",
    "num_cols1 = num_cols1.tolist()\n",
    "len(num_cols1)"
   ]
  },
  {
   "cell_type": "code",
   "execution_count": 22,
   "metadata": {},
   "outputs": [
    {
     "data": {
      "text/plain": [
       "1000"
      ]
     },
     "execution_count": 22,
     "metadata": {},
     "output_type": "execute_result"
    },
    {
     "data": {
      "text/plain": [
       "['VAR_0002',\n",
       " 'VAR_0003',\n",
       " 'VAR_0004',\n",
       " 'VAR_0006',\n",
       " 'VAR_0007',\n",
       " 'VAR_0013',\n",
       " 'VAR_0014',\n",
       " 'VAR_0034',\n",
       " 'VAR_0035',\n",
       " 'VAR_0050',\n",
       " 'VAR_0051',\n",
       " 'VAR_0059',\n",
       " 'VAR_0060',\n",
       " 'VAR_0061',\n",
       " 'VAR_0062',\n",
       " 'VAR_0063',\n",
       " 'VAR_0064',\n",
       " 'VAR_0065',\n",
       " 'VAR_0066',\n",
       " 'VAR_0067',\n",
       " 'VAR_0068',\n",
       " 'VAR_0069',\n",
       " 'VAR_0070',\n",
       " 'VAR_0071',\n",
       " 'VAR_0072',\n",
       " 'VAR_0076',\n",
       " 'VAR_0077',\n",
       " 'VAR_0078',\n",
       " 'VAR_0079',\n",
       " 'VAR_0080',\n",
       " 'VAR_0081',\n",
       " 'VAR_0082',\n",
       " 'VAR_0083',\n",
       " 'VAR_0084',\n",
       " 'VAR_0085',\n",
       " 'VAR_0086',\n",
       " 'VAR_0087',\n",
       " 'VAR_0088',\n",
       " 'VAR_0089',\n",
       " 'VAR_0135',\n",
       " 'VAR_0136',\n",
       " 'VAR_0137',\n",
       " 'VAR_0147',\n",
       " 'VAR_0149',\n",
       " 'VAR_0154',\n",
       " 'VAR_0155',\n",
       " 'VAR_0161',\n",
       " 'VAR_0164',\n",
       " 'VAR_0165',\n",
       " 'VAR_0171',\n",
       " 'VAR_0174',\n",
       " 'VAR_0175',\n",
       " 'VAR_0198',\n",
       " 'VAR_0201',\n",
       " 'VAR_0224',\n",
       " 'VAR_0225',\n",
       " 'VAR_0227',\n",
       " 'VAR_0228',\n",
       " 'VAR_0233',\n",
       " 'VAR_0234',\n",
       " 'VAR_0235',\n",
       " 'VAR_0238',\n",
       " 'VAR_0241',\n",
       " 'VAR_0242',\n",
       " 'VAR_0243',\n",
       " 'VAR_0254',\n",
       " 'VAR_0255',\n",
       " 'VAR_0257',\n",
       " 'VAR_0263',\n",
       " 'VAR_0266',\n",
       " 'VAR_0267',\n",
       " 'VAR_0270',\n",
       " 'VAR_0272',\n",
       " 'VAR_0273',\n",
       " 'VAR_0279',\n",
       " 'VAR_0280',\n",
       " 'VAR_0282',\n",
       " 'VAR_0288',\n",
       " 'VAR_0289',\n",
       " 'VAR_0293',\n",
       " 'VAR_0295',\n",
       " 'VAR_0296',\n",
       " 'VAR_0297',\n",
       " 'VAR_0298',\n",
       " 'VAR_0299',\n",
       " 'VAR_0300',\n",
       " 'VAR_0301',\n",
       " 'VAR_0302',\n",
       " 'VAR_0303',\n",
       " 'VAR_0304',\n",
       " 'VAR_0309',\n",
       " 'VAR_0310',\n",
       " 'VAR_0313',\n",
       " 'VAR_0315',\n",
       " 'VAR_0316',\n",
       " 'VAR_0317',\n",
       " 'VAR_0318',\n",
       " 'VAR_0319',\n",
       " 'VAR_0320',\n",
       " 'VAR_0321',\n",
       " 'VAR_0322',\n",
       " 'VAR_0323',\n",
       " 'VAR_0324',\n",
       " 'VAR_0329',\n",
       " 'VAR_0330',\n",
       " 'VAR_0331',\n",
       " 'VAR_0333',\n",
       " 'VAR_0334',\n",
       " 'VAR_0335',\n",
       " 'VAR_0336',\n",
       " 'VAR_0337',\n",
       " 'VAR_0338',\n",
       " 'VAR_0340',\n",
       " 'VAR_0341',\n",
       " 'VAR_0361',\n",
       " 'VAR_0364',\n",
       " 'VAR_0366',\n",
       " 'VAR_0367',\n",
       " 'VAR_0368',\n",
       " 'VAR_0369',\n",
       " 'VAR_0370',\n",
       " 'VAR_0403',\n",
       " 'VAR_0406',\n",
       " 'VAR_0407',\n",
       " 'VAR_0408',\n",
       " 'VAR_0410',\n",
       " 'VAR_0417',\n",
       " 'VAR_0418',\n",
       " 'VAR_0419',\n",
       " 'VAR_0425',\n",
       " 'VAR_0427',\n",
       " 'VAR_0434',\n",
       " 'VAR_0435',\n",
       " 'VAR_0436',\n",
       " 'VAR_0439',\n",
       " 'VAR_0440',\n",
       " 'VAR_0441',\n",
       " 'VAR_0442',\n",
       " 'VAR_0443',\n",
       " 'VAR_0444',\n",
       " 'VAR_0447',\n",
       " 'VAR_0448',\n",
       " 'VAR_0465',\n",
       " 'VAR_0474',\n",
       " 'VAR_0475',\n",
       " 'VAR_0481',\n",
       " 'VAR_0492',\n",
       " 'VAR_0514',\n",
       " 'VAR_0515',\n",
       " 'VAR_0516',\n",
       " 'VAR_0517',\n",
       " 'VAR_0535',\n",
       " 'VAR_0536',\n",
       " 'VAR_0540',\n",
       " 'VAR_0541',\n",
       " 'VAR_0542',\n",
       " 'VAR_0543',\n",
       " 'VAR_0544',\n",
       " 'VAR_0550',\n",
       " 'VAR_0551',\n",
       " 'VAR_0552',\n",
       " 'VAR_0553',\n",
       " 'VAR_0554',\n",
       " 'VAR_0555',\n",
       " 'VAR_0556',\n",
       " 'VAR_0557',\n",
       " 'VAR_0558',\n",
       " 'VAR_0559',\n",
       " 'VAR_0560',\n",
       " 'VAR_0561',\n",
       " 'VAR_0570',\n",
       " 'VAR_0571',\n",
       " 'VAR_0573',\n",
       " 'VAR_0574',\n",
       " 'VAR_0575',\n",
       " 'VAR_0576',\n",
       " 'VAR_0577',\n",
       " 'VAR_0578',\n",
       " 'VAR_0579',\n",
       " 'VAR_0583',\n",
       " 'VAR_0584',\n",
       " 'VAR_0585',\n",
       " 'VAR_0586',\n",
       " 'VAR_0587',\n",
       " 'VAR_0588',\n",
       " 'VAR_0589',\n",
       " 'VAR_0591',\n",
       " 'VAR_0592',\n",
       " 'VAR_0593',\n",
       " 'VAR_0594',\n",
       " 'VAR_0595',\n",
       " 'VAR_0596',\n",
       " 'VAR_0597',\n",
       " 'VAR_0598',\n",
       " 'VAR_0599',\n",
       " 'VAR_0600',\n",
       " 'VAR_0601',\n",
       " 'VAR_0602',\n",
       " 'VAR_0604',\n",
       " 'VAR_0607',\n",
       " 'VAR_0608',\n",
       " 'VAR_0609',\n",
       " 'VAR_0610',\n",
       " 'VAR_0611',\n",
       " 'VAR_0612',\n",
       " 'VAR_0613',\n",
       " 'VAR_0614',\n",
       " 'VAR_0615',\n",
       " 'VAR_0616',\n",
       " 'VAR_0617',\n",
       " 'VAR_0618',\n",
       " 'VAR_0620',\n",
       " 'VAR_0623',\n",
       " 'VAR_0625',\n",
       " 'VAR_0627',\n",
       " 'VAR_0628',\n",
       " 'VAR_0629',\n",
       " 'VAR_0630',\n",
       " 'VAR_0631',\n",
       " 'VAR_0632',\n",
       " 'VAR_0633',\n",
       " 'VAR_0634',\n",
       " 'VAR_0635',\n",
       " 'VAR_0636',\n",
       " 'VAR_0641',\n",
       " 'VAR_0642',\n",
       " 'VAR_0643',\n",
       " 'VAR_0644',\n",
       " 'VAR_0645',\n",
       " 'VAR_0646',\n",
       " 'VAR_0648',\n",
       " 'VAR_0649',\n",
       " 'VAR_0650',\n",
       " 'VAR_0651',\n",
       " 'VAR_0652',\n",
       " 'VAR_0653',\n",
       " 'VAR_0654',\n",
       " 'VAR_0655',\n",
       " 'VAR_0656',\n",
       " 'VAR_0659',\n",
       " 'VAR_0660',\n",
       " 'VAR_0661',\n",
       " 'VAR_0669',\n",
       " 'VAR_0670',\n",
       " 'VAR_0671',\n",
       " 'VAR_0672',\n",
       " 'VAR_0673',\n",
       " 'VAR_0674',\n",
       " 'VAR_0675',\n",
       " 'VAR_0676',\n",
       " 'VAR_0677',\n",
       " 'VAR_0680',\n",
       " 'VAR_0681',\n",
       " 'VAR_0682',\n",
       " 'VAR_0683',\n",
       " 'VAR_0684',\n",
       " 'VAR_0685',\n",
       " 'VAR_0687',\n",
       " 'VAR_0688',\n",
       " 'VAR_0691',\n",
       " 'VAR_0692',\n",
       " 'VAR_0693',\n",
       " 'VAR_0694',\n",
       " 'VAR_0695',\n",
       " 'VAR_0696',\n",
       " 'VAR_0697',\n",
       " 'VAR_0698',\n",
       " 'VAR_0699',\n",
       " 'VAR_0700',\n",
       " 'VAR_0701',\n",
       " 'VAR_0702',\n",
       " 'VAR_0704',\n",
       " 'VAR_0705',\n",
       " 'VAR_0706',\n",
       " 'VAR_0707',\n",
       " 'VAR_0708',\n",
       " 'VAR_0709',\n",
       " 'VAR_0711',\n",
       " 'VAR_0712',\n",
       " 'VAR_0713',\n",
       " 'VAR_0715',\n",
       " 'VAR_0716',\n",
       " 'VAR_0717',\n",
       " 'VAR_0719',\n",
       " 'VAR_0720',\n",
       " 'VAR_0721',\n",
       " 'VAR_0722',\n",
       " 'VAR_0723',\n",
       " 'VAR_0725',\n",
       " 'VAR_0726',\n",
       " 'VAR_0728',\n",
       " 'VAR_0751',\n",
       " 'VAR_0752',\n",
       " 'VAR_0757',\n",
       " 'VAR_0768',\n",
       " 'VAR_0774',\n",
       " 'VAR_0778',\n",
       " 'VAR_0781',\n",
       " 'VAR_0785',\n",
       " 'VAR_0790',\n",
       " 'VAR_0791',\n",
       " 'VAR_0792',\n",
       " 'VAR_0793',\n",
       " 'VAR_0794',\n",
       " 'VAR_0796',\n",
       " 'VAR_0801',\n",
       " 'VAR_0806',\n",
       " 'VAR_0811',\n",
       " 'VAR_0812',\n",
       " 'VAR_0813',\n",
       " 'VAR_0814',\n",
       " 'VAR_0815',\n",
       " 'VAR_0820',\n",
       " 'VAR_0821',\n",
       " 'VAR_0822',\n",
       " 'VAR_0823',\n",
       " 'VAR_0824',\n",
       " 'VAR_0825',\n",
       " 'VAR_0826',\n",
       " 'VAR_0829',\n",
       " 'VAR_0830',\n",
       " 'VAR_0831',\n",
       " 'VAR_0834',\n",
       " 'VAR_0835',\n",
       " 'VAR_0836',\n",
       " 'VAR_0843',\n",
       " 'VAR_0844',\n",
       " 'VAR_0845',\n",
       " 'VAR_0853',\n",
       " 'VAR_0854',\n",
       " 'VAR_0855',\n",
       " 'VAR_0856',\n",
       " 'VAR_0857',\n",
       " 'VAR_0858',\n",
       " 'VAR_0859',\n",
       " 'VAR_0860',\n",
       " 'VAR_0861',\n",
       " 'VAR_0862',\n",
       " 'VAR_0863',\n",
       " 'VAR_0864',\n",
       " 'VAR_0865',\n",
       " 'VAR_0866',\n",
       " 'VAR_0867',\n",
       " 'VAR_0868',\n",
       " 'VAR_0869',\n",
       " 'VAR_0870',\n",
       " 'VAR_0871',\n",
       " 'VAR_0872',\n",
       " 'VAR_0873',\n",
       " 'VAR_0874',\n",
       " 'VAR_0875',\n",
       " 'VAR_0876',\n",
       " 'VAR_0877',\n",
       " 'VAR_0878',\n",
       " 'VAR_0879',\n",
       " 'VAR_0880',\n",
       " 'VAR_0881',\n",
       " 'VAR_0882',\n",
       " 'VAR_0883',\n",
       " 'VAR_0884',\n",
       " 'VAR_0885',\n",
       " 'VAR_0886',\n",
       " 'VAR_0887',\n",
       " 'VAR_0888',\n",
       " 'VAR_0889',\n",
       " 'VAR_0890',\n",
       " 'VAR_0891',\n",
       " 'VAR_0892',\n",
       " 'VAR_0893',\n",
       " 'VAR_0894',\n",
       " 'VAR_0895',\n",
       " 'VAR_0896',\n",
       " 'VAR_0897',\n",
       " 'VAR_0898',\n",
       " 'VAR_0899',\n",
       " 'VAR_0900',\n",
       " 'VAR_0901',\n",
       " 'VAR_0902',\n",
       " 'VAR_0903',\n",
       " 'VAR_0904',\n",
       " 'VAR_0905',\n",
       " 'VAR_0906',\n",
       " 'VAR_0907',\n",
       " 'VAR_0908',\n",
       " 'VAR_0909',\n",
       " 'VAR_0910',\n",
       " 'VAR_0911',\n",
       " 'VAR_0912',\n",
       " 'VAR_0913',\n",
       " 'VAR_0914',\n",
       " 'VAR_0915',\n",
       " 'VAR_0916',\n",
       " 'VAR_0917',\n",
       " 'VAR_0918',\n",
       " 'VAR_0919',\n",
       " 'VAR_0920',\n",
       " 'VAR_0921',\n",
       " 'VAR_0922',\n",
       " 'VAR_0925',\n",
       " 'VAR_0926',\n",
       " 'VAR_0929',\n",
       " 'VAR_0930',\n",
       " 'VAR_0931',\n",
       " 'VAR_0934',\n",
       " 'VAR_0935',\n",
       " 'VAR_0936',\n",
       " 'VAR_0937',\n",
       " 'VAR_0938',\n",
       " 'VAR_0939',\n",
       " 'VAR_0942',\n",
       " 'VAR_0943',\n",
       " 'VAR_0944',\n",
       " 'VAR_0945',\n",
       " 'VAR_0946',\n",
       " 'VAR_0949',\n",
       " 'VAR_0950',\n",
       " 'VAR_0951',\n",
       " 'VAR_0952',\n",
       " 'VAR_0954',\n",
       " 'VAR_0955',\n",
       " 'VAR_0956',\n",
       " 'VAR_0957',\n",
       " 'VAR_0958',\n",
       " 'VAR_0959',\n",
       " 'VAR_0961',\n",
       " 'VAR_0962',\n",
       " 'VAR_0963',\n",
       " 'VAR_0964',\n",
       " 'VAR_0966',\n",
       " 'VAR_0968',\n",
       " 'VAR_0969',\n",
       " 'VAR_0970',\n",
       " 'VAR_0976',\n",
       " 'VAR_0977',\n",
       " 'VAR_0978',\n",
       " 'VAR_0979',\n",
       " 'VAR_0980',\n",
       " 'VAR_0981',\n",
       " 'VAR_0982',\n",
       " 'VAR_0983',\n",
       " 'VAR_0984',\n",
       " 'VAR_0985',\n",
       " 'VAR_0989',\n",
       " 'VAR_0990',\n",
       " 'VAR_0991',\n",
       " 'VAR_0992',\n",
       " 'VAR_0993',\n",
       " 'VAR_0996',\n",
       " 'VAR_0997',\n",
       " 'VAR_0998',\n",
       " 'VAR_1000',\n",
       " 'VAR_1001',\n",
       " 'VAR_1004',\n",
       " 'VAR_1005',\n",
       " 'VAR_1006',\n",
       " 'VAR_1007',\n",
       " 'VAR_1008',\n",
       " 'VAR_1011',\n",
       " 'VAR_1014',\n",
       " 'VAR_1016',\n",
       " 'VAR_1018',\n",
       " 'VAR_1019',\n",
       " 'VAR_1020',\n",
       " 'VAR_1022',\n",
       " 'VAR_1023',\n",
       " 'VAR_1028',\n",
       " 'VAR_1029',\n",
       " 'VAR_1030',\n",
       " 'VAR_1031',\n",
       " 'VAR_1032',\n",
       " 'VAR_1034',\n",
       " 'VAR_1035',\n",
       " 'VAR_1036',\n",
       " 'VAR_1038',\n",
       " 'VAR_1039',\n",
       " 'VAR_1040',\n",
       " 'VAR_1043',\n",
       " 'VAR_1044',\n",
       " 'VAR_1046',\n",
       " 'VAR_1047',\n",
       " 'VAR_1048',\n",
       " 'VAR_1049',\n",
       " 'VAR_1054',\n",
       " 'VAR_1072',\n",
       " 'VAR_1074',\n",
       " 'VAR_1075',\n",
       " 'VAR_1076',\n",
       " 'VAR_1077',\n",
       " 'VAR_1078',\n",
       " 'VAR_1079',\n",
       " 'VAR_1081',\n",
       " 'VAR_1082',\n",
       " 'VAR_1083',\n",
       " 'VAR_1084',\n",
       " 'VAR_1085',\n",
       " 'VAR_1086',\n",
       " 'VAR_1087',\n",
       " 'VAR_1088',\n",
       " 'VAR_1089',\n",
       " 'VAR_1090',\n",
       " 'VAR_1091',\n",
       " 'VAR_1092',\n",
       " 'VAR_1093',\n",
       " 'VAR_1094',\n",
       " 'VAR_1095',\n",
       " 'VAR_1096',\n",
       " 'VAR_1097',\n",
       " 'VAR_1110',\n",
       " 'VAR_1111',\n",
       " 'VAR_1112',\n",
       " 'VAR_1113',\n",
       " 'VAR_1114',\n",
       " 'VAR_1115',\n",
       " 'VAR_1116',\n",
       " 'VAR_1117',\n",
       " 'VAR_1118',\n",
       " 'VAR_1119',\n",
       " 'VAR_1120',\n",
       " 'VAR_1121',\n",
       " 'VAR_1122',\n",
       " 'VAR_1123',\n",
       " 'VAR_1124',\n",
       " 'VAR_1125',\n",
       " 'VAR_1126',\n",
       " 'VAR_1127',\n",
       " 'VAR_1128',\n",
       " 'VAR_1129',\n",
       " 'VAR_1130',\n",
       " 'VAR_1131',\n",
       " 'VAR_1132',\n",
       " 'VAR_1133',\n",
       " 'VAR_1134',\n",
       " 'VAR_1135',\n",
       " 'VAR_1136',\n",
       " 'VAR_1137',\n",
       " 'VAR_1138',\n",
       " 'VAR_1139',\n",
       " 'VAR_1140',\n",
       " 'VAR_1141',\n",
       " 'VAR_1142',\n",
       " 'VAR_1143',\n",
       " 'VAR_1144',\n",
       " 'VAR_1145',\n",
       " 'VAR_1146',\n",
       " 'VAR_1147',\n",
       " 'VAR_1148',\n",
       " 'VAR_1149',\n",
       " 'VAR_1150',\n",
       " 'VAR_1151',\n",
       " 'VAR_1152',\n",
       " 'VAR_1153',\n",
       " 'VAR_1154',\n",
       " 'VAR_1156',\n",
       " 'VAR_1157',\n",
       " 'VAR_1159',\n",
       " 'VAR_1160',\n",
       " 'VAR_1169',\n",
       " 'VAR_1170',\n",
       " 'VAR_1171',\n",
       " 'VAR_1172',\n",
       " 'VAR_1173',\n",
       " 'VAR_1174',\n",
       " 'VAR_1178',\n",
       " 'VAR_1179',\n",
       " 'VAR_1180',\n",
       " 'VAR_1181',\n",
       " 'VAR_1182',\n",
       " 'VAR_1183',\n",
       " 'VAR_1184',\n",
       " 'VAR_1185',\n",
       " 'VAR_1191',\n",
       " 'VAR_1199',\n",
       " 'VAR_1200',\n",
       " 'VAR_1201',\n",
       " 'VAR_1202',\n",
       " 'VAR_1203',\n",
       " 'VAR_1204',\n",
       " 'VAR_1208',\n",
       " 'VAR_1209',\n",
       " 'VAR_1210',\n",
       " 'VAR_1211',\n",
       " 'VAR_1215',\n",
       " 'VAR_1216',\n",
       " 'VAR_1217',\n",
       " 'VAR_1219',\n",
       " 'VAR_1220',\n",
       " 'VAR_1221',\n",
       " 'VAR_1222',\n",
       " 'VAR_1223',\n",
       " 'VAR_1224',\n",
       " 'VAR_1227',\n",
       " 'VAR_1228',\n",
       " 'VAR_1229',\n",
       " 'VAR_1231',\n",
       " 'VAR_1233',\n",
       " 'VAR_1234',\n",
       " 'VAR_1238',\n",
       " 'VAR_1240',\n",
       " 'VAR_1241',\n",
       " 'VAR_1242',\n",
       " 'VAR_1243',\n",
       " 'VAR_1244',\n",
       " 'VAR_1245',\n",
       " 'VAR_1246',\n",
       " 'VAR_1247',\n",
       " 'VAR_1248',\n",
       " 'VAR_1249',\n",
       " 'VAR_1250',\n",
       " 'VAR_1251',\n",
       " 'VAR_1252',\n",
       " 'VAR_1258',\n",
       " 'VAR_1259',\n",
       " 'VAR_1260',\n",
       " 'VAR_1261',\n",
       " 'VAR_1262',\n",
       " 'VAR_1263',\n",
       " 'VAR_1264',\n",
       " 'VAR_1265',\n",
       " 'VAR_1266',\n",
       " 'VAR_1267',\n",
       " 'VAR_1274',\n",
       " 'VAR_1275',\n",
       " 'VAR_1276',\n",
       " 'VAR_1277',\n",
       " 'VAR_1293',\n",
       " 'VAR_1294',\n",
       " 'VAR_1297',\n",
       " 'VAR_1304',\n",
       " 'VAR_1308',\n",
       " 'VAR_1309',\n",
       " 'VAR_1310',\n",
       " 'VAR_1311',\n",
       " 'VAR_1312',\n",
       " 'VAR_1313',\n",
       " 'VAR_1314',\n",
       " 'VAR_1315',\n",
       " 'VAR_1316',\n",
       " 'VAR_1317',\n",
       " 'VAR_1318',\n",
       " 'VAR_1319',\n",
       " 'VAR_1320',\n",
       " 'VAR_1321',\n",
       " 'VAR_1322',\n",
       " 'VAR_1323',\n",
       " 'VAR_1327',\n",
       " 'VAR_1328',\n",
       " 'VAR_1329',\n",
       " 'VAR_1330',\n",
       " 'VAR_1331',\n",
       " 'VAR_1332',\n",
       " 'VAR_1333',\n",
       " 'VAR_1334',\n",
       " 'VAR_1335',\n",
       " 'VAR_1336',\n",
       " 'VAR_1337',\n",
       " 'VAR_1339',\n",
       " 'VAR_1341',\n",
       " 'VAR_1342',\n",
       " 'VAR_1343',\n",
       " 'VAR_1344',\n",
       " 'VAR_1348',\n",
       " 'VAR_1353',\n",
       " 'VAR_1354',\n",
       " 'VAR_1355',\n",
       " 'VAR_1356',\n",
       " 'VAR_1357',\n",
       " 'VAR_1358',\n",
       " 'VAR_1359',\n",
       " 'VAR_1360',\n",
       " 'VAR_1361',\n",
       " 'VAR_1363',\n",
       " 'VAR_1364',\n",
       " 'VAR_1365',\n",
       " 'VAR_1366',\n",
       " 'VAR_1367',\n",
       " 'VAR_1368',\n",
       " 'VAR_1369',\n",
       " 'VAR_1370',\n",
       " 'VAR_1371',\n",
       " 'VAR_1372',\n",
       " 'VAR_1373',\n",
       " 'VAR_1374',\n",
       " 'VAR_1375',\n",
       " 'VAR_1376',\n",
       " 'VAR_1380',\n",
       " 'VAR_1381',\n",
       " 'VAR_1382',\n",
       " 'VAR_1383',\n",
       " 'VAR_1384',\n",
       " 'VAR_1385',\n",
       " 'VAR_1386',\n",
       " 'VAR_1387',\n",
       " 'VAR_1388',\n",
       " 'VAR_1389',\n",
       " 'VAR_1390',\n",
       " 'VAR_1391',\n",
       " 'VAR_1392',\n",
       " 'VAR_1395',\n",
       " 'VAR_1397',\n",
       " 'VAR_1398',\n",
       " 'VAR_1399',\n",
       " 'VAR_1402',\n",
       " 'VAR_1403',\n",
       " 'VAR_1404',\n",
       " 'VAR_1409',\n",
       " 'VAR_1410',\n",
       " 'VAR_1418',\n",
       " 'VAR_1419',\n",
       " 'VAR_1420',\n",
       " 'VAR_1421',\n",
       " 'VAR_1424',\n",
       " 'VAR_1425',\n",
       " 'VAR_1426',\n",
       " 'VAR_1436',\n",
       " 'VAR_1437',\n",
       " 'VAR_1438',\n",
       " 'VAR_1439',\n",
       " 'VAR_1440',\n",
       " 'VAR_1441',\n",
       " 'VAR_1442',\n",
       " 'VAR_1444',\n",
       " 'VAR_1445',\n",
       " 'VAR_1446',\n",
       " 'VAR_1447',\n",
       " 'VAR_1448',\n",
       " 'VAR_1451',\n",
       " 'VAR_1452',\n",
       " 'VAR_1453',\n",
       " 'VAR_1454',\n",
       " 'VAR_1455',\n",
       " 'VAR_1456',\n",
       " 'VAR_1457',\n",
       " 'VAR_1462',\n",
       " 'VAR_1463',\n",
       " 'VAR_1464',\n",
       " 'VAR_1465',\n",
       " 'VAR_1470',\n",
       " 'VAR_1472',\n",
       " 'VAR_1473',\n",
       " 'VAR_1474',\n",
       " 'VAR_1477',\n",
       " 'VAR_1478',\n",
       " 'VAR_1481',\n",
       " 'VAR_1482',\n",
       " 'VAR_1483',\n",
       " 'VAR_1484',\n",
       " 'VAR_1485',\n",
       " 'VAR_1486',\n",
       " 'VAR_1487',\n",
       " 'VAR_1488',\n",
       " 'VAR_1489',\n",
       " 'VAR_1490',\n",
       " 'VAR_1491',\n",
       " 'VAR_1492',\n",
       " 'VAR_1493',\n",
       " 'VAR_1494',\n",
       " 'VAR_1495',\n",
       " 'VAR_1496',\n",
       " 'VAR_1497',\n",
       " 'VAR_1498',\n",
       " 'VAR_1499',\n",
       " 'VAR_1500',\n",
       " 'VAR_1501',\n",
       " 'VAR_1502',\n",
       " 'VAR_1503',\n",
       " 'VAR_1504',\n",
       " 'VAR_1512',\n",
       " 'VAR_1513',\n",
       " 'VAR_1514',\n",
       " 'VAR_1515',\n",
       " 'VAR_1516',\n",
       " 'VAR_1517',\n",
       " 'VAR_1518',\n",
       " 'VAR_1519',\n",
       " 'VAR_1520',\n",
       " 'VAR_1521',\n",
       " 'VAR_1522',\n",
       " 'VAR_1523',\n",
       " 'VAR_1524',\n",
       " 'VAR_1525',\n",
       " 'VAR_1526',\n",
       " 'VAR_1527',\n",
       " 'VAR_1528',\n",
       " 'VAR_1529',\n",
       " 'VAR_1530',\n",
       " 'VAR_1531',\n",
       " 'VAR_1567',\n",
       " 'VAR_1571',\n",
       " 'VAR_1572',\n",
       " 'VAR_1574',\n",
       " 'VAR_1575',\n",
       " 'VAR_1576',\n",
       " 'VAR_1577',\n",
       " 'VAR_1578',\n",
       " 'VAR_1579',\n",
       " 'VAR_1580',\n",
       " 'VAR_1581',\n",
       " 'VAR_1582',\n",
       " 'VAR_1583',\n",
       " 'VAR_1589',\n",
       " 'VAR_1611',\n",
       " 'VAR_1612',\n",
       " 'VAR_1614',\n",
       " 'VAR_1615',\n",
       " 'VAR_1616',\n",
       " 'VAR_1617',\n",
       " 'VAR_1618',\n",
       " 'VAR_1619',\n",
       " 'VAR_1620',\n",
       " 'VAR_1621',\n",
       " 'VAR_1622',\n",
       " 'VAR_1623',\n",
       " 'VAR_1624',\n",
       " 'VAR_1625',\n",
       " 'VAR_1626',\n",
       " 'VAR_1627',\n",
       " 'VAR_1628',\n",
       " 'VAR_1629',\n",
       " 'VAR_1630',\n",
       " 'VAR_1631',\n",
       " 'VAR_1639',\n",
       " 'VAR_1640',\n",
       " 'VAR_1641',\n",
       " 'VAR_1642',\n",
       " 'VAR_1643',\n",
       " 'VAR_1644',\n",
       " 'VAR_1645',\n",
       " 'VAR_1646',\n",
       " 'VAR_1647',\n",
       " 'VAR_1648',\n",
       " 'VAR_1649',\n",
       " 'VAR_1650',\n",
       " 'VAR_1651',\n",
       " 'VAR_1652',\n",
       " 'VAR_1653',\n",
       " 'VAR_1654',\n",
       " 'VAR_1655',\n",
       " 'VAR_1661',\n",
       " 'VAR_1684',\n",
       " 'VAR_1685',\n",
       " 'VAR_1686',\n",
       " 'VAR_1687',\n",
       " 'VAR_1688',\n",
       " 'VAR_1689',\n",
       " 'VAR_1690',\n",
       " 'VAR_1691',\n",
       " 'VAR_1692',\n",
       " 'VAR_1693',\n",
       " 'VAR_1694',\n",
       " 'VAR_1695',\n",
       " 'VAR_1696',\n",
       " 'VAR_1697',\n",
       " 'VAR_1698',\n",
       " 'VAR_1699',\n",
       " 'VAR_1700',\n",
       " 'VAR_1701',\n",
       " 'VAR_1709',\n",
       " 'VAR_1710',\n",
       " 'VAR_1711',\n",
       " 'VAR_1712',\n",
       " 'VAR_1715',\n",
       " 'VAR_1716',\n",
       " 'VAR_1717',\n",
       " 'VAR_1718',\n",
       " 'VAR_1719',\n",
       " 'VAR_1720',\n",
       " 'VAR_1729',\n",
       " 'VAR_1730',\n",
       " 'VAR_1731',\n",
       " 'VAR_1732',\n",
       " 'VAR_1733',\n",
       " 'VAR_1736',\n",
       " 'VAR_1737',\n",
       " 'VAR_1738',\n",
       " 'VAR_1739',\n",
       " 'VAR_1740',\n",
       " 'VAR_1742',\n",
       " 'VAR_1747',\n",
       " 'VAR_1748',\n",
       " 'VAR_1750',\n",
       " 'VAR_1751',\n",
       " 'VAR_1754',\n",
       " 'VAR_1755',\n",
       " 'VAR_1756',\n",
       " 'VAR_1757',\n",
       " 'VAR_1758',\n",
       " 'VAR_1759',\n",
       " 'VAR_1760',\n",
       " 'VAR_1761',\n",
       " 'VAR_1762',\n",
       " 'VAR_1766',\n",
       " 'VAR_1767',\n",
       " 'VAR_1768',\n",
       " 'VAR_1769',\n",
       " 'VAR_1774',\n",
       " 'VAR_1777',\n",
       " 'VAR_1778',\n",
       " 'VAR_1781',\n",
       " 'VAR_1782',\n",
       " 'VAR_1785',\n",
       " 'VAR_1786',\n",
       " 'VAR_1789',\n",
       " 'VAR_1790',\n",
       " 'VAR_1792',\n",
       " 'VAR_1795',\n",
       " 'VAR_1796',\n",
       " 'VAR_1797',\n",
       " 'VAR_1798',\n",
       " 'VAR_1799',\n",
       " 'VAR_1800',\n",
       " 'VAR_1801',\n",
       " 'VAR_1802',\n",
       " 'VAR_1803',\n",
       " 'VAR_1804',\n",
       " 'VAR_1805',\n",
       " 'VAR_1806',\n",
       " 'VAR_1807',\n",
       " 'VAR_1808',\n",
       " 'VAR_1809',\n",
       " 'VAR_1810',\n",
       " 'VAR_1811',\n",
       " 'VAR_1812',\n",
       " 'VAR_1813',\n",
       " 'VAR_1814',\n",
       " 'VAR_1815',\n",
       " 'VAR_1823',\n",
       " 'VAR_1824',\n",
       " 'VAR_1825',\n",
       " 'VAR_1826',\n",
       " 'VAR_1827',\n",
       " 'VAR_1828',\n",
       " 'VAR_1829',\n",
       " 'VAR_1830',\n",
       " 'VAR_1831',\n",
       " 'VAR_1832',\n",
       " 'VAR_1833',\n",
       " 'VAR_1834',\n",
       " 'VAR_1835',\n",
       " 'VAR_1836',\n",
       " 'VAR_1837',\n",
       " 'VAR_1838',\n",
       " 'VAR_1839',\n",
       " 'VAR_1840',\n",
       " 'VAR_1841',\n",
       " 'VAR_1842',\n",
       " 'VAR_1845',\n",
       " 'VAR_1846',\n",
       " 'VAR_1847',\n",
       " 'VAR_1851',\n",
       " 'VAR_1852',\n",
       " 'VAR_1853',\n",
       " 'VAR_1854',\n",
       " 'VAR_1856',\n",
       " 'VAR_1858',\n",
       " 'VAR_1859',\n",
       " 'VAR_1860',\n",
       " 'VAR_1861',\n",
       " 'VAR_1864',\n",
       " 'VAR_1865',\n",
       " 'VAR_1866',\n",
       " 'VAR_1868',\n",
       " 'VAR_1869',\n",
       " 'VAR_1870',\n",
       " 'VAR_1871',\n",
       " 'VAR_1872',\n",
       " 'VAR_1873',\n",
       " 'VAR_1877',\n",
       " 'VAR_1878',\n",
       " 'VAR_1889',\n",
       " 'VAR_1890',\n",
       " 'VAR_1891',\n",
       " 'VAR_1892',\n",
       " 'VAR_1893',\n",
       " 'VAR_1894',\n",
       " 'VAR_1895',\n",
       " 'VAR_1898',\n",
       " 'VAR_1899',\n",
       " 'VAR_1900',\n",
       " 'VAR_1901',\n",
       " 'VAR_1902',\n",
       " 'VAR_1903',\n",
       " 'VAR_1904',\n",
       " 'VAR_1906',\n",
       " 'VAR_1907',\n",
       " 'VAR_1908',\n",
       " 'VAR_1909',\n",
       " 'VAR_1910',\n",
       " 'VAR_1911',\n",
       " 'VAR_1912',\n",
       " 'VAR_1913',\n",
       " 'VAR_1914',\n",
       " 'VAR_1915',\n",
       " 'VAR_1918',\n",
       " 'VAR_1919',\n",
       " 'VAR_1922',\n",
       " 'VAR_1923',\n",
       " 'VAR_1924',\n",
       " 'VAR_1929',\n",
       " 'VAR_1932',\n",
       " 'VAR_1933']"
      ]
     },
     "execution_count": 22,
     "metadata": {},
     "output_type": "execute_result"
    }
   ],
   "source": [
    "for element in cat_cols4:\n",
    "    if element in num_cols1:\n",
    "        num_cols1.remove(element)\n",
    "\n",
    "len(num_cols1)\n",
    "num_cols1"
   ]
  },
  {
   "cell_type": "code",
   "execution_count": 23,
   "metadata": {},
   "outputs": [
    {
     "name": "stdout",
     "output_type": "stream",
     "text": [
      "No. of Categorical columns:  855\n",
      "No. of Numerical Columns:  1000\n"
     ]
    }
   ],
   "source": [
    "print(\"No. of Categorical columns: \", len(cat_cols4))\n",
    "print(\"No. of Numerical Columns: \", len(num_cols1))"
   ]
  },
  {
   "cell_type": "code",
   "execution_count": 24,
   "metadata": {},
   "outputs": [],
   "source": [
    "X_train=df_traincp"
   ]
  },
  {
   "cell_type": "code",
   "execution_count": 25,
   "metadata": {},
   "outputs": [
    {
     "data": {
      "text/plain": [
       "(145231, 1855)"
      ]
     },
     "execution_count": 25,
     "metadata": {},
     "output_type": "execute_result"
    }
   ],
   "source": [
    "X_train.shape"
   ]
  },
  {
   "cell_type": "code",
   "execution_count": 26,
   "metadata": {},
   "outputs": [
    {
     "data": {
      "text/plain": [
       "['VAR_0002',\n",
       " 'VAR_0003',\n",
       " 'VAR_0004',\n",
       " 'VAR_0006',\n",
       " 'VAR_0007',\n",
       " 'VAR_0013',\n",
       " 'VAR_0014',\n",
       " 'VAR_0034',\n",
       " 'VAR_0035',\n",
       " 'VAR_0050',\n",
       " 'VAR_0051',\n",
       " 'VAR_0059',\n",
       " 'VAR_0060',\n",
       " 'VAR_0061',\n",
       " 'VAR_0062',\n",
       " 'VAR_0063',\n",
       " 'VAR_0064',\n",
       " 'VAR_0065',\n",
       " 'VAR_0066',\n",
       " 'VAR_0067',\n",
       " 'VAR_0068',\n",
       " 'VAR_0069',\n",
       " 'VAR_0070',\n",
       " 'VAR_0071',\n",
       " 'VAR_0072',\n",
       " 'VAR_0076',\n",
       " 'VAR_0077',\n",
       " 'VAR_0078',\n",
       " 'VAR_0079',\n",
       " 'VAR_0080',\n",
       " 'VAR_0081',\n",
       " 'VAR_0082',\n",
       " 'VAR_0083',\n",
       " 'VAR_0084',\n",
       " 'VAR_0085',\n",
       " 'VAR_0086',\n",
       " 'VAR_0087',\n",
       " 'VAR_0088',\n",
       " 'VAR_0089',\n",
       " 'VAR_0135',\n",
       " 'VAR_0136',\n",
       " 'VAR_0137',\n",
       " 'VAR_0147',\n",
       " 'VAR_0149',\n",
       " 'VAR_0154',\n",
       " 'VAR_0155',\n",
       " 'VAR_0161',\n",
       " 'VAR_0164',\n",
       " 'VAR_0165',\n",
       " 'VAR_0171',\n",
       " 'VAR_0174',\n",
       " 'VAR_0175',\n",
       " 'VAR_0198',\n",
       " 'VAR_0201',\n",
       " 'VAR_0224',\n",
       " 'VAR_0225',\n",
       " 'VAR_0227',\n",
       " 'VAR_0228',\n",
       " 'VAR_0233',\n",
       " 'VAR_0234',\n",
       " 'VAR_0235',\n",
       " 'VAR_0238',\n",
       " 'VAR_0241',\n",
       " 'VAR_0242',\n",
       " 'VAR_0243',\n",
       " 'VAR_0254',\n",
       " 'VAR_0255',\n",
       " 'VAR_0257',\n",
       " 'VAR_0263',\n",
       " 'VAR_0266',\n",
       " 'VAR_0267',\n",
       " 'VAR_0270',\n",
       " 'VAR_0272',\n",
       " 'VAR_0273',\n",
       " 'VAR_0279',\n",
       " 'VAR_0280',\n",
       " 'VAR_0282',\n",
       " 'VAR_0288',\n",
       " 'VAR_0289',\n",
       " 'VAR_0293',\n",
       " 'VAR_0295',\n",
       " 'VAR_0296',\n",
       " 'VAR_0297',\n",
       " 'VAR_0298',\n",
       " 'VAR_0299',\n",
       " 'VAR_0300',\n",
       " 'VAR_0301',\n",
       " 'VAR_0302',\n",
       " 'VAR_0303',\n",
       " 'VAR_0304',\n",
       " 'VAR_0309',\n",
       " 'VAR_0310',\n",
       " 'VAR_0313',\n",
       " 'VAR_0315',\n",
       " 'VAR_0316',\n",
       " 'VAR_0317',\n",
       " 'VAR_0318',\n",
       " 'VAR_0319',\n",
       " 'VAR_0320',\n",
       " 'VAR_0321',\n",
       " 'VAR_0322',\n",
       " 'VAR_0323',\n",
       " 'VAR_0324',\n",
       " 'VAR_0329',\n",
       " 'VAR_0330',\n",
       " 'VAR_0331',\n",
       " 'VAR_0333',\n",
       " 'VAR_0334',\n",
       " 'VAR_0335',\n",
       " 'VAR_0336',\n",
       " 'VAR_0337',\n",
       " 'VAR_0338',\n",
       " 'VAR_0340',\n",
       " 'VAR_0341',\n",
       " 'VAR_0361',\n",
       " 'VAR_0364',\n",
       " 'VAR_0366',\n",
       " 'VAR_0367',\n",
       " 'VAR_0368',\n",
       " 'VAR_0369',\n",
       " 'VAR_0370',\n",
       " 'VAR_0403',\n",
       " 'VAR_0406',\n",
       " 'VAR_0407',\n",
       " 'VAR_0408',\n",
       " 'VAR_0410',\n",
       " 'VAR_0417',\n",
       " 'VAR_0418',\n",
       " 'VAR_0419',\n",
       " 'VAR_0425',\n",
       " 'VAR_0427',\n",
       " 'VAR_0434',\n",
       " 'VAR_0435',\n",
       " 'VAR_0436',\n",
       " 'VAR_0439',\n",
       " 'VAR_0440',\n",
       " 'VAR_0441',\n",
       " 'VAR_0442',\n",
       " 'VAR_0443',\n",
       " 'VAR_0444',\n",
       " 'VAR_0447',\n",
       " 'VAR_0448',\n",
       " 'VAR_0465',\n",
       " 'VAR_0474',\n",
       " 'VAR_0475',\n",
       " 'VAR_0481',\n",
       " 'VAR_0492',\n",
       " 'VAR_0514',\n",
       " 'VAR_0515',\n",
       " 'VAR_0516',\n",
       " 'VAR_0517',\n",
       " 'VAR_0535',\n",
       " 'VAR_0536',\n",
       " 'VAR_0540',\n",
       " 'VAR_0541',\n",
       " 'VAR_0542',\n",
       " 'VAR_0543',\n",
       " 'VAR_0544',\n",
       " 'VAR_0550',\n",
       " 'VAR_0551',\n",
       " 'VAR_0552',\n",
       " 'VAR_0553',\n",
       " 'VAR_0554',\n",
       " 'VAR_0555',\n",
       " 'VAR_0556',\n",
       " 'VAR_0557',\n",
       " 'VAR_0558',\n",
       " 'VAR_0559',\n",
       " 'VAR_0560',\n",
       " 'VAR_0561',\n",
       " 'VAR_0570',\n",
       " 'VAR_0571',\n",
       " 'VAR_0573',\n",
       " 'VAR_0574',\n",
       " 'VAR_0575',\n",
       " 'VAR_0576',\n",
       " 'VAR_0577',\n",
       " 'VAR_0578',\n",
       " 'VAR_0579',\n",
       " 'VAR_0583',\n",
       " 'VAR_0584',\n",
       " 'VAR_0585',\n",
       " 'VAR_0586',\n",
       " 'VAR_0587',\n",
       " 'VAR_0588',\n",
       " 'VAR_0589',\n",
       " 'VAR_0591',\n",
       " 'VAR_0592',\n",
       " 'VAR_0593',\n",
       " 'VAR_0594',\n",
       " 'VAR_0595',\n",
       " 'VAR_0596',\n",
       " 'VAR_0597',\n",
       " 'VAR_0598',\n",
       " 'VAR_0599',\n",
       " 'VAR_0600',\n",
       " 'VAR_0601',\n",
       " 'VAR_0602',\n",
       " 'VAR_0604',\n",
       " 'VAR_0607',\n",
       " 'VAR_0608',\n",
       " 'VAR_0609',\n",
       " 'VAR_0610',\n",
       " 'VAR_0611',\n",
       " 'VAR_0612',\n",
       " 'VAR_0613',\n",
       " 'VAR_0614',\n",
       " 'VAR_0615',\n",
       " 'VAR_0616',\n",
       " 'VAR_0617',\n",
       " 'VAR_0618',\n",
       " 'VAR_0620',\n",
       " 'VAR_0623',\n",
       " 'VAR_0625',\n",
       " 'VAR_0627',\n",
       " 'VAR_0628',\n",
       " 'VAR_0629',\n",
       " 'VAR_0630',\n",
       " 'VAR_0631',\n",
       " 'VAR_0632',\n",
       " 'VAR_0633',\n",
       " 'VAR_0634',\n",
       " 'VAR_0635',\n",
       " 'VAR_0636',\n",
       " 'VAR_0641',\n",
       " 'VAR_0642',\n",
       " 'VAR_0643',\n",
       " 'VAR_0644',\n",
       " 'VAR_0645',\n",
       " 'VAR_0646',\n",
       " 'VAR_0648',\n",
       " 'VAR_0649',\n",
       " 'VAR_0650',\n",
       " 'VAR_0651',\n",
       " 'VAR_0652',\n",
       " 'VAR_0653',\n",
       " 'VAR_0654',\n",
       " 'VAR_0655',\n",
       " 'VAR_0656',\n",
       " 'VAR_0659',\n",
       " 'VAR_0660',\n",
       " 'VAR_0661',\n",
       " 'VAR_0669',\n",
       " 'VAR_0670',\n",
       " 'VAR_0671',\n",
       " 'VAR_0672',\n",
       " 'VAR_0673',\n",
       " 'VAR_0674',\n",
       " 'VAR_0675',\n",
       " 'VAR_0676',\n",
       " 'VAR_0677',\n",
       " 'VAR_0680',\n",
       " 'VAR_0681',\n",
       " 'VAR_0682',\n",
       " 'VAR_0683',\n",
       " 'VAR_0684',\n",
       " 'VAR_0685',\n",
       " 'VAR_0687',\n",
       " 'VAR_0688',\n",
       " 'VAR_0691',\n",
       " 'VAR_0692',\n",
       " 'VAR_0693',\n",
       " 'VAR_0694',\n",
       " 'VAR_0695',\n",
       " 'VAR_0696',\n",
       " 'VAR_0697',\n",
       " 'VAR_0698',\n",
       " 'VAR_0699',\n",
       " 'VAR_0700',\n",
       " 'VAR_0701',\n",
       " 'VAR_0702',\n",
       " 'VAR_0704',\n",
       " 'VAR_0705',\n",
       " 'VAR_0706',\n",
       " 'VAR_0707',\n",
       " 'VAR_0708',\n",
       " 'VAR_0709',\n",
       " 'VAR_0711',\n",
       " 'VAR_0712',\n",
       " 'VAR_0713',\n",
       " 'VAR_0715',\n",
       " 'VAR_0716',\n",
       " 'VAR_0717',\n",
       " 'VAR_0719',\n",
       " 'VAR_0720',\n",
       " 'VAR_0721',\n",
       " 'VAR_0722',\n",
       " 'VAR_0723',\n",
       " 'VAR_0725',\n",
       " 'VAR_0726',\n",
       " 'VAR_0728',\n",
       " 'VAR_0751',\n",
       " 'VAR_0752',\n",
       " 'VAR_0757',\n",
       " 'VAR_0768',\n",
       " 'VAR_0774',\n",
       " 'VAR_0778',\n",
       " 'VAR_0781',\n",
       " 'VAR_0785',\n",
       " 'VAR_0790',\n",
       " 'VAR_0791',\n",
       " 'VAR_0792',\n",
       " 'VAR_0793',\n",
       " 'VAR_0794',\n",
       " 'VAR_0796',\n",
       " 'VAR_0801',\n",
       " 'VAR_0806',\n",
       " 'VAR_0811',\n",
       " 'VAR_0812',\n",
       " 'VAR_0813',\n",
       " 'VAR_0814',\n",
       " 'VAR_0815',\n",
       " 'VAR_0820',\n",
       " 'VAR_0821',\n",
       " 'VAR_0822',\n",
       " 'VAR_0823',\n",
       " 'VAR_0824',\n",
       " 'VAR_0825',\n",
       " 'VAR_0826',\n",
       " 'VAR_0829',\n",
       " 'VAR_0830',\n",
       " 'VAR_0831',\n",
       " 'VAR_0834',\n",
       " 'VAR_0835',\n",
       " 'VAR_0836',\n",
       " 'VAR_0843',\n",
       " 'VAR_0844',\n",
       " 'VAR_0845',\n",
       " 'VAR_0853',\n",
       " 'VAR_0854',\n",
       " 'VAR_0855',\n",
       " 'VAR_0856',\n",
       " 'VAR_0857',\n",
       " 'VAR_0858',\n",
       " 'VAR_0859',\n",
       " 'VAR_0860',\n",
       " 'VAR_0861',\n",
       " 'VAR_0862',\n",
       " 'VAR_0863',\n",
       " 'VAR_0864',\n",
       " 'VAR_0865',\n",
       " 'VAR_0866',\n",
       " 'VAR_0867',\n",
       " 'VAR_0868',\n",
       " 'VAR_0869',\n",
       " 'VAR_0870',\n",
       " 'VAR_0871',\n",
       " 'VAR_0872',\n",
       " 'VAR_0873',\n",
       " 'VAR_0874',\n",
       " 'VAR_0875',\n",
       " 'VAR_0876',\n",
       " 'VAR_0877',\n",
       " 'VAR_0878',\n",
       " 'VAR_0879',\n",
       " 'VAR_0880',\n",
       " 'VAR_0881',\n",
       " 'VAR_0882',\n",
       " 'VAR_0883',\n",
       " 'VAR_0884',\n",
       " 'VAR_0885',\n",
       " 'VAR_0886',\n",
       " 'VAR_0887',\n",
       " 'VAR_0888',\n",
       " 'VAR_0889',\n",
       " 'VAR_0890',\n",
       " 'VAR_0891',\n",
       " 'VAR_0892',\n",
       " 'VAR_0893',\n",
       " 'VAR_0894',\n",
       " 'VAR_0895',\n",
       " 'VAR_0896',\n",
       " 'VAR_0897',\n",
       " 'VAR_0898',\n",
       " 'VAR_0899',\n",
       " 'VAR_0900',\n",
       " 'VAR_0901',\n",
       " 'VAR_0902',\n",
       " 'VAR_0903',\n",
       " 'VAR_0904',\n",
       " 'VAR_0905',\n",
       " 'VAR_0906',\n",
       " 'VAR_0907',\n",
       " 'VAR_0908',\n",
       " 'VAR_0909',\n",
       " 'VAR_0910',\n",
       " 'VAR_0911',\n",
       " 'VAR_0912',\n",
       " 'VAR_0913',\n",
       " 'VAR_0914',\n",
       " 'VAR_0915',\n",
       " 'VAR_0916',\n",
       " 'VAR_0917',\n",
       " 'VAR_0918',\n",
       " 'VAR_0919',\n",
       " 'VAR_0920',\n",
       " 'VAR_0921',\n",
       " 'VAR_0922',\n",
       " 'VAR_0925',\n",
       " 'VAR_0926',\n",
       " 'VAR_0929',\n",
       " 'VAR_0930',\n",
       " 'VAR_0931',\n",
       " 'VAR_0934',\n",
       " 'VAR_0935',\n",
       " 'VAR_0936',\n",
       " 'VAR_0937',\n",
       " 'VAR_0938',\n",
       " 'VAR_0939',\n",
       " 'VAR_0942',\n",
       " 'VAR_0943',\n",
       " 'VAR_0944',\n",
       " 'VAR_0945',\n",
       " 'VAR_0946',\n",
       " 'VAR_0949',\n",
       " 'VAR_0950',\n",
       " 'VAR_0951',\n",
       " 'VAR_0952',\n",
       " 'VAR_0954',\n",
       " 'VAR_0955',\n",
       " 'VAR_0956',\n",
       " 'VAR_0957',\n",
       " 'VAR_0958',\n",
       " 'VAR_0959',\n",
       " 'VAR_0961',\n",
       " 'VAR_0962',\n",
       " 'VAR_0963',\n",
       " 'VAR_0964',\n",
       " 'VAR_0966',\n",
       " 'VAR_0968',\n",
       " 'VAR_0969',\n",
       " 'VAR_0970',\n",
       " 'VAR_0976',\n",
       " 'VAR_0977',\n",
       " 'VAR_0978',\n",
       " 'VAR_0979',\n",
       " 'VAR_0980',\n",
       " 'VAR_0981',\n",
       " 'VAR_0982',\n",
       " 'VAR_0983',\n",
       " 'VAR_0984',\n",
       " 'VAR_0985',\n",
       " 'VAR_0989',\n",
       " 'VAR_0990',\n",
       " 'VAR_0991',\n",
       " 'VAR_0992',\n",
       " 'VAR_0993',\n",
       " 'VAR_0996',\n",
       " 'VAR_0997',\n",
       " 'VAR_0998',\n",
       " 'VAR_1000',\n",
       " 'VAR_1001',\n",
       " 'VAR_1004',\n",
       " 'VAR_1005',\n",
       " 'VAR_1006',\n",
       " 'VAR_1007',\n",
       " 'VAR_1008',\n",
       " 'VAR_1011',\n",
       " 'VAR_1014',\n",
       " 'VAR_1016',\n",
       " 'VAR_1018',\n",
       " 'VAR_1019',\n",
       " 'VAR_1020',\n",
       " 'VAR_1022',\n",
       " 'VAR_1023',\n",
       " 'VAR_1028',\n",
       " 'VAR_1029',\n",
       " 'VAR_1030',\n",
       " 'VAR_1031',\n",
       " 'VAR_1032',\n",
       " 'VAR_1034',\n",
       " 'VAR_1035',\n",
       " 'VAR_1036',\n",
       " 'VAR_1038',\n",
       " 'VAR_1039',\n",
       " 'VAR_1040',\n",
       " 'VAR_1043',\n",
       " 'VAR_1044',\n",
       " 'VAR_1046',\n",
       " 'VAR_1047',\n",
       " 'VAR_1048',\n",
       " 'VAR_1049',\n",
       " 'VAR_1054',\n",
       " 'VAR_1072',\n",
       " 'VAR_1074',\n",
       " 'VAR_1075',\n",
       " 'VAR_1076',\n",
       " 'VAR_1077',\n",
       " 'VAR_1078',\n",
       " 'VAR_1079',\n",
       " 'VAR_1081',\n",
       " 'VAR_1082',\n",
       " 'VAR_1083',\n",
       " 'VAR_1084',\n",
       " 'VAR_1085',\n",
       " 'VAR_1086',\n",
       " 'VAR_1087',\n",
       " 'VAR_1088',\n",
       " 'VAR_1089',\n",
       " 'VAR_1090',\n",
       " 'VAR_1091',\n",
       " 'VAR_1092',\n",
       " 'VAR_1093',\n",
       " 'VAR_1094',\n",
       " 'VAR_1095',\n",
       " 'VAR_1096',\n",
       " 'VAR_1097',\n",
       " 'VAR_1110',\n",
       " 'VAR_1111',\n",
       " 'VAR_1112',\n",
       " 'VAR_1113',\n",
       " 'VAR_1114',\n",
       " 'VAR_1115',\n",
       " 'VAR_1116',\n",
       " 'VAR_1117',\n",
       " 'VAR_1118',\n",
       " 'VAR_1119',\n",
       " 'VAR_1120',\n",
       " 'VAR_1121',\n",
       " 'VAR_1122',\n",
       " 'VAR_1123',\n",
       " 'VAR_1124',\n",
       " 'VAR_1125',\n",
       " 'VAR_1126',\n",
       " 'VAR_1127',\n",
       " 'VAR_1128',\n",
       " 'VAR_1129',\n",
       " 'VAR_1130',\n",
       " 'VAR_1131',\n",
       " 'VAR_1132',\n",
       " 'VAR_1133',\n",
       " 'VAR_1134',\n",
       " 'VAR_1135',\n",
       " 'VAR_1136',\n",
       " 'VAR_1137',\n",
       " 'VAR_1138',\n",
       " 'VAR_1139',\n",
       " 'VAR_1140',\n",
       " 'VAR_1141',\n",
       " 'VAR_1142',\n",
       " 'VAR_1143',\n",
       " 'VAR_1144',\n",
       " 'VAR_1145',\n",
       " 'VAR_1146',\n",
       " 'VAR_1147',\n",
       " 'VAR_1148',\n",
       " 'VAR_1149',\n",
       " 'VAR_1150',\n",
       " 'VAR_1151',\n",
       " 'VAR_1152',\n",
       " 'VAR_1153',\n",
       " 'VAR_1154',\n",
       " 'VAR_1156',\n",
       " 'VAR_1157',\n",
       " 'VAR_1159',\n",
       " 'VAR_1160',\n",
       " 'VAR_1169',\n",
       " 'VAR_1170',\n",
       " 'VAR_1171',\n",
       " 'VAR_1172',\n",
       " 'VAR_1173',\n",
       " 'VAR_1174',\n",
       " 'VAR_1178',\n",
       " 'VAR_1179',\n",
       " 'VAR_1180',\n",
       " 'VAR_1181',\n",
       " 'VAR_1182',\n",
       " 'VAR_1183',\n",
       " 'VAR_1184',\n",
       " 'VAR_1185',\n",
       " 'VAR_1191',\n",
       " 'VAR_1199',\n",
       " 'VAR_1200',\n",
       " 'VAR_1201',\n",
       " 'VAR_1202',\n",
       " 'VAR_1203',\n",
       " 'VAR_1204',\n",
       " 'VAR_1208',\n",
       " 'VAR_1209',\n",
       " 'VAR_1210',\n",
       " 'VAR_1211',\n",
       " 'VAR_1215',\n",
       " 'VAR_1216',\n",
       " 'VAR_1217',\n",
       " 'VAR_1219',\n",
       " 'VAR_1220',\n",
       " 'VAR_1221',\n",
       " 'VAR_1222',\n",
       " 'VAR_1223',\n",
       " 'VAR_1224',\n",
       " 'VAR_1227',\n",
       " 'VAR_1228',\n",
       " 'VAR_1229',\n",
       " 'VAR_1231',\n",
       " 'VAR_1233',\n",
       " 'VAR_1234',\n",
       " 'VAR_1238',\n",
       " 'VAR_1240',\n",
       " 'VAR_1241',\n",
       " 'VAR_1242',\n",
       " 'VAR_1243',\n",
       " 'VAR_1244',\n",
       " 'VAR_1245',\n",
       " 'VAR_1246',\n",
       " 'VAR_1247',\n",
       " 'VAR_1248',\n",
       " 'VAR_1249',\n",
       " 'VAR_1250',\n",
       " 'VAR_1251',\n",
       " 'VAR_1252',\n",
       " 'VAR_1258',\n",
       " 'VAR_1259',\n",
       " 'VAR_1260',\n",
       " 'VAR_1261',\n",
       " 'VAR_1262',\n",
       " 'VAR_1263',\n",
       " 'VAR_1264',\n",
       " 'VAR_1265',\n",
       " 'VAR_1266',\n",
       " 'VAR_1267',\n",
       " 'VAR_1274',\n",
       " 'VAR_1275',\n",
       " 'VAR_1276',\n",
       " 'VAR_1277',\n",
       " 'VAR_1293',\n",
       " 'VAR_1294',\n",
       " 'VAR_1297',\n",
       " 'VAR_1304',\n",
       " 'VAR_1308',\n",
       " 'VAR_1309',\n",
       " 'VAR_1310',\n",
       " 'VAR_1311',\n",
       " 'VAR_1312',\n",
       " 'VAR_1313',\n",
       " 'VAR_1314',\n",
       " 'VAR_1315',\n",
       " 'VAR_1316',\n",
       " 'VAR_1317',\n",
       " 'VAR_1318',\n",
       " 'VAR_1319',\n",
       " 'VAR_1320',\n",
       " 'VAR_1321',\n",
       " 'VAR_1322',\n",
       " 'VAR_1323',\n",
       " 'VAR_1327',\n",
       " 'VAR_1328',\n",
       " 'VAR_1329',\n",
       " 'VAR_1330',\n",
       " 'VAR_1331',\n",
       " 'VAR_1332',\n",
       " 'VAR_1333',\n",
       " 'VAR_1334',\n",
       " 'VAR_1335',\n",
       " 'VAR_1336',\n",
       " 'VAR_1337',\n",
       " 'VAR_1339',\n",
       " 'VAR_1341',\n",
       " 'VAR_1342',\n",
       " 'VAR_1343',\n",
       " 'VAR_1344',\n",
       " 'VAR_1348',\n",
       " 'VAR_1353',\n",
       " 'VAR_1354',\n",
       " 'VAR_1355',\n",
       " 'VAR_1356',\n",
       " 'VAR_1357',\n",
       " 'VAR_1358',\n",
       " 'VAR_1359',\n",
       " 'VAR_1360',\n",
       " 'VAR_1361',\n",
       " 'VAR_1363',\n",
       " 'VAR_1364',\n",
       " 'VAR_1365',\n",
       " 'VAR_1366',\n",
       " 'VAR_1367',\n",
       " 'VAR_1368',\n",
       " 'VAR_1369',\n",
       " 'VAR_1370',\n",
       " 'VAR_1371',\n",
       " 'VAR_1372',\n",
       " 'VAR_1373',\n",
       " 'VAR_1374',\n",
       " 'VAR_1375',\n",
       " 'VAR_1376',\n",
       " 'VAR_1380',\n",
       " 'VAR_1381',\n",
       " 'VAR_1382',\n",
       " 'VAR_1383',\n",
       " 'VAR_1384',\n",
       " 'VAR_1385',\n",
       " 'VAR_1386',\n",
       " 'VAR_1387',\n",
       " 'VAR_1388',\n",
       " 'VAR_1389',\n",
       " 'VAR_1390',\n",
       " 'VAR_1391',\n",
       " 'VAR_1392',\n",
       " 'VAR_1395',\n",
       " 'VAR_1397',\n",
       " 'VAR_1398',\n",
       " 'VAR_1399',\n",
       " 'VAR_1402',\n",
       " 'VAR_1403',\n",
       " 'VAR_1404',\n",
       " 'VAR_1409',\n",
       " 'VAR_1410',\n",
       " 'VAR_1418',\n",
       " 'VAR_1419',\n",
       " 'VAR_1420',\n",
       " 'VAR_1421',\n",
       " 'VAR_1424',\n",
       " 'VAR_1425',\n",
       " 'VAR_1426',\n",
       " 'VAR_1436',\n",
       " 'VAR_1437',\n",
       " 'VAR_1438',\n",
       " 'VAR_1439',\n",
       " 'VAR_1440',\n",
       " 'VAR_1441',\n",
       " 'VAR_1442',\n",
       " 'VAR_1444',\n",
       " 'VAR_1445',\n",
       " 'VAR_1446',\n",
       " 'VAR_1447',\n",
       " 'VAR_1448',\n",
       " 'VAR_1451',\n",
       " 'VAR_1452',\n",
       " 'VAR_1453',\n",
       " 'VAR_1454',\n",
       " 'VAR_1455',\n",
       " 'VAR_1456',\n",
       " 'VAR_1457',\n",
       " 'VAR_1462',\n",
       " 'VAR_1463',\n",
       " 'VAR_1464',\n",
       " 'VAR_1465',\n",
       " 'VAR_1470',\n",
       " 'VAR_1472',\n",
       " 'VAR_1473',\n",
       " 'VAR_1474',\n",
       " 'VAR_1477',\n",
       " 'VAR_1478',\n",
       " 'VAR_1481',\n",
       " 'VAR_1482',\n",
       " 'VAR_1483',\n",
       " 'VAR_1484',\n",
       " 'VAR_1485',\n",
       " 'VAR_1486',\n",
       " 'VAR_1487',\n",
       " 'VAR_1488',\n",
       " 'VAR_1489',\n",
       " 'VAR_1490',\n",
       " 'VAR_1491',\n",
       " 'VAR_1492',\n",
       " 'VAR_1493',\n",
       " 'VAR_1494',\n",
       " 'VAR_1495',\n",
       " 'VAR_1496',\n",
       " 'VAR_1497',\n",
       " 'VAR_1498',\n",
       " 'VAR_1499',\n",
       " 'VAR_1500',\n",
       " 'VAR_1501',\n",
       " 'VAR_1502',\n",
       " 'VAR_1503',\n",
       " 'VAR_1504',\n",
       " 'VAR_1512',\n",
       " 'VAR_1513',\n",
       " 'VAR_1514',\n",
       " 'VAR_1515',\n",
       " 'VAR_1516',\n",
       " 'VAR_1517',\n",
       " 'VAR_1518',\n",
       " 'VAR_1519',\n",
       " 'VAR_1520',\n",
       " 'VAR_1521',\n",
       " 'VAR_1522',\n",
       " 'VAR_1523',\n",
       " 'VAR_1524',\n",
       " 'VAR_1525',\n",
       " 'VAR_1526',\n",
       " 'VAR_1527',\n",
       " 'VAR_1528',\n",
       " 'VAR_1529',\n",
       " 'VAR_1530',\n",
       " 'VAR_1531',\n",
       " 'VAR_1567',\n",
       " 'VAR_1571',\n",
       " 'VAR_1572',\n",
       " 'VAR_1574',\n",
       " 'VAR_1575',\n",
       " 'VAR_1576',\n",
       " 'VAR_1577',\n",
       " 'VAR_1578',\n",
       " 'VAR_1579',\n",
       " 'VAR_1580',\n",
       " 'VAR_1581',\n",
       " 'VAR_1582',\n",
       " 'VAR_1583',\n",
       " 'VAR_1589',\n",
       " 'VAR_1611',\n",
       " 'VAR_1612',\n",
       " 'VAR_1614',\n",
       " 'VAR_1615',\n",
       " 'VAR_1616',\n",
       " 'VAR_1617',\n",
       " 'VAR_1618',\n",
       " 'VAR_1619',\n",
       " 'VAR_1620',\n",
       " 'VAR_1621',\n",
       " 'VAR_1622',\n",
       " 'VAR_1623',\n",
       " 'VAR_1624',\n",
       " 'VAR_1625',\n",
       " 'VAR_1626',\n",
       " 'VAR_1627',\n",
       " 'VAR_1628',\n",
       " 'VAR_1629',\n",
       " 'VAR_1630',\n",
       " 'VAR_1631',\n",
       " 'VAR_1639',\n",
       " 'VAR_1640',\n",
       " 'VAR_1641',\n",
       " 'VAR_1642',\n",
       " 'VAR_1643',\n",
       " 'VAR_1644',\n",
       " 'VAR_1645',\n",
       " 'VAR_1646',\n",
       " 'VAR_1647',\n",
       " 'VAR_1648',\n",
       " 'VAR_1649',\n",
       " 'VAR_1650',\n",
       " 'VAR_1651',\n",
       " 'VAR_1652',\n",
       " 'VAR_1653',\n",
       " 'VAR_1654',\n",
       " 'VAR_1655',\n",
       " 'VAR_1661',\n",
       " 'VAR_1684',\n",
       " 'VAR_1685',\n",
       " 'VAR_1686',\n",
       " 'VAR_1687',\n",
       " 'VAR_1688',\n",
       " 'VAR_1689',\n",
       " 'VAR_1690',\n",
       " 'VAR_1691',\n",
       " 'VAR_1692',\n",
       " 'VAR_1693',\n",
       " 'VAR_1694',\n",
       " 'VAR_1695',\n",
       " 'VAR_1696',\n",
       " 'VAR_1697',\n",
       " 'VAR_1698',\n",
       " 'VAR_1699',\n",
       " 'VAR_1700',\n",
       " 'VAR_1701',\n",
       " 'VAR_1709',\n",
       " 'VAR_1710',\n",
       " 'VAR_1711',\n",
       " 'VAR_1712',\n",
       " 'VAR_1715',\n",
       " 'VAR_1716',\n",
       " 'VAR_1717',\n",
       " 'VAR_1718',\n",
       " 'VAR_1719',\n",
       " 'VAR_1720',\n",
       " 'VAR_1729',\n",
       " 'VAR_1730',\n",
       " 'VAR_1731',\n",
       " 'VAR_1732',\n",
       " 'VAR_1733',\n",
       " 'VAR_1736',\n",
       " 'VAR_1737',\n",
       " 'VAR_1738',\n",
       " 'VAR_1739',\n",
       " 'VAR_1740',\n",
       " 'VAR_1742',\n",
       " 'VAR_1747',\n",
       " 'VAR_1748',\n",
       " 'VAR_1750',\n",
       " 'VAR_1751',\n",
       " 'VAR_1754',\n",
       " 'VAR_1755',\n",
       " 'VAR_1756',\n",
       " 'VAR_1757',\n",
       " 'VAR_1758',\n",
       " 'VAR_1759',\n",
       " 'VAR_1760',\n",
       " 'VAR_1761',\n",
       " 'VAR_1762',\n",
       " 'VAR_1766',\n",
       " 'VAR_1767',\n",
       " 'VAR_1768',\n",
       " 'VAR_1769',\n",
       " 'VAR_1774',\n",
       " 'VAR_1777',\n",
       " 'VAR_1778',\n",
       " 'VAR_1781',\n",
       " 'VAR_1782',\n",
       " 'VAR_1785',\n",
       " 'VAR_1786',\n",
       " 'VAR_1789',\n",
       " 'VAR_1790',\n",
       " 'VAR_1792',\n",
       " 'VAR_1795',\n",
       " 'VAR_1796',\n",
       " 'VAR_1797',\n",
       " 'VAR_1798',\n",
       " 'VAR_1799',\n",
       " 'VAR_1800',\n",
       " 'VAR_1801',\n",
       " 'VAR_1802',\n",
       " 'VAR_1803',\n",
       " 'VAR_1804',\n",
       " 'VAR_1805',\n",
       " 'VAR_1806',\n",
       " 'VAR_1807',\n",
       " 'VAR_1808',\n",
       " 'VAR_1809',\n",
       " 'VAR_1810',\n",
       " 'VAR_1811',\n",
       " 'VAR_1812',\n",
       " 'VAR_1813',\n",
       " 'VAR_1814',\n",
       " 'VAR_1815',\n",
       " 'VAR_1823',\n",
       " 'VAR_1824',\n",
       " 'VAR_1825',\n",
       " 'VAR_1826',\n",
       " 'VAR_1827',\n",
       " 'VAR_1828',\n",
       " 'VAR_1829',\n",
       " 'VAR_1830',\n",
       " 'VAR_1831',\n",
       " 'VAR_1832',\n",
       " 'VAR_1833',\n",
       " 'VAR_1834',\n",
       " 'VAR_1835',\n",
       " 'VAR_1836',\n",
       " 'VAR_1837',\n",
       " 'VAR_1838',\n",
       " 'VAR_1839',\n",
       " 'VAR_1840',\n",
       " 'VAR_1841',\n",
       " 'VAR_1842',\n",
       " 'VAR_1845',\n",
       " 'VAR_1846',\n",
       " 'VAR_1847',\n",
       " 'VAR_1851',\n",
       " 'VAR_1852',\n",
       " 'VAR_1853',\n",
       " 'VAR_1854',\n",
       " 'VAR_1856',\n",
       " 'VAR_1858',\n",
       " 'VAR_1859',\n",
       " 'VAR_1860',\n",
       " 'VAR_1861',\n",
       " 'VAR_1864',\n",
       " 'VAR_1865',\n",
       " 'VAR_1866',\n",
       " 'VAR_1868',\n",
       " 'VAR_1869',\n",
       " 'VAR_1870',\n",
       " 'VAR_1871',\n",
       " 'VAR_1872',\n",
       " 'VAR_1873',\n",
       " 'VAR_1877',\n",
       " 'VAR_1878',\n",
       " 'VAR_1889',\n",
       " 'VAR_1890',\n",
       " 'VAR_1891',\n",
       " 'VAR_1892',\n",
       " 'VAR_1893',\n",
       " 'VAR_1894',\n",
       " 'VAR_1895',\n",
       " 'VAR_1898',\n",
       " 'VAR_1899',\n",
       " 'VAR_1900',\n",
       " 'VAR_1901',\n",
       " 'VAR_1902',\n",
       " 'VAR_1903',\n",
       " 'VAR_1904',\n",
       " 'VAR_1906',\n",
       " 'VAR_1907',\n",
       " 'VAR_1908',\n",
       " 'VAR_1909',\n",
       " 'VAR_1910',\n",
       " 'VAR_1911',\n",
       " 'VAR_1912',\n",
       " 'VAR_1913',\n",
       " 'VAR_1914',\n",
       " 'VAR_1915',\n",
       " 'VAR_1918',\n",
       " 'VAR_1919',\n",
       " 'VAR_1922',\n",
       " 'VAR_1923',\n",
       " 'VAR_1924',\n",
       " 'VAR_1929',\n",
       " 'VAR_1932',\n",
       " 'VAR_1933']"
      ]
     },
     "execution_count": 26,
     "metadata": {},
     "output_type": "execute_result"
    },
    {
     "data": {
      "text/plain": [
       "['VAR_0001',\n",
       " 'VAR_0005',\n",
       " 'VAR_0015',\n",
       " 'VAR_0016',\n",
       " 'VAR_0017',\n",
       " 'VAR_0033',\n",
       " 'VAR_0036',\n",
       " 'VAR_0037',\n",
       " 'VAR_0045',\n",
       " 'VAR_0046',\n",
       " 'VAR_0047',\n",
       " 'VAR_0048',\n",
       " 'VAR_0049',\n",
       " 'VAR_0052',\n",
       " 'VAR_0053',\n",
       " 'VAR_0054',\n",
       " 'VAR_0055',\n",
       " 'VAR_0056',\n",
       " 'VAR_0057',\n",
       " 'VAR_0058',\n",
       " 'VAR_0090',\n",
       " 'VAR_0091',\n",
       " 'VAR_0092',\n",
       " 'VAR_0093',\n",
       " 'VAR_0094',\n",
       " 'VAR_0095',\n",
       " 'VAR_0096',\n",
       " 'VAR_0097',\n",
       " 'VAR_0098',\n",
       " 'VAR_0099',\n",
       " 'VAR_0100',\n",
       " 'VAR_0101',\n",
       " 'VAR_0102',\n",
       " 'VAR_0103',\n",
       " 'VAR_0104',\n",
       " 'VAR_0105',\n",
       " 'VAR_0106',\n",
       " 'VAR_0107',\n",
       " 'VAR_0108',\n",
       " 'VAR_0109',\n",
       " 'VAR_0110',\n",
       " 'VAR_0111',\n",
       " 'VAR_0112',\n",
       " 'VAR_0113',\n",
       " 'VAR_0114',\n",
       " 'VAR_0115',\n",
       " 'VAR_0116',\n",
       " 'VAR_0117',\n",
       " 'VAR_0118',\n",
       " 'VAR_0119',\n",
       " 'VAR_0120',\n",
       " 'VAR_0121',\n",
       " 'VAR_0122',\n",
       " 'VAR_0123',\n",
       " 'VAR_0124',\n",
       " 'VAR_0125',\n",
       " 'VAR_0126',\n",
       " 'VAR_0127',\n",
       " 'VAR_0128',\n",
       " 'VAR_0129',\n",
       " 'VAR_0130',\n",
       " 'VAR_0131',\n",
       " 'VAR_0132',\n",
       " 'VAR_0133',\n",
       " 'VAR_0134',\n",
       " 'VAR_0138',\n",
       " 'VAR_0139',\n",
       " 'VAR_0140',\n",
       " 'VAR_0141',\n",
       " 'VAR_0142',\n",
       " 'VAR_0143',\n",
       " 'VAR_0144',\n",
       " 'VAR_0145',\n",
       " 'VAR_0146',\n",
       " 'VAR_0148',\n",
       " 'VAR_0150',\n",
       " 'VAR_0151',\n",
       " 'VAR_0152',\n",
       " 'VAR_0153',\n",
       " 'VAR_0160',\n",
       " 'VAR_0162',\n",
       " 'VAR_0163',\n",
       " 'VAR_0170',\n",
       " 'VAR_0172',\n",
       " 'VAR_0173',\n",
       " 'VAR_0180',\n",
       " 'VAR_0181',\n",
       " 'VAR_0182',\n",
       " 'VAR_0183',\n",
       " 'VAR_0184',\n",
       " 'VAR_0185',\n",
       " 'VAR_0186',\n",
       " 'VAR_0187',\n",
       " 'VAR_0191',\n",
       " 'VAR_0192',\n",
       " 'VAR_0193',\n",
       " 'VAR_0194',\n",
       " 'VAR_0195',\n",
       " 'VAR_0219',\n",
       " 'VAR_0220',\n",
       " 'VAR_0226',\n",
       " 'VAR_0230',\n",
       " 'VAR_0231',\n",
       " 'VAR_0232',\n",
       " 'VAR_0236',\n",
       " 'VAR_0244',\n",
       " 'VAR_0245',\n",
       " 'VAR_0247',\n",
       " 'VAR_0248',\n",
       " 'VAR_0249',\n",
       " 'VAR_0250',\n",
       " 'VAR_0251',\n",
       " 'VAR_0252',\n",
       " 'VAR_0253',\n",
       " 'VAR_0256',\n",
       " 'VAR_0258',\n",
       " 'VAR_0259',\n",
       " 'VAR_0260',\n",
       " 'VAR_0261',\n",
       " 'VAR_0262',\n",
       " 'VAR_0264',\n",
       " 'VAR_0265',\n",
       " 'VAR_0268',\n",
       " 'VAR_0269',\n",
       " 'VAR_0271',\n",
       " 'VAR_0275',\n",
       " 'VAR_0276',\n",
       " 'VAR_0277',\n",
       " 'VAR_0278',\n",
       " 'VAR_0281',\n",
       " 'VAR_0283',\n",
       " 'VAR_0284',\n",
       " 'VAR_0285',\n",
       " 'VAR_0286',\n",
       " 'VAR_0287',\n",
       " 'VAR_0290',\n",
       " 'VAR_0291',\n",
       " 'VAR_0292',\n",
       " 'VAR_0294',\n",
       " 'VAR_0305',\n",
       " 'VAR_0306',\n",
       " 'VAR_0307',\n",
       " 'VAR_0308',\n",
       " 'VAR_0311',\n",
       " 'VAR_0312',\n",
       " 'VAR_0314',\n",
       " 'VAR_0325',\n",
       " 'VAR_0326',\n",
       " 'VAR_0327',\n",
       " 'VAR_0328',\n",
       " 'VAR_0332',\n",
       " 'VAR_0339',\n",
       " 'VAR_0343',\n",
       " 'VAR_0344',\n",
       " 'VAR_0345',\n",
       " 'VAR_0346',\n",
       " 'VAR_0347',\n",
       " 'VAR_0348',\n",
       " 'VAR_0349',\n",
       " 'VAR_0350',\n",
       " 'VAR_0351',\n",
       " 'VAR_0352',\n",
       " 'VAR_0353',\n",
       " 'VAR_0354',\n",
       " 'VAR_0355',\n",
       " 'VAR_0356',\n",
       " 'VAR_0357',\n",
       " 'VAR_0358',\n",
       " 'VAR_0359',\n",
       " 'VAR_0360',\n",
       " 'VAR_0362',\n",
       " 'VAR_0363',\n",
       " 'VAR_0365',\n",
       " 'VAR_0371',\n",
       " 'VAR_0372',\n",
       " 'VAR_0373',\n",
       " 'VAR_0374',\n",
       " 'VAR_0375',\n",
       " 'VAR_0376',\n",
       " 'VAR_0377',\n",
       " 'VAR_0378',\n",
       " 'VAR_0379',\n",
       " 'VAR_0380',\n",
       " 'VAR_0381',\n",
       " 'VAR_0382',\n",
       " 'VAR_0383',\n",
       " 'VAR_0384',\n",
       " 'VAR_0385',\n",
       " 'VAR_0386',\n",
       " 'VAR_0387',\n",
       " 'VAR_0388',\n",
       " 'VAR_0389',\n",
       " 'VAR_0390',\n",
       " 'VAR_0391',\n",
       " 'VAR_0392',\n",
       " 'VAR_0393',\n",
       " 'VAR_0395',\n",
       " 'VAR_0396',\n",
       " 'VAR_0397',\n",
       " 'VAR_0398',\n",
       " 'VAR_0399',\n",
       " 'VAR_0400',\n",
       " 'VAR_0401',\n",
       " 'VAR_0402',\n",
       " 'VAR_0405',\n",
       " 'VAR_0409',\n",
       " 'VAR_0411',\n",
       " 'VAR_0412',\n",
       " 'VAR_0413',\n",
       " 'VAR_0414',\n",
       " 'VAR_0415',\n",
       " 'VAR_0416',\n",
       " 'VAR_0420',\n",
       " 'VAR_0421',\n",
       " 'VAR_0422',\n",
       " 'VAR_0423',\n",
       " 'VAR_0424',\n",
       " 'VAR_0426',\n",
       " 'VAR_0428',\n",
       " 'VAR_0429',\n",
       " 'VAR_0430',\n",
       " 'VAR_0431',\n",
       " 'VAR_0432',\n",
       " 'VAR_0433',\n",
       " 'VAR_0437',\n",
       " 'VAR_0445',\n",
       " 'VAR_0449',\n",
       " 'VAR_0450',\n",
       " 'VAR_0451',\n",
       " 'VAR_0452',\n",
       " 'VAR_0453',\n",
       " 'VAR_0454',\n",
       " 'VAR_0455',\n",
       " 'VAR_0456',\n",
       " 'VAR_0457',\n",
       " 'VAR_0458',\n",
       " 'VAR_0459',\n",
       " 'VAR_0460',\n",
       " 'VAR_0461',\n",
       " 'VAR_0462',\n",
       " 'VAR_0463',\n",
       " 'VAR_0464',\n",
       " 'VAR_0466',\n",
       " 'VAR_0467',\n",
       " 'VAR_0468',\n",
       " 'VAR_0469',\n",
       " 'VAR_0470',\n",
       " 'VAR_0471',\n",
       " 'VAR_0472',\n",
       " 'VAR_0473',\n",
       " 'VAR_0476',\n",
       " 'VAR_0477',\n",
       " 'VAR_0478',\n",
       " 'VAR_0479',\n",
       " 'VAR_0480',\n",
       " 'VAR_0482',\n",
       " 'VAR_0483',\n",
       " 'VAR_0484',\n",
       " 'VAR_0485',\n",
       " 'VAR_0486',\n",
       " 'VAR_0487',\n",
       " 'VAR_0488',\n",
       " 'VAR_0489',\n",
       " 'VAR_0490',\n",
       " 'VAR_0491',\n",
       " 'VAR_0494',\n",
       " 'VAR_0495',\n",
       " 'VAR_0496',\n",
       " 'VAR_0497',\n",
       " 'VAR_0498',\n",
       " 'VAR_0499',\n",
       " 'VAR_0500',\n",
       " 'VAR_0501',\n",
       " 'VAR_0502',\n",
       " 'VAR_0503',\n",
       " 'VAR_0504',\n",
       " 'VAR_0505',\n",
       " 'VAR_0506',\n",
       " 'VAR_0507',\n",
       " 'VAR_0508',\n",
       " 'VAR_0509',\n",
       " 'VAR_0510',\n",
       " 'VAR_0511',\n",
       " 'VAR_0512',\n",
       " 'VAR_0513',\n",
       " 'VAR_0518',\n",
       " 'VAR_0519',\n",
       " 'VAR_0520',\n",
       " 'VAR_0521',\n",
       " 'VAR_0522',\n",
       " 'VAR_0523',\n",
       " 'VAR_0524',\n",
       " 'VAR_0525',\n",
       " 'VAR_0526',\n",
       " 'VAR_0529',\n",
       " 'VAR_0532',\n",
       " 'VAR_0533',\n",
       " 'VAR_0534',\n",
       " 'VAR_0537',\n",
       " 'VAR_0538',\n",
       " 'VAR_0539',\n",
       " 'VAR_0545',\n",
       " 'VAR_0546',\n",
       " 'VAR_0547',\n",
       " 'VAR_0548',\n",
       " 'VAR_0549',\n",
       " 'VAR_0562',\n",
       " 'VAR_0563',\n",
       " 'VAR_0564',\n",
       " 'VAR_0565',\n",
       " 'VAR_0566',\n",
       " 'VAR_0567',\n",
       " 'VAR_0568',\n",
       " 'VAR_0569',\n",
       " 'VAR_0572',\n",
       " 'VAR_0580',\n",
       " 'VAR_0581',\n",
       " 'VAR_0582',\n",
       " 'VAR_0590',\n",
       " 'VAR_0603',\n",
       " 'VAR_0605',\n",
       " 'VAR_0606',\n",
       " 'VAR_0619',\n",
       " 'VAR_0621',\n",
       " 'VAR_0622',\n",
       " 'VAR_0624',\n",
       " 'VAR_0626',\n",
       " 'VAR_0637',\n",
       " 'VAR_0638',\n",
       " 'VAR_0639',\n",
       " 'VAR_0640',\n",
       " 'VAR_0647',\n",
       " 'VAR_0657',\n",
       " 'VAR_0658',\n",
       " 'VAR_0662',\n",
       " 'VAR_0663',\n",
       " 'VAR_0664',\n",
       " 'VAR_0665',\n",
       " 'VAR_0666',\n",
       " 'VAR_0667',\n",
       " 'VAR_0668',\n",
       " 'VAR_0678',\n",
       " 'VAR_0679',\n",
       " 'VAR_0686',\n",
       " 'VAR_0689',\n",
       " 'VAR_0690',\n",
       " 'VAR_0703',\n",
       " 'VAR_0710',\n",
       " 'VAR_0714',\n",
       " 'VAR_0718',\n",
       " 'VAR_0724',\n",
       " 'VAR_0727',\n",
       " 'VAR_0729',\n",
       " 'VAR_0730',\n",
       " 'VAR_0731',\n",
       " 'VAR_0732',\n",
       " 'VAR_0733',\n",
       " 'VAR_0734',\n",
       " 'VAR_0735',\n",
       " 'VAR_0736',\n",
       " 'VAR_0737',\n",
       " 'VAR_0738',\n",
       " 'VAR_0739',\n",
       " 'VAR_0740',\n",
       " 'VAR_0741',\n",
       " 'VAR_0742',\n",
       " 'VAR_0743',\n",
       " 'VAR_0744',\n",
       " 'VAR_0745',\n",
       " 'VAR_0746',\n",
       " 'VAR_0747',\n",
       " 'VAR_0748',\n",
       " 'VAR_0749',\n",
       " 'VAR_0750',\n",
       " 'VAR_0753',\n",
       " 'VAR_0754',\n",
       " 'VAR_0755',\n",
       " 'VAR_0756',\n",
       " 'VAR_0758',\n",
       " 'VAR_0759',\n",
       " 'VAR_0760',\n",
       " 'VAR_0761',\n",
       " 'VAR_0762',\n",
       " 'VAR_0763',\n",
       " 'VAR_0764',\n",
       " 'VAR_0765',\n",
       " 'VAR_0766',\n",
       " 'VAR_0767',\n",
       " 'VAR_0769',\n",
       " 'VAR_0770',\n",
       " 'VAR_0771',\n",
       " 'VAR_0772',\n",
       " 'VAR_0773',\n",
       " 'VAR_0775',\n",
       " 'VAR_0776',\n",
       " 'VAR_0777',\n",
       " 'VAR_0779',\n",
       " 'VAR_0780',\n",
       " 'VAR_0782',\n",
       " 'VAR_0783',\n",
       " 'VAR_0784',\n",
       " 'VAR_0786',\n",
       " 'VAR_0787',\n",
       " 'VAR_0788',\n",
       " 'VAR_0789',\n",
       " 'VAR_0795',\n",
       " 'VAR_0797',\n",
       " 'VAR_0798',\n",
       " 'VAR_0799',\n",
       " 'VAR_0800',\n",
       " 'VAR_0802',\n",
       " 'VAR_0803',\n",
       " 'VAR_0804',\n",
       " 'VAR_0805',\n",
       " 'VAR_0807',\n",
       " 'VAR_0808',\n",
       " 'VAR_0809',\n",
       " 'VAR_0810',\n",
       " 'VAR_0816',\n",
       " 'VAR_0817',\n",
       " 'VAR_0818',\n",
       " 'VAR_0819',\n",
       " 'VAR_0827',\n",
       " 'VAR_0828',\n",
       " 'VAR_0832',\n",
       " 'VAR_0833',\n",
       " 'VAR_0837',\n",
       " 'VAR_0838',\n",
       " 'VAR_0839',\n",
       " 'VAR_0841',\n",
       " 'VAR_0842',\n",
       " 'VAR_0846',\n",
       " 'VAR_0848',\n",
       " 'VAR_0849',\n",
       " 'VAR_0850',\n",
       " 'VAR_0851',\n",
       " 'VAR_0852',\n",
       " 'VAR_0923',\n",
       " 'VAR_0924',\n",
       " 'VAR_0927',\n",
       " 'VAR_0928',\n",
       " 'VAR_0932',\n",
       " 'VAR_0933',\n",
       " 'VAR_0940',\n",
       " 'VAR_0941',\n",
       " 'VAR_0947',\n",
       " 'VAR_0948',\n",
       " 'VAR_0953',\n",
       " 'VAR_0960',\n",
       " 'VAR_0965',\n",
       " 'VAR_0967',\n",
       " 'VAR_0971',\n",
       " 'VAR_0972',\n",
       " 'VAR_0973',\n",
       " 'VAR_0974',\n",
       " 'VAR_0975',\n",
       " 'VAR_0986',\n",
       " 'VAR_0987',\n",
       " 'VAR_0988',\n",
       " 'VAR_0994',\n",
       " 'VAR_0995',\n",
       " 'VAR_0999',\n",
       " 'VAR_1002',\n",
       " 'VAR_1003',\n",
       " 'VAR_1009',\n",
       " 'VAR_1010',\n",
       " 'VAR_1012',\n",
       " 'VAR_1013',\n",
       " 'VAR_1015',\n",
       " 'VAR_1017',\n",
       " 'VAR_1021',\n",
       " 'VAR_1024',\n",
       " 'VAR_1025',\n",
       " 'VAR_1026',\n",
       " 'VAR_1027',\n",
       " 'VAR_1033',\n",
       " 'VAR_1037',\n",
       " 'VAR_1041',\n",
       " 'VAR_1042',\n",
       " 'VAR_1045',\n",
       " 'VAR_1050',\n",
       " 'VAR_1051',\n",
       " 'VAR_1052',\n",
       " 'VAR_1053',\n",
       " 'VAR_1055',\n",
       " 'VAR_1056',\n",
       " 'VAR_1057',\n",
       " 'VAR_1058',\n",
       " 'VAR_1059',\n",
       " 'VAR_1060',\n",
       " 'VAR_1061',\n",
       " 'VAR_1062',\n",
       " 'VAR_1063',\n",
       " 'VAR_1064',\n",
       " 'VAR_1065',\n",
       " 'VAR_1066',\n",
       " 'VAR_1067',\n",
       " 'VAR_1068',\n",
       " 'VAR_1069',\n",
       " 'VAR_1070',\n",
       " 'VAR_1071',\n",
       " 'VAR_1073',\n",
       " 'VAR_1080',\n",
       " 'VAR_1098',\n",
       " 'VAR_1099',\n",
       " 'VAR_1100',\n",
       " 'VAR_1101',\n",
       " 'VAR_1102',\n",
       " 'VAR_1103',\n",
       " 'VAR_1104',\n",
       " 'VAR_1105',\n",
       " 'VAR_1106',\n",
       " 'VAR_1107',\n",
       " 'VAR_1108',\n",
       " 'VAR_1109',\n",
       " 'VAR_1155',\n",
       " 'VAR_1158',\n",
       " 'VAR_1161',\n",
       " 'VAR_1162',\n",
       " 'VAR_1163',\n",
       " 'VAR_1164',\n",
       " 'VAR_1165',\n",
       " 'VAR_1166',\n",
       " 'VAR_1167',\n",
       " 'VAR_1168',\n",
       " 'VAR_1175',\n",
       " 'VAR_1176',\n",
       " 'VAR_1177',\n",
       " 'VAR_1186',\n",
       " 'VAR_1187',\n",
       " 'VAR_1188',\n",
       " 'VAR_1189',\n",
       " 'VAR_1190',\n",
       " 'VAR_1192',\n",
       " 'VAR_1193',\n",
       " 'VAR_1194',\n",
       " 'VAR_1195',\n",
       " 'VAR_1196',\n",
       " 'VAR_1197',\n",
       " 'VAR_1198',\n",
       " 'VAR_1205',\n",
       " 'VAR_1206',\n",
       " 'VAR_1207',\n",
       " 'VAR_1212',\n",
       " 'VAR_1213',\n",
       " 'VAR_1214',\n",
       " 'VAR_1218',\n",
       " 'VAR_1225',\n",
       " 'VAR_1226',\n",
       " 'VAR_1230',\n",
       " 'VAR_1232',\n",
       " 'VAR_1235',\n",
       " 'VAR_1236',\n",
       " 'VAR_1237',\n",
       " 'VAR_1239',\n",
       " 'VAR_1253',\n",
       " 'VAR_1254',\n",
       " 'VAR_1255',\n",
       " 'VAR_1256',\n",
       " 'VAR_1257',\n",
       " 'VAR_1268',\n",
       " 'VAR_1269',\n",
       " 'VAR_1270',\n",
       " 'VAR_1271',\n",
       " 'VAR_1272',\n",
       " 'VAR_1273',\n",
       " 'VAR_1278',\n",
       " 'VAR_1279',\n",
       " 'VAR_1280',\n",
       " 'VAR_1281',\n",
       " 'VAR_1282',\n",
       " 'VAR_1283',\n",
       " 'VAR_1284',\n",
       " 'VAR_1285',\n",
       " 'VAR_1286',\n",
       " 'VAR_1287',\n",
       " 'VAR_1288',\n",
       " 'VAR_1289',\n",
       " 'VAR_1290',\n",
       " 'VAR_1291',\n",
       " 'VAR_1292',\n",
       " 'VAR_1295',\n",
       " 'VAR_1296',\n",
       " 'VAR_1298',\n",
       " 'VAR_1299',\n",
       " 'VAR_1300',\n",
       " 'VAR_1301',\n",
       " 'VAR_1302',\n",
       " 'VAR_1303',\n",
       " 'VAR_1305',\n",
       " 'VAR_1306',\n",
       " 'VAR_1307',\n",
       " 'VAR_1324',\n",
       " 'VAR_1325',\n",
       " 'VAR_1326',\n",
       " 'VAR_1338',\n",
       " 'VAR_1340',\n",
       " 'VAR_1345',\n",
       " 'VAR_1346',\n",
       " 'VAR_1347',\n",
       " 'VAR_1349',\n",
       " 'VAR_1350',\n",
       " 'VAR_1351',\n",
       " 'VAR_1352',\n",
       " 'VAR_1362',\n",
       " 'VAR_1377',\n",
       " 'VAR_1378',\n",
       " 'VAR_1379',\n",
       " 'VAR_1393',\n",
       " 'VAR_1394',\n",
       " 'VAR_1396',\n",
       " 'VAR_1400',\n",
       " 'VAR_1401',\n",
       " 'VAR_1405',\n",
       " 'VAR_1406',\n",
       " 'VAR_1407',\n",
       " 'VAR_1408',\n",
       " 'VAR_1411',\n",
       " 'VAR_1412',\n",
       " 'VAR_1413',\n",
       " 'VAR_1414',\n",
       " 'VAR_1415',\n",
       " 'VAR_1416',\n",
       " 'VAR_1417',\n",
       " 'VAR_1422',\n",
       " 'VAR_1423',\n",
       " 'VAR_1427',\n",
       " 'VAR_1429',\n",
       " 'VAR_1430',\n",
       " 'VAR_1431',\n",
       " 'VAR_1432',\n",
       " 'VAR_1433',\n",
       " 'VAR_1434',\n",
       " 'VAR_1435',\n",
       " 'VAR_1443',\n",
       " 'VAR_1449',\n",
       " 'VAR_1450',\n",
       " 'VAR_1458',\n",
       " 'VAR_1459',\n",
       " 'VAR_1460',\n",
       " 'VAR_1461',\n",
       " 'VAR_1466',\n",
       " 'VAR_1467',\n",
       " 'VAR_1468',\n",
       " 'VAR_1469',\n",
       " 'VAR_1471',\n",
       " 'VAR_1475',\n",
       " 'VAR_1476',\n",
       " 'VAR_1479',\n",
       " 'VAR_1480',\n",
       " 'VAR_1505',\n",
       " 'VAR_1506',\n",
       " 'VAR_1507',\n",
       " 'VAR_1508',\n",
       " 'VAR_1509',\n",
       " 'VAR_1510',\n",
       " 'VAR_1511',\n",
       " 'VAR_1532',\n",
       " 'VAR_1533',\n",
       " 'VAR_1534',\n",
       " 'VAR_1535',\n",
       " 'VAR_1536',\n",
       " 'VAR_1537',\n",
       " 'VAR_1538',\n",
       " 'VAR_1539',\n",
       " 'VAR_1540',\n",
       " 'VAR_1541',\n",
       " 'VAR_1542',\n",
       " 'VAR_1543',\n",
       " 'VAR_1544',\n",
       " 'VAR_1545',\n",
       " 'VAR_1546',\n",
       " 'VAR_1547',\n",
       " 'VAR_1548',\n",
       " 'VAR_1549',\n",
       " 'VAR_1550',\n",
       " 'VAR_1551',\n",
       " 'VAR_1552',\n",
       " 'VAR_1553',\n",
       " 'VAR_1554',\n",
       " 'VAR_1555',\n",
       " 'VAR_1556',\n",
       " 'VAR_1557',\n",
       " 'VAR_1558',\n",
       " 'VAR_1559',\n",
       " 'VAR_1560',\n",
       " 'VAR_1561',\n",
       " 'VAR_1562',\n",
       " 'VAR_1563',\n",
       " 'VAR_1564',\n",
       " 'VAR_1565',\n",
       " 'VAR_1566',\n",
       " 'VAR_1568',\n",
       " 'VAR_1569',\n",
       " 'VAR_1570',\n",
       " 'VAR_1573',\n",
       " 'VAR_1584',\n",
       " 'VAR_1585',\n",
       " 'VAR_1586',\n",
       " 'VAR_1587',\n",
       " 'VAR_1588',\n",
       " 'VAR_1590',\n",
       " 'VAR_1591',\n",
       " 'VAR_1592',\n",
       " 'VAR_1593',\n",
       " 'VAR_1594',\n",
       " 'VAR_1595',\n",
       " 'VAR_1596',\n",
       " 'VAR_1597',\n",
       " 'VAR_1598',\n",
       " 'VAR_1599',\n",
       " 'VAR_1600',\n",
       " 'VAR_1601',\n",
       " 'VAR_1602',\n",
       " 'VAR_1603',\n",
       " 'VAR_1604',\n",
       " 'VAR_1605',\n",
       " 'VAR_1606',\n",
       " 'VAR_1607',\n",
       " 'VAR_1608',\n",
       " 'VAR_1609',\n",
       " 'VAR_1610',\n",
       " 'VAR_1613',\n",
       " 'VAR_1632',\n",
       " 'VAR_1633',\n",
       " 'VAR_1634',\n",
       " 'VAR_1635',\n",
       " 'VAR_1636',\n",
       " 'VAR_1637',\n",
       " 'VAR_1638',\n",
       " 'VAR_1656',\n",
       " 'VAR_1657',\n",
       " 'VAR_1658',\n",
       " 'VAR_1659',\n",
       " 'VAR_1660',\n",
       " 'VAR_1662',\n",
       " 'VAR_1663',\n",
       " 'VAR_1664',\n",
       " 'VAR_1665',\n",
       " 'VAR_1666',\n",
       " 'VAR_1667',\n",
       " 'VAR_1668',\n",
       " 'VAR_1669',\n",
       " 'VAR_1670',\n",
       " 'VAR_1671',\n",
       " 'VAR_1672',\n",
       " 'VAR_1673',\n",
       " 'VAR_1674',\n",
       " 'VAR_1675',\n",
       " 'VAR_1676',\n",
       " 'VAR_1677',\n",
       " 'VAR_1678',\n",
       " 'VAR_1679',\n",
       " 'VAR_1680',\n",
       " 'VAR_1681',\n",
       " 'VAR_1682',\n",
       " 'VAR_1683',\n",
       " 'VAR_1702',\n",
       " 'VAR_1703',\n",
       " 'VAR_1704',\n",
       " 'VAR_1705',\n",
       " 'VAR_1706',\n",
       " 'VAR_1707',\n",
       " 'VAR_1708',\n",
       " 'VAR_1713',\n",
       " 'VAR_1714',\n",
       " 'VAR_1721',\n",
       " 'VAR_1722',\n",
       " 'VAR_1723',\n",
       " 'VAR_1724',\n",
       " 'VAR_1725',\n",
       " 'VAR_1726',\n",
       " 'VAR_1727',\n",
       " 'VAR_1728',\n",
       " 'VAR_1734',\n",
       " 'VAR_1735',\n",
       " 'VAR_1741',\n",
       " 'VAR_1743',\n",
       " 'VAR_1744',\n",
       " 'VAR_1745',\n",
       " 'VAR_1746',\n",
       " 'VAR_1749',\n",
       " 'VAR_1752',\n",
       " 'VAR_1753',\n",
       " 'VAR_1763',\n",
       " 'VAR_1764',\n",
       " 'VAR_1765',\n",
       " 'VAR_1770',\n",
       " 'VAR_1771',\n",
       " 'VAR_1772',\n",
       " 'VAR_1773',\n",
       " 'VAR_1775',\n",
       " 'VAR_1776',\n",
       " 'VAR_1779',\n",
       " 'VAR_1780',\n",
       " 'VAR_1783',\n",
       " 'VAR_1784',\n",
       " 'VAR_1787',\n",
       " 'VAR_1788',\n",
       " 'VAR_1791',\n",
       " 'VAR_1793',\n",
       " 'VAR_1794',\n",
       " 'VAR_1816',\n",
       " 'VAR_1817',\n",
       " 'VAR_1818',\n",
       " 'VAR_1819',\n",
       " 'VAR_1820',\n",
       " 'VAR_1821',\n",
       " 'VAR_1822',\n",
       " 'VAR_1843',\n",
       " 'VAR_1844',\n",
       " 'VAR_1848',\n",
       " 'VAR_1849',\n",
       " 'VAR_1850',\n",
       " 'VAR_1855',\n",
       " 'VAR_1857',\n",
       " 'VAR_1862',\n",
       " 'VAR_1863',\n",
       " 'VAR_1867',\n",
       " 'VAR_1874',\n",
       " 'VAR_1875',\n",
       " 'VAR_1876',\n",
       " 'VAR_1879',\n",
       " 'VAR_1880',\n",
       " 'VAR_1881',\n",
       " 'VAR_1882',\n",
       " 'VAR_1883',\n",
       " 'VAR_1884',\n",
       " 'VAR_1885',\n",
       " 'VAR_1886',\n",
       " 'VAR_1887',\n",
       " 'VAR_1888',\n",
       " 'VAR_1896',\n",
       " 'VAR_1897',\n",
       " 'VAR_1905',\n",
       " 'VAR_1916',\n",
       " 'VAR_1917',\n",
       " 'VAR_1920',\n",
       " 'VAR_1921',\n",
       " 'VAR_1925',\n",
       " 'VAR_1926',\n",
       " 'VAR_1927',\n",
       " 'VAR_1928',\n",
       " 'VAR_1930',\n",
       " 'VAR_1931',\n",
       " 'VAR_1934',\n",
       " 'VAR_0075',\n",
       " 'VAR_0200',\n",
       " 'VAR_0204',\n",
       " 'VAR_0217',\n",
       " 'VAR_0237',\n",
       " 'VAR_0274',\n",
       " 'VAR_0342',\n",
       " 'VAR_0404',\n",
       " 'VAR_0493']"
      ]
     },
     "execution_count": 26,
     "metadata": {},
     "output_type": "execute_result"
    }
   ],
   "source": [
    "num_cols_mean = num_cols1\n",
    "cat_cols_mf = cat_cols4\n",
    "num_cols_mean\n",
    "cat_cols_mf"
   ]
  },
  {
   "cell_type": "code",
   "execution_count": 27,
   "metadata": {},
   "outputs": [
    {
     "data": {
      "text/html": [
       "<div>\n",
       "<style scoped>\n",
       "    .dataframe tbody tr th:only-of-type {\n",
       "        vertical-align: middle;\n",
       "    }\n",
       "\n",
       "    .dataframe tbody tr th {\n",
       "        vertical-align: top;\n",
       "    }\n",
       "\n",
       "    .dataframe thead th {\n",
       "        text-align: right;\n",
       "    }\n",
       "</style>\n",
       "<table border=\"1\" class=\"dataframe\">\n",
       "  <thead>\n",
       "    <tr style=\"text-align: right;\">\n",
       "      <th></th>\n",
       "      <th>VAR_0002</th>\n",
       "      <th>VAR_0003</th>\n",
       "      <th>VAR_0004</th>\n",
       "      <th>VAR_0006</th>\n",
       "      <th>VAR_0007</th>\n",
       "      <th>VAR_0013</th>\n",
       "      <th>VAR_0014</th>\n",
       "      <th>VAR_0034</th>\n",
       "      <th>VAR_0035</th>\n",
       "      <th>VAR_0050</th>\n",
       "      <th>...</th>\n",
       "      <th>VAR_1914</th>\n",
       "      <th>VAR_1915</th>\n",
       "      <th>VAR_1918</th>\n",
       "      <th>VAR_1919</th>\n",
       "      <th>VAR_1922</th>\n",
       "      <th>VAR_1923</th>\n",
       "      <th>VAR_1924</th>\n",
       "      <th>VAR_1929</th>\n",
       "      <th>VAR_1932</th>\n",
       "      <th>VAR_1933</th>\n",
       "    </tr>\n",
       "  </thead>\n",
       "  <tbody>\n",
       "    <tr>\n",
       "      <th>0</th>\n",
       "      <td>224</td>\n",
       "      <td>0</td>\n",
       "      <td>4300</td>\n",
       "      <td>0.0</td>\n",
       "      <td>0.0</td>\n",
       "      <td>0.0</td>\n",
       "      <td>0.0</td>\n",
       "      <td>0.0</td>\n",
       "      <td>0.0</td>\n",
       "      <td>0.0</td>\n",
       "      <td>...</td>\n",
       "      <td>51710</td>\n",
       "      <td>51710</td>\n",
       "      <td>9998</td>\n",
       "      <td>9998</td>\n",
       "      <td>51710</td>\n",
       "      <td>51710</td>\n",
       "      <td>9998</td>\n",
       "      <td>51710</td>\n",
       "      <td>9998</td>\n",
       "      <td>9998</td>\n",
       "    </tr>\n",
       "    <tr>\n",
       "      <th>1</th>\n",
       "      <td>7</td>\n",
       "      <td>53</td>\n",
       "      <td>4448</td>\n",
       "      <td>1.0</td>\n",
       "      <td>0.0</td>\n",
       "      <td>1.0</td>\n",
       "      <td>0.0</td>\n",
       "      <td>0.0</td>\n",
       "      <td>0.0</td>\n",
       "      <td>1.0</td>\n",
       "      <td>...</td>\n",
       "      <td>6125</td>\n",
       "      <td>76</td>\n",
       "      <td>9996</td>\n",
       "      <td>111</td>\n",
       "      <td>51710</td>\n",
       "      <td>51710</td>\n",
       "      <td>9998</td>\n",
       "      <td>51710</td>\n",
       "      <td>9998</td>\n",
       "      <td>9998</td>\n",
       "    </tr>\n",
       "    <tr>\n",
       "      <th>2</th>\n",
       "      <td>116</td>\n",
       "      <td>3</td>\n",
       "      <td>3464</td>\n",
       "      <td>0.0</td>\n",
       "      <td>0.0</td>\n",
       "      <td>0.0</td>\n",
       "      <td>0.0</td>\n",
       "      <td>0.0</td>\n",
       "      <td>0.0</td>\n",
       "      <td>0.0</td>\n",
       "      <td>...</td>\n",
       "      <td>51709</td>\n",
       "      <td>51709</td>\n",
       "      <td>9996</td>\n",
       "      <td>113</td>\n",
       "      <td>51710</td>\n",
       "      <td>51710</td>\n",
       "      <td>9998</td>\n",
       "      <td>51710</td>\n",
       "      <td>9998</td>\n",
       "      <td>9998</td>\n",
       "    </tr>\n",
       "    <tr>\n",
       "      <th>3</th>\n",
       "      <td>240</td>\n",
       "      <td>300</td>\n",
       "      <td>3200</td>\n",
       "      <td>0.0</td>\n",
       "      <td>0.0</td>\n",
       "      <td>0.0</td>\n",
       "      <td>0.0</td>\n",
       "      <td>0.0</td>\n",
       "      <td>0.0</td>\n",
       "      <td>0.0</td>\n",
       "      <td>...</td>\n",
       "      <td>51710</td>\n",
       "      <td>51710</td>\n",
       "      <td>9998</td>\n",
       "      <td>9998</td>\n",
       "      <td>51710</td>\n",
       "      <td>51710</td>\n",
       "      <td>9998</td>\n",
       "      <td>51710</td>\n",
       "      <td>9998</td>\n",
       "      <td>9998</td>\n",
       "    </tr>\n",
       "    <tr>\n",
       "      <th>4</th>\n",
       "      <td>72</td>\n",
       "      <td>261</td>\n",
       "      <td>2000</td>\n",
       "      <td>0.0</td>\n",
       "      <td>0.0</td>\n",
       "      <td>0.0</td>\n",
       "      <td>0.0</td>\n",
       "      <td>0.0</td>\n",
       "      <td>0.0</td>\n",
       "      <td>0.0</td>\n",
       "      <td>...</td>\n",
       "      <td>51710</td>\n",
       "      <td>51710</td>\n",
       "      <td>9998</td>\n",
       "      <td>9998</td>\n",
       "      <td>51710</td>\n",
       "      <td>51710</td>\n",
       "      <td>9998</td>\n",
       "      <td>51710</td>\n",
       "      <td>9998</td>\n",
       "      <td>9998</td>\n",
       "    </tr>\n",
       "    <tr>\n",
       "      <th>...</th>\n",
       "      <td>...</td>\n",
       "      <td>...</td>\n",
       "      <td>...</td>\n",
       "      <td>...</td>\n",
       "      <td>...</td>\n",
       "      <td>...</td>\n",
       "      <td>...</td>\n",
       "      <td>...</td>\n",
       "      <td>...</td>\n",
       "      <td>...</td>\n",
       "      <td>...</td>\n",
       "      <td>...</td>\n",
       "      <td>...</td>\n",
       "      <td>...</td>\n",
       "      <td>...</td>\n",
       "      <td>...</td>\n",
       "      <td>...</td>\n",
       "      <td>...</td>\n",
       "      <td>...</td>\n",
       "      <td>...</td>\n",
       "      <td>...</td>\n",
       "    </tr>\n",
       "    <tr>\n",
       "      <th>145226</th>\n",
       "      <td>276</td>\n",
       "      <td>144</td>\n",
       "      <td>3000</td>\n",
       "      <td>2.0</td>\n",
       "      <td>3.0</td>\n",
       "      <td>2.0</td>\n",
       "      <td>3.0</td>\n",
       "      <td>2.0</td>\n",
       "      <td>2.0</td>\n",
       "      <td>1.0</td>\n",
       "      <td>...</td>\n",
       "      <td>51710</td>\n",
       "      <td>51710</td>\n",
       "      <td>9998</td>\n",
       "      <td>9998</td>\n",
       "      <td>51710</td>\n",
       "      <td>51710</td>\n",
       "      <td>9998</td>\n",
       "      <td>51710</td>\n",
       "      <td>9998</td>\n",
       "      <td>9998</td>\n",
       "    </tr>\n",
       "    <tr>\n",
       "      <th>145227</th>\n",
       "      <td>39</td>\n",
       "      <td>414</td>\n",
       "      <td>2821</td>\n",
       "      <td>3.0</td>\n",
       "      <td>1.0</td>\n",
       "      <td>3.0</td>\n",
       "      <td>1.0</td>\n",
       "      <td>0.0</td>\n",
       "      <td>0.0</td>\n",
       "      <td>2.0</td>\n",
       "      <td>...</td>\n",
       "      <td>30425</td>\n",
       "      <td>342</td>\n",
       "      <td>9996</td>\n",
       "      <td>39</td>\n",
       "      <td>51710</td>\n",
       "      <td>51710</td>\n",
       "      <td>9998</td>\n",
       "      <td>51710</td>\n",
       "      <td>9998</td>\n",
       "      <td>9998</td>\n",
       "    </tr>\n",
       "    <tr>\n",
       "      <th>145228</th>\n",
       "      <td>103</td>\n",
       "      <td>31</td>\n",
       "      <td>2604</td>\n",
       "      <td>1.0</td>\n",
       "      <td>1.0</td>\n",
       "      <td>1.0</td>\n",
       "      <td>1.0</td>\n",
       "      <td>1.0</td>\n",
       "      <td>1.0</td>\n",
       "      <td>1.0</td>\n",
       "      <td>...</td>\n",
       "      <td>51708</td>\n",
       "      <td>51708</td>\n",
       "      <td>55</td>\n",
       "      <td>76</td>\n",
       "      <td>51710</td>\n",
       "      <td>51710</td>\n",
       "      <td>9998</td>\n",
       "      <td>51710</td>\n",
       "      <td>9998</td>\n",
       "      <td>9998</td>\n",
       "    </tr>\n",
       "    <tr>\n",
       "      <th>145229</th>\n",
       "      <td>78</td>\n",
       "      <td>12</td>\n",
       "      <td>4325</td>\n",
       "      <td>0.0</td>\n",
       "      <td>0.0</td>\n",
       "      <td>0.0</td>\n",
       "      <td>0.0</td>\n",
       "      <td>0.0</td>\n",
       "      <td>0.0</td>\n",
       "      <td>0.0</td>\n",
       "      <td>...</td>\n",
       "      <td>51710</td>\n",
       "      <td>51710</td>\n",
       "      <td>9998</td>\n",
       "      <td>9998</td>\n",
       "      <td>51710</td>\n",
       "      <td>51710</td>\n",
       "      <td>9998</td>\n",
       "      <td>51710</td>\n",
       "      <td>9998</td>\n",
       "      <td>9998</td>\n",
       "    </tr>\n",
       "    <tr>\n",
       "      <th>145230</th>\n",
       "      <td>228</td>\n",
       "      <td>120</td>\n",
       "      <td>18500</td>\n",
       "      <td>0.0</td>\n",
       "      <td>0.0</td>\n",
       "      <td>0.0</td>\n",
       "      <td>0.0</td>\n",
       "      <td>0.0</td>\n",
       "      <td>0.0</td>\n",
       "      <td>0.0</td>\n",
       "      <td>...</td>\n",
       "      <td>51710</td>\n",
       "      <td>51710</td>\n",
       "      <td>9998</td>\n",
       "      <td>9998</td>\n",
       "      <td>51710</td>\n",
       "      <td>51710</td>\n",
       "      <td>9998</td>\n",
       "      <td>51710</td>\n",
       "      <td>9998</td>\n",
       "      <td>9998</td>\n",
       "    </tr>\n",
       "  </tbody>\n",
       "</table>\n",
       "<p>145231 rows × 1000 columns</p>\n",
       "</div>"
      ],
      "text/plain": [
       "        VAR_0002  VAR_0003  VAR_0004  VAR_0006  VAR_0007  VAR_0013  VAR_0014  \\\n",
       "0            224         0      4300       0.0       0.0       0.0       0.0   \n",
       "1              7        53      4448       1.0       0.0       1.0       0.0   \n",
       "2            116         3      3464       0.0       0.0       0.0       0.0   \n",
       "3            240       300      3200       0.0       0.0       0.0       0.0   \n",
       "4             72       261      2000       0.0       0.0       0.0       0.0   \n",
       "...          ...       ...       ...       ...       ...       ...       ...   \n",
       "145226       276       144      3000       2.0       3.0       2.0       3.0   \n",
       "145227        39       414      2821       3.0       1.0       3.0       1.0   \n",
       "145228       103        31      2604       1.0       1.0       1.0       1.0   \n",
       "145229        78        12      4325       0.0       0.0       0.0       0.0   \n",
       "145230       228       120     18500       0.0       0.0       0.0       0.0   \n",
       "\n",
       "        VAR_0034  VAR_0035  VAR_0050  ...  VAR_1914  VAR_1915  VAR_1918  \\\n",
       "0            0.0       0.0       0.0  ...     51710     51710      9998   \n",
       "1            0.0       0.0       1.0  ...      6125        76      9996   \n",
       "2            0.0       0.0       0.0  ...     51709     51709      9996   \n",
       "3            0.0       0.0       0.0  ...     51710     51710      9998   \n",
       "4            0.0       0.0       0.0  ...     51710     51710      9998   \n",
       "...          ...       ...       ...  ...       ...       ...       ...   \n",
       "145226       2.0       2.0       1.0  ...     51710     51710      9998   \n",
       "145227       0.0       0.0       2.0  ...     30425       342      9996   \n",
       "145228       1.0       1.0       1.0  ...     51708     51708        55   \n",
       "145229       0.0       0.0       0.0  ...     51710     51710      9998   \n",
       "145230       0.0       0.0       0.0  ...     51710     51710      9998   \n",
       "\n",
       "        VAR_1919  VAR_1922  VAR_1923  VAR_1924  VAR_1929  VAR_1932  VAR_1933  \n",
       "0           9998     51710     51710      9998     51710      9998      9998  \n",
       "1            111     51710     51710      9998     51710      9998      9998  \n",
       "2            113     51710     51710      9998     51710      9998      9998  \n",
       "3           9998     51710     51710      9998     51710      9998      9998  \n",
       "4           9998     51710     51710      9998     51710      9998      9998  \n",
       "...          ...       ...       ...       ...       ...       ...       ...  \n",
       "145226      9998     51710     51710      9998     51710      9998      9998  \n",
       "145227        39     51710     51710      9998     51710      9998      9998  \n",
       "145228        76     51710     51710      9998     51710      9998      9998  \n",
       "145229      9998     51710     51710      9998     51710      9998      9998  \n",
       "145230      9998     51710     51710      9998     51710      9998      9998  \n",
       "\n",
       "[145231 rows x 1000 columns]"
      ]
     },
     "execution_count": 27,
     "metadata": {},
     "output_type": "execute_result"
    },
    {
     "name": "stdout",
     "output_type": "stream",
     "text": [
      "\n"
     ]
    },
    {
     "data": {
      "text/plain": [
       "uint16     852\n",
       "float16    148\n",
       "dtype: int64"
      ]
     },
     "execution_count": 27,
     "metadata": {},
     "output_type": "execute_result"
    },
    {
     "name": "stdout",
     "output_type": "stream",
     "text": [
      "No. of null values in numerical coulmns:  84579\n"
     ]
    },
    {
     "data": {
      "text/plain": [
       "145231"
      ]
     },
     "execution_count": 27,
     "metadata": {},
     "output_type": "execute_result"
    },
    {
     "data": {
      "text/plain": [
       "(145231, 1000)"
      ]
     },
     "execution_count": 27,
     "metadata": {},
     "output_type": "execute_result"
    },
    {
     "data": {
      "text/html": [
       "<div>\n",
       "<style scoped>\n",
       "    .dataframe tbody tr th:only-of-type {\n",
       "        vertical-align: middle;\n",
       "    }\n",
       "\n",
       "    .dataframe tbody tr th {\n",
       "        vertical-align: top;\n",
       "    }\n",
       "\n",
       "    .dataframe thead th {\n",
       "        text-align: right;\n",
       "    }\n",
       "</style>\n",
       "<table border=\"1\" class=\"dataframe\">\n",
       "  <thead>\n",
       "    <tr style=\"text-align: right;\">\n",
       "      <th></th>\n",
       "      <th>VAR_0001</th>\n",
       "      <th>VAR_0005</th>\n",
       "      <th>VAR_0015</th>\n",
       "      <th>VAR_0016</th>\n",
       "      <th>VAR_0017</th>\n",
       "      <th>VAR_0033</th>\n",
       "      <th>VAR_0036</th>\n",
       "      <th>VAR_0037</th>\n",
       "      <th>VAR_0045</th>\n",
       "      <th>VAR_0046</th>\n",
       "      <th>...</th>\n",
       "      <th>VAR_1934</th>\n",
       "      <th>VAR_0075</th>\n",
       "      <th>VAR_0200</th>\n",
       "      <th>VAR_0204</th>\n",
       "      <th>VAR_0217</th>\n",
       "      <th>VAR_0237</th>\n",
       "      <th>VAR_0274</th>\n",
       "      <th>VAR_0342</th>\n",
       "      <th>VAR_0404</th>\n",
       "      <th>VAR_0493</th>\n",
       "    </tr>\n",
       "  </thead>\n",
       "  <tbody>\n",
       "    <tr>\n",
       "      <th>0</th>\n",
       "      <td>H</td>\n",
       "      <td>C</td>\n",
       "      <td>0.0</td>\n",
       "      <td>1.0</td>\n",
       "      <td>0.0</td>\n",
       "      <td>1.0</td>\n",
       "      <td>0.0</td>\n",
       "      <td>0.0</td>\n",
       "      <td>0.0</td>\n",
       "      <td>0.0</td>\n",
       "      <td>...</td>\n",
       "      <td>IAPS</td>\n",
       "      <td>08NOV11:00:00:00</td>\n",
       "      <td>FT LAUDERDALE</td>\n",
       "      <td>29JAN14:21:16:00</td>\n",
       "      <td>08NOV11:02:00:00</td>\n",
       "      <td>FL</td>\n",
       "      <td>FL</td>\n",
       "      <td>CF</td>\n",
       "      <td>CHIEF EXECUTIVE OFFICER</td>\n",
       "      <td>COMMUNITY ASSOCIATION MANAGER</td>\n",
       "    </tr>\n",
       "    <tr>\n",
       "      <th>1</th>\n",
       "      <td>H</td>\n",
       "      <td>B</td>\n",
       "      <td>1.0</td>\n",
       "      <td>2.0</td>\n",
       "      <td>1.0</td>\n",
       "      <td>1.0</td>\n",
       "      <td>0.0</td>\n",
       "      <td>0.0</td>\n",
       "      <td>0.0</td>\n",
       "      <td>0.0</td>\n",
       "      <td>...</td>\n",
       "      <td>IAPS</td>\n",
       "      <td>10NOV11:00:00:00</td>\n",
       "      <td>SANTEE</td>\n",
       "      <td>01FEB14:00:11:00</td>\n",
       "      <td>02OCT12:02:00:00</td>\n",
       "      <td>CA</td>\n",
       "      <td>MI</td>\n",
       "      <td>EC</td>\n",
       "      <td>-1</td>\n",
       "      <td>-1</td>\n",
       "    </tr>\n",
       "    <tr>\n",
       "      <th>2</th>\n",
       "      <td>H</td>\n",
       "      <td>C</td>\n",
       "      <td>0.0</td>\n",
       "      <td>1.0</td>\n",
       "      <td>0.0</td>\n",
       "      <td>1.0</td>\n",
       "      <td>0.0</td>\n",
       "      <td>0.0</td>\n",
       "      <td>0.0</td>\n",
       "      <td>0.0</td>\n",
       "      <td>...</td>\n",
       "      <td>IAPS</td>\n",
       "      <td>13DEC11:00:00:00</td>\n",
       "      <td>REEDSVILLE</td>\n",
       "      <td>30JAN14:15:11:00</td>\n",
       "      <td>13DEC11:02:00:00</td>\n",
       "      <td>WV</td>\n",
       "      <td>WV</td>\n",
       "      <td>UU</td>\n",
       "      <td>-1</td>\n",
       "      <td>-1</td>\n",
       "    </tr>\n",
       "    <tr>\n",
       "      <th>3</th>\n",
       "      <td>H</td>\n",
       "      <td>C</td>\n",
       "      <td>0.0</td>\n",
       "      <td>2.0</td>\n",
       "      <td>0.0</td>\n",
       "      <td>1.0</td>\n",
       "      <td>0.0</td>\n",
       "      <td>0.0</td>\n",
       "      <td>0.0</td>\n",
       "      <td>0.0</td>\n",
       "      <td>...</td>\n",
       "      <td>RCC</td>\n",
       "      <td>23SEP10:00:00:00</td>\n",
       "      <td>LIBERTY</td>\n",
       "      <td>01FEB14:00:07:00</td>\n",
       "      <td>01NOV12:02:00:00</td>\n",
       "      <td>TX</td>\n",
       "      <td>TX</td>\n",
       "      <td>-1</td>\n",
       "      <td>-1</td>\n",
       "      <td>-1</td>\n",
       "    </tr>\n",
       "    <tr>\n",
       "      <th>4</th>\n",
       "      <td>R</td>\n",
       "      <td>N</td>\n",
       "      <td>0.0</td>\n",
       "      <td>1.0</td>\n",
       "      <td>0.0</td>\n",
       "      <td>1.0</td>\n",
       "      <td>0.0</td>\n",
       "      <td>0.0</td>\n",
       "      <td>0.0</td>\n",
       "      <td>0.0</td>\n",
       "      <td>...</td>\n",
       "      <td>BRANCH</td>\n",
       "      <td>15OCT11:00:00:00</td>\n",
       "      <td>FRANKFORT</td>\n",
       "      <td>29JAN14:19:31:00</td>\n",
       "      <td>15OCT11:02:00:00</td>\n",
       "      <td>IL</td>\n",
       "      <td>IL</td>\n",
       "      <td>-1</td>\n",
       "      <td>-1</td>\n",
       "      <td>-1</td>\n",
       "    </tr>\n",
       "    <tr>\n",
       "      <th>...</th>\n",
       "      <td>...</td>\n",
       "      <td>...</td>\n",
       "      <td>...</td>\n",
       "      <td>...</td>\n",
       "      <td>...</td>\n",
       "      <td>...</td>\n",
       "      <td>...</td>\n",
       "      <td>...</td>\n",
       "      <td>...</td>\n",
       "      <td>...</td>\n",
       "      <td>...</td>\n",
       "      <td>...</td>\n",
       "      <td>...</td>\n",
       "      <td>...</td>\n",
       "      <td>...</td>\n",
       "      <td>...</td>\n",
       "      <td>...</td>\n",
       "      <td>...</td>\n",
       "      <td>...</td>\n",
       "      <td>...</td>\n",
       "      <td>...</td>\n",
       "    </tr>\n",
       "    <tr>\n",
       "      <th>145226</th>\n",
       "      <td>H</td>\n",
       "      <td>C</td>\n",
       "      <td>1.0</td>\n",
       "      <td>2.0</td>\n",
       "      <td>1.0</td>\n",
       "      <td>1.0</td>\n",
       "      <td>1.0</td>\n",
       "      <td>1.0</td>\n",
       "      <td>0.0</td>\n",
       "      <td>0.0</td>\n",
       "      <td>...</td>\n",
       "      <td>BRANCH</td>\n",
       "      <td>27APR10:00:00:00</td>\n",
       "      <td>LAFAYETTE</td>\n",
       "      <td>31JAN14:16:36:00</td>\n",
       "      <td>07JUL12:02:00:00</td>\n",
       "      <td>LA</td>\n",
       "      <td>LA</td>\n",
       "      <td>-1</td>\n",
       "      <td>-1</td>\n",
       "      <td>-1</td>\n",
       "    </tr>\n",
       "    <tr>\n",
       "      <th>145227</th>\n",
       "      <td>R</td>\n",
       "      <td>C</td>\n",
       "      <td>5.0</td>\n",
       "      <td>4.0</td>\n",
       "      <td>4.0</td>\n",
       "      <td>1.0</td>\n",
       "      <td>0.0</td>\n",
       "      <td>0.0</td>\n",
       "      <td>0.0</td>\n",
       "      <td>0.0</td>\n",
       "      <td>...</td>\n",
       "      <td>IAPS</td>\n",
       "      <td>22DEC08:00:00:00</td>\n",
       "      <td>GARDENA</td>\n",
       "      <td>30JAN14:23:23:00</td>\n",
       "      <td>24MAY12:02:00:00</td>\n",
       "      <td>CA</td>\n",
       "      <td>CA</td>\n",
       "      <td>BE</td>\n",
       "      <td>-1</td>\n",
       "      <td>-1</td>\n",
       "    </tr>\n",
       "    <tr>\n",
       "      <th>145228</th>\n",
       "      <td>R</td>\n",
       "      <td>B</td>\n",
       "      <td>1.0</td>\n",
       "      <td>1.0</td>\n",
       "      <td>1.0</td>\n",
       "      <td>1.0</td>\n",
       "      <td>1.0</td>\n",
       "      <td>1.0</td>\n",
       "      <td>0.0</td>\n",
       "      <td>0.0</td>\n",
       "      <td>...</td>\n",
       "      <td>BRANCH</td>\n",
       "      <td>29NOV11:00:00:00</td>\n",
       "      <td>COVINA</td>\n",
       "      <td>31JAN14:21:10:00</td>\n",
       "      <td>21AUG12:02:00:00</td>\n",
       "      <td>CA</td>\n",
       "      <td>CA</td>\n",
       "      <td>CC</td>\n",
       "      <td>-1</td>\n",
       "      <td>-1</td>\n",
       "    </tr>\n",
       "    <tr>\n",
       "      <th>145229</th>\n",
       "      <td>H</td>\n",
       "      <td>C</td>\n",
       "      <td>0.0</td>\n",
       "      <td>1.0</td>\n",
       "      <td>0.0</td>\n",
       "      <td>1.0</td>\n",
       "      <td>0.0</td>\n",
       "      <td>0.0</td>\n",
       "      <td>0.0</td>\n",
       "      <td>0.0</td>\n",
       "      <td>...</td>\n",
       "      <td>IAPS</td>\n",
       "      <td>09MAY12:00:00:00</td>\n",
       "      <td>BATAVIA</td>\n",
       "      <td>30JAN14:22:34:00</td>\n",
       "      <td>09MAY12:02:00:00</td>\n",
       "      <td>OH</td>\n",
       "      <td>NaN</td>\n",
       "      <td>NaN</td>\n",
       "      <td>NaN</td>\n",
       "      <td>NaN</td>\n",
       "    </tr>\n",
       "    <tr>\n",
       "      <th>145230</th>\n",
       "      <td>H</td>\n",
       "      <td>B</td>\n",
       "      <td>0.0</td>\n",
       "      <td>1.0</td>\n",
       "      <td>0.0</td>\n",
       "      <td>1.0</td>\n",
       "      <td>0.0</td>\n",
       "      <td>0.0</td>\n",
       "      <td>0.0</td>\n",
       "      <td>0.0</td>\n",
       "      <td>...</td>\n",
       "      <td>IAPS</td>\n",
       "      <td>19SEP12:00:00:00</td>\n",
       "      <td>SHERMAN OAKS</td>\n",
       "      <td>31JAN14:23:11:00</td>\n",
       "      <td>19SEP12:02:00:00</td>\n",
       "      <td>CA</td>\n",
       "      <td>CA</td>\n",
       "      <td>-1</td>\n",
       "      <td>-1</td>\n",
       "      <td>-1</td>\n",
       "    </tr>\n",
       "  </tbody>\n",
       "</table>\n",
       "<p>145231 rows × 855 columns</p>\n",
       "</div>"
      ],
      "text/plain": [
       "       VAR_0001 VAR_0005  VAR_0015  VAR_0016  VAR_0017  VAR_0033  VAR_0036  \\\n",
       "0             H        C       0.0       1.0       0.0       1.0       0.0   \n",
       "1             H        B       1.0       2.0       1.0       1.0       0.0   \n",
       "2             H        C       0.0       1.0       0.0       1.0       0.0   \n",
       "3             H        C       0.0       2.0       0.0       1.0       0.0   \n",
       "4             R        N       0.0       1.0       0.0       1.0       0.0   \n",
       "...         ...      ...       ...       ...       ...       ...       ...   \n",
       "145226        H        C       1.0       2.0       1.0       1.0       1.0   \n",
       "145227        R        C       5.0       4.0       4.0       1.0       0.0   \n",
       "145228        R        B       1.0       1.0       1.0       1.0       1.0   \n",
       "145229        H        C       0.0       1.0       0.0       1.0       0.0   \n",
       "145230        H        B       0.0       1.0       0.0       1.0       0.0   \n",
       "\n",
       "        VAR_0037  VAR_0045  VAR_0046  ...  VAR_1934          VAR_0075  \\\n",
       "0            0.0       0.0       0.0  ...      IAPS  08NOV11:00:00:00   \n",
       "1            0.0       0.0       0.0  ...      IAPS  10NOV11:00:00:00   \n",
       "2            0.0       0.0       0.0  ...      IAPS  13DEC11:00:00:00   \n",
       "3            0.0       0.0       0.0  ...       RCC  23SEP10:00:00:00   \n",
       "4            0.0       0.0       0.0  ...    BRANCH  15OCT11:00:00:00   \n",
       "...          ...       ...       ...  ...       ...               ...   \n",
       "145226       1.0       0.0       0.0  ...    BRANCH  27APR10:00:00:00   \n",
       "145227       0.0       0.0       0.0  ...      IAPS  22DEC08:00:00:00   \n",
       "145228       1.0       0.0       0.0  ...    BRANCH  29NOV11:00:00:00   \n",
       "145229       0.0       0.0       0.0  ...      IAPS  09MAY12:00:00:00   \n",
       "145230       0.0       0.0       0.0  ...      IAPS  19SEP12:00:00:00   \n",
       "\n",
       "             VAR_0200          VAR_0204          VAR_0217  VAR_0237  VAR_0274  \\\n",
       "0       FT LAUDERDALE  29JAN14:21:16:00  08NOV11:02:00:00        FL        FL   \n",
       "1              SANTEE  01FEB14:00:11:00  02OCT12:02:00:00        CA        MI   \n",
       "2          REEDSVILLE  30JAN14:15:11:00  13DEC11:02:00:00        WV        WV   \n",
       "3             LIBERTY  01FEB14:00:07:00  01NOV12:02:00:00        TX        TX   \n",
       "4           FRANKFORT  29JAN14:19:31:00  15OCT11:02:00:00        IL        IL   \n",
       "...               ...               ...               ...       ...       ...   \n",
       "145226      LAFAYETTE  31JAN14:16:36:00  07JUL12:02:00:00        LA        LA   \n",
       "145227        GARDENA  30JAN14:23:23:00  24MAY12:02:00:00        CA        CA   \n",
       "145228         COVINA  31JAN14:21:10:00  21AUG12:02:00:00        CA        CA   \n",
       "145229        BATAVIA  30JAN14:22:34:00  09MAY12:02:00:00        OH       NaN   \n",
       "145230   SHERMAN OAKS  31JAN14:23:11:00  19SEP12:02:00:00        CA        CA   \n",
       "\n",
       "        VAR_0342                 VAR_0404                       VAR_0493  \n",
       "0             CF  CHIEF EXECUTIVE OFFICER  COMMUNITY ASSOCIATION MANAGER  \n",
       "1             EC                       -1                             -1  \n",
       "2             UU                       -1                             -1  \n",
       "3             -1                       -1                             -1  \n",
       "4             -1                       -1                             -1  \n",
       "...          ...                      ...                            ...  \n",
       "145226        -1                       -1                             -1  \n",
       "145227        BE                       -1                             -1  \n",
       "145228        CC                       -1                             -1  \n",
       "145229       NaN                      NaN                            NaN  \n",
       "145230        -1                       -1                             -1  \n",
       "\n",
       "[145231 rows x 855 columns]"
      ]
     },
     "execution_count": 27,
     "metadata": {},
     "output_type": "execute_result"
    },
    {
     "name": "stdout",
     "output_type": "stream",
     "text": [
      "\n"
     ]
    },
    {
     "data": {
      "text/plain": [
       "uint16     550\n",
       "float16    281\n",
       "object      24\n",
       "dtype: int64"
      ]
     },
     "execution_count": 27,
     "metadata": {},
     "output_type": "execute_result"
    },
    {
     "name": "stdout",
     "output_type": "stream",
     "text": [
      "No. of null values in categorical coulmns:  186831\n"
     ]
    },
    {
     "data": {
      "text/plain": [
       "145231"
      ]
     },
     "execution_count": 27,
     "metadata": {},
     "output_type": "execute_result"
    },
    {
     "data": {
      "text/plain": [
       "(145231, 855)"
      ]
     },
     "execution_count": 27,
     "metadata": {},
     "output_type": "execute_result"
    }
   ],
   "source": [
    "X_train[num_cols_mean] # Num dataset, impute by 'mean' strategy\n",
    "print()\n",
    "X_train[num_cols_mean].dtypes.value_counts()\n",
    "print('No. of null values in numerical coulmns: ', X_train[num_cols_mean].isnull().sum().sum())\n",
    "len(X_train[num_cols_mean])\n",
    "X_train[num_cols_mean].shape\n",
    "\n",
    "\n",
    "X_train[cat_cols_mf] # Cat dataset, impute by 'most_frequent' strategy\n",
    "print()\n",
    "X_train[cat_cols_mf].dtypes.value_counts()\n",
    "print('No. of null values in categorical coulmns: ', X_train[cat_cols_mf].isnull().sum().sum())\n",
    "len(X_train[cat_cols_mf])\n",
    "X_train[cat_cols_mf].shape\n",
    "\n"
   ]
  },
  {
   "cell_type": "code",
   "execution_count": 28,
   "metadata": {},
   "outputs": [
    {
     "data": {
      "text/plain": [
       "uint16     1402\n",
       "float16     429\n",
       "object       24\n",
       "dtype: int64"
      ]
     },
     "execution_count": 28,
     "metadata": {},
     "output_type": "execute_result"
    }
   ],
   "source": [
    "X_train.dtypes.value_counts()"
   ]
  },
  {
   "cell_type": "code",
   "execution_count": 29,
   "metadata": {},
   "outputs": [],
   "source": [
    "X_train_c = X_train.copy()"
   ]
  },
  {
   "cell_type": "code",
   "execution_count": 30,
   "metadata": {},
   "outputs": [
    {
     "data": {
      "text/plain": [
       "(145231, 1855)"
      ]
     },
     "execution_count": 30,
     "metadata": {},
     "output_type": "execute_result"
    }
   ],
   "source": [
    "for col in X_train[num_cols_mean]:\n",
    "    X_train[col].fillna(X_train[col].mean(), inplace=True)\n",
    "\n",
    "for col in X_train[cat_cols_mf]:\n",
    "    X_train[col].fillna(X_train[col].mode(), inplace=True)\n",
    "\n",
    "X_train.shape"
   ]
  },
  {
   "cell_type": "code",
   "execution_count": 32,
   "metadata": {},
   "outputs": [
    {
     "data": {
      "text/plain": [
       "(144262, 1855)"
      ]
     },
     "execution_count": 32,
     "metadata": {},
     "output_type": "execute_result"
    },
    {
     "data": {
      "text/plain": [
       "0         0\n",
       "1         1\n",
       "2         0\n",
       "3         0\n",
       "4         0\n",
       "         ..\n",
       "145225    1\n",
       "145226    2\n",
       "145227    3\n",
       "145228    1\n",
       "145230    0\n",
       "Name: VAR_0006, Length: 144262, dtype: int32"
      ]
     },
     "execution_count": 32,
     "metadata": {},
     "output_type": "execute_result"
    },
    {
     "data": {
      "text/plain": [
       "0         0\n",
       "1         0\n",
       "2         0\n",
       "3         0\n",
       "4         0\n",
       "         ..\n",
       "145225    1\n",
       "145226    3\n",
       "145227    1\n",
       "145228    1\n",
       "145230    0\n",
       "Name: VAR_0007, Length: 144262, dtype: int32"
      ]
     },
     "execution_count": 32,
     "metadata": {},
     "output_type": "execute_result"
    },
    {
     "data": {
      "text/plain": [
       "0         0\n",
       "1         1\n",
       "2         0\n",
       "3         0\n",
       "4         0\n",
       "         ..\n",
       "145225    1\n",
       "145226    2\n",
       "145227    3\n",
       "145228    1\n",
       "145230    0\n",
       "Name: VAR_0013, Length: 144262, dtype: int32"
      ]
     },
     "execution_count": 32,
     "metadata": {},
     "output_type": "execute_result"
    },
    {
     "data": {
      "text/plain": [
       "0         0\n",
       "1         0\n",
       "2         0\n",
       "3         0\n",
       "4         0\n",
       "         ..\n",
       "145225    1\n",
       "145226    3\n",
       "145227    1\n",
       "145228    1\n",
       "145230    0\n",
       "Name: VAR_0014, Length: 144262, dtype: int32"
      ]
     },
     "execution_count": 32,
     "metadata": {},
     "output_type": "execute_result"
    },
    {
     "data": {
      "text/plain": [
       "0         0\n",
       "1         0\n",
       "2         0\n",
       "3         0\n",
       "4         0\n",
       "         ..\n",
       "145225    1\n",
       "145226    2\n",
       "145227    0\n",
       "145228    1\n",
       "145230    0\n",
       "Name: VAR_0034, Length: 144262, dtype: int32"
      ]
     },
     "execution_count": 32,
     "metadata": {},
     "output_type": "execute_result"
    },
    {
     "data": {
      "text/plain": [
       "0         0\n",
       "1         0\n",
       "2         0\n",
       "3         0\n",
       "4         0\n",
       "         ..\n",
       "145225    1\n",
       "145226    2\n",
       "145227    0\n",
       "145228    1\n",
       "145230    0\n",
       "Name: VAR_0035, Length: 144262, dtype: int32"
      ]
     },
     "execution_count": 32,
     "metadata": {},
     "output_type": "execute_result"
    },
    {
     "data": {
      "text/plain": [
       "0         0\n",
       "1         1\n",
       "2         0\n",
       "3         0\n",
       "4         0\n",
       "         ..\n",
       "145225    0\n",
       "145226    1\n",
       "145227    2\n",
       "145228    1\n",
       "145230    0\n",
       "Name: VAR_0050, Length: 144262, dtype: int32"
      ]
     },
     "execution_count": 32,
     "metadata": {},
     "output_type": "execute_result"
    },
    {
     "data": {
      "text/plain": [
       "0         0\n",
       "1         1\n",
       "2         0\n",
       "3         1\n",
       "4         0\n",
       "         ..\n",
       "145225    0\n",
       "145226    1\n",
       "145227    2\n",
       "145228    1\n",
       "145230    0\n",
       "Name: VAR_0051, Length: 144262, dtype: int32"
      ]
     },
     "execution_count": 32,
     "metadata": {},
     "output_type": "execute_result"
    },
    {
     "data": {
      "text/plain": [
       "0         1\n",
       "1         1\n",
       "2         1\n",
       "3         1\n",
       "4         1\n",
       "         ..\n",
       "145225    1\n",
       "145226    1\n",
       "145227    1\n",
       "145228    1\n",
       "145230    1\n",
       "Name: VAR_0059, Length: 144262, dtype: int32"
      ]
     },
     "execution_count": 32,
     "metadata": {},
     "output_type": "execute_result"
    },
    {
     "data": {
      "text/plain": [
       "0         1\n",
       "1         2\n",
       "2         1\n",
       "3         1\n",
       "4         1\n",
       "         ..\n",
       "145225    2\n",
       "145226    1\n",
       "145227    1\n",
       "145228    1\n",
       "145230    1\n",
       "Name: VAR_0060, Length: 144262, dtype: int32"
      ]
     },
     "execution_count": 32,
     "metadata": {},
     "output_type": "execute_result"
    },
    {
     "data": {
      "text/plain": [
       "0         1\n",
       "1         2\n",
       "2         1\n",
       "3         1\n",
       "4         1\n",
       "         ..\n",
       "145225    2\n",
       "145226    2\n",
       "145227    1\n",
       "145228    1\n",
       "145230    1\n",
       "Name: VAR_0061, Length: 144262, dtype: int32"
      ]
     },
     "execution_count": 32,
     "metadata": {},
     "output_type": "execute_result"
    },
    {
     "data": {
      "text/plain": [
       "0         1\n",
       "1         2\n",
       "2         1\n",
       "3         1\n",
       "4         1\n",
       "         ..\n",
       "145225    2\n",
       "145226    3\n",
       "145227    1\n",
       "145228    1\n",
       "145230    1\n",
       "Name: VAR_0062, Length: 144262, dtype: int32"
      ]
     },
     "execution_count": 32,
     "metadata": {},
     "output_type": "execute_result"
    },
    {
     "data": {
      "text/plain": [
       "0         1\n",
       "1         3\n",
       "2         1\n",
       "3         1\n",
       "4         1\n",
       "         ..\n",
       "145225    2\n",
       "145226    4\n",
       "145227    6\n",
       "145228    4\n",
       "145230    1\n",
       "Name: VAR_0063, Length: 144262, dtype: int32"
      ]
     },
     "execution_count": 32,
     "metadata": {},
     "output_type": "execute_result"
    },
    {
     "data": {
      "text/plain": [
       "0          1\n",
       "1          3\n",
       "2          1\n",
       "3          1\n",
       "4          1\n",
       "          ..\n",
       "145225     2\n",
       "145226    11\n",
       "145227    11\n",
       "145228     4\n",
       "145230     1\n",
       "Name: VAR_0064, Length: 144262, dtype: int32"
      ]
     },
     "execution_count": 32,
     "metadata": {},
     "output_type": "execute_result"
    },
    {
     "data": {
      "text/plain": [
       "0          1\n",
       "1          3\n",
       "2          1\n",
       "3          1\n",
       "4          1\n",
       "          ..\n",
       "145225     2\n",
       "145226    14\n",
       "145227    20\n",
       "145228     4\n",
       "145230     1\n",
       "Name: VAR_0065, Length: 144262, dtype: int32"
      ]
     },
     "execution_count": 32,
     "metadata": {},
     "output_type": "execute_result"
    },
    {
     "data": {
      "text/plain": [
       "0         0\n",
       "1         0\n",
       "2         0\n",
       "3         0\n",
       "4         0\n",
       "         ..\n",
       "145225    0\n",
       "145226    0\n",
       "145227    2\n",
       "145228    0\n",
       "145230    0\n",
       "Name: VAR_0066, Length: 144262, dtype: int32"
      ]
     },
     "execution_count": 32,
     "metadata": {},
     "output_type": "execute_result"
    },
    {
     "data": {
      "text/plain": [
       "0         0\n",
       "1         0\n",
       "2         0\n",
       "3         0\n",
       "4         0\n",
       "         ..\n",
       "145225    1\n",
       "145226    0\n",
       "145227    2\n",
       "145228    0\n",
       "145230    0\n",
       "Name: VAR_0067, Length: 144262, dtype: int32"
      ]
     },
     "execution_count": 32,
     "metadata": {},
     "output_type": "execute_result"
    },
    {
     "data": {
      "text/plain": [
       "0         0\n",
       "1         0\n",
       "2         0\n",
       "3         0\n",
       "4         0\n",
       "         ..\n",
       "145225    1\n",
       "145226    1\n",
       "145227    2\n",
       "145228    0\n",
       "145230    0\n",
       "Name: VAR_0068, Length: 144262, dtype: int32"
      ]
     },
     "execution_count": 32,
     "metadata": {},
     "output_type": "execute_result"
    },
    {
     "data": {
      "text/plain": [
       "0         0\n",
       "1         0\n",
       "2         0\n",
       "3         0\n",
       "4         0\n",
       "         ..\n",
       "145225    1\n",
       "145226    2\n",
       "145227    2\n",
       "145228    0\n",
       "145230    0\n",
       "Name: VAR_0069, Length: 144262, dtype: int32"
      ]
     },
     "execution_count": 32,
     "metadata": {},
     "output_type": "execute_result"
    },
    {
     "data": {
      "text/plain": [
       "0         0\n",
       "1         0\n",
       "2         0\n",
       "3         0\n",
       "4         0\n",
       "         ..\n",
       "145225    1\n",
       "145226    3\n",
       "145227    6\n",
       "145228    5\n",
       "145230    0\n",
       "Name: VAR_0070, Length: 144262, dtype: int32"
      ]
     },
     "execution_count": 32,
     "metadata": {},
     "output_type": "execute_result"
    },
    {
     "data": {
      "text/plain": [
       "0          0\n",
       "1          0\n",
       "2          0\n",
       "3          0\n",
       "4          0\n",
       "          ..\n",
       "145225     1\n",
       "145226    16\n",
       "145227    14\n",
       "145228     5\n",
       "145230     0\n",
       "Name: VAR_0071, Length: 144262, dtype: int32"
      ]
     },
     "execution_count": 32,
     "metadata": {},
     "output_type": "execute_result"
    },
    {
     "data": {
      "text/plain": [
       "0          0\n",
       "1          0\n",
       "2          0\n",
       "3          0\n",
       "4          0\n",
       "          ..\n",
       "145225     1\n",
       "145226    19\n",
       "145227    22\n",
       "145228     5\n",
       "145230     0\n",
       "Name: VAR_0072, Length: 144262, dtype: int32"
      ]
     },
     "execution_count": 32,
     "metadata": {},
     "output_type": "execute_result"
    },
    {
     "data": {
      "text/plain": [
       "0         1\n",
       "1         1\n",
       "2         1\n",
       "3         1\n",
       "4         1\n",
       "         ..\n",
       "145225    1\n",
       "145226    1\n",
       "145227    3\n",
       "145228    1\n",
       "145230    1\n",
       "Name: VAR_0076, Length: 144262, dtype: int32"
      ]
     },
     "execution_count": 32,
     "metadata": {},
     "output_type": "execute_result"
    },
    {
     "data": {
      "text/plain": [
       "0         1\n",
       "1         2\n",
       "2         1\n",
       "3         1\n",
       "4         1\n",
       "         ..\n",
       "145225    2\n",
       "145226    1\n",
       "145227    3\n",
       "145228    1\n",
       "145230    1\n",
       "Name: VAR_0077, Length: 144262, dtype: int32"
      ]
     },
     "execution_count": 32,
     "metadata": {},
     "output_type": "execute_result"
    },
    {
     "data": {
      "text/plain": [
       "0         1\n",
       "1         2\n",
       "2         1\n",
       "3         1\n",
       "4         1\n",
       "         ..\n",
       "145225    2\n",
       "145226    2\n",
       "145227    3\n",
       "145228    1\n",
       "145230    1\n",
       "Name: VAR_0078, Length: 144262, dtype: int32"
      ]
     },
     "execution_count": 32,
     "metadata": {},
     "output_type": "execute_result"
    },
    {
     "data": {
      "text/plain": [
       "0         1\n",
       "1         2\n",
       "2         1\n",
       "3         1\n",
       "4         1\n",
       "         ..\n",
       "145225    2\n",
       "145226    3\n",
       "145227    3\n",
       "145228    1\n",
       "145230    1\n",
       "Name: VAR_0079, Length: 144262, dtype: int32"
      ]
     },
     "execution_count": 32,
     "metadata": {},
     "output_type": "execute_result"
    },
    {
     "data": {
      "text/plain": [
       "0         1\n",
       "1         3\n",
       "2         1\n",
       "3         1\n",
       "4         1\n",
       "         ..\n",
       "145225    2\n",
       "145226    4\n",
       "145227    8\n",
       "145228    7\n",
       "145230    1\n",
       "Name: VAR_0080, Length: 144262, dtype: int32"
      ]
     },
     "execution_count": 32,
     "metadata": {},
     "output_type": "execute_result"
    },
    {
     "data": {
      "text/plain": [
       "0          1\n",
       "1          3\n",
       "2          1\n",
       "3          1\n",
       "4          1\n",
       "          ..\n",
       "145225     2\n",
       "145226    20\n",
       "145227    16\n",
       "145228     7\n",
       "145230     1\n",
       "Name: VAR_0081, Length: 144262, dtype: int32"
      ]
     },
     "execution_count": 32,
     "metadata": {},
     "output_type": "execute_result"
    },
    {
     "data": {
      "text/plain": [
       "0          1\n",
       "1          3\n",
       "2          1\n",
       "3          1\n",
       "4          1\n",
       "          ..\n",
       "145225     2\n",
       "145226    23\n",
       "145227    25\n",
       "145228     7\n",
       "145230     1\n",
       "Name: VAR_0082, Length: 144262, dtype: int32"
      ]
     },
     "execution_count": 32,
     "metadata": {},
     "output_type": "execute_result"
    },
    {
     "data": {
      "text/plain": [
       "0         1\n",
       "1         1\n",
       "2         1\n",
       "3         1\n",
       "4         1\n",
       "         ..\n",
       "145225    1\n",
       "145226    1\n",
       "145227    3\n",
       "145228    1\n",
       "145230    1\n",
       "Name: VAR_0083, Length: 144262, dtype: int32"
      ]
     },
     "execution_count": 32,
     "metadata": {},
     "output_type": "execute_result"
    },
    {
     "data": {
      "text/plain": [
       "0         1\n",
       "1         2\n",
       "2         1\n",
       "3         1\n",
       "4         1\n",
       "         ..\n",
       "145225    2\n",
       "145226    1\n",
       "145227    3\n",
       "145228    1\n",
       "145230    1\n",
       "Name: VAR_0084, Length: 144262, dtype: int32"
      ]
     },
     "execution_count": 32,
     "metadata": {},
     "output_type": "execute_result"
    },
    {
     "data": {
      "text/plain": [
       "0         1\n",
       "1         2\n",
       "2         1\n",
       "3         1\n",
       "4         1\n",
       "         ..\n",
       "145225    2\n",
       "145226    2\n",
       "145227    3\n",
       "145228    1\n",
       "145230    1\n",
       "Name: VAR_0085, Length: 144262, dtype: int32"
      ]
     },
     "execution_count": 32,
     "metadata": {},
     "output_type": "execute_result"
    },
    {
     "data": {
      "text/plain": [
       "0         1\n",
       "1         2\n",
       "2         1\n",
       "3         1\n",
       "4         1\n",
       "         ..\n",
       "145225    2\n",
       "145226    3\n",
       "145227    3\n",
       "145228    1\n",
       "145230    1\n",
       "Name: VAR_0086, Length: 144262, dtype: int32"
      ]
     },
     "execution_count": 32,
     "metadata": {},
     "output_type": "execute_result"
    },
    {
     "data": {
      "text/plain": [
       "0         1\n",
       "1         4\n",
       "2         1\n",
       "3         1\n",
       "4         1\n",
       "         ..\n",
       "145225    2\n",
       "145226    5\n",
       "145227    8\n",
       "145228    8\n",
       "145230    1\n",
       "Name: VAR_0087, Length: 144262, dtype: int32"
      ]
     },
     "execution_count": 32,
     "metadata": {},
     "output_type": "execute_result"
    },
    {
     "data": {
      "text/plain": [
       "0          1\n",
       "1          4\n",
       "2          1\n",
       "3          1\n",
       "4          1\n",
       "          ..\n",
       "145225     2\n",
       "145226    21\n",
       "145227    18\n",
       "145228     8\n",
       "145230     1\n",
       "Name: VAR_0088, Length: 144262, dtype: int32"
      ]
     },
     "execution_count": 32,
     "metadata": {},
     "output_type": "execute_result"
    },
    {
     "data": {
      "text/plain": [
       "0          1\n",
       "1          4\n",
       "2          1\n",
       "3          2\n",
       "4          1\n",
       "          ..\n",
       "145225     2\n",
       "145226    24\n",
       "145227    27\n",
       "145228     8\n",
       "145230     1\n",
       "Name: VAR_0089, Length: 144262, dtype: int32"
      ]
     },
     "execution_count": 32,
     "metadata": {},
     "output_type": "execute_result"
    },
    {
     "data": {
      "text/plain": [
       "0         0\n",
       "1         0\n",
       "2         0\n",
       "3         0\n",
       "4         0\n",
       "         ..\n",
       "145225    1\n",
       "145226    0\n",
       "145227    1\n",
       "145228    0\n",
       "145230    0\n",
       "Name: VAR_0135, Length: 144262, dtype: int32"
      ]
     },
     "execution_count": 32,
     "metadata": {},
     "output_type": "execute_result"
    },
    {
     "data": {
      "text/plain": [
       "0         0\n",
       "1         1\n",
       "2         0\n",
       "3         0\n",
       "4         0\n",
       "         ..\n",
       "145225    1\n",
       "145226    0\n",
       "145227    1\n",
       "145228    0\n",
       "145230    0\n",
       "Name: VAR_0136, Length: 144262, dtype: int32"
      ]
     },
     "execution_count": 32,
     "metadata": {},
     "output_type": "execute_result"
    },
    {
     "data": {
      "text/plain": [
       "0         0\n",
       "1         1\n",
       "2         0\n",
       "3         0\n",
       "4         0\n",
       "         ..\n",
       "145225    1\n",
       "145226    1\n",
       "145227    1\n",
       "145228    0\n",
       "145230    0\n",
       "Name: VAR_0137, Length: 144262, dtype: int32"
      ]
     },
     "execution_count": 32,
     "metadata": {},
     "output_type": "execute_result"
    },
    {
     "data": {
      "text/plain": [
       "0           0\n",
       "1           0\n",
       "2           0\n",
       "3           0\n",
       "4           0\n",
       "         ... \n",
       "145225      0\n",
       "145226    645\n",
       "145227      0\n",
       "145228      0\n",
       "145230      0\n",
       "Name: VAR_0147, Length: 144262, dtype: int32"
      ]
     },
     "execution_count": 32,
     "metadata": {},
     "output_type": "execute_result"
    },
    {
     "data": {
      "text/plain": [
       "0         0\n",
       "1         0\n",
       "2         0\n",
       "3         0\n",
       "4         0\n",
       "         ..\n",
       "145225    0\n",
       "145226    0\n",
       "145227    0\n",
       "145228    0\n",
       "145230    0\n",
       "Name: VAR_0149, Length: 144262, dtype: int32"
      ]
     },
     "execution_count": 32,
     "metadata": {},
     "output_type": "execute_result"
    },
    {
     "data": {
      "text/plain": [
       "0            0\n",
       "1            0\n",
       "2            0\n",
       "3            0\n",
       "4            0\n",
       "          ... \n",
       "145225       0\n",
       "145226       0\n",
       "145227    1096\n",
       "145228     850\n",
       "145230       0\n",
       "Name: VAR_0154, Length: 144262, dtype: int32"
      ]
     },
     "execution_count": 32,
     "metadata": {},
     "output_type": "execute_result"
    },
    {
     "data": {
      "text/plain": [
       "0         0\n",
       "1         0\n",
       "2         0\n",
       "3         0\n",
       "4         0\n",
       "         ..\n",
       "145225    0\n",
       "145226    0\n",
       "145227    0\n",
       "145228    0\n",
       "145230    0\n",
       "Name: VAR_0155, Length: 144262, dtype: int32"
      ]
     },
     "execution_count": 32,
     "metadata": {},
     "output_type": "execute_result"
    },
    {
     "data": {
      "text/plain": [
       "0         0\n",
       "1         0\n",
       "2         0\n",
       "3         0\n",
       "4         0\n",
       "         ..\n",
       "145225    0\n",
       "145226    5\n",
       "145227    1\n",
       "145228    1\n",
       "145230    0\n",
       "Name: VAR_0161, Length: 144262, dtype: int32"
      ]
     },
     "execution_count": 32,
     "metadata": {},
     "output_type": "execute_result"
    },
    {
     "data": {
      "text/plain": [
       "0           0\n",
       "1           0\n",
       "2           0\n",
       "3           0\n",
       "4           0\n",
       "         ... \n",
       "145225      0\n",
       "145226    645\n",
       "145227      0\n",
       "145228      0\n",
       "145230      0\n",
       "Name: VAR_0164, Length: 144262, dtype: int32"
      ]
     },
     "execution_count": 32,
     "metadata": {},
     "output_type": "execute_result"
    },
    {
     "data": {
      "text/plain": [
       "0           0\n",
       "1           0\n",
       "2           0\n",
       "3           0\n",
       "4           0\n",
       "         ... \n",
       "145225      0\n",
       "145226    645\n",
       "145227      0\n",
       "145228      0\n",
       "145230      0\n",
       "Name: VAR_0165, Length: 144262, dtype: int32"
      ]
     },
     "execution_count": 32,
     "metadata": {},
     "output_type": "execute_result"
    },
    {
     "data": {
      "text/plain": [
       "0         0\n",
       "1         0\n",
       "2         0\n",
       "3         0\n",
       "4         0\n",
       "         ..\n",
       "145225    0\n",
       "145226    5\n",
       "145227    1\n",
       "145228    2\n",
       "145230    0\n",
       "Name: VAR_0171, Length: 144262, dtype: int32"
      ]
     },
     "execution_count": 32,
     "metadata": {},
     "output_type": "execute_result"
    },
    {
     "data": {
      "text/plain": [
       "0            0\n",
       "1            0\n",
       "2            0\n",
       "3            0\n",
       "4            0\n",
       "          ... \n",
       "145225       0\n",
       "145226     645\n",
       "145227    1096\n",
       "145228     850\n",
       "145230       0\n",
       "Name: VAR_0174, Length: 144262, dtype: int32"
      ]
     },
     "execution_count": 32,
     "metadata": {},
     "output_type": "execute_result"
    },
    {
     "data": {
      "text/plain": [
       "0           0\n",
       "1           0\n",
       "2           0\n",
       "3           0\n",
       "4           0\n",
       "         ... \n",
       "145225      0\n",
       "145226    645\n",
       "145227      0\n",
       "145228      0\n",
       "145230      0\n",
       "Name: VAR_0175, Length: 144262, dtype: int32"
      ]
     },
     "execution_count": 32,
     "metadata": {},
     "output_type": "execute_result"
    },
    {
     "data": {
      "text/plain": [
       "0         64\n",
       "1         40\n",
       "2         28\n",
       "3         47\n",
       "4         57\n",
       "          ..\n",
       "145225    26\n",
       "145226    47\n",
       "145227    58\n",
       "145228    30\n",
       "145230    51\n",
       "Name: VAR_0198, Length: 144262, dtype: int32"
      ]
     },
     "execution_count": 32,
     "metadata": {},
     "output_type": "execute_result"
    },
    {
     "data": {
      "text/plain": [
       "0         0\n",
       "1         1\n",
       "2         0\n",
       "3         1\n",
       "4         0\n",
       "         ..\n",
       "145225    0\n",
       "145226    1\n",
       "145227    2\n",
       "145228    1\n",
       "145230    0\n",
       "Name: VAR_0201, Length: 144262, dtype: int32"
      ]
     },
     "execution_count": 32,
     "metadata": {},
     "output_type": "execute_result"
    },
    {
     "data": {
      "text/plain": [
       "0          1\n",
       "1          1\n",
       "2          1\n",
       "3          1\n",
       "4          1\n",
       "          ..\n",
       "145225     1\n",
       "145226     1\n",
       "145227     1\n",
       "145228    11\n",
       "145230     1\n",
       "Name: VAR_0224, Length: 144262, dtype: int32"
      ]
     },
     "execution_count": 32,
     "metadata": {},
     "output_type": "execute_result"
    },
    {
     "data": {
      "text/plain": [
       "0         1\n",
       "1         1\n",
       "2         1\n",
       "3         1\n",
       "4         1\n",
       "         ..\n",
       "145225    1\n",
       "145226    1\n",
       "145227    1\n",
       "145228    1\n",
       "145230    1\n",
       "Name: VAR_0225, Length: 144262, dtype: int32"
      ]
     },
     "execution_count": 32,
     "metadata": {},
     "output_type": "execute_result"
    },
    {
     "ename": "IntCastingNaNError",
     "evalue": "Cannot convert non-finite values (NA or inf) to integer",
     "output_type": "error",
     "traceback": [
      "\u001b[1;31m---------------------------------------------------------------------------\u001b[0m",
      "\u001b[1;31mIntCastingNaNError\u001b[0m                        Traceback (most recent call last)",
      "\u001b[1;32m<ipython-input-32-ae92a25ce0aa>\u001b[0m in \u001b[0;36m<module>\u001b[1;34m\u001b[0m\n\u001b[0;32m      3\u001b[0m \u001b[1;32mfor\u001b[0m \u001b[0mcols\u001b[0m \u001b[1;32min\u001b[0m \u001b[0mX_train\u001b[0m\u001b[1;33m[\u001b[0m\u001b[0mnum_cols_mean\u001b[0m\u001b[1;33m]\u001b[0m\u001b[1;33m:\u001b[0m\u001b[1;33m\u001b[0m\u001b[1;33m\u001b[0m\u001b[0m\n\u001b[0;32m      4\u001b[0m     \u001b[1;32mif\u001b[0m \u001b[0mX_train\u001b[0m\u001b[1;33m[\u001b[0m\u001b[0mcols\u001b[0m\u001b[1;33m]\u001b[0m\u001b[1;33m.\u001b[0m\u001b[0mdtypes\u001b[0m\u001b[1;33m==\u001b[0m\u001b[1;34m'float16'\u001b[0m\u001b[1;33m:\u001b[0m\u001b[1;33m\u001b[0m\u001b[1;33m\u001b[0m\u001b[0m\n\u001b[1;32m----> 5\u001b[1;33m         \u001b[0mX_train\u001b[0m\u001b[1;33m[\u001b[0m\u001b[0mcols\u001b[0m\u001b[1;33m]\u001b[0m\u001b[1;33m.\u001b[0m\u001b[0mastype\u001b[0m\u001b[1;33m(\u001b[0m\u001b[0mint\u001b[0m\u001b[1;33m)\u001b[0m\u001b[1;33m\u001b[0m\u001b[1;33m\u001b[0m\u001b[0m\n\u001b[0m",
      "\u001b[1;32m~\\anaconda3\\lib\\site-packages\\pandas\\core\\generic.py\u001b[0m in \u001b[0;36mastype\u001b[1;34m(self, dtype, copy, errors)\u001b[0m\n\u001b[0;32m   5813\u001b[0m         \u001b[1;32melse\u001b[0m\u001b[1;33m:\u001b[0m\u001b[1;33m\u001b[0m\u001b[1;33m\u001b[0m\u001b[0m\n\u001b[0;32m   5814\u001b[0m             \u001b[1;31m# else, only a single dtype is given\u001b[0m\u001b[1;33m\u001b[0m\u001b[1;33m\u001b[0m\u001b[1;33m\u001b[0m\u001b[0m\n\u001b[1;32m-> 5815\u001b[1;33m             \u001b[0mnew_data\u001b[0m \u001b[1;33m=\u001b[0m \u001b[0mself\u001b[0m\u001b[1;33m.\u001b[0m\u001b[0m_mgr\u001b[0m\u001b[1;33m.\u001b[0m\u001b[0mastype\u001b[0m\u001b[1;33m(\u001b[0m\u001b[0mdtype\u001b[0m\u001b[1;33m=\u001b[0m\u001b[0mdtype\u001b[0m\u001b[1;33m,\u001b[0m \u001b[0mcopy\u001b[0m\u001b[1;33m=\u001b[0m\u001b[0mcopy\u001b[0m\u001b[1;33m,\u001b[0m \u001b[0merrors\u001b[0m\u001b[1;33m=\u001b[0m\u001b[0merrors\u001b[0m\u001b[1;33m)\u001b[0m\u001b[1;33m\u001b[0m\u001b[1;33m\u001b[0m\u001b[0m\n\u001b[0m\u001b[0;32m   5816\u001b[0m             \u001b[1;32mreturn\u001b[0m \u001b[0mself\u001b[0m\u001b[1;33m.\u001b[0m\u001b[0m_constructor\u001b[0m\u001b[1;33m(\u001b[0m\u001b[0mnew_data\u001b[0m\u001b[1;33m)\u001b[0m\u001b[1;33m.\u001b[0m\u001b[0m__finalize__\u001b[0m\u001b[1;33m(\u001b[0m\u001b[0mself\u001b[0m\u001b[1;33m,\u001b[0m \u001b[0mmethod\u001b[0m\u001b[1;33m=\u001b[0m\u001b[1;34m\"astype\"\u001b[0m\u001b[1;33m)\u001b[0m\u001b[1;33m\u001b[0m\u001b[1;33m\u001b[0m\u001b[0m\n\u001b[0;32m   5817\u001b[0m \u001b[1;33m\u001b[0m\u001b[0m\n",
      "\u001b[1;32m~\\anaconda3\\lib\\site-packages\\pandas\\core\\internals\\managers.py\u001b[0m in \u001b[0;36mastype\u001b[1;34m(self, dtype, copy, errors)\u001b[0m\n\u001b[0;32m    416\u001b[0m \u001b[1;33m\u001b[0m\u001b[0m\n\u001b[0;32m    417\u001b[0m     \u001b[1;32mdef\u001b[0m \u001b[0mastype\u001b[0m\u001b[1;33m(\u001b[0m\u001b[0mself\u001b[0m\u001b[1;33m:\u001b[0m \u001b[0mT\u001b[0m\u001b[1;33m,\u001b[0m \u001b[0mdtype\u001b[0m\u001b[1;33m,\u001b[0m \u001b[0mcopy\u001b[0m\u001b[1;33m:\u001b[0m \u001b[0mbool\u001b[0m \u001b[1;33m=\u001b[0m \u001b[1;32mFalse\u001b[0m\u001b[1;33m,\u001b[0m \u001b[0merrors\u001b[0m\u001b[1;33m:\u001b[0m \u001b[0mstr\u001b[0m \u001b[1;33m=\u001b[0m \u001b[1;34m\"raise\"\u001b[0m\u001b[1;33m)\u001b[0m \u001b[1;33m->\u001b[0m \u001b[0mT\u001b[0m\u001b[1;33m:\u001b[0m\u001b[1;33m\u001b[0m\u001b[1;33m\u001b[0m\u001b[0m\n\u001b[1;32m--> 418\u001b[1;33m         \u001b[1;32mreturn\u001b[0m \u001b[0mself\u001b[0m\u001b[1;33m.\u001b[0m\u001b[0mapply\u001b[0m\u001b[1;33m(\u001b[0m\u001b[1;34m\"astype\"\u001b[0m\u001b[1;33m,\u001b[0m \u001b[0mdtype\u001b[0m\u001b[1;33m=\u001b[0m\u001b[0mdtype\u001b[0m\u001b[1;33m,\u001b[0m \u001b[0mcopy\u001b[0m\u001b[1;33m=\u001b[0m\u001b[0mcopy\u001b[0m\u001b[1;33m,\u001b[0m \u001b[0merrors\u001b[0m\u001b[1;33m=\u001b[0m\u001b[0merrors\u001b[0m\u001b[1;33m)\u001b[0m\u001b[1;33m\u001b[0m\u001b[1;33m\u001b[0m\u001b[0m\n\u001b[0m\u001b[0;32m    419\u001b[0m \u001b[1;33m\u001b[0m\u001b[0m\n\u001b[0;32m    420\u001b[0m     def convert(\n",
      "\u001b[1;32m~\\anaconda3\\lib\\site-packages\\pandas\\core\\internals\\managers.py\u001b[0m in \u001b[0;36mapply\u001b[1;34m(self, f, align_keys, ignore_failures, **kwargs)\u001b[0m\n\u001b[0;32m    325\u001b[0m                     \u001b[0mapplied\u001b[0m \u001b[1;33m=\u001b[0m \u001b[0mb\u001b[0m\u001b[1;33m.\u001b[0m\u001b[0mapply\u001b[0m\u001b[1;33m(\u001b[0m\u001b[0mf\u001b[0m\u001b[1;33m,\u001b[0m \u001b[1;33m**\u001b[0m\u001b[0mkwargs\u001b[0m\u001b[1;33m)\u001b[0m\u001b[1;33m\u001b[0m\u001b[1;33m\u001b[0m\u001b[0m\n\u001b[0;32m    326\u001b[0m                 \u001b[1;32melse\u001b[0m\u001b[1;33m:\u001b[0m\u001b[1;33m\u001b[0m\u001b[1;33m\u001b[0m\u001b[0m\n\u001b[1;32m--> 327\u001b[1;33m                     \u001b[0mapplied\u001b[0m \u001b[1;33m=\u001b[0m \u001b[0mgetattr\u001b[0m\u001b[1;33m(\u001b[0m\u001b[0mb\u001b[0m\u001b[1;33m,\u001b[0m \u001b[0mf\u001b[0m\u001b[1;33m)\u001b[0m\u001b[1;33m(\u001b[0m\u001b[1;33m**\u001b[0m\u001b[0mkwargs\u001b[0m\u001b[1;33m)\u001b[0m\u001b[1;33m\u001b[0m\u001b[1;33m\u001b[0m\u001b[0m\n\u001b[0m\u001b[0;32m    328\u001b[0m             \u001b[1;32mexcept\u001b[0m \u001b[1;33m(\u001b[0m\u001b[0mTypeError\u001b[0m\u001b[1;33m,\u001b[0m \u001b[0mNotImplementedError\u001b[0m\u001b[1;33m)\u001b[0m\u001b[1;33m:\u001b[0m\u001b[1;33m\u001b[0m\u001b[1;33m\u001b[0m\u001b[0m\n\u001b[0;32m    329\u001b[0m                 \u001b[1;32mif\u001b[0m \u001b[1;32mnot\u001b[0m \u001b[0mignore_failures\u001b[0m\u001b[1;33m:\u001b[0m\u001b[1;33m\u001b[0m\u001b[1;33m\u001b[0m\u001b[0m\n",
      "\u001b[1;32m~\\anaconda3\\lib\\site-packages\\pandas\\core\\internals\\blocks.py\u001b[0m in \u001b[0;36mastype\u001b[1;34m(self, dtype, copy, errors)\u001b[0m\n\u001b[0;32m    590\u001b[0m         \u001b[0mvalues\u001b[0m \u001b[1;33m=\u001b[0m \u001b[0mself\u001b[0m\u001b[1;33m.\u001b[0m\u001b[0mvalues\u001b[0m\u001b[1;33m\u001b[0m\u001b[1;33m\u001b[0m\u001b[0m\n\u001b[0;32m    591\u001b[0m \u001b[1;33m\u001b[0m\u001b[0m\n\u001b[1;32m--> 592\u001b[1;33m         \u001b[0mnew_values\u001b[0m \u001b[1;33m=\u001b[0m \u001b[0mastype_array_safe\u001b[0m\u001b[1;33m(\u001b[0m\u001b[0mvalues\u001b[0m\u001b[1;33m,\u001b[0m \u001b[0mdtype\u001b[0m\u001b[1;33m,\u001b[0m \u001b[0mcopy\u001b[0m\u001b[1;33m=\u001b[0m\u001b[0mcopy\u001b[0m\u001b[1;33m,\u001b[0m \u001b[0merrors\u001b[0m\u001b[1;33m=\u001b[0m\u001b[0merrors\u001b[0m\u001b[1;33m)\u001b[0m\u001b[1;33m\u001b[0m\u001b[1;33m\u001b[0m\u001b[0m\n\u001b[0m\u001b[0;32m    593\u001b[0m \u001b[1;33m\u001b[0m\u001b[0m\n\u001b[0;32m    594\u001b[0m         \u001b[0mnew_values\u001b[0m \u001b[1;33m=\u001b[0m \u001b[0mmaybe_coerce_values\u001b[0m\u001b[1;33m(\u001b[0m\u001b[0mnew_values\u001b[0m\u001b[1;33m)\u001b[0m\u001b[1;33m\u001b[0m\u001b[1;33m\u001b[0m\u001b[0m\n",
      "\u001b[1;32m~\\anaconda3\\lib\\site-packages\\pandas\\core\\dtypes\\cast.py\u001b[0m in \u001b[0;36mastype_array_safe\u001b[1;34m(values, dtype, copy, errors)\u001b[0m\n\u001b[0;32m   1307\u001b[0m \u001b[1;33m\u001b[0m\u001b[0m\n\u001b[0;32m   1308\u001b[0m     \u001b[1;32mtry\u001b[0m\u001b[1;33m:\u001b[0m\u001b[1;33m\u001b[0m\u001b[1;33m\u001b[0m\u001b[0m\n\u001b[1;32m-> 1309\u001b[1;33m         \u001b[0mnew_values\u001b[0m \u001b[1;33m=\u001b[0m \u001b[0mastype_array\u001b[0m\u001b[1;33m(\u001b[0m\u001b[0mvalues\u001b[0m\u001b[1;33m,\u001b[0m \u001b[0mdtype\u001b[0m\u001b[1;33m,\u001b[0m \u001b[0mcopy\u001b[0m\u001b[1;33m=\u001b[0m\u001b[0mcopy\u001b[0m\u001b[1;33m)\u001b[0m\u001b[1;33m\u001b[0m\u001b[1;33m\u001b[0m\u001b[0m\n\u001b[0m\u001b[0;32m   1310\u001b[0m     \u001b[1;32mexcept\u001b[0m \u001b[1;33m(\u001b[0m\u001b[0mValueError\u001b[0m\u001b[1;33m,\u001b[0m \u001b[0mTypeError\u001b[0m\u001b[1;33m)\u001b[0m\u001b[1;33m:\u001b[0m\u001b[1;33m\u001b[0m\u001b[1;33m\u001b[0m\u001b[0m\n\u001b[0;32m   1311\u001b[0m         \u001b[1;31m# e.g. astype_nansafe can fail on object-dtype of strings\u001b[0m\u001b[1;33m\u001b[0m\u001b[1;33m\u001b[0m\u001b[1;33m\u001b[0m\u001b[0m\n",
      "\u001b[1;32m~\\anaconda3\\lib\\site-packages\\pandas\\core\\dtypes\\cast.py\u001b[0m in \u001b[0;36mastype_array\u001b[1;34m(values, dtype, copy)\u001b[0m\n\u001b[0;32m   1255\u001b[0m \u001b[1;33m\u001b[0m\u001b[0m\n\u001b[0;32m   1256\u001b[0m     \u001b[1;32melse\u001b[0m\u001b[1;33m:\u001b[0m\u001b[1;33m\u001b[0m\u001b[1;33m\u001b[0m\u001b[0m\n\u001b[1;32m-> 1257\u001b[1;33m         \u001b[0mvalues\u001b[0m \u001b[1;33m=\u001b[0m \u001b[0mastype_nansafe\u001b[0m\u001b[1;33m(\u001b[0m\u001b[0mvalues\u001b[0m\u001b[1;33m,\u001b[0m \u001b[0mdtype\u001b[0m\u001b[1;33m,\u001b[0m \u001b[0mcopy\u001b[0m\u001b[1;33m=\u001b[0m\u001b[0mcopy\u001b[0m\u001b[1;33m)\u001b[0m\u001b[1;33m\u001b[0m\u001b[1;33m\u001b[0m\u001b[0m\n\u001b[0m\u001b[0;32m   1258\u001b[0m \u001b[1;33m\u001b[0m\u001b[0m\n\u001b[0;32m   1259\u001b[0m     \u001b[1;31m# in pandas we don't store numpy str dtypes, so convert to object\u001b[0m\u001b[1;33m\u001b[0m\u001b[1;33m\u001b[0m\u001b[1;33m\u001b[0m\u001b[0m\n",
      "\u001b[1;32m~\\anaconda3\\lib\\site-packages\\pandas\\core\\dtypes\\cast.py\u001b[0m in \u001b[0;36mastype_nansafe\u001b[1;34m(arr, dtype, copy, skipna)\u001b[0m\n\u001b[0;32m   1166\u001b[0m \u001b[1;33m\u001b[0m\u001b[0m\n\u001b[0;32m   1167\u001b[0m     \u001b[1;32melif\u001b[0m \u001b[0mnp\u001b[0m\u001b[1;33m.\u001b[0m\u001b[0missubdtype\u001b[0m\u001b[1;33m(\u001b[0m\u001b[0marr\u001b[0m\u001b[1;33m.\u001b[0m\u001b[0mdtype\u001b[0m\u001b[1;33m,\u001b[0m \u001b[0mnp\u001b[0m\u001b[1;33m.\u001b[0m\u001b[0mfloating\u001b[0m\u001b[1;33m)\u001b[0m \u001b[1;32mand\u001b[0m \u001b[0mnp\u001b[0m\u001b[1;33m.\u001b[0m\u001b[0missubdtype\u001b[0m\u001b[1;33m(\u001b[0m\u001b[0mdtype\u001b[0m\u001b[1;33m,\u001b[0m \u001b[0mnp\u001b[0m\u001b[1;33m.\u001b[0m\u001b[0minteger\u001b[0m\u001b[1;33m)\u001b[0m\u001b[1;33m:\u001b[0m\u001b[1;33m\u001b[0m\u001b[1;33m\u001b[0m\u001b[0m\n\u001b[1;32m-> 1168\u001b[1;33m         \u001b[1;32mreturn\u001b[0m \u001b[0mastype_float_to_int_nansafe\u001b[0m\u001b[1;33m(\u001b[0m\u001b[0marr\u001b[0m\u001b[1;33m,\u001b[0m \u001b[0mdtype\u001b[0m\u001b[1;33m,\u001b[0m \u001b[0mcopy\u001b[0m\u001b[1;33m)\u001b[0m\u001b[1;33m\u001b[0m\u001b[1;33m\u001b[0m\u001b[0m\n\u001b[0m\u001b[0;32m   1169\u001b[0m \u001b[1;33m\u001b[0m\u001b[0m\n\u001b[0;32m   1170\u001b[0m     \u001b[1;32melif\u001b[0m \u001b[0mis_object_dtype\u001b[0m\u001b[1;33m(\u001b[0m\u001b[0marr\u001b[0m\u001b[1;33m)\u001b[0m\u001b[1;33m:\u001b[0m\u001b[1;33m\u001b[0m\u001b[1;33m\u001b[0m\u001b[0m\n",
      "\u001b[1;32m~\\anaconda3\\lib\\site-packages\\pandas\\core\\dtypes\\cast.py\u001b[0m in \u001b[0;36mastype_float_to_int_nansafe\u001b[1;34m(values, dtype, copy)\u001b[0m\n\u001b[0;32m   1211\u001b[0m     \"\"\"\n\u001b[0;32m   1212\u001b[0m     \u001b[1;32mif\u001b[0m \u001b[1;32mnot\u001b[0m \u001b[0mnp\u001b[0m\u001b[1;33m.\u001b[0m\u001b[0misfinite\u001b[0m\u001b[1;33m(\u001b[0m\u001b[0mvalues\u001b[0m\u001b[1;33m)\u001b[0m\u001b[1;33m.\u001b[0m\u001b[0mall\u001b[0m\u001b[1;33m(\u001b[0m\u001b[1;33m)\u001b[0m\u001b[1;33m:\u001b[0m\u001b[1;33m\u001b[0m\u001b[1;33m\u001b[0m\u001b[0m\n\u001b[1;32m-> 1213\u001b[1;33m         raise IntCastingNaNError(\n\u001b[0m\u001b[0;32m   1214\u001b[0m             \u001b[1;34m\"Cannot convert non-finite values (NA or inf) to integer\"\u001b[0m\u001b[1;33m\u001b[0m\u001b[1;33m\u001b[0m\u001b[0m\n\u001b[0;32m   1215\u001b[0m         )\n",
      "\u001b[1;31mIntCastingNaNError\u001b[0m: Cannot convert non-finite values (NA or inf) to integer"
     ]
    }
   ],
   "source": [
    "X_train.dropna(axis=0, inplace=True)\n",
    "X_train.shape\n",
    "for cols in X_train[num_cols_mean]:\n",
    "    if X_train[cols].dtypes=='float16':\n",
    "        X_train[cols].astype(int)"
   ]
  },
  {
   "cell_type": "code",
   "execution_count": 33,
   "metadata": {},
   "outputs": [],
   "source": [
    "# for col in X_test:\n",
    "#    if X_test[col].dtypes=='uint16':\n",
    "#        X_test[col].fillna(X_test[col].mean(), inplace=True)\n",
    "#\n",
    "#for col in X_test:        \n",
    "#    if X_test[col].dtypes=='float16':\n",
    " #       X_test[col].fillna(X_test[col].mean(), inplace=True)\n",
    "#\n",
    "#for col in X_train[cat_cols_mf]:\n",
    "#    if X_test[col].dtypes=='object':\n",
    "#        X_train[col].fillna(X_train[col].mode(), inplace=True)\n",
    "#\n",
    "#X_test.shape\n",
    "#\n",
    "#X_test.dropna(axis=0, inplace=True)\n",
    "#X_test.shape"
   ]
  },
  {
   "cell_type": "code",
   "execution_count": 34,
   "metadata": {},
   "outputs": [
    {
     "data": {
      "text/html": [
       "<div>\n",
       "<style scoped>\n",
       "    .dataframe tbody tr th:only-of-type {\n",
       "        vertical-align: middle;\n",
       "    }\n",
       "\n",
       "    .dataframe tbody tr th {\n",
       "        vertical-align: top;\n",
       "    }\n",
       "\n",
       "    .dataframe thead th {\n",
       "        text-align: right;\n",
       "    }\n",
       "</style>\n",
       "<table border=\"1\" class=\"dataframe\">\n",
       "  <thead>\n",
       "    <tr style=\"text-align: right;\">\n",
       "      <th></th>\n",
       "      <th>VAR_0001</th>\n",
       "      <th>VAR_0005</th>\n",
       "      <th>VAR_0015</th>\n",
       "      <th>VAR_0016</th>\n",
       "      <th>VAR_0017</th>\n",
       "      <th>VAR_0033</th>\n",
       "      <th>VAR_0036</th>\n",
       "      <th>VAR_0037</th>\n",
       "      <th>VAR_0045</th>\n",
       "      <th>VAR_0046</th>\n",
       "      <th>...</th>\n",
       "      <th>VAR_1934</th>\n",
       "      <th>VAR_0075</th>\n",
       "      <th>VAR_0200</th>\n",
       "      <th>VAR_0204</th>\n",
       "      <th>VAR_0217</th>\n",
       "      <th>VAR_0237</th>\n",
       "      <th>VAR_0274</th>\n",
       "      <th>VAR_0342</th>\n",
       "      <th>VAR_0404</th>\n",
       "      <th>VAR_0493</th>\n",
       "    </tr>\n",
       "  </thead>\n",
       "  <tbody>\n",
       "    <tr>\n",
       "      <th>0</th>\n",
       "      <td>H</td>\n",
       "      <td>C</td>\n",
       "      <td>0.0</td>\n",
       "      <td>1.0</td>\n",
       "      <td>0.0</td>\n",
       "      <td>1.0</td>\n",
       "      <td>0.0</td>\n",
       "      <td>0.0</td>\n",
       "      <td>0.0</td>\n",
       "      <td>0.0</td>\n",
       "      <td>...</td>\n",
       "      <td>IAPS</td>\n",
       "      <td>08NOV11:00:00:00</td>\n",
       "      <td>FT LAUDERDALE</td>\n",
       "      <td>29JAN14:21:16:00</td>\n",
       "      <td>08NOV11:02:00:00</td>\n",
       "      <td>FL</td>\n",
       "      <td>FL</td>\n",
       "      <td>CF</td>\n",
       "      <td>CHIEF EXECUTIVE OFFICER</td>\n",
       "      <td>COMMUNITY ASSOCIATION MANAGER</td>\n",
       "    </tr>\n",
       "    <tr>\n",
       "      <th>1</th>\n",
       "      <td>H</td>\n",
       "      <td>B</td>\n",
       "      <td>1.0</td>\n",
       "      <td>2.0</td>\n",
       "      <td>1.0</td>\n",
       "      <td>1.0</td>\n",
       "      <td>0.0</td>\n",
       "      <td>0.0</td>\n",
       "      <td>0.0</td>\n",
       "      <td>0.0</td>\n",
       "      <td>...</td>\n",
       "      <td>IAPS</td>\n",
       "      <td>10NOV11:00:00:00</td>\n",
       "      <td>SANTEE</td>\n",
       "      <td>01FEB14:00:11:00</td>\n",
       "      <td>02OCT12:02:00:00</td>\n",
       "      <td>CA</td>\n",
       "      <td>MI</td>\n",
       "      <td>EC</td>\n",
       "      <td>-1</td>\n",
       "      <td>-1</td>\n",
       "    </tr>\n",
       "    <tr>\n",
       "      <th>2</th>\n",
       "      <td>H</td>\n",
       "      <td>C</td>\n",
       "      <td>0.0</td>\n",
       "      <td>1.0</td>\n",
       "      <td>0.0</td>\n",
       "      <td>1.0</td>\n",
       "      <td>0.0</td>\n",
       "      <td>0.0</td>\n",
       "      <td>0.0</td>\n",
       "      <td>0.0</td>\n",
       "      <td>...</td>\n",
       "      <td>IAPS</td>\n",
       "      <td>13DEC11:00:00:00</td>\n",
       "      <td>REEDSVILLE</td>\n",
       "      <td>30JAN14:15:11:00</td>\n",
       "      <td>13DEC11:02:00:00</td>\n",
       "      <td>WV</td>\n",
       "      <td>WV</td>\n",
       "      <td>UU</td>\n",
       "      <td>-1</td>\n",
       "      <td>-1</td>\n",
       "    </tr>\n",
       "    <tr>\n",
       "      <th>3</th>\n",
       "      <td>H</td>\n",
       "      <td>C</td>\n",
       "      <td>0.0</td>\n",
       "      <td>2.0</td>\n",
       "      <td>0.0</td>\n",
       "      <td>1.0</td>\n",
       "      <td>0.0</td>\n",
       "      <td>0.0</td>\n",
       "      <td>0.0</td>\n",
       "      <td>0.0</td>\n",
       "      <td>...</td>\n",
       "      <td>RCC</td>\n",
       "      <td>23SEP10:00:00:00</td>\n",
       "      <td>LIBERTY</td>\n",
       "      <td>01FEB14:00:07:00</td>\n",
       "      <td>01NOV12:02:00:00</td>\n",
       "      <td>TX</td>\n",
       "      <td>TX</td>\n",
       "      <td>-1</td>\n",
       "      <td>-1</td>\n",
       "      <td>-1</td>\n",
       "    </tr>\n",
       "    <tr>\n",
       "      <th>4</th>\n",
       "      <td>R</td>\n",
       "      <td>N</td>\n",
       "      <td>0.0</td>\n",
       "      <td>1.0</td>\n",
       "      <td>0.0</td>\n",
       "      <td>1.0</td>\n",
       "      <td>0.0</td>\n",
       "      <td>0.0</td>\n",
       "      <td>0.0</td>\n",
       "      <td>0.0</td>\n",
       "      <td>...</td>\n",
       "      <td>BRANCH</td>\n",
       "      <td>15OCT11:00:00:00</td>\n",
       "      <td>FRANKFORT</td>\n",
       "      <td>29JAN14:19:31:00</td>\n",
       "      <td>15OCT11:02:00:00</td>\n",
       "      <td>IL</td>\n",
       "      <td>IL</td>\n",
       "      <td>-1</td>\n",
       "      <td>-1</td>\n",
       "      <td>-1</td>\n",
       "    </tr>\n",
       "    <tr>\n",
       "      <th>...</th>\n",
       "      <td>...</td>\n",
       "      <td>...</td>\n",
       "      <td>...</td>\n",
       "      <td>...</td>\n",
       "      <td>...</td>\n",
       "      <td>...</td>\n",
       "      <td>...</td>\n",
       "      <td>...</td>\n",
       "      <td>...</td>\n",
       "      <td>...</td>\n",
       "      <td>...</td>\n",
       "      <td>...</td>\n",
       "      <td>...</td>\n",
       "      <td>...</td>\n",
       "      <td>...</td>\n",
       "      <td>...</td>\n",
       "      <td>...</td>\n",
       "      <td>...</td>\n",
       "      <td>...</td>\n",
       "      <td>...</td>\n",
       "      <td>...</td>\n",
       "    </tr>\n",
       "    <tr>\n",
       "      <th>145225</th>\n",
       "      <td>R</td>\n",
       "      <td>N</td>\n",
       "      <td>0.0</td>\n",
       "      <td>1.0</td>\n",
       "      <td>0.0</td>\n",
       "      <td>1.0</td>\n",
       "      <td>0.0</td>\n",
       "      <td>0.0</td>\n",
       "      <td>0.0</td>\n",
       "      <td>0.0</td>\n",
       "      <td>...</td>\n",
       "      <td>IAPS</td>\n",
       "      <td>09OCT12:00:00:00</td>\n",
       "      <td>KATY</td>\n",
       "      <td>01FEB14:00:55:00</td>\n",
       "      <td>21OCT12:02:00:00</td>\n",
       "      <td>TX</td>\n",
       "      <td>TX</td>\n",
       "      <td>DD</td>\n",
       "      <td>-1</td>\n",
       "      <td>-1</td>\n",
       "    </tr>\n",
       "    <tr>\n",
       "      <th>145226</th>\n",
       "      <td>H</td>\n",
       "      <td>C</td>\n",
       "      <td>1.0</td>\n",
       "      <td>2.0</td>\n",
       "      <td>1.0</td>\n",
       "      <td>1.0</td>\n",
       "      <td>1.0</td>\n",
       "      <td>1.0</td>\n",
       "      <td>0.0</td>\n",
       "      <td>0.0</td>\n",
       "      <td>...</td>\n",
       "      <td>BRANCH</td>\n",
       "      <td>27APR10:00:00:00</td>\n",
       "      <td>LAFAYETTE</td>\n",
       "      <td>31JAN14:16:36:00</td>\n",
       "      <td>07JUL12:02:00:00</td>\n",
       "      <td>LA</td>\n",
       "      <td>LA</td>\n",
       "      <td>-1</td>\n",
       "      <td>-1</td>\n",
       "      <td>-1</td>\n",
       "    </tr>\n",
       "    <tr>\n",
       "      <th>145227</th>\n",
       "      <td>R</td>\n",
       "      <td>C</td>\n",
       "      <td>5.0</td>\n",
       "      <td>4.0</td>\n",
       "      <td>4.0</td>\n",
       "      <td>1.0</td>\n",
       "      <td>0.0</td>\n",
       "      <td>0.0</td>\n",
       "      <td>0.0</td>\n",
       "      <td>0.0</td>\n",
       "      <td>...</td>\n",
       "      <td>IAPS</td>\n",
       "      <td>22DEC08:00:00:00</td>\n",
       "      <td>GARDENA</td>\n",
       "      <td>30JAN14:23:23:00</td>\n",
       "      <td>24MAY12:02:00:00</td>\n",
       "      <td>CA</td>\n",
       "      <td>CA</td>\n",
       "      <td>BE</td>\n",
       "      <td>-1</td>\n",
       "      <td>-1</td>\n",
       "    </tr>\n",
       "    <tr>\n",
       "      <th>145228</th>\n",
       "      <td>R</td>\n",
       "      <td>B</td>\n",
       "      <td>1.0</td>\n",
       "      <td>1.0</td>\n",
       "      <td>1.0</td>\n",
       "      <td>1.0</td>\n",
       "      <td>1.0</td>\n",
       "      <td>1.0</td>\n",
       "      <td>0.0</td>\n",
       "      <td>0.0</td>\n",
       "      <td>...</td>\n",
       "      <td>BRANCH</td>\n",
       "      <td>29NOV11:00:00:00</td>\n",
       "      <td>COVINA</td>\n",
       "      <td>31JAN14:21:10:00</td>\n",
       "      <td>21AUG12:02:00:00</td>\n",
       "      <td>CA</td>\n",
       "      <td>CA</td>\n",
       "      <td>CC</td>\n",
       "      <td>-1</td>\n",
       "      <td>-1</td>\n",
       "    </tr>\n",
       "    <tr>\n",
       "      <th>145230</th>\n",
       "      <td>H</td>\n",
       "      <td>B</td>\n",
       "      <td>0.0</td>\n",
       "      <td>1.0</td>\n",
       "      <td>0.0</td>\n",
       "      <td>1.0</td>\n",
       "      <td>0.0</td>\n",
       "      <td>0.0</td>\n",
       "      <td>0.0</td>\n",
       "      <td>0.0</td>\n",
       "      <td>...</td>\n",
       "      <td>IAPS</td>\n",
       "      <td>19SEP12:00:00:00</td>\n",
       "      <td>SHERMAN OAKS</td>\n",
       "      <td>31JAN14:23:11:00</td>\n",
       "      <td>19SEP12:02:00:00</td>\n",
       "      <td>CA</td>\n",
       "      <td>CA</td>\n",
       "      <td>-1</td>\n",
       "      <td>-1</td>\n",
       "      <td>-1</td>\n",
       "    </tr>\n",
       "  </tbody>\n",
       "</table>\n",
       "<p>144262 rows × 855 columns</p>\n",
       "</div>"
      ],
      "text/plain": [
       "       VAR_0001 VAR_0005  VAR_0015  VAR_0016  VAR_0017  VAR_0033  VAR_0036  \\\n",
       "0             H        C       0.0       1.0       0.0       1.0       0.0   \n",
       "1             H        B       1.0       2.0       1.0       1.0       0.0   \n",
       "2             H        C       0.0       1.0       0.0       1.0       0.0   \n",
       "3             H        C       0.0       2.0       0.0       1.0       0.0   \n",
       "4             R        N       0.0       1.0       0.0       1.0       0.0   \n",
       "...         ...      ...       ...       ...       ...       ...       ...   \n",
       "145225        R        N       0.0       1.0       0.0       1.0       0.0   \n",
       "145226        H        C       1.0       2.0       1.0       1.0       1.0   \n",
       "145227        R        C       5.0       4.0       4.0       1.0       0.0   \n",
       "145228        R        B       1.0       1.0       1.0       1.0       1.0   \n",
       "145230        H        B       0.0       1.0       0.0       1.0       0.0   \n",
       "\n",
       "        VAR_0037  VAR_0045  VAR_0046  ...  VAR_1934          VAR_0075  \\\n",
       "0            0.0       0.0       0.0  ...      IAPS  08NOV11:00:00:00   \n",
       "1            0.0       0.0       0.0  ...      IAPS  10NOV11:00:00:00   \n",
       "2            0.0       0.0       0.0  ...      IAPS  13DEC11:00:00:00   \n",
       "3            0.0       0.0       0.0  ...       RCC  23SEP10:00:00:00   \n",
       "4            0.0       0.0       0.0  ...    BRANCH  15OCT11:00:00:00   \n",
       "...          ...       ...       ...  ...       ...               ...   \n",
       "145225       0.0       0.0       0.0  ...      IAPS  09OCT12:00:00:00   \n",
       "145226       1.0       0.0       0.0  ...    BRANCH  27APR10:00:00:00   \n",
       "145227       0.0       0.0       0.0  ...      IAPS  22DEC08:00:00:00   \n",
       "145228       1.0       0.0       0.0  ...    BRANCH  29NOV11:00:00:00   \n",
       "145230       0.0       0.0       0.0  ...      IAPS  19SEP12:00:00:00   \n",
       "\n",
       "             VAR_0200          VAR_0204          VAR_0217  VAR_0237  VAR_0274  \\\n",
       "0       FT LAUDERDALE  29JAN14:21:16:00  08NOV11:02:00:00        FL        FL   \n",
       "1              SANTEE  01FEB14:00:11:00  02OCT12:02:00:00        CA        MI   \n",
       "2          REEDSVILLE  30JAN14:15:11:00  13DEC11:02:00:00        WV        WV   \n",
       "3             LIBERTY  01FEB14:00:07:00  01NOV12:02:00:00        TX        TX   \n",
       "4           FRANKFORT  29JAN14:19:31:00  15OCT11:02:00:00        IL        IL   \n",
       "...               ...               ...               ...       ...       ...   \n",
       "145225           KATY  01FEB14:00:55:00  21OCT12:02:00:00        TX        TX   \n",
       "145226      LAFAYETTE  31JAN14:16:36:00  07JUL12:02:00:00        LA        LA   \n",
       "145227        GARDENA  30JAN14:23:23:00  24MAY12:02:00:00        CA        CA   \n",
       "145228         COVINA  31JAN14:21:10:00  21AUG12:02:00:00        CA        CA   \n",
       "145230   SHERMAN OAKS  31JAN14:23:11:00  19SEP12:02:00:00        CA        CA   \n",
       "\n",
       "        VAR_0342                 VAR_0404                       VAR_0493  \n",
       "0             CF  CHIEF EXECUTIVE OFFICER  COMMUNITY ASSOCIATION MANAGER  \n",
       "1             EC                       -1                             -1  \n",
       "2             UU                       -1                             -1  \n",
       "3             -1                       -1                             -1  \n",
       "4             -1                       -1                             -1  \n",
       "...          ...                      ...                            ...  \n",
       "145225        DD                       -1                             -1  \n",
       "145226        -1                       -1                             -1  \n",
       "145227        BE                       -1                             -1  \n",
       "145228        CC                       -1                             -1  \n",
       "145230        -1                       -1                             -1  \n",
       "\n",
       "[144262 rows x 855 columns]"
      ]
     },
     "execution_count": 34,
     "metadata": {},
     "output_type": "execute_result"
    }
   ],
   "source": [
    "X_train[cat_cols_mf]"
   ]
  },
  {
   "cell_type": "code",
   "execution_count": 35,
   "metadata": {},
   "outputs": [
    {
     "data": {
      "text/html": [
       "<div>\n",
       "<style scoped>\n",
       "    .dataframe tbody tr th:only-of-type {\n",
       "        vertical-align: middle;\n",
       "    }\n",
       "\n",
       "    .dataframe tbody tr th {\n",
       "        vertical-align: top;\n",
       "    }\n",
       "\n",
       "    .dataframe thead th {\n",
       "        text-align: right;\n",
       "    }\n",
       "</style>\n",
       "<table border=\"1\" class=\"dataframe\">\n",
       "  <thead>\n",
       "    <tr style=\"text-align: right;\">\n",
       "      <th></th>\n",
       "      <th>VAR_0015</th>\n",
       "      <th>VAR_0016</th>\n",
       "      <th>VAR_0017</th>\n",
       "      <th>VAR_0033</th>\n",
       "      <th>VAR_0036</th>\n",
       "      <th>VAR_0037</th>\n",
       "      <th>VAR_0045</th>\n",
       "      <th>VAR_0046</th>\n",
       "      <th>VAR_0047</th>\n",
       "      <th>VAR_0048</th>\n",
       "      <th>...</th>\n",
       "      <th>VAR_1916</th>\n",
       "      <th>VAR_1917</th>\n",
       "      <th>VAR_1920</th>\n",
       "      <th>VAR_1921</th>\n",
       "      <th>VAR_1925</th>\n",
       "      <th>VAR_1926</th>\n",
       "      <th>VAR_1927</th>\n",
       "      <th>VAR_1928</th>\n",
       "      <th>VAR_1930</th>\n",
       "      <th>VAR_1931</th>\n",
       "    </tr>\n",
       "  </thead>\n",
       "  <tbody>\n",
       "    <tr>\n",
       "      <th>count</th>\n",
       "      <td>144262.0</td>\n",
       "      <td>144262.0</td>\n",
       "      <td>144262.0</td>\n",
       "      <td>144262.0</td>\n",
       "      <td>144262.000000</td>\n",
       "      <td>144262.000000</td>\n",
       "      <td>144262.000000</td>\n",
       "      <td>144262.000000</td>\n",
       "      <td>144262.000000</td>\n",
       "      <td>144262.000000</td>\n",
       "      <td>...</td>\n",
       "      <td>144262.000000</td>\n",
       "      <td>144262.000000</td>\n",
       "      <td>144262.000000</td>\n",
       "      <td>144262.000000</td>\n",
       "      <td>144262.000000</td>\n",
       "      <td>144262.000000</td>\n",
       "      <td>144262.000000</td>\n",
       "      <td>144262.000000</td>\n",
       "      <td>144262.000000</td>\n",
       "      <td>144262.000000</td>\n",
       "    </tr>\n",
       "    <tr>\n",
       "      <th>mean</th>\n",
       "      <td>NaN</td>\n",
       "      <td>NaN</td>\n",
       "      <td>NaN</td>\n",
       "      <td>NaN</td>\n",
       "      <td>0.339844</td>\n",
       "      <td>0.296875</td>\n",
       "      <td>0.004124</td>\n",
       "      <td>0.014694</td>\n",
       "      <td>0.026596</td>\n",
       "      <td>0.037079</td>\n",
       "      <td>...</td>\n",
       "      <td>699.752922</td>\n",
       "      <td>721.728841</td>\n",
       "      <td>0.774015</td>\n",
       "      <td>77.356047</td>\n",
       "      <td>0.550048</td>\n",
       "      <td>86.662926</td>\n",
       "      <td>89.832631</td>\n",
       "      <td>914.457640</td>\n",
       "      <td>922.915043</td>\n",
       "      <td>936.505469</td>\n",
       "    </tr>\n",
       "    <tr>\n",
       "      <th>std</th>\n",
       "      <td>0.0</td>\n",
       "      <td>0.0</td>\n",
       "      <td>0.0</td>\n",
       "      <td>0.0</td>\n",
       "      <td>0.000000</td>\n",
       "      <td>0.000000</td>\n",
       "      <td>0.074585</td>\n",
       "      <td>0.194214</td>\n",
       "      <td>0.263428</td>\n",
       "      <td>0.304688</td>\n",
       "      <td>...</td>\n",
       "      <td>434.428867</td>\n",
       "      <td>433.719048</td>\n",
       "      <td>6.401342</td>\n",
       "      <td>39.784171</td>\n",
       "      <td>6.361383</td>\n",
       "      <td>31.349420</td>\n",
       "      <td>26.922343</td>\n",
       "      <td>276.300735</td>\n",
       "      <td>212.146613</td>\n",
       "      <td>210.366422</td>\n",
       "    </tr>\n",
       "    <tr>\n",
       "      <th>min</th>\n",
       "      <td>0.0</td>\n",
       "      <td>0.0</td>\n",
       "      <td>0.0</td>\n",
       "      <td>0.0</td>\n",
       "      <td>0.000000</td>\n",
       "      <td>0.000000</td>\n",
       "      <td>0.000000</td>\n",
       "      <td>0.000000</td>\n",
       "      <td>0.000000</td>\n",
       "      <td>0.000000</td>\n",
       "      <td>...</td>\n",
       "      <td>1.000000</td>\n",
       "      <td>0.000000</td>\n",
       "      <td>0.000000</td>\n",
       "      <td>0.000000</td>\n",
       "      <td>0.000000</td>\n",
       "      <td>0.000000</td>\n",
       "      <td>0.000000</td>\n",
       "      <td>0.000000</td>\n",
       "      <td>1.000000</td>\n",
       "      <td>0.000000</td>\n",
       "    </tr>\n",
       "    <tr>\n",
       "      <th>25%</th>\n",
       "      <td>0.0</td>\n",
       "      <td>1.0</td>\n",
       "      <td>0.0</td>\n",
       "      <td>1.0</td>\n",
       "      <td>0.000000</td>\n",
       "      <td>0.000000</td>\n",
       "      <td>0.000000</td>\n",
       "      <td>0.000000</td>\n",
       "      <td>0.000000</td>\n",
       "      <td>0.000000</td>\n",
       "      <td>...</td>\n",
       "      <td>120.000000</td>\n",
       "      <td>120.000000</td>\n",
       "      <td>0.000000</td>\n",
       "      <td>98.000000</td>\n",
       "      <td>0.000000</td>\n",
       "      <td>98.000000</td>\n",
       "      <td>98.000000</td>\n",
       "      <td>998.000000</td>\n",
       "      <td>998.000000</td>\n",
       "      <td>998.000000</td>\n",
       "    </tr>\n",
       "    <tr>\n",
       "      <th>50%</th>\n",
       "      <td>0.0</td>\n",
       "      <td>1.0</td>\n",
       "      <td>0.0</td>\n",
       "      <td>1.0</td>\n",
       "      <td>0.000000</td>\n",
       "      <td>0.000000</td>\n",
       "      <td>0.000000</td>\n",
       "      <td>0.000000</td>\n",
       "      <td>0.000000</td>\n",
       "      <td>0.000000</td>\n",
       "      <td>...</td>\n",
       "      <td>998.000000</td>\n",
       "      <td>998.000000</td>\n",
       "      <td>0.000000</td>\n",
       "      <td>98.000000</td>\n",
       "      <td>0.000000</td>\n",
       "      <td>98.000000</td>\n",
       "      <td>98.000000</td>\n",
       "      <td>998.000000</td>\n",
       "      <td>998.000000</td>\n",
       "      <td>998.000000</td>\n",
       "    </tr>\n",
       "    <tr>\n",
       "      <th>75%</th>\n",
       "      <td>1.0</td>\n",
       "      <td>1.0</td>\n",
       "      <td>0.0</td>\n",
       "      <td>1.0</td>\n",
       "      <td>0.000000</td>\n",
       "      <td>0.000000</td>\n",
       "      <td>0.000000</td>\n",
       "      <td>0.000000</td>\n",
       "      <td>0.000000</td>\n",
       "      <td>0.000000</td>\n",
       "      <td>...</td>\n",
       "      <td>998.000000</td>\n",
       "      <td>998.000000</td>\n",
       "      <td>0.000000</td>\n",
       "      <td>98.000000</td>\n",
       "      <td>0.000000</td>\n",
       "      <td>98.000000</td>\n",
       "      <td>98.000000</td>\n",
       "      <td>998.000000</td>\n",
       "      <td>998.000000</td>\n",
       "      <td>998.000000</td>\n",
       "    </tr>\n",
       "    <tr>\n",
       "      <th>max</th>\n",
       "      <td>35.0</td>\n",
       "      <td>39.0</td>\n",
       "      <td>26.0</td>\n",
       "      <td>71.0</td>\n",
       "      <td>70.000000</td>\n",
       "      <td>24.000000</td>\n",
       "      <td>12.000000</td>\n",
       "      <td>52.000000</td>\n",
       "      <td>65.000000</td>\n",
       "      <td>65.000000</td>\n",
       "      <td>...</td>\n",
       "      <td>999.000000</td>\n",
       "      <td>999.000000</td>\n",
       "      <td>99.000000</td>\n",
       "      <td>99.000000</td>\n",
       "      <td>99.000000</td>\n",
       "      <td>99.000000</td>\n",
       "      <td>99.000000</td>\n",
       "      <td>999.000000</td>\n",
       "      <td>999.000000</td>\n",
       "      <td>999.000000</td>\n",
       "    </tr>\n",
       "  </tbody>\n",
       "</table>\n",
       "<p>8 rows × 831 columns</p>\n",
       "</div>"
      ],
      "text/plain": [
       "       VAR_0015  VAR_0016  VAR_0017  VAR_0033       VAR_0036       VAR_0037  \\\n",
       "count  144262.0  144262.0  144262.0  144262.0  144262.000000  144262.000000   \n",
       "mean        NaN       NaN       NaN       NaN       0.339844       0.296875   \n",
       "std         0.0       0.0       0.0       0.0       0.000000       0.000000   \n",
       "min         0.0       0.0       0.0       0.0       0.000000       0.000000   \n",
       "25%         0.0       1.0       0.0       1.0       0.000000       0.000000   \n",
       "50%         0.0       1.0       0.0       1.0       0.000000       0.000000   \n",
       "75%         1.0       1.0       0.0       1.0       0.000000       0.000000   \n",
       "max        35.0      39.0      26.0      71.0      70.000000      24.000000   \n",
       "\n",
       "            VAR_0045       VAR_0046       VAR_0047       VAR_0048  ...  \\\n",
       "count  144262.000000  144262.000000  144262.000000  144262.000000  ...   \n",
       "mean        0.004124       0.014694       0.026596       0.037079  ...   \n",
       "std         0.074585       0.194214       0.263428       0.304688  ...   \n",
       "min         0.000000       0.000000       0.000000       0.000000  ...   \n",
       "25%         0.000000       0.000000       0.000000       0.000000  ...   \n",
       "50%         0.000000       0.000000       0.000000       0.000000  ...   \n",
       "75%         0.000000       0.000000       0.000000       0.000000  ...   \n",
       "max        12.000000      52.000000      65.000000      65.000000  ...   \n",
       "\n",
       "            VAR_1916       VAR_1917       VAR_1920       VAR_1921  \\\n",
       "count  144262.000000  144262.000000  144262.000000  144262.000000   \n",
       "mean      699.752922     721.728841       0.774015      77.356047   \n",
       "std       434.428867     433.719048       6.401342      39.784171   \n",
       "min         1.000000       0.000000       0.000000       0.000000   \n",
       "25%       120.000000     120.000000       0.000000      98.000000   \n",
       "50%       998.000000     998.000000       0.000000      98.000000   \n",
       "75%       998.000000     998.000000       0.000000      98.000000   \n",
       "max       999.000000     999.000000      99.000000      99.000000   \n",
       "\n",
       "            VAR_1925       VAR_1926       VAR_1927       VAR_1928  \\\n",
       "count  144262.000000  144262.000000  144262.000000  144262.000000   \n",
       "mean        0.550048      86.662926      89.832631     914.457640   \n",
       "std         6.361383      31.349420      26.922343     276.300735   \n",
       "min         0.000000       0.000000       0.000000       0.000000   \n",
       "25%         0.000000      98.000000      98.000000     998.000000   \n",
       "50%         0.000000      98.000000      98.000000     998.000000   \n",
       "75%         0.000000      98.000000      98.000000     998.000000   \n",
       "max        99.000000      99.000000      99.000000     999.000000   \n",
       "\n",
       "            VAR_1930       VAR_1931  \n",
       "count  144262.000000  144262.000000  \n",
       "mean      922.915043     936.505469  \n",
       "std       212.146613     210.366422  \n",
       "min         1.000000       0.000000  \n",
       "25%       998.000000     998.000000  \n",
       "50%       998.000000     998.000000  \n",
       "75%       998.000000     998.000000  \n",
       "max       999.000000     999.000000  \n",
       "\n",
       "[8 rows x 831 columns]"
      ]
     },
     "execution_count": 35,
     "metadata": {},
     "output_type": "execute_result"
    }
   ],
   "source": [
    "X_train[cat_cols_mf].describe()"
   ]
  },
  {
   "cell_type": "code",
   "execution_count": 36,
   "metadata": {},
   "outputs": [
    {
     "data": {
      "text/plain": [
       "VAR_0404    1821\n",
       "VAR_0466       2\n",
       "VAR_0467       4\n",
       "VAR_0493     608\n",
       "dtype: int64"
      ]
     },
     "execution_count": 36,
     "metadata": {},
     "output_type": "execute_result"
    }
   ],
   "source": [
    "X_train[['VAR_0404', 'VAR_0466', 'VAR_0467', 'VAR_0493']].nunique(dropna=False)"
   ]
  },
  {
   "cell_type": "code",
   "execution_count": 37,
   "metadata": {},
   "outputs": [
    {
     "data": {
      "text/plain": [
       "-1    0.841705\n",
       "I     0.158295\n",
       "Name: VAR_0466, dtype: float64"
      ]
     },
     "execution_count": 37,
     "metadata": {},
     "output_type": "execute_result"
    },
    {
     "data": {
      "text/plain": [
       "-1              0.843188\n",
       "Discharged      0.145153\n",
       "Dismissed       0.010925\n",
       "Discharge NA    0.000735\n",
       "Name: VAR_0467, dtype: float64"
      ]
     },
     "execution_count": 37,
     "metadata": {},
     "output_type": "execute_result"
    }
   ],
   "source": [
    "X_train['VAR_0466'].value_counts() / X_train.shape[0]\n",
    "X_train['VAR_0467'].value_counts() / X_train.shape[0]"
   ]
  },
  {
   "cell_type": "code",
   "execution_count": 38,
   "metadata": {},
   "outputs": [
    {
     "data": {
      "text/plain": [
       "True"
      ]
     },
     "execution_count": 38,
     "metadata": {},
     "output_type": "execute_result"
    }
   ],
   "source": [
    "dates = ['VAR_0075', 'VAR_0204', 'VAR_0217']\n",
    "locations = ['VAR_200', 'VAR_0237', 'VAR_274']\n",
    "\n",
    "date1 = pd.to_datetime(X_train[\"VAR_0075\"],format = '%d%b%y:%H:%M:%S')\n",
    "date2 = pd.to_datetime(X_train[\"VAR_0217\"],format = '%d%b%y:%H:%M:%S')\n",
    "np.all(date2 > date1)"
   ]
  },
  {
   "cell_type": "code",
   "execution_count": 39,
   "metadata": {},
   "outputs": [
    {
     "data": {
      "text/plain": [
       "target             1.000000\n",
       "VAR_0105           0.206957\n",
       "VAR_0505           0.203600\n",
       "VAR_0121           0.202591\n",
       "VAR_0145           0.197977\n",
       "                     ...   \n",
       "VAR_0075_hour           NaN\n",
       "VAR_0075_minute         NaN\n",
       "VAR_0204_year           NaN\n",
       "VAR_0217_hour           NaN\n",
       "VAR_0217_minute         NaN\n",
       "Name: target, Length: 871, dtype: float64"
      ]
     },
     "execution_count": 39,
     "metadata": {},
     "output_type": "execute_result"
    }
   ],
   "source": [
    "from datetime import datetime\n",
    "year_func = lambda x: datetime.strptime(x, \"%d%b%y:%H:%M:%S\" ).year\n",
    "month_func = lambda x: datetime.strptime(x, \"%d%b%y:%H:%M:%S\" ).month\n",
    "day_func = lambda x: datetime.strptime(x, \"%d%b%y:%H:%M:%S\" ).day\n",
    "hour_func = lambda x: datetime.strptime(x, \"%d%b%y:%H:%M:%S\" ).hour\n",
    "minute_func = lambda x: datetime.strptime(x, \"%d%b%y:%H:%M:%S\" ).minute\n",
    "\n",
    "enc_data =  pd.DataFrame(index=X_train.index)\n",
    "for col in X_train[cat_cols_mf]:\n",
    "    enc_data[col] = X_train[col].factorize()[0]\n",
    "    if col in dates:\n",
    "        enc_data[col + '_year'] = X_train[col].map(year_func)\n",
    "        enc_data[col + '_month'] = X_train[col].map(month_func)\n",
    "        enc_data[col + '_day'] = X_train[col].map(day_func)\n",
    "        enc_data[col + '_hour'] = X_train[col].map(hour_func)\n",
    "        enc_data[col + '_minute'] = X_train[col].map(minute_func)\n",
    "expanded_categoricals = list(enc_data.columns) # saving which variables are categorical for possible one hot encoding \n",
    "enc_data[\"target\"] = Target\n",
    "# finding correlation and looking at it\n",
    "corrmat = enc_data.corr()\n",
    "corrmat[\"target\"].sort_values(ascending=False)"
   ]
  },
  {
   "cell_type": "code",
   "execution_count": 40,
   "metadata": {},
   "outputs": [
    {
     "name": "stdout",
     "output_type": "stream",
     "text": [
      "0    76.75\n",
      "1    23.25\n",
      "Name: target, dtype: float64\n"
     ]
    }
   ],
   "source": [
    "print(round(df_train.target.value_counts() *100/ df_train.target.count(),2))"
   ]
  },
  {
   "cell_type": "code",
   "execution_count": 41,
   "metadata": {},
   "outputs": [],
   "source": [
    "from sklearn.manifold import TSNE\n",
    "from sklearn.decomposition import PCA"
   ]
  },
  {
   "cell_type": "code",
   "execution_count": 42,
   "metadata": {},
   "outputs": [
    {
     "data": {
      "text/html": [
       "<div>\n",
       "<style scoped>\n",
       "    .dataframe tbody tr th:only-of-type {\n",
       "        vertical-align: middle;\n",
       "    }\n",
       "\n",
       "    .dataframe tbody tr th {\n",
       "        vertical-align: top;\n",
       "    }\n",
       "\n",
       "    .dataframe thead th {\n",
       "        text-align: right;\n",
       "    }\n",
       "</style>\n",
       "<table border=\"1\" class=\"dataframe\">\n",
       "  <thead>\n",
       "    <tr style=\"text-align: right;\">\n",
       "      <th></th>\n",
       "      <th>VAR_0002</th>\n",
       "      <th>VAR_0003</th>\n",
       "      <th>VAR_0004</th>\n",
       "      <th>VAR_0006</th>\n",
       "      <th>VAR_0007</th>\n",
       "      <th>VAR_0013</th>\n",
       "      <th>VAR_0014</th>\n",
       "      <th>VAR_0034</th>\n",
       "      <th>VAR_0035</th>\n",
       "      <th>VAR_0050</th>\n",
       "      <th>...</th>\n",
       "      <th>VAR_0217_month</th>\n",
       "      <th>VAR_0217_day</th>\n",
       "      <th>VAR_0217_hour</th>\n",
       "      <th>VAR_0217_minute</th>\n",
       "      <th>VAR_0237</th>\n",
       "      <th>VAR_0274</th>\n",
       "      <th>VAR_0342</th>\n",
       "      <th>VAR_0404</th>\n",
       "      <th>VAR_0493</th>\n",
       "      <th>target</th>\n",
       "    </tr>\n",
       "  </thead>\n",
       "  <tbody>\n",
       "    <tr>\n",
       "      <th>0</th>\n",
       "      <td>120</td>\n",
       "      <td>216</td>\n",
       "      <td>4936</td>\n",
       "      <td>0.0</td>\n",
       "      <td>0.0</td>\n",
       "      <td>0.0</td>\n",
       "      <td>0.0</td>\n",
       "      <td>0.0</td>\n",
       "      <td>0.0</td>\n",
       "      <td>0.0</td>\n",
       "      <td>...</td>\n",
       "      <td>1</td>\n",
       "      <td>10</td>\n",
       "      <td>2</td>\n",
       "      <td>0</td>\n",
       "      <td>1</td>\n",
       "      <td>6</td>\n",
       "      <td>12</td>\n",
       "      <td>1</td>\n",
       "      <td>1</td>\n",
       "      <td>0</td>\n",
       "    </tr>\n",
       "    <tr>\n",
       "      <th>1</th>\n",
       "      <td>127</td>\n",
       "      <td>62</td>\n",
       "      <td>1300</td>\n",
       "      <td>10.0</td>\n",
       "      <td>4.0</td>\n",
       "      <td>10.0</td>\n",
       "      <td>4.0</td>\n",
       "      <td>12.0</td>\n",
       "      <td>7.0</td>\n",
       "      <td>3.0</td>\n",
       "      <td>...</td>\n",
       "      <td>2</td>\n",
       "      <td>2</td>\n",
       "      <td>2</td>\n",
       "      <td>0</td>\n",
       "      <td>7</td>\n",
       "      <td>8</td>\n",
       "      <td>6</td>\n",
       "      <td>1</td>\n",
       "      <td>1</td>\n",
       "      <td>1</td>\n",
       "    </tr>\n",
       "    <tr>\n",
       "      <th>2</th>\n",
       "      <td>50</td>\n",
       "      <td>0</td>\n",
       "      <td>2008</td>\n",
       "      <td>1.0</td>\n",
       "      <td>1.0</td>\n",
       "      <td>1.0</td>\n",
       "      <td>1.0</td>\n",
       "      <td>1.0</td>\n",
       "      <td>1.0</td>\n",
       "      <td>0.0</td>\n",
       "      <td>...</td>\n",
       "      <td>10</td>\n",
       "      <td>31</td>\n",
       "      <td>2</td>\n",
       "      <td>0</td>\n",
       "      <td>19</td>\n",
       "      <td>30</td>\n",
       "      <td>10</td>\n",
       "      <td>1</td>\n",
       "      <td>1</td>\n",
       "      <td>1</td>\n",
       "    </tr>\n",
       "    <tr>\n",
       "      <th>3</th>\n",
       "      <td>70</td>\n",
       "      <td>0</td>\n",
       "      <td>1398</td>\n",
       "      <td>2.0</td>\n",
       "      <td>1.0</td>\n",
       "      <td>2.0</td>\n",
       "      <td>1.0</td>\n",
       "      <td>0.0</td>\n",
       "      <td>0.0</td>\n",
       "      <td>2.0</td>\n",
       "      <td>...</td>\n",
       "      <td>10</td>\n",
       "      <td>20</td>\n",
       "      <td>2</td>\n",
       "      <td>0</td>\n",
       "      <td>12</td>\n",
       "      <td>15</td>\n",
       "      <td>6</td>\n",
       "      <td>1</td>\n",
       "      <td>1</td>\n",
       "      <td>1</td>\n",
       "    </tr>\n",
       "    <tr>\n",
       "      <th>4</th>\n",
       "      <td>79</td>\n",
       "      <td>0</td>\n",
       "      <td>1661</td>\n",
       "      <td>0.0</td>\n",
       "      <td>0.0</td>\n",
       "      <td>0.0</td>\n",
       "      <td>0.0</td>\n",
       "      <td>0.0</td>\n",
       "      <td>0.0</td>\n",
       "      <td>0.0</td>\n",
       "      <td>...</td>\n",
       "      <td>5</td>\n",
       "      <td>24</td>\n",
       "      <td>2</td>\n",
       "      <td>0</td>\n",
       "      <td>14</td>\n",
       "      <td>13</td>\n",
       "      <td>6</td>\n",
       "      <td>1</td>\n",
       "      <td>1</td>\n",
       "      <td>0</td>\n",
       "    </tr>\n",
       "    <tr>\n",
       "      <th>5</th>\n",
       "      <td>45</td>\n",
       "      <td>42</td>\n",
       "      <td>1800</td>\n",
       "      <td>5.0</td>\n",
       "      <td>3.0</td>\n",
       "      <td>5.0</td>\n",
       "      <td>3.0</td>\n",
       "      <td>1.0</td>\n",
       "      <td>1.0</td>\n",
       "      <td>4.0</td>\n",
       "      <td>...</td>\n",
       "      <td>10</td>\n",
       "      <td>24</td>\n",
       "      <td>2</td>\n",
       "      <td>0</td>\n",
       "      <td>9</td>\n",
       "      <td>28</td>\n",
       "      <td>7</td>\n",
       "      <td>1</td>\n",
       "      <td>1</td>\n",
       "      <td>1</td>\n",
       "    </tr>\n",
       "    <tr>\n",
       "      <th>6</th>\n",
       "      <td>54</td>\n",
       "      <td>42</td>\n",
       "      <td>2712</td>\n",
       "      <td>3.0</td>\n",
       "      <td>1.0</td>\n",
       "      <td>3.0</td>\n",
       "      <td>1.0</td>\n",
       "      <td>2.0</td>\n",
       "      <td>1.0</td>\n",
       "      <td>0.0</td>\n",
       "      <td>...</td>\n",
       "      <td>12</td>\n",
       "      <td>8</td>\n",
       "      <td>2</td>\n",
       "      <td>0</td>\n",
       "      <td>15</td>\n",
       "      <td>20</td>\n",
       "      <td>4</td>\n",
       "      <td>1</td>\n",
       "      <td>2</td>\n",
       "      <td>0</td>\n",
       "    </tr>\n",
       "    <tr>\n",
       "      <th>7</th>\n",
       "      <td>115</td>\n",
       "      <td>43</td>\n",
       "      <td>3411</td>\n",
       "      <td>0.0</td>\n",
       "      <td>0.0</td>\n",
       "      <td>0.0</td>\n",
       "      <td>0.0</td>\n",
       "      <td>0.0</td>\n",
       "      <td>0.0</td>\n",
       "      <td>0.0</td>\n",
       "      <td>...</td>\n",
       "      <td>8</td>\n",
       "      <td>25</td>\n",
       "      <td>2</td>\n",
       "      <td>0</td>\n",
       "      <td>11</td>\n",
       "      <td>12</td>\n",
       "      <td>2</td>\n",
       "      <td>1</td>\n",
       "      <td>1</td>\n",
       "      <td>0</td>\n",
       "    </tr>\n",
       "    <tr>\n",
       "      <th>8</th>\n",
       "      <td>7</td>\n",
       "      <td>164</td>\n",
       "      <td>1480</td>\n",
       "      <td>0.0</td>\n",
       "      <td>0.0</td>\n",
       "      <td>0.0</td>\n",
       "      <td>0.0</td>\n",
       "      <td>0.0</td>\n",
       "      <td>0.0</td>\n",
       "      <td>0.0</td>\n",
       "      <td>...</td>\n",
       "      <td>4</td>\n",
       "      <td>4</td>\n",
       "      <td>2</td>\n",
       "      <td>0</td>\n",
       "      <td>4</td>\n",
       "      <td>37</td>\n",
       "      <td>9</td>\n",
       "      <td>1</td>\n",
       "      <td>1</td>\n",
       "      <td>0</td>\n",
       "    </tr>\n",
       "    <tr>\n",
       "      <th>9</th>\n",
       "      <td>26</td>\n",
       "      <td>13</td>\n",
       "      <td>1400</td>\n",
       "      <td>1.0</td>\n",
       "      <td>1.0</td>\n",
       "      <td>1.0</td>\n",
       "      <td>1.0</td>\n",
       "      <td>1.0</td>\n",
       "      <td>1.0</td>\n",
       "      <td>0.0</td>\n",
       "      <td>...</td>\n",
       "      <td>4</td>\n",
       "      <td>21</td>\n",
       "      <td>2</td>\n",
       "      <td>0</td>\n",
       "      <td>3</td>\n",
       "      <td>3</td>\n",
       "      <td>3</td>\n",
       "      <td>1</td>\n",
       "      <td>18</td>\n",
       "      <td>1</td>\n",
       "    </tr>\n",
       "    <tr>\n",
       "      <th>10</th>\n",
       "      <td>13</td>\n",
       "      <td>36</td>\n",
       "      <td>4500</td>\n",
       "      <td>3.0</td>\n",
       "      <td>3.0</td>\n",
       "      <td>3.0</td>\n",
       "      <td>2.0</td>\n",
       "      <td>3.0</td>\n",
       "      <td>2.0</td>\n",
       "      <td>3.0</td>\n",
       "      <td>...</td>\n",
       "      <td>1</td>\n",
       "      <td>12</td>\n",
       "      <td>2</td>\n",
       "      <td>0</td>\n",
       "      <td>1</td>\n",
       "      <td>28</td>\n",
       "      <td>16</td>\n",
       "      <td>6</td>\n",
       "      <td>1</td>\n",
       "      <td>0</td>\n",
       "    </tr>\n",
       "    <tr>\n",
       "      <th>11</th>\n",
       "      <td>613</td>\n",
       "      <td>65</td>\n",
       "      <td>5000</td>\n",
       "      <td>0.0</td>\n",
       "      <td>0.0</td>\n",
       "      <td>0.0</td>\n",
       "      <td>0.0</td>\n",
       "      <td>0.0</td>\n",
       "      <td>0.0</td>\n",
       "      <td>1.0</td>\n",
       "      <td>...</td>\n",
       "      <td>10</td>\n",
       "      <td>4</td>\n",
       "      <td>2</td>\n",
       "      <td>0</td>\n",
       "      <td>17</td>\n",
       "      <td>19</td>\n",
       "      <td>9</td>\n",
       "      <td>1</td>\n",
       "      <td>1</td>\n",
       "      <td>0</td>\n",
       "    </tr>\n",
       "    <tr>\n",
       "      <th>12</th>\n",
       "      <td>181</td>\n",
       "      <td>205</td>\n",
       "      <td>5425</td>\n",
       "      <td>0.0</td>\n",
       "      <td>0.0</td>\n",
       "      <td>0.0</td>\n",
       "      <td>0.0</td>\n",
       "      <td>0.0</td>\n",
       "      <td>0.0</td>\n",
       "      <td>0.0</td>\n",
       "      <td>...</td>\n",
       "      <td>9</td>\n",
       "      <td>12</td>\n",
       "      <td>2</td>\n",
       "      <td>0</td>\n",
       "      <td>4</td>\n",
       "      <td>4</td>\n",
       "      <td>3</td>\n",
       "      <td>1</td>\n",
       "      <td>1</td>\n",
       "      <td>0</td>\n",
       "    </tr>\n",
       "    <tr>\n",
       "      <th>13</th>\n",
       "      <td>132</td>\n",
       "      <td>11</td>\n",
       "      <td>4528</td>\n",
       "      <td>1.0</td>\n",
       "      <td>1.0</td>\n",
       "      <td>1.0</td>\n",
       "      <td>1.0</td>\n",
       "      <td>0.0</td>\n",
       "      <td>0.0</td>\n",
       "      <td>0.0</td>\n",
       "      <td>...</td>\n",
       "      <td>6</td>\n",
       "      <td>21</td>\n",
       "      <td>2</td>\n",
       "      <td>0</td>\n",
       "      <td>19</td>\n",
       "      <td>0</td>\n",
       "      <td>11</td>\n",
       "      <td>1</td>\n",
       "      <td>1</td>\n",
       "      <td>1</td>\n",
       "    </tr>\n",
       "    <tr>\n",
       "      <th>14</th>\n",
       "      <td>6</td>\n",
       "      <td>144</td>\n",
       "      <td>4800</td>\n",
       "      <td>0.0</td>\n",
       "      <td>0.0</td>\n",
       "      <td>0.0</td>\n",
       "      <td>0.0</td>\n",
       "      <td>0.0</td>\n",
       "      <td>0.0</td>\n",
       "      <td>0.0</td>\n",
       "      <td>...</td>\n",
       "      <td>9</td>\n",
       "      <td>16</td>\n",
       "      <td>2</td>\n",
       "      <td>0</td>\n",
       "      <td>0</td>\n",
       "      <td>19</td>\n",
       "      <td>7</td>\n",
       "      <td>1</td>\n",
       "      <td>1</td>\n",
       "      <td>1</td>\n",
       "    </tr>\n",
       "    <tr>\n",
       "      <th>15</th>\n",
       "      <td>12</td>\n",
       "      <td>6</td>\n",
       "      <td>1600</td>\n",
       "      <td>1.0</td>\n",
       "      <td>1.0</td>\n",
       "      <td>1.0</td>\n",
       "      <td>1.0</td>\n",
       "      <td>1.0</td>\n",
       "      <td>1.0</td>\n",
       "      <td>0.0</td>\n",
       "      <td>...</td>\n",
       "      <td>10</td>\n",
       "      <td>30</td>\n",
       "      <td>2</td>\n",
       "      <td>0</td>\n",
       "      <td>13</td>\n",
       "      <td>16</td>\n",
       "      <td>6</td>\n",
       "      <td>1</td>\n",
       "      <td>1</td>\n",
       "      <td>1</td>\n",
       "    </tr>\n",
       "    <tr>\n",
       "      <th>16</th>\n",
       "      <td>24</td>\n",
       "      <td>48</td>\n",
       "      <td>1171</td>\n",
       "      <td>0.0</td>\n",
       "      <td>0.0</td>\n",
       "      <td>0.0</td>\n",
       "      <td>0.0</td>\n",
       "      <td>0.0</td>\n",
       "      <td>0.0</td>\n",
       "      <td>0.0</td>\n",
       "      <td>...</td>\n",
       "      <td>11</td>\n",
       "      <td>29</td>\n",
       "      <td>2</td>\n",
       "      <td>0</td>\n",
       "      <td>14</td>\n",
       "      <td>13</td>\n",
       "      <td>6</td>\n",
       "      <td>1</td>\n",
       "      <td>1</td>\n",
       "      <td>1</td>\n",
       "    </tr>\n",
       "    <tr>\n",
       "      <th>17</th>\n",
       "      <td>84</td>\n",
       "      <td>18</td>\n",
       "      <td>4368</td>\n",
       "      <td>0.0</td>\n",
       "      <td>0.0</td>\n",
       "      <td>0.0</td>\n",
       "      <td>0.0</td>\n",
       "      <td>0.0</td>\n",
       "      <td>0.0</td>\n",
       "      <td>2.0</td>\n",
       "      <td>...</td>\n",
       "      <td>12</td>\n",
       "      <td>2</td>\n",
       "      <td>2</td>\n",
       "      <td>0</td>\n",
       "      <td>6</td>\n",
       "      <td>10</td>\n",
       "      <td>4</td>\n",
       "      <td>1</td>\n",
       "      <td>1</td>\n",
       "      <td>1</td>\n",
       "    </tr>\n",
       "    <tr>\n",
       "      <th>18</th>\n",
       "      <td>60</td>\n",
       "      <td>137</td>\n",
       "      <td>1800</td>\n",
       "      <td>1.0</td>\n",
       "      <td>1.0</td>\n",
       "      <td>1.0</td>\n",
       "      <td>1.0</td>\n",
       "      <td>1.0</td>\n",
       "      <td>1.0</td>\n",
       "      <td>0.0</td>\n",
       "      <td>...</td>\n",
       "      <td>11</td>\n",
       "      <td>28</td>\n",
       "      <td>2</td>\n",
       "      <td>0</td>\n",
       "      <td>21</td>\n",
       "      <td>18</td>\n",
       "      <td>11</td>\n",
       "      <td>1</td>\n",
       "      <td>1</td>\n",
       "      <td>1</td>\n",
       "    </tr>\n",
       "    <tr>\n",
       "      <th>19</th>\n",
       "      <td>41</td>\n",
       "      <td>27</td>\n",
       "      <td>4978</td>\n",
       "      <td>0.0</td>\n",
       "      <td>0.0</td>\n",
       "      <td>0.0</td>\n",
       "      <td>0.0</td>\n",
       "      <td>0.0</td>\n",
       "      <td>0.0</td>\n",
       "      <td>0.0</td>\n",
       "      <td>...</td>\n",
       "      <td>11</td>\n",
       "      <td>4</td>\n",
       "      <td>2</td>\n",
       "      <td>0</td>\n",
       "      <td>1</td>\n",
       "      <td>6</td>\n",
       "      <td>20</td>\n",
       "      <td>1</td>\n",
       "      <td>1</td>\n",
       "      <td>1</td>\n",
       "    </tr>\n",
       "  </tbody>\n",
       "</table>\n",
       "<p>20 rows × 1871 columns</p>\n",
       "</div>"
      ],
      "text/plain": [
       "    VAR_0002  VAR_0003  VAR_0004  VAR_0006  VAR_0007  VAR_0013  VAR_0014  \\\n",
       "0        120       216      4936       0.0       0.0       0.0       0.0   \n",
       "1        127        62      1300      10.0       4.0      10.0       4.0   \n",
       "2         50         0      2008       1.0       1.0       1.0       1.0   \n",
       "3         70         0      1398       2.0       1.0       2.0       1.0   \n",
       "4         79         0      1661       0.0       0.0       0.0       0.0   \n",
       "5         45        42      1800       5.0       3.0       5.0       3.0   \n",
       "6         54        42      2712       3.0       1.0       3.0       1.0   \n",
       "7        115        43      3411       0.0       0.0       0.0       0.0   \n",
       "8          7       164      1480       0.0       0.0       0.0       0.0   \n",
       "9         26        13      1400       1.0       1.0       1.0       1.0   \n",
       "10        13        36      4500       3.0       3.0       3.0       2.0   \n",
       "11       613        65      5000       0.0       0.0       0.0       0.0   \n",
       "12       181       205      5425       0.0       0.0       0.0       0.0   \n",
       "13       132        11      4528       1.0       1.0       1.0       1.0   \n",
       "14         6       144      4800       0.0       0.0       0.0       0.0   \n",
       "15        12         6      1600       1.0       1.0       1.0       1.0   \n",
       "16        24        48      1171       0.0       0.0       0.0       0.0   \n",
       "17        84        18      4368       0.0       0.0       0.0       0.0   \n",
       "18        60       137      1800       1.0       1.0       1.0       1.0   \n",
       "19        41        27      4978       0.0       0.0       0.0       0.0   \n",
       "\n",
       "    VAR_0034  VAR_0035  VAR_0050  ...  VAR_0217_month  VAR_0217_day  \\\n",
       "0        0.0       0.0       0.0  ...               1            10   \n",
       "1       12.0       7.0       3.0  ...               2             2   \n",
       "2        1.0       1.0       0.0  ...              10            31   \n",
       "3        0.0       0.0       2.0  ...              10            20   \n",
       "4        0.0       0.0       0.0  ...               5            24   \n",
       "5        1.0       1.0       4.0  ...              10            24   \n",
       "6        2.0       1.0       0.0  ...              12             8   \n",
       "7        0.0       0.0       0.0  ...               8            25   \n",
       "8        0.0       0.0       0.0  ...               4             4   \n",
       "9        1.0       1.0       0.0  ...               4            21   \n",
       "10       3.0       2.0       3.0  ...               1            12   \n",
       "11       0.0       0.0       1.0  ...              10             4   \n",
       "12       0.0       0.0       0.0  ...               9            12   \n",
       "13       0.0       0.0       0.0  ...               6            21   \n",
       "14       0.0       0.0       0.0  ...               9            16   \n",
       "15       1.0       1.0       0.0  ...              10            30   \n",
       "16       0.0       0.0       0.0  ...              11            29   \n",
       "17       0.0       0.0       2.0  ...              12             2   \n",
       "18       1.0       1.0       0.0  ...              11            28   \n",
       "19       0.0       0.0       0.0  ...              11             4   \n",
       "\n",
       "    VAR_0217_hour  VAR_0217_minute  VAR_0237  VAR_0274  VAR_0342  VAR_0404  \\\n",
       "0               2                0         1         6        12         1   \n",
       "1               2                0         7         8         6         1   \n",
       "2               2                0        19        30        10         1   \n",
       "3               2                0        12        15         6         1   \n",
       "4               2                0        14        13         6         1   \n",
       "5               2                0         9        28         7         1   \n",
       "6               2                0        15        20         4         1   \n",
       "7               2                0        11        12         2         1   \n",
       "8               2                0         4        37         9         1   \n",
       "9               2                0         3         3         3         1   \n",
       "10              2                0         1        28        16         6   \n",
       "11              2                0        17        19         9         1   \n",
       "12              2                0         4         4         3         1   \n",
       "13              2                0        19         0        11         1   \n",
       "14              2                0         0        19         7         1   \n",
       "15              2                0        13        16         6         1   \n",
       "16              2                0        14        13         6         1   \n",
       "17              2                0         6        10         4         1   \n",
       "18              2                0        21        18        11         1   \n",
       "19              2                0         1         6        20         1   \n",
       "\n",
       "    VAR_0493  target  \n",
       "0          1       0  \n",
       "1          1       1  \n",
       "2          1       1  \n",
       "3          1       1  \n",
       "4          1       0  \n",
       "5          1       1  \n",
       "6          2       0  \n",
       "7          1       0  \n",
       "8          1       0  \n",
       "9         18       1  \n",
       "10         1       0  \n",
       "11         1       0  \n",
       "12         1       0  \n",
       "13         1       1  \n",
       "14         1       1  \n",
       "15         1       1  \n",
       "16         1       1  \n",
       "17         1       1  \n",
       "18         1       1  \n",
       "19         1       1  \n",
       "\n",
       "[20 rows x 1871 columns]"
      ]
     },
     "execution_count": 42,
     "metadata": {},
     "output_type": "execute_result"
    }
   ],
   "source": [
    "num_samples = 500 # number of samples to use from each class of target for dimensionality reduction, reduce this if you are impatient!\n",
    "numerical_feats = X_train[num_cols_mean]\n",
    "new_data = pd.concat([numerical_feats, enc_data], axis=1)\n",
    "positive_samples = new_data[new_data['target'] == 1].sample(num_samples)\n",
    "negative_samples = new_data[new_data['target'] == 0].sample(num_samples)\n",
    "to_transform = pd.concat([positive_samples, negative_samples]).sample(frac=1).reset_index(drop=True)\n",
    "to_transform.head(20)"
   ]
  },
  {
   "cell_type": "code",
   "execution_count": 43,
   "metadata": {},
   "outputs": [],
   "source": [
    "features = to_transform.drop(['target'], axis=1, inplace=False)\n",
    "labels = to_transform['target']"
   ]
  },
  {
   "cell_type": "code",
   "execution_count": 44,
   "metadata": {},
   "outputs": [
    {
     "ename": "ValueError",
     "evalue": "Input contains NaN, infinity or a value too large for dtype('float64').",
     "output_type": "error",
     "traceback": [
      "\u001b[1;31m---------------------------------------------------------------------------\u001b[0m",
      "\u001b[1;31mValueError\u001b[0m                                Traceback (most recent call last)",
      "\u001b[1;32m<ipython-input-44-f9b7fb3a8c42>\u001b[0m in \u001b[0;36m<module>\u001b[1;34m\u001b[0m\n\u001b[0;32m      1\u001b[0m \u001b[0mpca_embedding\u001b[0m \u001b[1;33m=\u001b[0m  \u001b[0mPCA\u001b[0m\u001b[1;33m(\u001b[0m\u001b[0mn_components\u001b[0m\u001b[1;33m=\u001b[0m\u001b[1;36m2\u001b[0m\u001b[1;33m)\u001b[0m\u001b[1;33m\u001b[0m\u001b[1;33m\u001b[0m\u001b[0m\n\u001b[1;32m----> 2\u001b[1;33m \u001b[0mpca_emb_data\u001b[0m \u001b[1;33m=\u001b[0m \u001b[0mpca_embedding\u001b[0m\u001b[1;33m.\u001b[0m\u001b[0mfit_transform\u001b[0m\u001b[1;33m(\u001b[0m\u001b[0mfeatures\u001b[0m\u001b[1;33m.\u001b[0m\u001b[0mvalues\u001b[0m\u001b[1;33m)\u001b[0m\u001b[1;33m\u001b[0m\u001b[1;33m\u001b[0m\u001b[0m\n\u001b[0m\u001b[0;32m      3\u001b[0m \u001b[0mplt\u001b[0m\u001b[1;33m.\u001b[0m\u001b[0mfigure\u001b[0m\u001b[1;33m(\u001b[0m\u001b[0mfigsize\u001b[0m\u001b[1;33m=\u001b[0m\u001b[1;33m(\u001b[0m\u001b[1;36m15\u001b[0m\u001b[1;33m,\u001b[0m\u001b[1;36m15\u001b[0m\u001b[1;33m)\u001b[0m\u001b[1;33m)\u001b[0m\u001b[1;33m\u001b[0m\u001b[1;33m\u001b[0m\u001b[0m\n\u001b[0;32m      4\u001b[0m \u001b[0mplt\u001b[0m\u001b[1;33m.\u001b[0m\u001b[0mscatter\u001b[0m\u001b[1;33m(\u001b[0m\u001b[0mpca_emb_data\u001b[0m\u001b[1;33m[\u001b[0m\u001b[0mlabels\u001b[0m \u001b[1;33m==\u001b[0m \u001b[1;36m1\u001b[0m\u001b[1;33m,\u001b[0m \u001b[1;36m0\u001b[0m\u001b[1;33m]\u001b[0m\u001b[1;33m,\u001b[0m \u001b[0mpca_emb_data\u001b[0m\u001b[1;33m[\u001b[0m\u001b[0mlabels\u001b[0m \u001b[1;33m==\u001b[0m \u001b[1;36m1\u001b[0m\u001b[1;33m,\u001b[0m \u001b[1;36m1\u001b[0m\u001b[1;33m]\u001b[0m\u001b[1;33m,\u001b[0m \u001b[0mcolor\u001b[0m\u001b[1;33m=\u001b[0m\u001b[1;34m'red'\u001b[0m\u001b[1;33m,\u001b[0m \u001b[0mlabel\u001b[0m\u001b[1;33m=\u001b[0m\u001b[1;34m'positive samples'\u001b[0m\u001b[1;33m)\u001b[0m\u001b[1;33m\u001b[0m\u001b[1;33m\u001b[0m\u001b[0m\n\u001b[0;32m      5\u001b[0m \u001b[0mplt\u001b[0m\u001b[1;33m.\u001b[0m\u001b[0mscatter\u001b[0m\u001b[1;33m(\u001b[0m\u001b[0mpca_emb_data\u001b[0m\u001b[1;33m[\u001b[0m\u001b[0mlabels\u001b[0m \u001b[1;33m==\u001b[0m \u001b[1;36m0\u001b[0m\u001b[1;33m,\u001b[0m \u001b[1;36m0\u001b[0m\u001b[1;33m]\u001b[0m\u001b[1;33m,\u001b[0m \u001b[0mpca_emb_data\u001b[0m\u001b[1;33m[\u001b[0m\u001b[0mlabels\u001b[0m \u001b[1;33m==\u001b[0m \u001b[1;36m0\u001b[0m\u001b[1;33m,\u001b[0m \u001b[1;36m1\u001b[0m\u001b[1;33m]\u001b[0m\u001b[1;33m,\u001b[0m \u001b[0mcolor\u001b[0m\u001b[1;33m=\u001b[0m\u001b[1;34m'blue'\u001b[0m\u001b[1;33m,\u001b[0m \u001b[0mlabel\u001b[0m\u001b[1;33m=\u001b[0m\u001b[1;34m'negative samples'\u001b[0m\u001b[1;33m)\u001b[0m\u001b[1;33m\u001b[0m\u001b[1;33m\u001b[0m\u001b[0m\n",
      "\u001b[1;32m~\\anaconda3\\lib\\site-packages\\sklearn\\decomposition\\_pca.py\u001b[0m in \u001b[0;36mfit_transform\u001b[1;34m(self, X, y)\u001b[0m\n\u001b[0;32m    374\u001b[0m         \u001b[0mC\u001b[0m\u001b[1;33m-\u001b[0m\u001b[0mordered\u001b[0m \u001b[0marray\u001b[0m\u001b[1;33m,\u001b[0m \u001b[0muse\u001b[0m \u001b[1;34m'np.ascontiguousarray'\u001b[0m\u001b[1;33m.\u001b[0m\u001b[1;33m\u001b[0m\u001b[1;33m\u001b[0m\u001b[0m\n\u001b[0;32m    375\u001b[0m         \"\"\"\n\u001b[1;32m--> 376\u001b[1;33m         \u001b[0mU\u001b[0m\u001b[1;33m,\u001b[0m \u001b[0mS\u001b[0m\u001b[1;33m,\u001b[0m \u001b[0mVt\u001b[0m \u001b[1;33m=\u001b[0m \u001b[0mself\u001b[0m\u001b[1;33m.\u001b[0m\u001b[0m_fit\u001b[0m\u001b[1;33m(\u001b[0m\u001b[0mX\u001b[0m\u001b[1;33m)\u001b[0m\u001b[1;33m\u001b[0m\u001b[1;33m\u001b[0m\u001b[0m\n\u001b[0m\u001b[0;32m    377\u001b[0m         \u001b[0mU\u001b[0m \u001b[1;33m=\u001b[0m \u001b[0mU\u001b[0m\u001b[1;33m[\u001b[0m\u001b[1;33m:\u001b[0m\u001b[1;33m,\u001b[0m \u001b[1;33m:\u001b[0m\u001b[0mself\u001b[0m\u001b[1;33m.\u001b[0m\u001b[0mn_components_\u001b[0m\u001b[1;33m]\u001b[0m\u001b[1;33m\u001b[0m\u001b[1;33m\u001b[0m\u001b[0m\n\u001b[0;32m    378\u001b[0m \u001b[1;33m\u001b[0m\u001b[0m\n",
      "\u001b[1;32m~\\anaconda3\\lib\\site-packages\\sklearn\\decomposition\\_pca.py\u001b[0m in \u001b[0;36m_fit\u001b[1;34m(self, X)\u001b[0m\n\u001b[0;32m    395\u001b[0m                             'TruncatedSVD for a possible alternative.')\n\u001b[0;32m    396\u001b[0m \u001b[1;33m\u001b[0m\u001b[0m\n\u001b[1;32m--> 397\u001b[1;33m         X = self._validate_data(X, dtype=[np.float64, np.float32],\n\u001b[0m\u001b[0;32m    398\u001b[0m                                 ensure_2d=True, copy=self.copy)\n\u001b[0;32m    399\u001b[0m \u001b[1;33m\u001b[0m\u001b[0m\n",
      "\u001b[1;32m~\\anaconda3\\lib\\site-packages\\sklearn\\base.py\u001b[0m in \u001b[0;36m_validate_data\u001b[1;34m(self, X, y, reset, validate_separately, **check_params)\u001b[0m\n\u001b[0;32m    419\u001b[0m             \u001b[0mout\u001b[0m \u001b[1;33m=\u001b[0m \u001b[0mX\u001b[0m\u001b[1;33m\u001b[0m\u001b[1;33m\u001b[0m\u001b[0m\n\u001b[0;32m    420\u001b[0m         \u001b[1;32melif\u001b[0m \u001b[0misinstance\u001b[0m\u001b[1;33m(\u001b[0m\u001b[0my\u001b[0m\u001b[1;33m,\u001b[0m \u001b[0mstr\u001b[0m\u001b[1;33m)\u001b[0m \u001b[1;32mand\u001b[0m \u001b[0my\u001b[0m \u001b[1;33m==\u001b[0m \u001b[1;34m'no_validation'\u001b[0m\u001b[1;33m:\u001b[0m\u001b[1;33m\u001b[0m\u001b[1;33m\u001b[0m\u001b[0m\n\u001b[1;32m--> 421\u001b[1;33m             \u001b[0mX\u001b[0m \u001b[1;33m=\u001b[0m \u001b[0mcheck_array\u001b[0m\u001b[1;33m(\u001b[0m\u001b[0mX\u001b[0m\u001b[1;33m,\u001b[0m \u001b[1;33m**\u001b[0m\u001b[0mcheck_params\u001b[0m\u001b[1;33m)\u001b[0m\u001b[1;33m\u001b[0m\u001b[1;33m\u001b[0m\u001b[0m\n\u001b[0m\u001b[0;32m    422\u001b[0m             \u001b[0mout\u001b[0m \u001b[1;33m=\u001b[0m \u001b[0mX\u001b[0m\u001b[1;33m\u001b[0m\u001b[1;33m\u001b[0m\u001b[0m\n\u001b[0;32m    423\u001b[0m         \u001b[1;32melse\u001b[0m\u001b[1;33m:\u001b[0m\u001b[1;33m\u001b[0m\u001b[1;33m\u001b[0m\u001b[0m\n",
      "\u001b[1;32m~\\anaconda3\\lib\\site-packages\\sklearn\\utils\\validation.py\u001b[0m in \u001b[0;36minner_f\u001b[1;34m(*args, **kwargs)\u001b[0m\n\u001b[0;32m     61\u001b[0m             \u001b[0mextra_args\u001b[0m \u001b[1;33m=\u001b[0m \u001b[0mlen\u001b[0m\u001b[1;33m(\u001b[0m\u001b[0margs\u001b[0m\u001b[1;33m)\u001b[0m \u001b[1;33m-\u001b[0m \u001b[0mlen\u001b[0m\u001b[1;33m(\u001b[0m\u001b[0mall_args\u001b[0m\u001b[1;33m)\u001b[0m\u001b[1;33m\u001b[0m\u001b[1;33m\u001b[0m\u001b[0m\n\u001b[0;32m     62\u001b[0m             \u001b[1;32mif\u001b[0m \u001b[0mextra_args\u001b[0m \u001b[1;33m<=\u001b[0m \u001b[1;36m0\u001b[0m\u001b[1;33m:\u001b[0m\u001b[1;33m\u001b[0m\u001b[1;33m\u001b[0m\u001b[0m\n\u001b[1;32m---> 63\u001b[1;33m                 \u001b[1;32mreturn\u001b[0m \u001b[0mf\u001b[0m\u001b[1;33m(\u001b[0m\u001b[1;33m*\u001b[0m\u001b[0margs\u001b[0m\u001b[1;33m,\u001b[0m \u001b[1;33m**\u001b[0m\u001b[0mkwargs\u001b[0m\u001b[1;33m)\u001b[0m\u001b[1;33m\u001b[0m\u001b[1;33m\u001b[0m\u001b[0m\n\u001b[0m\u001b[0;32m     64\u001b[0m \u001b[1;33m\u001b[0m\u001b[0m\n\u001b[0;32m     65\u001b[0m             \u001b[1;31m# extra_args > 0\u001b[0m\u001b[1;33m\u001b[0m\u001b[1;33m\u001b[0m\u001b[1;33m\u001b[0m\u001b[0m\n",
      "\u001b[1;32m~\\anaconda3\\lib\\site-packages\\sklearn\\utils\\validation.py\u001b[0m in \u001b[0;36mcheck_array\u001b[1;34m(array, accept_sparse, accept_large_sparse, dtype, order, copy, force_all_finite, ensure_2d, allow_nd, ensure_min_samples, ensure_min_features, estimator)\u001b[0m\n\u001b[0;32m    661\u001b[0m \u001b[1;33m\u001b[0m\u001b[0m\n\u001b[0;32m    662\u001b[0m         \u001b[1;32mif\u001b[0m \u001b[0mforce_all_finite\u001b[0m\u001b[1;33m:\u001b[0m\u001b[1;33m\u001b[0m\u001b[1;33m\u001b[0m\u001b[0m\n\u001b[1;32m--> 663\u001b[1;33m             _assert_all_finite(array,\n\u001b[0m\u001b[0;32m    664\u001b[0m                                allow_nan=force_all_finite == 'allow-nan')\n\u001b[0;32m    665\u001b[0m \u001b[1;33m\u001b[0m\u001b[0m\n",
      "\u001b[1;32m~\\anaconda3\\lib\\site-packages\\sklearn\\utils\\validation.py\u001b[0m in \u001b[0;36m_assert_all_finite\u001b[1;34m(X, allow_nan, msg_dtype)\u001b[0m\n\u001b[0;32m    101\u001b[0m                 not allow_nan and not np.isfinite(X).all()):\n\u001b[0;32m    102\u001b[0m             \u001b[0mtype_err\u001b[0m \u001b[1;33m=\u001b[0m \u001b[1;34m'infinity'\u001b[0m \u001b[1;32mif\u001b[0m \u001b[0mallow_nan\u001b[0m \u001b[1;32melse\u001b[0m \u001b[1;34m'NaN, infinity'\u001b[0m\u001b[1;33m\u001b[0m\u001b[1;33m\u001b[0m\u001b[0m\n\u001b[1;32m--> 103\u001b[1;33m             raise ValueError(\n\u001b[0m\u001b[0;32m    104\u001b[0m                     \u001b[0mmsg_err\u001b[0m\u001b[1;33m.\u001b[0m\u001b[0mformat\u001b[0m\u001b[1;33m\u001b[0m\u001b[1;33m\u001b[0m\u001b[0m\n\u001b[0;32m    105\u001b[0m                     (type_err,\n",
      "\u001b[1;31mValueError\u001b[0m: Input contains NaN, infinity or a value too large for dtype('float64')."
     ]
    }
   ],
   "source": [
    "pca_embedding =  PCA(n_components=2) \n",
    "pca_emb_data = pca_embedding.fit_transform(features.values)\n",
    "plt.figure(figsize=(15,15))\n",
    "plt.scatter(pca_emb_data[labels == 1, 0], pca_emb_data[labels == 1, 1], color='red', label='positive samples')\n",
    "plt.scatter(pca_emb_data[labels == 0, 0], pca_emb_data[labels == 0, 1], color='blue', label='negative samples')\n",
    "plt.legend()"
   ]
  },
  {
   "cell_type": "code",
   "execution_count": null,
   "metadata": {},
   "outputs": [],
   "source": [
    "tsne_embedding =  TSNE(n_components=2) \n",
    "tsne_emb_data = tsne_embedding.fit_transform(features.values)\n",
    "plt.figure(figsize=(15,15))\n",
    "plt.title('Reduced data with tSNE')\n",
    "plt.scatter(tsne_emb_data[labels == 1, 0], tsne_emb_data[labels == 1, 1], color='red', label='positive samples')\n",
    "plt.scatter(tsne_emb_data[labels == 0, 0], tsne_emb_data[labels == 0, 1], color='blue', label='negative samples')\n",
    "plt.legend()"
   ]
  },
  {
   "cell_type": "code",
   "execution_count": null,
   "metadata": {},
   "outputs": [],
   "source": [
    "from sklearn.preprocessing import StandardScaler\n",
    "\n",
    "ss = StandardScaler()\n",
    "ss.fit_transform(X_train[num_cols_mean])\n",
    "a= ss.transform(X_train[num_cols_mean])"
   ]
  },
  {
   "cell_type": "code",
   "execution_count": null,
   "metadata": {},
   "outputs": [],
   "source": [
    "from sklearn.preprocessing import OneHotEncoder as onehot\n",
    "\n",
    "ohe = onehot(sparse = False)\n",
    "b=ohe.fit_transform(X_train[cat_cols_mf])"
   ]
  },
  {
   "cell_type": "code",
   "execution_count": null,
   "metadata": {},
   "outputs": [],
   "source": [
    "X = np.hstack([a,b]) #Let X be the new dataframe"
   ]
  },
  {
   "cell_type": "code",
   "execution_count": null,
   "metadata": {},
   "outputs": [],
   "source": [
    "X_train,X_test, y_train, y_test = train_test_split(\n",
    "                                                    X,                   # Data features\n",
    "                                                    Target,                   # Target column\n",
    "                                                    test_size = 0.2, random_state = 100     # split-ratio\n",
    "                                                    )"
   ]
  },
  {
   "cell_type": "code",
   "execution_count": null,
   "metadata": {},
   "outputs": [],
   "source": [
    "# For imbalanced dataset:\n",
    "sm = SMOTE(random_state = 3)\n",
    "X_train_res, y_train_res = sm.fit_resample(X_train, y_train)\n",
    "  \n",
    "print('X_train shape after oversampling: {}'.format(X_train_res.shape))\n",
    "print('Y_train shape after oversampling: {} \\n'.format(y_train_res.shape))\n",
    "  \n",
    "print(\"After OverSampling, counts of label '1': {}\".format(sum(y_train_res == 1)))\n",
    "print(\"After OverSampling, counts of label '0': {}\".format(sum(y_train_res == 0)))"
   ]
  },
  {
   "cell_type": "code",
   "execution_count": null,
   "metadata": {},
   "outputs": [],
   "source": [
    "from sklearn.tree import DecisionTreeClassifier\n",
    "from sklearn.metrics import confusion_matrix, classification_report\n",
    "from sklearn import tree\n",
    "dt = DecisionTreeClassifier(criterion = 'entropy',random_state = 0,max_depth=5)\n",
    "dt.fit(X_train_res,y_train_res)\n",
    "y_prediction = dt.predict(X_test)\n",
    "print(classification_report(y_test, y_prediction))"
   ]
  },
  {
   "cell_type": "code",
   "execution_count": null,
   "metadata": {},
   "outputs": [],
   "source": [
    "from sklearn.datasets import make_classification\n",
    "from sklearn.ensemble import RandomForestClassifier\n",
    "model_rf = RandomForestClassifier()\n",
    "model_rf.fit(X_train_res, y_train_res)\n",
    "y_predicted = model_rf.predict(X_test)\n",
    "print(classification_report(y_test, y_predicted))"
   ]
  },
  {
   "cell_type": "code",
   "execution_count": null,
   "metadata": {},
   "outputs": [],
   "source": [
    "from sklearn.linear_model import LogisticRegression\n",
    "from sklearn.metrics import confusion_matrix, classification_report\n",
    "\n",
    "classifier = LogisticRegression(random_state = 0)\n",
    "classifier.fit(X_train_res, y_train_res)\n",
    "y_pred = classifier.predict(X_test)\n",
    "\n",
    "print(classification_report(y_test, y_pred))"
   ]
  }
 ],
 "metadata": {
  "kernelspec": {
   "display_name": "Python 3",
   "language": "python",
   "name": "python3"
  },
  "language_info": {
   "codemirror_mode": {
    "name": "ipython",
    "version": 3
   },
   "file_extension": ".py",
   "mimetype": "text/x-python",
   "name": "python",
   "nbconvert_exporter": "python",
   "pygments_lexer": "ipython3",
   "version": "3.8.8"
  }
 },
 "nbformat": 4,
 "nbformat_minor": 4
}
